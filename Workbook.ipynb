{
 "cells": [
  {
   "cell_type": "code",
   "execution_count": null,
   "id": "f71ad354-9fba-48d2-a1ec-23971bd9cc06",
   "metadata": {},
   "outputs": [],
   "source": [
    "# \"Mechanical sympathy\""
   ]
  },
  {
   "cell_type": "markdown",
   "id": "b067c6a9-fd52-46c1-9791-90060da74347",
   "metadata": {},
   "source": [
    "# Important things about Python\n",
    "* everything in Python is an object\n",
    "* built-in functions don't change the objects that are passed to them (e.g., sorted())\n",
    "  * if you want to change an object you must invoke a method on that object (e.g., list.sort())\n",
    "  * not all methods change an object (e.g., list.count())\n",
    "* Python is dynamically typed\n",
    "  * variables are not restricted in their type, so we can put some different type object into them\n",
    "  * you do not have to declare a variable before using it\n",
    "  * this is both a good and a bad\n",
    "* It's...\n",
    "  * old (1991)\n",
    "  * Guido van Rossum used to be the BDFL\n",
    "  * it's raison d'être is to manipulate text/strings/files/data\n",
    "  * it's a terrible language for numerics\n",
    "* containers vs. simple variables\n",
    "  * containers: str, list\n",
    "  * simple variables: int, float, bool, str\n",
    "* mutable vs. immutable objects\n",
    "  * immutable: str\n",
    "  * mutable: list\n",
    "* Python practices \"truthiness\"\n",
    "  * we are allowed to use non-Boolean expressions in a Boolean context\n",
    "    * 0 and 0.0 are considered False\n",
    "    * non-zero numbers are considered True\n",
    "    * empty containers are False; non-empty containers are True\n",
    "* \"Pythonic\"\n",
    "  * converting from one type to another, especially to make an object easier to work with \n",
    "* when coding a problem, introspect into your brain to understand how YOU solve the problem, but...\n",
    "  * sometimes you skip a step in your brain that Python can't skip\n",
    "  * corollary: you often combine steps or perform operations that are difficult to enumerate\n",
    "  * it's hard to do but very important"
   ]
  },
  {
   "cell_type": "code",
   "execution_count": null,
   "id": "ee3728c1-b0ca-4cff-acd2-3ab401c3771d",
   "metadata": {},
   "outputs": [],
   "source": []
  },
  {
   "cell_type": "markdown",
   "id": "606aaf88-3b35-4b07-a0a7-835a9b3deeca",
   "metadata": {},
   "source": [
    "# Important things about learning/teaching\n",
    "* know when to zoom in and zoom out\n",
    "  * don't go/go down the rabbit hole"
   ]
  },
  {
   "cell_type": "markdown",
   "id": "ca3e75e1",
   "metadata": {},
   "source": [
    "# Programming Stuff\n",
    "* Hal Abelson: \"Code is written for others to read and only incidentally for the computer to execute.\"\n",
    "* Eagleson's Law: \"Any code you wrote more than 6 months ago might as well have been written by somebody else.\"\n",
    "* cost_per_ounce, weight, quanity are much better variable names than cpo, w, and qty.\n",
    "* more important tham math are these qualities to make a good programmer:\n",
    "  * problem-solving skills / logical thinking\n",
    "  * stick-to-itiveness\n",
    "  * attention to detail\n",
    "* DRY = Don't Repeat Yourself\n",
    "* \"Premature optimization is the root of all evil (or at least most of it)\" –Donald Knuth\n",
    "* \"Efficiency doesn't matter until matters and it rarely matters.\" –DWS"
   ]
  },
  {
   "cell_type": "code",
   "execution_count": 1,
   "id": "9f769788-cb2f-45dd-9333-8fc84e88dd17",
   "metadata": {},
   "outputs": [
    {
     "name": "stdout",
     "output_type": "stream",
     "text": [
      "1 2 3\n"
     ]
    }
   ],
   "source": [
    "print(1, 2, 3)"
   ]
  },
  {
   "cell_type": "code",
   "execution_count": 2,
   "id": "bcd7fb38-0c1e-4b62-a2c4-cb4bdc81cfb4",
   "metadata": {},
   "outputs": [
    {
     "name": "stdout",
     "output_type": "stream",
     "text": [
      "1\n"
     ]
    }
   ],
   "source": [
    "print(1)"
   ]
  },
  {
   "cell_type": "code",
   "execution_count": 3,
   "id": "192665b6-cdff-48fe-8e42-ef7e8d297d32",
   "metadata": {},
   "outputs": [
    {
     "name": "stdout",
     "output_type": "stream",
     "text": [
      "\n"
     ]
    }
   ],
   "source": [
    "print()"
   ]
  },
  {
   "cell_type": "code",
   "execution_count": 4,
   "id": "39b1a49f-fbf9-4f51-919d-56d69a2e7008",
   "metadata": {},
   "outputs": [
    {
     "name": "stdout",
     "output_type": "stream",
     "text": [
      "Some words\n"
     ]
    }
   ],
   "source": [
    "print('Some words')"
   ]
  },
  {
   "cell_type": "code",
   "execution_count": 5,
   "id": "1ae4cf2b-5f06-4933-a7f2-34365de9c583",
   "metadata": {},
   "outputs": [],
   "source": [
    "name = 'Grace Hopper'"
   ]
  },
  {
   "cell_type": "code",
   "execution_count": 6,
   "id": "4b5d3a8f-10fc-42fc-b803-49e6aa8bdc1e",
   "metadata": {},
   "outputs": [
    {
     "data": {
      "text/plain": [
       "'Grace Hopper'"
      ]
     },
     "execution_count": 6,
     "metadata": {},
     "output_type": "execute_result"
    }
   ],
   "source": [
    "name"
   ]
  },
  {
   "cell_type": "code",
   "execution_count": 7,
   "id": "6cac5891-15bc-44f4-95a0-4b3ade564dc3",
   "metadata": {},
   "outputs": [
    {
     "data": {
      "text/plain": [
       "140341011891440"
      ]
     },
     "execution_count": 7,
     "metadata": {},
     "output_type": "execute_result"
    }
   ],
   "source": [
    "id(name)"
   ]
  },
  {
   "cell_type": "code",
   "execution_count": 8,
   "id": "0ebcbfc8-f06b-42f5-b8b3-c1877d78c39e",
   "metadata": {},
   "outputs": [],
   "source": [
    "x = 1"
   ]
  },
  {
   "cell_type": "code",
   "execution_count": 9,
   "id": "f9ef06a1-a586-4acc-8209-9a21e0488aca",
   "metadata": {},
   "outputs": [
    {
     "data": {
      "text/plain": [
       "94650147893888"
      ]
     },
     "execution_count": 9,
     "metadata": {},
     "output_type": "execute_result"
    }
   ],
   "source": [
    "id(x)"
   ]
  },
  {
   "cell_type": "code",
   "execution_count": 10,
   "id": "d813cb26-b330-42a7-b868-99619f7dd467",
   "metadata": {},
   "outputs": [
    {
     "data": {
      "text/plain": [
       "140341096797360"
      ]
     },
     "execution_count": 10,
     "metadata": {},
     "output_type": "execute_result"
    }
   ],
   "source": [
    "id(print)"
   ]
  },
  {
   "cell_type": "code",
   "execution_count": 11,
   "id": "d6b2bbec-e9d8-4dd8-be03-d61d8c4c2f81",
   "metadata": {},
   "outputs": [
    {
     "data": {
      "text/plain": [
       "1"
      ]
     },
     "execution_count": 11,
     "metadata": {},
     "output_type": "execute_result"
    }
   ],
   "source": [
    "1"
   ]
  },
  {
   "cell_type": "code",
   "execution_count": 12,
   "id": "e9c65b92-ad78-4c7c-932e-7e2d65705c38",
   "metadata": {},
   "outputs": [
    {
     "data": {
      "text/plain": [
       "4"
      ]
     },
     "execution_count": 12,
     "metadata": {},
     "output_type": "execute_result"
    }
   ],
   "source": [
    "2 + 2"
   ]
  },
  {
   "cell_type": "code",
   "execution_count": 13,
   "id": "82812dfd-a0b3-4139-a35e-83531357453f",
   "metadata": {},
   "outputs": [
    {
     "data": {
      "text/plain": [
       "18446744073709551616"
      ]
     },
     "execution_count": 13,
     "metadata": {},
     "output_type": "execute_result"
    }
   ],
   "source": [
    "2 ** 64"
   ]
  },
  {
   "cell_type": "code",
   "execution_count": 14,
   "id": "1abdf171-f3d7-474c-b16e-806b02258d2d",
   "metadata": {},
   "outputs": [
    {
     "ename": "SyntaxError",
     "evalue": "invalid syntax (2875093652.py, line 1)",
     "output_type": "error",
     "traceback": [
      "\u001b[0;36m  File \u001b[0;32m\"/tmp/ipykernel_80/2875093652.py\"\u001b[0;36m, line \u001b[0;32m1\u001b[0m\n\u001b[0;31m    2 **\u001b[0m\n\u001b[0m        ^\u001b[0m\n\u001b[0;31mSyntaxError\u001b[0m\u001b[0;31m:\u001b[0m invalid syntax\n"
     ]
    }
   ],
   "source": [
    "2 **"
   ]
  },
  {
   "cell_type": "code",
   "execution_count": 15,
   "id": "158c2ff6-b008-4c47-a9f7-9f290fee0ed9",
   "metadata": {},
   "outputs": [
    {
     "data": {
      "text/plain": [
       "16399.420000000002"
      ]
     },
     "execution_count": 15,
     "metadata": {},
     "output_type": "execute_result"
    }
   ],
   "source": [
    "223 * 73.54"
   ]
  },
  {
   "cell_type": "code",
   "execution_count": 1,
   "id": "d4fc00e1-3f0b-49f6-b46d-055830f5bee8",
   "metadata": {},
   "outputs": [],
   "source": [
    "cost_per_ounce = 0.49"
   ]
  },
  {
   "cell_type": "code",
   "execution_count": 2,
   "id": "1334ee4b",
   "metadata": {},
   "outputs": [],
   "source": [
    "quantity = 15"
   ]
  },
  {
   "cell_type": "code",
   "execution_count": 3,
   "id": "7226f9a8",
   "metadata": {},
   "outputs": [
    {
     "data": {
      "text/plain": [
       "15"
      ]
     },
     "execution_count": 3,
     "metadata": {},
     "output_type": "execute_result"
    }
   ],
   "source": [
    "quantity"
   ]
  },
  {
   "cell_type": "code",
   "execution_count": 4,
   "id": "d751ac2a",
   "metadata": {},
   "outputs": [
    {
     "data": {
      "text/plain": [
       "int"
      ]
     },
     "execution_count": 4,
     "metadata": {},
     "output_type": "execute_result"
    }
   ],
   "source": [
    "type(quantity)"
   ]
  },
  {
   "cell_type": "code",
   "execution_count": 5,
   "id": "9f734b2e",
   "metadata": {},
   "outputs": [],
   "source": [
    "mycompany = 'Pluralsight'"
   ]
  },
  {
   "cell_type": "code",
   "execution_count": 6,
   "id": "599eb877",
   "metadata": {},
   "outputs": [
    {
     "data": {
      "text/plain": [
       "'Pluralsight'"
      ]
     },
     "execution_count": 6,
     "metadata": {},
     "output_type": "execute_result"
    }
   ],
   "source": [
    "mycompany"
   ]
  },
  {
   "cell_type": "code",
   "execution_count": 7,
   "id": "cf66bf75",
   "metadata": {},
   "outputs": [
    {
     "data": {
      "text/plain": [
       "str"
      ]
     },
     "execution_count": 7,
     "metadata": {},
     "output_type": "execute_result"
    }
   ],
   "source": [
    "type(mycompany)"
   ]
  },
  {
   "cell_type": "code",
   "execution_count": 14,
   "id": "a1f14150",
   "metadata": {},
   "outputs": [
    {
     "name": "stdout",
     "output_type": "stream",
     "text": [
      "<class 'int'>\n"
     ]
    },
    {
     "data": {
      "text/plain": [
       "float"
      ]
     },
     "execution_count": 14,
     "metadata": {},
     "output_type": "execute_result"
    }
   ],
   "source": [
    "print(type(7)) # Python actually evaluates this\n",
    "type(7.0)"
   ]
  },
  {
   "cell_type": "code",
   "execution_count": 15,
   "id": "73bad1d6",
   "metadata": {},
   "outputs": [
    {
     "data": {
      "text/plain": [
       "int"
      ]
     },
     "execution_count": 15,
     "metadata": {},
     "output_type": "execute_result"
    }
   ],
   "source": [
    "type(7)"
   ]
  },
  {
   "cell_type": "code",
   "execution_count": 16,
   "id": "a624d1b8",
   "metadata": {},
   "outputs": [
    {
     "name": "stdout",
     "output_type": "stream",
     "text": [
      "<class 'int'>\n"
     ]
    }
   ],
   "source": [
    "print(type(7))"
   ]
  },
  {
   "cell_type": "code",
   "execution_count": 17,
   "id": "79092765",
   "metadata": {},
   "outputs": [
    {
     "data": {
      "text/plain": [
       "'Pluralsight'"
      ]
     },
     "execution_count": 17,
     "metadata": {},
     "output_type": "execute_result"
    }
   ],
   "source": [
    "mycompany"
   ]
  },
  {
   "cell_type": "code",
   "execution_count": 18,
   "id": "ee4f0f46",
   "metadata": {},
   "outputs": [
    {
     "name": "stdout",
     "output_type": "stream",
     "text": [
      "I work for Pluralsight\n"
     ]
    }
   ],
   "source": [
    "print('I work for', mycompany)"
   ]
  },
  {
   "cell_type": "code",
   "execution_count": 22,
   "id": "c6eac11e",
   "metadata": {},
   "outputs": [
    {
     "name": "stdout",
     "output_type": "stream",
     "text": [
      "3\n",
      "foo\n"
     ]
    }
   ],
   "source": [
    "x = 1\n",
    "y = 2\n",
    "print(x + y)\n",
    "z = 4\n",
    "print('foo')"
   ]
  },
  {
   "cell_type": "code",
   "execution_count": 23,
   "id": "8fb0023f",
   "metadata": {},
   "outputs": [
    {
     "data": {
      "text/plain": [
       "1"
      ]
     },
     "execution_count": 23,
     "metadata": {},
     "output_type": "execute_result"
    }
   ],
   "source": [
    "x"
   ]
  },
  {
   "cell_type": "code",
   "execution_count": 24,
   "id": "60fc7108",
   "metadata": {},
   "outputs": [],
   "source": [
    "x = 'ecks'"
   ]
  },
  {
   "cell_type": "code",
   "execution_count": 25,
   "id": "471306e5",
   "metadata": {},
   "outputs": [
    {
     "data": {
      "text/plain": [
       "'ecks'"
      ]
     },
     "execution_count": 25,
     "metadata": {},
     "output_type": "execute_result"
    }
   ],
   "source": [
    "x"
   ]
  },
  {
   "cell_type": "code",
   "execution_count": 26,
   "id": "53e40b38",
   "metadata": {},
   "outputs": [
    {
     "data": {
      "text/plain": [
       "str"
      ]
     },
     "execution_count": 26,
     "metadata": {},
     "output_type": "execute_result"
    }
   ],
   "source": [
    "type(x)"
   ]
  },
  {
   "cell_type": "code",
   "execution_count": 27,
   "id": "b4853120",
   "metadata": {},
   "outputs": [],
   "source": [
    "gazornin = 'wow!'"
   ]
  },
  {
   "cell_type": "code",
   "execution_count": null,
   "id": "160cb4d8",
   "metadata": {},
   "outputs": [],
   "source": [
    "# string gazornin = 'wow!' # statically typed"
   ]
  },
  {
   "cell_type": "code",
   "execution_count": 28,
   "id": "a12bb675",
   "metadata": {},
   "outputs": [],
   "source": [
    "Test = 1"
   ]
  },
  {
   "cell_type": "code",
   "execution_count": 29,
   "id": "6d6a5ee5",
   "metadata": {},
   "outputs": [
    {
     "ename": "NameError",
     "evalue": "name 'test' is not defined",
     "output_type": "error",
     "traceback": [
      "\u001b[0;31m---------------------------------------------------------------------------\u001b[0m",
      "\u001b[0;31mNameError\u001b[0m                                 Traceback (most recent call last)",
      "Input \u001b[0;32mIn [29]\u001b[0m, in \u001b[0;36m<cell line: 1>\u001b[0;34m()\u001b[0m\n\u001b[0;32m----> 1\u001b[0m \u001b[43mtest\u001b[49m\n",
      "\u001b[0;31mNameError\u001b[0m: name 'test' is not defined"
     ]
    }
   ],
   "source": [
    "test"
   ]
  },
  {
   "cell_type": "code",
   "execution_count": 32,
   "id": "3e28f56f",
   "metadata": {
    "collapsed": true,
    "jupyter": {
     "outputs_hidden": true
    },
    "tags": []
   },
   "outputs": [
    {
     "data": {
      "text/plain": [
       "['False',\n",
       " 'None',\n",
       " 'True',\n",
       " '__peg_parser__',\n",
       " 'and',\n",
       " 'as',\n",
       " 'assert',\n",
       " 'async',\n",
       " 'await',\n",
       " 'break',\n",
       " 'class',\n",
       " 'continue',\n",
       " 'def',\n",
       " 'del',\n",
       " 'elif',\n",
       " 'else',\n",
       " 'except',\n",
       " 'finally',\n",
       " 'for',\n",
       " 'from',\n",
       " 'global',\n",
       " 'if',\n",
       " 'import',\n",
       " 'in',\n",
       " 'is',\n",
       " 'lambda',\n",
       " 'nonlocal',\n",
       " 'not',\n",
       " 'or',\n",
       " 'pass',\n",
       " 'raise',\n",
       " 'return',\n",
       " 'try',\n",
       " 'while',\n",
       " 'with',\n",
       " 'yield']"
      ]
     },
     "execution_count": 32,
     "metadata": {},
     "output_type": "execute_result"
    }
   ],
   "source": [
    "from keyword import kwlist\n",
    "kwlist"
   ]
  },
  {
   "cell_type": "code",
   "execution_count": 33,
   "id": "71630251",
   "metadata": {},
   "outputs": [],
   "source": [
    "minutes = 321"
   ]
  },
  {
   "cell_type": "code",
   "execution_count": 34,
   "id": "1682ab0c",
   "metadata": {},
   "outputs": [
    {
     "data": {
      "text/plain": [
       "5.35"
      ]
     },
     "execution_count": 34,
     "metadata": {},
     "output_type": "execute_result"
    }
   ],
   "source": [
    "minutes / 60"
   ]
  },
  {
   "cell_type": "code",
   "execution_count": 35,
   "id": "8d2ca009",
   "metadata": {},
   "outputs": [
    {
     "data": {
      "text/plain": [
       "5"
      ]
     },
     "execution_count": 35,
     "metadata": {},
     "output_type": "execute_result"
    }
   ],
   "source": [
    "minutes // 60"
   ]
  },
  {
   "cell_type": "code",
   "execution_count": 36,
   "id": "1157931d",
   "metadata": {},
   "outputs": [
    {
     "data": {
      "text/plain": [
       "21"
      ]
     },
     "execution_count": 36,
     "metadata": {},
     "output_type": "execute_result"
    }
   ],
   "source": [
    "minutes % 60"
   ]
  },
  {
   "cell_type": "code",
   "execution_count": 38,
   "id": "2ff36c45",
   "metadata": {},
   "outputs": [],
   "source": [
    "h, m = divmod(minutes, 60)"
   ]
  },
  {
   "cell_type": "code",
   "execution_count": 39,
   "id": "7fb660ba",
   "metadata": {},
   "outputs": [
    {
     "data": {
      "text/plain": [
       "(5, 21)"
      ]
     },
     "execution_count": 39,
     "metadata": {},
     "output_type": "execute_result"
    }
   ],
   "source": [
    "h, m"
   ]
  },
  {
   "cell_type": "code",
   "execution_count": 40,
   "id": "5548c3c4",
   "metadata": {},
   "outputs": [
    {
     "name": "stdout",
     "output_type": "stream",
     "text": [
      "5 hours and 21 minutes\n"
     ]
    }
   ],
   "source": [
    "print(h, 'hours and', m, 'minutes')"
   ]
  },
  {
   "cell_type": "code",
   "execution_count": 41,
   "id": "c426f54c",
   "metadata": {},
   "outputs": [
    {
     "name": "stdout",
     "output_type": "stream",
     "text": [
      "5 : 21\n"
     ]
    }
   ],
   "source": [
    "print(h, ':', m)"
   ]
  },
  {
   "cell_type": "code",
   "execution_count": 46,
   "id": "cbadff5c",
   "metadata": {},
   "outputs": [],
   "source": [
    "xyz = 101"
   ]
  },
  {
   "cell_type": "code",
   "execution_count": 45,
   "id": "8f5709a7",
   "metadata": {},
   "outputs": [
    {
     "data": {
      "text/plain": [
       "False"
      ]
     },
     "execution_count": 45,
     "metadata": {},
     "output_type": "execute_result"
    }
   ],
   "source": [
    "xyz > 100"
   ]
  },
  {
   "cell_type": "code",
   "execution_count": 47,
   "id": "aa943c12",
   "metadata": {},
   "outputs": [],
   "source": [
    "company = 'ADI'"
   ]
  },
  {
   "cell_type": "code",
   "execution_count": 48,
   "id": "eb858c00",
   "metadata": {},
   "outputs": [
    {
     "data": {
      "text/plain": [
       "True"
      ]
     },
     "execution_count": 48,
     "metadata": {},
     "output_type": "execute_result"
    }
   ],
   "source": [
    "company == 'ADI'"
   ]
  },
  {
   "cell_type": "code",
   "execution_count": 61,
   "id": "5ced1cd1",
   "metadata": {},
   "outputs": [],
   "source": [
    "x = 5\n",
    "y = 7"
   ]
  },
  {
   "cell_type": "code",
   "execution_count": 50,
   "id": "ba9570ab",
   "metadata": {},
   "outputs": [
    {
     "data": {
      "text/plain": [
       "True"
      ]
     },
     "execution_count": 50,
     "metadata": {},
     "output_type": "execute_result"
    }
   ],
   "source": [
    "x == 5 or y == 6"
   ]
  },
  {
   "cell_type": "code",
   "execution_count": 62,
   "id": "9f7ab07b",
   "metadata": {},
   "outputs": [
    {
     "name": "stdout",
     "output_type": "stream",
     "text": [
      "either x is 5 or y is 6 but not both\n"
     ]
    }
   ],
   "source": [
    "if (x == 5) ^ (y == 6):\n",
    "    print('either x is 5 or y is 6 but not both')"
   ]
  },
  {
   "cell_type": "code",
   "execution_count": 63,
   "id": "bc737ff7",
   "metadata": {},
   "outputs": [],
   "source": [
    "string = 'something'"
   ]
  },
  {
   "cell_type": "code",
   "execution_count": 64,
   "id": "19abd4c9",
   "metadata": {},
   "outputs": [
    {
     "name": "stdout",
     "output_type": "stream",
     "text": [
      "something\n"
     ]
    }
   ],
   "source": [
    "print(string)"
   ]
  },
  {
   "cell_type": "code",
   "execution_count": 67,
   "id": "df78cdcc",
   "metadata": {},
   "outputs": [
    {
     "data": {
      "text/plain": [
       "True"
      ]
     },
     "execution_count": 67,
     "metadata": {},
     "output_type": "execute_result"
    }
   ],
   "source": [
    "1 == True"
   ]
  },
  {
   "cell_type": "code",
   "execution_count": 66,
   "id": "cf993cea",
   "metadata": {},
   "outputs": [
    {
     "name": "stdout",
     "output_type": "stream",
     "text": [
      "It is True\n"
     ]
    }
   ],
   "source": [
    "if 2: # because 2 is not 0 it is considered True\n",
    "    print('It is True')"
   ]
  },
  {
   "cell_type": "code",
   "execution_count": 68,
   "id": "c14fbde5",
   "metadata": {},
   "outputs": [
    {
     "data": {
      "text/plain": [
       "4344620336"
      ]
     },
     "execution_count": 68,
     "metadata": {},
     "output_type": "execute_result"
    }
   ],
   "source": [
    "id(True)"
   ]
  },
  {
   "cell_type": "code",
   "execution_count": 69,
   "id": "c7d6db47",
   "metadata": {},
   "outputs": [
    {
     "data": {
      "text/plain": [
       "140396709734704"
      ]
     },
     "execution_count": 69,
     "metadata": {},
     "output_type": "execute_result"
    }
   ],
   "source": [
    "id(1)"
   ]
  },
  {
   "cell_type": "code",
   "execution_count": 70,
   "id": "185af656",
   "metadata": {},
   "outputs": [
    {
     "data": {
      "text/plain": [
       "True"
      ]
     },
     "execution_count": 70,
     "metadata": {},
     "output_type": "execute_result"
    }
   ],
   "source": [
    "0 == False"
   ]
  },
  {
   "cell_type": "code",
   "execution_count": 71,
   "id": "b9db514e",
   "metadata": {},
   "outputs": [
    {
     "data": {
      "text/plain": [
       "False"
      ]
     },
     "execution_count": 71,
     "metadata": {},
     "output_type": "execute_result"
    }
   ],
   "source": [
    "' ' == True"
   ]
  },
  {
   "cell_type": "code",
   "execution_count": 72,
   "id": "dd72abd2",
   "metadata": {},
   "outputs": [
    {
     "data": {
      "text/plain": [
       "False"
      ]
     },
     "execution_count": 72,
     "metadata": {},
     "output_type": "execute_result"
    }
   ],
   "source": [
    "' ' == 1"
   ]
  },
  {
   "cell_type": "code",
   "execution_count": 73,
   "id": "27ad3f1a",
   "metadata": {},
   "outputs": [
    {
     "data": {
      "text/plain": [
       "True"
      ]
     },
     "execution_count": 73,
     "metadata": {},
     "output_type": "execute_result"
    }
   ],
   "source": [
    "1 == True"
   ]
  },
  {
   "cell_type": "code",
   "execution_count": 74,
   "id": "8476f096",
   "metadata": {},
   "outputs": [
    {
     "data": {
      "text/plain": [
       "False"
      ]
     },
     "execution_count": 74,
     "metadata": {},
     "output_type": "execute_result"
    }
   ],
   "source": [
    "4 == True"
   ]
  },
  {
   "cell_type": "code",
   "execution_count": 75,
   "id": "0c3fbaa1",
   "metadata": {},
   "outputs": [
    {
     "data": {
      "text/plain": [
       "False"
      ]
     },
     "execution_count": 75,
     "metadata": {},
     "output_type": "execute_result"
    }
   ],
   "source": [
    "' ' == True"
   ]
  },
  {
   "cell_type": "code",
   "execution_count": 76,
   "id": "0d3835ee",
   "metadata": {},
   "outputs": [
    {
     "name": "stdout",
     "output_type": "stream",
     "text": [
      "something in that string\n"
     ]
    }
   ],
   "source": [
    "if ' ':\n",
    "    print('something in that string')"
   ]
  },
  {
   "cell_type": "code",
   "execution_count": 77,
   "id": "0a72e99f",
   "metadata": {},
   "outputs": [],
   "source": [
    "if ' ' == 'string':\n",
    "    print('equal')"
   ]
  },
  {
   "cell_type": "code",
   "execution_count": 78,
   "id": "1d0fdd7d",
   "metadata": {},
   "outputs": [
    {
     "name": "stdout",
     "output_type": "stream",
     "text": [
      "something in that string\n"
     ]
    }
   ],
   "source": [
    "s = 'string'\n",
    "if s: # len(s) > 0\n",
    "    print('something in that string')"
   ]
  },
  {
   "cell_type": "code",
   "execution_count": 83,
   "id": "32ff2619",
   "metadata": {},
   "outputs": [
    {
     "data": {
      "text/plain": [
       "True"
      ]
     },
     "execution_count": 83,
     "metadata": {},
     "output_type": "execute_result"
    }
   ],
   "source": [
    "year = 2022\n",
    "xyz = 2\n",
    "year == 2022 and xyz < 10"
   ]
  },
  {
   "cell_type": "code",
   "execution_count": 84,
   "id": "d487dc3b",
   "metadata": {},
   "outputs": [
    {
     "name": "stdout",
     "output_type": "stream",
     "text": [
      "Enter a year: 2022\n",
      "2022 <class 'int'>\n"
     ]
    }
   ],
   "source": [
    "year = input('Enter a year: ')\n",
    "year = int(year)\n",
    "print(year, type(year))"
   ]
  },
  {
   "cell_type": "code",
   "execution_count": 85,
   "id": "0820efa1",
   "metadata": {},
   "outputs": [
    {
     "name": "stdout",
     "output_type": "stream",
     "text": [
      "Enter a year: hi\n"
     ]
    },
    {
     "ename": "ValueError",
     "evalue": "invalid literal for int() with base 10: 'hi'",
     "output_type": "error",
     "traceback": [
      "\u001b[0;31m---------------------------------------------------------------------------\u001b[0m",
      "\u001b[0;31mValueError\u001b[0m                                Traceback (most recent call last)",
      "Input \u001b[0;32mIn [85]\u001b[0m, in \u001b[0;36m<cell line: 1>\u001b[0;34m()\u001b[0m\n\u001b[0;32m----> 1\u001b[0m year \u001b[38;5;241m=\u001b[39m \u001b[38;5;28;43mint\u001b[39;49m\u001b[43m(\u001b[49m\u001b[38;5;28;43minput\u001b[39;49m\u001b[43m(\u001b[49m\u001b[38;5;124;43m'\u001b[39;49m\u001b[38;5;124;43mEnter a year: \u001b[39;49m\u001b[38;5;124;43m'\u001b[39;49m\u001b[43m)\u001b[49m\u001b[43m)\u001b[49m \u001b[38;5;66;03m# nesting function calls\u001b[39;00m\n\u001b[1;32m      2\u001b[0m \u001b[38;5;28mprint\u001b[39m(year, \u001b[38;5;28mtype\u001b[39m(year))\n",
      "\u001b[0;31mValueError\u001b[0m: invalid literal for int() with base 10: 'hi'"
     ]
    }
   ],
   "source": [
    "year = int(input('Enter a year: ')) # nesting function calls\n",
    "print(year, type(year))"
   ]
  },
  {
   "cell_type": "code",
   "execution_count": 86,
   "id": "602b51dd",
   "metadata": {},
   "outputs": [
    {
     "data": {
      "text/plain": [
       "'DaveDaveDaveDave'"
      ]
     },
     "execution_count": 86,
     "metadata": {},
     "output_type": "execute_result"
    }
   ],
   "source": [
    "'Dave' * 4"
   ]
  },
  {
   "cell_type": "code",
   "execution_count": 87,
   "id": "de216cbd",
   "metadata": {},
   "outputs": [
    {
     "data": {
      "text/plain": [
       "'................................................................................'"
      ]
     },
     "execution_count": 87,
     "metadata": {},
     "output_type": "execute_result"
    }
   ],
   "source": [
    "'.' * 80"
   ]
  },
  {
   "cell_type": "code",
   "execution_count": 88,
   "id": "6c346c9c",
   "metadata": {},
   "outputs": [
    {
     "data": {
      "text/plain": [
       "'--------------------------------------------------------------------------------'"
      ]
     },
     "execution_count": 88,
     "metadata": {},
     "output_type": "execute_result"
    }
   ],
   "source": [
    "'-' * 80"
   ]
  },
  {
   "cell_type": "code",
   "execution_count": 89,
   "id": "9c279f4b",
   "metadata": {},
   "outputs": [
    {
     "name": "stdout",
     "output_type": "stream",
     "text": [
      "Enter first name: Margaret\n",
      "Enter last name: Hamilton\n"
     ]
    }
   ],
   "source": [
    "first = input('Enter first name: ')\n",
    "last = input('Enter last name: ')"
   ]
  },
  {
   "cell_type": "code",
   "execution_count": 93,
   "id": "13fc1607",
   "metadata": {},
   "outputs": [],
   "source": [
    "new_string = last + ', ' + first"
   ]
  },
  {
   "cell_type": "code",
   "execution_count": 94,
   "id": "a2d251d7",
   "metadata": {},
   "outputs": [
    {
     "data": {
      "text/plain": [
       "'Hamilton, Margaret'"
      ]
     },
     "execution_count": 94,
     "metadata": {},
     "output_type": "execute_result"
    }
   ],
   "source": [
    "new_string"
   ]
  },
  {
   "cell_type": "code",
   "execution_count": 97,
   "id": "7d6cdd1b",
   "metadata": {},
   "outputs": [
    {
     "name": "stdout",
     "output_type": "stream",
     "text": [
      "Enter a string: Python\n",
      "Enter an index: 23\n"
     ]
    },
    {
     "ename": "IndexError",
     "evalue": "string index out of range",
     "output_type": "error",
     "traceback": [
      "\u001b[0;31m---------------------------------------------------------------------------\u001b[0m",
      "\u001b[0;31mIndexError\u001b[0m                                Traceback (most recent call last)",
      "Input \u001b[0;32mIn [97]\u001b[0m, in \u001b[0;36m<cell line: 3>\u001b[0;34m()\u001b[0m\n\u001b[1;32m      1\u001b[0m s \u001b[38;5;241m=\u001b[39m \u001b[38;5;28minput\u001b[39m(\u001b[38;5;124m'\u001b[39m\u001b[38;5;124mEnter a string: \u001b[39m\u001b[38;5;124m'\u001b[39m)\n\u001b[1;32m      2\u001b[0m index \u001b[38;5;241m=\u001b[39m \u001b[38;5;28mint\u001b[39m(\u001b[38;5;28minput\u001b[39m(\u001b[38;5;124m'\u001b[39m\u001b[38;5;124mEnter an index: \u001b[39m\u001b[38;5;124m'\u001b[39m))\n\u001b[0;32m----> 3\u001b[0m \u001b[38;5;28mprint\u001b[39m(\u001b[43ms\u001b[49m\u001b[43m[\u001b[49m\u001b[43mindex\u001b[49m\u001b[43m]\u001b[49m)\n",
      "\u001b[0;31mIndexError\u001b[0m: string index out of range"
     ]
    }
   ],
   "source": [
    "s = input('Enter a string: ')\n",
    "index = int(input('Enter an index: '))\n",
    "print(s[index])"
   ]
  },
  {
   "cell_type": "code",
   "execution_count": 99,
   "id": "87ce388c",
   "metadata": {},
   "outputs": [
    {
     "data": {
      "text/plain": [
       "'Margaret'"
      ]
     },
     "execution_count": 99,
     "metadata": {},
     "output_type": "execute_result"
    }
   ],
   "source": [
    "first"
   ]
  },
  {
   "cell_type": "code",
   "execution_count": 100,
   "id": "15af8a94",
   "metadata": {},
   "outputs": [
    {
     "data": {
      "text/plain": [
       "'Hamilton'"
      ]
     },
     "execution_count": 100,
     "metadata": {},
     "output_type": "execute_result"
    }
   ],
   "source": [
    "last"
   ]
  },
  {
   "cell_type": "code",
   "execution_count": 102,
   "id": "09c882af",
   "metadata": {},
   "outputs": [
    {
     "data": {
      "text/plain": [
       "'Margaret Hamilton'"
      ]
     },
     "execution_count": 102,
     "metadata": {},
     "output_type": "execute_result"
    }
   ],
   "source": [
    "first + ' ' + last"
   ]
  },
  {
   "cell_type": "code",
   "execution_count": 103,
   "id": "71fecb29",
   "metadata": {},
   "outputs": [
    {
     "data": {
      "text/plain": [
       "'something'"
      ]
     },
     "execution_count": 103,
     "metadata": {},
     "output_type": "execute_result"
    }
   ],
   "source": [
    "string"
   ]
  },
  {
   "cell_type": "code",
   "execution_count": 104,
   "id": "a348b9a0",
   "metadata": {},
   "outputs": [
    {
     "ename": "TypeError",
     "evalue": "'str' object does not support item assignment",
     "output_type": "error",
     "traceback": [
      "\u001b[0;31m---------------------------------------------------------------------------\u001b[0m",
      "\u001b[0;31mTypeError\u001b[0m                                 Traceback (most recent call last)",
      "Input \u001b[0;32mIn [104]\u001b[0m, in \u001b[0;36m<cell line: 1>\u001b[0;34m()\u001b[0m\n\u001b[0;32m----> 1\u001b[0m s[\u001b[38;5;241m0\u001b[39m] \u001b[38;5;241m=\u001b[39m \u001b[38;5;124m'\u001b[39m\u001b[38;5;124mx\u001b[39m\u001b[38;5;124m'\u001b[39m\n",
      "\u001b[0;31mTypeError\u001b[0m: 'str' object does not support item assignment"
     ]
    }
   ],
   "source": [
    "s[0] = 'x'"
   ]
  },
  {
   "cell_type": "code",
   "execution_count": 105,
   "id": "3d746ce4",
   "metadata": {},
   "outputs": [
    {
     "data": {
      "text/plain": [
       "'Python'"
      ]
     },
     "execution_count": 105,
     "metadata": {},
     "output_type": "execute_result"
    }
   ],
   "source": [
    "s"
   ]
  },
  {
   "cell_type": "code",
   "execution_count": 106,
   "id": "7189ab0c",
   "metadata": {},
   "outputs": [],
   "source": [
    "s = 'Golang'"
   ]
  },
  {
   "cell_type": "code",
   "execution_count": 107,
   "id": "f11951b5",
   "metadata": {},
   "outputs": [
    {
     "data": {
      "text/plain": [
       "'Golang'"
      ]
     },
     "execution_count": 107,
     "metadata": {},
     "output_type": "execute_result"
    }
   ],
   "source": [
    "s"
   ]
  },
  {
   "cell_type": "code",
   "execution_count": 108,
   "id": "8c90d640",
   "metadata": {},
   "outputs": [
    {
     "ename": "TypeError",
     "evalue": "'str' object does not support item assignment",
     "output_type": "error",
     "traceback": [
      "\u001b[0;31m---------------------------------------------------------------------------\u001b[0m",
      "\u001b[0;31mTypeError\u001b[0m                                 Traceback (most recent call last)",
      "Input \u001b[0;32mIn [108]\u001b[0m, in \u001b[0;36m<cell line: 1>\u001b[0;34m()\u001b[0m\n\u001b[0;32m----> 1\u001b[0m s[\u001b[38;5;241m0\u001b[39m] \u001b[38;5;241m=\u001b[39m \u001b[38;5;124m'\u001b[39m\u001b[38;5;124mg\u001b[39m\u001b[38;5;124m'\u001b[39m\n",
      "\u001b[0;31mTypeError\u001b[0m: 'str' object does not support item assignment"
     ]
    }
   ],
   "source": [
    "s[0] = 'g'"
   ]
  },
  {
   "cell_type": "code",
   "execution_count": 109,
   "id": "04655d6f",
   "metadata": {},
   "outputs": [],
   "source": [
    "x = 1"
   ]
  },
  {
   "cell_type": "code",
   "execution_count": 110,
   "id": "11494b5a",
   "metadata": {},
   "outputs": [],
   "source": [
    "x = 3"
   ]
  },
  {
   "cell_type": "code",
   "execution_count": 113,
   "id": "61bd2161",
   "metadata": {},
   "outputs": [
    {
     "data": {
      "text/plain": [
       "'MARGARET'"
      ]
     },
     "execution_count": 113,
     "metadata": {},
     "output_type": "execute_result"
    }
   ],
   "source": [
    "first.upper()"
   ]
  },
  {
   "cell_type": "code",
   "execution_count": 114,
   "id": "9f25187a",
   "metadata": {},
   "outputs": [
    {
     "data": {
      "text/plain": [
       "'Margaret'"
      ]
     },
     "execution_count": 114,
     "metadata": {},
     "output_type": "execute_result"
    }
   ],
   "source": [
    "first"
   ]
  },
  {
   "cell_type": "code",
   "execution_count": 115,
   "id": "2d67c492",
   "metadata": {},
   "outputs": [
    {
     "name": "stdout",
     "output_type": "stream",
     "text": [
      "1 2 3\n"
     ]
    }
   ],
   "source": [
    "print(1, 2, 3)"
   ]
  },
  {
   "cell_type": "code",
   "execution_count": 117,
   "id": "d90d22d3",
   "metadata": {},
   "outputs": [
    {
     "name": "stdout",
     "output_type": "stream",
     "text": [
      "1...2...3\n"
     ]
    }
   ],
   "source": [
    "print(1, 2, 3, sep='...')"
   ]
  },
  {
   "cell_type": "code",
   "execution_count": 121,
   "id": "d71c6165",
   "metadata": {},
   "outputs": [
    {
     "name": "stdout",
     "output_type": "stream",
     "text": [
      "1 2 34 5\n"
     ]
    }
   ],
   "source": [
    "print(1, 2, 3, end='')\n",
    "print(4, 5)"
   ]
  },
  {
   "cell_type": "code",
   "execution_count": 122,
   "id": "3ae3a9b3",
   "metadata": {},
   "outputs": [
    {
     "name": "stdout",
     "output_type": "stream",
     "text": [
      "1\n",
      "2\n",
      "3\n"
     ]
    }
   ],
   "source": [
    "print(1, 2, 3, sep='\\n')"
   ]
  },
  {
   "cell_type": "code",
   "execution_count": 126,
   "id": "339b774e",
   "metadata": {},
   "outputs": [
    {
     "name": "stdout",
     "output_type": "stream",
     "text": [
      "Yep, non-empty string\n"
     ]
    }
   ],
   "source": [
    "string = 'thing'\n",
    "#...\n",
    "\n",
    "if string:\n",
    "    print('Yep, non-empty string')"
   ]
  },
  {
   "cell_type": "markdown",
   "id": "c812091d-fe1a-4e0d-9cd1-a900a1aa9965",
   "metadata": {
    "tags": []
   },
   "source": [
    "## Lab: Odd-Even Program (our first program that does something)\n",
    "1. prompt the user to enter a number\n",
    "2. read input from the user\n",
    "3. convert the input to an integer\n",
    "4. tell the user whether the number entered was odd or even"
   ]
  },
  {
   "cell_type": "code",
   "execution_count": 24,
   "id": "e37de00c-5bae-47dd-b7bd-dfc7aede1131",
   "metadata": {},
   "outputs": [
    {
     "name": "stdin",
     "output_type": "stream",
     "text": [
      "Enter a number:  362673\n"
     ]
    },
    {
     "name": "stdout",
     "output_type": "stream",
     "text": [
      "362673 is odd\n"
     ]
    }
   ],
   "source": [
    "# steps 1-3\n",
    "number = int(input('Enter a number: '))\n",
    "\n",
    "if number % 2 == 0:\n",
    "    print(number, 'is even')\n",
    "else:\n",
    "    print(number, 'is odd')"
   ]
  },
  {
   "cell_type": "code",
   "execution_count": 31,
   "id": "87626467-86e6-4a1c-9dea-f3daf6ba39ae",
   "metadata": {},
   "outputs": [
    {
     "name": "stdin",
     "output_type": "stream",
     "text": [
      "Enter a number:  hello1\n"
     ]
    },
    {
     "name": "stdout",
     "output_type": "stream",
     "text": [
      "hello1 is odd\n"
     ]
    }
   ],
   "source": [
    "# now let's see how some of us are solving this problem in our brains...\n",
    "number = input('Enter a number: ') # leave it as a string, because we just want to look at last digit\n",
    "# deliberately introducing some new features of Python which will look at later in more depth...\n",
    "# negative indexing allows us to come in from the end or right of the string, so -1 is the last character\n",
    "if number[-1] in '02468': # if the last digit is 0, 2, 4, 6, or 8\n",
    "    print(number, 'is even')\n",
    "elif number[-1] in '13579':\n",
    "    print(number, 'is odd')\n",
    "else:\n",
    "    print('not a number!')"
   ]
  },
  {
   "cell_type": "code",
   "execution_count": 18,
   "id": "36f3d4ce-85e2-403c-a51f-0c219bbc2ce4",
   "metadata": {},
   "outputs": [],
   "source": [
    "is_working = False"
   ]
  },
  {
   "cell_type": "code",
   "execution_count": 16,
   "id": "0a60c6ae-a2b1-4736-9ce8-d1a5b6fc2754",
   "metadata": {},
   "outputs": [
    {
     "name": "stdout",
     "output_type": "stream",
     "text": [
      "hey, it seems to be working!\n"
     ]
    }
   ],
   "source": [
    "if is_working:\n",
    "    print('hey, it seems to be working!')"
   ]
  },
  {
   "cell_type": "code",
   "execution_count": 19,
   "id": "ca03971f-3a6d-420d-8f57-9704f8d7ecbe",
   "metadata": {},
   "outputs": [
    {
     "name": "stdout",
     "output_type": "stream",
     "text": [
      "uh oh, broken!\n"
     ]
    }
   ],
   "source": [
    "if not is_working:\n",
    "    print('uh oh, broken!')"
   ]
  },
  {
   "cell_type": "code",
   "execution_count": 22,
   "id": "fe57bceb-5c3d-4f19-8595-d99ba07ce5ef",
   "metadata": {},
   "outputs": [
    {
     "data": {
      "text/plain": [
       "True"
      ]
     },
     "execution_count": 22,
     "metadata": {},
     "output_type": "execute_result"
    }
   ],
   "source": [
    "0 == False"
   ]
  },
  {
   "cell_type": "code",
   "execution_count": 26,
   "id": "cc77d2fe-7561-4374-9ee3-05f73da0e7dd",
   "metadata": {},
   "outputs": [
    {
     "data": {
      "text/plain": [
       "'6'"
      ]
     },
     "execution_count": 26,
     "metadata": {},
     "output_type": "execute_result"
    }
   ],
   "source": [
    "'35263526236'[-1]"
   ]
  },
  {
   "cell_type": "code",
   "execution_count": 27,
   "id": "73957598-b4e6-42a7-9d97-afeacb47a7e9",
   "metadata": {},
   "outputs": [
    {
     "data": {
      "text/plain": [
       "True"
      ]
     },
     "execution_count": 27,
     "metadata": {},
     "output_type": "execute_result"
    }
   ],
   "source": [
    "'6' in '02468'"
   ]
  },
  {
   "cell_type": "code",
   "execution_count": 28,
   "id": "84ea3005-0a0c-42b8-abf9-709c6a5e520c",
   "metadata": {},
   "outputs": [
    {
     "data": {
      "text/plain": [
       "'35263526236'"
      ]
     },
     "execution_count": 28,
     "metadata": {},
     "output_type": "execute_result"
    }
   ],
   "source": [
    "#01234567890\n",
    "#        321\n",
    "'35263526236'"
   ]
  },
  {
   "cell_type": "code",
   "execution_count": 32,
   "id": "4fe0462b-32c2-4a9f-8b9e-b63608e915bc",
   "metadata": {},
   "outputs": [
    {
     "name": "stdout",
     "output_type": "stream",
     "text": [
      "   September 1752     \n",
      "Su Mo Tu We Th Fr Sa  \n",
      "       1  2 14 15 16  \n",
      "17 18 19 20 21 22 23  \n",
      "24 25 26 27 28 29 30  \n",
      "                      \n",
      "                      \n",
      "                      \n"
     ]
    }
   ],
   "source": [
    "!cal 9 1752"
   ]
  },
  {
   "cell_type": "markdown",
   "id": "57f8018b-bb51-4e03-a128-65077841dc5b",
   "metadata": {},
   "source": [
    "## Lab: Leap Year Program\n",
    "1. prompt the user to enter a year\n",
    "2. read input from the user\n",
    "3. convert the input to an integer\n",
    "4. tell the user whether the year entered is a leap year or not\n",
    "  * a year is a leap year if\n",
    "  1. it's divisible by 4 AND\n",
    "  2. it's not divisible by 100 (i.e., 1900 was not a leap year) UNLESS\n",
    "  3. it's also divisible by 400 (i.e., 2000 was a leap year)"
   ]
  },
  {
   "cell_type": "code",
   "execution_count": 52,
   "id": "fc1ba070-a229-4226-af87-a0fc310a7eca",
   "metadata": {},
   "outputs": [
    {
     "name": "stdin",
     "output_type": "stream",
     "text": [
      "Enter a year:  2021\n"
     ]
    },
    {
     "name": "stdout",
     "output_type": "stream",
     "text": [
      "2021 is a NOT a leap year because not divisible by 4\n"
     ]
    }
   ],
   "source": [
    "# the LONG way, explaining what we know at each step\n",
    "year = int(input('Enter a year: '))\n",
    "print(year, 'is a', end=' ') # prevent print() from \"going to the next line\"\n",
    "\n",
    "if year % 4 == 0:\n",
    "    # at this point we know it's divisible by 4\n",
    "    if year % 100 == 0:\n",
    "        # at this point we know it's divisible by 4 AND divisible by 100\n",
    "        if year % 400 == 0:\n",
    "            print('leap year')\n",
    "        else:\n",
    "            # ...and not divisible by 400\n",
    "            print('NOT a leap year because divisible by 100 but not 400')\n",
    "    else:\n",
    "        # at this point we know it's divisible by 4 and NOT divisible by 100:\n",
    "        print('leap year')\n",
    "else:\n",
    "    # not divisible by 4...\n",
    "    print('NOT a leap year because not divisible by 4')"
   ]
  },
  {
   "cell_type": "code",
   "execution_count": 46,
   "id": "7e9705d1-6f16-4477-b267-29dc27948392",
   "metadata": {},
   "outputs": [
    {
     "name": "stdin",
     "output_type": "stream",
     "text": [
      "Enter a year:  1900\n"
     ]
    },
    {
     "name": "stdout",
     "output_type": "stream",
     "text": [
      "1900 is NOT a leap year\n"
     ]
    }
   ],
   "source": [
    "# now let's write it as one Boolean expression\n",
    "year = int(input('Enter a year: '))\n",
    "if (year % 4 == 0) and ((year % 100 != 0) or (year % 400 == 0)):\n",
    "    print(year, 'is a leap year')\n",
    "else:\n",
    "    print(year, 'is NOT a leap year')"
   ]
  },
  {
   "cell_type": "code",
   "execution_count": null,
   "id": "8ae60f41-8ff1-46cd-a528-7da234363cc7",
   "metadata": {},
   "outputs": [],
   "source": [
    "# now let's write it as one Boolean expression\n",
    "# using De Morgan's Theorem to \"invert\" the sense of the expression\n",
    "year = int(input('Enter a year: '))\n",
    "if (year % 4 != 0) or ((year % 100 == 0) and (year % 400 != 0)):\n",
    "    print(year, 'is NOT a leap year')\n",
    "else:\n",
    "    print(year, 'is a leap year')"
   ]
  },
  {
   "cell_type": "code",
   "execution_count": 55,
   "id": "e45e2c0c-d542-46f8-bcb3-f99ed5b9de84",
   "metadata": {},
   "outputs": [
    {
     "data": {
      "text/plain": [
       "0.9836440875334497"
      ]
     },
     "execution_count": 55,
     "metadata": {},
     "output_type": "execute_result"
    }
   ],
   "source": [
    "1 * 364/365 * 363/365 * 362/365 # ... "
   ]
  },
  {
   "cell_type": "code",
   "execution_count": 61,
   "id": "bd899707-3eb7-452a-9841-f740e5690f32",
   "metadata": {},
   "outputs": [
    {
     "name": "stdin",
     "output_type": "stream",
     "text": [
      "Enter number of people in the room:  5\n"
     ]
    }
   ],
   "source": [
    "num_people = int(input('Enter number of people in the room: '))\n",
    "numerator = 365\n",
    "denominator = 365"
   ]
  },
  {
   "cell_type": "code",
   "execution_count": 62,
   "id": "94697e4b-895c-427b-88d2-6c63e0504ea0",
   "metadata": {},
   "outputs": [
    {
     "name": "stdout",
     "output_type": "stream",
     "text": [
      "365/365 * 364/365 * 363/365 * 362/365 * 361/365 * "
     ]
    }
   ],
   "source": [
    "for num in range(5):\n",
    "    print(numerator, '/', denominator, sep='', end=' * ')\n",
    "    numerator = numerator - 1 # numerator -= 1"
   ]
  },
  {
   "cell_type": "code",
   "execution_count": 74,
   "id": "12b40fe6-176c-4e16-8dfb-3fdfc28ec62f",
   "metadata": {},
   "outputs": [
    {
     "name": "stdin",
     "output_type": "stream",
     "text": [
      "Enter number of people in the room:  60\n"
     ]
    },
    {
     "name": "stdout",
     "output_type": "stream",
     "text": [
      "99.41%\n"
     ]
    }
   ],
   "source": [
    "num_people = int(input('Enter number of people in the room: '))\n",
    "numerator = 365\n",
    "denominator = 365\n",
    "\n",
    "probability = 1.0 # pre-load or \"prime the pump\"\n",
    "\n",
    "# forward reference - for loops\n",
    "for num in range(num_people): # \"do this num_people number of times\n",
    "    probability = probability * numerator / denominator\n",
    "    numerator = numerator - 1\n",
    "    \n",
    "probability = (1.0 - probability) * 100.0 # turn it into a percent\n",
    "print(\"%.2f%%\" % probability) # print out probability with 2 decimal places, using a Python 2-style formatted print"
   ]
  },
  {
   "cell_type": "markdown",
   "id": "b3f28d01-96ca-44e1-8a5f-764e4531a874",
   "metadata": {},
   "source": [
    "## Lab: for loops\n",
    "* write a Python program which asks the user for a string and then outputs the same string with each character duplicated\n",
    "  * e.g., if the user enters __Tesla__, your program will output __TTeessllaa__\n",
    "* write a Python program to compute __`n! (= n * n - 1 * n - 2 ... * 1)`__\n",
    "  * so if the user enters a 5, your program should compute __`5 * 4 * 3 * 2 * 1 (120)`__"
   ]
  },
  {
   "cell_type": "code",
   "execution_count": 2,
   "id": "c2d32d70-d36c-470a-a74e-355abe4738c2",
   "metadata": {},
   "outputs": [
    {
     "name": "stdin",
     "output_type": "stream",
     "text": [
      "Enter a string:  gazornin\n"
     ]
    },
    {
     "name": "stdout",
     "output_type": "stream",
     "text": [
      "ggaazzoorrnniinn\n"
     ]
    }
   ],
   "source": [
    "# steps...\n",
    "# 1. get a string\n",
    "# 2. for each letter in the string\n",
    "#.   3. print it out twice with no carriage return\n",
    "\n",
    "string = input('Enter a string: ') # step 1\n",
    "for letter in string: # step 2\n",
    "    print(letter * 2, end='') # step 3\n",
    "print()"
   ]
  },
  {
   "cell_type": "code",
   "execution_count": 3,
   "id": "9d1ffd0e-0c72-4cdd-910a-436db2e8596a",
   "metadata": {},
   "outputs": [
    {
     "name": "stdout",
     "output_type": "stream",
     "text": [
      "ggaazzoorrnniinn"
     ]
    }
   ],
   "source": [
    "# or...\n",
    "for letter in string:\n",
    "    print(letter + letter, end='')"
   ]
  },
  {
   "cell_type": "code",
   "execution_count": 4,
   "id": "87904ac4-7344-470f-8441-aaa976bec83f",
   "metadata": {},
   "outputs": [
    {
     "name": "stdout",
     "output_type": "stream",
     "text": [
      "ggaazzoorrnniinn"
     ]
    }
   ],
   "source": [
    "# or...\n",
    "for letter in string:\n",
    "    print(letter, letter, sep='', end='')"
   ]
  },
  {
   "cell_type": "code",
   "execution_count": 8,
   "id": "bf8b9af2-f1a7-4ba3-8e3c-aa3a5e72063a",
   "metadata": {},
   "outputs": [
    {
     "name": "stdout",
     "output_type": "stream",
     "text": [
      "ggaazzoorrnniinn"
     ]
    }
   ],
   "source": [
    "for letter in string:\n",
    "    for times in range(2): # Swaraj's solution, i.e., nested loop\n",
    "        print(letter, end='')"
   ]
  },
  {
   "cell_type": "code",
   "execution_count": 7,
   "id": "362d233f-8311-4f42-95ac-721f35af4303",
   "metadata": {},
   "outputs": [
    {
     "name": "stdout",
     "output_type": "stream",
     "text": [
      "ggaazzoorrnniinn\n"
     ]
    }
   ],
   "source": [
    "output = ''\n",
    "for letter in string:\n",
    "    output = output + 2 * letter\n",
    "\n",
    "print(output)"
   ]
  },
  {
   "cell_type": "code",
   "execution_count": 14,
   "id": "4aaf3cb5-a483-45b4-b89d-994387562e7f",
   "metadata": {},
   "outputs": [
    {
     "name": "stdin",
     "output_type": "stream",
     "text": [
      "Enter a number:  300\n"
     ]
    },
    {
     "name": "stdout",
     "output_type": "stream",
     "text": [
      "300! = 306057512216440636035370461297268629388588804173576999416776741259476533176716867465515291422477573349939147888701726368864263907759003154226842927906974559841225476930271954604008012215776252176854255965356903506788725264321896264299365204576448830388909753943489625436053225980776521270822437639449120128678675368305712293681943649956460498166450227716500185176546469340112226034729724066333258583506870150169794168850353752137554910289126407157154830282284937952636580145235233156936482233436799254594095276820608062232812387383880817049600000000000000000000000000000000000000000000000000000000000000000000000000\n"
     ]
    }
   ],
   "source": [
    "# steps\n",
    "# 1. get user input\n",
    "# 2. convert it to int\n",
    "# 2a. start with 1 (or the number) as a running product\n",
    "# 3. for each number from 1 up to user's number (or from user's number down to 1)\n",
    "# 4.     multiply product by the number\n",
    "\n",
    "number = int(input('Enter a number: ')) # steps 1 and 2\n",
    "factorial = number # step 2a\n",
    "\n",
    "for num in range(number - 1, 1, -1): # count down to 2 (we don't need 1)\n",
    "    factorial = factorial * num # factorial *= num\n",
    "\n",
    "print(number, '! = ', factorial, sep='')"
   ]
  },
  {
   "cell_type": "code",
   "execution_count": 15,
   "id": "0c28f0ba-86c8-4334-906e-cf8f8ea237e5",
   "metadata": {},
   "outputs": [
    {
     "name": "stdout",
     "output_type": "stream",
     "text": [
      "300! = 306057512216440636035370461297268629388588804173576999416776741259476533176716867465515291422477573349939147888701726368864263907759003154226842927906974559841225476930271954604008012215776252176854255965356903506788725264321896264299365204576448830388909753943489625436053225980776521270822437639449120128678675368305712293681943649956460498166450227716500185176546469340112226034729724066333258583506870150169794168850353752137554910289126407157154830282284937952636580145235233156936482233436799254594095276820608062232812387383880817049600000000000000000000000000000000000000000000000000000000000000000000000000\n"
     ]
    }
   ],
   "source": [
    "# start with 1 but count down as above\n",
    "factorial = 1 # step 2a\n",
    "\n",
    "for num in range(number, 1, -1): # count down to 2 (we don't need 1)\n",
    "    factorial = factorial * num # factorial *= num\n",
    "\n",
    "print(number, '! = ', factorial, sep='')"
   ]
  },
  {
   "cell_type": "code",
   "execution_count": 84,
   "id": "b5aabf5f-bba2-4dd7-baa6-25364a56a5bc",
   "metadata": {},
   "outputs": [
    {
     "data": {
      "text/plain": [
       "7"
      ]
     },
     "execution_count": 84,
     "metadata": {},
     "output_type": "execute_result"
    }
   ],
   "source": [
    "3 + 4"
   ]
  },
  {
   "cell_type": "code",
   "execution_count": 1,
   "id": "de3c6c34-89a8-4f01-bb4d-d62511b1a35b",
   "metadata": {},
   "outputs": [
    {
     "data": {
      "text/plain": [
       "4"
      ]
     },
     "execution_count": 1,
     "metadata": {},
     "output_type": "execute_result"
    }
   ],
   "source": [
    "2 + 2"
   ]
  },
  {
   "cell_type": "markdown",
   "id": "b492a487-52b2-40bc-9ce3-ef5d59975608",
   "metadata": {},
   "source": [
    "## Lab: while loops\n",
    "1. write Python code which prompts the user to enter a 5-letter string\n",
    "  * it then reads input from the user and stops if the user did in fact enter a 5-letter string\n",
    "  * otherwise, it prints an error message, and once again asks the user to enter a 5-letter string\n",
    "2. write a Python program which picks a random number between 1 and 100 and asks the user to guess it\n",
    "  * if the user's guess is too high, say it's too high\n",
    "  * if the user's guess is too low, say it's too low\n",
    "  * if the user's guess is correct, say it's correct and stop looping\n",
    "  * you can use the code below to get a random number\n",
    "  \n",
    "  <pre><b>\n",
    "  import random\n",
    "  number = random.randint(1, 100)\n",
    "  </b></pre>"
   ]
  },
  {
   "cell_type": "code",
   "execution_count": 31,
   "id": "391de0fd-fc8f-459d-bbea-29c97d80ce0f",
   "metadata": {},
   "outputs": [
    {
     "name": "stdin",
     "output_type": "stream",
     "text": [
      "Enter a 5-letter string:  no\n",
      "Enter a 5-letter string:  no\n",
      "Enter a 5-letter string:  no!!\n",
      "Enter a 5-letter string:  no!\n",
      "Enter a 5-letter string:  yes!!\n"
     ]
    }
   ],
   "source": [
    "string = ''\n",
    "while len(string) != 5:\n",
    "    string = input('Enter a 5-character string: ')"
   ]
  },
  {
   "cell_type": "code",
   "execution_count": 48,
   "id": "0b323ef9-3165-452c-8f62-d03c74705083",
   "metadata": {},
   "outputs": [
    {
     "name": "stdin",
     "output_type": "stream",
     "text": [
      "Enter your guess:  50\n"
     ]
    },
    {
     "name": "stdout",
     "output_type": "stream",
     "text": [
      "Too low! ...but you are REALLY close!\n"
     ]
    },
    {
     "name": "stdin",
     "output_type": "stream",
     "text": [
      "Enter your guess:  53\n"
     ]
    },
    {
     "name": "stdout",
     "output_type": "stream",
     "text": [
      "You got it!\n"
     ]
    }
   ],
   "source": [
    "# step 1: \"pull in\" random module\n",
    "# 2. generate a random int between 1 to 100\n",
    "# 2a. \"prime the pump\" by setting user's guess to 0 (outside range of 1..100 inclusive)\n",
    "# 3. while user's guess != number:\n",
    "#       4. get a guess from the user and int-ify\n",
    "#.      5. if guess > number print('too big')\n",
    "#.      6. else if guess < number print('too small')\n",
    "#.      7. else print('yay!')\n",
    "\n",
    "import random # step 1\n",
    "number = random.randint(1, 100) # step 2\n",
    "guess = 0 # step 2a\n",
    "\n",
    "while guess != number: # step 3\n",
    "    guess = int(input('Enter your guess: ')) # step 4\n",
    "    difference = abs(guess - number)\n",
    "   \n",
    "    close = ''\n",
    "    if 5 <= difference <= 10:\n",
    "        close = '...but you are close!'\n",
    "    elif 1 <= difference <= 4:\n",
    "        close = '...but you are REALLY close!'\n",
    "        \n",
    "    if guess > number: # 5 \n",
    "        print('Too high!' + close)\n",
    "    elif guess < number: # 6 \n",
    "        print('Too low!' + close)\n",
    "    else:\n",
    "        print('You got it!')"
   ]
  },
  {
   "cell_type": "code",
   "execution_count": 32,
   "id": "fa6f0780-2143-4fba-afa7-c1149a422328",
   "metadata": {},
   "outputs": [],
   "source": [
    "thing = 'thang'"
   ]
  },
  {
   "cell_type": "code",
   "execution_count": 33,
   "id": "5852583a-e6d7-467e-8bdb-bfaea62f5be3",
   "metadata": {},
   "outputs": [
    {
     "data": {
      "text/plain": [
       "140620455695408"
      ]
     },
     "execution_count": 33,
     "metadata": {},
     "output_type": "execute_result"
    }
   ],
   "source": [
    "id(thing)"
   ]
  },
  {
   "cell_type": "code",
   "execution_count": 34,
   "id": "b86f57e6-13ce-4545-8d8c-c2abac0b3258",
   "metadata": {},
   "outputs": [],
   "source": [
    "import random"
   ]
  },
  {
   "cell_type": "code",
   "execution_count": 35,
   "id": "be254d41-48dc-4b14-be53-df561b8a0755",
   "metadata": {},
   "outputs": [
    {
     "data": {
      "text/plain": [
       "140620183043424"
      ]
     },
     "execution_count": 35,
     "metadata": {},
     "output_type": "execute_result"
    }
   ],
   "source": [
    "id(random)"
   ]
  },
  {
   "cell_type": "code",
   "execution_count": 36,
   "id": "8c1f3b20-06ce-4667-8d59-c363cb9685aa",
   "metadata": {},
   "outputs": [
    {
     "data": {
      "text/plain": [
       "['BPF',\n",
       " 'LOG4',\n",
       " 'NV_MAGICCONST',\n",
       " 'RECIP_BPF',\n",
       " 'Random',\n",
       " 'SG_MAGICCONST',\n",
       " 'SystemRandom',\n",
       " 'TWOPI',\n",
       " '_Sequence',\n",
       " '_Set',\n",
       " '__all__',\n",
       " '__builtins__',\n",
       " '__cached__',\n",
       " '__doc__',\n",
       " '__file__',\n",
       " '__loader__',\n",
       " '__name__',\n",
       " '__package__',\n",
       " '__spec__',\n",
       " '_accumulate',\n",
       " '_acos',\n",
       " '_bisect',\n",
       " '_ceil',\n",
       " '_cos',\n",
       " '_e',\n",
       " '_exp',\n",
       " '_floor',\n",
       " '_inst',\n",
       " '_log',\n",
       " '_os',\n",
       " '_pi',\n",
       " '_random',\n",
       " '_repeat',\n",
       " '_sha512',\n",
       " '_sin',\n",
       " '_sqrt',\n",
       " '_test',\n",
       " '_test_generator',\n",
       " '_urandom',\n",
       " '_warn',\n",
       " 'betavariate',\n",
       " 'choice',\n",
       " 'choices',\n",
       " 'expovariate',\n",
       " 'gammavariate',\n",
       " 'gauss',\n",
       " 'getrandbits',\n",
       " 'getstate',\n",
       " 'lognormvariate',\n",
       " 'normalvariate',\n",
       " 'paretovariate',\n",
       " 'randbytes',\n",
       " 'randint',\n",
       " 'random',\n",
       " 'randrange',\n",
       " 'sample',\n",
       " 'seed',\n",
       " 'setstate',\n",
       " 'shuffle',\n",
       " 'triangular',\n",
       " 'uniform',\n",
       " 'vonmisesvariate',\n",
       " 'weibullvariate']"
      ]
     },
     "execution_count": 36,
     "metadata": {},
     "output_type": "execute_result"
    }
   ],
   "source": [
    "dir(random)"
   ]
  },
  {
   "cell_type": "code",
   "execution_count": 37,
   "id": "dc8d5376-4124-4c53-b2ad-215adc18080e",
   "metadata": {},
   "outputs": [
    {
     "name": "stdout",
     "output_type": "stream",
     "text": [
      "Help on method randint in module random:\n",
      "\n",
      "randint(a, b) method of random.Random instance\n",
      "    Return random integer in range [a, b], including both end points.\n",
      "\n"
     ]
    }
   ],
   "source": [
    "help(random.randint)"
   ]
  },
  {
   "cell_type": "code",
   "execution_count": 38,
   "id": "30b2cf8b-660f-475c-9feb-09af4138414e",
   "metadata": {},
   "outputs": [
    {
     "name": "stdout",
     "output_type": "stream",
     "text": [
      "Help on method randrange in module random:\n",
      "\n",
      "randrange(start, stop=None, step=1) method of random.Random instance\n",
      "    Choose a random item from range(start, stop[, step]).\n",
      "    \n",
      "    This fixes the problem with randint() which includes the\n",
      "    endpoint; in Python this is usually not what you want.\n",
      "\n"
     ]
    }
   ],
   "source": [
    "help(random.randrange)"
   ]
  },
  {
   "cell_type": "code",
   "execution_count": 44,
   "id": "05ab45c6-1fbd-443e-bb00-788933691864",
   "metadata": {},
   "outputs": [
    {
     "data": {
      "text/plain": [
       "160"
      ]
     },
     "execution_count": 44,
     "metadata": {},
     "output_type": "execute_result"
    }
   ],
   "source": [
    "random.randrange(100, 201, 2)"
   ]
  },
  {
   "cell_type": "code",
   "execution_count": 49,
   "id": "075dbee7-8b81-4723-a9b5-20eebf18b1d5",
   "metadata": {},
   "outputs": [
    {
     "name": "stdin",
     "output_type": "stream",
     "text": [
      "Enter a 5-character string:  \n"
     ]
    },
    {
     "name": "stdout",
     "output_type": "stream",
     "text": [
      "Pay attention, you need to enter a 5-character string!\n"
     ]
    },
    {
     "name": "stdin",
     "output_type": "stream",
     "text": [
      "Enter a 5-character string:  quit!\n"
     ]
    }
   ],
   "source": [
    "# Give the user up to 5 tries to comply\n",
    "\n",
    "for num_tries in range(5): # \"do this 5 times\" or \"we are counting from 0..4\"\n",
    "    string = input('Enter a 5-character string: ')\n",
    "    if len(string) == 5: # if they complied, we are done\n",
    "        break\n",
    "    print('Pay attention, you need to enter a 5-character string!')\n",
    "    \n",
    "if len(string) != 5:\n",
    "    print('you blew it')"
   ]
  },
  {
   "cell_type": "markdown",
   "id": "544f9d69-096c-46ed-8429-0635f9cbdacf",
   "metadata": {},
   "source": [
    "## Lab: break/continue/else\n",
    "* modify your guessing game to add the option for the user to give up by typing a 0 as his or her guess:\n",
    "    * if the user enters a 0, exit the loop\n",
    "    * after the loop, we need to determine   \n",
    "    whether the user gave up or guessed the   \n",
    "    number correctly\n",
    "    * if gave up, print 'sorry you\n",
    "     gave up'\n",
    "    * if correct, print 'got it!'\n",
    "</pre>\n"
   ]
  },
  {
   "cell_type": "code",
   "execution_count": 51,
   "id": "c115d6e1-b9ef-48eb-96e2-54c2a810437e",
   "metadata": {},
   "outputs": [
    {
     "name": "stdin",
     "output_type": "stream",
     "text": [
      "Enter your guess (0 to quit):  50\n"
     ]
    },
    {
     "name": "stdout",
     "output_type": "stream",
     "text": [
      "Too low!\n"
     ]
    },
    {
     "name": "stdin",
     "output_type": "stream",
     "text": [
      "Enter your guess (0 to quit):  75\n"
     ]
    },
    {
     "name": "stdout",
     "output_type": "stream",
     "text": [
      "You got it!\n"
     ]
    }
   ],
   "source": [
    "# step 1: \"pull in\" random module\n",
    "# 2. generate a random int between 1 to 100\n",
    "# 2a. \"prime the pump\" by setting user's guess to 0 (outside range of 1..100 inclusive)\n",
    "# 3. while user's guess != number:\n",
    "#       4. get a guess from the user and int-ify\n",
    "#.      4a. if guess is 0, then print message + break\n",
    "#.      5. if guess > number print('too big')\n",
    "#.      6. else if guess < number print('too small')\n",
    "#.      7. else print('yay!')\n",
    "\n",
    "import random # step 1\n",
    "number = random.randint(1, 100) # step 2\n",
    "guess = 0 # step 2a\n",
    "\n",
    "while guess != number: # step 3\n",
    "    guess = int(input('Enter your guess (0 to quit): ')) # step 4\n",
    "    \n",
    "    if guess == 0: # step 4a\n",
    "        print('Sorry you are not so good at this game!')\n",
    "        break # leave immediately\n",
    "        \n",
    "    difference = abs(guess - number)\n",
    "   \n",
    "    close = ''\n",
    "    if 5 <= difference <= 10:\n",
    "        close = '...but you are close!'\n",
    "    elif 1 <= difference <= 4:\n",
    "        close = '...but you are REALLY close!'\n",
    "        \n",
    "    if guess > number: # 5 \n",
    "        print('Too high!' + close)\n",
    "    elif guess < number: # 6 \n",
    "        print('Too low!' + close)\n",
    "else:\n",
    "    print('You got it!')"
   ]
  },
  {
   "cell_type": "code",
   "execution_count": 52,
   "id": "c927adab-361d-4953-9dbb-b1f30f3a04dc",
   "metadata": {},
   "outputs": [],
   "source": [
    "message = \"You're not finished.\""
   ]
  },
  {
   "cell_type": "code",
   "execution_count": 53,
   "id": "3cefaf76-c082-4f61-ab37-e1751af6668c",
   "metadata": {},
   "outputs": [
    {
     "data": {
      "text/plain": [
       "\"You're not finished.\""
      ]
     },
     "execution_count": 53,
     "metadata": {},
     "output_type": "execute_result"
    }
   ],
   "source": [
    "message"
   ]
  },
  {
   "cell_type": "code",
   "execution_count": 54,
   "id": "ea474a79-c077-49f4-9a82-2623773df0e7",
   "metadata": {},
   "outputs": [],
   "source": [
    "message = 'He said \"Nope!\"'"
   ]
  },
  {
   "cell_type": "code",
   "execution_count": 55,
   "id": "08011809-f006-48d2-b2fd-5b10c8692001",
   "metadata": {},
   "outputs": [
    {
     "data": {
      "text/plain": [
       "'He said \"Nope!\"'"
      ]
     },
     "execution_count": 55,
     "metadata": {},
     "output_type": "execute_result"
    }
   ],
   "source": [
    "message"
   ]
  },
  {
   "cell_type": "code",
   "execution_count": 56,
   "id": "7fb48c44-1761-4570-ab16-51d49d74983b",
   "metadata": {},
   "outputs": [
    {
     "name": "stdin",
     "output_type": "stream",
     "text": [
      "Enter a number:  0\n"
     ]
    }
   ],
   "source": [
    "while True:\n",
    "    number = int(input('Enter a number: '))\n",
    "    if number == 0:\n",
    "        break\n",
    "    # do something else"
   ]
  },
  {
   "cell_type": "code",
   "execution_count": 60,
   "id": "0c43e21c-43f6-4204-a657-50d105567997",
   "metadata": {},
   "outputs": [
    {
     "name": "stdin",
     "output_type": "stream",
     "text": [
      "Enter a number:  4\n"
     ]
    },
    {
     "name": "stdout",
     "output_type": "stream",
     "text": [
      "4\n"
     ]
    },
    {
     "name": "stdin",
     "output_type": "stream",
     "text": [
      "Enter a number:  5\n"
     ]
    },
    {
     "name": "stdout",
     "output_type": "stream",
     "text": [
      "5\n"
     ]
    },
    {
     "name": "stdin",
     "output_type": "stream",
     "text": [
      "Enter a number:  66\n"
     ]
    },
    {
     "name": "stdout",
     "output_type": "stream",
     "text": [
      "66\n"
     ]
    },
    {
     "name": "stdin",
     "output_type": "stream",
     "text": [
      "Enter a number:  0\n"
     ]
    }
   ],
   "source": [
    "while (number := int(input('Enter a number: '))) != 0:\n",
    "    print(number)"
   ]
  },
  {
   "cell_type": "code",
   "execution_count": 59,
   "id": "91455176-ebb9-4dca-8a55-a99305bdb7f8",
   "metadata": {},
   "outputs": [
    {
     "ename": "SyntaxError",
     "evalue": "invalid syntax (431332470.py, line 1)",
     "output_type": "error",
     "traceback": [
      "\u001b[0;36m  Input \u001b[0;32mIn [59]\u001b[0;36m\u001b[0m\n\u001b[0;31m    x := 4\u001b[0m\n\u001b[0m          ^\u001b[0m\n\u001b[0;31mSyntaxError\u001b[0m\u001b[0;31m:\u001b[0m invalid syntax\n"
     ]
    }
   ],
   "source": [
    "x := 4"
   ]
  },
  {
   "cell_type": "code",
   "execution_count": 61,
   "id": "25901b08-8d67-4600-aca1-03a3d5383092",
   "metadata": {},
   "outputs": [
    {
     "data": {
      "text/plain": [
       "'3.9.12 (main, Apr  5 2022, 01:53:17) \\n[Clang 12.0.0 ]'"
      ]
     },
     "execution_count": 61,
     "metadata": {},
     "output_type": "execute_result"
    }
   ],
   "source": [
    "import sys\n",
    "sys.version"
   ]
  },
  {
   "cell_type": "code",
   "execution_count": 63,
   "id": "89c77de4-996b-4eba-8e3a-02e188a29764",
   "metadata": {},
   "outputs": [
    {
     "name": "stdin",
     "output_type": "stream",
     "text": [
      "Enter your guess (0 to quit):  50\n"
     ]
    },
    {
     "name": "stdout",
     "output_type": "stream",
     "text": [
      "Too high!\n"
     ]
    },
    {
     "name": "stdin",
     "output_type": "stream",
     "text": [
      "Enter your guess (0 to quit):  25\n"
     ]
    },
    {
     "name": "stdout",
     "output_type": "stream",
     "text": [
      "Too high!\n"
     ]
    },
    {
     "name": "stdin",
     "output_type": "stream",
     "text": [
      "Enter your guess (0 to quit):  12\n"
     ]
    },
    {
     "name": "stdout",
     "output_type": "stream",
     "text": [
      "Too low!...but you are REALLY close!\n"
     ]
    },
    {
     "name": "stdin",
     "output_type": "stream",
     "text": [
      "Enter your guess (0 to quit):  14\n"
     ]
    },
    {
     "name": "stdout",
     "output_type": "stream",
     "text": [
      "You got it!\n"
     ]
    }
   ],
   "source": [
    "# step 1: \"pull in\" random module\n",
    "# 2. generate a random int between 1 to 100\n",
    "# 3. while user's guess != number:\n",
    "#       4. get a guess from the user and int-ify\n",
    "#.      4a. if guess is 0, then print message + break\n",
    "#.      5. if guess > number print('too big')\n",
    "#.      6. else if guess < number print('too small')\n",
    "#.      7. else print('yay!')\n",
    "\n",
    "import random # step 1\n",
    "number = random.randint(1, 100) # step 2\n",
    "\n",
    "while (guess := int(input('Enter your guess (0 to quit): '))) != 0: # step 3      \n",
    "    difference = abs(guess - number)\n",
    "   \n",
    "    close = ''\n",
    "    if 5 <= difference <= 10:\n",
    "        close = '...but you are close!'\n",
    "    elif 1 <= difference <= 4:\n",
    "        close = '...but you are REALLY close!'\n",
    "        \n",
    "    if guess > number: # 5 \n",
    "        print('Too high!' + close)\n",
    "    elif guess < number: # 6 \n",
    "        print('Too low!' + close)      \n",
    "    else:\n",
    "        print('You got it!')\n",
    "        break # leave immediately\n",
    "else:\n",
    "    print('Sorry you are quitting...')"
   ]
  },
  {
   "cell_type": "code",
   "execution_count": 73,
   "id": "08b3c931-91c3-40cc-9516-b0d9775d7526",
   "metadata": {},
   "outputs": [
    {
     "name": "stdout",
     "output_type": "stream",
     "text": [
      "The product of 5 and -4 is -20\n"
     ]
    }
   ],
   "source": [
    "# Python 3.6+ f-string\n",
    "x = 5\n",
    "y = -4\n",
    "print(f'The product of {x} and {y} is {x * y}')"
   ]
  },
  {
   "cell_type": "code",
   "execution_count": 70,
   "id": "c06efaf1-cf63-445d-832a-6f0e5b21af53",
   "metadata": {},
   "outputs": [
    {
     "name": "stdout",
     "output_type": "stream",
     "text": [
      "5\n"
     ]
    }
   ],
   "source": [
    "print('%i' % x)"
   ]
  },
  {
   "cell_type": "code",
   "execution_count": 75,
   "id": "3076d654-3ef1-4e5a-93df-8e3d11a1c911",
   "metadata": {},
   "outputs": [
    {
     "name": "stdout",
     "output_type": "stream",
     "text": [
      "52! = 80658175170943878571660636856403766975289505440883277824000000000000\n"
     ]
    }
   ],
   "source": [
    "import math\n",
    "n = 52\n",
    "print(f'{n}! = {math.factorial(n)}')"
   ]
  },
  {
   "cell_type": "markdown",
   "id": "75c554a2-748a-4729-abd0-1889eaf4bc7c",
   "metadata": {},
   "source": [
    "# Lab: Finding Prime Numbers\n",
    "* write a program to print out the prime numbers between 10 and 30\n",
    "* a number is prime if it's only divisible by 1 and itself\n",
    "* algorithm\n",
    "  * for each number 10 to 30\n",
    "    * try to divide in all of the numbers up to (but not including) the current number\n",
    "    * if any lower number divides in evenly, the number is not prime\n",
    "    * if NONE of the lower numbers divide in evenly, the number IS prime\n",
    "* later, if there's time, we'll look at another way to find prime numbers that was discovered by Eratosthenes"
   ]
  },
  {
   "cell_type": "code",
   "execution_count": 76,
   "id": "bbaa05ef-4937-4ba8-afc4-82abf7de2318",
   "metadata": {},
   "outputs": [],
   "source": [
    "# 1: for each number from 10 to 30\n",
    "#     2: for each possible divisor from 2 up to number - 1\n",
    "#           3: if divisor divides into number evenly, then:\n",
    "#                4. print NOT PRIME\n",
    "#                   5. stop checking\n",
    "#.      end of inner loop\n",
    "#.      print PRIME"
   ]
  },
  {
   "cell_type": "code",
   "execution_count": 89,
   "id": "7021d47a-7227-4137-9565-46aed4628bc4",
   "metadata": {},
   "outputs": [
    {
     "name": "stdout",
     "output_type": "stream",
     "text": [
      "2: \n",
      "3: 2 \n",
      "4: 2 3 \n",
      "5: 2 3 4 \n",
      "6: 2 3 4 5 \n",
      "7: 2 3 4 5 6 \n",
      "8: 2 3 4 5 6 7 \n",
      "9: 2 3 4 5 6 7 8 \n",
      "10: 2 3 4 5 6 7 8 9 \n",
      "11: 2 3 4 5 6 7 8 9 10 \n",
      "12: 2 3 4 5 6 7 8 9 10 11 \n",
      "13: 2 3 4 5 6 7 8 9 10 11 12 \n",
      "14: 2 3 4 5 6 7 8 9 10 11 12 13 \n",
      "15: 2 3 4 5 6 7 8 9 10 11 12 13 14 \n",
      "16: 2 3 4 5 6 7 8 9 10 11 12 13 14 15 \n",
      "17: 2 3 4 5 6 7 8 9 10 11 12 13 14 15 16 \n",
      "18: 2 3 4 5 6 7 8 9 10 11 12 13 14 15 16 17 \n",
      "19: 2 3 4 5 6 7 8 9 10 11 12 13 14 15 16 17 18 \n",
      "20: 2 3 4 5 6 7 8 9 10 11 12 13 14 15 16 17 18 19 \n",
      "21: 2 3 4 5 6 7 8 9 10 11 12 13 14 15 16 17 18 19 20 \n",
      "22: 2 3 4 5 6 7 8 9 10 11 12 13 14 15 16 17 18 19 20 21 \n",
      "23: 2 3 4 5 6 7 8 9 10 11 12 13 14 15 16 17 18 19 20 21 22 \n",
      "24: 2 3 4 5 6 7 8 9 10 11 12 13 14 15 16 17 18 19 20 21 22 23 \n",
      "25: 2 3 4 5 6 7 8 9 10 11 12 13 14 15 16 17 18 19 20 21 22 23 24 \n",
      "26: 2 3 4 5 6 7 8 9 10 11 12 13 14 15 16 17 18 19 20 21 22 23 24 25 \n",
      "27: 2 3 4 5 6 7 8 9 10 11 12 13 14 15 16 17 18 19 20 21 22 23 24 25 26 \n",
      "28: 2 3 4 5 6 7 8 9 10 11 12 13 14 15 16 17 18 19 20 21 22 23 24 25 26 27 \n",
      "29: 2 3 4 5 6 7 8 9 10 11 12 13 14 15 16 17 18 19 20 21 22 23 24 25 26 27 28 \n",
      "30: 2 3 4 5 6 7 8 9 10 11 12 13 14 15 16 17 18 19 20 21 22 23 24 25 26 27 28 29 \n"
     ]
    }
   ],
   "source": [
    "# could we test our logic by printing out what we are going to test/check\n",
    "for number in range(2, 31): # 10..30\n",
    "    print(number, end=': ')\n",
    "    for possible in range(2, number): # 2..number-1\n",
    "        print(possible, end=' ')\n",
    "    print()"
   ]
  },
  {
   "cell_type": "code",
   "execution_count": 96,
   "id": "d1959924-1259-44bc-ae74-ce1dbadde437",
   "metadata": {},
   "outputs": [
    {
     "name": "stdout",
     "output_type": "stream",
     "text": [
      "2 is PRIME\n",
      "3 is PRIME\n",
      "4 is composite\n",
      "5 is PRIME\n",
      "6 is composite\n",
      "7 is PRIME\n",
      "8 is composite\n",
      "9 is composite\n",
      "10 is composite\n",
      "11 is PRIME\n",
      "12 is composite\n",
      "13 is PRIME\n",
      "14 is composite\n",
      "15 is composite\n",
      "16 is composite\n",
      "17 is PRIME\n",
      "18 is composite\n",
      "19 is PRIME\n",
      "20 is composite\n",
      "21 is composite\n",
      "22 is composite\n",
      "23 is PRIME\n",
      "24 is composite\n",
      "25 is composite\n",
      "26 is composite\n",
      "27 is composite\n",
      "28 is composite\n",
      "29 is PRIME\n"
     ]
    }
   ],
   "source": [
    "# 1: for each number from 10 to 30\n",
    "#     2: for each possible divisor from 2 up to number - 1\n",
    "#           3: if divisor divides into number evenly, then:\n",
    "#                4. print NOT PRIME\n",
    "#                   5. stop checking\n",
    "#.      end of inner loop\n",
    "#.      print PRIME\n",
    "\n",
    "for number in range(2, 30): # step 1\n",
    "    for possible in range(2, number): # step 2\n",
    "        if number % possible == 0: # step 3\n",
    "            print(number, 'is composite') # step 4\n",
    "            break # step 5\n",
    "    else: # Ah, Guido, we love your else clause we just hate the name!\n",
    "        print(number, 'is PRIME')"
   ]
  },
  {
   "cell_type": "code",
   "execution_count": 92,
   "id": "1a78c89e-9704-4695-aa96-c56972ce8251",
   "metadata": {},
   "outputs": [
    {
     "data": {
      "text/plain": [
       "54.76312628037227"
      ]
     },
     "execution_count": 92,
     "metadata": {},
     "output_type": "execute_result"
    }
   ],
   "source": [
    "import math\n",
    "math.sqrt(2999)"
   ]
  },
  {
   "cell_type": "code",
   "execution_count": null,
   "id": "3993bc51-17fc-48ad-81f3-ceb6fdab075c",
   "metadata": {},
   "outputs": [],
   "source": [
    "num = 2999\n",
    "int(math.sqrt(num) + 1)"
   ]
  },
  {
   "cell_type": "code",
   "execution_count": 93,
   "id": "0d5d4204-588f-46c2-b289-41de8b5948da",
   "metadata": {},
   "outputs": [
    {
     "name": "stdout",
     "output_type": "stream",
     "text": [
      "zsh:1: command not found: dir\n"
     ]
    }
   ],
   "source": [
    "!dir # does this go out to Windows command prompt and run the 'dir' command ... YES"
   ]
  },
  {
   "cell_type": "code",
   "execution_count": 94,
   "id": "ed3456f1-4cc6-4262-b885-eef548c138b0",
   "metadata": {},
   "outputs": [
    {
     "name": "stdout",
     "output_type": "stream",
     "text": [
      "Wed Jul 27 09:05:19 MDT 2022\n"
     ]
    }
   ],
   "source": [
    "!date # will not work for Windows users"
   ]
  },
  {
   "cell_type": "code",
   "execution_count": 97,
   "id": "182451cb-160e-474c-8d39-2390eee48027",
   "metadata": {},
   "outputs": [
    {
     "name": "stdout",
     "output_type": "stream",
     "text": [
      "2 3 4 5 6 7 8 9 10 11 12 13 14 15 16 17 18 19 20 21 22 23 24 25 26 27 28 29 30 31 32 33 34 35 36 37 38 39 40 41 42 43 44 45 46 47 48 49 50 51 52 53 54 "
     ]
    }
   ],
   "source": [
    "num = 2999\n",
    "for divisor in range(2, int(math.sqrt(num) + 1)):\n",
    "    print(divisor, end=' ')"
   ]
  },
  {
   "cell_type": "markdown",
   "id": "a21e3928-e7fb-4ba2-87e5-f4793666aa09",
   "metadata": {},
   "source": [
    "## Lab: Lists\n",
    "* create two lists which are different\n",
    "* compare them for equality\n",
    "* create a third list which has the same elements as one of the other lists\n",
    "* verify that Python says they are the same"
   ]
  },
  {
   "cell_type": "code",
   "execution_count": 98,
   "id": "8acec311-5142-4b28-ae4b-eee94680f4f2",
   "metadata": {},
   "outputs": [],
   "source": [
    "list_one = [1, 2, 3]\n",
    "list_two = [4, 5, 6]\n",
    "list_three = [1, 2, 3]"
   ]
  },
  {
   "cell_type": "code",
   "execution_count": 99,
   "id": "f6d773bd-73c4-4adb-abfd-ef9ccbad7b1c",
   "metadata": {},
   "outputs": [
    {
     "data": {
      "text/plain": [
       "False"
      ]
     },
     "execution_count": 99,
     "metadata": {},
     "output_type": "execute_result"
    }
   ],
   "source": [
    "list_one == list_two"
   ]
  },
  {
   "cell_type": "code",
   "execution_count": 100,
   "id": "b587d499-7fe7-40cd-ad10-71d755adea61",
   "metadata": {},
   "outputs": [
    {
     "data": {
      "text/plain": [
       "True"
      ]
     },
     "execution_count": 100,
     "metadata": {},
     "output_type": "execute_result"
    }
   ],
   "source": [
    "list_one == list_three"
   ]
  },
  {
   "cell_type": "code",
   "execution_count": 101,
   "id": "ea1d4ce2-d48a-45c5-99da-48ed417a8f7b",
   "metadata": {
    "collapsed": true,
    "jupyter": {
     "outputs_hidden": true
    },
    "tags": []
   },
   "outputs": [
    {
     "data": {
      "text/plain": [
       "False"
      ]
     },
     "execution_count": 101,
     "metadata": {},
     "output_type": "execute_result"
    }
   ],
   "source": [
    "# what about this?\n",
    "list_one == [3, 2, 1]"
   ]
  },
  {
   "cell_type": "code",
   "execution_count": 102,
   "id": "d6649867-c8d8-433c-8126-db031336b893",
   "metadata": {},
   "outputs": [
    {
     "data": {
      "text/plain": [
       "True"
      ]
     },
     "execution_count": 102,
     "metadata": {},
     "output_type": "execute_result"
    }
   ],
   "source": [
    "[1, 2, 3] == [1.0, 2.0, 3.0]"
   ]
  },
  {
   "cell_type": "code",
   "execution_count": 103,
   "id": "e7db6005-d98a-4b0f-83e3-932908991faa",
   "metadata": {},
   "outputs": [
    {
     "data": {
      "text/plain": [
       "True"
      ]
     },
     "execution_count": 103,
     "metadata": {},
     "output_type": "execute_result"
    }
   ],
   "source": [
    "1 == 1.0"
   ]
  },
  {
   "cell_type": "code",
   "execution_count": 105,
   "id": "88784012-0afd-4830-91cc-2a8334916f49",
   "metadata": {},
   "outputs": [
    {
     "data": {
      "text/plain": [
       "True"
      ]
     },
     "execution_count": 105,
     "metadata": {},
     "output_type": "execute_result"
    }
   ],
   "source": [
    "[False, False, False] == [0, 0, 0]"
   ]
  },
  {
   "cell_type": "code",
   "execution_count": 106,
   "id": "6b1989d3-7792-4986-9a71-72381cfd1bfa",
   "metadata": {},
   "outputs": [
    {
     "data": {
      "text/plain": [
       "'yth'"
      ]
     },
     "execution_count": 106,
     "metadata": {},
     "output_type": "execute_result"
    }
   ],
   "source": [
    "'Python'[1:4]"
   ]
  },
  {
   "cell_type": "code",
   "execution_count": 109,
   "id": "c2db92b0-e6c2-4948-823a-4a0617856316",
   "metadata": {},
   "outputs": [],
   "source": [
    "something = 'blahblahblah'"
   ]
  },
  {
   "cell_type": "code",
   "execution_count": 113,
   "id": "16d2e407-fa5b-42f2-bb6a-8dbedd260da9",
   "metadata": {},
   "outputs": [
    {
     "data": {
      "text/plain": [
       "'blahblah'"
      ]
     },
     "execution_count": 113,
     "metadata": {},
     "output_type": "execute_result"
    }
   ],
   "source": [
    "something[4:]"
   ]
  },
  {
   "cell_type": "code",
   "execution_count": 119,
   "id": "923ee266-eaef-4685-b426-1ea1217d1ce3",
   "metadata": {},
   "outputs": [
    {
     "data": {
      "text/plain": [
       "'blahblahblah'"
      ]
     },
     "execution_count": 119,
     "metadata": {},
     "output_type": "execute_result"
    }
   ],
   "source": [
    "something[:]"
   ]
  },
  {
   "cell_type": "code",
   "execution_count": 120,
   "id": "c4b1f1b4-5320-4e6c-b241-c71a82c38d89",
   "metadata": {},
   "outputs": [
    {
     "data": {
      "text/plain": [
       "'ahblah'"
      ]
     },
     "execution_count": 120,
     "metadata": {},
     "output_type": "execute_result"
    }
   ],
   "source": [
    "something[6:32]"
   ]
  },
  {
   "cell_type": "code",
   "execution_count": 121,
   "id": "72c07a07-4f97-44d7-90b3-94ed5852b128",
   "metadata": {},
   "outputs": [
    {
     "data": {
      "text/plain": [
       "''"
      ]
     },
     "execution_count": 121,
     "metadata": {},
     "output_type": "execute_result"
    }
   ],
   "source": [
    "something[32:35]"
   ]
  },
  {
   "cell_type": "code",
   "execution_count": 122,
   "id": "f7a5088e-18a0-4a05-b92f-988c7b75544a",
   "metadata": {},
   "outputs": [
    {
     "ename": "IndexError",
     "evalue": "string index out of range",
     "output_type": "error",
     "traceback": [
      "\u001b[0;31m---------------------------------------------------------------------------\u001b[0m",
      "\u001b[0;31mIndexError\u001b[0m                                Traceback (most recent call last)",
      "Input \u001b[0;32mIn [122]\u001b[0m, in \u001b[0;36m<cell line: 1>\u001b[0;34m()\u001b[0m\n\u001b[0;32m----> 1\u001b[0m \u001b[43msomething\u001b[49m\u001b[43m[\u001b[49m\u001b[38;5;241;43m32\u001b[39;49m\u001b[43m]\u001b[49m\n",
      "\u001b[0;31mIndexError\u001b[0m: string index out of range"
     ]
    }
   ],
   "source": [
    "something[32]"
   ]
  },
  {
   "cell_type": "code",
   "execution_count": 123,
   "id": "7791739b-7593-4786-ba9c-d984ccbd6ea1",
   "metadata": {},
   "outputs": [
    {
     "data": {
      "text/plain": [
       "''"
      ]
     },
     "execution_count": 123,
     "metadata": {},
     "output_type": "execute_result"
    }
   ],
   "source": [
    "something[32:33]"
   ]
  },
  {
   "cell_type": "code",
   "execution_count": 125,
   "id": "b091189a-f66a-44ce-87ca-5bfb2b2dfe59",
   "metadata": {},
   "outputs": [],
   "source": [
    "list1 = ['Janice', 'Carlos', 'Wayne']\n",
    "list2 = ['Matt', 'Gloria']"
   ]
  },
  {
   "cell_type": "code",
   "execution_count": 127,
   "id": "da671e1a-ad38-4cae-9591-5c19e71080b0",
   "metadata": {},
   "outputs": [],
   "source": [
    "list3 = list2 + list1[:2]"
   ]
  },
  {
   "cell_type": "code",
   "execution_count": 128,
   "id": "6589eb4e-0385-4184-95eb-e69cf7cfa020",
   "metadata": {},
   "outputs": [
    {
     "data": {
      "text/plain": [
       "['Matt', 'Gloria', 'Janice', 'Carlos']"
      ]
     },
     "execution_count": 128,
     "metadata": {},
     "output_type": "execute_result"
    }
   ],
   "source": [
    "list3"
   ]
  },
  {
   "cell_type": "code",
   "execution_count": 132,
   "id": "77489521-0aca-4de5-a52b-a504bf7b1aec",
   "metadata": {},
   "outputs": [],
   "source": [
    "cars = ['Lordstown', 'Canoo', 'Nio']"
   ]
  },
  {
   "cell_type": "code",
   "execution_count": 133,
   "id": "d84e99c3-3752-4cef-9588-0f5c800301f5",
   "metadata": {},
   "outputs": [
    {
     "name": "stdin",
     "output_type": "stream",
     "text": [
      "Input from somebody:  Tesla Rivian Lucid\n"
     ]
    }
   ],
   "source": [
    "stuff = input('Input from somebody: ')"
   ]
  },
  {
   "cell_type": "code",
   "execution_count": 134,
   "id": "951a5ba8-9dd6-4fb4-978b-89ab04a3c40e",
   "metadata": {},
   "outputs": [
    {
     "data": {
      "text/plain": [
       "'Tesla Rivian Lucid'"
      ]
     },
     "execution_count": 134,
     "metadata": {},
     "output_type": "execute_result"
    }
   ],
   "source": [
    "stuff"
   ]
  },
  {
   "cell_type": "code",
   "execution_count": 135,
   "id": "7782979d-8ea3-46a8-a652-cfbee2989e41",
   "metadata": {},
   "outputs": [
    {
     "data": {
      "text/plain": [
       "['Lordstown', 'Canoo', 'Nio', 'Tesla', 'Rivian', 'Lucid']"
      ]
     },
     "execution_count": 135,
     "metadata": {},
     "output_type": "execute_result"
    }
   ],
   "source": [
    "cars + stuff.split()"
   ]
  },
  {
   "cell_type": "code",
   "execution_count": 138,
   "id": "7e78782e-5cda-4b20-97aa-1d3891c4df9a",
   "metadata": {},
   "outputs": [
    {
     "data": {
      "text/plain": [
       "'ring we were playing with '"
      ]
     },
     "execution_count": 138,
     "metadata": {},
     "output_type": "execute_result"
    }
   ],
   "source": [
    "'The string we were playing with before'[6:-6]"
   ]
  },
  {
   "cell_type": "code",
   "execution_count": 139,
   "id": "3cf777ba-5384-407b-9e69-1973d26683bd",
   "metadata": {},
   "outputs": [],
   "source": [
    "list1 = ['Janice', 'Carlos', 'Wayne']\n",
    "list2 = ['Matt', 'Gloria']"
   ]
  },
  {
   "cell_type": "code",
   "execution_count": 140,
   "id": "bab4cdd7-4ad9-430b-b8b5-cd819cb5a325",
   "metadata": {},
   "outputs": [
    {
     "data": {
      "text/plain": [
       "['Janice', 'Carlos', 'Wayne', 'Matt', 'Gloria']"
      ]
     },
     "execution_count": 140,
     "metadata": {},
     "output_type": "execute_result"
    }
   ],
   "source": [
    "list1 += list2\n",
    "list1"
   ]
  },
  {
   "cell_type": "code",
   "execution_count": 141,
   "id": "51564d6f-5454-487f-ba20-3074e9a84f59",
   "metadata": {},
   "outputs": [
    {
     "data": {
      "text/plain": [
       "'i'"
      ]
     },
     "execution_count": 141,
     "metadata": {},
     "output_type": "execute_result"
    }
   ],
   "source": [
    "'string'[3]"
   ]
  },
  {
   "cell_type": "code",
   "execution_count": 143,
   "id": "3bf69df9-8420-4c84-8429-64cc4de66490",
   "metadata": {},
   "outputs": [
    {
     "data": {
      "text/plain": [
       "'a'"
      ]
     },
     "execution_count": 143,
     "metadata": {},
     "output_type": "execute_result"
    }
   ],
   "source": [
    "list1[-1][-1]"
   ]
  },
  {
   "cell_type": "code",
   "execution_count": 144,
   "id": "90d09c05-bbfa-4852-9cd7-695004ebb814",
   "metadata": {},
   "outputs": [
    {
     "data": {
      "text/plain": [
       "5"
      ]
     },
     "execution_count": 144,
     "metadata": {},
     "output_type": "execute_result"
    }
   ],
   "source": [
    "len('hello')"
   ]
  },
  {
   "cell_type": "code",
   "execution_count": 145,
   "id": "05f912c7-7998-453f-9526-b43fcb1bc715",
   "metadata": {},
   "outputs": [
    {
     "data": {
      "text/plain": [
       "5"
      ]
     },
     "execution_count": 145,
     "metadata": {},
     "output_type": "execute_result"
    }
   ],
   "source": [
    "len(list1)"
   ]
  },
  {
   "cell_type": "code",
   "execution_count": 146,
   "id": "ba1d42ef-4ef7-4d3e-8597-47b7232f01f6",
   "metadata": {},
   "outputs": [
    {
     "data": {
      "text/plain": [
       "['Janice', 'Carlos', 'Wayne', 'Matt', 'Gloria']"
      ]
     },
     "execution_count": 146,
     "metadata": {},
     "output_type": "execute_result"
    }
   ],
   "source": [
    "list1"
   ]
  },
  {
   "cell_type": "code",
   "execution_count": 147,
   "id": "1e21a514-61b3-4827-a620-83a6df09349d",
   "metadata": {},
   "outputs": [],
   "source": [
    "list1.append('Dave')"
   ]
  },
  {
   "cell_type": "code",
   "execution_count": 148,
   "id": "8bcb9fa0-06d3-4b88-8988-ba6e75ad2c90",
   "metadata": {},
   "outputs": [
    {
     "data": {
      "text/plain": [
       "['Janice', 'Carlos', 'Wayne', 'Matt', 'Gloria', 'Dave']"
      ]
     },
     "execution_count": 148,
     "metadata": {},
     "output_type": "execute_result"
    }
   ],
   "source": [
    "list1"
   ]
  },
  {
   "cell_type": "code",
   "execution_count": 149,
   "id": "d48ee644-f74f-42c6-8b84-abb6c73c0555",
   "metadata": {},
   "outputs": [
    {
     "ename": "NameError",
     "evalue": "name 'append' is not defined",
     "output_type": "error",
     "traceback": [
      "\u001b[0;31m---------------------------------------------------------------------------\u001b[0m",
      "\u001b[0;31mNameError\u001b[0m                                 Traceback (most recent call last)",
      "Input \u001b[0;32mIn [149]\u001b[0m, in \u001b[0;36m<cell line: 1>\u001b[0;34m()\u001b[0m\n\u001b[0;32m----> 1\u001b[0m \u001b[43mappend\u001b[49m(list1, \u001b[38;5;124m'\u001b[39m\u001b[38;5;124mDave\u001b[39m\u001b[38;5;124m'\u001b[39m)\n",
      "\u001b[0;31mNameError\u001b[0m: name 'append' is not defined"
     ]
    }
   ],
   "source": [
    "append(list1, 'Dave') # will not work"
   ]
  },
  {
   "cell_type": "code",
   "execution_count": 150,
   "id": "8c49a5c4-42f0-4c62-8348-a237bb8e9fdb",
   "metadata": {},
   "outputs": [
    {
     "data": {
      "text/plain": [
       "6"
      ]
     },
     "execution_count": 150,
     "metadata": {},
     "output_type": "execute_result"
    }
   ],
   "source": [
    "len('string')"
   ]
  },
  {
   "cell_type": "code",
   "execution_count": 151,
   "id": "18048f44-1d06-4ffe-bff4-70e8edb083ac",
   "metadata": {},
   "outputs": [
    {
     "data": {
      "text/plain": [
       "6"
      ]
     },
     "execution_count": 151,
     "metadata": {},
     "output_type": "execute_result"
    }
   ],
   "source": [
    "len(list1)"
   ]
  },
  {
   "cell_type": "code",
   "execution_count": 152,
   "id": "4d49fc34-a5b5-411c-b438-6746188d2b45",
   "metadata": {},
   "outputs": [
    {
     "ename": "TypeError",
     "evalue": "object of type 'int' has no len()",
     "output_type": "error",
     "traceback": [
      "\u001b[0;31m---------------------------------------------------------------------------\u001b[0m",
      "\u001b[0;31mTypeError\u001b[0m                                 Traceback (most recent call last)",
      "Input \u001b[0;32mIn [152]\u001b[0m, in \u001b[0;36m<cell line: 1>\u001b[0;34m()\u001b[0m\n\u001b[0;32m----> 1\u001b[0m \u001b[38;5;28;43mlen\u001b[39;49m\u001b[43m(\u001b[49m\u001b[38;5;241;43m4\u001b[39;49m\u001b[43m)\u001b[49m\n",
      "\u001b[0;31mTypeError\u001b[0m: object of type 'int' has no len()"
     ]
    }
   ],
   "source": [
    "len(4)"
   ]
  },
  {
   "cell_type": "code",
   "execution_count": 154,
   "id": "19a9005f-954e-4459-b6de-d79a72e92df2",
   "metadata": {},
   "outputs": [],
   "source": [
    "# methods are datatype-specific functions\n",
    "# so, .append() is a list function (or a method)"
   ]
  },
  {
   "cell_type": "code",
   "execution_count": 155,
   "id": "621f308e-ac5c-4aa1-b810-a26f92e01b42",
   "metadata": {},
   "outputs": [
    {
     "data": {
      "text/plain": [
       "'ngs are '"
      ]
     },
     "execution_count": 155,
     "metadata": {},
     "output_type": "execute_result"
    }
   ],
   "source": [
    "'strings are immutable'[4:12]"
   ]
  },
  {
   "cell_type": "code",
   "execution_count": 160,
   "id": "b2791ba4-93dc-4c34-bc07-a27992e367b9",
   "metadata": {},
   "outputs": [],
   "source": [
    "list1 = [1, 2, 3]"
   ]
  },
  {
   "cell_type": "code",
   "execution_count": 161,
   "id": "af73ab34-1a83-460e-a591-75b00745649c",
   "metadata": {},
   "outputs": [],
   "source": [
    "list2 = [4, 5]"
   ]
  },
  {
   "cell_type": "code",
   "execution_count": 162,
   "id": "5fd59534-67d4-40ed-9d13-1bfd2d1b7186",
   "metadata": {},
   "outputs": [
    {
     "data": {
      "text/plain": [
       "[1, 2, 3, 4, 5]"
      ]
     },
     "execution_count": 162,
     "metadata": {},
     "output_type": "execute_result"
    }
   ],
   "source": [
    "list1 + list2"
   ]
  },
  {
   "cell_type": "code",
   "execution_count": 163,
   "id": "7007edcf-fcc8-4586-9ca1-c32fb75e6aec",
   "metadata": {},
   "outputs": [],
   "source": [
    "list1.append(6)"
   ]
  },
  {
   "cell_type": "code",
   "execution_count": 164,
   "id": "5731a4f5-51e0-4f3a-8387-c492ded5f675",
   "metadata": {},
   "outputs": [
    {
     "data": {
      "text/plain": [
       "[1, 2, 3, 6]"
      ]
     },
     "execution_count": 164,
     "metadata": {},
     "output_type": "execute_result"
    }
   ],
   "source": [
    "list1"
   ]
  },
  {
   "cell_type": "code",
   "execution_count": 165,
   "id": "bcc94279-81d1-458c-b416-2a27462c5dca",
   "metadata": {},
   "outputs": [],
   "source": [
    "list1.extend(list2)"
   ]
  },
  {
   "cell_type": "code",
   "execution_count": 166,
   "id": "ba1d3cef-82e5-447a-863e-591fceba8b7e",
   "metadata": {},
   "outputs": [
    {
     "data": {
      "text/plain": [
       "[1, 2, 3, 6, 4, 5]"
      ]
     },
     "execution_count": 166,
     "metadata": {},
     "output_type": "execute_result"
    }
   ],
   "source": [
    "list1"
   ]
  },
  {
   "cell_type": "code",
   "execution_count": 167,
   "id": "f11f043d-e017-4c0b-a373-3a20ebe66a5d",
   "metadata": {},
   "outputs": [],
   "source": [
    "list1 += list2"
   ]
  },
  {
   "cell_type": "code",
   "execution_count": 168,
   "id": "ff65145b-9e67-41d2-918a-940763c99f2a",
   "metadata": {},
   "outputs": [
    {
     "data": {
      "text/plain": [
       "[1, 2, 3, 6, 4, 5, 4, 5]"
      ]
     },
     "execution_count": 168,
     "metadata": {},
     "output_type": "execute_result"
    }
   ],
   "source": [
    "list1"
   ]
  },
  {
   "cell_type": "code",
   "execution_count": 169,
   "id": "d0cb1c1e-d77d-40e3-be31-f7e62c0df556",
   "metadata": {},
   "outputs": [],
   "source": [
    "list1.append(list2)"
   ]
  },
  {
   "cell_type": "code",
   "execution_count": 170,
   "id": "90e0fb9d-373f-4dcb-bd09-e34f3c10e5b8",
   "metadata": {},
   "outputs": [
    {
     "data": {
      "text/plain": [
       "[1, 2, 3, 6, 4, 5, 4, 5, [4, 5]]"
      ]
     },
     "execution_count": 170,
     "metadata": {},
     "output_type": "execute_result"
    }
   ],
   "source": [
    "list1"
   ]
  },
  {
   "cell_type": "code",
   "execution_count": 171,
   "id": "8461cc79-2436-4f36-9e82-5728f8993f6f",
   "metadata": {},
   "outputs": [
    {
     "data": {
      "text/plain": [
       "[4, 5]"
      ]
     },
     "execution_count": 171,
     "metadata": {},
     "output_type": "execute_result"
    }
   ],
   "source": [
    "list1[-1]"
   ]
  },
  {
   "cell_type": "code",
   "execution_count": 172,
   "id": "1ad98f93-d347-4628-ad17-b61d6382e319",
   "metadata": {},
   "outputs": [],
   "source": [
    "del list1[-1]"
   ]
  },
  {
   "cell_type": "code",
   "execution_count": 173,
   "id": "0c23fca2-603b-41ad-96f9-27dcd7ea8566",
   "metadata": {},
   "outputs": [
    {
     "data": {
      "text/plain": [
       "[1, 2, 3, 6, 4, 5, 4, 5]"
      ]
     },
     "execution_count": 173,
     "metadata": {},
     "output_type": "execute_result"
    }
   ],
   "source": [
    "list1"
   ]
  },
  {
   "cell_type": "markdown",
   "id": "df7f9d67-bda6-4a8b-8c73-b499cc96271a",
   "metadata": {},
   "source": [
    "## Lab: Lists\n",
    "* create an empty list\n",
    "* write Python code to repeatedly ask the user for a word until the word is 'quit'\n",
    "* add each word to the list\n",
    "* after the user types 'quit' print every other word (first, third, fifth, etc.)\n",
    "* then print every other word (second, fourth, sixth, etc.)\n"
   ]
  },
  {
   "cell_type": "code",
   "execution_count": 175,
   "id": "1954083d-12c1-4e93-bdc3-dfb554fd02ac",
   "metadata": {},
   "outputs": [
    {
     "name": "stdin",
     "output_type": "stream",
     "text": [
      "Enter a word apple\n"
     ]
    },
    {
     "name": "stdout",
     "output_type": "stream",
     "text": [
      "do something with apple\n"
     ]
    },
    {
     "name": "stdin",
     "output_type": "stream",
     "text": [
      "Enter a word banana\n"
     ]
    },
    {
     "name": "stdout",
     "output_type": "stream",
     "text": [
      "do something with banana\n"
     ]
    },
    {
     "name": "stdin",
     "output_type": "stream",
     "text": [
      "Enter a word fig\n"
     ]
    },
    {
     "name": "stdout",
     "output_type": "stream",
     "text": [
      "do something with fig\n"
     ]
    },
    {
     "name": "stdin",
     "output_type": "stream",
     "text": [
      "Enter a word cherry\n"
     ]
    },
    {
     "name": "stdout",
     "output_type": "stream",
     "text": [
      "do something with cherry\n"
     ]
    },
    {
     "name": "stdin",
     "output_type": "stream",
     "text": [
      "Enter a word quit\n"
     ]
    }
   ],
   "source": [
    "while (word := input('Enter a word')) != 'quit':\n",
    "    print('do something with', word)"
   ]
  },
  {
   "cell_type": "code",
   "execution_count": 213,
   "id": "d8428752-bbc1-412b-a8da-f13986ebcb52",
   "metadata": {},
   "outputs": [
    {
     "name": "stdin",
     "output_type": "stream",
     "text": [
      "Enter a word:  matt\n",
      "Enter a word:  smith\n",
      "Enter a word:  ivey\n",
      "Enter a word:  floyd\n",
      "Enter a word:  simon\n",
      "Enter a word:  lutz\n",
      "Enter a word:  janice\n",
      "Enter a word:  woods\n",
      "Enter a word:  quit\n"
     ]
    },
    {
     "name": "stdout",
     "output_type": "stream",
     "text": [
      "['matt', 'ivey', 'simon', 'janice']\n",
      "['smith', 'floyd', 'lutz', 'woods']\n"
     ]
    }
   ],
   "source": [
    "# 1. create an empty list\n",
    "# 2. while the user has not entered 'quit':\n",
    "#.  3. get a word from the user\n",
    "#.  4. append it to the list\n",
    "# 5. display every other word of the list (slice)...0, 2, 4, 6...\n",
    "# 6. display every other word of the list starting with 2nd...1, 3, 5...\n",
    "\n",
    "words = [] # step 1\n",
    "while (word := input('Enter a word: ')) != 'quit': # steps 2 & 3\n",
    "    words.append(word) # step 4\n",
    "# That's all we have to do in the loop\n",
    "\n",
    "# step 5\n",
    "print(words[::2]) # print a slice of the list starting at beginning, stopping at end, stepping by 2\n",
    "print(words[1::2]) # print a slice of the list starting at position 1, stopping at end, stepping by 2"
   ]
  },
  {
   "cell_type": "code",
   "execution_count": 176,
   "id": "37b4e329-5c72-46d9-a42f-a64091587c8e",
   "metadata": {},
   "outputs": [],
   "source": [
    "# Python 3 was released in 2008 as a way to solve some of the issues/warts with Python 2\n",
    "# Python 2 was officially deprecated 1/1/20"
   ]
  },
  {
   "cell_type": "code",
   "execution_count": 177,
   "id": "222f8967-dade-473e-a722-4ef3e46493d1",
   "metadata": {},
   "outputs": [
    {
     "name": "stdout",
     "output_type": "stream",
     "text": [
      "1\n"
     ]
    }
   ],
   "source": [
    "%%python2\n",
    "# this cell will be run in Python 2\n",
    "print(3 / 2)"
   ]
  },
  {
   "cell_type": "code",
   "execution_count": 178,
   "id": "c79f8e33-0339-4085-8407-1b406fdfcd8a",
   "metadata": {},
   "outputs": [
    {
     "name": "stdout",
     "output_type": "stream",
     "text": [
      "1.5\n"
     ]
    }
   ],
   "source": [
    "print(3 / 2)"
   ]
  },
  {
   "cell_type": "code",
   "execution_count": 183,
   "id": "8a45ecf0-5376-4002-9fe1-f9c3fbdb52a9",
   "metadata": {},
   "outputs": [
    {
     "name": "stdout",
     "output_type": "stream",
     "text": [
      "this that 2 next\n"
     ]
    }
   ],
   "source": [
    "%%python2\n",
    "# this cell will be run in Python 2\n",
    "print 'this', 'that', 2, \n",
    "print 'next'"
   ]
  },
  {
   "cell_type": "code",
   "execution_count": 182,
   "id": "80dea8a4-3dbf-4bae-baa1-2b8ce9dade69",
   "metadata": {},
   "outputs": [
    {
     "name": "stdout",
     "output_type": "stream",
     "text": [
      "this that 2 next\n"
     ]
    }
   ],
   "source": [
    "print('this', 'that', 2, end=' ')\n",
    "print('next')"
   ]
  },
  {
   "cell_type": "code",
   "execution_count": 184,
   "id": "52551815-92e7-4ac0-b415-0c8d2f403f70",
   "metadata": {},
   "outputs": [
    {
     "ename": "SyntaxError",
     "evalue": "Missing parentheses in call to 'print'. Did you mean print(1, 2, 3)? (1732935180.py, line 1)",
     "output_type": "error",
     "traceback": [
      "\u001b[0;36m  Input \u001b[0;32mIn [184]\u001b[0;36m\u001b[0m\n\u001b[0;31m    print 1, 2, 3\u001b[0m\n\u001b[0m          ^\u001b[0m\n\u001b[0;31mSyntaxError\u001b[0m\u001b[0;31m:\u001b[0m Missing parentheses in call to 'print'. Did you mean print(1, 2, 3)?\n"
     ]
    }
   ],
   "source": [
    "print 1, 2, 3"
   ]
  },
  {
   "cell_type": "code",
   "execution_count": 185,
   "id": "37be89a4-22ac-4533-a182-00815258aff4",
   "metadata": {},
   "outputs": [],
   "source": [
    "new_list = list()"
   ]
  },
  {
   "cell_type": "code",
   "execution_count": 186,
   "id": "e7140845-1436-41d1-a3d8-753f70ae4345",
   "metadata": {},
   "outputs": [
    {
     "data": {
      "text/plain": [
       "[]"
      ]
     },
     "execution_count": 186,
     "metadata": {},
     "output_type": "execute_result"
    }
   ],
   "source": [
    "new_list = []"
   ]
  },
  {
   "cell_type": "code",
   "execution_count": 187,
   "id": "9ddbc72a-da8f-4757-a90a-c9488d2e17d3",
   "metadata": {},
   "outputs": [
    {
     "name": "stdin",
     "output_type": "stream",
     "text": [
      "Enter a word:  this \n"
     ]
    },
    {
     "name": "stdout",
     "output_type": "stream",
     "text": [
      "blah\n"
     ]
    },
    {
     "name": "stdin",
     "output_type": "stream",
     "text": [
      "Enter a word:  that\n"
     ]
    },
    {
     "name": "stdout",
     "output_type": "stream",
     "text": [
      "blah\n"
     ]
    },
    {
     "name": "stdin",
     "output_type": "stream",
     "text": [
      "Enter a word:  other\n"
     ]
    },
    {
     "name": "stdout",
     "output_type": "stream",
     "text": [
      "blah\n"
     ]
    },
    {
     "name": "stdin",
     "output_type": "stream",
     "text": [
      "Enter a word:  quit\n"
     ]
    }
   ],
   "source": [
    "words = [] # it's a list here\n",
    "while (word := input('Enter a word: ')) != 'quit': # words turns into a string\n",
    "    print('blah')"
   ]
  },
  {
   "cell_type": "code",
   "execution_count": 189,
   "id": "b1e11cd0-cc68-4bf7-b403-6e1baf2ca08f",
   "metadata": {},
   "outputs": [
    {
     "data": {
      "text/plain": [
       "4"
      ]
     },
     "execution_count": 189,
     "metadata": {},
     "output_type": "execute_result"
    }
   ],
   "source": [
    "len('cool')"
   ]
  },
  {
   "cell_type": "code",
   "execution_count": 190,
   "id": "064ba1a3-949c-452e-bf16-daeef53d7f7e",
   "metadata": {},
   "outputs": [
    {
     "data": {
      "text/plain": [
       "4"
      ]
     },
     "execution_count": 190,
     "metadata": {},
     "output_type": "execute_result"
    }
   ],
   "source": [
    "len([1, 2, 3, 4])"
   ]
  },
  {
   "cell_type": "code",
   "execution_count": 192,
   "id": "22129c24-1d3f-4e95-8b7a-05157d2779e7",
   "metadata": {},
   "outputs": [],
   "source": [
    "len = 4"
   ]
  },
  {
   "cell_type": "code",
   "execution_count": 194,
   "id": "745eada6-2881-4bb4-811f-e6968566606b",
   "metadata": {},
   "outputs": [
    {
     "data": {
      "text/plain": [
       "4"
      ]
     },
     "execution_count": 194,
     "metadata": {},
     "output_type": "execute_result"
    }
   ],
   "source": [
    "len"
   ]
  },
  {
   "cell_type": "code",
   "execution_count": 195,
   "id": "f0b42006-fed6-4877-bd9b-b432ce69d740",
   "metadata": {},
   "outputs": [
    {
     "ename": "TypeError",
     "evalue": "'int' object is not callable",
     "output_type": "error",
     "traceback": [
      "\u001b[0;31m---------------------------------------------------------------------------\u001b[0m",
      "\u001b[0;31mTypeError\u001b[0m                                 Traceback (most recent call last)",
      "Input \u001b[0;32mIn [195]\u001b[0m, in \u001b[0;36m<cell line: 1>\u001b[0;34m()\u001b[0m\n\u001b[0;32m----> 1\u001b[0m \u001b[38;5;28;43mlen\u001b[39;49m\u001b[43m(\u001b[49m\u001b[38;5;124;43m'\u001b[39;49m\u001b[38;5;124;43mhi\u001b[39;49m\u001b[38;5;124;43m'\u001b[39;49m\u001b[43m)\u001b[49m\n",
      "\u001b[0;31mTypeError\u001b[0m: 'int' object is not callable"
     ]
    }
   ],
   "source": [
    "len('hi')"
   ]
  },
  {
   "cell_type": "code",
   "execution_count": 196,
   "id": "277b54ea-c93f-4c6c-a93b-da40be420663",
   "metadata": {},
   "outputs": [
    {
     "ename": "SyntaxError",
     "evalue": "Missing parentheses in call to 'print'. Did you mean print(1)? (2006075915.py, line 1)",
     "output_type": "error",
     "traceback": [
      "\u001b[0;36m  Input \u001b[0;32mIn [196]\u001b[0;36m\u001b[0m\n\u001b[0;31m    print 1\u001b[0m\n\u001b[0m          ^\u001b[0m\n\u001b[0;31mSyntaxError\u001b[0m\u001b[0;31m:\u001b[0m Missing parentheses in call to 'print'. Did you mean print(1)?\n"
     ]
    }
   ],
   "source": [
    "print 1"
   ]
  },
  {
   "cell_type": "code",
   "execution_count": 198,
   "id": "ce8ac446-67a8-45f5-860c-b0746d7b8160",
   "metadata": {},
   "outputs": [],
   "source": [
    "del len"
   ]
  },
  {
   "cell_type": "code",
   "execution_count": 199,
   "id": "3d4fab64-97ac-4a8e-91d7-c55bc8c0784e",
   "metadata": {},
   "outputs": [
    {
     "data": {
      "text/plain": [
       "2"
      ]
     },
     "execution_count": 199,
     "metadata": {},
     "output_type": "execute_result"
    }
   ],
   "source": [
    "len('hi')"
   ]
  },
  {
   "cell_type": "code",
   "execution_count": 202,
   "id": "69e997e3-52e7-4ca8-a378-20183ff373d8",
   "metadata": {},
   "outputs": [
    {
     "ename": "NameError",
     "evalue": "name 'append' is not defined",
     "output_type": "error",
     "traceback": [
      "\u001b[0;31m---------------------------------------------------------------------------\u001b[0m",
      "\u001b[0;31mNameError\u001b[0m                                 Traceback (most recent call last)",
      "Input \u001b[0;32mIn [202]\u001b[0m, in \u001b[0;36m<cell line: 1>\u001b[0;34m()\u001b[0m\n\u001b[0;32m----> 1\u001b[0m \u001b[43mappend\u001b[49m()\n",
      "\u001b[0;31mNameError\u001b[0m: name 'append' is not defined"
     ]
    }
   ],
   "source": [
    "append()"
   ]
  },
  {
   "cell_type": "code",
   "execution_count": 203,
   "id": "c26b13ee-a2bf-4622-bca7-e606e730929f",
   "metadata": {},
   "outputs": [
    {
     "name": "stdout",
     "output_type": "stream",
     "text": [
      "Wed Jul 27 12:02:54 MDT 2022\n"
     ]
    }
   ],
   "source": [
    "!date"
   ]
  },
  {
   "cell_type": "code",
   "execution_count": 204,
   "id": "69a5bc42-97ee-4f98-aa87-5e4c8892a4b0",
   "metadata": {},
   "outputs": [
    {
     "name": "stdout",
     "output_type": "stream",
     "text": [
      "     July 2022        \n",
      "Su Mo Tu We Th Fr Sa  \n",
      "                1  2  \n",
      " 3  4  5  6  7  8  9  \n",
      "10 11 12 13 14 15 16  \n",
      "17 18 19 20 21 22 23  \n",
      "24 25 26 \u001b[7m27\u001b[m 28 29 30  \n",
      "31                    \n"
     ]
    }
   ],
   "source": [
    "!cal"
   ]
  },
  {
   "cell_type": "code",
   "execution_count": 205,
   "id": "aa5d299c-e9ef-47fc-badb-852b234694e9",
   "metadata": {},
   "outputs": [
    {
     "name": "stdout",
     "output_type": "stream",
     "text": [
      "zsh:1: command not found: dir\n"
     ]
    }
   ],
   "source": [
    "!dir"
   ]
  },
  {
   "cell_type": "code",
   "execution_count": 206,
   "id": "bf687b0c-83fa-42b3-bacc-dc3a90aa4a94",
   "metadata": {},
   "outputs": [
    {
     "name": "stdout",
     "output_type": "stream",
     "text": [
      "zsh:1: command not found: append\n"
     ]
    }
   ],
   "source": [
    "!append # go out to Windows and run the append command"
   ]
  },
  {
   "cell_type": "code",
   "execution_count": 207,
   "id": "64a76702-68dc-40cb-ad53-bec8b84a4f8d",
   "metadata": {},
   "outputs": [
    {
     "data": {
      "text/plain": [
       "[1, 2, 3, 6, 4, 5, 4, 5]"
      ]
     },
     "execution_count": 207,
     "metadata": {},
     "output_type": "execute_result"
    }
   ],
   "source": [
    "list1"
   ]
  },
  {
   "cell_type": "code",
   "execution_count": 208,
   "id": "55e08a9c-597e-490d-9ba5-47fa440e5df7",
   "metadata": {},
   "outputs": [],
   "source": [
    "list1.append('something')"
   ]
  },
  {
   "cell_type": "code",
   "execution_count": 209,
   "id": "af21027e-8d17-4eef-85cd-fa5529cb6436",
   "metadata": {},
   "outputs": [
    {
     "data": {
      "text/plain": [
       "[1, 2, 3, 6, 4, 5, 4, 5, 'something']"
      ]
     },
     "execution_count": 209,
     "metadata": {},
     "output_type": "execute_result"
    }
   ],
   "source": [
    "list1"
   ]
  },
  {
   "cell_type": "code",
   "execution_count": 210,
   "id": "beb9bb7d-88e7-4b01-b6c3-8b28b2b8599e",
   "metadata": {},
   "outputs": [
    {
     "name": "stdout",
     "output_type": "stream",
     "text": [
      "zsh:1: command not found: append\n"
     ]
    }
   ],
   "source": [
    "!append"
   ]
  },
  {
   "cell_type": "code",
   "execution_count": 211,
   "id": "c29ae72f-9ba2-4da4-a977-a00f53ad6da6",
   "metadata": {},
   "outputs": [
    {
     "ename": "NameError",
     "evalue": "name 'append' is not defined",
     "output_type": "error",
     "traceback": [
      "\u001b[0;31m---------------------------------------------------------------------------\u001b[0m",
      "\u001b[0;31mNameError\u001b[0m                                 Traceback (most recent call last)",
      "Input \u001b[0;32mIn [211]\u001b[0m, in \u001b[0;36m<cell line: 1>\u001b[0;34m()\u001b[0m\n\u001b[0;32m----> 1\u001b[0m help(\u001b[43mappend\u001b[49m)\n",
      "\u001b[0;31mNameError\u001b[0m: name 'append' is not defined"
     ]
    }
   ],
   "source": [
    "help(append)"
   ]
  },
  {
   "cell_type": "code",
   "execution_count": 212,
   "id": "7f23f7d4-186f-45d7-a601-31bcd3af637f",
   "metadata": {},
   "outputs": [
    {
     "name": "stdout",
     "output_type": "stream",
     "text": [
      "Help on method_descriptor:\n",
      "\n",
      "append(self, object, /)\n",
      "    Append object to the end of the list.\n",
      "\n"
     ]
    }
   ],
   "source": [
    "help(list.append)"
   ]
  },
  {
   "cell_type": "code",
   "execution_count": 225,
   "id": "b080447e-f69c-46fc-adcc-a9b0c5b198d2",
   "metadata": {},
   "outputs": [
    {
     "name": "stdin",
     "output_type": "stream",
     "text": [
      "Number, please:  1234\n"
     ]
    }
   ],
   "source": [
    "number = int(input('Number, please: '))"
   ]
  },
  {
   "cell_type": "code",
   "execution_count": 221,
   "id": "f7622411-03ce-4783-8a0a-b29e36f89e5a",
   "metadata": {},
   "outputs": [
    {
     "data": {
      "text/plain": [
       "4"
      ]
     },
     "execution_count": 221,
     "metadata": {},
     "output_type": "execute_result"
    }
   ],
   "source": [
    "number % 10"
   ]
  },
  {
   "cell_type": "code",
   "execution_count": 222,
   "id": "c86d48da-aebd-4a8c-83d3-b5926d39b1a6",
   "metadata": {},
   "outputs": [],
   "source": [
    "number //= 10 # number = number // 10"
   ]
  },
  {
   "cell_type": "code",
   "execution_count": 223,
   "id": "830c6fe6-3022-45f2-a73b-11cc5d11951c",
   "metadata": {},
   "outputs": [
    {
     "data": {
      "text/plain": [
       "3"
      ]
     },
     "execution_count": 223,
     "metadata": {},
     "output_type": "execute_result"
    }
   ],
   "source": [
    "number % 10"
   ]
  },
  {
   "cell_type": "code",
   "execution_count": 230,
   "id": "c1e14bcc-1797-471f-a874-fd85c5c40acc",
   "metadata": {},
   "outputs": [
    {
     "name": "stdout",
     "output_type": "stream",
     "text": [
      "1\n",
      "2\n",
      "3\n",
      "4\n"
     ]
    }
   ],
   "source": [
    "number = str(number)\n",
    "for digit in number:\n",
    "    print(digit)\n",
    "\n",
    "# ...\n",
    "number = int(number)"
   ]
  },
  {
   "cell_type": "code",
   "execution_count": 231,
   "id": "3594bca1-d350-49e1-a02d-0544fe5b96ed",
   "metadata": {},
   "outputs": [
    {
     "data": {
      "text/plain": [
       "['this', 'that', 'other']"
      ]
     },
     "execution_count": 231,
     "metadata": {},
     "output_type": "execute_result"
    }
   ],
   "source": [
    "'this that other'.split()"
   ]
  },
  {
   "cell_type": "code",
   "execution_count": 234,
   "id": "19368a47-6a6d-4072-9e30-b1fbefff5ce4",
   "metadata": {},
   "outputs": [
    {
     "data": {
      "text/plain": [
       "['how', 'does', 'it', 'determine', 'where', 'to', 'create', 'the', 'split']"
      ]
     },
     "execution_count": 234,
     "metadata": {},
     "output_type": "execute_result"
    }
   ],
   "source": [
    "'how\\ndoes    it   determine where to\\t\\t  create the  split'.split()"
   ]
  },
  {
   "cell_type": "code",
   "execution_count": 235,
   "id": "ac9020ab-0015-4f76-8598-4755b8ab6bc0",
   "metadata": {},
   "outputs": [
    {
     "data": {
      "text/plain": [
       "['1', '2', '3']"
      ]
     },
     "execution_count": 235,
     "metadata": {},
     "output_type": "execute_result"
    }
   ],
   "source": [
    "'1 2 3'.split() # .split() is a string method (function)"
   ]
  },
  {
   "cell_type": "code",
   "execution_count": 236,
   "id": "9a9e550a-cf54-4ede-bb18-95c8f081481e",
   "metadata": {},
   "outputs": [],
   "source": [
    "string = 'blah var'"
   ]
  },
  {
   "cell_type": "code",
   "execution_count": 237,
   "id": "254fe88e-fbf1-400d-8986-03d59724ecae",
   "metadata": {},
   "outputs": [
    {
     "data": {
      "text/plain": [
       "['blah', 'var']"
      ]
     },
     "execution_count": 237,
     "metadata": {},
     "output_type": "execute_result"
    }
   ],
   "source": [
    "string.split()"
   ]
  },
  {
   "cell_type": "code",
   "execution_count": 238,
   "id": "7177ba77-936f-4c5e-95f5-d114fb1292f9",
   "metadata": {},
   "outputs": [
    {
     "ename": "NameError",
     "evalue": "name 'split' is not defined",
     "output_type": "error",
     "traceback": [
      "\u001b[0;31m---------------------------------------------------------------------------\u001b[0m",
      "\u001b[0;31mNameError\u001b[0m                                 Traceback (most recent call last)",
      "Input \u001b[0;32mIn [238]\u001b[0m, in \u001b[0;36m<cell line: 1>\u001b[0;34m()\u001b[0m\n\u001b[0;32m----> 1\u001b[0m \u001b[43msplit\u001b[49m(string)\n",
      "\u001b[0;31mNameError\u001b[0m: name 'split' is not defined"
     ]
    }
   ],
   "source": [
    "split(string)"
   ]
  },
  {
   "cell_type": "code",
   "execution_count": 240,
   "id": "4c6be6d8-36f8-4d9d-b6d3-638e2aa46665",
   "metadata": {},
   "outputs": [],
   "source": [
    "list_of_words = 'one two three'.split()"
   ]
  },
  {
   "cell_type": "code",
   "execution_count": 241,
   "id": "e4bbd454-02aa-48aa-9b5e-9d8976f59c1b",
   "metadata": {},
   "outputs": [
    {
     "data": {
      "text/plain": [
       "['one', 'two', 'three']"
      ]
     },
     "execution_count": 241,
     "metadata": {},
     "output_type": "execute_result"
    }
   ],
   "source": [
    "list_of_words"
   ]
  },
  {
   "cell_type": "code",
   "execution_count": 242,
   "id": "2037f548-e3bb-4f06-a36c-1a144aae0180",
   "metadata": {},
   "outputs": [
    {
     "ename": "AttributeError",
     "evalue": "'list' object has no attribute 'join'",
     "output_type": "error",
     "traceback": [
      "\u001b[0;31m---------------------------------------------------------------------------\u001b[0m",
      "\u001b[0;31mAttributeError\u001b[0m                            Traceback (most recent call last)",
      "Input \u001b[0;32mIn [242]\u001b[0m, in \u001b[0;36m<cell line: 1>\u001b[0;34m()\u001b[0m\n\u001b[0;32m----> 1\u001b[0m \u001b[43mlist_of_words\u001b[49m\u001b[38;5;241;43m.\u001b[39;49m\u001b[43mjoin\u001b[49m(\u001b[38;5;124m'\u001b[39m\u001b[38;5;124m, \u001b[39m\u001b[38;5;124m'\u001b[39m)\n",
      "\u001b[0;31mAttributeError\u001b[0m: 'list' object has no attribute 'join'"
     ]
    }
   ],
   "source": [
    "list_of_words.join(', ')"
   ]
  },
  {
   "cell_type": "code",
   "execution_count": 243,
   "id": "80bfd49e-4d81-463d-be5d-0c024f81a7c9",
   "metadata": {},
   "outputs": [
    {
     "ename": "NameError",
     "evalue": "name 'join' is not defined",
     "output_type": "error",
     "traceback": [
      "\u001b[0;31m---------------------------------------------------------------------------\u001b[0m",
      "\u001b[0;31mNameError\u001b[0m                                 Traceback (most recent call last)",
      "Input \u001b[0;32mIn [243]\u001b[0m, in \u001b[0;36m<cell line: 1>\u001b[0;34m()\u001b[0m\n\u001b[0;32m----> 1\u001b[0m \u001b[43mjoin\u001b[49m(list_of_words, \u001b[38;5;124m'\u001b[39m\u001b[38;5;124m, \u001b[39m\u001b[38;5;124m'\u001b[39m)\n",
      "\u001b[0;31mNameError\u001b[0m: name 'join' is not defined"
     ]
    }
   ],
   "source": [
    "join(list_of_words, ', ')"
   ]
  },
  {
   "cell_type": "code",
   "execution_count": 244,
   "id": "5c03c3d8-2740-432d-a08f-8d593cf3d918",
   "metadata": {},
   "outputs": [
    {
     "data": {
      "text/plain": [
       "['one', 'two', 'three']"
      ]
     },
     "execution_count": 244,
     "metadata": {},
     "output_type": "execute_result"
    }
   ],
   "source": [
    "list_of_words"
   ]
  },
  {
   "cell_type": "code",
   "execution_count": 245,
   "id": "2bb99cb5-97aa-40db-9f62-7973032ce394",
   "metadata": {},
   "outputs": [],
   "source": [
    "result = ''"
   ]
  },
  {
   "cell_type": "code",
   "execution_count": 246,
   "id": "feb8bcaa-9417-4744-8e47-ac0972db18ce",
   "metadata": {},
   "outputs": [],
   "source": [
    "for word in list_of_words:\n",
    "    result += word"
   ]
  },
  {
   "cell_type": "code",
   "execution_count": 247,
   "id": "0bf55e8a-e89e-497b-bce1-d0a884334551",
   "metadata": {},
   "outputs": [
    {
     "data": {
      "text/plain": [
       "'onetwothree'"
      ]
     },
     "execution_count": 247,
     "metadata": {},
     "output_type": "execute_result"
    }
   ],
   "source": [
    "result"
   ]
  },
  {
   "cell_type": "code",
   "execution_count": 254,
   "id": "f70614c6-19d1-4d4f-8923-94b5c05a9db0",
   "metadata": {},
   "outputs": [
    {
     "data": {
      "text/plain": [
       "'one, two, three'"
      ]
     },
     "execution_count": 254,
     "metadata": {},
     "output_type": "execute_result"
    }
   ],
   "source": [
    "', '.join(list_of_words)"
   ]
  },
  {
   "cell_type": "code",
   "execution_count": 257,
   "id": "d2f50250-81de-4e5a-bf39-c7b392dd2972",
   "metadata": {},
   "outputs": [],
   "source": [
    "list_of_chars = list('string')"
   ]
  },
  {
   "cell_type": "code",
   "execution_count": 256,
   "id": "adffd595-280c-481e-869c-458b801099c9",
   "metadata": {},
   "outputs": [
    {
     "name": "stdout",
     "output_type": "stream",
     "text": [
      "s\n",
      "t\n",
      "r\n",
      "i\n",
      "n\n",
      "g\n"
     ]
    }
   ],
   "source": [
    "for thing in 'string':\n",
    "    print(thing)"
   ]
  },
  {
   "cell_type": "code",
   "execution_count": 259,
   "id": "7e99a019-eba4-483b-a4d9-f772052b94eb",
   "metadata": {},
   "outputs": [
    {
     "data": {
      "text/plain": [
       "['s', 't', 'r', 'i', 'n', 'g']"
      ]
     },
     "execution_count": 259,
     "metadata": {},
     "output_type": "execute_result"
    }
   ],
   "source": [
    "list_of_chars"
   ]
  },
  {
   "cell_type": "code",
   "execution_count": 262,
   "id": "0ad58f3f-be35-42ea-a249-1b1d23627e64",
   "metadata": {},
   "outputs": [
    {
     "data": {
      "text/plain": [
       "'string'"
      ]
     },
     "execution_count": 262,
     "metadata": {},
     "output_type": "execute_result"
    }
   ],
   "source": [
    "''.join(list_of_chars)"
   ]
  },
  {
   "cell_type": "code",
   "execution_count": 263,
   "id": "e17d2838-1af5-4e38-ab76-2fb153f40a7c",
   "metadata": {},
   "outputs": [],
   "source": [
    "suits = ['clubs', 'diamonds', 'hearts', 'spades']"
   ]
  },
  {
   "cell_type": "code",
   "execution_count": 264,
   "id": "fd033432-aecf-4a95-a52f-d5bb64c7406b",
   "metadata": {},
   "outputs": [],
   "source": [
    "suits = 'clubs diamonds hearts spades'.split() # Pythonic way to create a list!"
   ]
  },
  {
   "cell_type": "code",
   "execution_count": 265,
   "id": "df2dd1ee-2581-47b7-ab52-f0ab00e064b1",
   "metadata": {},
   "outputs": [
    {
     "data": {
      "text/plain": [
       "['clubs', 'diamonds', 'hearts', 'spades']"
      ]
     },
     "execution_count": 265,
     "metadata": {},
     "output_type": "execute_result"
    }
   ],
   "source": [
    "suits"
   ]
  },
  {
   "cell_type": "code",
   "execution_count": 266,
   "id": "1a0b4944-2003-4ec2-a6d9-b74aac1c6492",
   "metadata": {},
   "outputs": [
    {
     "name": "stdout",
     "output_type": "stream",
     "text": [
      "154 ns ± 0.527 ns per loop (mean ± std. dev. of 7 runs, 10,000,000 loops each)\n"
     ]
    }
   ],
   "source": [
    "%%timeit\n",
    "suits = 'clubs diamonds hearts spades'.split() # Pythonic way to create a list!"
   ]
  },
  {
   "cell_type": "code",
   "execution_count": 272,
   "id": "e42db10d-8d68-461f-acbb-ef7db7b12ed4",
   "metadata": {},
   "outputs": [],
   "source": [
    "word = 'imbue'\n",
    "list_of_chars = list(word.upper())"
   ]
  },
  {
   "cell_type": "code",
   "execution_count": 273,
   "id": "ae527234-eb02-4357-896a-a0fd81224ad0",
   "metadata": {},
   "outputs": [
    {
     "data": {
      "text/plain": [
       "['I', 'M', 'B', 'U', 'E']"
      ]
     },
     "execution_count": 273,
     "metadata": {},
     "output_type": "execute_result"
    }
   ],
   "source": [
    "list_of_chars"
   ]
  },
  {
   "cell_type": "code",
   "execution_count": 274,
   "id": "08c02285-09ec-430b-bb50-8a6016bf1210",
   "metadata": {},
   "outputs": [],
   "source": [
    "import random\n",
    "random.shuffle(list_of_chars)"
   ]
  },
  {
   "cell_type": "code",
   "execution_count": 275,
   "id": "581a9dac-d709-4289-b6f5-7b50c5f83d72",
   "metadata": {},
   "outputs": [
    {
     "data": {
      "text/plain": [
       "['B', 'E', 'U', 'M', 'I']"
      ]
     },
     "execution_count": 275,
     "metadata": {},
     "output_type": "execute_result"
    }
   ],
   "source": [
    "list_of_chars"
   ]
  },
  {
   "cell_type": "code",
   "execution_count": 276,
   "id": "801b00c9-e75c-45c8-a36a-6bc484b05d8c",
   "metadata": {},
   "outputs": [
    {
     "data": {
      "text/plain": [
       "'BEUMI'"
      ]
     },
     "execution_count": 276,
     "metadata": {},
     "output_type": "execute_result"
    }
   ],
   "source": [
    "''.join(list_of_chars)"
   ]
  },
  {
   "cell_type": "code",
   "execution_count": 277,
   "id": "3d1acf70-3836-4767-a68a-a14eb33d38cf",
   "metadata": {},
   "outputs": [],
   "source": [
    "# hint first letter is I"
   ]
  },
  {
   "cell_type": "code",
   "execution_count": 278,
   "id": "317e329d-f427-4a5f-948b-ae1bf55442cb",
   "metadata": {},
   "outputs": [],
   "source": [
    "# let them guess\n",
    "# if guess is the word, then YAY\n",
    "# if guess is QUIT, then quit\n",
    "# if guess is HINT, then show them the first/next letter\n",
    "# if guess is SCRAMBLE, reshuffle the word"
   ]
  },
  {
   "cell_type": "code",
   "execution_count": 304,
   "id": "93cc2bd5-11ca-486f-97a3-f34141371a8e",
   "metadata": {},
   "outputs": [
    {
     "data": {
      "text/plain": [
       "'IUMEB'"
      ]
     },
     "execution_count": 304,
     "metadata": {},
     "output_type": "execute_result"
    }
   ],
   "source": [
    "random.shuffle(list_of_chars)\n",
    "''.join(list_of_chars)"
   ]
  },
  {
   "cell_type": "code",
   "execution_count": 296,
   "id": "43be08ad-c15a-47ae-a298-ed730516d096",
   "metadata": {},
   "outputs": [],
   "source": [
    "string = 'a bunch of letters'"
   ]
  },
  {
   "cell_type": "code",
   "execution_count": 297,
   "id": "d1742e86-da3a-4ae5-a99a-820ee87b031e",
   "metadata": {},
   "outputs": [],
   "source": [
    "my_list = string.split()"
   ]
  },
  {
   "cell_type": "code",
   "execution_count": 298,
   "id": "16b62de1-7ea2-4bde-8083-edc2230f785b",
   "metadata": {},
   "outputs": [
    {
     "name": "stdout",
     "output_type": "stream",
     "text": [
      "['a', 'bunch', 'of', 'letters']\n"
     ]
    }
   ],
   "source": [
    "print(my_list)"
   ]
  },
  {
   "cell_type": "code",
   "execution_count": 300,
   "id": "6b489095-5552-4603-8fad-6d5440506e10",
   "metadata": {},
   "outputs": [
    {
     "name": "stdout",
     "output_type": "stream",
     "text": [
      "['a', ' ', 'b', 'u', 'n', 'c', 'h', ' ', 'o', 'f', ' ', 'l', 'e', 't', 't', 'e', 'r', 's']\n"
     ]
    }
   ],
   "source": [
    "print(list(string))"
   ]
  },
  {
   "cell_type": "code",
   "execution_count": 305,
   "id": "cd962751-4d34-4584-8fc3-06bd36532e16",
   "metadata": {},
   "outputs": [],
   "source": [
    "# 0. create a list of words to choose from\n",
    "# 1. pick a word at random \n",
    "# 1a. scramble the list version of the word (list-ify)\n",
    "# 2. display the scrambled version of the word, as a word (join)\n",
    "# 3. while they haven't guessed the word: (otherwise 'yay')\n",
    "# 4. print prompt (with all the options)\n",
    "#   5. get a guess/response\n",
    "#   6. if guess == q, then quit\n",
    "#      6a. elif guess == h, then:\n",
    "#          7. show the next letter we haven't already shown (1st, 2nd, etc.)\n",
    "#      6b. elif guess is s, reshuffle the word\n",
    "#         8.  reshuffle the word in the list of chars\n",
    "#.        8a. (advanced: ensure the shuffle produced a) new ordering and b) not the correct ordering)\n",
    "#      else\n",
    "#.       9.  print invalid guess"
   ]
  },
  {
   "cell_type": "code",
   "execution_count": 319,
   "id": "f47ace09-0f0d-40d4-9987-e2738163afaa",
   "metadata": {},
   "outputs": [],
   "source": [
    "wordlist = 'imbue nonsense strategy acceptance number power watchable'.split() # step 0"
   ]
  },
  {
   "cell_type": "code",
   "execution_count": 320,
   "id": "c1d9240b-b67b-4329-ac0a-facab84cac34",
   "metadata": {},
   "outputs": [
    {
     "data": {
      "text/plain": [
       "['imbue', 'nonsense', 'strategy', 'acceptance', 'number', 'power', 'watchable']"
      ]
     },
     "execution_count": 320,
     "metadata": {},
     "output_type": "execute_result"
    }
   ],
   "source": [
    "wordlist"
   ]
  },
  {
   "cell_type": "code",
   "execution_count": 323,
   "id": "10381041-ffad-42ea-b30e-2ff98795c4ee",
   "metadata": {},
   "outputs": [
    {
     "data": {
      "text/plain": [
       "'WATCHABLE'"
      ]
     },
     "execution_count": 323,
     "metadata": {},
     "output_type": "execute_result"
    }
   ],
   "source": [
    "import random\n",
    "word = random.choice(wordlist).upper() # step 1 + make it uppercase\n",
    "word"
   ]
  },
  {
   "cell_type": "code",
   "execution_count": 324,
   "id": "c42db894-9915-49ae-8ba8-27de0af4497c",
   "metadata": {},
   "outputs": [
    {
     "name": "stdout",
     "output_type": "stream",
     "text": [
      "HLETCWAAB\n"
     ]
    }
   ],
   "source": [
    "# steps 1a and 2\n",
    "letter_list = list(word) # list-ify / explode into individual letters\n",
    "random.shuffle(letter_list) # shuffle the letters\n",
    "print(''.join(letter_list)) # re-constitute the letters into a scrambled word"
   ]
  },
  {
   "cell_type": "code",
   "execution_count": 325,
   "id": "cfc6e24c-2ea2-4cd8-9f51-d656aaf30eca",
   "metadata": {},
   "outputs": [
    {
     "name": "stdin",
     "output_type": "stream",
     "text": [
      "Enter your guess (\"q\" to quit, \"h\" for hint, \"s\" to re-shuffle):  q\n"
     ]
    },
    {
     "name": "stdout",
     "output_type": "stream",
     "text": [
      "ok\n"
     ]
    },
    {
     "name": "stdin",
     "output_type": "stream",
     "text": [
      "Enter your guess (\"q\" to quit, \"h\" for hint, \"s\" to re-shuffle):  h\n"
     ]
    },
    {
     "name": "stdout",
     "output_type": "stream",
     "text": [
      "ok\n"
     ]
    },
    {
     "name": "stdin",
     "output_type": "stream",
     "text": [
      "Enter your guess (\"q\" to quit, \"h\" for hint, \"s\" to re-shuffle):  watchable\n"
     ]
    }
   ],
   "source": [
    "# step 3, 4, 5\n",
    "while (response := input('Enter your guess (\"q\" to quit, \"h\" for hint, \"s\" to re-shuffle): ').upper()) != word:\n",
    "    print('ok')"
   ]
  },
  {
   "cell_type": "code",
   "execution_count": 332,
   "id": "e7a01c93-c1c3-44b9-b20c-6fb3c0b486fe",
   "metadata": {},
   "outputs": [
    {
     "name": "stdin",
     "output_type": "stream",
     "text": [
      "Enter your guess (\"q\" to quit, \"h\" for hint, \"s\" to re-shuffle):  h\n"
     ]
    },
    {
     "name": "stdout",
     "output_type": "stream",
     "text": [
      "no hints\n"
     ]
    },
    {
     "name": "stdin",
     "output_type": "stream",
     "text": [
      "Enter your guess (\"q\" to quit, \"h\" for hint, \"s\" to re-shuffle):  s\n"
     ]
    },
    {
     "name": "stdout",
     "output_type": "stream",
     "text": [
      "reshuffle\n"
     ]
    },
    {
     "name": "stdin",
     "output_type": "stream",
     "text": [
      "Enter your guess (\"q\" to quit, \"h\" for hint, \"s\" to re-shuffle):  gazornin\n"
     ]
    },
    {
     "name": "stdout",
     "output_type": "stream",
     "text": [
      "Invalid guess!\n"
     ]
    },
    {
     "name": "stdin",
     "output_type": "stream",
     "text": [
      "Enter your guess (\"q\" to quit, \"h\" for hint, \"s\" to re-shuffle):  q\n"
     ]
    },
    {
     "name": "stdout",
     "output_type": "stream",
     "text": [
      "Thanks for playing!\n"
     ]
    }
   ],
   "source": [
    "while (response := input('Enter your guess (\"q\" to quit, \"h\" for hint, \"s\" to re-shuffle): ').upper()) != word:\n",
    "    if response == 'Q': # step 6\n",
    "        print('Thanks for playing!')\n",
    "        break\n",
    "    elif response == 'H': # step 6a\n",
    "        print('no hints') # wait\n",
    "    elif response == 'S': # step 6b\n",
    "        print('reshuffle')\n",
    "    else:\n",
    "        print('Invalid guess!')\n",
    "else:\n",
    "    print('Great job!')"
   ]
  },
  {
   "cell_type": "code",
   "execution_count": 346,
   "id": "87a5e2e5-f555-4677-ac9a-2a45fdb251f2",
   "metadata": {},
   "outputs": [
    {
     "name": "stdout",
     "output_type": "stream",
     "text": [
      "MEUBRN\n"
     ]
    },
    {
     "name": "stdin",
     "output_type": "stream",
     "text": [
      "Enter your guess (\"q\" to quit, \"h\" for hint, \"s\" to re-shuffle):  r\n"
     ]
    },
    {
     "name": "stdout",
     "output_type": "stream",
     "text": [
      "Good guess, but that is not word!\n",
      "MEUBRN\n"
     ]
    },
    {
     "name": "stdin",
     "output_type": "stream",
     "text": [
      "Enter your guess (\"q\" to quit, \"h\" for hint, \"s\" to re-shuffle):  s\n"
     ]
    },
    {
     "name": "stdout",
     "output_type": "stream",
     "text": [
      "reshuffle\n",
      "MEUBRN\n"
     ]
    },
    {
     "name": "stdin",
     "output_type": "stream",
     "text": [
      "Enter your guess (\"q\" to quit, \"h\" for hint, \"s\" to re-shuffle):  s\n"
     ]
    },
    {
     "name": "stdout",
     "output_type": "stream",
     "text": [
      "reshuffle\n",
      "MEUBRN\n"
     ]
    },
    {
     "name": "stdin",
     "output_type": "stream",
     "text": [
      "Enter your guess (\"q\" to quit, \"h\" for hint, \"s\" to re-shuffle):  q\n"
     ]
    },
    {
     "name": "stdout",
     "output_type": "stream",
     "text": [
      "Thanks for playing!\n"
     ]
    }
   ],
   "source": [
    "# it may be too complicated to try and leverage the walrus operator and the else clause for the while\n",
    "import random\n",
    "word = random.choice(wordlist).upper() # step 1 + make it uppercase\n",
    "\n",
    "letter_list = list(word) # list-ify / explode into individual letters\n",
    "random.shuffle(letter_list) # shuffle the letters\n",
    "\n",
    "while True: # until they quit or get it right\n",
    "    print(''.join(letter_list)) # re-constitute the letters into a scrambled word\n",
    "    response = input('Enter your guess (\"q\" to quit, \"h\" for hint, \"s\" to re-shuffle): ').upper()\n",
    "    if response == 'Q': # step 6\n",
    "        print('Thanks for playing!')\n",
    "        break\n",
    "    elif response == 'H': # step 6a\n",
    "        print('no hints') # wait\n",
    "    elif response == 'S': # step 6b\n",
    "        print('reshuffle')\n",
    "    elif response == word:\n",
    "        print('You got it!')\n",
    "        break"
   ]
  },
  {
   "cell_type": "code",
   "execution_count": 357,
   "id": "1f16bc5c-d7ad-444f-9788-d97c5447220f",
   "metadata": {},
   "outputs": [
    {
     "name": "stdout",
     "output_type": "stream",
     "text": [
      "IECMDSTO\n"
     ]
    },
    {
     "name": "stdin",
     "output_type": "stream",
     "text": [
      "Enter your guess (\"q\" to quit, \"h\" for hint, \"s\" to re-shuffle):  h\n"
     ]
    },
    {
     "name": "stdout",
     "output_type": "stream",
     "text": [
      "The first 1 letters are: D\n",
      "IECMDSTO\n"
     ]
    },
    {
     "name": "stdin",
     "output_type": "stream",
     "text": [
      "Enter your guess (\"q\" to quit, \"h\" for hint, \"s\" to re-shuffle):  s\n"
     ]
    },
    {
     "name": "stdout",
     "output_type": "stream",
     "text": [
      "Reshuffle!\n",
      "TSEICMOD\n"
     ]
    },
    {
     "name": "stdin",
     "output_type": "stream",
     "text": [
      "Enter your guess (\"q\" to quit, \"h\" for hint, \"s\" to re-shuffle):  h\n"
     ]
    },
    {
     "name": "stdout",
     "output_type": "stream",
     "text": [
      "The first 2 letters are: DO\n",
      "TSEICMOD\n"
     ]
    },
    {
     "name": "stdin",
     "output_type": "stream",
     "text": [
      "Enter your guess (\"q\" to quit, \"h\" for hint, \"s\" to re-shuffle):  domestic\n"
     ]
    },
    {
     "name": "stdout",
     "output_type": "stream",
     "text": [
      "You got it!\n"
     ]
    }
   ],
   "source": [
    "import random\n",
    "wordlist = open('wordlist.txt').read().split() # step 0\n",
    "word = random.choice(wordlist).upper() # step 1 + make it uppercase\n",
    "hints_so_far = 0 # keep track of how many hints we've given the player\n",
    "\n",
    "letter_list = list(word) # list-ify / explode into individual letters\n",
    "random.shuffle(letter_list) # shuffle the letters\n",
    "\n",
    "while True: # until they quit or get it right\n",
    "    print(''.join(letter_list)) # re-constitute the letters into a scrambled word\n",
    "    response = input('Enter your guess (\"q\" to quit, \"h\" for hint, \"s\" to re-shuffle): ').upper()\n",
    "    if response == 'Q': # step 6\n",
    "        print('The word was', word)\n",
    "        break\n",
    "    elif response == 'H': # step 6a\n",
    "        # we need to keep track of how many hints or the last hint we gave, etc.\n",
    "        # or keep track of the position of the next hint we will show\n",
    "        # notice that that's the same as counting the hints\n",
    "        # hints_so_far could be what we keep track of and that dictates which letter we show\n",
    "        hints_so_far += 1 # we will have given the player one more hint at the next line\n",
    "        print('The first', hints_so_far, 'letters are:', word[:hints_so_far])\n",
    "    elif response == 'S': # step 6b\n",
    "        print('Reshuffle!')\n",
    "        random.shuffle(letter_list)\n",
    "    elif response == word:\n",
    "        print('You got it!')\n",
    "        break\n",
    "    else:\n",
    "        print('Good guess, but that is not the word!')"
   ]
  },
  {
   "cell_type": "code",
   "execution_count": 339,
   "id": "5a8d18be-54ee-45e5-ad34-d515e6882558",
   "metadata": {},
   "outputs": [
    {
     "name": "stdout",
     "output_type": "stream",
     "text": [
      "Help on method shuffle in module random:\n",
      "\n",
      "shuffle(x, random=None) method of random.Random instance\n",
      "    Shuffle list x in place, and return None.\n",
      "    \n",
      "    Optional argument random is a 0-argument function returning a\n",
      "    random float in [0.0, 1.0); if it is the default None, the\n",
      "    standard random.random will be used.\n",
      "\n"
     ]
    }
   ],
   "source": [
    "help(random.shuffle)"
   ]
  },
  {
   "cell_type": "code",
   "execution_count": null,
   "id": "586e7f8c-798a-40a1-8fec-3560b883abc6",
   "metadata": {},
   "outputs": [],
   "source": []
  },
  {
   "cell_type": "code",
   "execution_count": 314,
   "id": "bf3eecce-2252-45d7-9cff-7f7c650280e9",
   "metadata": {},
   "outputs": [],
   "source": [
    "list = ['a', 'b', 'c']"
   ]
  },
  {
   "cell_type": "raw",
   "id": "f88afa91-74bf-4f85-ba95-69176aeb96b6",
   "metadata": {},
   "source": [
    "string = 'catdogcatdog'\n",
    "letters = list(string)\n",
    "# This is giving me an error, please help. the error is \"list ' object is not callable"
   ]
  },
  {
   "cell_type": "code",
   "execution_count": 315,
   "id": "430ddac8-b0e8-4c25-b64a-6b8c1de848de",
   "metadata": {},
   "outputs": [],
   "source": [
    "del list # delete your variable called 'list'"
   ]
  },
  {
   "cell_type": "code",
   "execution_count": 318,
   "id": "3eed6b89-f82e-49f7-a7d2-c44ddb3f6e7b",
   "metadata": {},
   "outputs": [
    {
     "data": {
      "text/plain": [
       "['c', 'a', 't', 'd', 'o', 'g', 'c', 'a', 't', 'd', 'o', 'g']"
      ]
     },
     "execution_count": 318,
     "metadata": {},
     "output_type": "execute_result"
    }
   ],
   "source": [
    "letters"
   ]
  },
  {
   "cell_type": "code",
   "execution_count": 341,
   "id": "2d0a7169-d263-434d-b117-7e0b13d9e653",
   "metadata": {},
   "outputs": [
    {
     "data": {
      "text/plain": [
       "'NUMBER'"
      ]
     },
     "execution_count": 341,
     "metadata": {},
     "output_type": "execute_result"
    }
   ],
   "source": [
    "word"
   ]
  },
  {
   "cell_type": "code",
   "execution_count": 342,
   "id": "4fbf4169-96e5-4801-b39d-a9f1eec402c4",
   "metadata": {},
   "outputs": [
    {
     "data": {
      "text/plain": [
       "''"
      ]
     },
     "execution_count": 342,
     "metadata": {},
     "output_type": "execute_result"
    }
   ],
   "source": [
    "word[:0]"
   ]
  },
  {
   "cell_type": "code",
   "execution_count": 344,
   "id": "360ab7d0-956c-4f2b-aa96-0bd64dba34eb",
   "metadata": {},
   "outputs": [
    {
     "data": {
      "text/plain": [
       "'NU'"
      ]
     },
     "execution_count": 344,
     "metadata": {},
     "output_type": "execute_result"
    }
   ],
   "source": [
    "word[:2]"
   ]
  },
  {
   "cell_type": "code",
   "execution_count": 354,
   "id": "922989b8-b393-4c87-8c7d-5d6923510a66",
   "metadata": {},
   "outputs": [
    {
     "ename": "SyntaxError",
     "evalue": "EOL while scanning string literal (3361277105.py, line 1)",
     "output_type": "error",
     "traceback": [
      "\u001b[0;36m  Input \u001b[0;32mIn [354]\u001b[0;36m\u001b[0m\n\u001b[0;31m    print('the final quote is not missing', word')\u001b[0m\n\u001b[0m                                                  ^\u001b[0m\n\u001b[0;31mSyntaxError\u001b[0m\u001b[0;31m:\u001b[0m EOL while scanning string literal\n"
     ]
    }
   ],
   "source": [
    "print('the final quote is not missing', word')"
   ]
  },
  {
   "cell_type": "code",
   "execution_count": 351,
   "id": "bf8575c1-11c3-4a97-a3a8-797b74468d43",
   "metadata": {},
   "outputs": [
    {
     "data": {
      "text/plain": [
       "['abandon',\n",
       " 'abundant',\n",
       " 'access',\n",
       " 'accommodate',\n",
       " 'accumulate',\n",
       " 'adapt',\n",
       " 'adhere',\n",
       " 'agony',\n",
       " 'allegiance',\n",
       " 'ambition',\n",
       " 'ample',\n",
       " 'anguish',\n",
       " 'anticipate',\n",
       " 'anxious',\n",
       " 'apparel',\n",
       " 'appeal',\n",
       " 'apprehensive',\n",
       " 'arid',\n",
       " 'arrogant',\n",
       " 'barren',\n",
       " 'beacon',\n",
       " 'beneficial',\n",
       " 'blunder',\n",
       " 'boisterous',\n",
       " 'boycott',\n",
       " 'burden',\n",
       " 'campaign',\n",
       " 'capacity',\n",
       " 'capital',\n",
       " 'chronological',\n",
       " 'civic',\n",
       " 'clarity',\n",
       " 'collaborate',\n",
       " 'collide',\n",
       " 'commend',\n",
       " 'commentary',\n",
       " 'compact',\n",
       " 'composure',\n",
       " 'concise',\n",
       " 'consent',\n",
       " 'consequence',\n",
       " 'conserve',\n",
       " 'conspicuous',\n",
       " 'constant',\n",
       " 'contaminate',\n",
       " 'context',\n",
       " 'continuous',\n",
       " 'controversy',\n",
       " 'convenient',\n",
       " 'cope',\n",
       " 'cordial',\n",
       " 'cultivate',\n",
       " 'cumulative',\n",
       " 'declare',\n",
       " 'deluge',\n",
       " 'dense',\n",
       " 'deplete',\n",
       " 'deposit',\n",
       " 'designate',\n",
       " 'desperate',\n",
       " 'deteriorate',\n",
       " 'dialogue',\n",
       " 'diligent',\n",
       " 'diminish',\n",
       " 'discretion',\n",
       " 'dissent',\n",
       " 'dissolve',\n",
       " 'distinct',\n",
       " 'diversity',\n",
       " 'domestic',\n",
       " 'dominate',\n",
       " 'drastic',\n",
       " 'duration',\n",
       " 'dwell',\n",
       " 'eclipse',\n",
       " 'economy',\n",
       " 'eerie',\n",
       " 'effect',\n",
       " 'efficient',\n",
       " 'elaborate',\n",
       " 'eligible',\n",
       " 'elude',\n",
       " 'encounter',\n",
       " 'equivalent',\n",
       " 'erupt',\n",
       " 'esteem',\n",
       " 'evolve',\n",
       " 'exaggerate',\n",
       " 'excel',\n",
       " 'exclude',\n",
       " 'expanse',\n",
       " 'exploit',\n",
       " 'extinct',\n",
       " 'extract',\n",
       " 'factor',\n",
       " 'former',\n",
       " 'formulates',\n",
       " 'fuse',\n",
       " 'futile',\n",
       " 'generate',\n",
       " 'genre',\n",
       " 'habitat',\n",
       " 'hazardous',\n",
       " 'hoax',\n",
       " 'hostile',\n",
       " 'idiom',\n",
       " 'ignite',\n",
       " 'immense',\n",
       " 'improvises',\n",
       " 'inept',\n",
       " 'inevitable',\n",
       " 'influence',\n",
       " 'ingenious',\n",
       " 'innovation',\n",
       " 'intimidate',\n",
       " 'jovial',\n",
       " 'knack',\n",
       " 'leeway',\n",
       " 'legislation',\n",
       " 'leisure',\n",
       " 'liberate',\n",
       " 'likeness',\n",
       " 'linger',\n",
       " 'literal',\n",
       " 'loathe',\n",
       " 'lure',\n",
       " 'majority',\n",
       " 'makeshift',\n",
       " 'manipulate',\n",
       " 'marvel',\n",
       " 'massive',\n",
       " 'maximum',\n",
       " 'meager',\n",
       " 'mere',\n",
       " 'migration',\n",
       " 'mimic',\n",
       " 'minute',\n",
       " 'monotonous',\n",
       " 'negotiate',\n",
       " 'objective',\n",
       " 'obstacle',\n",
       " 'omniscient',\n",
       " 'onset',\n",
       " 'optimist',\n",
       " 'originate',\n",
       " 'painstaking',\n",
       " 'paraphrase',\n",
       " 'parody',\n",
       " 'persecute',\n",
       " 'plummet',\n",
       " 'possess',\n",
       " 'poverty',\n",
       " 'precise',\n",
       " 'predicament',\n",
       " 'predict',\n",
       " 'prejudice',\n",
       " 'preliminary',\n",
       " 'primitive',\n",
       " 'priority',\n",
       " 'prominent',\n",
       " 'propel',\n",
       " 'prosecute',\n",
       " 'prosper',\n",
       " 'provoke',\n",
       " 'pursue',\n",
       " 'quest',\n",
       " 'recount',\n",
       " 'refuge',\n",
       " 'reinforce',\n",
       " 'reluctant',\n",
       " 'remorse',\n",
       " 'remote',\n",
       " 'resolute',\n",
       " 'restrain',\n",
       " 'retaliate',\n",
       " 'retrieve',\n",
       " 'rigorous',\n",
       " 'rural',\n",
       " 'salvage',\n",
       " 'sanctuary',\n",
       " 'siege',\n",
       " 'significant',\n",
       " 'solar',\n",
       " 'soothe',\n",
       " 'stationary',\n",
       " 'stifle',\n",
       " 'strive',\n",
       " 'subordinate',\n",
       " 'subsequent',\n",
       " 'superior',\n",
       " 'supplement',\n",
       " 'swarm',\n",
       " 'tangible',\n",
       " 'terminate',\n",
       " 'terrain',\n",
       " 'trait',\n",
       " 'transform',\n",
       " 'transport',\n",
       " 'treacherous',\n",
       " 'unanimous',\n",
       " 'unique',\n",
       " 'unruly',\n",
       " 'urban',\n",
       " 'vacate',\n",
       " 'verdict',\n",
       " 'verge',\n",
       " 'vibrant',\n",
       " 'vital']"
      ]
     },
     "execution_count": 351,
     "metadata": {},
     "output_type": "execute_result"
    }
   ],
   "source": [
    "open('wordlist.txt').read().split()"
   ]
  },
  {
   "cell_type": "code",
   "execution_count": 358,
   "id": "85176e93-6d03-4fc9-a61d-79d5f0a1f2fd",
   "metadata": {},
   "outputs": [],
   "source": [
    "import random"
   ]
  },
  {
   "cell_type": "code",
   "execution_count": 359,
   "id": "9f1f8ffe-3a9f-4015-8ff4-e78f4c2c7894",
   "metadata": {},
   "outputs": [
    {
     "data": {
      "text/plain": [
       "140620183043424"
      ]
     },
     "execution_count": 359,
     "metadata": {},
     "output_type": "execute_result"
    }
   ],
   "source": [
    "id(random)"
   ]
  },
  {
   "cell_type": "code",
   "execution_count": 360,
   "id": "48694421-3d2b-4bdd-8382-96d6bcb23d3f",
   "metadata": {},
   "outputs": [
    {
     "data": {
      "text/plain": [
       "'/Users/dave-wadestein/opt/anaconda3/lib/python3.9/random.py'"
      ]
     },
     "execution_count": 360,
     "metadata": {},
     "output_type": "execute_result"
    }
   ],
   "source": [
    "random.__file__ # where is random on my computer?"
   ]
  },
  {
   "cell_type": "code",
   "execution_count": 362,
   "id": "8608b277-ebcc-461b-b6c2-1ba72f96229a",
   "metadata": {},
   "outputs": [],
   "source": [
    "import math"
   ]
  },
  {
   "cell_type": "code",
   "execution_count": 363,
   "id": "476c82c7-cbdb-4aa2-ac75-16cfdbc9cdc0",
   "metadata": {},
   "outputs": [
    {
     "data": {
      "text/plain": [
       "['__doc__',\n",
       " '__file__',\n",
       " '__loader__',\n",
       " '__name__',\n",
       " '__package__',\n",
       " '__spec__',\n",
       " 'acos',\n",
       " 'acosh',\n",
       " 'asin',\n",
       " 'asinh',\n",
       " 'atan',\n",
       " 'atan2',\n",
       " 'atanh',\n",
       " 'ceil',\n",
       " 'comb',\n",
       " 'copysign',\n",
       " 'cos',\n",
       " 'cosh',\n",
       " 'degrees',\n",
       " 'dist',\n",
       " 'e',\n",
       " 'erf',\n",
       " 'erfc',\n",
       " 'exp',\n",
       " 'expm1',\n",
       " 'fabs',\n",
       " 'factorial',\n",
       " 'floor',\n",
       " 'fmod',\n",
       " 'frexp',\n",
       " 'fsum',\n",
       " 'gamma',\n",
       " 'gcd',\n",
       " 'hypot',\n",
       " 'inf',\n",
       " 'isclose',\n",
       " 'isfinite',\n",
       " 'isinf',\n",
       " 'isnan',\n",
       " 'isqrt',\n",
       " 'lcm',\n",
       " 'ldexp',\n",
       " 'lgamma',\n",
       " 'log',\n",
       " 'log10',\n",
       " 'log1p',\n",
       " 'log2',\n",
       " 'modf',\n",
       " 'nan',\n",
       " 'nextafter',\n",
       " 'perm',\n",
       " 'pi',\n",
       " 'pow',\n",
       " 'prod',\n",
       " 'radians',\n",
       " 'remainder',\n",
       " 'sin',\n",
       " 'sinh',\n",
       " 'sqrt',\n",
       " 'tan',\n",
       " 'tanh',\n",
       " 'tau',\n",
       " 'trunc',\n",
       " 'ulp']"
      ]
     },
     "execution_count": 363,
     "metadata": {},
     "output_type": "execute_result"
    }
   ],
   "source": [
    "dir(math)"
   ]
  },
  {
   "cell_type": "code",
   "execution_count": 364,
   "id": "660efe27-b563-47e1-8164-0bf94ab7e099",
   "metadata": {},
   "outputs": [
    {
     "data": {
      "text/plain": [
       "'/Users/dave-wadestein/opt/anaconda3/lib/python3.9/lib-dynload/math.cpython-39-darwin.so'"
      ]
     },
     "execution_count": 364,
     "metadata": {},
     "output_type": "execute_result"
    }
   ],
   "source": [
    "math.__file__"
   ]
  },
  {
   "cell_type": "code",
   "execution_count": 365,
   "id": "2d4e1aac-3ec0-4256-9cf8-102d6431c408",
   "metadata": {},
   "outputs": [],
   "source": [
    "import random"
   ]
  },
  {
   "cell_type": "code",
   "execution_count": 366,
   "id": "9ed77755-162e-4608-a3f7-2c732587f7a3",
   "metadata": {},
   "outputs": [
    {
     "data": {
      "text/plain": [
       "'/Users/dave-wadestein/opt/anaconda3/lib/python3.9/random.py'"
      ]
     },
     "execution_count": 366,
     "metadata": {},
     "output_type": "execute_result"
    }
   ],
   "source": [
    "random.__file__"
   ]
  },
  {
   "cell_type": "code",
   "execution_count": 367,
   "id": "98cb4e94-646b-49d2-9980-1a48c85a762c",
   "metadata": {},
   "outputs": [],
   "source": [
    "things = 'book car office pet sidewalk'.split()"
   ]
  },
  {
   "cell_type": "code",
   "execution_count": 368,
   "id": "e57be53f-af66-4f50-83af-fae3a8b9419f",
   "metadata": {},
   "outputs": [
    {
     "data": {
      "text/plain": [
       "['book', 'car', 'office', 'pet', 'sidewalk']"
      ]
     },
     "execution_count": 368,
     "metadata": {},
     "output_type": "execute_result"
    }
   ],
   "source": [
    "things"
   ]
  },
  {
   "cell_type": "code",
   "execution_count": 369,
   "id": "ea7a0765-9e48-42d8-8c4b-a13956b85848",
   "metadata": {},
   "outputs": [
    {
     "data": {
      "text/plain": [
       "'sidewalk'"
      ]
     },
     "execution_count": 369,
     "metadata": {},
     "output_type": "execute_result"
    }
   ],
   "source": [
    "things.pop()"
   ]
  },
  {
   "cell_type": "code",
   "execution_count": 370,
   "id": "9ee1f12d-18f0-4862-9557-6eca0ed56407",
   "metadata": {},
   "outputs": [
    {
     "data": {
      "text/plain": [
       "['book', 'car', 'office', 'pet']"
      ]
     },
     "execution_count": 370,
     "metadata": {},
     "output_type": "execute_result"
    }
   ],
   "source": [
    "things"
   ]
  },
  {
   "cell_type": "code",
   "execution_count": 373,
   "id": "3b941339-6879-4881-ab29-8c83911a5f97",
   "metadata": {},
   "outputs": [
    {
     "ename": "ValueError",
     "evalue": "list.remove(x): x not in list",
     "output_type": "error",
     "traceback": [
      "\u001b[0;31m---------------------------------------------------------------------------\u001b[0m",
      "\u001b[0;31mValueError\u001b[0m                                Traceback (most recent call last)",
      "Input \u001b[0;32mIn [373]\u001b[0m, in \u001b[0;36m<cell line: 1>\u001b[0;34m()\u001b[0m\n\u001b[0;32m----> 1\u001b[0m \u001b[43mthings\u001b[49m\u001b[38;5;241;43m.\u001b[39;49m\u001b[43mremove\u001b[49m\u001b[43m(\u001b[49m\u001b[38;5;124;43m'\u001b[39;49m\u001b[38;5;124;43moffice\u001b[39;49m\u001b[38;5;124;43m'\u001b[39;49m\u001b[43m)\u001b[49m\n",
      "\u001b[0;31mValueError\u001b[0m: list.remove(x): x not in list"
     ]
    }
   ],
   "source": [
    "things.remove('office')"
   ]
  },
  {
   "cell_type": "code",
   "execution_count": 372,
   "id": "ed9a3918-d78c-4760-ae6a-b25b5b806333",
   "metadata": {},
   "outputs": [
    {
     "data": {
      "text/plain": [
       "['book', 'car', 'pet']"
      ]
     },
     "execution_count": 372,
     "metadata": {},
     "output_type": "execute_result"
    }
   ],
   "source": [
    "things"
   ]
  },
  {
   "cell_type": "code",
   "execution_count": 375,
   "id": "0415771a-3064-42ab-a2e6-e593599cd137",
   "metadata": {},
   "outputs": [],
   "source": [
    "item = 'book'\n",
    "# ...\n",
    "if item in things:\n",
    "    things.remove(item)"
   ]
  },
  {
   "cell_type": "code",
   "execution_count": 376,
   "id": "45f92a4f-2ee6-4cce-ae1a-c6313a1cc5c9",
   "metadata": {},
   "outputs": [
    {
     "data": {
      "text/plain": [
       "['car', 'pet']"
      ]
     },
     "execution_count": 376,
     "metadata": {},
     "output_type": "execute_result"
    }
   ],
   "source": [
    "things"
   ]
  },
  {
   "cell_type": "code",
   "execution_count": 377,
   "id": "57cf44d8-3f58-46d7-bd28-61ef0210b110",
   "metadata": {},
   "outputs": [],
   "source": [
    "things += 'hey hey hey hey you'.split()"
   ]
  },
  {
   "cell_type": "code",
   "execution_count": 378,
   "id": "c7a07dcf-a5d3-4b70-b059-c5bd7631320b",
   "metadata": {},
   "outputs": [
    {
     "data": {
      "text/plain": [
       "['car', 'pet', 'hey', 'hey', 'hey', 'hey', 'you']"
      ]
     },
     "execution_count": 378,
     "metadata": {},
     "output_type": "execute_result"
    }
   ],
   "source": [
    "things"
   ]
  },
  {
   "cell_type": "code",
   "execution_count": 384,
   "id": "0863f9b1-9596-4072-89c1-e959d6dee9eb",
   "metadata": {},
   "outputs": [],
   "source": [
    "things.remove('hey')"
   ]
  },
  {
   "cell_type": "code",
   "execution_count": 381,
   "id": "256d31e7-d058-48af-8b0e-fc65c7dce5ad",
   "metadata": {},
   "outputs": [
    {
     "data": {
      "text/plain": [
       "3"
      ]
     },
     "execution_count": 381,
     "metadata": {},
     "output_type": "execute_result"
    }
   ],
   "source": [
    "things.count('hey')"
   ]
  },
  {
   "cell_type": "code",
   "execution_count": 385,
   "id": "26404550-75d5-47a2-b73f-8f2ab4607c32",
   "metadata": {},
   "outputs": [
    {
     "data": {
      "text/plain": [
       "['car', 'pet', 'you']"
      ]
     },
     "execution_count": 385,
     "metadata": {},
     "output_type": "execute_result"
    }
   ],
   "source": [
    "things"
   ]
  },
  {
   "cell_type": "code",
   "execution_count": 386,
   "id": "6b2d8de4-fb19-4182-8a9a-6460565ed44d",
   "metadata": {},
   "outputs": [],
   "source": [
    "list_of_fruits = ['banana', 'apple', 'lemon', 'pear', 'fig', 'mango','raspberry', 'lemon']"
   ]
  },
  {
   "cell_type": "code",
   "execution_count": 393,
   "id": "74df173d-bd43-4f17-abc9-d46034e79245",
   "metadata": {},
   "outputs": [
    {
     "ename": "ValueError",
     "evalue": "'lemon' is not in list",
     "output_type": "error",
     "traceback": [
      "\u001b[0;31m---------------------------------------------------------------------------\u001b[0m",
      "\u001b[0;31mValueError\u001b[0m                                Traceback (most recent call last)",
      "Input \u001b[0;32mIn [393]\u001b[0m, in \u001b[0;36m<cell line: 1>\u001b[0;34m()\u001b[0m\n\u001b[0;32m----> 1\u001b[0m \u001b[43mlist_of_fruits\u001b[49m\u001b[38;5;241;43m.\u001b[39;49m\u001b[43mindex\u001b[49m\u001b[43m(\u001b[49m\u001b[38;5;124;43m'\u001b[39;49m\u001b[38;5;124;43mlemon\u001b[39;49m\u001b[38;5;124;43m'\u001b[39;49m\u001b[43m)\u001b[49m\n",
      "\u001b[0;31mValueError\u001b[0m: 'lemon' is not in list"
     ]
    }
   ],
   "source": [
    "list_of_fruits.index('lemon')"
   ]
  },
  {
   "cell_type": "code",
   "execution_count": 391,
   "id": "bc6e6bff-6652-4236-bebd-75a791b7f5f5",
   "metadata": {},
   "outputs": [
    {
     "data": {
      "text/plain": [
       "'lemon'"
      ]
     },
     "execution_count": 391,
     "metadata": {},
     "output_type": "execute_result"
    }
   ],
   "source": [
    "list_of_fruits.pop(6)"
   ]
  },
  {
   "cell_type": "code",
   "execution_count": 392,
   "id": "f1ea3347-df9d-451f-89bc-202ed3a5460b",
   "metadata": {},
   "outputs": [
    {
     "data": {
      "text/plain": [
       "['banana', 'apple', 'pear', 'fig', 'mango', 'raspberry']"
      ]
     },
     "execution_count": 392,
     "metadata": {},
     "output_type": "execute_result"
    }
   ],
   "source": [
    "list_of_fruits"
   ]
  },
  {
   "cell_type": "code",
   "execution_count": 398,
   "id": "1ab1d0d7-745a-4427-bf87-88c63b093f26",
   "metadata": {},
   "outputs": [],
   "source": [
    "list_of_fruits.insert(4, 'kiwi')"
   ]
  },
  {
   "cell_type": "code",
   "execution_count": 395,
   "id": "a8ef0ce5-1e63-480f-be95-ca6f125a6b17",
   "metadata": {},
   "outputs": [],
   "source": [
    "list_of_fruits.append('kiwi')"
   ]
  },
  {
   "cell_type": "code",
   "execution_count": 411,
   "id": "a36912c8-a64c-4d93-b5be-49537013ebb0",
   "metadata": {},
   "outputs": [
    {
     "name": "stdout",
     "output_type": "stream",
     "text": [
      "['kiwi', 'banana', 'apple', 'pear', 'kiwi', 'fig', 'mango', 'raspberry', 'starfruit', 'kiwi', 'dragonfruit']\n"
     ]
    }
   ],
   "source": [
    "print(list_of_fruits)"
   ]
  },
  {
   "cell_type": "code",
   "execution_count": 409,
   "id": "1b75c32c-6f0c-44c4-bea4-b07a4910ed1d",
   "metadata": {},
   "outputs": [
    {
     "data": {
      "text/plain": [
       "0"
      ]
     },
     "execution_count": 409,
     "metadata": {},
     "output_type": "execute_result"
    }
   ],
   "source": [
    "list_of_fruits.index('kiwi')"
   ]
  },
  {
   "cell_type": "code",
   "execution_count": 412,
   "id": "d20b3329-0976-426d-8ecc-63f372140c69",
   "metadata": {},
   "outputs": [
    {
     "data": {
      "text/plain": [
       "9"
      ]
     },
     "execution_count": 412,
     "metadata": {},
     "output_type": "execute_result"
    }
   ],
   "source": [
    "len(list_of_fruits) - 1 - list_of_fruits[::-1].index('kiwi')"
   ]
  },
  {
   "cell_type": "code",
   "execution_count": 410,
   "id": "41c8a49d-b237-4500-bd28-bdd4170fc888",
   "metadata": {},
   "outputs": [],
   "source": [
    "list_of_fruits.insert(8, 'starfruit')"
   ]
  },
  {
   "cell_type": "code",
   "execution_count": 413,
   "id": "80fefd28-4acf-4061-b64d-b66405257582",
   "metadata": {},
   "outputs": [],
   "source": [
    "list_of_fruits = list_of_fruits[::-1]"
   ]
  },
  {
   "cell_type": "code",
   "execution_count": 416,
   "id": "03e005f3-ed2c-42fc-951b-156d04dd66b7",
   "metadata": {},
   "outputs": [
    {
     "name": "stdout",
     "output_type": "stream",
     "text": [
      "['dragonfruit', 'kiwi', 'starfruit', 'raspberry', 'mango', 'fig', 'kiwi', 'pear', 'apple', 'banana', 'kiwi']\n"
     ]
    }
   ],
   "source": [
    "print(list_of_fruits)"
   ]
  },
  {
   "cell_type": "code",
   "execution_count": 415,
   "id": "ce33cf38-bb4c-47a7-a1cc-4329a48a7490",
   "metadata": {},
   "outputs": [
    {
     "data": {
      "text/plain": [
       "1"
      ]
     },
     "execution_count": 415,
     "metadata": {},
     "output_type": "execute_result"
    }
   ],
   "source": [
    "list_of_fruits.index('kiwi')"
   ]
  },
  {
   "cell_type": "code",
   "execution_count": 417,
   "id": "c9424554-b0b6-40b6-91d5-8ee699afaf9d",
   "metadata": {},
   "outputs": [
    {
     "name": "stdout",
     "output_type": "stream",
     "text": [
      "['kiwi', 'starfruit', 'raspberry', 'mango', 'fig', 'kiwi', 'pear', 'apple', 'banana', 'kiwi', 'dragonfruit']\n"
     ]
    }
   ],
   "source": [
    "# FUN FACT\n",
    "## Mason's rotating fruits\n",
    "# moves first fruit to end of list\n",
    "if list_of_fruits:\n",
    "    list_of_fruits += [list_of_fruits.pop(0)]\n",
    "print(list_of_fruits)"
   ]
  },
  {
   "cell_type": "code",
   "execution_count": 444,
   "id": "9ca99a37-94e8-49d2-8271-2287c1b89df6",
   "metadata": {},
   "outputs": [
    {
     "name": "stdout",
     "output_type": "stream",
     "text": [
      "['dragonfruit', 'kiwi', 'starfruit', 'raspberry', 'mango', 'fig', 'kiwi', 'pear', 'apple', 'banana', 'kiwi']\n"
     ]
    }
   ],
   "source": [
    "if list_of_fruits:\n",
    "    list_of_fruits.append(list_of_fruits.pop(0))\n",
    "print(list_of_fruits)"
   ]
  },
  {
   "cell_type": "code",
   "execution_count": 440,
   "id": "afb415a2-41cc-4d9c-ba3b-7e96560c877f",
   "metadata": {},
   "outputs": [
    {
     "name": "stdout",
     "output_type": "stream",
     "text": [
      "Help on method_descriptor:\n",
      "\n",
      "append(self, object, /)\n",
      "    Append object to the end of the list.\n",
      "\n"
     ]
    }
   ],
   "source": [
    "help(list.append)"
   ]
  },
  {
   "cell_type": "code",
   "execution_count": 441,
   "id": "16692c78-9484-4eb5-8cab-6c5fc891323a",
   "metadata": {},
   "outputs": [
    {
     "name": "stdout",
     "output_type": "stream",
     "text": [
      "does it matter what I print?\n"
     ]
    }
   ],
   "source": [
    "result = print('does it matter what I print?')"
   ]
  },
  {
   "cell_type": "code",
   "execution_count": 435,
   "id": "d8df59ab-ddfd-42c4-8b0c-ba8bc79de308",
   "metadata": {},
   "outputs": [],
   "source": [
    "length = len('this')"
   ]
  },
  {
   "cell_type": "code",
   "execution_count": 423,
   "id": "89fe2246-0b19-4641-b937-8f8a4099d705",
   "metadata": {},
   "outputs": [
    {
     "data": {
      "text/plain": [
       "4"
      ]
     },
     "execution_count": 423,
     "metadata": {},
     "output_type": "execute_result"
    }
   ],
   "source": [
    "length"
   ]
  },
  {
   "cell_type": "code",
   "execution_count": 426,
   "id": "37006f6e-21de-4324-a7b1-036da0f363b2",
   "metadata": {},
   "outputs": [
    {
     "name": "stdout",
     "output_type": "stream",
     "text": [
      "None\n"
     ]
    }
   ],
   "source": [
    "print(result)"
   ]
  },
  {
   "cell_type": "code",
   "execution_count": 427,
   "id": "e7168b81-7ff5-4f15-91e5-8283c286b35d",
   "metadata": {},
   "outputs": [],
   "source": [
    "result = None"
   ]
  },
  {
   "cell_type": "code",
   "execution_count": 428,
   "id": "f41fd878-b1f4-4bff-a6cc-607cdaa74de2",
   "metadata": {},
   "outputs": [
    {
     "name": "stdout",
     "output_type": "stream",
     "text": [
      "Help on built-in function print in module builtins:\n",
      "\n",
      "print(...)\n",
      "    print(value, ..., sep=' ', end='\\n', file=sys.stdout, flush=False)\n",
      "    \n",
      "    Prints the values to a stream, or to sys.stdout by default.\n",
      "    Optional keyword arguments:\n",
      "    file:  a file-like object (stream); defaults to the current sys.stdout.\n",
      "    sep:   string inserted between values, default a space.\n",
      "    end:   string appended after the last value, default a newline.\n",
      "    flush: whether to forcibly flush the stream.\n",
      "\n"
     ]
    }
   ],
   "source": [
    "help(print)"
   ]
  },
  {
   "cell_type": "code",
   "execution_count": 429,
   "id": "17448a27-9a25-481a-9399-3dff63bf9425",
   "metadata": {},
   "outputs": [
    {
     "name": "stdout",
     "output_type": "stream",
     "text": [
      "Help on method_descriptor:\n",
      "\n",
      "append(self, object, /)\n",
      "    Append object to the end of the list.\n",
      "\n"
     ]
    }
   ],
   "source": [
    "help(list.append)"
   ]
  },
  {
   "cell_type": "code",
   "execution_count": 430,
   "id": "60c5eef7-ebe5-4def-b5c0-ad055131ca0f",
   "metadata": {},
   "outputs": [
    {
     "name": "stdout",
     "output_type": "stream",
     "text": [
      "Help on method_descriptor:\n",
      "\n",
      "count(self, value, /)\n",
      "    Return number of occurrences of value.\n",
      "\n"
     ]
    }
   ],
   "source": [
    "help(list.count)"
   ]
  },
  {
   "cell_type": "code",
   "execution_count": 445,
   "id": "0837fe54-4111-4615-a7d4-25eae4099c90",
   "metadata": {},
   "outputs": [
    {
     "name": "stdout",
     "output_type": "stream",
     "text": [
      "Help on method_descriptor:\n",
      "\n",
      "remove(self, value, /)\n",
      "    Remove first occurrence of value.\n",
      "    \n",
      "    Raises ValueError if the value is not present.\n",
      "\n"
     ]
    }
   ],
   "source": [
    "help(list.remove)"
   ]
  },
  {
   "cell_type": "code",
   "execution_count": 446,
   "id": "cb37a7f8-ad3b-4f1b-b635-8767f2f0088c",
   "metadata": {},
   "outputs": [
    {
     "name": "stdout",
     "output_type": "stream",
     "text": [
      "Help on method_descriptor:\n",
      "\n",
      "sort(self, /, *, key=None, reverse=False)\n",
      "    Sort the list in ascending order and return None.\n",
      "    \n",
      "    The sort is in-place (i.e. the list itself is modified) and stable (i.e. the\n",
      "    order of two equal elements is maintained).\n",
      "    \n",
      "    If a key function is given, apply it once to each list item and sort them,\n",
      "    ascending or descending, according to their function values.\n",
      "    \n",
      "    The reverse flag can be set to sort in descending order.\n",
      "\n"
     ]
    }
   ],
   "source": [
    "help(list.sort)"
   ]
  },
  {
   "cell_type": "code",
   "execution_count": 447,
   "id": "5b9a1614-fa76-4e70-8456-93040328164c",
   "metadata": {},
   "outputs": [
    {
     "name": "stdout",
     "output_type": "stream",
     "text": [
      "thing\n"
     ]
    }
   ],
   "source": [
    "thing = print('thing')"
   ]
  },
  {
   "cell_type": "code",
   "execution_count": 448,
   "id": "5d621fb1-8f6c-4d17-881b-41eece29f149",
   "metadata": {},
   "outputs": [
    {
     "name": "stdout",
     "output_type": "stream",
     "text": [
      "None\n"
     ]
    }
   ],
   "source": [
    "print(thing)"
   ]
  },
  {
   "cell_type": "code",
   "execution_count": 450,
   "id": "f3086411-55ba-4674-b137-c3cb2a861361",
   "metadata": {},
   "outputs": [
    {
     "name": "stdout",
     "output_type": "stream",
     "text": [
      "['dragonfruit', 'kiwi', 'starfruit', 'raspberry', 'mango', 'fig', 'kiwi', 'pear', 'apple', 'banana', 'kiwi']\n"
     ]
    }
   ],
   "source": [
    "print(list_of_fruits)"
   ]
  },
  {
   "cell_type": "code",
   "execution_count": 451,
   "id": "113c98e1-4a7c-4199-b9de-b0059e82e7cd",
   "metadata": {},
   "outputs": [],
   "source": [
    "list_of_fruits.sort()"
   ]
  },
  {
   "cell_type": "code",
   "execution_count": 452,
   "id": "e856f496-60e2-4567-a807-101508af154e",
   "metadata": {},
   "outputs": [
    {
     "data": {
      "text/plain": [
       "['apple',\n",
       " 'banana',\n",
       " 'dragonfruit',\n",
       " 'fig',\n",
       " 'kiwi',\n",
       " 'kiwi',\n",
       " 'kiwi',\n",
       " 'mango',\n",
       " 'pear',\n",
       " 'raspberry',\n",
       " 'starfruit']"
      ]
     },
     "execution_count": 452,
     "metadata": {},
     "output_type": "execute_result"
    }
   ],
   "source": [
    "list_of_fruits"
   ]
  },
  {
   "cell_type": "code",
   "execution_count": 457,
   "id": "2551ea3d-0453-4d1c-ba38-c4994ad2885e",
   "metadata": {},
   "outputs": [],
   "source": [
    "list_of_fruits.sort(reverse=True)"
   ]
  },
  {
   "cell_type": "code",
   "execution_count": 459,
   "id": "dc523e2f-1aac-42d7-94c4-b9b664f46226",
   "metadata": {},
   "outputs": [
    {
     "data": {
      "text/plain": [
       "['starfruit',\n",
       " 'raspberry',\n",
       " 'pear',\n",
       " 'mango',\n",
       " 'kiwi',\n",
       " 'kiwi',\n",
       " 'kiwi',\n",
       " 'fig',\n",
       " 'dragonfruit',\n",
       " 'banana',\n",
       " 'apple']"
      ]
     },
     "execution_count": 459,
     "metadata": {},
     "output_type": "execute_result"
    }
   ],
   "source": [
    "list_of_fruits"
   ]
  },
  {
   "cell_type": "code",
   "execution_count": 460,
   "id": "29344d83-9172-40fa-bac1-3f951e338832",
   "metadata": {},
   "outputs": [],
   "source": [
    "result = list_of_fruits.sort()"
   ]
  },
  {
   "cell_type": "code",
   "execution_count": 461,
   "id": "f818cfad-e3e7-40e3-9572-7c0f5e66bc69",
   "metadata": {},
   "outputs": [
    {
     "name": "stdout",
     "output_type": "stream",
     "text": [
      "None\n"
     ]
    }
   ],
   "source": [
    "print(result)"
   ]
  },
  {
   "cell_type": "code",
   "execution_count": 462,
   "id": "447ec115-78d5-44f8-8723-f1f0f535c4c9",
   "metadata": {},
   "outputs": [],
   "source": [
    "list_of_fruits = list_of_fruits.sort()"
   ]
  },
  {
   "cell_type": "code",
   "execution_count": 463,
   "id": "f51cc83e-30b8-47d0-a6f8-af29d0dcfee7",
   "metadata": {},
   "outputs": [
    {
     "name": "stdout",
     "output_type": "stream",
     "text": [
      "None\n"
     ]
    }
   ],
   "source": [
    "print(list_of_fruits)"
   ]
  },
  {
   "cell_type": "code",
   "execution_count": 464,
   "id": "046bd1d4-3767-4c81-acf2-132ddd11f5d2",
   "metadata": {},
   "outputs": [],
   "source": [
    "stuff = 'this that other potato banana yogurt'.split()"
   ]
  },
  {
   "cell_type": "code",
   "execution_count": 465,
   "id": "5aabc504-fc54-4d8c-9241-616401717fe5",
   "metadata": {},
   "outputs": [
    {
     "data": {
      "text/plain": [
       "['this', 'that', 'other', 'potato', 'banana', 'yogurt']"
      ]
     },
     "execution_count": 465,
     "metadata": {},
     "output_type": "execute_result"
    }
   ],
   "source": [
    "stuff"
   ]
  },
  {
   "cell_type": "code",
   "execution_count": 466,
   "id": "3a38ccbd-8f24-4e38-a0fd-d4af40044cc6",
   "metadata": {},
   "outputs": [
    {
     "data": {
      "text/plain": [
       "['banana', 'other', 'potato', 'that', 'this', 'yogurt']"
      ]
     },
     "execution_count": 466,
     "metadata": {},
     "output_type": "execute_result"
    }
   ],
   "source": [
    "sorted(stuff)"
   ]
  },
  {
   "cell_type": "code",
   "execution_count": 467,
   "id": "386a713b-5b9a-40e3-8318-1e068addbe0b",
   "metadata": {},
   "outputs": [
    {
     "data": {
      "text/plain": [
       "['this', 'that', 'other', 'potato', 'banana', 'yogurt']"
      ]
     },
     "execution_count": 467,
     "metadata": {},
     "output_type": "execute_result"
    }
   ],
   "source": [
    "stuff"
   ]
  },
  {
   "cell_type": "code",
   "execution_count": 468,
   "id": "78c2da73-8d18-4583-a315-a6592211e98e",
   "metadata": {},
   "outputs": [
    {
     "data": {
      "text/plain": [
       "[' ', 'g', 'h', 'i', 'i', 'n', 'r', 's', 's', 't', 't']"
      ]
     },
     "execution_count": 468,
     "metadata": {},
     "output_type": "execute_result"
    }
   ],
   "source": [
    "sorted('this string')"
   ]
  },
  {
   "cell_type": "code",
   "execution_count": 469,
   "id": "81780d7a-98d2-4731-a676-9bdf93fbd555",
   "metadata": {},
   "outputs": [],
   "source": [
    "sorted_version_of_string = sorted('this string')"
   ]
  },
  {
   "cell_type": "code",
   "execution_count": 470,
   "id": "6ed884e6-a331-4b7b-8c46-fd2c2f97902c",
   "metadata": {},
   "outputs": [
    {
     "data": {
      "text/plain": [
       "[' ', 'g', 'h', 'i', 'i', 'n', 'r', 's', 's', 't', 't']"
      ]
     },
     "execution_count": 470,
     "metadata": {},
     "output_type": "execute_result"
    }
   ],
   "source": [
    "sorted_version_of_string"
   ]
  },
  {
   "cell_type": "code",
   "execution_count": 471,
   "id": "50d73cf9-9c7c-4775-8b29-0d338234dd44",
   "metadata": {},
   "outputs": [
    {
     "data": {
      "text/plain": [
       "['this', 'that', 'other', 'potato', 'banana', 'yogurt']"
      ]
     },
     "execution_count": 471,
     "metadata": {},
     "output_type": "execute_result"
    }
   ],
   "source": [
    "stuff"
   ]
  },
  {
   "cell_type": "code",
   "execution_count": 472,
   "id": "88f18c5f-d583-4aa6-b6f8-e243b08d9527",
   "metadata": {},
   "outputs": [],
   "source": [
    "sorted_version_of_stuff = sorted(stuff)"
   ]
  },
  {
   "cell_type": "code",
   "execution_count": 473,
   "id": "6d8ab8b0-d746-4113-a01d-ebf29fd6f6e9",
   "metadata": {},
   "outputs": [
    {
     "data": {
      "text/plain": [
       "['this', 'that', 'other', 'potato', 'banana', 'yogurt']"
      ]
     },
     "execution_count": 473,
     "metadata": {},
     "output_type": "execute_result"
    }
   ],
   "source": [
    "stuff"
   ]
  },
  {
   "cell_type": "code",
   "execution_count": 474,
   "id": "1756450d-ad3d-41ff-a405-ac3c2fffa0f3",
   "metadata": {},
   "outputs": [
    {
     "data": {
      "text/plain": [
       "['banana', 'other', 'potato', 'that', 'this', 'yogurt']"
      ]
     },
     "execution_count": 474,
     "metadata": {},
     "output_type": "execute_result"
    }
   ],
   "source": [
    "sorted_version_of_stuff"
   ]
  },
  {
   "cell_type": "code",
   "execution_count": 475,
   "id": "9bca20cd-44c1-40cc-a9b3-b09d0de4b768",
   "metadata": {},
   "outputs": [],
   "source": [
    "stuff = sorted(stuff) # inappropriate"
   ]
  },
  {
   "cell_type": "code",
   "execution_count": 476,
   "id": "4e86d952-bdf9-424d-8b99-14ae54129189",
   "metadata": {},
   "outputs": [
    {
     "data": {
      "text/plain": [
       "['banana', 'other', 'potato', 'that', 'this', 'yogurt']"
      ]
     },
     "execution_count": 476,
     "metadata": {},
     "output_type": "execute_result"
    }
   ],
   "source": [
    "stuff"
   ]
  },
  {
   "cell_type": "code",
   "execution_count": 479,
   "id": "09f5568f-89e7-471a-86ed-8da2080639f5",
   "metadata": {},
   "outputs": [],
   "source": [
    "stuff.sort()"
   ]
  },
  {
   "cell_type": "code",
   "execution_count": 478,
   "id": "f14e0337-392c-40b5-b896-00b769beab5e",
   "metadata": {},
   "outputs": [
    {
     "data": {
      "text/plain": [
       "['yogurt', 'this', 'that', 'potato', 'other', 'banana']"
      ]
     },
     "execution_count": 478,
     "metadata": {},
     "output_type": "execute_result"
    }
   ],
   "source": [
    "stuff"
   ]
  },
  {
   "cell_type": "code",
   "execution_count": 481,
   "id": "2efaef50-78bf-4bb7-b562-dd6393bd3da4",
   "metadata": {},
   "outputs": [],
   "source": [
    "stuff.sort(reverse=True)"
   ]
  },
  {
   "cell_type": "code",
   "execution_count": 482,
   "id": "1b032611-b4e9-48c0-8028-128f22a458be",
   "metadata": {},
   "outputs": [
    {
     "data": {
      "text/plain": [
       "['yogurt', 'this', 'that', 'potato', 'other', 'banana']"
      ]
     },
     "execution_count": 482,
     "metadata": {},
     "output_type": "execute_result"
    }
   ],
   "source": [
    "stuff"
   ]
  },
  {
   "cell_type": "code",
   "execution_count": 483,
   "id": "95ef9b0f-0dde-45f1-a8eb-eaabb8f14121",
   "metadata": {},
   "outputs": [
    {
     "data": {
      "text/plain": [
       "['yogurt', 'this', 'that', 'potato', 'other', 'banana']"
      ]
     },
     "execution_count": 483,
     "metadata": {},
     "output_type": "execute_result"
    }
   ],
   "source": [
    "stuff"
   ]
  },
  {
   "cell_type": "code",
   "execution_count": 484,
   "id": "ba862d32-7f52-41ca-a32c-dc6f30a294b8",
   "metadata": {},
   "outputs": [
    {
     "name": "stdout",
     "output_type": "stream",
     "text": [
      "None\n"
     ]
    }
   ],
   "source": [
    "print(stuff.sort())"
   ]
  },
  {
   "cell_type": "code",
   "execution_count": 485,
   "id": "367d08bb-32da-48c9-b4b8-0776f393488d",
   "metadata": {},
   "outputs": [
    {
     "data": {
      "text/plain": [
       "['banana', 'other', 'potato', 'that', 'this', 'yogurt']"
      ]
     },
     "execution_count": 485,
     "metadata": {},
     "output_type": "execute_result"
    }
   ],
   "source": [
    "stuff"
   ]
  },
  {
   "cell_type": "code",
   "execution_count": 486,
   "id": "e0106a3a-8853-413d-9ed8-3fea48b29544",
   "metadata": {},
   "outputs": [
    {
     "name": "stdout",
     "output_type": "stream",
     "text": [
      "Help on method_descriptor:\n",
      "\n",
      "pop(self, index=-1, /)\n",
      "    Remove and return item at index (default last).\n",
      "    \n",
      "    Raises IndexError if list is empty or index is out of range.\n",
      "\n"
     ]
    }
   ],
   "source": [
    "help(list.pop)"
   ]
  },
  {
   "cell_type": "code",
   "execution_count": 487,
   "id": "cff74c5d-4663-4af4-8a67-5fa54a188aaf",
   "metadata": {},
   "outputs": [
    {
     "data": {
      "text/plain": [
       "['banana', 'other', 'potato', 'that', 'this', 'yogurt']"
      ]
     },
     "execution_count": 487,
     "metadata": {},
     "output_type": "execute_result"
    }
   ],
   "source": [
    "stuff"
   ]
  },
  {
   "cell_type": "code",
   "execution_count": 488,
   "id": "ee8e92f7-a5d9-4e23-a2ba-d9cd91c2c462",
   "metadata": {},
   "outputs": [
    {
     "name": "stdout",
     "output_type": "stream",
     "text": [
      "yogurt\n"
     ]
    }
   ],
   "source": [
    "print(stuff.pop())"
   ]
  },
  {
   "cell_type": "code",
   "execution_count": 489,
   "id": "888ef47a-d3c0-4fd7-98e1-765ff2865ef7",
   "metadata": {},
   "outputs": [
    {
     "data": {
      "text/plain": [
       "['banana', 'other', 'potato', 'that', 'this']"
      ]
     },
     "execution_count": 489,
     "metadata": {},
     "output_type": "execute_result"
    }
   ],
   "source": [
    "stuff"
   ]
  },
  {
   "cell_type": "code",
   "execution_count": 491,
   "id": "b5a7341c-ad30-4458-a7b0-784a05ff9063",
   "metadata": {},
   "outputs": [],
   "source": [
    "last_item = stuff.pop()"
   ]
  },
  {
   "cell_type": "code",
   "execution_count": 492,
   "id": "2c67c891-2b2e-45a7-b592-524c7a186fd2",
   "metadata": {},
   "outputs": [
    {
     "data": {
      "text/plain": [
       "['banana', 'other', 'potato', 'that']"
      ]
     },
     "execution_count": 492,
     "metadata": {},
     "output_type": "execute_result"
    }
   ],
   "source": [
    "stuff"
   ]
  },
  {
   "cell_type": "code",
   "execution_count": 493,
   "id": "f8453546-902e-40de-9169-03fa1d91fc5d",
   "metadata": {},
   "outputs": [
    {
     "data": {
      "text/plain": [
       "'this'"
      ]
     },
     "execution_count": 493,
     "metadata": {},
     "output_type": "execute_result"
    }
   ],
   "source": [
    "last_item"
   ]
  },
  {
   "cell_type": "code",
   "execution_count": null,
   "id": "28929e5a-1964-4a63-b5f7-8482fbd2cde0",
   "metadata": {},
   "outputs": [],
   "source": []
  }
 ],
 "metadata": {
  "kernelspec": {
   "display_name": "Python 3 (ipykernel)",
   "language": "python",
   "name": "python3"
  },
  "language_info": {
   "codemirror_mode": {
    "name": "ipython",
    "version": 3
   },
   "file_extension": ".py",
   "mimetype": "text/x-python",
   "name": "python",
   "nbconvert_exporter": "python",
   "pygments_lexer": "ipython3",
   "version": "3.9.12"
  }
 },
 "nbformat": 4,
 "nbformat_minor": 5
}
