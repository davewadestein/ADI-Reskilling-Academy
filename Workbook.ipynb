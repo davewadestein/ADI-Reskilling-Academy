{
 "cells": [
  {
   "cell_type": "code",
   "execution_count": 1,
   "id": "f71ad354-9fba-48d2-a1ec-23971bd9cc06",
   "metadata": {},
   "outputs": [],
   "source": [
    "# \"Mechanical sympathy\""
   ]
  },
  {
   "cell_type": "markdown",
   "id": "b067c6a9-fd52-46c1-9791-90060da74347",
   "metadata": {
    "tags": []
   },
   "source": [
    "# Important things about Python\n",
    "* everything in Python is an object\n",
    "* built-in functions don't change the objects that are passed to them (e.g., sorted())\n",
    "  * if you want to change an object you must invoke a method on that object (e.g., list.sort())\n",
    "  * not all methods change an object (e.g., list.count())\n",
    "* Python is dynamically typed\n",
    "  * variables are not restricted in their type, so we can put some different type object into them\n",
    "  * you do not have to declare a variable before using it\n",
    "  * this is both a good and a bad\n",
    "* It's...\n",
    "  * old (1991)\n",
    "  * Guido van Rossum used to be the BDFL\n",
    "  * it's raison d'être is to manipulate text/strings/files/data\n",
    "  * it's a terrible language for numerics\n",
    "* containers vs. simple variables\n",
    "  * containers: str, list, dict, tuple, set\n",
    "  * simple variables: int, float, bool, str\n",
    "* important things about dicts (in Python 2 vs. 3)\n",
    "  * .keys(), .values(), .items() methods return lists in Python 2\n",
    "  * these methods return VIEW OBJECTS in Python 3, giving us a \"dynamic window\" into the dict\n",
    "  * if you want static lists of key/values/items in Python 3, you must list()-ify the results\n",
    "* mutable vs. immutable objects\n",
    "  * immutable: str, tuple\n",
    "  * mutable: list, dict, set\n",
    "* Python practices \"truthiness\"\n",
    "  * we are allowed to use non-Boolean expressions in a Boolean context\n",
    "    * 0 and 0.0 are considered False; non-zero numbers are considered True\n",
    "    * empty containers are considered False; non-empty containers are considered True\n",
    "    * None is considered False\n",
    "* \"Pythonic\"\n",
    "  * converting from one type to another, especially to make an object easier to work with \n",
    "* Python is \"duck typed\"\n",
    "  * \"If it walks like a duck, quacks like a duck, I'm going to call it a duck\"\n",
    "  * we can write that functions that expect arguments to have a certain PROPERTY as opposed to TYPE\n",
    "* when coding a problem, introspect into your brain to understand how YOU solve the problem, but...\n",
    "  * sometimes you skip a step in your brain that Python can't skip\n",
    "  * corollary: you often combine steps or perform operations that are difficult to enumerate\n",
    "  * it's hard to do but very important\n",
    "* if you are trying to solve a problem which is not ADI-specific\n",
    "  * someone else has already solved it in Python"
   ]
  },
  {
   "cell_type": "code",
   "execution_count": 40,
   "id": "1d518c43-d1b4-4e83-b8a5-fdaf7354ab9f",
   "metadata": {},
   "outputs": [
    {
     "name": "stdout",
     "output_type": "stream",
     "text": [
      "['two', 'one'] [2, 1] [('two', 2), ('one', 1)]\n"
     ]
    }
   ],
   "source": [
    "%%python2\n",
    "# the above causes the below code to run in Python 2\n",
    "d = { 'one': 1, 'two': 2 }\n",
    "print d.keys(), d.values(), d.items()"
   ]
  },
  {
   "cell_type": "code",
   "execution_count": 41,
   "id": "df23a5aa-6c01-49d4-b0de-77c05743c2d4",
   "metadata": {},
   "outputs": [
    {
     "name": "stdout",
     "output_type": "stream",
     "text": [
      "dict_keys(['one', 'two'])\n",
      "dict_values([1, 2])\n",
      "dict_items([('one', 1), ('two', 2)])\n"
     ]
    }
   ],
   "source": [
    "d = { 'one': 1, 'two': 2 }\n",
    "print(d.keys(), d.values(), d.items(), sep='\\n')"
   ]
  },
  {
   "cell_type": "code",
   "execution_count": 44,
   "id": "1bb6382e-1f83-41aa-9410-3cf45785ecf3",
   "metadata": {},
   "outputs": [
    {
     "name": "stdout",
     "output_type": "stream",
     "text": [
      "keys right after we got 'em... dict_keys(['one', 'two'])\n",
      "keys right after we change the dict... dict_keys(['one', 'two', 'three'])\n"
     ]
    }
   ],
   "source": [
    "d = { 'one': 1, 'two': 2 }\n",
    "keys = d.keys()\n",
    "print(\"keys right after we got 'em...\", keys)\n",
    "d['three'] = 3\n",
    "print('keys right after we change the dict...', keys)"
   ]
  },
  {
   "cell_type": "markdown",
   "id": "bbbb7d46-a497-4d5d-90a9-61dcb0d74849",
   "metadata": {
    "jp-MarkdownHeadingCollapsed": true,
    "tags": []
   },
   "source": [
    "# scripting vs. programming\n",
    "* there is no clear difference between them\n",
    "* who does the work?\n",
    "  * scripting relies on other programs to do the work\n",
    "  * programming is more about you doing the work\n",
    "* interpretation vs. compilation...not really true anymore\n",
    "  * in the old days, this was true\n",
    "  * C programs were compiled to make executables\n",
    "  * sh/Perl scripts were interpreted to get things done\n",
    "* length\n",
    "  * scripts tend to be shorter\n",
    "  * programs tens to be longer\n",
    "* automation\n",
    "  * scripting typically revolves around building code to automated repetitive tasks\n",
    "  * sometimes a script is a one-off...only gonna be used once"
   ]
  },
  {
   "cell_type": "markdown",
   "id": "606aaf88-3b35-4b07-a0a7-835a9b3deeca",
   "metadata": {
    "tags": []
   },
   "source": [
    "# Important things about learning/teaching\n",
    "* know when to zoom in and zoom out\n",
    "  * don't go/go down the rabbit hole"
   ]
  },
  {
   "cell_type": "markdown",
   "id": "1b99c60d-b30d-4c7c-bc7f-80a42061f6c5",
   "metadata": {},
   "source": [
    "# LBYL vs. EAFP styles of programming\n",
    "* \"Look Before You Leap\"–style of programming whereby you check to see if something will thrown an exception before doing it\n",
    "  * look to see if key is there using 'in' before accesing a dictionary (or use .get())\n",
    "  * remove an item from a list that isn't there–just check first\n",
    "  * check/manage your list/container indices to prevent falling off the end...\n",
    "  * int(x) will fail in many cases–but the problem\n",
    "  * TypeErrors\n",
    "  * check denominator of division to avoid dividing by 0 (with floating point division you can still get an overflow if the denominator is tiny)\n",
    "  * check to see if exists before trying to open (it may exist but we may not have permission)\n",
    "* \"Easier to Ask Forgiveness than Permission\"-just do it and catch the exception if it occurs and handle that\n",
    "* suggestion: Do LBYL when it's easy, otherwise EAFP\n",
    "* yet another style of programming: \"belt and suspenders\""
   ]
  },
  {
   "cell_type": "markdown",
   "id": "ca3e75e1",
   "metadata": {},
   "source": [
    "# Programming Stuff\n",
    "* Hal Abelson: \"Code is written for others to read and only incidentally for the computer to execute.\"\n",
    "* Eagleson's Law: \"Any code you wrote more than 6 months ago might as well have been written by somebody else.\"\n",
    "* cost_per_ounce, weight, quanity are much better variable names than cpo, w, and qty.\n",
    "* more important than math are these qualities to make a good programmer:\n",
    "  * problem-solving skills / logical thinking\n",
    "  * stick-to-itiveness\n",
    "  * attention to detail\n",
    "* DRY = Don't Repeat Yourself\n",
    "* \"Premature optimization is the root of all evil (or at least most of it)\" –Donald Knuth\n",
    "* \"Efficiency doesn't matter until matters and it rarely matters.\" –DWS\n",
    "* the three banes of existence of programmers are:\n",
    "  * uninitialized/wrongly-initialied variables\n",
    "  * off by 1 errors\n",
    "* No amount of testing can ensure your program is bug-free\n",
    "* Suggestion–program in an \"LBYL\" style if easy, otherwise \"EAFP\" style\n",
    "* \"defensive programming\"\n",
    "* clear code beats comments any day\n",
    "* code for re-use"
   ]
  },
  {
   "cell_type": "code",
   "execution_count": 2,
   "id": "9f769788-cb2f-45dd-9333-8fc84e88dd17",
   "metadata": {},
   "outputs": [
    {
     "name": "stdout",
     "output_type": "stream",
     "text": [
      "1 2 3\n"
     ]
    }
   ],
   "source": [
    "print(1, 2, 3)"
   ]
  },
  {
   "cell_type": "code",
   "execution_count": 3,
   "id": "bcd7fb38-0c1e-4b62-a2c4-cb4bdc81cfb4",
   "metadata": {},
   "outputs": [
    {
     "name": "stdout",
     "output_type": "stream",
     "text": [
      "1\n"
     ]
    }
   ],
   "source": [
    "print(1)"
   ]
  },
  {
   "cell_type": "code",
   "execution_count": 4,
   "id": "192665b6-cdff-48fe-8e42-ef7e8d297d32",
   "metadata": {},
   "outputs": [
    {
     "name": "stdout",
     "output_type": "stream",
     "text": [
      "\n"
     ]
    }
   ],
   "source": [
    "print()"
   ]
  },
  {
   "cell_type": "code",
   "execution_count": 5,
   "id": "39b1a49f-fbf9-4f51-919d-56d69a2e7008",
   "metadata": {},
   "outputs": [
    {
     "name": "stdout",
     "output_type": "stream",
     "text": [
      "Some words\n"
     ]
    }
   ],
   "source": [
    "print('Some words')"
   ]
  },
  {
   "cell_type": "code",
   "execution_count": 6,
   "id": "1ae4cf2b-5f06-4933-a7f2-34365de9c583",
   "metadata": {},
   "outputs": [],
   "source": [
    "name = 'Grace Hopper'"
   ]
  },
  {
   "cell_type": "code",
   "execution_count": 7,
   "id": "4b5d3a8f-10fc-42fc-b803-49e6aa8bdc1e",
   "metadata": {},
   "outputs": [
    {
     "data": {
      "text/plain": [
       "'Grace Hopper'"
      ]
     },
     "execution_count": 7,
     "metadata": {},
     "output_type": "execute_result"
    }
   ],
   "source": [
    "name"
   ]
  },
  {
   "cell_type": "code",
   "execution_count": 8,
   "id": "6cac5891-15bc-44f4-95a0-4b3ade564dc3",
   "metadata": {},
   "outputs": [
    {
     "data": {
      "text/plain": [
       "140700046992496"
      ]
     },
     "execution_count": 8,
     "metadata": {},
     "output_type": "execute_result"
    }
   ],
   "source": [
    "id(name)"
   ]
  },
  {
   "cell_type": "code",
   "execution_count": 9,
   "id": "0ebcbfc8-f06b-42f5-b8b3-c1877d78c39e",
   "metadata": {},
   "outputs": [],
   "source": [
    "x = 1"
   ]
  },
  {
   "cell_type": "code",
   "execution_count": 10,
   "id": "f9ef06a1-a586-4acc-8209-9a21e0488aca",
   "metadata": {},
   "outputs": [
    {
     "data": {
      "text/plain": [
       "140700847106352"
      ]
     },
     "execution_count": 10,
     "metadata": {},
     "output_type": "execute_result"
    }
   ],
   "source": [
    "id(x)"
   ]
  },
  {
   "cell_type": "code",
   "execution_count": 11,
   "id": "d813cb26-b330-42a7-b868-99619f7dd467",
   "metadata": {},
   "outputs": [
    {
     "data": {
      "text/plain": [
       "140700847416240"
      ]
     },
     "execution_count": 11,
     "metadata": {},
     "output_type": "execute_result"
    }
   ],
   "source": [
    "id(print)"
   ]
  },
  {
   "cell_type": "code",
   "execution_count": 12,
   "id": "d6b2bbec-e9d8-4dd8-be03-d61d8c4c2f81",
   "metadata": {},
   "outputs": [
    {
     "data": {
      "text/plain": [
       "1"
      ]
     },
     "execution_count": 12,
     "metadata": {},
     "output_type": "execute_result"
    }
   ],
   "source": [
    "1"
   ]
  },
  {
   "cell_type": "code",
   "execution_count": 13,
   "id": "e9c65b92-ad78-4c7c-932e-7e2d65705c38",
   "metadata": {},
   "outputs": [
    {
     "data": {
      "text/plain": [
       "4"
      ]
     },
     "execution_count": 13,
     "metadata": {},
     "output_type": "execute_result"
    }
   ],
   "source": [
    "2 + 2"
   ]
  },
  {
   "cell_type": "code",
   "execution_count": 14,
   "id": "82812dfd-a0b3-4139-a35e-83531357453f",
   "metadata": {},
   "outputs": [
    {
     "data": {
      "text/plain": [
       "18446744073709551616"
      ]
     },
     "execution_count": 14,
     "metadata": {},
     "output_type": "execute_result"
    }
   ],
   "source": [
    "2 ** 64"
   ]
  },
  {
   "cell_type": "code",
   "execution_count": 15,
   "id": "1abdf171-f3d7-474c-b16e-806b02258d2d",
   "metadata": {},
   "outputs": [
    {
     "ename": "SyntaxError",
     "evalue": "invalid syntax (2875093652.py, line 1)",
     "output_type": "error",
     "traceback": [
      "\u001b[0;36m  Input \u001b[0;32mIn [15]\u001b[0;36m\u001b[0m\n\u001b[0;31m    2 **\u001b[0m\n\u001b[0m        ^\u001b[0m\n\u001b[0;31mSyntaxError\u001b[0m\u001b[0;31m:\u001b[0m invalid syntax\n"
     ]
    }
   ],
   "source": [
    "2 **"
   ]
  },
  {
   "cell_type": "code",
   "execution_count": null,
   "id": "158c2ff6-b008-4c47-a9f7-9f290fee0ed9",
   "metadata": {},
   "outputs": [],
   "source": [
    "223 * 73.54"
   ]
  },
  {
   "cell_type": "code",
   "execution_count": null,
   "id": "d4fc00e1-3f0b-49f6-b46d-055830f5bee8",
   "metadata": {},
   "outputs": [],
   "source": [
    "cost_per_ounce = 0.49"
   ]
  },
  {
   "cell_type": "code",
   "execution_count": null,
   "id": "1334ee4b",
   "metadata": {},
   "outputs": [],
   "source": [
    "quantity = 15"
   ]
  },
  {
   "cell_type": "code",
   "execution_count": null,
   "id": "7226f9a8",
   "metadata": {},
   "outputs": [],
   "source": [
    "quantity"
   ]
  },
  {
   "cell_type": "code",
   "execution_count": null,
   "id": "d751ac2a",
   "metadata": {},
   "outputs": [],
   "source": [
    "type(quantity)"
   ]
  },
  {
   "cell_type": "code",
   "execution_count": null,
   "id": "9f734b2e",
   "metadata": {},
   "outputs": [],
   "source": [
    "mycompany = 'Pluralsight'"
   ]
  },
  {
   "cell_type": "code",
   "execution_count": null,
   "id": "599eb877",
   "metadata": {},
   "outputs": [],
   "source": [
    "mycompany"
   ]
  },
  {
   "cell_type": "code",
   "execution_count": null,
   "id": "cf66bf75",
   "metadata": {},
   "outputs": [],
   "source": [
    "type(mycompany)"
   ]
  },
  {
   "cell_type": "code",
   "execution_count": null,
   "id": "a1f14150",
   "metadata": {},
   "outputs": [],
   "source": [
    "print(type(7)) # Python actually evaluates this\n",
    "type(7.0)"
   ]
  },
  {
   "cell_type": "code",
   "execution_count": null,
   "id": "73bad1d6",
   "metadata": {},
   "outputs": [],
   "source": [
    "type(7)"
   ]
  },
  {
   "cell_type": "code",
   "execution_count": null,
   "id": "a624d1b8",
   "metadata": {},
   "outputs": [],
   "source": [
    "print(type(7))"
   ]
  },
  {
   "cell_type": "code",
   "execution_count": null,
   "id": "79092765",
   "metadata": {},
   "outputs": [],
   "source": [
    "mycompany"
   ]
  },
  {
   "cell_type": "code",
   "execution_count": null,
   "id": "ee4f0f46",
   "metadata": {},
   "outputs": [],
   "source": [
    "print('I work for', mycompany)"
   ]
  },
  {
   "cell_type": "code",
   "execution_count": null,
   "id": "c6eac11e",
   "metadata": {},
   "outputs": [],
   "source": [
    "x = 1\n",
    "y = 2\n",
    "print(x + y)\n",
    "z = 4\n",
    "print('foo')"
   ]
  },
  {
   "cell_type": "code",
   "execution_count": null,
   "id": "8fb0023f",
   "metadata": {},
   "outputs": [],
   "source": [
    "x"
   ]
  },
  {
   "cell_type": "code",
   "execution_count": null,
   "id": "60fc7108",
   "metadata": {},
   "outputs": [],
   "source": [
    "x = 'ecks'"
   ]
  },
  {
   "cell_type": "code",
   "execution_count": null,
   "id": "471306e5",
   "metadata": {},
   "outputs": [],
   "source": [
    "x"
   ]
  },
  {
   "cell_type": "code",
   "execution_count": null,
   "id": "53e40b38",
   "metadata": {},
   "outputs": [],
   "source": [
    "type(x)"
   ]
  },
  {
   "cell_type": "code",
   "execution_count": null,
   "id": "b4853120",
   "metadata": {},
   "outputs": [],
   "source": [
    "gazornin = 'wow!'"
   ]
  },
  {
   "cell_type": "code",
   "execution_count": null,
   "id": "160cb4d8",
   "metadata": {},
   "outputs": [],
   "source": [
    "# string gazornin = 'wow!' # statically typed"
   ]
  },
  {
   "cell_type": "code",
   "execution_count": null,
   "id": "a12bb675",
   "metadata": {},
   "outputs": [],
   "source": [
    "Test = 1"
   ]
  },
  {
   "cell_type": "code",
   "execution_count": null,
   "id": "6d6a5ee5",
   "metadata": {},
   "outputs": [],
   "source": [
    "test"
   ]
  },
  {
   "cell_type": "code",
   "execution_count": null,
   "id": "3e28f56f",
   "metadata": {
    "tags": []
   },
   "outputs": [],
   "source": [
    "from keyword import kwlist\n",
    "kwlist"
   ]
  },
  {
   "cell_type": "code",
   "execution_count": null,
   "id": "71630251",
   "metadata": {},
   "outputs": [],
   "source": [
    "minutes = 321"
   ]
  },
  {
   "cell_type": "code",
   "execution_count": null,
   "id": "1682ab0c",
   "metadata": {},
   "outputs": [],
   "source": [
    "minutes / 60"
   ]
  },
  {
   "cell_type": "code",
   "execution_count": null,
   "id": "8d2ca009",
   "metadata": {},
   "outputs": [],
   "source": [
    "minutes // 60"
   ]
  },
  {
   "cell_type": "code",
   "execution_count": null,
   "id": "1157931d",
   "metadata": {},
   "outputs": [],
   "source": [
    "minutes % 60"
   ]
  },
  {
   "cell_type": "code",
   "execution_count": null,
   "id": "2ff36c45",
   "metadata": {},
   "outputs": [],
   "source": [
    "h, m = divmod(minutes, 60)"
   ]
  },
  {
   "cell_type": "code",
   "execution_count": null,
   "id": "7fb660ba",
   "metadata": {},
   "outputs": [],
   "source": [
    "h, m"
   ]
  },
  {
   "cell_type": "code",
   "execution_count": null,
   "id": "5548c3c4",
   "metadata": {},
   "outputs": [],
   "source": [
    "print(h, 'hours and', m, 'minutes')"
   ]
  },
  {
   "cell_type": "code",
   "execution_count": null,
   "id": "c426f54c",
   "metadata": {},
   "outputs": [],
   "source": [
    "print(h, ':', m)"
   ]
  },
  {
   "cell_type": "code",
   "execution_count": null,
   "id": "cbadff5c",
   "metadata": {},
   "outputs": [],
   "source": [
    "xyz = 101"
   ]
  },
  {
   "cell_type": "code",
   "execution_count": null,
   "id": "8f5709a7",
   "metadata": {},
   "outputs": [],
   "source": [
    "xyz > 100"
   ]
  },
  {
   "cell_type": "code",
   "execution_count": null,
   "id": "aa943c12",
   "metadata": {},
   "outputs": [],
   "source": [
    "company = 'ADI'"
   ]
  },
  {
   "cell_type": "code",
   "execution_count": null,
   "id": "eb858c00",
   "metadata": {},
   "outputs": [],
   "source": [
    "company == 'ADI'"
   ]
  },
  {
   "cell_type": "code",
   "execution_count": null,
   "id": "5ced1cd1",
   "metadata": {},
   "outputs": [],
   "source": [
    "x = 5\n",
    "y = 7"
   ]
  },
  {
   "cell_type": "code",
   "execution_count": null,
   "id": "ba9570ab",
   "metadata": {},
   "outputs": [],
   "source": [
    "x == 5 or y == 6"
   ]
  },
  {
   "cell_type": "code",
   "execution_count": null,
   "id": "9f7ab07b",
   "metadata": {},
   "outputs": [],
   "source": [
    "if (x == 5) ^ (y == 6):\n",
    "    print('either x is 5 or y is 6 but not both')"
   ]
  },
  {
   "cell_type": "code",
   "execution_count": null,
   "id": "bc737ff7",
   "metadata": {},
   "outputs": [],
   "source": [
    "string = 'something'"
   ]
  },
  {
   "cell_type": "code",
   "execution_count": null,
   "id": "19abd4c9",
   "metadata": {},
   "outputs": [],
   "source": [
    "print(string)"
   ]
  },
  {
   "cell_type": "code",
   "execution_count": null,
   "id": "df78cdcc",
   "metadata": {},
   "outputs": [],
   "source": [
    "1 == True"
   ]
  },
  {
   "cell_type": "code",
   "execution_count": null,
   "id": "cf993cea",
   "metadata": {},
   "outputs": [],
   "source": [
    "if 2: # because 2 is not 0 it is considered True\n",
    "    print('It is True')"
   ]
  },
  {
   "cell_type": "code",
   "execution_count": null,
   "id": "c14fbde5",
   "metadata": {},
   "outputs": [],
   "source": [
    "id(True)"
   ]
  },
  {
   "cell_type": "code",
   "execution_count": null,
   "id": "c7d6db47",
   "metadata": {},
   "outputs": [],
   "source": [
    "id(1)"
   ]
  },
  {
   "cell_type": "code",
   "execution_count": null,
   "id": "185af656",
   "metadata": {},
   "outputs": [],
   "source": [
    "0 == False"
   ]
  },
  {
   "cell_type": "code",
   "execution_count": null,
   "id": "b9db514e",
   "metadata": {},
   "outputs": [],
   "source": [
    "' ' == True"
   ]
  },
  {
   "cell_type": "code",
   "execution_count": null,
   "id": "dd72abd2",
   "metadata": {},
   "outputs": [],
   "source": [
    "' ' == 1"
   ]
  },
  {
   "cell_type": "code",
   "execution_count": null,
   "id": "27ad3f1a",
   "metadata": {},
   "outputs": [],
   "source": [
    "1 == True"
   ]
  },
  {
   "cell_type": "code",
   "execution_count": null,
   "id": "8476f096",
   "metadata": {},
   "outputs": [],
   "source": [
    "4 == True"
   ]
  },
  {
   "cell_type": "code",
   "execution_count": null,
   "id": "0c3fbaa1",
   "metadata": {},
   "outputs": [],
   "source": [
    "' ' == True"
   ]
  },
  {
   "cell_type": "code",
   "execution_count": null,
   "id": "0d3835ee",
   "metadata": {},
   "outputs": [],
   "source": [
    "if ' ':\n",
    "    print('something in that string')"
   ]
  },
  {
   "cell_type": "code",
   "execution_count": null,
   "id": "0a72e99f",
   "metadata": {},
   "outputs": [],
   "source": [
    "if ' ' == 'string':\n",
    "    print('equal')"
   ]
  },
  {
   "cell_type": "code",
   "execution_count": null,
   "id": "1d0fdd7d",
   "metadata": {},
   "outputs": [],
   "source": [
    "s = 'string'\n",
    "if s: # len(s) > 0\n",
    "    print('something in that string')"
   ]
  },
  {
   "cell_type": "code",
   "execution_count": null,
   "id": "32ff2619",
   "metadata": {},
   "outputs": [],
   "source": [
    "year = 2022\n",
    "xyz = 2\n",
    "year == 2022 and xyz < 10"
   ]
  },
  {
   "cell_type": "code",
   "execution_count": null,
   "id": "d487dc3b",
   "metadata": {},
   "outputs": [],
   "source": [
    "year = input('Enter a year: ')\n",
    "year = int(year)\n",
    "print(year, type(year))"
   ]
  },
  {
   "cell_type": "code",
   "execution_count": null,
   "id": "0820efa1",
   "metadata": {},
   "outputs": [],
   "source": [
    "year = int(input('Enter a year: ')) # nesting function calls\n",
    "print(year, type(year))"
   ]
  },
  {
   "cell_type": "code",
   "execution_count": null,
   "id": "602b51dd",
   "metadata": {},
   "outputs": [],
   "source": [
    "'Dave' * 4"
   ]
  },
  {
   "cell_type": "code",
   "execution_count": null,
   "id": "de216cbd",
   "metadata": {},
   "outputs": [],
   "source": [
    "'.' * 80"
   ]
  },
  {
   "cell_type": "code",
   "execution_count": null,
   "id": "6c346c9c",
   "metadata": {},
   "outputs": [],
   "source": [
    "'-' * 80"
   ]
  },
  {
   "cell_type": "code",
   "execution_count": null,
   "id": "9c279f4b",
   "metadata": {},
   "outputs": [],
   "source": [
    "first = input('Enter first name: ')\n",
    "last = input('Enter last name: ')"
   ]
  },
  {
   "cell_type": "code",
   "execution_count": null,
   "id": "13fc1607",
   "metadata": {},
   "outputs": [],
   "source": [
    "new_string = last + ', ' + first"
   ]
  },
  {
   "cell_type": "code",
   "execution_count": null,
   "id": "a2d251d7",
   "metadata": {},
   "outputs": [],
   "source": [
    "new_string"
   ]
  },
  {
   "cell_type": "code",
   "execution_count": null,
   "id": "7d6cdd1b",
   "metadata": {},
   "outputs": [],
   "source": [
    "s = input('Enter a string: ')\n",
    "index = int(input('Enter an index: '))\n",
    "print(s[index])"
   ]
  },
  {
   "cell_type": "code",
   "execution_count": null,
   "id": "87ce388c",
   "metadata": {},
   "outputs": [],
   "source": [
    "first"
   ]
  },
  {
   "cell_type": "code",
   "execution_count": null,
   "id": "15af8a94",
   "metadata": {},
   "outputs": [],
   "source": [
    "last"
   ]
  },
  {
   "cell_type": "code",
   "execution_count": null,
   "id": "09c882af",
   "metadata": {},
   "outputs": [],
   "source": [
    "first + ' ' + last"
   ]
  },
  {
   "cell_type": "code",
   "execution_count": null,
   "id": "71fecb29",
   "metadata": {},
   "outputs": [],
   "source": [
    "string"
   ]
  },
  {
   "cell_type": "code",
   "execution_count": null,
   "id": "a348b9a0",
   "metadata": {},
   "outputs": [],
   "source": [
    "s[0] = 'x'"
   ]
  },
  {
   "cell_type": "code",
   "execution_count": null,
   "id": "3d746ce4",
   "metadata": {},
   "outputs": [],
   "source": [
    "s"
   ]
  },
  {
   "cell_type": "code",
   "execution_count": null,
   "id": "7189ab0c",
   "metadata": {},
   "outputs": [],
   "source": [
    "s = 'Golang'"
   ]
  },
  {
   "cell_type": "code",
   "execution_count": null,
   "id": "f11951b5",
   "metadata": {},
   "outputs": [],
   "source": [
    "s"
   ]
  },
  {
   "cell_type": "code",
   "execution_count": null,
   "id": "8c90d640",
   "metadata": {},
   "outputs": [],
   "source": [
    "s[0] = 'g'"
   ]
  },
  {
   "cell_type": "code",
   "execution_count": null,
   "id": "04655d6f",
   "metadata": {},
   "outputs": [],
   "source": [
    "x = 1"
   ]
  },
  {
   "cell_type": "code",
   "execution_count": null,
   "id": "11494b5a",
   "metadata": {},
   "outputs": [],
   "source": [
    "x = 3"
   ]
  },
  {
   "cell_type": "code",
   "execution_count": null,
   "id": "61bd2161",
   "metadata": {},
   "outputs": [],
   "source": [
    "first.upper()"
   ]
  },
  {
   "cell_type": "code",
   "execution_count": null,
   "id": "9f25187a",
   "metadata": {},
   "outputs": [],
   "source": [
    "first"
   ]
  },
  {
   "cell_type": "code",
   "execution_count": null,
   "id": "2d67c492",
   "metadata": {},
   "outputs": [],
   "source": [
    "print(1, 2, 3)"
   ]
  },
  {
   "cell_type": "code",
   "execution_count": null,
   "id": "d90d22d3",
   "metadata": {},
   "outputs": [],
   "source": [
    "print(1, 2, 3, sep='...')"
   ]
  },
  {
   "cell_type": "code",
   "execution_count": null,
   "id": "d71c6165",
   "metadata": {},
   "outputs": [],
   "source": [
    "print(1, 2, 3, end='')\n",
    "print(4, 5)"
   ]
  },
  {
   "cell_type": "code",
   "execution_count": null,
   "id": "3ae3a9b3",
   "metadata": {},
   "outputs": [],
   "source": [
    "print(1, 2, 3, sep='\\n')"
   ]
  },
  {
   "cell_type": "code",
   "execution_count": null,
   "id": "339b774e",
   "metadata": {},
   "outputs": [],
   "source": [
    "string = 'thing'\n",
    "#...\n",
    "\n",
    "if string:\n",
    "    print('Yep, non-empty string')"
   ]
  },
  {
   "cell_type": "markdown",
   "id": "c812091d-fe1a-4e0d-9cd1-a900a1aa9965",
   "metadata": {
    "tags": []
   },
   "source": [
    "## Lab: Odd-Even Program (our first program that does something)\n",
    "1. prompt the user to enter a number\n",
    "2. read input from the user\n",
    "3. convert the input to an integer\n",
    "4. tell the user whether the number entered was odd or even"
   ]
  },
  {
   "cell_type": "code",
   "execution_count": null,
   "id": "e37de00c-5bae-47dd-b7bd-dfc7aede1131",
   "metadata": {},
   "outputs": [],
   "source": [
    "# steps 1-3\n",
    "number = int(input('Enter a number: '))\n",
    "\n",
    "if number % 2 == 0:\n",
    "    print(number, 'is even')\n",
    "else:\n",
    "    print(number, 'is odd')"
   ]
  },
  {
   "cell_type": "code",
   "execution_count": null,
   "id": "87626467-86e6-4a1c-9dea-f3daf6ba39ae",
   "metadata": {},
   "outputs": [],
   "source": [
    "# now let's see how some of us are solving this problem in our brains...\n",
    "number = input('Enter a number: ') # leave it as a string, because we just want to look at last digit\n",
    "# deliberately introducing some new features of Python which will look at later in more depth...\n",
    "# negative indexing allows us to come in from the end or right of the string, so -1 is the last character\n",
    "if number[-1] in '02468': # if the last digit is 0, 2, 4, 6, or 8\n",
    "    print(number, 'is even')\n",
    "elif number[-1] in '13579':\n",
    "    print(number, 'is odd')\n",
    "else:\n",
    "    print('not a number!')"
   ]
  },
  {
   "cell_type": "code",
   "execution_count": null,
   "id": "36f3d4ce-85e2-403c-a51f-0c219bbc2ce4",
   "metadata": {},
   "outputs": [],
   "source": [
    "is_working = False"
   ]
  },
  {
   "cell_type": "code",
   "execution_count": null,
   "id": "0a60c6ae-a2b1-4736-9ce8-d1a5b6fc2754",
   "metadata": {},
   "outputs": [],
   "source": [
    "if is_working:\n",
    "    print('hey, it seems to be working!')"
   ]
  },
  {
   "cell_type": "code",
   "execution_count": null,
   "id": "ca03971f-3a6d-420d-8f57-9704f8d7ecbe",
   "metadata": {},
   "outputs": [],
   "source": [
    "if not is_working:\n",
    "    print('uh oh, broken!')"
   ]
  },
  {
   "cell_type": "code",
   "execution_count": null,
   "id": "fe57bceb-5c3d-4f19-8595-d99ba07ce5ef",
   "metadata": {},
   "outputs": [],
   "source": [
    "0 == False"
   ]
  },
  {
   "cell_type": "code",
   "execution_count": null,
   "id": "cc77d2fe-7561-4374-9ee3-05f73da0e7dd",
   "metadata": {},
   "outputs": [],
   "source": [
    "'35263526236'[-1]"
   ]
  },
  {
   "cell_type": "code",
   "execution_count": null,
   "id": "73957598-b4e6-42a7-9d97-afeacb47a7e9",
   "metadata": {},
   "outputs": [],
   "source": [
    "'6' in '02468'"
   ]
  },
  {
   "cell_type": "code",
   "execution_count": null,
   "id": "84ea3005-0a0c-42b8-abf9-709c6a5e520c",
   "metadata": {},
   "outputs": [],
   "source": [
    "#01234567890\n",
    "#        321\n",
    "'35263526236'"
   ]
  },
  {
   "cell_type": "code",
   "execution_count": null,
   "id": "4fe0462b-32c2-4a9f-8b9e-b63608e915bc",
   "metadata": {},
   "outputs": [],
   "source": [
    "!cal 9 1752"
   ]
  },
  {
   "cell_type": "markdown",
   "id": "57f8018b-bb51-4e03-a128-65077841dc5b",
   "metadata": {},
   "source": [
    "## Lab: Leap Year Program\n",
    "1. prompt the user to enter a year\n",
    "2. read input from the user\n",
    "3. convert the input to an integer\n",
    "4. tell the user whether the year entered is a leap year or not\n",
    "  * a year is a leap year if\n",
    "  1. it's divisible by 4 AND\n",
    "  2. it's not divisible by 100 (i.e., 1900 was not a leap year) UNLESS\n",
    "  3. it's also divisible by 400 (i.e., 2000 was a leap year)"
   ]
  },
  {
   "cell_type": "code",
   "execution_count": null,
   "id": "fc1ba070-a229-4226-af87-a0fc310a7eca",
   "metadata": {},
   "outputs": [],
   "source": [
    "# the LONG way, explaining what we know at each step\n",
    "year = int(input('Enter a year: '))\n",
    "print(year, 'is a', end=' ') # prevent print() from \"going to the next line\"\n",
    "\n",
    "if year % 4 == 0:\n",
    "    # at this point we know it's divisible by 4\n",
    "    if year % 100 == 0:\n",
    "        # at this point we know it's divisible by 4 AND divisible by 100\n",
    "        if year % 400 == 0:\n",
    "            print('leap year')\n",
    "        else:\n",
    "            # ...and not divisible by 400\n",
    "            print('NOT a leap year because divisible by 100 but not 400')\n",
    "    else:\n",
    "        # at this point we know it's divisible by 4 and NOT divisible by 100:\n",
    "        print('leap year')\n",
    "else:\n",
    "    # not divisible by 4...\n",
    "    print('NOT a leap year because not divisible by 4')"
   ]
  },
  {
   "cell_type": "code",
   "execution_count": null,
   "id": "7e9705d1-6f16-4477-b267-29dc27948392",
   "metadata": {},
   "outputs": [],
   "source": [
    "# now let's write it as one Boolean expression\n",
    "year = int(input('Enter a year: '))\n",
    "if (year % 4 == 0) and ((year % 100 != 0) or (year % 400 == 0)):\n",
    "    print(year, 'is a leap year')\n",
    "else:\n",
    "    print(year, 'is NOT a leap year')"
   ]
  },
  {
   "cell_type": "code",
   "execution_count": null,
   "id": "8ae60f41-8ff1-46cd-a528-7da234363cc7",
   "metadata": {},
   "outputs": [],
   "source": [
    "# now let's write it as one Boolean expression\n",
    "# using De Morgan's Theorem to \"invert\" the sense of the expression\n",
    "year = int(input('Enter a year: '))\n",
    "if (year % 4 != 0) or ((year % 100 == 0) and (year % 400 != 0)):\n",
    "    print(year, 'is NOT a leap year')\n",
    "else:\n",
    "    print(year, 'is a leap year')"
   ]
  },
  {
   "cell_type": "code",
   "execution_count": null,
   "id": "e45e2c0c-d542-46f8-bcb3-f99ed5b9de84",
   "metadata": {},
   "outputs": [],
   "source": [
    "1 * 364/365 * 363/365 * 362/365 # ... "
   ]
  },
  {
   "cell_type": "code",
   "execution_count": null,
   "id": "bd899707-3eb7-452a-9841-f740e5690f32",
   "metadata": {},
   "outputs": [],
   "source": [
    "num_people = int(input('Enter number of people in the room: '))\n",
    "numerator = 365\n",
    "denominator = 365"
   ]
  },
  {
   "cell_type": "code",
   "execution_count": null,
   "id": "94697e4b-895c-427b-88d2-6c63e0504ea0",
   "metadata": {},
   "outputs": [],
   "source": [
    "for num in range(5):\n",
    "    print(numerator, '/', denominator, sep='', end=' * ')\n",
    "    numerator = numerator - 1 # numerator -= 1"
   ]
  },
  {
   "cell_type": "code",
   "execution_count": null,
   "id": "12b40fe6-176c-4e16-8dfb-3fdfc28ec62f",
   "metadata": {},
   "outputs": [],
   "source": [
    "num_people = int(input('Enter number of people in the room: '))\n",
    "numerator = 365\n",
    "denominator = 365\n",
    "\n",
    "probability = 1.0 # pre-load or \"prime the pump\"\n",
    "\n",
    "# forward reference - for loops\n",
    "for num in range(num_people): # \"do this num_people number of times\n",
    "    probability = probability * numerator / denominator\n",
    "    numerator = numerator - 1\n",
    "    \n",
    "probability = (1.0 - probability) * 100.0 # turn it into a percent\n",
    "print(\"%.2f%%\" % probability) # print out probability with 2 decimal places, using a Python 2-style formatted print"
   ]
  },
  {
   "cell_type": "markdown",
   "id": "b3f28d01-96ca-44e1-8a5f-764e4531a874",
   "metadata": {},
   "source": [
    "## Lab: for loops\n",
    "* write a Python program which asks the user for a string and then outputs the same string with each character duplicated\n",
    "  * e.g., if the user enters __Tesla__, your program will output __TTeessllaa__\n",
    "* write a Python program to compute __`n! (= n * n - 1 * n - 2 ... * 1)`__\n",
    "  * so if the user enters a 5, your program should compute __`5 * 4 * 3 * 2 * 1 (120)`__"
   ]
  },
  {
   "cell_type": "code",
   "execution_count": null,
   "id": "c2d32d70-d36c-470a-a74e-355abe4738c2",
   "metadata": {},
   "outputs": [],
   "source": [
    "# steps...\n",
    "# 1. get a string\n",
    "# 2. for each letter in the string\n",
    "#.   3. print it out twice with no carriage return\n",
    "\n",
    "string = input('Enter a string: ') # step 1\n",
    "for letter in string: # step 2\n",
    "    print(letter * 2, end='') # step 3\n",
    "print()"
   ]
  },
  {
   "cell_type": "code",
   "execution_count": null,
   "id": "9d1ffd0e-0c72-4cdd-910a-436db2e8596a",
   "metadata": {},
   "outputs": [],
   "source": [
    "# or...\n",
    "for letter in string:\n",
    "    print(letter + letter, end='')"
   ]
  },
  {
   "cell_type": "code",
   "execution_count": null,
   "id": "87904ac4-7344-470f-8441-aaa976bec83f",
   "metadata": {},
   "outputs": [],
   "source": [
    "# or...\n",
    "for letter in string:\n",
    "    print(letter, letter, sep='', end='')"
   ]
  },
  {
   "cell_type": "code",
   "execution_count": null,
   "id": "bf8b9af2-f1a7-4ba3-8e3c-aa3a5e72063a",
   "metadata": {},
   "outputs": [],
   "source": [
    "for letter in string:\n",
    "    for times in range(2): # Swaraj's solution, i.e., nested loop\n",
    "        print(letter, end='')"
   ]
  },
  {
   "cell_type": "code",
   "execution_count": null,
   "id": "362d233f-8311-4f42-95ac-721f35af4303",
   "metadata": {},
   "outputs": [],
   "source": [
    "output = ''\n",
    "for letter in string:\n",
    "    output = output + 2 * letter\n",
    "\n",
    "print(output)"
   ]
  },
  {
   "cell_type": "code",
   "execution_count": null,
   "id": "4aaf3cb5-a483-45b4-b89d-994387562e7f",
   "metadata": {},
   "outputs": [],
   "source": [
    "# steps\n",
    "# 1. get user input\n",
    "# 2. convert it to int\n",
    "# 2a. start with 1 (or the number) as a running product\n",
    "# 3. for each number from 1 up to user's number (or from user's number down to 1)\n",
    "# 4.     multiply product by the number\n",
    "\n",
    "number = int(input('Enter a number: ')) # steps 1 and 2\n",
    "factorial = number # step 2a\n",
    "\n",
    "for num in range(number - 1, 1, -1): # count down to 2 (we don't need 1)\n",
    "    factorial = factorial * num # factorial *= num\n",
    "\n",
    "print(number, '! = ', factorial, sep='')"
   ]
  },
  {
   "cell_type": "code",
   "execution_count": null,
   "id": "0c28f0ba-86c8-4334-906e-cf8f8ea237e5",
   "metadata": {},
   "outputs": [],
   "source": [
    "# start with 1 but count down as above\n",
    "factorial = 1 # step 2a\n",
    "\n",
    "for num in range(number, 1, -1): # count down to 2 (we don't need 1)\n",
    "    factorial = factorial * num # factorial *= num\n",
    "\n",
    "print(number, '! = ', factorial, sep='')"
   ]
  },
  {
   "cell_type": "code",
   "execution_count": null,
   "id": "b5aabf5f-bba2-4dd7-baa6-25364a56a5bc",
   "metadata": {},
   "outputs": [],
   "source": [
    "3 + 4"
   ]
  },
  {
   "cell_type": "code",
   "execution_count": null,
   "id": "de3c6c34-89a8-4f01-bb4d-d62511b1a35b",
   "metadata": {},
   "outputs": [],
   "source": [
    "2 + 2"
   ]
  },
  {
   "cell_type": "markdown",
   "id": "b492a487-52b2-40bc-9ce3-ef5d59975608",
   "metadata": {},
   "source": [
    "## Lab: while loops\n",
    "1. write Python code which prompts the user to enter a 5-letter string\n",
    "  * it then reads input from the user and stops if the user did in fact enter a 5-letter string\n",
    "  * otherwise, it prints an error message, and once again asks the user to enter a 5-letter string\n",
    "2. write a Python program which picks a random number between 1 and 100 and asks the user to guess it\n",
    "  * if the user's guess is too high, say it's too high\n",
    "  * if the user's guess is too low, say it's too low\n",
    "  * if the user's guess is correct, say it's correct and stop looping\n",
    "  * you can use the code below to get a random number\n",
    "  \n",
    "  <pre><b>\n",
    "  import random\n",
    "  number = random.randint(1, 100)\n",
    "  </b></pre>"
   ]
  },
  {
   "cell_type": "code",
   "execution_count": null,
   "id": "391de0fd-fc8f-459d-bbea-29c97d80ce0f",
   "metadata": {},
   "outputs": [],
   "source": [
    "string = ''\n",
    "while len(string) != 5:\n",
    "    string = input('Enter a 5-character string: ')"
   ]
  },
  {
   "cell_type": "code",
   "execution_count": null,
   "id": "0b323ef9-3165-452c-8f62-d03c74705083",
   "metadata": {},
   "outputs": [],
   "source": [
    "# step 1: \"pull in\" random module\n",
    "# 2. generate a random int between 1 to 100\n",
    "# 2a. \"prime the pump\" by setting user's guess to 0 (outside range of 1..100 inclusive)\n",
    "# 3. while user's guess != number:\n",
    "#       4. get a guess from the user and int-ify\n",
    "#.      5. if guess > number print('too big')\n",
    "#.      6. else if guess < number print('too small')\n",
    "#.      7. else print('yay!')\n",
    "\n",
    "import random # step 1\n",
    "number = random.randint(1, 100) # step 2\n",
    "guess = 0 # step 2a\n",
    "\n",
    "while guess != number: # step 3\n",
    "    guess = int(input('Enter your guess: ')) # step 4\n",
    "    difference = abs(guess - number)\n",
    "   \n",
    "    close = ''\n",
    "    if 5 <= difference <= 10:\n",
    "        close = '...but you are close!'\n",
    "    elif 1 <= difference <= 4:\n",
    "        close = '...but you are REALLY close!'\n",
    "        \n",
    "    if guess > number: # 5 \n",
    "        print('Too high!' + close)\n",
    "    elif guess < number: # 6 \n",
    "        print('Too low!' + close)\n",
    "    else:\n",
    "        print('You got it!')"
   ]
  },
  {
   "cell_type": "code",
   "execution_count": null,
   "id": "fa6f0780-2143-4fba-afa7-c1149a422328",
   "metadata": {},
   "outputs": [],
   "source": [
    "thing = 'thang'"
   ]
  },
  {
   "cell_type": "code",
   "execution_count": null,
   "id": "5852583a-e6d7-467e-8bdb-bfaea62f5be3",
   "metadata": {},
   "outputs": [],
   "source": [
    "id(thing)"
   ]
  },
  {
   "cell_type": "code",
   "execution_count": null,
   "id": "b86f57e6-13ce-4545-8d8c-c2abac0b3258",
   "metadata": {},
   "outputs": [],
   "source": [
    "import random"
   ]
  },
  {
   "cell_type": "code",
   "execution_count": null,
   "id": "be254d41-48dc-4b14-be53-df561b8a0755",
   "metadata": {},
   "outputs": [],
   "source": [
    "id(random)"
   ]
  },
  {
   "cell_type": "code",
   "execution_count": null,
   "id": "8c1f3b20-06ce-4667-8d59-c363cb9685aa",
   "metadata": {},
   "outputs": [],
   "source": [
    "dir(random)"
   ]
  },
  {
   "cell_type": "code",
   "execution_count": null,
   "id": "dc8d5376-4124-4c53-b2ad-215adc18080e",
   "metadata": {},
   "outputs": [],
   "source": [
    "help(random.randint)"
   ]
  },
  {
   "cell_type": "code",
   "execution_count": null,
   "id": "30b2cf8b-660f-475c-9feb-09af4138414e",
   "metadata": {},
   "outputs": [],
   "source": [
    "help(random.randrange)"
   ]
  },
  {
   "cell_type": "code",
   "execution_count": null,
   "id": "05ab45c6-1fbd-443e-bb00-788933691864",
   "metadata": {},
   "outputs": [],
   "source": [
    "random.randrange(100, 201, 2)"
   ]
  },
  {
   "cell_type": "code",
   "execution_count": null,
   "id": "075dbee7-8b81-4723-a9b5-20eebf18b1d5",
   "metadata": {},
   "outputs": [],
   "source": [
    "# Give the user up to 5 tries to comply\n",
    "\n",
    "for num_tries in range(5): # \"do this 5 times\" or \"we are counting from 0..4\"\n",
    "    string = input('Enter a 5-character string: ')\n",
    "    if len(string) == 5: # if they complied, we are done\n",
    "        break\n",
    "    print('Pay attention, you need to enter a 5-character string!')\n",
    "    \n",
    "if len(string) != 5:\n",
    "    print('you blew it')"
   ]
  },
  {
   "cell_type": "markdown",
   "id": "544f9d69-096c-46ed-8429-0635f9cbdacf",
   "metadata": {},
   "source": [
    "## Lab: break/continue/else\n",
    "* modify your guessing game to add the option for the user to give up by typing a 0 as his or her guess:\n",
    "    * if the user enters a 0, exit the loop\n",
    "    * after the loop, we need to determine   \n",
    "    whether the user gave up or guessed the   \n",
    "    number correctly\n",
    "    * if gave up, print 'sorry you\n",
    "     gave up'\n",
    "    * if correct, print 'got it!'\n",
    "</pre>\n"
   ]
  },
  {
   "cell_type": "code",
   "execution_count": null,
   "id": "c115d6e1-b9ef-48eb-96e2-54c2a810437e",
   "metadata": {},
   "outputs": [],
   "source": [
    "# step 1: \"pull in\" random module\n",
    "# 2. generate a random int between 1 to 100\n",
    "# 2a. \"prime the pump\" by setting user's guess to 0 (outside range of 1..100 inclusive)\n",
    "# 3. while user's guess != number:\n",
    "#       4. get a guess from the user and int-ify\n",
    "#.      4a. if guess is 0, then print message + break\n",
    "#.      5. if guess > number print('too big')\n",
    "#.      6. else if guess < number print('too small')\n",
    "#.      7. else print('yay!')\n",
    "\n",
    "import random # step 1\n",
    "number = random.randint(1, 100) # step 2\n",
    "guess = 0 # step 2a\n",
    "\n",
    "while guess != number: # step 3\n",
    "    guess = int(input('Enter your guess (0 to quit): ')) # step 4\n",
    "    \n",
    "    if guess == 0: # step 4a\n",
    "        print('Sorry you are not so good at this game!')\n",
    "        break # leave immediately\n",
    "        \n",
    "    difference = abs(guess - number)\n",
    "   \n",
    "    close = ''\n",
    "    if 5 <= difference <= 10:\n",
    "        close = '...but you are close!'\n",
    "    elif 1 <= difference <= 4:\n",
    "        close = '...but you are REALLY close!'\n",
    "        \n",
    "    if guess > number: # 5 \n",
    "        print('Too high!' + close)\n",
    "    elif guess < number: # 6 \n",
    "        print('Too low!' + close)\n",
    "else:\n",
    "    print('You got it!')"
   ]
  },
  {
   "cell_type": "code",
   "execution_count": null,
   "id": "c927adab-361d-4953-9dbb-b1f30f3a04dc",
   "metadata": {},
   "outputs": [],
   "source": [
    "message = \"You're not finished.\""
   ]
  },
  {
   "cell_type": "code",
   "execution_count": null,
   "id": "3cefaf76-c082-4f61-ab37-e1751af6668c",
   "metadata": {},
   "outputs": [],
   "source": [
    "message"
   ]
  },
  {
   "cell_type": "code",
   "execution_count": null,
   "id": "ea474a79-c077-49f4-9a82-2623773df0e7",
   "metadata": {},
   "outputs": [],
   "source": [
    "message = 'He said \"Nope!\"'"
   ]
  },
  {
   "cell_type": "code",
   "execution_count": null,
   "id": "08011809-f006-48d2-b2fd-5b10c8692001",
   "metadata": {},
   "outputs": [],
   "source": [
    "message"
   ]
  },
  {
   "cell_type": "code",
   "execution_count": null,
   "id": "7fb48c44-1761-4570-ab16-51d49d74983b",
   "metadata": {},
   "outputs": [],
   "source": [
    "while True:\n",
    "    number = int(input('Enter a number: '))\n",
    "    if number == 0:\n",
    "        break\n",
    "    # do something else"
   ]
  },
  {
   "cell_type": "code",
   "execution_count": null,
   "id": "0c43e21c-43f6-4204-a657-50d105567997",
   "metadata": {},
   "outputs": [],
   "source": [
    "while (number := int(input('Enter a number: '))) != 0:\n",
    "    print(number)"
   ]
  },
  {
   "cell_type": "code",
   "execution_count": null,
   "id": "91455176-ebb9-4dca-8a55-a99305bdb7f8",
   "metadata": {},
   "outputs": [],
   "source": [
    "x := 4"
   ]
  },
  {
   "cell_type": "code",
   "execution_count": null,
   "id": "25901b08-8d67-4600-aca1-03a3d5383092",
   "metadata": {},
   "outputs": [],
   "source": [
    "import sys\n",
    "sys.version"
   ]
  },
  {
   "cell_type": "code",
   "execution_count": null,
   "id": "89c77de4-996b-4eba-8e3a-02e188a29764",
   "metadata": {},
   "outputs": [],
   "source": [
    "# step 1: \"pull in\" random module\n",
    "# 2. generate a random int between 1 to 100\n",
    "# 3. while user's guess != number:\n",
    "#       4. get a guess from the user and int-ify\n",
    "#.      4a. if guess is 0, then print message + break\n",
    "#.      5. if guess > number print('too big')\n",
    "#.      6. else if guess < number print('too small')\n",
    "#.      7. else print('yay!')\n",
    "\n",
    "import random # step 1\n",
    "number = random.randint(1, 100) # step 2\n",
    "\n",
    "while (guess := int(input('Enter your guess (0 to quit): '))) != 0: # step 3      \n",
    "    difference = abs(guess - number)\n",
    "   \n",
    "    close = ''\n",
    "    if 5 <= difference <= 10:\n",
    "        close = '...but you are close!'\n",
    "    elif 1 <= difference <= 4:\n",
    "        close = '...but you are REALLY close!'\n",
    "        \n",
    "    if guess > number: # 5 \n",
    "        print('Too high!' + close)\n",
    "    elif guess < number: # 6 \n",
    "        print('Too low!' + close)      \n",
    "    else:\n",
    "        print('You got it!')\n",
    "        break # leave immediately\n",
    "else:\n",
    "    print('Sorry you are quitting...')"
   ]
  },
  {
   "cell_type": "code",
   "execution_count": null,
   "id": "08b3c931-91c3-40cc-9516-b0d9775d7526",
   "metadata": {},
   "outputs": [],
   "source": [
    "# Python 3.6+ f-string\n",
    "x = 5\n",
    "y = -4\n",
    "print(f'The product of {x} and {y} is {x * y}')"
   ]
  },
  {
   "cell_type": "code",
   "execution_count": null,
   "id": "c06efaf1-cf63-445d-832a-6f0e5b21af53",
   "metadata": {},
   "outputs": [],
   "source": [
    "print('%i' % x)"
   ]
  },
  {
   "cell_type": "code",
   "execution_count": null,
   "id": "3076d654-3ef1-4e5a-93df-8e3d11a1c911",
   "metadata": {},
   "outputs": [],
   "source": [
    "import math\n",
    "n = 52\n",
    "print(f'{n}! = {math.factorial(n)}')"
   ]
  },
  {
   "cell_type": "markdown",
   "id": "75c554a2-748a-4729-abd0-1889eaf4bc7c",
   "metadata": {},
   "source": [
    "# Lab: Finding Prime Numbers\n",
    "* write a program to print out the prime numbers between 10 and 30\n",
    "* a number is prime if it's only divisible by 1 and itself\n",
    "* algorithm\n",
    "  * for each number 10 to 30\n",
    "    * try to divide in all of the numbers up to (but not including) the current number\n",
    "    * if any lower number divides in evenly, the number is not prime\n",
    "    * if NONE of the lower numbers divide in evenly, the number IS prime\n",
    "* later, if there's time, we'll look at another way to find prime numbers that was discovered by Eratosthenes"
   ]
  },
  {
   "cell_type": "code",
   "execution_count": null,
   "id": "bbaa05ef-4937-4ba8-afc4-82abf7de2318",
   "metadata": {},
   "outputs": [],
   "source": [
    "# 1: for each number from 10 to 30\n",
    "#     2: for each possible divisor from 2 up to number - 1\n",
    "#           3: if divisor divides into number evenly, then:\n",
    "#                4. print NOT PRIME\n",
    "#                   5. stop checking\n",
    "#.      end of inner loop\n",
    "#.      print PRIME"
   ]
  },
  {
   "cell_type": "code",
   "execution_count": null,
   "id": "7021d47a-7227-4137-9565-46aed4628bc4",
   "metadata": {},
   "outputs": [],
   "source": [
    "# could we test our logic by printing out what we are going to test/check\n",
    "for number in range(2, 31): # 10..30\n",
    "    print(number, end=': ')\n",
    "    for possible in range(2, number): # 2..number-1\n",
    "        print(possible, end=' ')\n",
    "    print()"
   ]
  },
  {
   "cell_type": "code",
   "execution_count": null,
   "id": "d1959924-1259-44bc-ae74-ce1dbadde437",
   "metadata": {},
   "outputs": [],
   "source": [
    "# 1: for each number from 10 to 30\n",
    "#     2: for each possible divisor from 2 up to number - 1\n",
    "#           3: if divisor divides into number evenly, then:\n",
    "#                4. print NOT PRIME\n",
    "#                   5. stop checking\n",
    "#.      end of inner loop\n",
    "#.      print PRIME\n",
    "\n",
    "for number in range(2, 30): # step 1\n",
    "    for possible in range(2, number): # step 2\n",
    "        if number % possible == 0: # step 3\n",
    "            print(number, 'is composite') # step 4\n",
    "            break # step 5\n",
    "    else: # Ah, Guido, we love your else clause we just hate the name!\n",
    "        print(number, 'is PRIME')"
   ]
  },
  {
   "cell_type": "code",
   "execution_count": null,
   "id": "1a78c89e-9704-4695-aa96-c56972ce8251",
   "metadata": {},
   "outputs": [],
   "source": [
    "import math\n",
    "math.sqrt(2999)"
   ]
  },
  {
   "cell_type": "code",
   "execution_count": null,
   "id": "3993bc51-17fc-48ad-81f3-ceb6fdab075c",
   "metadata": {},
   "outputs": [],
   "source": [
    "num = 2999\n",
    "int(math.sqrt(num) + 1)"
   ]
  },
  {
   "cell_type": "code",
   "execution_count": null,
   "id": "0d5d4204-588f-46c2-b289-41de8b5948da",
   "metadata": {},
   "outputs": [],
   "source": [
    "!dir # does this go out to Windows command prompt and run the 'dir' command ... YES"
   ]
  },
  {
   "cell_type": "code",
   "execution_count": null,
   "id": "ed3456f1-4cc6-4262-b885-eef548c138b0",
   "metadata": {},
   "outputs": [],
   "source": [
    "!date # will not work for Windows users"
   ]
  },
  {
   "cell_type": "code",
   "execution_count": null,
   "id": "182451cb-160e-474c-8d39-2390eee48027",
   "metadata": {},
   "outputs": [],
   "source": [
    "num = 2999\n",
    "for divisor in range(2, int(math.sqrt(num) + 1)):\n",
    "    print(divisor, end=' ')"
   ]
  },
  {
   "cell_type": "markdown",
   "id": "a21e3928-e7fb-4ba2-87e5-f4793666aa09",
   "metadata": {},
   "source": [
    "## Lab: Lists\n",
    "* create two lists which are different\n",
    "* compare them for equality\n",
    "* create a third list which has the same elements as one of the other lists\n",
    "* verify that Python says they are the same"
   ]
  },
  {
   "cell_type": "code",
   "execution_count": null,
   "id": "8acec311-5142-4b28-ae4b-eee94680f4f2",
   "metadata": {},
   "outputs": [],
   "source": [
    "list_one = [1, 2, 3]\n",
    "list_two = [4, 5, 6]\n",
    "list_three = [1, 2, 3]"
   ]
  },
  {
   "cell_type": "code",
   "execution_count": null,
   "id": "f6d773bd-73c4-4adb-abfd-ef9ccbad7b1c",
   "metadata": {},
   "outputs": [],
   "source": [
    "list_one == list_two"
   ]
  },
  {
   "cell_type": "code",
   "execution_count": null,
   "id": "b587d499-7fe7-40cd-ad10-71d755adea61",
   "metadata": {},
   "outputs": [],
   "source": [
    "list_one == list_three"
   ]
  },
  {
   "cell_type": "code",
   "execution_count": null,
   "id": "ea1d4ce2-d48a-45c5-99da-48ed417a8f7b",
   "metadata": {
    "tags": []
   },
   "outputs": [],
   "source": [
    "# what about this?\n",
    "list_one == [3, 2, 1]"
   ]
  },
  {
   "cell_type": "code",
   "execution_count": null,
   "id": "d6649867-c8d8-433c-8126-db031336b893",
   "metadata": {},
   "outputs": [],
   "source": [
    "[1, 2, 3] == [1.0, 2.0, 3.0]"
   ]
  },
  {
   "cell_type": "code",
   "execution_count": null,
   "id": "e7db6005-d98a-4b0f-83e3-932908991faa",
   "metadata": {},
   "outputs": [],
   "source": [
    "1 == 1.0"
   ]
  },
  {
   "cell_type": "code",
   "execution_count": null,
   "id": "88784012-0afd-4830-91cc-2a8334916f49",
   "metadata": {},
   "outputs": [],
   "source": [
    "[False, False, False] == [0, 0, 0]"
   ]
  },
  {
   "cell_type": "code",
   "execution_count": null,
   "id": "6b1989d3-7792-4986-9a71-72381cfd1bfa",
   "metadata": {},
   "outputs": [],
   "source": [
    "'Python'[1:4]"
   ]
  },
  {
   "cell_type": "code",
   "execution_count": null,
   "id": "c2db92b0-e6c2-4948-823a-4a0617856316",
   "metadata": {},
   "outputs": [],
   "source": [
    "something = 'blahblahblah'"
   ]
  },
  {
   "cell_type": "code",
   "execution_count": null,
   "id": "16d2e407-fa5b-42f2-bb6a-8dbedd260da9",
   "metadata": {},
   "outputs": [],
   "source": [
    "something[4:]"
   ]
  },
  {
   "cell_type": "code",
   "execution_count": null,
   "id": "923ee266-eaef-4685-b426-1ea1217d1ce3",
   "metadata": {},
   "outputs": [],
   "source": [
    "something[:]"
   ]
  },
  {
   "cell_type": "code",
   "execution_count": null,
   "id": "c4b1f1b4-5320-4e6c-b241-c71a82c38d89",
   "metadata": {},
   "outputs": [],
   "source": [
    "something[6:32]"
   ]
  },
  {
   "cell_type": "code",
   "execution_count": null,
   "id": "72c07a07-4f97-44d7-90b3-94ed5852b128",
   "metadata": {},
   "outputs": [],
   "source": [
    "something[32:35]"
   ]
  },
  {
   "cell_type": "code",
   "execution_count": null,
   "id": "f7a5088e-18a0-4a05-b92f-988c7b75544a",
   "metadata": {},
   "outputs": [],
   "source": [
    "something[32]"
   ]
  },
  {
   "cell_type": "code",
   "execution_count": null,
   "id": "7791739b-7593-4786-ba9c-d984ccbd6ea1",
   "metadata": {},
   "outputs": [],
   "source": [
    "something[32:33]"
   ]
  },
  {
   "cell_type": "code",
   "execution_count": null,
   "id": "b091189a-f66a-44ce-87ca-5bfb2b2dfe59",
   "metadata": {},
   "outputs": [],
   "source": [
    "list1 = ['Janice', 'Carlos', 'Wayne']\n",
    "list2 = ['Matt', 'Gloria']"
   ]
  },
  {
   "cell_type": "code",
   "execution_count": null,
   "id": "da671e1a-ad38-4cae-9591-5c19e71080b0",
   "metadata": {},
   "outputs": [],
   "source": [
    "list3 = list2 + list1[:2]"
   ]
  },
  {
   "cell_type": "code",
   "execution_count": null,
   "id": "6589eb4e-0385-4184-95eb-e69cf7cfa020",
   "metadata": {},
   "outputs": [],
   "source": [
    "list3"
   ]
  },
  {
   "cell_type": "code",
   "execution_count": null,
   "id": "77489521-0aca-4de5-a52b-a504bf7b1aec",
   "metadata": {},
   "outputs": [],
   "source": [
    "cars = ['Lordstown', 'Canoo', 'Nio']"
   ]
  },
  {
   "cell_type": "code",
   "execution_count": null,
   "id": "d84e99c3-3752-4cef-9588-0f5c800301f5",
   "metadata": {},
   "outputs": [],
   "source": [
    "stuff = input('Input from somebody: ')"
   ]
  },
  {
   "cell_type": "code",
   "execution_count": null,
   "id": "951a5ba8-9dd6-4fb4-978b-89ab04a3c40e",
   "metadata": {},
   "outputs": [],
   "source": [
    "stuff"
   ]
  },
  {
   "cell_type": "code",
   "execution_count": null,
   "id": "7782979d-8ea3-46a8-a652-cfbee2989e41",
   "metadata": {},
   "outputs": [],
   "source": [
    "cars + stuff.split()"
   ]
  },
  {
   "cell_type": "code",
   "execution_count": null,
   "id": "7e78782e-5cda-4b20-97aa-1d3891c4df9a",
   "metadata": {},
   "outputs": [],
   "source": [
    "'The string we were playing with before'[6:-6]"
   ]
  },
  {
   "cell_type": "code",
   "execution_count": null,
   "id": "3cf777ba-5384-407b-9e69-1973d26683bd",
   "metadata": {},
   "outputs": [],
   "source": [
    "list1 = ['Janice', 'Carlos', 'Wayne']\n",
    "list2 = ['Matt', 'Gloria']"
   ]
  },
  {
   "cell_type": "code",
   "execution_count": null,
   "id": "bab4cdd7-4ad9-430b-b8b5-cd819cb5a325",
   "metadata": {},
   "outputs": [],
   "source": [
    "list1 += list2\n",
    "list1"
   ]
  },
  {
   "cell_type": "code",
   "execution_count": null,
   "id": "51564d6f-5454-487f-ba20-3074e9a84f59",
   "metadata": {},
   "outputs": [],
   "source": [
    "'string'[3]"
   ]
  },
  {
   "cell_type": "code",
   "execution_count": null,
   "id": "3bf69df9-8420-4c84-8429-64cc4de66490",
   "metadata": {},
   "outputs": [],
   "source": [
    "list1[-1][-1]"
   ]
  },
  {
   "cell_type": "code",
   "execution_count": null,
   "id": "90d09c05-bbfa-4852-9cd7-695004ebb814",
   "metadata": {},
   "outputs": [],
   "source": [
    "len('hello')"
   ]
  },
  {
   "cell_type": "code",
   "execution_count": null,
   "id": "05f912c7-7998-453f-9526-b43fcb1bc715",
   "metadata": {},
   "outputs": [],
   "source": [
    "len(list1)"
   ]
  },
  {
   "cell_type": "code",
   "execution_count": null,
   "id": "ba1d42ef-4ef7-4d3e-8597-47b7232f01f6",
   "metadata": {},
   "outputs": [],
   "source": [
    "list1"
   ]
  },
  {
   "cell_type": "code",
   "execution_count": null,
   "id": "1e21a514-61b3-4827-a620-83a6df09349d",
   "metadata": {},
   "outputs": [],
   "source": [
    "list1.append('Dave')"
   ]
  },
  {
   "cell_type": "code",
   "execution_count": null,
   "id": "8bcb9fa0-06d3-4b88-8988-ba6e75ad2c90",
   "metadata": {},
   "outputs": [],
   "source": [
    "list1"
   ]
  },
  {
   "cell_type": "code",
   "execution_count": null,
   "id": "d48ee644-f74f-42c6-8b84-abb6c73c0555",
   "metadata": {},
   "outputs": [],
   "source": [
    "append(list1, 'Dave') # will not work"
   ]
  },
  {
   "cell_type": "code",
   "execution_count": null,
   "id": "8c49a5c4-42f0-4c62-8348-a237bb8e9fdb",
   "metadata": {},
   "outputs": [],
   "source": [
    "len('string')"
   ]
  },
  {
   "cell_type": "code",
   "execution_count": null,
   "id": "18048f44-1d06-4ffe-bff4-70e8edb083ac",
   "metadata": {},
   "outputs": [],
   "source": [
    "len(list1)"
   ]
  },
  {
   "cell_type": "code",
   "execution_count": null,
   "id": "4d49fc34-a5b5-411c-b438-6746188d2b45",
   "metadata": {},
   "outputs": [],
   "source": [
    "len(4)"
   ]
  },
  {
   "cell_type": "code",
   "execution_count": null,
   "id": "19a9005f-954e-4459-b6de-d79a72e92df2",
   "metadata": {},
   "outputs": [],
   "source": [
    "# methods are datatype-specific functions\n",
    "# so, .append() is a list function (or a method)"
   ]
  },
  {
   "cell_type": "code",
   "execution_count": null,
   "id": "621f308e-ac5c-4aa1-b810-a26f92e01b42",
   "metadata": {},
   "outputs": [],
   "source": [
    "'strings are immutable'[4:12]"
   ]
  },
  {
   "cell_type": "code",
   "execution_count": null,
   "id": "b2791ba4-93dc-4c34-bc07-a27992e367b9",
   "metadata": {},
   "outputs": [],
   "source": [
    "list1 = [1, 2, 3]"
   ]
  },
  {
   "cell_type": "code",
   "execution_count": null,
   "id": "af73ab34-1a83-460e-a591-75b00745649c",
   "metadata": {},
   "outputs": [],
   "source": [
    "list2 = [4, 5]"
   ]
  },
  {
   "cell_type": "code",
   "execution_count": null,
   "id": "5fd59534-67d4-40ed-9d13-1bfd2d1b7186",
   "metadata": {},
   "outputs": [],
   "source": [
    "list1 + list2"
   ]
  },
  {
   "cell_type": "code",
   "execution_count": null,
   "id": "7007edcf-fcc8-4586-9ca1-c32fb75e6aec",
   "metadata": {},
   "outputs": [],
   "source": [
    "list1.append(6)"
   ]
  },
  {
   "cell_type": "code",
   "execution_count": null,
   "id": "5731a4f5-51e0-4f3a-8387-c492ded5f675",
   "metadata": {},
   "outputs": [],
   "source": [
    "list1"
   ]
  },
  {
   "cell_type": "code",
   "execution_count": null,
   "id": "bcc94279-81d1-458c-b416-2a27462c5dca",
   "metadata": {},
   "outputs": [],
   "source": [
    "list1.extend(list2)"
   ]
  },
  {
   "cell_type": "code",
   "execution_count": null,
   "id": "ba1d3cef-82e5-447a-863e-591fceba8b7e",
   "metadata": {},
   "outputs": [],
   "source": [
    "list1"
   ]
  },
  {
   "cell_type": "code",
   "execution_count": null,
   "id": "f11f043d-e017-4c0b-a373-3a20ebe66a5d",
   "metadata": {},
   "outputs": [],
   "source": [
    "list1 += list2"
   ]
  },
  {
   "cell_type": "code",
   "execution_count": null,
   "id": "ff65145b-9e67-41d2-918a-940763c99f2a",
   "metadata": {},
   "outputs": [],
   "source": [
    "list1"
   ]
  },
  {
   "cell_type": "code",
   "execution_count": null,
   "id": "d0cb1c1e-d77d-40e3-be31-f7e62c0df556",
   "metadata": {},
   "outputs": [],
   "source": [
    "list1.append(list2)"
   ]
  },
  {
   "cell_type": "code",
   "execution_count": null,
   "id": "90e0fb9d-373f-4dcb-bd09-e34f3c10e5b8",
   "metadata": {},
   "outputs": [],
   "source": [
    "list1"
   ]
  },
  {
   "cell_type": "code",
   "execution_count": null,
   "id": "8461cc79-2436-4f36-9e82-5728f8993f6f",
   "metadata": {},
   "outputs": [],
   "source": [
    "list1[-1]"
   ]
  },
  {
   "cell_type": "code",
   "execution_count": null,
   "id": "1ad98f93-d347-4628-ad17-b61d6382e319",
   "metadata": {},
   "outputs": [],
   "source": [
    "del list1[-1]"
   ]
  },
  {
   "cell_type": "code",
   "execution_count": null,
   "id": "0c23fca2-603b-41ad-96f9-27dcd7ea8566",
   "metadata": {},
   "outputs": [],
   "source": [
    "list1"
   ]
  },
  {
   "cell_type": "markdown",
   "id": "df7f9d67-bda6-4a8b-8c73-b499cc96271a",
   "metadata": {},
   "source": [
    "## Lab: Lists\n",
    "* create an empty list\n",
    "* write Python code to repeatedly ask the user for a word until the word is 'quit'\n",
    "* add each word to the list\n",
    "* after the user types 'quit' print every other word (first, third, fifth, etc.)\n",
    "* then print every other word (second, fourth, sixth, etc.)\n"
   ]
  },
  {
   "cell_type": "code",
   "execution_count": null,
   "id": "1954083d-12c1-4e93-bdc3-dfb554fd02ac",
   "metadata": {},
   "outputs": [],
   "source": [
    "while (word := input('Enter a word')) != 'quit':\n",
    "    print('do something with', word)"
   ]
  },
  {
   "cell_type": "code",
   "execution_count": null,
   "id": "d8428752-bbc1-412b-a8da-f13986ebcb52",
   "metadata": {},
   "outputs": [],
   "source": [
    "# 1. create an empty list\n",
    "# 2. while the user has not entered 'quit':\n",
    "#.  3. get a word from the user\n",
    "#.  4. append it to the list\n",
    "# 5. display every other word of the list (slice)...0, 2, 4, 6...\n",
    "# 6. display every other word of the list starting with 2nd...1, 3, 5...\n",
    "\n",
    "words = [] # step 1\n",
    "while (word := input('Enter a word: ')) != 'quit': # steps 2 & 3\n",
    "    words.append(word) # step 4\n",
    "# That's all we have to do in the loop\n",
    "\n",
    "# step 5\n",
    "print(words[::2]) # print a slice of the list starting at beginning, stopping at end, stepping by 2\n",
    "print(words[1::2]) # print a slice of the list starting at position 1, stopping at end, stepping by 2"
   ]
  },
  {
   "cell_type": "code",
   "execution_count": null,
   "id": "37b4e329-5c72-46d9-a42f-a64091587c8e",
   "metadata": {},
   "outputs": [],
   "source": [
    "# Python 3 was released in 2008 as a way to solve some of the issues/warts with Python 2\n",
    "# Python 2 was officially deprecated 1/1/20"
   ]
  },
  {
   "cell_type": "code",
   "execution_count": null,
   "id": "222f8967-dade-473e-a722-4ef3e46493d1",
   "metadata": {},
   "outputs": [],
   "source": [
    "%%python2\n",
    "# this cell will be run in Python 2\n",
    "print(3 / 2)"
   ]
  },
  {
   "cell_type": "code",
   "execution_count": null,
   "id": "c79f8e33-0339-4085-8407-1b406fdfcd8a",
   "metadata": {},
   "outputs": [],
   "source": [
    "print(3 / 2)"
   ]
  },
  {
   "cell_type": "code",
   "execution_count": null,
   "id": "8a45ecf0-5376-4002-9fe1-f9c3fbdb52a9",
   "metadata": {},
   "outputs": [],
   "source": [
    "%%python2\n",
    "# this cell will be run in Python 2\n",
    "print 'this', 'that', 2, \n",
    "print 'next'"
   ]
  },
  {
   "cell_type": "code",
   "execution_count": null,
   "id": "80dea8a4-3dbf-4bae-baa1-2b8ce9dade69",
   "metadata": {},
   "outputs": [],
   "source": [
    "print('this', 'that', 2, end=' ')\n",
    "print('next')"
   ]
  },
  {
   "cell_type": "code",
   "execution_count": null,
   "id": "52551815-92e7-4ac0-b415-0c8d2f403f70",
   "metadata": {},
   "outputs": [],
   "source": [
    "print 1, 2, 3"
   ]
  },
  {
   "cell_type": "code",
   "execution_count": null,
   "id": "37be89a4-22ac-4533-a182-00815258aff4",
   "metadata": {},
   "outputs": [],
   "source": [
    "new_list = list()"
   ]
  },
  {
   "cell_type": "code",
   "execution_count": null,
   "id": "e7140845-1436-41d1-a3d8-753f70ae4345",
   "metadata": {},
   "outputs": [],
   "source": [
    "new_list = []"
   ]
  },
  {
   "cell_type": "code",
   "execution_count": null,
   "id": "9ddbc72a-da8f-4757-a90a-c9488d2e17d3",
   "metadata": {},
   "outputs": [],
   "source": [
    "words = [] # it's a list here\n",
    "while (word := input('Enter a word: ')) != 'quit': # words turns into a string\n",
    "    print('blah')"
   ]
  },
  {
   "cell_type": "code",
   "execution_count": null,
   "id": "b1e11cd0-cc68-4bf7-b403-6e1baf2ca08f",
   "metadata": {},
   "outputs": [],
   "source": [
    "len('cool')"
   ]
  },
  {
   "cell_type": "code",
   "execution_count": null,
   "id": "064ba1a3-949c-452e-bf16-daeef53d7f7e",
   "metadata": {},
   "outputs": [],
   "source": [
    "len([1, 2, 3, 4])"
   ]
  },
  {
   "cell_type": "code",
   "execution_count": null,
   "id": "22129c24-1d3f-4e95-8b7a-05157d2779e7",
   "metadata": {},
   "outputs": [],
   "source": [
    "len = 4"
   ]
  },
  {
   "cell_type": "code",
   "execution_count": null,
   "id": "745eada6-2881-4bb4-811f-e6968566606b",
   "metadata": {},
   "outputs": [],
   "source": [
    "len"
   ]
  },
  {
   "cell_type": "code",
   "execution_count": null,
   "id": "f0b42006-fed6-4877-bd9b-b432ce69d740",
   "metadata": {},
   "outputs": [],
   "source": [
    "len('hi')"
   ]
  },
  {
   "cell_type": "code",
   "execution_count": null,
   "id": "277b54ea-c93f-4c6c-a93b-da40be420663",
   "metadata": {},
   "outputs": [],
   "source": [
    "print 1"
   ]
  },
  {
   "cell_type": "code",
   "execution_count": null,
   "id": "ce8ac446-67a8-45f5-860c-b0746d7b8160",
   "metadata": {},
   "outputs": [],
   "source": [
    "del len"
   ]
  },
  {
   "cell_type": "code",
   "execution_count": null,
   "id": "3d4fab64-97ac-4a8e-91d7-c55bc8c0784e",
   "metadata": {},
   "outputs": [],
   "source": [
    "len('hi')"
   ]
  },
  {
   "cell_type": "code",
   "execution_count": null,
   "id": "69e997e3-52e7-4ca8-a378-20183ff373d8",
   "metadata": {},
   "outputs": [],
   "source": [
    "append()"
   ]
  },
  {
   "cell_type": "code",
   "execution_count": null,
   "id": "c26b13ee-a2bf-4622-bca7-e606e730929f",
   "metadata": {},
   "outputs": [],
   "source": [
    "!date"
   ]
  },
  {
   "cell_type": "code",
   "execution_count": null,
   "id": "69a5bc42-97ee-4f98-aa87-5e4c8892a4b0",
   "metadata": {},
   "outputs": [],
   "source": [
    "!cal"
   ]
  },
  {
   "cell_type": "code",
   "execution_count": null,
   "id": "aa5d299c-e9ef-47fc-badb-852b234694e9",
   "metadata": {},
   "outputs": [],
   "source": [
    "!dir"
   ]
  },
  {
   "cell_type": "code",
   "execution_count": null,
   "id": "bf687b0c-83fa-42b3-bacc-dc3a90aa4a94",
   "metadata": {},
   "outputs": [],
   "source": [
    "!append # go out to Windows and run the append command"
   ]
  },
  {
   "cell_type": "code",
   "execution_count": null,
   "id": "64a76702-68dc-40cb-ad53-bec8b84a4f8d",
   "metadata": {},
   "outputs": [],
   "source": [
    "list1"
   ]
  },
  {
   "cell_type": "code",
   "execution_count": null,
   "id": "55e08a9c-597e-490d-9ba5-47fa440e5df7",
   "metadata": {},
   "outputs": [],
   "source": [
    "list1.append('something')"
   ]
  },
  {
   "cell_type": "code",
   "execution_count": null,
   "id": "af21027e-8d17-4eef-85cd-fa5529cb6436",
   "metadata": {},
   "outputs": [],
   "source": [
    "list1"
   ]
  },
  {
   "cell_type": "code",
   "execution_count": null,
   "id": "beb9bb7d-88e7-4b01-b6c3-8b28b2b8599e",
   "metadata": {},
   "outputs": [],
   "source": [
    "!append"
   ]
  },
  {
   "cell_type": "code",
   "execution_count": null,
   "id": "c29ae72f-9ba2-4da4-a977-a00f53ad6da6",
   "metadata": {},
   "outputs": [],
   "source": [
    "help(append)"
   ]
  },
  {
   "cell_type": "code",
   "execution_count": null,
   "id": "7f23f7d4-186f-45d7-a601-31bcd3af637f",
   "metadata": {},
   "outputs": [],
   "source": [
    "help(list.append)"
   ]
  },
  {
   "cell_type": "code",
   "execution_count": null,
   "id": "b080447e-f69c-46fc-adcc-a9b0c5b198d2",
   "metadata": {},
   "outputs": [],
   "source": [
    "number = int(input('Number, please: '))"
   ]
  },
  {
   "cell_type": "code",
   "execution_count": null,
   "id": "f7622411-03ce-4783-8a0a-b29e36f89e5a",
   "metadata": {},
   "outputs": [],
   "source": [
    "number % 10"
   ]
  },
  {
   "cell_type": "code",
   "execution_count": null,
   "id": "c86d48da-aebd-4a8c-83d3-b5926d39b1a6",
   "metadata": {},
   "outputs": [],
   "source": [
    "number //= 10 # number = number // 10"
   ]
  },
  {
   "cell_type": "code",
   "execution_count": null,
   "id": "830c6fe6-3022-45f2-a73b-11cc5d11951c",
   "metadata": {},
   "outputs": [],
   "source": [
    "number % 10"
   ]
  },
  {
   "cell_type": "code",
   "execution_count": null,
   "id": "c1e14bcc-1797-471f-a874-fd85c5c40acc",
   "metadata": {},
   "outputs": [],
   "source": [
    "number = str(number)\n",
    "for digit in number:\n",
    "    print(digit)\n",
    "\n",
    "# ...\n",
    "number = int(number)"
   ]
  },
  {
   "cell_type": "code",
   "execution_count": null,
   "id": "3594bca1-d350-49e1-a02d-0544fe5b96ed",
   "metadata": {},
   "outputs": [],
   "source": [
    "'this that other'.split()"
   ]
  },
  {
   "cell_type": "code",
   "execution_count": null,
   "id": "19368a47-6a6d-4072-9e30-b1fbefff5ce4",
   "metadata": {},
   "outputs": [],
   "source": [
    "'how\\ndoes    it   determine where to\\t\\t  create the  split'.split()"
   ]
  },
  {
   "cell_type": "code",
   "execution_count": null,
   "id": "ac9020ab-0015-4f76-8598-4755b8ab6bc0",
   "metadata": {},
   "outputs": [],
   "source": [
    "'1 2 3'.split() # .split() is a string method (function)"
   ]
  },
  {
   "cell_type": "code",
   "execution_count": null,
   "id": "9a9e550a-cf54-4ede-bb18-95c8f081481e",
   "metadata": {},
   "outputs": [],
   "source": [
    "string = 'blah var'"
   ]
  },
  {
   "cell_type": "code",
   "execution_count": null,
   "id": "254fe88e-fbf1-400d-8986-03d59724ecae",
   "metadata": {},
   "outputs": [],
   "source": [
    "string.split()"
   ]
  },
  {
   "cell_type": "code",
   "execution_count": null,
   "id": "7177ba77-936f-4c5e-95f5-d114fb1292f9",
   "metadata": {},
   "outputs": [],
   "source": [
    "split(string)"
   ]
  },
  {
   "cell_type": "code",
   "execution_count": null,
   "id": "4c6be6d8-36f8-4d9d-b6d3-638e2aa46665",
   "metadata": {},
   "outputs": [],
   "source": [
    "list_of_words = 'one two three'.split()"
   ]
  },
  {
   "cell_type": "code",
   "execution_count": null,
   "id": "e4bbd454-02aa-48aa-9b5e-9d8976f59c1b",
   "metadata": {},
   "outputs": [],
   "source": [
    "list_of_words"
   ]
  },
  {
   "cell_type": "code",
   "execution_count": null,
   "id": "2037f548-e3bb-4f06-a36c-1a144aae0180",
   "metadata": {},
   "outputs": [],
   "source": [
    "list_of_words.join(', ')"
   ]
  },
  {
   "cell_type": "code",
   "execution_count": null,
   "id": "80bfd49e-4d81-463d-be5d-0c024f81a7c9",
   "metadata": {},
   "outputs": [],
   "source": [
    "join(list_of_words, ', ')"
   ]
  },
  {
   "cell_type": "code",
   "execution_count": null,
   "id": "5c03c3d8-2740-432d-a08f-8d593cf3d918",
   "metadata": {},
   "outputs": [],
   "source": [
    "list_of_words"
   ]
  },
  {
   "cell_type": "code",
   "execution_count": null,
   "id": "2bb99cb5-97aa-40db-9f62-7973032ce394",
   "metadata": {},
   "outputs": [],
   "source": [
    "result = ''"
   ]
  },
  {
   "cell_type": "code",
   "execution_count": null,
   "id": "feb8bcaa-9417-4744-8e47-ac0972db18ce",
   "metadata": {},
   "outputs": [],
   "source": [
    "for word in list_of_words:\n",
    "    result += word"
   ]
  },
  {
   "cell_type": "code",
   "execution_count": null,
   "id": "0bf55e8a-e89e-497b-bce1-d0a884334551",
   "metadata": {},
   "outputs": [],
   "source": [
    "result"
   ]
  },
  {
   "cell_type": "code",
   "execution_count": null,
   "id": "f70614c6-19d1-4d4f-8923-94b5c05a9db0",
   "metadata": {},
   "outputs": [],
   "source": [
    "', '.join(list_of_words)"
   ]
  },
  {
   "cell_type": "code",
   "execution_count": null,
   "id": "d2f50250-81de-4e5a-bf39-c7b392dd2972",
   "metadata": {},
   "outputs": [],
   "source": [
    "list_of_chars = list('string')"
   ]
  },
  {
   "cell_type": "code",
   "execution_count": null,
   "id": "adffd595-280c-481e-869c-458b801099c9",
   "metadata": {},
   "outputs": [],
   "source": [
    "for thing in 'string':\n",
    "    print(thing)"
   ]
  },
  {
   "cell_type": "code",
   "execution_count": null,
   "id": "7e99a019-eba4-483b-a4d9-f772052b94eb",
   "metadata": {},
   "outputs": [],
   "source": [
    "list_of_chars"
   ]
  },
  {
   "cell_type": "code",
   "execution_count": null,
   "id": "0ad58f3f-be35-42ea-a249-1b1d23627e64",
   "metadata": {},
   "outputs": [],
   "source": [
    "''.join(list_of_chars)"
   ]
  },
  {
   "cell_type": "code",
   "execution_count": null,
   "id": "e17d2838-1af5-4e38-ab76-2fb153f40a7c",
   "metadata": {},
   "outputs": [],
   "source": [
    "suits = ['clubs', 'diamonds', 'hearts', 'spades']"
   ]
  },
  {
   "cell_type": "code",
   "execution_count": null,
   "id": "fd033432-aecf-4a95-a52f-d5bb64c7406b",
   "metadata": {},
   "outputs": [],
   "source": [
    "suits = 'clubs diamonds hearts spades'.split() # Pythonic way to create a list!"
   ]
  },
  {
   "cell_type": "code",
   "execution_count": null,
   "id": "df2dd1ee-2581-47b7-ab52-f0ab00e064b1",
   "metadata": {},
   "outputs": [],
   "source": [
    "suits"
   ]
  },
  {
   "cell_type": "code",
   "execution_count": null,
   "id": "1a0b4944-2003-4ec2-a6d9-b74aac1c6492",
   "metadata": {},
   "outputs": [],
   "source": [
    "%%timeit\n",
    "suits = 'clubs diamonds hearts spades'.split() # Pythonic way to create a list!"
   ]
  },
  {
   "cell_type": "code",
   "execution_count": null,
   "id": "e42db10d-8d68-461f-acbb-ef7db7b12ed4",
   "metadata": {},
   "outputs": [],
   "source": [
    "word = 'imbue'\n",
    "list_of_chars = list(word.upper())"
   ]
  },
  {
   "cell_type": "code",
   "execution_count": null,
   "id": "ae527234-eb02-4357-896a-a0fd81224ad0",
   "metadata": {},
   "outputs": [],
   "source": [
    "list_of_chars"
   ]
  },
  {
   "cell_type": "code",
   "execution_count": null,
   "id": "08c02285-09ec-430b-bb50-8a6016bf1210",
   "metadata": {},
   "outputs": [],
   "source": [
    "import random\n",
    "random.shuffle(list_of_chars)"
   ]
  },
  {
   "cell_type": "code",
   "execution_count": null,
   "id": "581a9dac-d709-4289-b6f5-7b50c5f83d72",
   "metadata": {},
   "outputs": [],
   "source": [
    "list_of_chars"
   ]
  },
  {
   "cell_type": "code",
   "execution_count": null,
   "id": "801b00c9-e75c-45c8-a36a-6bc484b05d8c",
   "metadata": {},
   "outputs": [],
   "source": [
    "''.join(list_of_chars)"
   ]
  },
  {
   "cell_type": "code",
   "execution_count": null,
   "id": "3d1acf70-3836-4767-a68a-a14eb33d38cf",
   "metadata": {},
   "outputs": [],
   "source": [
    "# hint first letter is I"
   ]
  },
  {
   "cell_type": "code",
   "execution_count": null,
   "id": "317e329d-f427-4a5f-948b-ae1bf55442cb",
   "metadata": {},
   "outputs": [],
   "source": [
    "# let them guess\n",
    "# if guess is the word, then YAY\n",
    "# if guess is QUIT, then quit\n",
    "# if guess is HINT, then show them the first/next letter\n",
    "# if guess is SCRAMBLE, reshuffle the word"
   ]
  },
  {
   "cell_type": "code",
   "execution_count": null,
   "id": "93cc2bd5-11ca-486f-97a3-f34141371a8e",
   "metadata": {},
   "outputs": [],
   "source": [
    "random.shuffle(list_of_chars)\n",
    "''.join(list_of_chars)"
   ]
  },
  {
   "cell_type": "code",
   "execution_count": null,
   "id": "43be08ad-c15a-47ae-a298-ed730516d096",
   "metadata": {},
   "outputs": [],
   "source": [
    "string = 'a bunch of letters'"
   ]
  },
  {
   "cell_type": "code",
   "execution_count": null,
   "id": "d1742e86-da3a-4ae5-a99a-820ee87b031e",
   "metadata": {},
   "outputs": [],
   "source": [
    "my_list = string.split()"
   ]
  },
  {
   "cell_type": "code",
   "execution_count": null,
   "id": "16b62de1-7ea2-4bde-8083-edc2230f785b",
   "metadata": {},
   "outputs": [],
   "source": [
    "print(my_list)"
   ]
  },
  {
   "cell_type": "code",
   "execution_count": null,
   "id": "6b489095-5552-4603-8fad-6d5440506e10",
   "metadata": {},
   "outputs": [],
   "source": [
    "print(list(string))"
   ]
  },
  {
   "cell_type": "code",
   "execution_count": null,
   "id": "cd962751-4d34-4584-8fc3-06bd36532e16",
   "metadata": {},
   "outputs": [],
   "source": [
    "# 0. create a list of words to choose from\n",
    "# 1. pick a word at random \n",
    "# 1a. scramble the list version of the word (list-ify)\n",
    "# 2. display the scrambled version of the word, as a word (join)\n",
    "# 3. while they haven't guessed the word: (otherwise 'yay')\n",
    "# 4. print prompt (with all the options)\n",
    "#   5. get a guess/response\n",
    "#   6. if guess == q, then quit\n",
    "#      6a. elif guess == h, then:\n",
    "#          7. show the next letter we haven't already shown (1st, 2nd, etc.)\n",
    "#      6b. elif guess is s, reshuffle the word\n",
    "#         8.  reshuffle the word in the list of chars\n",
    "#.        8a. (advanced: ensure the shuffle produced a) new ordering and b) not the correct ordering)\n",
    "#      else\n",
    "#.       9.  print invalid guess"
   ]
  },
  {
   "cell_type": "code",
   "execution_count": null,
   "id": "f47ace09-0f0d-40d4-9987-e2738163afaa",
   "metadata": {},
   "outputs": [],
   "source": [
    "wordlist = 'imbue nonsense strategy acceptance number power watchable'.split() # step 0"
   ]
  },
  {
   "cell_type": "code",
   "execution_count": null,
   "id": "c1d9240b-b67b-4329-ac0a-facab84cac34",
   "metadata": {},
   "outputs": [],
   "source": [
    "wordlist"
   ]
  },
  {
   "cell_type": "code",
   "execution_count": null,
   "id": "10381041-ffad-42ea-b30e-2ff98795c4ee",
   "metadata": {},
   "outputs": [],
   "source": [
    "import random\n",
    "word = random.choice(wordlist).upper() # step 1 + make it uppercase\n",
    "word"
   ]
  },
  {
   "cell_type": "code",
   "execution_count": null,
   "id": "c42db894-9915-49ae-8ba8-27de0af4497c",
   "metadata": {},
   "outputs": [],
   "source": [
    "# steps 1a and 2\n",
    "letter_list = list(word) # list-ify / explode into individual letters\n",
    "random.shuffle(letter_list) # shuffle the letters\n",
    "print(''.join(letter_list)) # re-constitute the letters into a scrambled word"
   ]
  },
  {
   "cell_type": "code",
   "execution_count": null,
   "id": "cfc6e24c-2ea2-4cd8-9f51-d656aaf30eca",
   "metadata": {},
   "outputs": [],
   "source": [
    "# step 3, 4, 5\n",
    "while (response := input('Enter your guess (\"q\" to quit, \"h\" for hint, \"s\" to re-shuffle): ').upper()) != word:\n",
    "    print('ok')"
   ]
  },
  {
   "cell_type": "code",
   "execution_count": null,
   "id": "e7a01c93-c1c3-44b9-b20c-6fb3c0b486fe",
   "metadata": {},
   "outputs": [],
   "source": [
    "while (response := input('Enter your guess (\"q\" to quit, \"h\" for hint, \"s\" to re-shuffle): ').upper()) != word:\n",
    "    if response == 'Q': # step 6\n",
    "        print('Thanks for playing!')\n",
    "        break\n",
    "    elif response == 'H': # step 6a\n",
    "        print('no hints') # wait\n",
    "    elif response == 'S': # step 6b\n",
    "        print('reshuffle')\n",
    "    else:\n",
    "        print('Invalid guess!')\n",
    "else:\n",
    "    print('Great job!')"
   ]
  },
  {
   "cell_type": "code",
   "execution_count": null,
   "id": "87a5e2e5-f555-4677-ac9a-2a45fdb251f2",
   "metadata": {},
   "outputs": [],
   "source": [
    "# it may be too complicated to try and leverage the walrus operator and the else clause for the while\n",
    "import random\n",
    "word = random.choice(wordlist).upper() # step 1 + make it uppercase\n",
    "\n",
    "letter_list = list(word) # list-ify / explode into individual letters\n",
    "random.shuffle(letter_list) # shuffle the letters\n",
    "\n",
    "while True: # until they quit or get it right\n",
    "    print(''.join(letter_list)) # re-constitute the letters into a scrambled word\n",
    "    response = input('Enter your guess (\"q\" to quit, \"h\" for hint, \"s\" to re-shuffle): ').upper()\n",
    "    if response == 'Q': # step 6\n",
    "        print('Thanks for playing!')\n",
    "        break\n",
    "    elif response == 'H': # step 6a\n",
    "        print('no hints') # wait\n",
    "    elif response == 'S': # step 6b\n",
    "        print('reshuffle')\n",
    "    elif response == word:\n",
    "        print('You got it!')\n",
    "        break"
   ]
  },
  {
   "cell_type": "code",
   "execution_count": null,
   "id": "1f16bc5c-d7ad-444f-9788-d97c5447220f",
   "metadata": {},
   "outputs": [],
   "source": [
    "import random\n",
    "wordlist = open('wordlist.txt').read().split() # step 0\n",
    "word = random.choice(wordlist).upper() # step 1 + make it uppercase\n",
    "hints_so_far = 0 # keep track of how many hints we've given the player\n",
    "\n",
    "letter_list = list(word) # list-ify / explode into individual letters\n",
    "random.shuffle(letter_list) # shuffle the letters\n",
    "\n",
    "while True: # until they quit or get it right\n",
    "    print(''.join(letter_list)) # re-constitute the letters into a scrambled word\n",
    "    response = input('Enter your guess (\"q\" to quit, \"h\" for hint, \"s\" to re-shuffle): ').upper()\n",
    "    if response == 'Q': # step 6\n",
    "        print('The word was', word)\n",
    "        break\n",
    "    elif response == 'H': # step 6a\n",
    "        # we need to keep track of how many hints or the last hint we gave, etc.\n",
    "        # or keep track of the position of the next hint we will show\n",
    "        # notice that that's the same as counting the hints\n",
    "        # hints_so_far could be what we keep track of and that dictates which letter we show\n",
    "        hints_so_far += 1 # we will have given the player one more hint at the next line\n",
    "        print('The first', hints_so_far, 'letters are:', word[:hints_so_far])\n",
    "    elif response == 'S': # step 6b\n",
    "        print('Reshuffle!')\n",
    "        random.shuffle(letter_list)\n",
    "    elif response == word:\n",
    "        print('You got it!')\n",
    "        break\n",
    "    else:\n",
    "        print('Good guess, but that is not the word!')"
   ]
  },
  {
   "cell_type": "code",
   "execution_count": null,
   "id": "5a8d18be-54ee-45e5-ad34-d515e6882558",
   "metadata": {},
   "outputs": [],
   "source": [
    "help(random.shuffle)"
   ]
  },
  {
   "cell_type": "code",
   "execution_count": null,
   "id": "586e7f8c-798a-40a1-8fec-3560b883abc6",
   "metadata": {},
   "outputs": [],
   "source": []
  },
  {
   "cell_type": "code",
   "execution_count": null,
   "id": "bf3eecce-2252-45d7-9cff-7f7c650280e9",
   "metadata": {},
   "outputs": [],
   "source": [
    "list = ['a', 'b', 'c']"
   ]
  },
  {
   "cell_type": "raw",
   "id": "f88afa91-74bf-4f85-ba95-69176aeb96b6",
   "metadata": {},
   "source": [
    "string = 'catdogcatdog'\n",
    "letters = list(string)\n",
    "# This is giving me an error, please help. the error is \"list ' object is not callable"
   ]
  },
  {
   "cell_type": "code",
   "execution_count": null,
   "id": "430ddac8-b0e8-4c25-b64a-6b8c1de848de",
   "metadata": {},
   "outputs": [],
   "source": [
    "del list # delete your variable called 'list'"
   ]
  },
  {
   "cell_type": "code",
   "execution_count": null,
   "id": "3eed6b89-f82e-49f7-a7d2-c44ddb3f6e7b",
   "metadata": {},
   "outputs": [],
   "source": [
    "letters"
   ]
  },
  {
   "cell_type": "code",
   "execution_count": null,
   "id": "2d0a7169-d263-434d-b117-7e0b13d9e653",
   "metadata": {},
   "outputs": [],
   "source": [
    "word"
   ]
  },
  {
   "cell_type": "code",
   "execution_count": null,
   "id": "4fbf4169-96e5-4801-b39d-a9f1eec402c4",
   "metadata": {},
   "outputs": [],
   "source": [
    "word[:0]"
   ]
  },
  {
   "cell_type": "code",
   "execution_count": null,
   "id": "360ab7d0-956c-4f2b-aa96-0bd64dba34eb",
   "metadata": {},
   "outputs": [],
   "source": [
    "word[:2]"
   ]
  },
  {
   "cell_type": "code",
   "execution_count": null,
   "id": "922989b8-b393-4c87-8c7d-5d6923510a66",
   "metadata": {},
   "outputs": [],
   "source": [
    "print('the final quote is not missing', word')"
   ]
  },
  {
   "cell_type": "code",
   "execution_count": null,
   "id": "bf8575c1-11c3-4a97-a3a8-797b74468d43",
   "metadata": {},
   "outputs": [],
   "source": [
    "open('wordlist.txt').read().split()"
   ]
  },
  {
   "cell_type": "code",
   "execution_count": null,
   "id": "85176e93-6d03-4fc9-a61d-79d5f0a1f2fd",
   "metadata": {},
   "outputs": [],
   "source": [
    "import random"
   ]
  },
  {
   "cell_type": "code",
   "execution_count": null,
   "id": "9f1f8ffe-3a9f-4015-8ff4-e78f4c2c7894",
   "metadata": {},
   "outputs": [],
   "source": [
    "id(random)"
   ]
  },
  {
   "cell_type": "code",
   "execution_count": null,
   "id": "48694421-3d2b-4bdd-8382-96d6bcb23d3f",
   "metadata": {},
   "outputs": [],
   "source": [
    "random.__file__ # where is random on my computer?"
   ]
  },
  {
   "cell_type": "code",
   "execution_count": null,
   "id": "8608b277-ebcc-461b-b6c2-1ba72f96229a",
   "metadata": {},
   "outputs": [],
   "source": [
    "import math"
   ]
  },
  {
   "cell_type": "code",
   "execution_count": null,
   "id": "476c82c7-cbdb-4aa2-ac75-16cfdbc9cdc0",
   "metadata": {},
   "outputs": [],
   "source": [
    "dir(math)"
   ]
  },
  {
   "cell_type": "code",
   "execution_count": null,
   "id": "660efe27-b563-47e1-8164-0bf94ab7e099",
   "metadata": {},
   "outputs": [],
   "source": [
    "math.__file__"
   ]
  },
  {
   "cell_type": "code",
   "execution_count": null,
   "id": "2d4e1aac-3ec0-4256-9cf8-102d6431c408",
   "metadata": {},
   "outputs": [],
   "source": [
    "import random"
   ]
  },
  {
   "cell_type": "code",
   "execution_count": null,
   "id": "9ed77755-162e-4608-a3f7-2c732587f7a3",
   "metadata": {},
   "outputs": [],
   "source": [
    "random.__file__"
   ]
  },
  {
   "cell_type": "code",
   "execution_count": null,
   "id": "98cb4e94-646b-49d2-9980-1a48c85a762c",
   "metadata": {},
   "outputs": [],
   "source": [
    "things = 'book car office pet sidewalk'.split()"
   ]
  },
  {
   "cell_type": "code",
   "execution_count": null,
   "id": "e57be53f-af66-4f50-83af-fae3a8b9419f",
   "metadata": {},
   "outputs": [],
   "source": [
    "things"
   ]
  },
  {
   "cell_type": "code",
   "execution_count": null,
   "id": "ea7a0765-9e48-42d8-8c4b-a13956b85848",
   "metadata": {},
   "outputs": [],
   "source": [
    "things.pop()"
   ]
  },
  {
   "cell_type": "code",
   "execution_count": null,
   "id": "9ee1f12d-18f0-4862-9557-6eca0ed56407",
   "metadata": {},
   "outputs": [],
   "source": [
    "things"
   ]
  },
  {
   "cell_type": "code",
   "execution_count": null,
   "id": "3b941339-6879-4881-ab29-8c83911a5f97",
   "metadata": {},
   "outputs": [],
   "source": [
    "things.remove('office')"
   ]
  },
  {
   "cell_type": "code",
   "execution_count": null,
   "id": "ed9a3918-d78c-4760-ae6a-b25b5b806333",
   "metadata": {},
   "outputs": [],
   "source": [
    "things"
   ]
  },
  {
   "cell_type": "code",
   "execution_count": null,
   "id": "0415771a-3064-42ab-a2e6-e593599cd137",
   "metadata": {},
   "outputs": [],
   "source": [
    "item = 'book'\n",
    "# ...\n",
    "if item in things:\n",
    "    things.remove(item)"
   ]
  },
  {
   "cell_type": "code",
   "execution_count": null,
   "id": "45f92a4f-2ee6-4cce-ae1a-c6313a1cc5c9",
   "metadata": {},
   "outputs": [],
   "source": [
    "things"
   ]
  },
  {
   "cell_type": "code",
   "execution_count": null,
   "id": "57cf44d8-3f58-46d7-bd28-61ef0210b110",
   "metadata": {},
   "outputs": [],
   "source": [
    "things += 'hey hey hey hey you'.split()"
   ]
  },
  {
   "cell_type": "code",
   "execution_count": null,
   "id": "c7a07dcf-a5d3-4b70-b059-c5bd7631320b",
   "metadata": {},
   "outputs": [],
   "source": [
    "things"
   ]
  },
  {
   "cell_type": "code",
   "execution_count": null,
   "id": "0863f9b1-9596-4072-89c1-e959d6dee9eb",
   "metadata": {},
   "outputs": [],
   "source": [
    "things.remove('hey')"
   ]
  },
  {
   "cell_type": "code",
   "execution_count": null,
   "id": "256d31e7-d058-48af-8b0e-fc65c7dce5ad",
   "metadata": {},
   "outputs": [],
   "source": [
    "things.count('hey')"
   ]
  },
  {
   "cell_type": "code",
   "execution_count": null,
   "id": "26404550-75d5-47a2-b73f-8f2ab4607c32",
   "metadata": {},
   "outputs": [],
   "source": [
    "things"
   ]
  },
  {
   "cell_type": "code",
   "execution_count": null,
   "id": "6b2d8de4-fb19-4182-8a9a-6460565ed44d",
   "metadata": {},
   "outputs": [],
   "source": [
    "list_of_fruits = ['banana', 'apple', 'lemon', 'pear', 'fig', 'mango','raspberry', 'lemon']"
   ]
  },
  {
   "cell_type": "code",
   "execution_count": null,
   "id": "74df173d-bd43-4f17-abc9-d46034e79245",
   "metadata": {},
   "outputs": [],
   "source": [
    "list_of_fruits.index('lemon')"
   ]
  },
  {
   "cell_type": "code",
   "execution_count": null,
   "id": "bc6e6bff-6652-4236-bebd-75a791b7f5f5",
   "metadata": {},
   "outputs": [],
   "source": [
    "list_of_fruits.pop(6)"
   ]
  },
  {
   "cell_type": "code",
   "execution_count": null,
   "id": "f1ea3347-df9d-451f-89bc-202ed3a5460b",
   "metadata": {},
   "outputs": [],
   "source": [
    "list_of_fruits"
   ]
  },
  {
   "cell_type": "code",
   "execution_count": null,
   "id": "1ab1d0d7-745a-4427-bf87-88c63b093f26",
   "metadata": {},
   "outputs": [],
   "source": [
    "list_of_fruits.insert(4, 'kiwi')"
   ]
  },
  {
   "cell_type": "code",
   "execution_count": null,
   "id": "a8ef0ce5-1e63-480f-be95-ca6f125a6b17",
   "metadata": {},
   "outputs": [],
   "source": [
    "list_of_fruits.append('kiwi')"
   ]
  },
  {
   "cell_type": "code",
   "execution_count": null,
   "id": "a36912c8-a64c-4d93-b5be-49537013ebb0",
   "metadata": {},
   "outputs": [],
   "source": [
    "print(list_of_fruits)"
   ]
  },
  {
   "cell_type": "code",
   "execution_count": null,
   "id": "1b75c32c-6f0c-44c4-bea4-b07a4910ed1d",
   "metadata": {},
   "outputs": [],
   "source": [
    "list_of_fruits.index('kiwi')"
   ]
  },
  {
   "cell_type": "code",
   "execution_count": null,
   "id": "d20b3329-0976-426d-8ecc-63f372140c69",
   "metadata": {},
   "outputs": [],
   "source": [
    "len(list_of_fruits) - 1 - list_of_fruits[::-1].index('kiwi')"
   ]
  },
  {
   "cell_type": "code",
   "execution_count": null,
   "id": "41c8a49d-b237-4500-bd28-bdd4170fc888",
   "metadata": {},
   "outputs": [],
   "source": [
    "list_of_fruits.insert(8, 'starfruit')"
   ]
  },
  {
   "cell_type": "code",
   "execution_count": null,
   "id": "80fefd28-4acf-4061-b64d-b66405257582",
   "metadata": {},
   "outputs": [],
   "source": [
    "list_of_fruits = list_of_fruits[::-1]"
   ]
  },
  {
   "cell_type": "code",
   "execution_count": null,
   "id": "03e005f3-ed2c-42fc-951b-156d04dd66b7",
   "metadata": {},
   "outputs": [],
   "source": [
    "print(list_of_fruits)"
   ]
  },
  {
   "cell_type": "code",
   "execution_count": null,
   "id": "ce33cf38-bb4c-47a7-a1cc-4329a48a7490",
   "metadata": {},
   "outputs": [],
   "source": [
    "list_of_fruits.index('kiwi')"
   ]
  },
  {
   "cell_type": "code",
   "execution_count": null,
   "id": "c9424554-b0b6-40b6-91d5-8ee699afaf9d",
   "metadata": {},
   "outputs": [],
   "source": [
    "# FUN FACT\n",
    "## Mason's rotating fruits\n",
    "# moves first fruit to end of list\n",
    "if list_of_fruits:\n",
    "    list_of_fruits += [list_of_fruits.pop(0)]\n",
    "print(list_of_fruits)"
   ]
  },
  {
   "cell_type": "code",
   "execution_count": null,
   "id": "9ca99a37-94e8-49d2-8271-2287c1b89df6",
   "metadata": {},
   "outputs": [],
   "source": [
    "if list_of_fruits:\n",
    "    list_of_fruits.append(list_of_fruits.pop(0))\n",
    "print(list_of_fruits)"
   ]
  },
  {
   "cell_type": "code",
   "execution_count": null,
   "id": "afb415a2-41cc-4d9c-ba3b-7e96560c877f",
   "metadata": {},
   "outputs": [],
   "source": [
    "help(list.append)"
   ]
  },
  {
   "cell_type": "code",
   "execution_count": null,
   "id": "16692c78-9484-4eb5-8cab-6c5fc891323a",
   "metadata": {},
   "outputs": [],
   "source": [
    "result = print('does it matter what I print?')"
   ]
  },
  {
   "cell_type": "code",
   "execution_count": null,
   "id": "d8df59ab-ddfd-42c4-8b0c-ba8bc79de308",
   "metadata": {},
   "outputs": [],
   "source": [
    "length = len('this')"
   ]
  },
  {
   "cell_type": "code",
   "execution_count": null,
   "id": "89fe2246-0b19-4641-b937-8f8a4099d705",
   "metadata": {},
   "outputs": [],
   "source": [
    "length"
   ]
  },
  {
   "cell_type": "code",
   "execution_count": null,
   "id": "37006f6e-21de-4324-a7b1-036da0f363b2",
   "metadata": {},
   "outputs": [],
   "source": [
    "print(result)"
   ]
  },
  {
   "cell_type": "code",
   "execution_count": null,
   "id": "e7168b81-7ff5-4f15-91e5-8283c286b35d",
   "metadata": {},
   "outputs": [],
   "source": [
    "result = None"
   ]
  },
  {
   "cell_type": "code",
   "execution_count": null,
   "id": "f41fd878-b1f4-4bff-a6cc-607cdaa74de2",
   "metadata": {},
   "outputs": [],
   "source": [
    "help(print)"
   ]
  },
  {
   "cell_type": "code",
   "execution_count": null,
   "id": "17448a27-9a25-481a-9399-3dff63bf9425",
   "metadata": {},
   "outputs": [],
   "source": [
    "help(list.append)"
   ]
  },
  {
   "cell_type": "code",
   "execution_count": null,
   "id": "60c5eef7-ebe5-4def-b5c0-ad055131ca0f",
   "metadata": {},
   "outputs": [],
   "source": [
    "help(list.count)"
   ]
  },
  {
   "cell_type": "code",
   "execution_count": null,
   "id": "0837fe54-4111-4615-a7d4-25eae4099c90",
   "metadata": {},
   "outputs": [],
   "source": [
    "help(list.remove)"
   ]
  },
  {
   "cell_type": "code",
   "execution_count": null,
   "id": "cb37a7f8-ad3b-4f1b-b635-8767f2f0088c",
   "metadata": {},
   "outputs": [],
   "source": [
    "help(list.sort)"
   ]
  },
  {
   "cell_type": "code",
   "execution_count": null,
   "id": "5b9a1614-fa76-4e70-8456-93040328164c",
   "metadata": {},
   "outputs": [],
   "source": [
    "thing = print('thing')"
   ]
  },
  {
   "cell_type": "code",
   "execution_count": null,
   "id": "5d621fb1-8f6c-4d17-881b-41eece29f149",
   "metadata": {},
   "outputs": [],
   "source": [
    "print(thing)"
   ]
  },
  {
   "cell_type": "code",
   "execution_count": null,
   "id": "f3086411-55ba-4674-b137-c3cb2a861361",
   "metadata": {},
   "outputs": [],
   "source": [
    "print(list_of_fruits)"
   ]
  },
  {
   "cell_type": "code",
   "execution_count": null,
   "id": "113c98e1-4a7c-4199-b9de-b0059e82e7cd",
   "metadata": {},
   "outputs": [],
   "source": [
    "list_of_fruits.sort()"
   ]
  },
  {
   "cell_type": "code",
   "execution_count": null,
   "id": "e856f496-60e2-4567-a807-101508af154e",
   "metadata": {},
   "outputs": [],
   "source": [
    "list_of_fruits"
   ]
  },
  {
   "cell_type": "code",
   "execution_count": null,
   "id": "2551ea3d-0453-4d1c-ba38-c4994ad2885e",
   "metadata": {},
   "outputs": [],
   "source": [
    "list_of_fruits.sort(reverse=True)"
   ]
  },
  {
   "cell_type": "code",
   "execution_count": null,
   "id": "dc523e2f-1aac-42d7-94c4-b9b664f46226",
   "metadata": {},
   "outputs": [],
   "source": [
    "list_of_fruits"
   ]
  },
  {
   "cell_type": "code",
   "execution_count": null,
   "id": "29344d83-9172-40fa-bac1-3f951e338832",
   "metadata": {
    "tags": []
   },
   "outputs": [],
   "source": [
    "result = list_of_fruits.sort()"
   ]
  },
  {
   "cell_type": "code",
   "execution_count": null,
   "id": "f818cfad-e3e7-40e3-9572-7c0f5e66bc69",
   "metadata": {},
   "outputs": [],
   "source": [
    "print(result)"
   ]
  },
  {
   "cell_type": "code",
   "execution_count": null,
   "id": "447ec115-78d5-44f8-8723-f1f0f535c4c9",
   "metadata": {},
   "outputs": [],
   "source": [
    "list_of_fruits = list_of_fruits.sort()"
   ]
  },
  {
   "cell_type": "code",
   "execution_count": null,
   "id": "f51cc83e-30b8-47d0-a6f8-af29d0dcfee7",
   "metadata": {},
   "outputs": [],
   "source": [
    "print(list_of_fruits)"
   ]
  },
  {
   "cell_type": "code",
   "execution_count": null,
   "id": "046bd1d4-3767-4c81-acf2-132ddd11f5d2",
   "metadata": {},
   "outputs": [],
   "source": [
    "stuff = 'this that other potato banana yogurt'.split()"
   ]
  },
  {
   "cell_type": "code",
   "execution_count": null,
   "id": "5aabc504-fc54-4d8c-9241-616401717fe5",
   "metadata": {},
   "outputs": [],
   "source": [
    "stuff"
   ]
  },
  {
   "cell_type": "code",
   "execution_count": null,
   "id": "3a38ccbd-8f24-4e38-a0fd-d4af40044cc6",
   "metadata": {},
   "outputs": [],
   "source": [
    "sorted(stuff)"
   ]
  },
  {
   "cell_type": "code",
   "execution_count": null,
   "id": "386a713b-5b9a-40e3-8318-1e068addbe0b",
   "metadata": {},
   "outputs": [],
   "source": [
    "stuff"
   ]
  },
  {
   "cell_type": "code",
   "execution_count": null,
   "id": "78c2da73-8d18-4583-a315-a6592211e98e",
   "metadata": {},
   "outputs": [],
   "source": [
    "sorted('this string')"
   ]
  },
  {
   "cell_type": "code",
   "execution_count": null,
   "id": "81780d7a-98d2-4731-a676-9bdf93fbd555",
   "metadata": {},
   "outputs": [],
   "source": [
    "sorted_version_of_string = sorted('this string')"
   ]
  },
  {
   "cell_type": "code",
   "execution_count": null,
   "id": "6ed884e6-a331-4b7b-8c46-fd2c2f97902c",
   "metadata": {},
   "outputs": [],
   "source": [
    "sorted_version_of_string"
   ]
  },
  {
   "cell_type": "code",
   "execution_count": null,
   "id": "50d73cf9-9c7c-4775-8b29-0d338234dd44",
   "metadata": {},
   "outputs": [],
   "source": [
    "stuff"
   ]
  },
  {
   "cell_type": "code",
   "execution_count": null,
   "id": "88f18c5f-d583-4aa6-b6f8-e243b08d9527",
   "metadata": {},
   "outputs": [],
   "source": [
    "sorted_version_of_stuff = sorted(stuff)"
   ]
  },
  {
   "cell_type": "code",
   "execution_count": null,
   "id": "6d8ab8b0-d746-4113-a01d-ebf29fd6f6e9",
   "metadata": {},
   "outputs": [],
   "source": [
    "stuff"
   ]
  },
  {
   "cell_type": "code",
   "execution_count": null,
   "id": "1756450d-ad3d-41ff-a405-ac3c2fffa0f3",
   "metadata": {},
   "outputs": [],
   "source": [
    "sorted_version_of_stuff"
   ]
  },
  {
   "cell_type": "code",
   "execution_count": null,
   "id": "9bca20cd-44c1-40cc-a9b3-b09d0de4b768",
   "metadata": {},
   "outputs": [],
   "source": [
    "stuff = sorted(stuff) # inappropriate"
   ]
  },
  {
   "cell_type": "code",
   "execution_count": null,
   "id": "4e86d952-bdf9-424d-8b99-14ae54129189",
   "metadata": {},
   "outputs": [],
   "source": [
    "stuff"
   ]
  },
  {
   "cell_type": "code",
   "execution_count": null,
   "id": "09f5568f-89e7-471a-86ed-8da2080639f5",
   "metadata": {},
   "outputs": [],
   "source": [
    "stuff.sort()"
   ]
  },
  {
   "cell_type": "code",
   "execution_count": null,
   "id": "f14e0337-392c-40b5-b896-00b769beab5e",
   "metadata": {},
   "outputs": [],
   "source": [
    "stuff"
   ]
  },
  {
   "cell_type": "code",
   "execution_count": null,
   "id": "2efaef50-78bf-4bb7-b562-dd6393bd3da4",
   "metadata": {},
   "outputs": [],
   "source": [
    "stuff.sort(reverse=True)"
   ]
  },
  {
   "cell_type": "code",
   "execution_count": null,
   "id": "1b032611-b4e9-48c0-8028-128f22a458be",
   "metadata": {},
   "outputs": [],
   "source": [
    "stuff"
   ]
  },
  {
   "cell_type": "code",
   "execution_count": null,
   "id": "95ef9b0f-0dde-45f1-a8eb-eaabb8f14121",
   "metadata": {},
   "outputs": [],
   "source": [
    "stuff"
   ]
  },
  {
   "cell_type": "code",
   "execution_count": null,
   "id": "ba862d32-7f52-41ca-a32c-dc6f30a294b8",
   "metadata": {},
   "outputs": [],
   "source": [
    "print(stuff.sort())"
   ]
  },
  {
   "cell_type": "code",
   "execution_count": null,
   "id": "367d08bb-32da-48c9-b4b8-0776f393488d",
   "metadata": {},
   "outputs": [],
   "source": [
    "stuff"
   ]
  },
  {
   "cell_type": "code",
   "execution_count": null,
   "id": "e0106a3a-8853-413d-9ed8-3fea48b29544",
   "metadata": {},
   "outputs": [],
   "source": [
    "help(list.pop)"
   ]
  },
  {
   "cell_type": "code",
   "execution_count": null,
   "id": "cff74c5d-4663-4af4-8a67-5fa54a188aaf",
   "metadata": {},
   "outputs": [],
   "source": [
    "stuff"
   ]
  },
  {
   "cell_type": "code",
   "execution_count": null,
   "id": "ee8e92f7-a5d9-4e23-a2ba-d9cd91c2c462",
   "metadata": {},
   "outputs": [],
   "source": [
    "print(stuff.pop())"
   ]
  },
  {
   "cell_type": "code",
   "execution_count": null,
   "id": "888ef47a-d3c0-4fd7-98e1-765ff2865ef7",
   "metadata": {},
   "outputs": [],
   "source": [
    "stuff"
   ]
  },
  {
   "cell_type": "code",
   "execution_count": null,
   "id": "b5a7341c-ad30-4458-a7b0-784a05ff9063",
   "metadata": {},
   "outputs": [],
   "source": [
    "last_item = stuff.pop()"
   ]
  },
  {
   "cell_type": "code",
   "execution_count": null,
   "id": "2c67c891-2b2e-45a7-b592-524c7a186fd2",
   "metadata": {},
   "outputs": [],
   "source": [
    "stuff"
   ]
  },
  {
   "cell_type": "code",
   "execution_count": null,
   "id": "f8453546-902e-40de-9169-03fa1d91fc5d",
   "metadata": {},
   "outputs": [],
   "source": [
    "last_item"
   ]
  },
  {
   "cell_type": "code",
   "execution_count": null,
   "id": "28929e5a-1964-4a63-b5f7-8482fbd2cde0",
   "metadata": {},
   "outputs": [],
   "source": [
    "id(sorted)"
   ]
  },
  {
   "cell_type": "code",
   "execution_count": null,
   "id": "52685649-3ea5-4e0b-a14f-de5e785658f1",
   "metadata": {},
   "outputs": [],
   "source": [
    "id(list)"
   ]
  },
  {
   "cell_type": "code",
   "execution_count": null,
   "id": "21f5b3aa-3028-4f52-84d9-20bd0c64d260",
   "metadata": {},
   "outputs": [],
   "source": [
    "id(list.sort)"
   ]
  },
  {
   "cell_type": "code",
   "execution_count": null,
   "id": "d881de1c-b6cc-4184-b388-d1ca80220853",
   "metadata": {},
   "outputs": [],
   "source": [
    "string = 'Python'\n",
    "print(id(string))"
   ]
  },
  {
   "cell_type": "code",
   "execution_count": null,
   "id": "e6b959f8-3ca9-4b3f-bd07-cf35c0223356",
   "metadata": {},
   "outputs": [],
   "source": [
    "string.replace('P', 'p')"
   ]
  },
  {
   "cell_type": "code",
   "execution_count": null,
   "id": "3673e5ce-9956-4c38-bc55-c8f79b169eaf",
   "metadata": {},
   "outputs": [],
   "source": [
    "string"
   ]
  },
  {
   "cell_type": "code",
   "execution_count": null,
   "id": "88b6bc51-d825-4698-8d65-701ad21d8f6e",
   "metadata": {},
   "outputs": [],
   "source": [
    "string = string.replace('P', 'p')"
   ]
  },
  {
   "cell_type": "code",
   "execution_count": null,
   "id": "ccc5d845-040a-4bae-9ed3-8e9f1154808e",
   "metadata": {},
   "outputs": [],
   "source": [
    "string"
   ]
  },
  {
   "cell_type": "code",
   "execution_count": null,
   "id": "9a554521-d4da-49d6-a674-d10a4aa24eaa",
   "metadata": {},
   "outputs": [],
   "source": [
    "id(string)"
   ]
  },
  {
   "cell_type": "code",
   "execution_count": null,
   "id": "660e9e3b-5335-4b36-8a54-fcd6c11dbb64",
   "metadata": {},
   "outputs": [],
   "source": [
    "id('Python')"
   ]
  },
  {
   "cell_type": "code",
   "execution_count": null,
   "id": "4fffbbd6-9d8e-49b1-8e46-36687b6a31f9",
   "metadata": {},
   "outputs": [],
   "source": [
    "some_other_string = 'Python'\n",
    "id(some_other_string)"
   ]
  },
  {
   "cell_type": "code",
   "execution_count": null,
   "id": "3889ce63-09ab-4a4f-a274-22a93fb0ca91",
   "metadata": {},
   "outputs": [],
   "source": [
    "x = 1"
   ]
  },
  {
   "cell_type": "code",
   "execution_count": null,
   "id": "cc1848ce-9491-455f-91fa-2b8f9d2b3441",
   "metadata": {},
   "outputs": [],
   "source": [
    "id(x)"
   ]
  },
  {
   "cell_type": "code",
   "execution_count": null,
   "id": "db0d3cec-3abd-4937-a3fc-bcacf02b701c",
   "metadata": {},
   "outputs": [],
   "source": [
    "x += 1"
   ]
  },
  {
   "cell_type": "code",
   "execution_count": null,
   "id": "31af168a-f0f1-4532-ae0c-56ade6b618b7",
   "metadata": {},
   "outputs": [],
   "source": [
    "id(x)"
   ]
  },
  {
   "cell_type": "code",
   "execution_count": null,
   "id": "0edaa976-5dd5-472c-a261-e1503ce93680",
   "metadata": {},
   "outputs": [],
   "source": [
    "id(1)"
   ]
  },
  {
   "cell_type": "code",
   "execution_count": null,
   "id": "a7d138ad-b791-4640-8415-c6f4391febda",
   "metadata": {},
   "outputs": [],
   "source": [
    "id(2)"
   ]
  },
  {
   "cell_type": "code",
   "execution_count": null,
   "id": "efda2a7d-e3da-4cd2-b048-9c696d7ad5ca",
   "metadata": {},
   "outputs": [],
   "source": [
    "x"
   ]
  },
  {
   "cell_type": "code",
   "execution_count": null,
   "id": "ff75741b-f344-4863-b570-71290c86dbd4",
   "metadata": {},
   "outputs": [],
   "source": [
    "y = 2"
   ]
  },
  {
   "cell_type": "code",
   "execution_count": null,
   "id": "b902b027-b227-4b7c-abca-d54792bf4d11",
   "metadata": {},
   "outputs": [],
   "source": [
    "id(y)"
   ]
  },
  {
   "cell_type": "code",
   "execution_count": null,
   "id": "9a621efb-570f-4ef1-a49c-38852c4823e2",
   "metadata": {},
   "outputs": [],
   "source": [
    "y = 1"
   ]
  },
  {
   "cell_type": "code",
   "execution_count": null,
   "id": "56e3de09-bda1-43f8-89f2-0e201c5c70c2",
   "metadata": {},
   "outputs": [],
   "source": [
    "id(y)"
   ]
  },
  {
   "cell_type": "code",
   "execution_count": null,
   "id": "bf04e55f-0dc1-414e-b20c-9c5cbb75b466",
   "metadata": {},
   "outputs": [],
   "source": [
    "x = 1000\n",
    "y = 1000\n",
    "id(x), id(y)"
   ]
  },
  {
   "cell_type": "code",
   "execution_count": null,
   "id": "30d113e7-ec02-4473-9aac-90fa5d0eda4e",
   "metadata": {},
   "outputs": [],
   "source": [
    "somelist = [-1] * 1000"
   ]
  },
  {
   "cell_type": "code",
   "execution_count": null,
   "id": "b3d63774-11f2-4ab8-a2fb-833f33cab867",
   "metadata": {},
   "outputs": [],
   "source": [
    "print(somelist)"
   ]
  },
  {
   "cell_type": "code",
   "execution_count": null,
   "id": "cd1683ff-c0f8-49f1-8c40-998f8db3f9de",
   "metadata": {},
   "outputs": [],
   "source": [
    "id(somelist[0])"
   ]
  },
  {
   "cell_type": "code",
   "execution_count": null,
   "id": "38f7b160-1087-404b-95fe-0817df228075",
   "metadata": {},
   "outputs": [],
   "source": [
    "id(somelist[-1])"
   ]
  },
  {
   "cell_type": "code",
   "execution_count": null,
   "id": "39d77a9b-2c01-41a9-a9c6-f790826f625e",
   "metadata": {},
   "outputs": [],
   "source": [
    "for element in somelist:\n",
    "    if id(element) != 140620719122672:\n",
    "        print('oops')"
   ]
  },
  {
   "cell_type": "code",
   "execution_count": null,
   "id": "8b8d1af4-f581-4d21-82b7-cd39e04e1eab",
   "metadata": {},
   "outputs": [],
   "source": [
    "x, y = 1000, 1000"
   ]
  },
  {
   "cell_type": "code",
   "execution_count": null,
   "id": "f1ee8bd8-7c1b-4e62-827c-bfaad47204aa",
   "metadata": {},
   "outputs": [],
   "source": [
    "id(x), id(y)"
   ]
  },
  {
   "cell_type": "code",
   "execution_count": null,
   "id": "b8a6c788-025b-42f9-852d-819a618e6e68",
   "metadata": {},
   "outputs": [],
   "source": [
    "x = 1000\n",
    "y = 1000\n",
    "id(x), id(y)"
   ]
  },
  {
   "cell_type": "code",
   "execution_count": null,
   "id": "9dd453fc-95b1-4b0d-8edd-93398af485a7",
   "metadata": {},
   "outputs": [],
   "source": [
    "id(200)"
   ]
  },
  {
   "cell_type": "code",
   "execution_count": null,
   "id": "681d32a2-e1a4-4860-ad0f-c783b766df2c",
   "metadata": {},
   "outputs": [],
   "source": [
    "id(2500)"
   ]
  },
  {
   "cell_type": "code",
   "execution_count": null,
   "id": "14a738ad-dc4e-4770-8a91-4006abf7f177",
   "metadata": {},
   "outputs": [],
   "source": [
    "list('dog')"
   ]
  },
  {
   "cell_type": "code",
   "execution_count": null,
   "id": "ec5a97c9-126b-426f-91ed-52918cc34b67",
   "metadata": {},
   "outputs": [],
   "source": [
    "list([1, 2, 3])"
   ]
  },
  {
   "cell_type": "code",
   "execution_count": null,
   "id": "b957ca90-3457-473c-80cd-1d7d7e4ef5b4",
   "metadata": {},
   "outputs": [],
   "source": [
    "list1 = [1, 2, 3]\n",
    "list(list1)"
   ]
  },
  {
   "cell_type": "code",
   "execution_count": null,
   "id": "6dfe375a-7a25-4872-b1c6-b76a05d7c12a",
   "metadata": {},
   "outputs": [],
   "source": [
    "import copy"
   ]
  },
  {
   "cell_type": "code",
   "execution_count": null,
   "id": "9c1e9359-fc1f-4499-84b8-262fbf6c4a1a",
   "metadata": {},
   "outputs": [],
   "source": [
    "dir(copy)"
   ]
  },
  {
   "cell_type": "code",
   "execution_count": null,
   "id": "c7305bfd-170b-411e-87ec-4e7395960f4f",
   "metadata": {},
   "outputs": [],
   "source": [
    "help(copy.deepcopy)"
   ]
  },
  {
   "cell_type": "markdown",
   "id": "5ea3d08f-4112-4d5d-88ec-f7a4f5499f6c",
   "metadata": {},
   "source": [
    "## Lab: List Management/Sorting\n",
    "* write a program to read in words\n",
    "* if the word begins with a vowel, put it in \"vowel\" list, otherwise put it in the \"consonant\" list\n",
    "* when the user types \"quit\", stop and print out the sorted list of words that begin with vowels, and the sorted list of words that begin with consonants"
   ]
  },
  {
   "cell_type": "code",
   "execution_count": null,
   "id": "256a4bb1-f1ff-44bc-a63f-74f3fa830b08",
   "metadata": {},
   "outputs": [],
   "source": [
    "# make an empty vowel list (list of that words that begin with a vowel)\n",
    "# make an empty consonant list (list of words beginning with consonant)\""
   ]
  },
  {
   "cell_type": "code",
   "execution_count": null,
   "id": "aaa9e715-12f3-4c89-b42a-297b5d62f28f",
   "metadata": {},
   "outputs": [],
   "source": [
    "word = 'gazornin'"
   ]
  },
  {
   "cell_type": "code",
   "execution_count": null,
   "id": "11a8a3ac-b745-4e33-bad1-7085b9fca90e",
   "metadata": {},
   "outputs": [],
   "source": [
    "word[0]"
   ]
  },
  {
   "cell_type": "code",
   "execution_count": null,
   "id": "a725529b-104d-4d38-a0ea-22f6c53ed86c",
   "metadata": {},
   "outputs": [],
   "source": [
    "word[0:1]"
   ]
  },
  {
   "cell_type": "code",
   "execution_count": null,
   "id": "3ab371a1-389a-42b2-8195-533323106867",
   "metadata": {},
   "outputs": [],
   "source": [
    "word = ''"
   ]
  },
  {
   "cell_type": "code",
   "execution_count": null,
   "id": "f721d0f0-b236-4634-84aa-da7aa929dcfb",
   "metadata": {},
   "outputs": [],
   "source": [
    "word[0]"
   ]
  },
  {
   "cell_type": "code",
   "execution_count": null,
   "id": "6bf87d2c-e9aa-4c9e-95d1-61e1dd764b1c",
   "metadata": {},
   "outputs": [],
   "source": [
    "word[0:1]"
   ]
  },
  {
   "cell_type": "code",
   "execution_count": null,
   "id": "92023dd5-c085-4a23-aee3-0f64ab4a1ee2",
   "metadata": {},
   "outputs": [],
   "source": [
    "word = 'gazornin'\n",
    "word.startswith('gaz')"
   ]
  },
  {
   "cell_type": "code",
   "execution_count": null,
   "id": "8da5e6bb-3562-47d5-9e2d-a8d05c44ece5",
   "metadata": {},
   "outputs": [],
   "source": [
    "''.startswith('whatever')"
   ]
  },
  {
   "cell_type": "code",
   "execution_count": null,
   "id": "2b066161-bf62-41d6-8430-39ac2d47cb64",
   "metadata": {},
   "outputs": [],
   "source": [
    "''[0]"
   ]
  },
  {
   "cell_type": "code",
   "execution_count": null,
   "id": "4af65004-f294-4d53-a4d0-a6aae3b1d7b8",
   "metadata": {},
   "outputs": [],
   "source": [
    "word = 'apple'\n",
    "if word and word[0] == 'a':\n",
    "    print('good')"
   ]
  },
  {
   "cell_type": "code",
   "execution_count": null,
   "id": "3c1a4487-c5ec-4af1-922b-d28f76d1df77",
   "metadata": {},
   "outputs": [],
   "source": [
    "# make an empty vowel list (list of that words that begin with a vowel)\n",
    "# make an empty consonant list (list of words beginning with consonant)\"\n",
    "# read words from the keyboard until 'quit'\n",
    "# for each word\n",
    "#.  if it begins with a vowel:\n",
    "#.     add to vowel list\n",
    "#.  else:\n",
    "#.     add to consonant list"
   ]
  },
  {
   "cell_type": "code",
   "execution_count": null,
   "id": "27a44c1a-0250-4316-9f2f-709a34f829a9",
   "metadata": {},
   "outputs": [],
   "source": [
    "letter = 'j'"
   ]
  },
  {
   "cell_type": "code",
   "execution_count": null,
   "id": "dbb565de-9a11-4538-8aaa-d408594ebc95",
   "metadata": {},
   "outputs": [],
   "source": [
    "letter in 'aeiouAEIOU'"
   ]
  },
  {
   "cell_type": "code",
   "execution_count": null,
   "id": "e0e3a6b9-f646-4cbd-a47f-bb7bbb8287f6",
   "metadata": {},
   "outputs": [],
   "source": [
    "vowels = [] # start with an empty list of (words that begin with) vowels\n",
    "consonants = [] # start with an empty list of consonants\n",
    "\n",
    "# get words until quit...let user enter 1+ words per line\n",
    "while (words := input('Enter some words or \"quit\" to stop: ')) != 'quit':\n",
    "    for word in words.split(): # split to allow user to enter multiple words per line\n",
    "        if word[0] in 'aAeEiIoOuU': \n",
    "            vowels.append(word)\n",
    "        else:\n",
    "            consonants.append(word)\n",
    "        \n",
    "print('vowel words:', ', '.join(sorted(vowels)))\n",
    "print('consonant words:', ', '.join(sorted(consonants)))\n",
    "# lists at this point will not be sorted"
   ]
  },
  {
   "cell_type": "code",
   "execution_count": null,
   "id": "82792b3e-5a82-4500-adcd-56d1b400d37a",
   "metadata": {},
   "outputs": [],
   "source": [
    "%reset -f \n",
    "# removes variables but keeps imports?"
   ]
  },
  {
   "cell_type": "code",
   "execution_count": null,
   "id": "b6d4b3ae-2067-430d-b22b-ae3c2e1fbee9",
   "metadata": {},
   "outputs": [],
   "source": [
    "sorted = []"
   ]
  },
  {
   "cell_type": "code",
   "execution_count": null,
   "id": "47eec831-136a-4f70-9967-359d4599e376",
   "metadata": {},
   "outputs": [],
   "source": [
    "type(sorted)"
   ]
  },
  {
   "cell_type": "code",
   "execution_count": null,
   "id": "1a2a4a10-7762-4fc9-b84c-2fc2c3ddad92",
   "metadata": {},
   "outputs": [],
   "source": [
    "import random"
   ]
  },
  {
   "cell_type": "code",
   "execution_count": null,
   "id": "03d9eced-9461-4803-9ea4-f66b221bfe72",
   "metadata": {},
   "outputs": [],
   "source": [
    "dir()"
   ]
  },
  {
   "cell_type": "code",
   "execution_count": null,
   "id": "c2248609-e563-48cf-b508-9d9b79a6b626",
   "metadata": {},
   "outputs": [],
   "source": [
    "%reset -f"
   ]
  },
  {
   "cell_type": "code",
   "execution_count": null,
   "id": "2bc3d79d-bccd-40c5-bb4b-63304399b06d",
   "metadata": {},
   "outputs": [],
   "source": [
    "dir()"
   ]
  },
  {
   "cell_type": "code",
   "execution_count": null,
   "id": "48a9813d-3b38-4532-bd87-5c317da4c19c",
   "metadata": {},
   "outputs": [],
   "source": [
    "'apple'.split()"
   ]
  },
  {
   "cell_type": "code",
   "execution_count": null,
   "id": "8be02525-25fd-4cbf-9251-b42e1255b58f",
   "metadata": {},
   "outputs": [],
   "source": [
    "'apple fig pear'.split()"
   ]
  },
  {
   "cell_type": "code",
   "execution_count": null,
   "id": "39fb3900-f7e0-45e9-a160-c1cbfdc08730",
   "metadata": {},
   "outputs": [],
   "source": [
    "list('apple')"
   ]
  },
  {
   "cell_type": "code",
   "execution_count": null,
   "id": "5541f211-ad7f-4472-8fb7-719adae977ae",
   "metadata": {},
   "outputs": [],
   "source": [
    "''[0]"
   ]
  },
  {
   "cell_type": "code",
   "execution_count": null,
   "id": "55f90c81-ce56-4b2c-9dc8-5d1c0bcd2870",
   "metadata": {},
   "outputs": [],
   "source": [
    "''.split()"
   ]
  },
  {
   "cell_type": "code",
   "execution_count": null,
   "id": "fdbe69a3-976e-483e-9c24-9c5b05d34ac9",
   "metadata": {},
   "outputs": [],
   "source": [
    "stuff = 'apple fig pear'.split()"
   ]
  },
  {
   "cell_type": "code",
   "execution_count": null,
   "id": "59d38e9c-8f8f-4a61-b154-3a5d5d4b70e1",
   "metadata": {},
   "outputs": [],
   "source": [
    "print('apple' + ', ' + 'fig' + ', ' + 'pear')"
   ]
  },
  {
   "cell_type": "code",
   "execution_count": null,
   "id": "8f1a2e1a-626a-4c28-8827-db8cf7ffdd61",
   "metadata": {},
   "outputs": [],
   "source": [
    "stuff"
   ]
  },
  {
   "cell_type": "code",
   "execution_count": null,
   "id": "8de46795-2e4a-463a-84f2-5cdb1a4357d5",
   "metadata": {},
   "outputs": [],
   "source": [
    "print('\\n'.join(stuff))"
   ]
  },
  {
   "cell_type": "code",
   "execution_count": null,
   "id": "07a77ace-54cd-4672-927b-114196dd471a",
   "metadata": {},
   "outputs": [],
   "source": [
    "# use continue to avoid problems with empty input\n",
    "\n",
    "vowels = [] # start with an empty list of (words that begin with) vowels\n",
    "consonants = [] # start with an empty list of consonants\n",
    "\n",
    "# let's go back to one word per line\n",
    "while True:\n",
    "    word = input('Enter some words or \"quit\" to stop: ')\n",
    "    if word == 'quit':\n",
    "        break\n",
    "    if not word: # the string 'word' is empty\n",
    "        continue\n",
    "    # let's check every character in the word\n",
    "    # if we find ANY character that is not alphabet and not a space\n",
    "    # we break thereby skipping the else clause\n",
    "    for letter in word:\n",
    "        if not letter.isalpha() and letter != ' ':\n",
    "            print('invalid word:', word)\n",
    "            break\n",
    "    # if all letters were alphabetic or space we would have exited the for loop normally\n",
    "    # ...and then we run the code in the else clause below\n",
    "    else:\n",
    "        if word[0] in 'aAeEiIoOuU': \n",
    "            vowels.append(word)\n",
    "        else:\n",
    "            consonants.append(word)\n",
    "        \n",
    "print('vowel words:', ', '.join(sorted(vowels)))\n",
    "print('consonant words:', ', '.join(sorted(consonants)))\n",
    "# lists at this point will not be sorted"
   ]
  },
  {
   "cell_type": "code",
   "execution_count": null,
   "id": "1174bed9-5914-423c-8c4f-8d3ae8b1f9c5",
   "metadata": {},
   "outputs": [],
   "source": [
    "# Kevin suggested we check alphabetic after removing any spaces which may be in the string\n",
    "# use continue to avoid problems with empty input\n",
    "\n",
    "vowels = [] # start with an empty list of (words that begin with) vowels\n",
    "consonants = [] # start with an empty list of consonants\n",
    "\n",
    "# let's go back to one word per line\n",
    "while True:\n",
    "    word = input('Enter some words or \"quit\" to stop: ')\n",
    "    if word == 'quit':\n",
    "        break\n",
    "    if not word: # the string 'word' is empty\n",
    "        continue\n",
    "    # we will not only remove spaces, but also hypens so that hyphenated words are OK\n",
    "    if not word.replace(' ', '').replace('-', '').isalpha():\n",
    "        print('invalid word:', word)\n",
    "        continue\n",
    "    if word[0] in 'aAeEiIoOuU': \n",
    "        vowels.append(word)\n",
    "    else:\n",
    "        consonants.append(word)\n",
    "        \n",
    "print('vowel words:', ', '.join(sorted(vowels)))\n",
    "print('consonant words:', ', '.join(sorted(consonants)))\n",
    "# lists at this point will not be sorted"
   ]
  },
  {
   "cell_type": "code",
   "execution_count": null,
   "id": "a7629395-b3b4-4899-92bf-8566e77b1c00",
   "metadata": {},
   "outputs": [],
   "source": [
    "'ice cream'.replace(' ', '')"
   ]
  },
  {
   "cell_type": "code",
   "execution_count": null,
   "id": "d53c82da-b180-4823-900d-595cdf0cd5a3",
   "metadata": {},
   "outputs": [],
   "source": [
    "d = {}"
   ]
  },
  {
   "cell_type": "code",
   "execution_count": null,
   "id": "2a2406ab-e9a2-4de2-a488-8d65c353d166",
   "metadata": {},
   "outputs": [],
   "source": [
    "type(d)"
   ]
  },
  {
   "cell_type": "code",
   "execution_count": null,
   "id": "e981aec0-4ced-496d-b65b-ce201de844f7",
   "metadata": {},
   "outputs": [],
   "source": [
    "d['Matt'] = 'engr'"
   ]
  },
  {
   "cell_type": "code",
   "execution_count": null,
   "id": "1bfa5354-55f1-4612-a882-4c2e50e5bc46",
   "metadata": {},
   "outputs": [],
   "source": [
    "d['Janice'] = 301"
   ]
  },
  {
   "cell_type": "code",
   "execution_count": null,
   "id": "98f7ed49-8d0e-4b18-8e32-a96a4832593f",
   "metadata": {},
   "outputs": [],
   "source": [
    "d['Gloria'] = 'qa'"
   ]
  },
  {
   "cell_type": "code",
   "execution_count": null,
   "id": "76a39642-c1bf-4507-9e57-6cb4f4c37a0a",
   "metadata": {},
   "outputs": [],
   "source": [
    "d"
   ]
  },
  {
   "cell_type": "code",
   "execution_count": null,
   "id": "f16a0a28-b331-4300-a891-69bedd34bcd0",
   "metadata": {},
   "outputs": [],
   "source": [
    "d['Janice'] = 444"
   ]
  },
  {
   "cell_type": "code",
   "execution_count": null,
   "id": "58aa1b9c-f482-4217-bf10-c9a664e85a39",
   "metadata": {},
   "outputs": [],
   "source": [
    "d"
   ]
  },
  {
   "cell_type": "code",
   "execution_count": null,
   "id": "3656e522-c698-4a93-831e-e49d34dff3ae",
   "metadata": {},
   "outputs": [],
   "source": [
    "d['Janice'] = ['engr', 'qa']"
   ]
  },
  {
   "cell_type": "code",
   "execution_count": null,
   "id": "51c34163-cd1b-4442-94bf-61971fcb017d",
   "metadata": {},
   "outputs": [],
   "source": [
    "d"
   ]
  },
  {
   "cell_type": "code",
   "execution_count": null,
   "id": "ebcbc75e-b6f4-4ac5-8b14-48a588cd5abb",
   "metadata": {},
   "outputs": [],
   "source": [
    "print(d)"
   ]
  },
  {
   "cell_type": "code",
   "execution_count": null,
   "id": "716adb24-acf8-4bed-8c91-a291ba8b8177",
   "metadata": {},
   "outputs": [],
   "source": [
    "roman_to_arabic = {\n",
    "    'M': 1000,\n",
    "    'D': 500,\n",
    "    'C': 100,\n",
    "    'L': 50,\n",
    "    'X': 10,\n",
    "    'V': 5,\n",
    "    'I': 1\n",
    "}"
   ]
  },
  {
   "cell_type": "markdown",
   "id": "f2c27b74-e8ec-4511-afa8-bb4e4d975799",
   "metadata": {},
   "source": [
    "## Lab: Roman Numerals\n",
    "* write a program that converts Roman numerals to Arabic numerals\n",
    "* use a dictionary where the keys are Roman numerals and the values are Arabic numerals\n",
    "* __`M = 1000, D = 500, C = 100, L = 50, X = 10, V = 5, I = 1`__\n",
    "* for example, __`MDCLXVI`__ would be __`1000 + 500 + 100 + 50 + 10 + 5 + 1 = 1666`__\n",
    "* once you get that working, think about this additional wrinkle:\n",
    "  * if a smaller value precedes a larger value, then the correct thing to do is to subtract the smaller value from the larger value\n",
    "  * e.g., __`IX = 10 - 1 = 9`__\n",
    "  * e.g., __`MCM = 1000 + (1000 - 100) = 1900`__"
   ]
  },
  {
   "cell_type": "code",
   "execution_count": null,
   "id": "e0663597-5907-41b6-ba68-6c329bf93aaf",
   "metadata": {},
   "outputs": [],
   "source": [
    "# step 1: read a Roman numeral\n",
    "# step 1a: create a running total variable\n",
    "# step 2: for each digit of the Roman numeral\n",
    "#.    look it up in the dict to find Arabic equivalent\n",
    "#     add that Arabic equivalent to the running total\n",
    "# step 3: print out running total # MCLX"
   ]
  },
  {
   "cell_type": "code",
   "execution_count": null,
   "id": "0ec6e9e5-c5f6-4491-b837-c8caf97e4495",
   "metadata": {},
   "outputs": [],
   "source": [
    "roman_to_arabic = {\n",
    "    'M': 1000,\n",
    "    'D': 500,\n",
    "    'C': 100,\n",
    "    'L': 50,\n",
    "    'X': 10,\n",
    "    'V': 5,\n",
    "    'I': 1\n",
    "}\n",
    "\n",
    "roman = input('Enter a Roman numeral: ') # step 1\n",
    "total = 0 # step 1a\n",
    "\n",
    "# what could go wrong here?\n",
    "for digit in roman: # step 2\n",
    "    total += roman_to_arabic[digit]\n",
    "\n",
    "print(total) # step 3"
   ]
  },
  {
   "cell_type": "code",
   "execution_count": null,
   "id": "e4965a2c-e80e-45a7-a25f-257990a56259",
   "metadata": {},
   "outputs": [],
   "source": [
    "roman = input('Enter a Roman numeral: ') # step 1\n",
    "total = 0 # step 1a\n",
    "\n",
    "for digit in roman: # step 2\n",
    "    if digit in roman_to_arabic: # is it a valid Roman digit?\n",
    "        total += roman_to_arabic[digit]\n",
    "    else:\n",
    "        print('Bad Roman digit:', digit)\n",
    "        break\n",
    "else:\n",
    "    print(total) # step 3\n",
    "\n",
    "# MCMXCIX\n",
    "# look at each digit\n",
    "# Pass 1: put its Arabic value into a list, like so:\n",
    "# [ 1000, 100, 1000, 10, 100, 1, 10 ]\n",
    "# Pass 2: look at each pair of numbers\n",
    "# if you find a number that is smaller than its neighbor (to the right), make it negatvie\n",
    "# [ 1000, -100, 1000, -10, 100, -1, 10 ]\n",
    "# sum up all the numbers in the list"
   ]
  },
  {
   "cell_type": "code",
   "execution_count": null,
   "id": "85d68942-ee9b-4061-9e5d-7dca118b3a1f",
   "metadata": {
    "tags": []
   },
   "outputs": [],
   "source": [
    "# Now let's consider \"subtraction\"\n",
    "# 1. make an empty list which will hold Arabic values\n",
    "# 2. Get Roman numeral\n",
    "# Pass 1\n",
    "# 3. for each Roman digit:\n",
    "#.  3a. add Arabic equivalent to the list\n",
    "# Pass 2\n",
    "# 4. for each element of the list\n",
    "#   4a. if element < element next to it (index + 1)\n",
    "#.       4b. make the element negative\n",
    "# 5. sum up values in list and print out result\n",
    "# (we can use the built-in sum function for this, or make our own loop and total it up)\n",
    "\n",
    "arabic_values = [] # step 1\n",
    "roman = input('Enter a Roman numeral: ') # step 2\n",
    "\n",
    "# Pass 1\n",
    "for digit in roman: # step 3\n",
    "    arabic_values.append(roman_to_arabic[digit]) # step 3a\n",
    "\n",
    "# debug\n",
    "print(arabic_values)\n",
    "\n",
    "# Pass 2\n",
    "for index in range(len(arabic_values) - 1): # step 4\n",
    "    # ...the -1 is becauase we don't look at the last value since there is no \"neighbor\"\n",
    "    if arabic_values[index] < arabic_values[index + 1]: # step 4a\n",
    "        arabic_values[index] = -arabic_values[index]\n",
    "\n",
    "# debug\n",
    "print(arabic_values)\n",
    "print(sum(arabic_values)) # step 5"
   ]
  },
  {
   "cell_type": "code",
   "execution_count": null,
   "id": "3c679292-4aa7-440c-b2bc-8a621c039412",
   "metadata": {},
   "outputs": [],
   "source": [
    "x = 5"
   ]
  },
  {
   "cell_type": "code",
   "execution_count": null,
   "id": "93025d8c-3e92-4dd4-be8b-38e529b369d5",
   "metadata": {},
   "outputs": [],
   "source": [
    "-x"
   ]
  },
  {
   "cell_type": "code",
   "execution_count": null,
   "id": "0925783c-3b3f-4034-bd75-b620dc93dbca",
   "metadata": {},
   "outputs": [],
   "source": [
    "import random"
   ]
  },
  {
   "cell_type": "code",
   "execution_count": null,
   "id": "7b161010-5452-4d0c-bdbf-75b9dd220913",
   "metadata": {},
   "outputs": [],
   "source": [
    "numbers = []\n",
    "for times in range(1000):\n",
    "    numbers.append(random.randint(1, 1000))\n",
    "print(numbers)"
   ]
  },
  {
   "cell_type": "code",
   "execution_count": null,
   "id": "6dc45946-332e-4a27-8cdf-06cd4c491403",
   "metadata": {},
   "outputs": [],
   "source": [
    "check_for_val = 764\n",
    "for index in range(len(numbers)): # 0..999\n",
    "    if numbers[index] == check_for_val:\n",
    "        break"
   ]
  },
  {
   "cell_type": "code",
   "execution_count": null,
   "id": "6346a413-fea4-4d01-9b02-0f72f759f3fe",
   "metadata": {},
   "outputs": [],
   "source": [
    "if index == len(numbers) - 1:\n",
    "    if numbers[index] != check_for_val:\n",
    "        index = -1"
   ]
  },
  {
   "cell_type": "code",
   "execution_count": null,
   "id": "475d7947-697e-41ef-a5d2-530cf36e9765",
   "metadata": {},
   "outputs": [],
   "source": [
    "index"
   ]
  },
  {
   "cell_type": "code",
   "execution_count": null,
   "id": "602bfba0-2e4f-4a2f-b5a3-44984b9076c5",
   "metadata": {},
   "outputs": [],
   "source": [
    "# OPT: Old Programmer Trick\n",
    "numbers.append(check_for_val)"
   ]
  },
  {
   "cell_type": "code",
   "execution_count": null,
   "id": "073f4959-0592-452b-9613-2a45ab86de12",
   "metadata": {},
   "outputs": [],
   "source": [
    "print(numbers)"
   ]
  },
  {
   "cell_type": "code",
   "execution_count": null,
   "id": "b3218f00-b0a1-426c-aa6d-22e405781e79",
   "metadata": {},
   "outputs": [],
   "source": [
    "check_for_val = 764\n",
    "for index in range(len(numbers)): # 0..999\n",
    "    if numbers[index] == check_for_val:\n",
    "        break"
   ]
  },
  {
   "cell_type": "code",
   "execution_count": null,
   "id": "a4f6bde9-29ff-49d0-9273-dca51c68253b",
   "metadata": {},
   "outputs": [],
   "source": [
    "index"
   ]
  },
  {
   "cell_type": "code",
   "execution_count": null,
   "id": "4d026b3b-8641-44cb-9514-7e225217b1b3",
   "metadata": {},
   "outputs": [],
   "source": [
    "# Now let's simplify off-by-one/fall off the end \"problem\"\n",
    "# Now let's consider \"subtraction\"\n",
    "# 1. make an empty list which will hold Arabic values\n",
    "# 2. Get Roman numeral\n",
    "# Pass 1\n",
    "# 3. for each Roman digit:\n",
    "#.  3a. add Arabic equivalent to the list\n",
    "# Pass 2\n",
    "# 4. for each element of the list\n",
    "#   4a. if element < element next to it (index + 1)\n",
    "#.       4b. make the element negative\n",
    "# 5. sum up values in list and print out result\n",
    "# (we can use the built-in sum function for this, or make our own loop and total it up)\n",
    "\n",
    "arabic_values = [] # step 1\n",
    "roman = input('Enter a Roman numeral: ') # step 2\n",
    "\n",
    "# Pass 1\n",
    "for digit in roman: # step 3\n",
    "    arabic_values.append(roman_to_arabic[digit]) # step 3a\n",
    "    \n",
    "# deliberately extra value that we can use to not fall off the end\n",
    "arabic_values.append(0)\n",
    "\n",
    "# debug\n",
    "print(arabic_values)\n",
    "\n",
    "# Pass 2\n",
    "for index in range(len(roman)): # step 4\n",
    "    # ...the -1 is becauase we don't look at the last value since there is no \"neighbor\"\n",
    "    if arabic_values[index] < arabic_values[index + 1]: # step 4a\n",
    "        arabic_values[index] = -arabic_values[index]\n",
    "\n",
    "# debug\n",
    "print(arabic_values)\n",
    "print(sum(arabic_values)) # step 5"
   ]
  },
  {
   "cell_type": "code",
   "execution_count": null,
   "id": "692e38f2-d4d5-4361-b602-5d48704312f0",
   "metadata": {},
   "outputs": [],
   "source": [
    "help('for')"
   ]
  },
  {
   "cell_type": "code",
   "execution_count": null,
   "id": "f64e3afb-a9c5-4dc3-8aaf-ba039db60687",
   "metadata": {},
   "outputs": [],
   "source": [
    "for i in range(1, 15, 3):\n",
    "    print(i)      "
   ]
  },
  {
   "cell_type": "code",
   "execution_count": null,
   "id": "c7bc95fa-233e-46ad-9587-78c72c77d227",
   "metadata": {},
   "outputs": [],
   "source": [
    "# Java/C/C++-ish for loop\n",
    "for i = 0; i < 10; i++ {\n",
    "    if something interesting happens {\n",
    "        i++;\n",
    "    }\n",
    "}"
   ]
  },
  {
   "cell_type": "code",
   "execution_count": null,
   "id": "e57a62f6-eae7-46d0-bbbc-a981b7c08d72",
   "metadata": {},
   "outputs": [],
   "source": [
    "d"
   ]
  },
  {
   "cell_type": "code",
   "execution_count": null,
   "id": "970be06d-470b-4e08-a7ef-54bd2083e2ea",
   "metadata": {},
   "outputs": [],
   "source": [
    "import math\n",
    "sqrt_2 = math.sqrt(2)"
   ]
  },
  {
   "cell_type": "code",
   "execution_count": null,
   "id": "ac1fa2d9-899a-4b17-92f7-4f1bbfaa704d",
   "metadata": {},
   "outputs": [],
   "source": [
    "sqrt_2"
   ]
  },
  {
   "cell_type": "code",
   "execution_count": null,
   "id": "6a0c35f4-cc48-4efc-9645-2bcf5d272121",
   "metadata": {},
   "outputs": [],
   "source": [
    "quotient, remainder = divmod(13, 4)"
   ]
  },
  {
   "cell_type": "code",
   "execution_count": null,
   "id": "97503705-7d3f-4e3e-b886-e2f120b16d1f",
   "metadata": {},
   "outputs": [],
   "source": [
    "quotient"
   ]
  },
  {
   "cell_type": "code",
   "execution_count": null,
   "id": "d89fc89b-6d41-4d25-af67-b5b355c8afe3",
   "metadata": {},
   "outputs": [],
   "source": [
    "remainder"
   ]
  },
  {
   "cell_type": "code",
   "execution_count": null,
   "id": "d5a42cc7-4cd3-4257-a4f8-0869f0fe69a2",
   "metadata": {},
   "outputs": [],
   "source": [
    "help(sum)"
   ]
  },
  {
   "cell_type": "code",
   "execution_count": null,
   "id": "a583fbe1-d92b-4494-ae94-eb5b2b6caa46",
   "metadata": {},
   "outputs": [],
   "source": [
    "sum([1, 2, 3])"
   ]
  },
  {
   "cell_type": "code",
   "execution_count": null,
   "id": "0c8d6627-be08-48a0-a254-24b756f7544c",
   "metadata": {},
   "outputs": [],
   "source": [
    "sum([1, 2, 3], start=4)"
   ]
  },
  {
   "cell_type": "code",
   "execution_count": null,
   "id": "3d4c2720-a2ed-4a75-8bec-d083dac1ea5f",
   "metadata": {},
   "outputs": [],
   "source": [
    "sum([1.2, 2.3, 3.4])"
   ]
  },
  {
   "cell_type": "code",
   "execution_count": null,
   "id": "c609bcb1-86d2-4f4f-a9f6-ff0fcceb1c48",
   "metadata": {},
   "outputs": [],
   "source": [
    "sum(['this', 'that', 'other'], start='')"
   ]
  },
  {
   "cell_type": "code",
   "execution_count": null,
   "id": "364d0ad8-d716-4618-a34b-9b29abdb0d4a",
   "metadata": {
    "tags": []
   },
   "outputs": [],
   "source": [
    "2 * 'this'"
   ]
  },
  {
   "cell_type": "code",
   "execution_count": null,
   "id": "8b053547-f319-4ccc-b289-ffef9bf0ed66",
   "metadata": {},
   "outputs": [],
   "source": [
    "sorted('blah')"
   ]
  },
  {
   "cell_type": "code",
   "execution_count": null,
   "id": "79922320-a2b9-409d-8f08-58d7b92350e3",
   "metadata": {},
   "outputs": [],
   "source": [
    "sorted([1, 5, 3, -1, 3, 7])"
   ]
  },
  {
   "cell_type": "code",
   "execution_count": null,
   "id": "140e7294-398d-402b-a32b-7742d55b0cfd",
   "metadata": {},
   "outputs": [],
   "source": [
    "sorted({'tall': 12, 'grande': 16, 'venti': 20})"
   ]
  },
  {
   "cell_type": "code",
   "execution_count": null,
   "id": "9c4f5389-94ac-4484-880e-e5321308719d",
   "metadata": {},
   "outputs": [],
   "source": [
    "def iterate(container):\n",
    "    # this function is duck-typed, i.e., it does not expect an object of a certain type\n",
    "    # instead, it expects an object that is \"iterable\"\n",
    "    for thing in container:\n",
    "        print(thing)"
   ]
  },
  {
   "cell_type": "code",
   "execution_count": null,
   "id": "40e02f74-7584-492e-afa0-c70e624a8384",
   "metadata": {},
   "outputs": [],
   "source": [
    "iterate('string')"
   ]
  },
  {
   "cell_type": "code",
   "execution_count": null,
   "id": "79925a98-0e9e-42c2-b160-00a47ac01ea4",
   "metadata": {},
   "outputs": [],
   "source": [
    "cups = {'tall': 12, 'grande': 16, 'venti': 20}\n",
    "type(cups)"
   ]
  },
  {
   "cell_type": "code",
   "execution_count": null,
   "id": "9607f629-5c64-43cd-b9a1-1a2b36b4ab1e",
   "metadata": {},
   "outputs": [],
   "source": [
    "iterate(cups)"
   ]
  },
  {
   "cell_type": "code",
   "execution_count": null,
   "id": "59e3c202-916e-44a9-996c-be83f77eb33b",
   "metadata": {
    "tags": []
   },
   "outputs": [],
   "source": [
    "iterate([1, 5, 3, -1, 3, 7])"
   ]
  },
  {
   "cell_type": "code",
   "execution_count": null,
   "id": "ebc8f331-d8c2-4e7b-8e9a-4ee7f768cfa5",
   "metadata": {},
   "outputs": [],
   "source": [
    "iterate(3)"
   ]
  },
  {
   "cell_type": "code",
   "execution_count": null,
   "id": "c426d745-9379-401a-8841-10c25ef93d93",
   "metadata": {},
   "outputs": [],
   "source": [
    "mylist = [1, 2, 3]"
   ]
  },
  {
   "cell_type": "code",
   "execution_count": null,
   "id": "4c17b552-c2c2-4f54-bed4-a2c430a58204",
   "metadata": {},
   "outputs": [],
   "source": [
    "print(1, 2, 3, 4)"
   ]
  },
  {
   "cell_type": "code",
   "execution_count": null,
   "id": "f0c923d6-2b86-49b5-86ef-31f98a69e532",
   "metadata": {},
   "outputs": [],
   "source": [
    "print(1, 2, 3, sep='+++')"
   ]
  },
  {
   "cell_type": "code",
   "execution_count": null,
   "id": "3a78af7a-66a7-4f11-825f-e7827226ff61",
   "metadata": {},
   "outputs": [],
   "source": [
    "def count(upto): # upto is the parameter/argument to the function\n",
    "    for number in range(1, upto + 1):\n",
    "        print(number)"
   ]
  },
  {
   "cell_type": "code",
   "execution_count": null,
   "id": "5f29910e-48e9-4bf0-9eac-9e28bd889e73",
   "metadata": {},
   "outputs": [],
   "source": [
    "id(count)"
   ]
  },
  {
   "cell_type": "code",
   "execution_count": null,
   "id": "c2e02e3a-e38c-48e7-aeb7-13bf63278cdd",
   "metadata": {},
   "outputs": [],
   "source": [
    "count(5)"
   ]
  },
  {
   "cell_type": "code",
   "execution_count": null,
   "id": "2ccaf6d3-23d9-4c0b-bbc7-3086f0bf497d",
   "metadata": {},
   "outputs": [],
   "source": [
    "count(3)"
   ]
  },
  {
   "cell_type": "code",
   "execution_count": null,
   "id": "6e13914c-3cc8-46e9-8a39-7938f5749676",
   "metadata": {},
   "outputs": [],
   "source": [
    "count(0)"
   ]
  },
  {
   "cell_type": "code",
   "execution_count": null,
   "id": "25965cd5-bc54-4bad-b6f1-bc526e942579",
   "metadata": {},
   "outputs": [],
   "source": [
    "def last_name_first(name): # \"Bruce Lee\" => \"Lee, Bruce\"\n",
    "    first, last = name.split() # assuming that name can be split into EXACTLY 2 words\n",
    "    return last + ', ' + first"
   ]
  },
  {
   "cell_type": "code",
   "execution_count": null,
   "id": "09f8b0aa-1aad-439e-b2c1-524d0637945b",
   "metadata": {},
   "outputs": [],
   "source": [
    "list(\"Bruce Lee\")"
   ]
  },
  {
   "cell_type": "code",
   "execution_count": null,
   "id": "3db2ff68-a371-4a55-a132-38ebbacc445a",
   "metadata": {},
   "outputs": [],
   "source": [
    "first, last = \"Bruce Lee\".split()"
   ]
  },
  {
   "cell_type": "code",
   "execution_count": null,
   "id": "e9cd04a1-ddb1-4b81-8935-0dd82024feba",
   "metadata": {},
   "outputs": [],
   "source": [
    "first"
   ]
  },
  {
   "cell_type": "code",
   "execution_count": null,
   "id": "b832865f-e7a0-4126-a87d-f3a125ccd1cd",
   "metadata": {},
   "outputs": [],
   "source": [
    "last"
   ]
  },
  {
   "cell_type": "code",
   "execution_count": null,
   "id": "d34aae5b-5018-4fbc-943d-ecfcc07f4846",
   "metadata": {},
   "outputs": [],
   "source": [
    "last + ', ' + first"
   ]
  },
  {
   "cell_type": "code",
   "execution_count": null,
   "id": "ed5a0e40-e1a0-4d7c-8ca7-97aad56aadb0",
   "metadata": {},
   "outputs": [],
   "source": [
    "last_name_first('Grace Hopper')"
   ]
  },
  {
   "cell_type": "code",
   "execution_count": null,
   "id": "bf2f0272-ad62-4f45-9ed7-131f23836e2b",
   "metadata": {},
   "outputs": [],
   "source": [
    "last_name_first('Bob Ross', 'Grace Hopper')"
   ]
  },
  {
   "cell_type": "code",
   "execution_count": null,
   "id": "da00828f-05ed-4bcf-847a-de75c89b7e13",
   "metadata": {},
   "outputs": [],
   "source": [
    "def replicator(string, count):\n",
    "    return string * count"
   ]
  },
  {
   "cell_type": "code",
   "execution_count": null,
   "id": "2bd4ff88-3a5a-41ba-aea7-6a579527e960",
   "metadata": {},
   "outputs": [],
   "source": [
    "replicator('stuff', 5)"
   ]
  },
  {
   "cell_type": "code",
   "execution_count": null,
   "id": "c6f7cea1-1b0e-4fe8-a797-703b5b51ff4f",
   "metadata": {},
   "outputs": [],
   "source": [
    "replicator(2, 5)"
   ]
  },
  {
   "cell_type": "code",
   "execution_count": null,
   "id": "5291033c-fbca-41da-a6fd-8902445a97ae",
   "metadata": {},
   "outputs": [],
   "source": [
    "def blah(string, count):\n",
    "    print(string, 'and', count)"
   ]
  },
  {
   "cell_type": "code",
   "execution_count": null,
   "id": "4171e6c4-2271-4f88-8f73-685825cabb8a",
   "metadata": {},
   "outputs": [],
   "source": [
    "blah('this', 2)"
   ]
  },
  {
   "cell_type": "code",
   "execution_count": null,
   "id": "2bce1861-d612-4375-874f-f86733ac1d36",
   "metadata": {},
   "outputs": [],
   "source": [
    "ok = False"
   ]
  },
  {
   "cell_type": "code",
   "execution_count": null,
   "id": "52ac6b99-e00b-4fee-a72f-d1289d1cb2be",
   "metadata": {},
   "outputs": [],
   "source": [
    "type(ok)"
   ]
  },
  {
   "cell_type": "code",
   "execution_count": null,
   "id": "27fe3b09-e499-43b7-9a9b-a5fe89aa0d87",
   "metadata": {},
   "outputs": [],
   "source": [
    "x = 2\n",
    "y = 3\n",
    "# ...\n",
    "if x + y == 5: # Boolean expression\n",
    "    print('equal')"
   ]
  },
  {
   "cell_type": "code",
   "execution_count": null,
   "id": "ee2ed101-290e-4371-9a19-1a61966153fd",
   "metadata": {},
   "outputs": [],
   "source": [
    "27 % 2"
   ]
  },
  {
   "cell_type": "code",
   "execution_count": null,
   "id": "3cefb793-b55c-4dc8-89f0-f96ed8d2d41b",
   "metadata": {},
   "outputs": [],
   "source": [
    "27 % 2 == 0"
   ]
  },
  {
   "cell_type": "code",
   "execution_count": null,
   "id": "96f3df27-1104-4c93-8021-207edd5a666e",
   "metadata": {},
   "outputs": [],
   "source": [
    "if math.factorial(5) == 120:\n",
    "    print('yay')"
   ]
  },
  {
   "cell_type": "markdown",
   "id": "f02cfb0c-87d3-451d-a139-d8bcf54db06c",
   "metadata": {},
   "source": [
    "## Lab: Functions\n",
    "* write __max3__, a function to find the maximum of three values (first create a function that finds the maximum of two values and have __max3__ call it)\n",
    "* write a function to sum all of the numbers in a list\n",
    "* write a function which accepts a list as its argument and returns a new list with all of the duplicates removed (e.g., __remove_dupes([3, 1, 2, 3, 1, 3, 3, 4, 1])__ would return [3, 1, 2, 4])\n",
    "* write a function to check whether its string argument is a pangram (i.e., it contains all of the letters of the alphabet)\n",
    "* write a Boolean function which accepts a string argument and indicates whether it is a palindrome (i.e., it reads the same backwards and forwards–e.g., \"radar\")\n",
    " * once you get that, try to make it work even if the string contains spaces, e.g., \"Ten animals I slam in a net\"\n",
    " * try to use slices if you didn't already\n",
    "* refactor our Jumble program to use functions"
   ]
  },
  {
   "cell_type": "code",
   "execution_count": null,
   "id": "ea59e1c2-fe58-4e55-b71c-887e7379d37a",
   "metadata": {},
   "outputs": [],
   "source": [
    "# max3\n",
    "# 3 5 1 ... 1 3 5\n",
    "# 1 3 5 ... \n",
    "# 647 871 673\n",
    "\n",
    "# max2(one, two)\n",
    "# 7 6\n",
    "# if first number greater then second number:\n",
    "#.   return first number\n",
    "# else\n",
    "#.   return second number\n",
    "\n",
    "# max3 using max2\n",
    "# one, two, three\n",
    "# max2(one, two) => the larger of the first two numbers\n",
    "# compute the large of first two numbers using max2\n",
    "# larger = max2(one, two)\n",
    "# final_answer would be max2(larger, third)\n",
    "#\n",
    "# 1. determine the maximum of the first two numbers using max2(), call that max_of_first_two\n",
    "# 2. determine the maximum of max_of_first_two and third number using max2()\n",
    "# 3. return it\n",
    "\n",
    "def max2(one, two):\n",
    "    if one > two:\n",
    "        return one\n",
    "    else:\n",
    "        return two\n",
    "    \n",
    "def max3(one, two, three):\n",
    "    max_of_first_two = max2(one, two)\n",
    "    \n",
    "    return max2(max_of_first_two, three)\n",
    "\n",
    "# now test\n",
    "print(max3(1, 3, -5)) # last one is largest\n",
    "print(max3(1, -5, 3)) # second \"\n",
    "print(max3(-5, 1, 3)) # first \""
   ]
  },
  {
   "cell_type": "code",
   "execution_count": null,
   "id": "ee12c0fe-7761-4b4d-aad5-ae90c50bc92d",
   "metadata": {},
   "outputs": [],
   "source": [
    "max2(4, 4)"
   ]
  },
  {
   "cell_type": "code",
   "execution_count": null,
   "id": "5c0784f9-d481-4ea0-bc08-315779012ea5",
   "metadata": {},
   "outputs": [],
   "source": [
    "# sum all of the numbers in a list\n",
    "# [2, 7, 1, -5, 13, 12, 5, 0]\n",
    "# consider out \"corner cases\"\n",
    "# if fewer than 2 items in list, we can't add the first two\n",
    "# if there are no items in the list we can't even pin our hopes on the first\n",
    "# [] = 0\n",
    "# 0. set running total to 0\n",
    "# 1. for each number in the list:\n",
    "#     2. Add it to total \n",
    "# 3. return the total\n",
    "#\n",
    "# OPT \"old programmer trick\"\n",
    "# 1. add two 0s to the end of the list, ensuring that there are at least two values\n",
    "# (note that you will be changing the list that you are working with)\n",
    "# 2. add first two (which may be the only two) together to get initial sum\n",
    "# 3. for each of the remaining values:\n",
    "#.4.    add them to the running sum\n",
    "# 5. remove the final two 0s that you added so the list is unblemished\n",
    "\n",
    "def sum1(list_of_nums):\n",
    "    total = 0 # running total, set to 0\n",
    "    \n",
    "    for item in list_of_nums: # for each number in the list\n",
    "        total += item # add it to the running total (total = total + item)\n",
    "        \n",
    "    return total\n",
    "\n",
    "def sum2(list_of_nums):\n",
    "    list_of_nums += [0, 0] # add 2 zeroes to ensure there are >= 2 items in list\n",
    "    total = list_of_nums[0] + list_of_nums[1] # running total starts out as the sum of the first two numbers\n",
    "    \n",
    "    for item in list_of_nums[2:]: # skip first two items\n",
    "        total += item\n",
    "    \n",
    "    list_of_nums.pop()\n",
    "    list_of_nums.pop() # remove the two 0s we added\n",
    "    return total\n",
    "\n",
    "# test\n",
    "print(sum1([2, 7, 1, -5, 13, 12, 5, 0]))\n",
    "print(sum2([2, 7, 1, -5, 13, 12, 5, 0]))\n",
    "print(sum1([3]))\n",
    "print(sum2([3]))\n",
    "print(sum1([]))\n",
    "print(sum2([]))"
   ]
  },
  {
   "cell_type": "code",
   "execution_count": null,
   "id": "dbe118d7-01c7-4f16-98bc-ead5c540929e",
   "metadata": {},
   "outputs": [],
   "source": [
    "# [3, 1, 2, 3, 1, 3, 3, 4, 1] => [3, 1, 2, 4]\n",
    "# write a function to generate a new list with dupes removed\n",
    "# 1. start with a new empty list\n",
    "# 2. for each thing in the original list:\n",
    "# 3.   if that thing is not in the new list:\n",
    "# 4.       append it to the new list\n",
    "\n",
    "def remove_dupes(somelist):\n",
    "    new_list = [] # step 1\n",
    "    \n",
    "    for thing in somelist: # step 2\n",
    "        if thing not in new_list:\n",
    "            new_list.append(thing)\n",
    "            \n",
    "    return new_list\n",
    "\n",
    "# test\n",
    "print(remove_dupes([3, 1, 2, 3, 1, 3, 3, 4, 1]))\n",
    "print(remove_dupes([3, 1, 2, 4]))\n",
    "print(remove_dupes([]))"
   ]
  },
  {
   "cell_type": "code",
   "execution_count": null,
   "id": "f2bb4ece-ba14-4950-883d-cc81ceee195d",
   "metadata": {},
   "outputs": [],
   "source": [
    "# Pack my box with five dozen liquor jugs\n",
    "# The wizard quickly jinxed the gnomes before they vaporized\n",
    "# is_pangram(phrase) => True or False, is the phrase a pangram? (Does it contain all of the letters of the alphabet\n",
    "# one way:\n",
    "# Carlos's solutions: go through the alphabet a..z and ensure that that letter appears in the phrase\n",
    "# if any do not, it's not a pangram\n",
    "# way two:\n",
    "\n",
    "import string\n",
    "# from string import ascii_lowercase\n",
    "\n",
    "# Carlos\n",
    "def pangram_Carlos(phrase):\n",
    "    for letter in string.ascii_lowercase: # 'a'..'z'\n",
    "        if letter not in phrase.lower():\n",
    "            return False\n",
    "\n",
    "    return True \n",
    "\n",
    "print(pangram_Carlos('The wizard quickly Jinxed the gnomes before they vaporized'))\n",
    "print(pangram_Carlos('The wizard quickly jinxed the gnomes before they disappeared'))"
   ]
  },
  {
   "cell_type": "code",
   "execution_count": null,
   "id": "6db95dac-0fdf-482e-b89a-f8423a59245c",
   "metadata": {},
   "outputs": [],
   "source": [
    "# Swaraj's solution\n",
    "# 1. make a list of all the letters a..z\n",
    "# 2. go through the phrase and as you see a letter, remove it from the list (if it's there)\n",
    "# when you're done if the list is empty, it's a pangram\n",
    "\n",
    "# way three:\n",
    "# start with an empty list\n",
    "# go thru the phase and add each letter we see to the list (if it's not already there)\n",
    "# when we're done if the list has 26 things in it, it's a pangram\n",
    "\n",
    "def pangram_Swaraj(phrase):\n",
    "    letters = list(string.ascii_lowercase) # step 1\n",
    "    \n",
    "    for char in phrase.lower(): # step 2\n",
    "        if char in string.ascii_lowercase: # or char.isalpha()\n",
    "            if char in letters:\n",
    "                letters.remove(char)\n",
    "                \n",
    "    return len(letters) == 0 # or return not letters\n",
    "\n",
    "print(pangram_Swaraj('The wizard quickly Jinxed the gnomes before they vaporized'))\n",
    "print(pangram_Swaraj('The wizard quickly jinxed the gnomes before they disappeared'))"
   ]
  },
  {
   "cell_type": "code",
   "execution_count": null,
   "id": "754d1756-14ef-44eb-999e-e9816b6679b6",
   "metadata": {
    "tags": []
   },
   "outputs": [],
   "source": [
    "# Kevin's solution: count the number of times each letter appears and if any are 0, NOT a pangram\n",
    "# Matt's addendum to Kevin's solution: use a dict to count each letter...keys are 'a'..'z', and values would be the count\n",
    "\n",
    "def pangram_Kevin_plus_Matt(phrase):\n",
    "    phrase = phrase.lower() # just make it lower case so we don't have to worry about case\n",
    "    \n",
    "    letter_count = {} # create a dict to hold the counts of each letter\n",
    "    \n",
    "    for char in string.ascii_lowercase: # for each character in the phrase (some will be letter, some won't)\n",
    "        letter_count[char] = phrase.count(char)\n",
    "\n",
    "    print('after initialization:', letter_count)\n",
    "\n",
    "    for letter in letter_count:\n",
    "        if letter_count[letter] == 0:\n",
    "            return False\n",
    "    return True\n",
    "\n",
    "print(pangram_Kevin_plus_Matt('The wizard quickly Jinxed the gnomes before they vaporized'))\n",
    "print(pangram_Kevin_plus_Matt('The wizard quickly jinxed the gnomes before they disappeared'))"
   ]
  },
  {
   "cell_type": "code",
   "execution_count": null,
   "id": "38abb2df-5bc0-43cf-8643-af4590793171",
   "metadata": {},
   "outputs": [],
   "source": [
    "# palindrome? Yes or No (True or False), i.e., a Boolean function\n",
    "# Balbir's solution: if the reverse of the string is the same as string, it's a palindrome\n",
    "# (assuming we discard spaces and non letters)\n",
    "# \"racecar\"[::-1] == \"racecar\"\n",
    "def palindrome(phrase):\n",
    "    phrase = phrase.replace(' ', '').lower() # remove spaces and make it lower case\n",
    "    \n",
    "    return phrase == phrase[::-1]\n",
    "\n",
    "# test\n",
    "print(palindrome('Madam'))\n",
    "print(palindrome('racecar'))\n",
    "print(palindrome('Ten animals I slam in a net'))\n",
    "print(palindrome('Ten animals I slam in a tent'))"
   ]
  },
  {
   "cell_type": "code",
   "execution_count": null,
   "id": "26e39030-9cf3-4de7-8ca0-3ed137e79e80",
   "metadata": {},
   "outputs": [],
   "source": [
    "import string"
   ]
  },
  {
   "cell_type": "code",
   "execution_count": null,
   "id": "5c55fcb2-2692-4d5b-8c18-bf7b7385d800",
   "metadata": {},
   "outputs": [],
   "source": [
    "string.__file__ # \"dunder file\""
   ]
  },
  {
   "cell_type": "code",
   "execution_count": null,
   "id": "fbec1622-fca4-4cec-8319-79ba94d51cdd",
   "metadata": {},
   "outputs": [],
   "source": [
    "'\"Here is a string that has more than 1 or 2 or 3 spaces in it\", said Balbir.'.replace(' ', '')"
   ]
  },
  {
   "cell_type": "code",
   "execution_count": null,
   "id": "625e46e2-dc27-458b-8279-f722e546e234",
   "metadata": {},
   "outputs": [],
   "source": [
    "max(5, 6)"
   ]
  },
  {
   "cell_type": "code",
   "execution_count": null,
   "id": "3e93c0ab-6b4b-4e45-97db-412fd81d6c1c",
   "metadata": {},
   "outputs": [],
   "source": [
    "max([5, 6, 7, -1, 18, 23, -9])"
   ]
  },
  {
   "cell_type": "code",
   "execution_count": null,
   "id": "e9258ec5-31f9-4631-93e2-9f29dff791f2",
   "metadata": {},
   "outputs": [],
   "source": [
    "# Let's refactor this Jumble program to utilize functions\n",
    "import random\n",
    "\n",
    "# GLOBAL variables (bad, but never say never...)\n",
    "hints_so_far = 0 # keep track of how many hints we've given the player\n",
    "letter_list = [] # this is the individual letters of the word (so we can scramble)\n",
    "word = '' # this is the chosen word for the user to guess\n",
    "\n",
    "\n",
    "def get_word_list(filename):\n",
    "    # Open a file which contains a list of words and return it.\n",
    "    # Imagine if we didn't know how to do this\n",
    "    # we'll fake it...\n",
    "    #return open(filename).read().split()\n",
    "    return 'recount transform'.split()\n",
    "# PEP-8 suggests 2 blank lines between functions\n",
    "\n",
    "\n",
    "def shuffle_the_word():\n",
    "    # Shuffle the global list of letters which was created from the chosen word.\n",
    "    # Our program is short so we will use the global var letter_list inside this\n",
    "    # function without passing it in, but we will remember that as our programs\n",
    "    # get more complex, this is not a good practice.\n",
    "    global letter_list\n",
    "    \n",
    "    random.shuffle(letter_list) # shuffle the letters\n",
    "\n",
    "    \n",
    "def choose_a_word():\n",
    "    # Pick a word from the global wordlist, but we might think about later when\n",
    "    # have multiple wordlists, then it should be parameterized.\n",
    "    # Return the upper case version of the word.\n",
    "    return random.choice(wordlist).upper()\n",
    "    \n",
    "    \n",
    "def give_user_a_hint():\n",
    "    # we need to keep track of how many hints or the last hint we gave, etc.\n",
    "    # or keep track of the position of the next hint we will show\n",
    "    # notice that that's the same as counting the hints\n",
    "    # hints_so_far could be what we keep track of and that dictates which letter we show\n",
    "    global hints_so_far\n",
    "    \n",
    "    hints_so_far += 1 # we will have given the player one more hint at the next line\n",
    "    print('The first', hints_so_far, 'letters are:', word[:hints_so_far])\n",
    "\n",
    "    \n",
    "def play_the_game():    \n",
    "    while True: # until they quit or get it right\n",
    "        print(''.join(letter_list)) # re-constitute the letters into a scrambled word\n",
    "        user_response = input('Enter your guess (\"q\" to quit, \"h\" for hint, \"s\" to re-shuffle): ').upper()\n",
    "        if user_response == 'Q': # step 6\n",
    "            print('The word was', word)\n",
    "            return\n",
    "        elif user_response == 'H': # step 6a\n",
    "            give_user_a_hint()\n",
    "        elif user_response == 'S': # step 6b\n",
    "            print('Reshuffle!')\n",
    "            shuffle_the_word()\n",
    "        elif user_response == word:\n",
    "            print('You got it!')\n",
    "            return\n",
    "        else:\n",
    "            print('Good guess, but that is not the word!')\n",
    "\n",
    "            \n",
    "wordlist = get_word_list('wordlist.txt') # get the words we will play the game with\n",
    "word = choose_a_word()\n",
    "letter_list = list(word) # list-ify / explode into individual letters\n",
    "shuffle_the_word()\n",
    "play_the_game()"
   ]
  },
  {
   "cell_type": "markdown",
   "id": "42b3e0cf-9675-4c50-8ee9-11355d7a1779",
   "metadata": {},
   "source": [
    "## variables created inside a function and also parameters/arguments are only available inside that function"
   ]
  },
  {
   "cell_type": "code",
   "execution_count": null,
   "id": "b651fd64-fb9f-4a7f-bbde-e7961ab09de9",
   "metadata": {},
   "outputs": [],
   "source": [
    "def f():\n",
    "    a_variable = 'created in f()' # created inside the function\n",
    "    print(a_variable) # available inside the function\n",
    "    # all function variables go away here..."
   ]
  },
  {
   "cell_type": "code",
   "execution_count": null,
   "id": "9c701316-c731-4640-8b9e-4ca33723f86b",
   "metadata": {},
   "outputs": [],
   "source": [
    "f()"
   ]
  },
  {
   "cell_type": "code",
   "execution_count": null,
   "id": "e0af51a3-f7ee-4565-a30b-4b97dd7ae6e6",
   "metadata": {},
   "outputs": [],
   "source": [
    "a_variable"
   ]
  },
  {
   "cell_type": "code",
   "execution_count": null,
   "id": "9a4249fd-6fa6-436c-a32f-49d91dafbdcd",
   "metadata": {},
   "outputs": [],
   "source": [
    "def func(info):\n",
    "    print('the value of info is', info)"
   ]
  },
  {
   "cell_type": "code",
   "execution_count": null,
   "id": "a5049f25-1c18-422d-bfce-dc98fc23d00d",
   "metadata": {},
   "outputs": [],
   "source": [
    "something = 'nothing'"
   ]
  },
  {
   "cell_type": "code",
   "execution_count": null,
   "id": "9dc716af-f5ec-4640-9de0-46a8a0e8d0cb",
   "metadata": {},
   "outputs": [],
   "source": [
    "func(something)"
   ]
  },
  {
   "cell_type": "code",
   "execution_count": null,
   "id": "b7101395-3b7d-488a-b3e8-ef194ee9835c",
   "metadata": {},
   "outputs": [],
   "source": [
    "info"
   ]
  },
  {
   "cell_type": "code",
   "execution_count": null,
   "id": "7675f658-8c75-4ce3-994b-3439f1d134e7",
   "metadata": {},
   "outputs": [],
   "source": [
    "# using the type function e.g., to determine the type of an item in a list\n",
    "mylist = [1, 2, 3, 'four', [5, 6], {}]\n",
    "mylist"
   ]
  },
  {
   "cell_type": "code",
   "execution_count": null,
   "id": "d4e7c6c8-eb8d-4293-8288-84b82225bfc2",
   "metadata": {},
   "outputs": [],
   "source": [
    "for thing in mylist:\n",
    "    print(type(thing))"
   ]
  },
  {
   "cell_type": "code",
   "execution_count": null,
   "id": "651d4b7c-7973-4ace-90fd-5b458281a42b",
   "metadata": {},
   "outputs": [],
   "source": [
    "for thing in mylist:\n",
    "    if type(thing) == str or type(thing) == list:\n",
    "        print(thing, 'is a string or a list')\n",
    "    else:\n",
    "        print(thing)\n",
    "        \n",
    "for thing in mylist:\n",
    "    if type(thing) in [str, list]:\n",
    "        print(thing, 'is a string or a list')\n",
    "    else:\n",
    "        print(thing)"
   ]
  },
  {
   "cell_type": "markdown",
   "id": "c8322a4c-8d01-4dbc-9441-7a44237e5650",
   "metadata": {},
   "source": [
    "## Group Lab: Mastermind/Cows and Bulls Game\n",
    "* your program should generate a 4-digit \"secret\" number, where the digits are  all different\n",
    "* the player tries to guess the number  who gives the number of matches. If the matching digits are in their right positions, they are \"bulls\", if in different positions, they are \"cows\". "
   ]
  },
  {
   "cell_type": "code",
   "execution_count": null,
   "id": "72e60885-8bfc-4dcb-bd6b-6aec349b029c",
   "metadata": {},
   "outputs": [],
   "source": [
    "# 1. generate a 4-digit secret number\n",
    "# 2. until the user says quit, keep playing:\n",
    "# 3.   get the user's guess\n",
    "# 3a.  ensure user's guess is a valid guess\n",
    "#.        len(guess) != 4\n",
    "#.        guess contains non-digits\n",
    "#.        repeated digits\n",
    "# 3b.  if user says quit, then quit\n",
    "# 3c.  if user asks for hint, give them one (figure out what this means)\n",
    "# 4.   determine the number of bulls (correct positions)\n",
    "# 4a.  if number of bulls == 4:\n",
    "#.       they got it right / quit\n",
    "# 5.   determine the number of cows (correct digits in wrong positions)\n",
    "# 6.   tell user number of bulls and cows"
   ]
  },
  {
   "cell_type": "code",
   "execution_count": null,
   "id": "fc0a59ff-5026-4ba9-a64c-5b8a52ede911",
   "metadata": {},
   "outputs": [],
   "source": [
    "def generate_secret_code(num_digits):\n",
    "    # generate 4 digits\n",
    "    # ensure each digit is unique\n",
    "    from random import choice as random_choice # we are free to rename imports to suit our mood\n",
    "    #from string import digits as string_digits # the as clause is optional\n",
    "    \n",
    "    #digits_to_pick_from = list(string_digits)\n",
    "    digits_to_pick_from = list(range(10)) # [ 0, 1, ..., 9 ]\n",
    "    secret_code = []\n",
    "    \n",
    "    # this is not the ideal way to handle such errors, but it's a way...\n",
    "    if num_digits < 2 or num_digits > 10:\n",
    "        print('number of digits must be between 2 and 10')\n",
    "        return secret_code\n",
    "    \n",
    "    for times in range(num_digits):\n",
    "        #print('there are', len(digits_to_pick_from), 'to pick from')\n",
    "        digit = random_choice(digits_to_pick_from)\n",
    "        #print('picked digit', digit)\n",
    "        digits_to_pick_from.remove(digit)\n",
    "        secret_code.append(str(digit)) # at the time we append, let's str-ify it\n",
    "    \n",
    "    return secret_code"
   ]
  },
  {
   "cell_type": "code",
   "execution_count": null,
   "id": "8022dd59-bac0-4f87-8d40-2ba0634845aa",
   "metadata": {},
   "outputs": [],
   "source": [
    "print(generate_secret_code(7))"
   ]
  },
  {
   "cell_type": "code",
   "execution_count": null,
   "id": "94131288-6a67-4516-99ec-490e56358599",
   "metadata": {},
   "outputs": [],
   "source": [
    "dir(random)"
   ]
  },
  {
   "cell_type": "code",
   "execution_count": null,
   "id": "0c6d0e2b-7aa6-42ec-9ea2-35c1bef3df41",
   "metadata": {},
   "outputs": [],
   "source": [
    "help(random.randint)"
   ]
  },
  {
   "cell_type": "code",
   "execution_count": null,
   "id": "d83926f2-2512-45b9-b30e-374c9e51d295",
   "metadata": {},
   "outputs": [],
   "source": [
    "for times in range(50):\n",
    "    print(random.randint(0, 9))"
   ]
  },
  {
   "cell_type": "code",
   "execution_count": null,
   "id": "cdb22fe4-5673-40ea-822a-5438fe6d9160",
   "metadata": {},
   "outputs": [],
   "source": [
    "help(random.choice)"
   ]
  },
  {
   "cell_type": "code",
   "execution_count": null,
   "id": "9de743a5-49d5-44f2-b5fa-3ffc13da3793",
   "metadata": {},
   "outputs": [],
   "source": [
    "# let's test whether a secret code as a list will work\n",
    "# i.e., can we compare it to a string\n",
    "secret_code = ['9', '4', '0', '6']"
   ]
  },
  {
   "cell_type": "code",
   "execution_count": null,
   "id": "027737af-7206-4596-932d-7bdb5315cfe8",
   "metadata": {},
   "outputs": [],
   "source": [
    "secret_code"
   ]
  },
  {
   "cell_type": "code",
   "execution_count": null,
   "id": "a12c111e-e6d8-4068-a339-27eed334ec5a",
   "metadata": {},
   "outputs": [],
   "source": [
    "guess = input('Enter your guess: ')"
   ]
  },
  {
   "cell_type": "code",
   "execution_count": null,
   "id": "4e4db064-d9a4-44a6-8ac8-87afd4833864",
   "metadata": {},
   "outputs": [],
   "source": [
    "guess"
   ]
  },
  {
   "cell_type": "code",
   "execution_count": null,
   "id": "1409058d-b591-469b-93a0-b1b8f64a8009",
   "metadata": {},
   "outputs": [],
   "source": [
    "# looks like we can use indexing to compare each digit even across string and list\n",
    "secret_code[0]"
   ]
  },
  {
   "cell_type": "code",
   "execution_count": null,
   "id": "84a64026-3851-49ed-a553-c1e0976ffc4d",
   "metadata": {},
   "outputs": [],
   "source": [
    "guess[0]"
   ]
  },
  {
   "cell_type": "code",
   "execution_count": null,
   "id": "7337e09c-9e52-4789-a298-4defef34a22c",
   "metadata": {},
   "outputs": [],
   "source": [
    "guess.isdigit()"
   ]
  },
  {
   "cell_type": "code",
   "execution_count": null,
   "id": "753ecd5d-853f-4f5f-b47a-ffa56c661c20",
   "metadata": {},
   "outputs": [],
   "source": [
    "'42.3'.isdigit()"
   ]
  },
  {
   "cell_type": "code",
   "execution_count": null,
   "id": "0385481f-fd6e-438c-a3a8-906ddb1d2b78",
   "metadata": {},
   "outputs": [],
   "source": [
    "guess = '4243'"
   ]
  },
  {
   "cell_type": "code",
   "execution_count": null,
   "id": "6aeff504-48c0-45a8-aac6-56d43530e3e7",
   "metadata": {},
   "outputs": [],
   "source": [
    "digit_box = ''"
   ]
  },
  {
   "cell_type": "code",
   "execution_count": null,
   "id": "7c5092ae-cf0d-4666-a9a1-9372801cdf80",
   "metadata": {},
   "outputs": [],
   "source": [
    "for digit in guess:\n",
    "    if digit in digit_box:\n",
    "        print('bad: duplicate', digit)\n",
    "        break\n",
    "    else:\n",
    "        digit_box += digit"
   ]
  },
  {
   "cell_type": "code",
   "execution_count": null,
   "id": "62eabbfe-731a-4441-a82f-6602e454eae6",
   "metadata": {},
   "outputs": [],
   "source": [
    "import string\n",
    "string.__file__"
   ]
  },
  {
   "cell_type": "code",
   "execution_count": null,
   "id": "ee746461-7380-4904-9d91-6f78e53cfb33",
   "metadata": {},
   "outputs": [],
   "source": [
    "from string import digits as string_digits # the as clause is optional\n",
    "    \n",
    "digits_to_pick_from = list(string_digits)"
   ]
  },
  {
   "cell_type": "code",
   "execution_count": null,
   "id": "8d299f5b-e7ba-4374-8740-ca1d6339f787",
   "metadata": {},
   "outputs": [],
   "source": [
    "digits_to_pick_from"
   ]
  },
  {
   "cell_type": "code",
   "execution_count": null,
   "id": "848877f2-9b4c-4c41-97b3-2721bfc38060",
   "metadata": {},
   "outputs": [],
   "source": [
    "list_of_digits = []\n",
    "\n",
    "for num in range(10): # 0..9\n",
    "    list_of_digits.append(num)"
   ]
  },
  {
   "cell_type": "code",
   "execution_count": null,
   "id": "6c429066-54d6-4eac-92a4-2e036359914f",
   "metadata": {},
   "outputs": [],
   "source": [
    "list_of_digits"
   ]
  },
  {
   "cell_type": "code",
   "execution_count": null,
   "id": "9c40a924-ae88-4297-a588-cfcefd59619c",
   "metadata": {},
   "outputs": [],
   "source": [
    "list(range(10))"
   ]
  },
  {
   "cell_type": "code",
   "execution_count": null,
   "id": "c5b3953d-5ab3-40a3-8fff-ffb99af504b4",
   "metadata": {},
   "outputs": [],
   "source": [
    "list('range') # list-ify this string, i.e., take each element of it, and put it into a list"
   ]
  },
  {
   "cell_type": "code",
   "execution_count": null,
   "id": "1dd93817-f037-4f43-ab8d-a09852b97458",
   "metadata": {},
   "outputs": [],
   "source": [
    "a_list = [1, 2, 3]"
   ]
  },
  {
   "cell_type": "code",
   "execution_count": null,
   "id": "1c5763da-185a-4ea9-9992-f9ff7d35e6aa",
   "metadata": {},
   "outputs": [],
   "source": [
    "a_list.remove(2)"
   ]
  },
  {
   "cell_type": "code",
   "execution_count": null,
   "id": "e588af9d-075e-43dd-9748-616d34c06a29",
   "metadata": {},
   "outputs": [],
   "source": [
    "code = generate_secret_code(4)"
   ]
  },
  {
   "cell_type": "code",
   "execution_count": null,
   "id": "5dfbb1d6-c657-4254-ad02-0bdcd95f299d",
   "metadata": {},
   "outputs": [],
   "source": [
    "code"
   ]
  },
  {
   "cell_type": "code",
   "execution_count": null,
   "id": "6c89fdb0-6fad-461e-bc21-7d5cde7cf6b0",
   "metadata": {},
   "outputs": [],
   "source": [
    "guess = '7152' # this has ONE digit in the correct POSITION (i.e., 1 bull)"
   ]
  },
  {
   "cell_type": "code",
   "execution_count": null,
   "id": "3955f2c1-655c-4ce8-b5ce-bf985d60af79",
   "metadata": {},
   "outputs": [],
   "source": [
    "print(code)\n",
    "print(end=' ')\n",
    "for digit in guess:\n",
    "    print(f'{digit:3s}', end='')"
   ]
  },
  {
   "cell_type": "code",
   "execution_count": null,
   "id": "b12221b1-aca0-425c-9a77-c05400070762",
   "metadata": {
    "tags": []
   },
   "outputs": [],
   "source": [
    "def count_bulls(secret_code, user_guess):\n",
    "    # make a count which we set to 0\n",
    "    # for each item in the secret_code\n",
    "    # compare it to the corresponding item in the guess\n",
    "    # if they are the same, increment the count\n",
    "    # return the count to the caller\n",
    "    \n",
    "    bull_count = 0\n",
    "    \n",
    "    for index in range(len(secret_code)): # 0..3\n",
    "        #print('comparing', secret_code[index], 'with', user_guess[index], end='...')\n",
    "        if secret_code[index] == user_guess[index]:\n",
    "            bull_count += 1\n",
    "            #print('equal')\n",
    "        else:\n",
    "            pass\n",
    "            #print('NOT equal')\n",
    "            \n",
    "    return bull_count"
   ]
  },
  {
   "cell_type": "code",
   "execution_count": null,
   "id": "774bd6e1-f069-42e4-aded-88b91089b6fc",
   "metadata": {},
   "outputs": [],
   "source": [
    "count_bulls(code, guess)"
   ]
  },
  {
   "cell_type": "code",
   "execution_count": null,
   "id": "10066bd8-a474-4d8e-a5f3-b67ffc4bc4f8",
   "metadata": {},
   "outputs": [],
   "source": [
    "'3' == 3"
   ]
  },
  {
   "cell_type": "code",
   "execution_count": null,
   "id": "30d80e4a-6c40-41ed-988b-963761376826",
   "metadata": {},
   "outputs": [],
   "source": [
    "def count_cows(secret_code, user_guess):\n",
    "    # make a count which we set to 0\n",
    "    # for each item in the secret_code\n",
    "    # compare it to all of the items in the guess...\n",
    "    # ...EXCEPT for the item at the index\n",
    "    # if they are the same, increment the count\n",
    "    # return the count to the caller\n",
    "    \n",
    "    cow_count = 0\n",
    "    \n",
    "    for code_index in range(len(secret_code)): # 0..3\n",
    "        for guess_index in range(len(guess)): # 0..3\n",
    "            #print('comparing', secret_code[code_index], 'with', user_guess[guess_index], end='...')\n",
    "            if code_index == guess_index:\n",
    "                #print('skipping check of', code_index, 'and', guess_index)\n",
    "                continue\n",
    "            if secret_code[code_index] == user_guess[guess_index]:\n",
    "                cow_count += 1\n",
    "                #print('equal')\n",
    "            else:\n",
    "                pass # do nothing, but it must be here if there are no other statements\n",
    "                #print('NOT equal')\n",
    "    \n",
    "    return cow_count"
   ]
  },
  {
   "cell_type": "code",
   "execution_count": null,
   "id": "b0bf8765-c658-4518-acd6-e402b74a2e2f",
   "metadata": {},
   "outputs": [],
   "source": [
    "guess = '0182'\n",
    "print(code, guess, sep='\\n')"
   ]
  },
  {
   "cell_type": "code",
   "execution_count": null,
   "id": "256fb33e-a6b4-46d8-a2be-4a10f121c381",
   "metadata": {},
   "outputs": [],
   "source": [
    "count_cows(code, '0182')"
   ]
  },
  {
   "cell_type": "code",
   "execution_count": null,
   "id": "aa8f09d6-b410-402f-8916-d94d5ff5ab3a",
   "metadata": {},
   "outputs": [],
   "source": [
    "def count_bulls_and_cows(secret_code, user_guess):\n",
    "    # ....\n",
    "    \n",
    "    return bull_count, cow_count"
   ]
  },
  {
   "cell_type": "code",
   "execution_count": null,
   "id": "b4076e84-5c1f-4775-b752-170de3b4cd6a",
   "metadata": {},
   "outputs": [],
   "source": [
    "divmod(17, 5)"
   ]
  },
  {
   "cell_type": "code",
   "execution_count": null,
   "id": "b8fba152-f00d-4dc8-8d74-cac1521a44ce",
   "metadata": {},
   "outputs": [],
   "source": [
    "# 1. generate a 4-digit secret code\n",
    "# 2. until the user says quit, keep playing:\n",
    "# 3.   get the user's guess\n",
    "# 3a.  ensure user's guess is a valid guess\n",
    "#.        len(guess) != 4\n",
    "#.        guess contains non-digits\n",
    "#.        repeated digits\n",
    "# 3b.  if user says quit, then quit\n",
    "# 3c.  if user asks for hint, give them one (figure out what this means)\n",
    "# 4.   determine the number of bulls (correct positions)\n",
    "# 4a.  if number of bulls == 4:\n",
    "#.       they got it right / quit\n",
    "# 5.   determine the number of cows (correct digits in wrong positions)\n",
    "# 6.   tell user number of bulls and cows"
   ]
  },
  {
   "cell_type": "code",
   "execution_count": null,
   "id": "40176306-0589-4d92-a05d-1fed9674268f",
   "metadata": {},
   "outputs": [],
   "source": [
    "def is_valid_user_guess(guess, num_digits):\n",
    "#     three checks to do:\n",
    "#         length of guess not equal num_digits\n",
    "#.        guess contains non-digits\n",
    "#.        repeated digits (we could count occurrences of each digit and if any > 1, then bad)\n",
    "    if len(guess) != num_digits:\n",
    "        print('Your guess should be', num_digits, 'digits long.')\n",
    "        return False\n",
    "    \n",
    "    if not guess.isdigit(): # \"if guess does NOT consist of only digits\"\n",
    "        print('Your guess should be composed of only digits.')\n",
    "        return False\n",
    "    \n",
    "    for digit in guess: # how do I know there are only digits in the guess here?\n",
    "        if guess.count(digit) > 1:\n",
    "            print('The digit', digit, 'appears more than once, and that is simply not allowed!')\n",
    "            return False\n",
    "        \n",
    "    return True # all 3 of the checks above passed, therefore it's valid"
   ]
  },
  {
   "cell_type": "code",
   "execution_count": null,
   "id": "3171c2c1-0a5d-4029-8962-1b470fd821df",
   "metadata": {},
   "outputs": [],
   "source": [
    "num_digits = 8\n",
    "secret_code = generate_secret_code(num_digits) # step 1\n",
    "\n",
    "# steps 2 and 3\n",
    "print(secret_code)\n",
    "\n",
    "while (guess := input('Enter your guess or \"quit\" to quit: ')) != 'quit':\n",
    "    if not is_valid_user_guess(guess, num_digits): # step 3a\n",
    "        continue\n",
    "    # if we get here, the guess is valid and we can evaluate\n",
    "    bulls = count_bulls(secret_code, guess) # step 4\n",
    "    cows = count_cows(secret_code, guess) # step 5\n",
    "    \n",
    "    if bulls == num_digits: # step 4a\n",
    "        print('You guessed it!')\n",
    "        break\n",
    "    print(bulls, 'bulls and', cows, 'cows')\n",
    "    print(secret_code)"
   ]
  },
  {
   "cell_type": "code",
   "execution_count": null,
   "id": "515c1946-df73-435c-a7e3-e55404dcf203",
   "metadata": {},
   "outputs": [],
   "source": [
    "help(str.isdigit)"
   ]
  },
  {
   "cell_type": "code",
   "execution_count": null,
   "id": "ae9bed7c-b31c-4c15-b7aa-e9537ca6de88",
   "metadata": {},
   "outputs": [],
   "source": [
    "guess = '4378'"
   ]
  },
  {
   "cell_type": "code",
   "execution_count": null,
   "id": "cafab9ba-9b9a-45ef-b557-737b49633b9a",
   "metadata": {},
   "outputs": [],
   "source": [
    "guess"
   ]
  },
  {
   "cell_type": "code",
   "execution_count": null,
   "id": "f723c98e-89d8-47be-b9d0-c85e3bda1afd",
   "metadata": {},
   "outputs": [],
   "source": [
    "for digit in guess: # \"for each of the characters in the guess str, call it 'digit'\n",
    "    print(digit)"
   ]
  },
  {
   "cell_type": "code",
   "execution_count": null,
   "id": "c0bd1d94-ae86-43d5-94be-11729e6969b4",
   "metadata": {},
   "outputs": [],
   "source": [
    "'1234'.isdigit()"
   ]
  },
  {
   "cell_type": "code",
   "execution_count": null,
   "id": "ea0cc37e-38ee-4ece-82e3-f4953ae6496e",
   "metadata": {},
   "outputs": [],
   "source": [
    "'1234 '.isdigit()"
   ]
  },
  {
   "cell_type": "code",
   "execution_count": null,
   "id": "51332921-19a7-4ed2-9f77-6d54b7f3c86b",
   "metadata": {},
   "outputs": [],
   "source": [
    "''.isdigit()"
   ]
  },
  {
   "cell_type": "code",
   "execution_count": null,
   "id": "89d9ce3b-e812-4bfe-9aac-84db160a953c",
   "metadata": {},
   "outputs": [],
   "source": [
    "'36274769736769723872803290764783678681236765231786297878'.isdigit()"
   ]
  },
  {
   "cell_type": "code",
   "execution_count": null,
   "id": "f1d065f0-6ee3-4890-a8cc-4a8e7c5e8601",
   "metadata": {},
   "outputs": [],
   "source": [
    "is_valid_user_guess('1234', 4)"
   ]
  },
  {
   "cell_type": "code",
   "execution_count": null,
   "id": "05f8fefc-d1a2-4832-99e0-aa67741317a9",
   "metadata": {},
   "outputs": [],
   "source": [
    "is_valid_user_guess('12x3', 4)"
   ]
  },
  {
   "cell_type": "code",
   "execution_count": null,
   "id": "28daab01-64ac-42ba-afad-6c3592054049",
   "metadata": {},
   "outputs": [],
   "source": [
    "is_valid_user_guess('123', 4)"
   ]
  },
  {
   "cell_type": "code",
   "execution_count": null,
   "id": "80f51b9d-5764-40b0-9ff2-94196ba03c6f",
   "metadata": {},
   "outputs": [],
   "source": [
    "is_valid_user_guess('1111', 4)"
   ]
  },
  {
   "cell_type": "code",
   "execution_count": null,
   "id": "2f108e3c-bdd4-4463-9b38-c7d5f82f79cf",
   "metadata": {},
   "outputs": [],
   "source": [
    "is_valid_user_guess('xyzk', 4)"
   ]
  },
  {
   "cell_type": "code",
   "execution_count": 207,
   "id": "4bd5387c-e88f-4bed-a5ee-20534cb45f9e",
   "metadata": {},
   "outputs": [
    {
     "name": "stdin",
     "output_type": "stream",
     "text": [
      "Enter your guess or \"quit\" to quit:  quit\n"
     ]
    }
   ],
   "source": [
    "%reset -f\n",
    "# the above will discard all variables and functions...\n",
    "\n",
    "def generate_secret_code(num_digits):\n",
    "    # generate 4 digits\n",
    "    # ensure each digit is unique\n",
    "    from random import choice as random_choice # we are free to rename imports to suit our mood\n",
    "    \n",
    "    digits_to_pick_from = list(range(10)) # [ 0, 1, ..., 9 ]\n",
    "    secret_code = []\n",
    "    \n",
    "    # this is not the ideal way to handle such errors, but it's a way...\n",
    "    if num_digits < 2 or num_digits > 10:\n",
    "        print('number of digits must be between 2 and 10')\n",
    "        return secret_code\n",
    "    \n",
    "    for times in range(num_digits):\n",
    "        digit = random_choice(digits_to_pick_from)\n",
    "        digits_to_pick_from.remove(digit)\n",
    "        secret_code.append(str(digit)) # at the time we append, let's str-ify it\n",
    "    \n",
    "    return secret_code\n",
    "\n",
    "\n",
    "def is_valid_user_guess(guess, num_digits):\n",
    "#     three checks to do:\n",
    "#         length of guess not equal num_digits\n",
    "#.        guess contains non-digits\n",
    "#.        repeated digits (we could count occurrences of each digit and if any > 1, then bad)\n",
    "    if len(guess) != num_digits:\n",
    "        print('Your guess should be', num_digits, 'digits long.')\n",
    "        return False\n",
    "    \n",
    "    if not guess.isdigit(): # \"if guess does NOT consist of only digits\"\n",
    "        print('Your guess should be composed of only digits.')\n",
    "        return False\n",
    "    \n",
    "    for digit in guess: # how do I know there are only digits in the guess here?\n",
    "        if guess.count(digit) > 1:\n",
    "            print('The digit', digit, 'appears more than once, and that is simply not allowed!')\n",
    "            return False\n",
    "        \n",
    "    return True # all 3 of the checks above passed, therefore it's valid\n",
    "\n",
    "\n",
    "def count_bulls(secret_code, user_guess):\n",
    "    # make a count which we set to 0\n",
    "    # for each item in the secret_code\n",
    "    # compare it to the corresponding item in the guess\n",
    "    # if they are the same, increment the count\n",
    "    # return the count to the caller\n",
    "    \n",
    "    bull_count = 0\n",
    "    \n",
    "    for index in range(len(secret_code)): # 0..3\n",
    "        if secret_code[index] == user_guess[index]:\n",
    "            bull_count += 1\n",
    "            \n",
    "    return bull_count\n",
    "\n",
    "\n",
    "def count_cows(secret_code, user_guess, **kwargs):\n",
    "    # make a count which we set to 0\n",
    "    # for each item in the secret_code\n",
    "    # compare it to all of the items in the guess...\n",
    "    # ...EXCEPT for the item at the index\n",
    "    # if they are the same, increment the count\n",
    "    # return the count to the caller\n",
    "    \n",
    "    print('kwargs came in as', kwargs)\n",
    "    print('debug is', kwargs.get('debug'))\n",
    "    cow_count = 0\n",
    "    \n",
    "    for code_index in range(len(secret_code)): # 0..3\n",
    "        for guess_index in range(len(guess)): # 0..3\n",
    "            if debug: # if the \"truthy\" value of debug is True\n",
    "                print('checking code index', code_index, 'and guess_index', guess_index)\n",
    "            if code_index == guess_index:\n",
    "                continue\n",
    "            if secret_code[code_index] == user_guess[guess_index]:\n",
    "                if debug:\n",
    "                    print('comparing', secret_code[code_index], 'to', user_guess[guess_index])\n",
    "                cow_count += 1\n",
    "            \n",
    "    return cow_count\n",
    "\n",
    "\n",
    "num_digits = 4\n",
    "secret_code = generate_secret_code(num_digits) # step 1\n",
    "\n",
    "# steps 2 and 3\n",
    "while (guess := input('Enter your guess or \"quit\" to quit: ')) != 'quit':\n",
    "    if not is_valid_user_guess(guess, num_digits): # step 3a\n",
    "        continue\n",
    "    # if we get here, the guess is valid and we can evaluate\n",
    "    bulls = count_bulls(secret_code, guess) # step 4\n",
    "    cows = count_cows(secret_code, guess) # step 5\n",
    "    \n",
    "    if bulls == num_digits: # step 4a\n",
    "        print('You guessed it!')\n",
    "        break\n",
    "    print(bulls, 'bulls and', cows, 'cows')"
   ]
  },
  {
   "cell_type": "code",
   "execution_count": 208,
   "id": "50e25415-929c-49d6-a56f-5fdd6ce7230d",
   "metadata": {},
   "outputs": [
    {
     "name": "stdout",
     "output_type": "stream",
     "text": [
      "kwargs came in as {}\n",
      "debug is None\n"
     ]
    },
    {
     "ename": "NameError",
     "evalue": "name 'debug' is not defined",
     "output_type": "error",
     "traceback": [
      "\u001b[0;31m---------------------------------------------------------------------------\u001b[0m",
      "\u001b[0;31mNameError\u001b[0m                                 Traceback (most recent call last)",
      "Input \u001b[0;32mIn [208]\u001b[0m, in \u001b[0;36m<cell line: 1>\u001b[0;34m()\u001b[0m\n\u001b[0;32m----> 1\u001b[0m \u001b[43mcount_cows\u001b[49m\u001b[43m(\u001b[49m\u001b[38;5;124;43m'\u001b[39;49m\u001b[38;5;124;43m1234\u001b[39;49m\u001b[38;5;124;43m'\u001b[39;49m\u001b[43m,\u001b[49m\u001b[43m \u001b[49m\u001b[38;5;124;43m'\u001b[39;49m\u001b[38;5;124;43m4321\u001b[39;49m\u001b[38;5;124;43m'\u001b[39;49m\u001b[43m)\u001b[49m\n",
      "Input \u001b[0;32mIn [207]\u001b[0m, in \u001b[0;36mcount_cows\u001b[0;34m(secret_code, user_guess, **kwargs)\u001b[0m\n\u001b[1;32m     74\u001b[0m \u001b[38;5;28;01mfor\u001b[39;00m code_index \u001b[38;5;129;01min\u001b[39;00m \u001b[38;5;28mrange\u001b[39m(\u001b[38;5;28mlen\u001b[39m(secret_code)): \u001b[38;5;66;03m# 0..3\u001b[39;00m\n\u001b[1;32m     75\u001b[0m     \u001b[38;5;28;01mfor\u001b[39;00m guess_index \u001b[38;5;129;01min\u001b[39;00m \u001b[38;5;28mrange\u001b[39m(\u001b[38;5;28mlen\u001b[39m(guess)): \u001b[38;5;66;03m# 0..3\u001b[39;00m\n\u001b[0;32m---> 76\u001b[0m         \u001b[38;5;28;01mif\u001b[39;00m \u001b[43mdebug\u001b[49m: \u001b[38;5;66;03m# if the \"truthy\" value of debug is True\u001b[39;00m\n\u001b[1;32m     77\u001b[0m             \u001b[38;5;28mprint\u001b[39m(\u001b[38;5;124m'\u001b[39m\u001b[38;5;124mchecking code index\u001b[39m\u001b[38;5;124m'\u001b[39m, code_index, \u001b[38;5;124m'\u001b[39m\u001b[38;5;124mand guess_index\u001b[39m\u001b[38;5;124m'\u001b[39m, guess_index)\n\u001b[1;32m     78\u001b[0m         \u001b[38;5;28;01mif\u001b[39;00m code_index \u001b[38;5;241m==\u001b[39m guess_index:\n",
      "\u001b[0;31mNameError\u001b[0m: name 'debug' is not defined"
     ]
    }
   ],
   "source": [
    "count_cows('1234', '4321')"
   ]
  },
  {
   "cell_type": "code",
   "execution_count": null,
   "id": "69501c41-b546-481d-8104-94ea563a1b05",
   "metadata": {},
   "outputs": [],
   "source": [
    "import antigravity"
   ]
  },
  {
   "cell_type": "code",
   "execution_count": null,
   "id": "3dab991a-c7ce-4215-920d-2a8b0b3d63f4",
   "metadata": {},
   "outputs": [],
   "source": [
    "cars = ['Tesla', 'Fisker', 'Rivian', 'Lordstown']\n",
    "for index in range(len(cars)): # 0..len(cars) - 1\n",
    "    print(index, cars[index])"
   ]
  },
  {
   "cell_type": "code",
   "execution_count": null,
   "id": "e70881ea-1521-42cb-babf-ed66b7f85b96",
   "metadata": {},
   "outputs": [],
   "source": [
    "for car in cars:\n",
    "    print(car)"
   ]
  },
  {
   "cell_type": "code",
   "execution_count": null,
   "id": "a4a54328-b61b-4721-9978-141d156c644d",
   "metadata": {},
   "outputs": [],
   "source": [
    "# for each item in cars\n",
    "# tell me the item but also the numerical index of it\n",
    "for index, car in enumerate(cars):\n",
    "    print(index, car)"
   ]
  },
  {
   "cell_type": "code",
   "execution_count": null,
   "id": "59924327-6a6c-4944-b3e0-2f6c1915639b",
   "metadata": {},
   "outputs": [],
   "source": [
    "type(index)"
   ]
  },
  {
   "cell_type": "code",
   "execution_count": null,
   "id": "7fc79d7d-713f-42e6-9f01-68b2f686c5c6",
   "metadata": {},
   "outputs": [],
   "source": [
    "# ruit_lengths \"is a\" (or \"becomes a\") list of length of fruit, for each fruit in fruits\n",
    "# read the '[' as \"list of\"f\n",
    "# read the stuff after the '[' as the elements of the list\n",
    "fruits = 'apple lemon cherry fig lime watermelon'.split()\n",
    "\n",
    "fruit_lengths = [len(fruit) for fruit in fruits]\n",
    "\n",
    "print(fruit_lengths)"
   ]
  },
  {
   "cell_type": "markdown",
   "id": "7f37d4d7-b3d7-481a-8b48-47d7ea54e827",
   "metadata": {},
   "source": [
    "## Lab: List Comprehensions\n",
    "*  Start with Cartesian product example (colors x sizes of t-shirts) and add a third list, __`sleeves = ['short', 'long']`__ then write a new listcomp which generates the Cartesian product __`colors x sizes x sleeves`__. __`tshirts`__ should look like this:<pre><b>\n",
    "    [['black', 'S', 'short'],\n",
    "     ['black', 'S', 'long'],\n",
    "     ['black', 'M', 'short'],\n",
    "     ['black', 'M', 'long'],\n",
    "     ['black', 'L', 'short'],\n",
    "     ['black', 'L', 'long'],\n",
    "     ['white', 'S', 'short'],\n",
    "     ['white', 'S', 'long'],\n",
    "     ['white', 'M', 'short'],\n",
    "     ['white', 'M', 'long'],\n",
    "     ['white', 'L', 'short'],\n",
    "     ['white', 'L', 'long']]\n",
    "     \n",
    " </b></pre>\n",
    "* Use a list comprehension to create a list of the squares of the integers from 1 to 25 (i.e, 1, 4, 9, 16, …, 625)\n",
    "* Given a list of words, create a second list which contains all the words from the first list which do not end with a vowel\n",
    "* Use a list comprehension to create a list of the integers from 1 to 100 which are not divisible by 5\n",
    "* Use a list comprehension and __`zip()`__ to create a list of lists, where the list items are name and ID number that you grabbed from separate lists of names and ID numbers\n",
    "  * start with a list of, say, 5 names ['John', 'Mary', 'Edward', 'Linda', 'Dinesh']\n",
    "  * and a list of, say, 5 ID numbers [1003, 2043, 8762, 7862, 1093]\n",
    "  * additional wrinkle: do not include any names whose corresponding ID is -1"
   ]
  },
  {
   "cell_type": "code",
   "execution_count": null,
   "id": "32d0fb34-5f2b-4fef-9f98-17187192a287",
   "metadata": {},
   "outputs": [],
   "source": [
    "colors = \n",
    "sizes = ['S', 'M', 'L', 'XL']\n",
    "sleeves = ['short', 'long']['black', 'white']\n",
    "\n",
    "tshirts = [[color, size, sleeve] for size in sizes\n",
    "                                    for color in colors\n",
    "                                        for sleeve in sleeves]\n",
    "tshirts"
   ]
  },
  {
   "cell_type": "code",
   "execution_count": null,
   "id": "2f90b54b-c281-49d6-ac9a-040c8ae0506f",
   "metadata": {},
   "outputs": [],
   "source": [
    "# squares = [1, 4, 9, 16, 25, ...]\n",
    "squares = [num * num for num in range(1, 26)]\n",
    "print(squares)"
   ]
  },
  {
   "cell_type": "code",
   "execution_count": null,
   "id": "0c8052b1-cb52-40df-b6a4-9eea436172d8",
   "metadata": {},
   "outputs": [],
   "source": [
    "squares = [] # empy list of squares\n",
    "for num in range(1, 26): # 1..25\n",
    "    squares.append(num * num)\n",
    "\n",
    "print(squares)"
   ]
  },
  {
   "cell_type": "code",
   "execution_count": null,
   "id": "efdc2ae6-21e7-4159-b926-5f904b886081",
   "metadata": {},
   "outputs": [],
   "source": [
    "squares = { 1: 1, 2: 4, 3: 9, 4: 16, 5: 25 }"
   ]
  },
  {
   "cell_type": "code",
   "execution_count": null,
   "id": "835f6e9f-d2b2-4f9f-a527-c0839c794620",
   "metadata": {},
   "outputs": [],
   "source": [
    "squares"
   ]
  },
  {
   "cell_type": "code",
   "execution_count": null,
   "id": "45bcde62-4205-4f92-af10-b6df14f2f9ff",
   "metadata": {},
   "outputs": [],
   "source": [
    "squares = {} \n",
    "for num in range(1, 26):\n",
    "    squares[num] = num * num"
   ]
  },
  {
   "cell_type": "code",
   "execution_count": null,
   "id": "f3dc5e1d-0e9d-43e9-8d60-a23c2ad2059a",
   "metadata": {},
   "outputs": [],
   "source": [
    "squares"
   ]
  },
  {
   "cell_type": "code",
   "execution_count": null,
   "id": "720f99d9-5436-4e7c-8d20-b6dfb64ea070",
   "metadata": {},
   "outputs": [],
   "source": [
    "for num in squares:\n",
    "    print(num, '...', squares[num])"
   ]
  },
  {
   "cell_type": "code",
   "execution_count": null,
   "id": "97d925b7-b005-47ff-b93e-ff3053b0677b",
   "metadata": {},
   "outputs": [],
   "source": [
    "print(list(range(1, 101)))"
   ]
  },
  {
   "cell_type": "code",
   "execution_count": null,
   "id": "4498790e-2e57-40af-9eae-5c3173bf0c53",
   "metadata": {},
   "outputs": [],
   "source": [
    "# the above is not what we want...we want to filter out the multiples of 5\n",
    "nums_not_divis_by_5 = [num for num in range(1, 101)\n",
    "                               if num % 5 != 0]"
   ]
  },
  {
   "cell_type": "code",
   "execution_count": null,
   "id": "97d4c743-b46d-48bc-b194-3c2c1fb474b0",
   "metadata": {},
   "outputs": [],
   "source": [
    "print(nums_not_divis_by_5)"
   ]
  },
  {
   "cell_type": "code",
   "execution_count": null,
   "id": "fae5cad0-7dde-45db-89f2-ce2b671245d6",
   "metadata": {},
   "outputs": [],
   "source": [
    "names = ['John', 'Mary', 'Edward', 'Linda', 'Dinesh']\n",
    "employee_nums = [1003, 2043, 8762, 7862, 1093]\n",
    "\n",
    "employees = []\n",
    "\n",
    "for name, employee_num in zip(names, employee_nums):\n",
    "    employees.append([name, employee_num])\n",
    "    \n",
    "employees"
   ]
  },
  {
   "cell_type": "code",
   "execution_count": null,
   "id": "74719674-4253-4b39-866e-017df4bbd1fb",
   "metadata": {},
   "outputs": [],
   "source": [
    "employees = [[name, employee_num] for name, employee_num in zip(names, employee_nums)]"
   ]
  },
  {
   "cell_type": "code",
   "execution_count": null,
   "id": "be92bfec-d975-465a-8c2f-6349f81e8f6b",
   "metadata": {},
   "outputs": [],
   "source": [
    "employees"
   ]
  },
  {
   "cell_type": "code",
   "execution_count": null,
   "id": "84bcb5cd-e68f-4bc1-b1d8-7465df63d60b",
   "metadata": {},
   "outputs": [],
   "source": [
    "names = ['John', 'Mary', 'Edward', 'Linda', 'Dinesh']\n",
    "employee_nums = [1003, -1, 8762, 7862, -1]"
   ]
  },
  {
   "cell_type": "code",
   "execution_count": null,
   "id": "b4b7c1fb-fd50-400b-a20d-3b35f6ce987b",
   "metadata": {},
   "outputs": [],
   "source": [
    "employees = [[name, employee_num] for name, employee_num in zip(names, employee_nums)\n",
    "                                     if employee_num != -1]"
   ]
  },
  {
   "cell_type": "code",
   "execution_count": null,
   "id": "b464fb53-ad93-4c34-9e5c-32996eb91ff4",
   "metadata": {},
   "outputs": [],
   "source": [
    "employees"
   ]
  },
  {
   "cell_type": "code",
   "execution_count": null,
   "id": "05ac14af-bd02-488d-8d3b-42ae825ec8f9",
   "metadata": {},
   "outputs": [],
   "source": [
    "x, y = 2, 3"
   ]
  },
  {
   "cell_type": "code",
   "execution_count": null,
   "id": "d3b66e86-acf5-432a-946a-13f67d4fbd18",
   "metadata": {},
   "outputs": [],
   "source": [
    "x"
   ]
  },
  {
   "cell_type": "code",
   "execution_count": null,
   "id": "2ddd5678-4545-4726-ba5a-9fc16bea0b01",
   "metadata": {},
   "outputs": [],
   "source": [
    "y"
   ]
  },
  {
   "cell_type": "code",
   "execution_count": null,
   "id": "c28b98e1-bcd8-46b5-b2c8-ed8557ef15b6",
   "metadata": {},
   "outputs": [],
   "source": [
    "string = 'immutable'"
   ]
  },
  {
   "cell_type": "code",
   "execution_count": null,
   "id": "4397899f-4c26-41c5-8639-6852d26c479c",
   "metadata": {},
   "outputs": [],
   "source": [
    "string[0] = 'I'"
   ]
  },
  {
   "cell_type": "code",
   "execution_count": null,
   "id": "0df8f9b4-75ba-49bb-9bb7-1d0857123a65",
   "metadata": {},
   "outputs": [],
   "source": [
    "string = 'something else'"
   ]
  },
  {
   "cell_type": "code",
   "execution_count": null,
   "id": "9eee6189-30de-4974-b056-4ab75b9ddb54",
   "metadata": {},
   "outputs": [],
   "source": [
    "city = 'Jakarta', 'Indonesia', { 'capital': 10_562_088, 'urban': 34_540_000, 'metro area': 33_430_285 }, 8.0, 7062.5"
   ]
  },
  {
   "cell_type": "code",
   "execution_count": null,
   "id": "11dcddf0-a5c2-4642-a9dc-0c8db704ab6c",
   "metadata": {},
   "outputs": [],
   "source": [
    "city"
   ]
  },
  {
   "cell_type": "code",
   "execution_count": null,
   "id": "aa38db39-5266-4666-91a4-5e9d3b7939de",
   "metadata": {},
   "outputs": [],
   "source": [
    "city = city + ('UTC +07:00',)"
   ]
  },
  {
   "cell_type": "code",
   "execution_count": null,
   "id": "9d265eb3-dd1d-46a0-ae8f-52a31c5a194a",
   "metadata": {},
   "outputs": [],
   "source": [
    "8.0 in city"
   ]
  },
  {
   "cell_type": "code",
   "execution_count": null,
   "id": "665aa626-e9f2-4c47-9195-a7f09bc80eb1",
   "metadata": {},
   "outputs": [],
   "source": [
    "city.index(8.0)"
   ]
  },
  {
   "cell_type": "code",
   "execution_count": null,
   "id": "bb389b72-6488-4c94-ae30-0add74d33e4d",
   "metadata": {},
   "outputs": [],
   "source": [
    "city[2][0] = 10_562_091"
   ]
  },
  {
   "cell_type": "code",
   "execution_count": null,
   "id": "f985bb40-9b60-4e17-8f3e-57a7120f2ca6",
   "metadata": {},
   "outputs": [],
   "source": [
    "city"
   ]
  },
  {
   "cell_type": "code",
   "execution_count": null,
   "id": "0de07ab4-4038-45a6-b492-e638163ff302",
   "metadata": {},
   "outputs": [],
   "source": [
    "%%python2\n",
    "# the above directs Jupyter to run this cell in Python 2\n",
    "from __future__ import print_function\n",
    "sbux_dict = {'venti': 20, 'tall': 12, 'grande': 16}\n",
    "print(sbux_dict.keys(), sbux_dict.values(),\n",
    "      sbux_dict.items(), sep='\\n')"
   ]
  },
  {
   "cell_type": "code",
   "execution_count": null,
   "id": "9b8cc93e-38fb-48e5-ac22-c16e008ba3b9",
   "metadata": {},
   "outputs": [],
   "source": [
    "sbux_dict = {'venti': 20, 'tall': 12, 'grande': 16}\n",
    "print(sbux_dict.keys(), sbux_dict.values(),\n",
    "      sbux_dict.items(), sep='\\n')"
   ]
  },
  {
   "cell_type": "code",
   "execution_count": null,
   "id": "4de5a52d-c629-4ee7-997a-80da0bdad6bf",
   "metadata": {},
   "outputs": [],
   "source": [
    "12 in sbux_dict # tells me True or False is 12 one of the keys"
   ]
  },
  {
   "cell_type": "code",
   "execution_count": null,
   "id": "73ced38a-a33a-417f-b2c3-aa153c079c22",
   "metadata": {},
   "outputs": [],
   "source": [
    "12 in sbux_dict.values() # tells me True or False is 12 in the container I get back from the .values() method"
   ]
  },
  {
   "cell_type": "code",
   "execution_count": null,
   "id": "8965654c-4575-4fce-94b4-aacb622f77fc",
   "metadata": {},
   "outputs": [],
   "source": [
    "%%python2\n",
    "# the above directs Jupyter to run this cell in Python 2\n",
    "from __future__ import print_function\n",
    "sbux_dict = {'venti': 20, 'tall': 12, 'grande': 16}\n",
    "keys = sbux_dict.keys() # you are taking a static snapshot of the keys (or values or items)\n",
    "print(keys) \n",
    "sbux_dict['trenta'] = 31\n",
    "print(sbux_dict)\n",
    "print(keys)"
   ]
  },
  {
   "cell_type": "code",
   "execution_count": null,
   "id": "9467c3e4-7d6f-4d88-872f-005a46d068de",
   "metadata": {},
   "outputs": [],
   "source": [
    "list1 = [1, 2, 3]\n",
    "list2 = [4, 5, 6]"
   ]
  },
  {
   "cell_type": "code",
   "execution_count": null,
   "id": "1204fe40-0ab3-4e70-bd3a-c6446c8a8c4d",
   "metadata": {},
   "outputs": [],
   "source": [
    "id(list1), id(list2)"
   ]
  },
  {
   "cell_type": "code",
   "execution_count": null,
   "id": "43959207-bc95-4a19-a1d4-913d5d69897c",
   "metadata": {},
   "outputs": [],
   "source": [
    "list1 = [1, 2, 3]\n",
    "list2 = list1 # we \"think\" we are copying"
   ]
  },
  {
   "cell_type": "code",
   "execution_count": null,
   "id": "ccce2fa3-a9be-40a9-8ced-d443c70413b7",
   "metadata": {},
   "outputs": [],
   "source": [
    "id(list1), id(list2)"
   ]
  },
  {
   "cell_type": "code",
   "execution_count": null,
   "id": "b10fb3ff-3f73-4be3-a1a8-90cd7e8a9884",
   "metadata": {},
   "outputs": [],
   "source": [
    "my_dict = { 1: 'one', 2: 'two', 42: 'forty two' }"
   ]
  },
  {
   "cell_type": "code",
   "execution_count": null,
   "id": "5d01d93a-6c33-48d0-ab8c-d06f3ced184b",
   "metadata": {},
   "outputs": [],
   "source": [
    "11 in my_dict"
   ]
  },
  {
   "cell_type": "code",
   "execution_count": null,
   "id": "0167c50d-7641-4b8f-94cc-653e04944622",
   "metadata": {},
   "outputs": [],
   "source": [
    "my_dict[42] # []s are a shorthand for a method call"
   ]
  },
  {
   "cell_type": "code",
   "execution_count": null,
   "id": "a5e38bfa-253c-4a11-916b-4d784c17be17",
   "metadata": {},
   "outputs": [],
   "source": [
    "my_dict.get(42)"
   ]
  },
  {
   "cell_type": "code",
   "execution_count": null,
   "id": "cf332b5b-289a-4d61-b4fa-66471acf8497",
   "metadata": {},
   "outputs": [],
   "source": [
    "my_dict[33]"
   ]
  },
  {
   "cell_type": "code",
   "execution_count": null,
   "id": "e9719842-c258-42ab-a6d7-161a8a02003b",
   "metadata": {},
   "outputs": [],
   "source": [
    "print(my_dict.get(33))"
   ]
  },
  {
   "cell_type": "code",
   "execution_count": null,
   "id": "1fc27359-a3a9-4961-92fb-56f9c83fd553",
   "metadata": {},
   "outputs": [],
   "source": [
    "def brackets(d, key):\n",
    "    if key in d: # if key is a key in the dict d\n",
    "        return d.get(key) # return the val\n",
    "    print('Red ink! KeyError:', key)"
   ]
  },
  {
   "cell_type": "code",
   "execution_count": null,
   "id": "81987887-da69-4fa1-8ef3-c9532b26abef",
   "metadata": {},
   "outputs": [],
   "source": [
    "my_dict[42]"
   ]
  },
  {
   "cell_type": "code",
   "execution_count": null,
   "id": "649db587-30ad-4291-9de8-991e559ce7f9",
   "metadata": {},
   "outputs": [],
   "source": [
    "brackets(my_dict, 42)"
   ]
  },
  {
   "cell_type": "code",
   "execution_count": null,
   "id": "0c807c56-503d-46a0-b959-149416d12cef",
   "metadata": {},
   "outputs": [],
   "source": [
    "my_dict[33]"
   ]
  },
  {
   "cell_type": "code",
   "execution_count": null,
   "id": "69cbb010-975f-40ba-ae4f-5900a86ea104",
   "metadata": {},
   "outputs": [],
   "source": [
    "brackets(my_dict, 33)"
   ]
  },
  {
   "cell_type": "code",
   "execution_count": null,
   "id": "218b8c72-c57d-4929-9877-a78bb40791ee",
   "metadata": {},
   "outputs": [],
   "source": [
    "print(my_dict.get(33))"
   ]
  },
  {
   "cell_type": "code",
   "execution_count": null,
   "id": "c9ede60c-31f4-4e6c-a253-345e161cca27",
   "metadata": {},
   "outputs": [],
   "source": [
    "list1 = [3, 4, 5]\n",
    "if 3 in list1:\n",
    "    list1.remove(3)"
   ]
  },
  {
   "cell_type": "code",
   "execution_count": null,
   "id": "fe29f713-7bac-42ce-97e0-436bf05ff0a9",
   "metadata": {},
   "outputs": [],
   "source": [
    "list1"
   ]
  },
  {
   "cell_type": "code",
   "execution_count": null,
   "id": "11260699-86de-47b5-93cf-8021dc1c5595",
   "metadata": {},
   "outputs": [],
   "source": [
    "fruits = 'apple fig pear'.split()"
   ]
  },
  {
   "cell_type": "code",
   "execution_count": null,
   "id": "49abdd1c-0f9b-4144-aa6a-f5bbc4301284",
   "metadata": {},
   "outputs": [],
   "source": [
    "fruits"
   ]
  },
  {
   "cell_type": "code",
   "execution_count": null,
   "id": "4dd90dc8-ef2b-4457-b268-43b3b3a8cf22",
   "metadata": {},
   "outputs": [],
   "source": [
    "fruits.sort()"
   ]
  },
  {
   "cell_type": "code",
   "execution_count": null,
   "id": "42e975ed-03fd-4e89-b35a-e090e648aaac",
   "metadata": {},
   "outputs": [],
   "source": [
    "fruits"
   ]
  },
  {
   "cell_type": "code",
   "execution_count": null,
   "id": "e8a3aeb3-874d-4a66-bb81-10df843bf238",
   "metadata": {},
   "outputs": [],
   "source": [
    "fruits.sort(key=len)"
   ]
  },
  {
   "cell_type": "code",
   "execution_count": null,
   "id": "c1ccf887-95dd-4452-8505-0fea7999d88c",
   "metadata": {},
   "outputs": [],
   "source": [
    "fruits"
   ]
  },
  {
   "cell_type": "code",
   "execution_count": null,
   "id": "10d20ad4-f09d-4173-bb47-3dab83951b21",
   "metadata": {},
   "outputs": [],
   "source": [
    "d = { 'foo': 4, 'bar': -1, 'baz': -1, 'blah': 3, 'what': 2 }"
   ]
  },
  {
   "cell_type": "code",
   "execution_count": null,
   "id": "bbc42b57-d607-4cbd-a5a7-1771ca0ad189",
   "metadata": {},
   "outputs": [],
   "source": [
    "d.items()"
   ]
  },
  {
   "cell_type": "code",
   "execution_count": null,
   "id": "0a4458f6-17d1-4bc1-8132-5231d15c3944",
   "metadata": {},
   "outputs": [],
   "source": [
    "for thing in d.items():\n",
    "    print(thing)"
   ]
  },
  {
   "cell_type": "code",
   "execution_count": null,
   "id": "b00941cf-b23f-4053-83fa-2b14dedec61d",
   "metadata": {},
   "outputs": [],
   "source": [
    "list(d.items())"
   ]
  },
  {
   "cell_type": "code",
   "execution_count": null,
   "id": "15c2da84-c3a4-44b6-896f-3a049ee4f60f",
   "metadata": {},
   "outputs": [],
   "source": [
    "for times in range(5):\n",
    "    print(d.items())"
   ]
  },
  {
   "cell_type": "code",
   "execution_count": null,
   "id": "0ece48a2-6143-4ec9-9af4-a4284120277a",
   "metadata": {},
   "outputs": [],
   "source": [
    "d = {}"
   ]
  },
  {
   "cell_type": "code",
   "execution_count": null,
   "id": "3078afde-e3d2-4afb-b1bc-7877e59599c7",
   "metadata": {},
   "outputs": [],
   "source": [
    "d[[1, 2, 3]] = 'one twp tjree'"
   ]
  },
  {
   "cell_type": "code",
   "execution_count": null,
   "id": "4c94ad3b-524c-45c1-8611-d4ec381bf5bd",
   "metadata": {},
   "outputs": [],
   "source": [
    "d[(1, 2, 3)] = 'one twp tjree'"
   ]
  },
  {
   "cell_type": "code",
   "execution_count": null,
   "id": "0b9b12c9-15ca-43d3-b982-1ea56f416ca5",
   "metadata": {},
   "outputs": [],
   "source": [
    "d"
   ]
  },
  {
   "cell_type": "code",
   "execution_count": null,
   "id": "81dfc31d-47e4-4086-8f30-2f3db30d2eac",
   "metadata": {},
   "outputs": [],
   "source": [
    "(1, 2, 3) in d"
   ]
  },
  {
   "cell_type": "code",
   "execution_count": null,
   "id": "b0ba3217-3870-4bf7-9ca7-1886824bb3a4",
   "metadata": {},
   "outputs": [],
   "source": [
    "1 in d"
   ]
  },
  {
   "cell_type": "code",
   "execution_count": null,
   "id": "4bf6cc98-715b-4ca0-adcc-fd9c40eefb0d",
   "metadata": {},
   "outputs": [],
   "source": [
    "d[('Smith', 'Nancy', 1234)] = 'engineering'"
   ]
  },
  {
   "cell_type": "code",
   "execution_count": null,
   "id": "3d961639-2510-4791-9c9b-da35af81ceb8",
   "metadata": {},
   "outputs": [],
   "source": [
    "d"
   ]
  },
  {
   "cell_type": "code",
   "execution_count": null,
   "id": "95ca26be-b257-4cdc-a746-98bf321f9cbd",
   "metadata": {},
   "outputs": [],
   "source": [
    "'here', 'is', 'a', 'tuple'"
   ]
  },
  {
   "cell_type": "code",
   "execution_count": null,
   "id": "af96a485-8067-41fb-a02f-948303a5d435",
   "metadata": {},
   "outputs": [],
   "source": [
    "('this', 'is', 'also', 45, 46.5)"
   ]
  },
  {
   "cell_type": "code",
   "execution_count": null,
   "id": "8e940913-0ab3-449f-951a-5c9f837e57cd",
   "metadata": {},
   "outputs": [],
   "source": [
    "mylist = [1, 2, 3]"
   ]
  },
  {
   "cell_type": "code",
   "execution_count": null,
   "id": "91e7ce33-59f4-4803-9956-f0bdc2ab4b77",
   "metadata": {},
   "outputs": [],
   "source": [
    "mylist"
   ]
  },
  {
   "cell_type": "code",
   "execution_count": null,
   "id": "5fc1ccba-b9d5-418c-bd79-85f5d1062b1c",
   "metadata": {},
   "outputs": [],
   "source": [
    "ord('A')"
   ]
  },
  {
   "cell_type": "code",
   "execution_count": null,
   "id": "b584f936-5112-42da-805e-16f10727d1d8",
   "metadata": {},
   "outputs": [],
   "source": [
    "ord('a')"
   ]
  },
  {
   "cell_type": "code",
   "execution_count": null,
   "id": "1f994b1d-28c1-4d08-a102-63a9c3979639",
   "metadata": {},
   "outputs": [],
   "source": [
    "ord(' ')"
   ]
  },
  {
   "cell_type": "code",
   "execution_count": null,
   "id": "ec5c4163-63af-41ec-9b29-7acac7ebebb9",
   "metadata": {},
   "outputs": [],
   "source": [
    "ord('*')"
   ]
  },
  {
   "cell_type": "code",
   "execution_count": null,
   "id": "1d942dc2-4d9f-4dd4-90e1-738e0b6e964a",
   "metadata": {},
   "outputs": [],
   "source": [
    "chr(42)"
   ]
  },
  {
   "cell_type": "code",
   "execution_count": null,
   "id": "4933fcb0-c8a7-4874-8a74-c1d647787f90",
   "metadata": {},
   "outputs": [],
   "source": [
    "ord('£')"
   ]
  },
  {
   "cell_type": "code",
   "execution_count": null,
   "id": "b87ef99b-638e-4f5a-bfa3-a5689455a62f",
   "metadata": {},
   "outputs": [],
   "source": [
    "chr(163)"
   ]
  },
  {
   "cell_type": "code",
   "execution_count": null,
   "id": "ae88059a-bf89-4d7f-b12b-dff5aa7a334b",
   "metadata": {},
   "outputs": [],
   "source": [
    "help(dict.get)"
   ]
  },
  {
   "cell_type": "code",
   "execution_count": null,
   "id": "746075bb-537e-49b1-839a-deffdb250a66",
   "metadata": {},
   "outputs": [],
   "source": [
    "s = \"\"\"Gur Mra bs Clguba, ol Gvz Crgref\n",
    "\n",
    "Ornhgvshy vf orggre guna htyl.\n",
    "Rkcyvpvg vf orggre guna vzcyvpvg.\n",
    "Fvzcyr vf orggre guna pbzcyrk.\n",
    "Pbzcyrk vf orggre guna pbzcyvpngrq.\n",
    "Syng vf orggre guna arfgrq.\n",
    "Fcnefr vf orggre guna qrafr.\"\"\"\n",
    "\n",
    "d = {}\n",
    "for c in (65, 97):\n",
    "    for i in range(26): # 0..25\n",
    "        d[chr(i+c)] = chr((i+13) % 26 + c)\n",
    "        \n",
    "stuff = [d.get(c, c) for c in s]"
   ]
  },
  {
   "cell_type": "code",
   "execution_count": null,
   "id": "a93d6517-9d52-43bb-b0f1-d2aacaf8d999",
   "metadata": {},
   "outputs": [],
   "source": [
    "print(stuff)"
   ]
  },
  {
   "cell_type": "code",
   "execution_count": null,
   "id": "e16cf427-b0bd-4200-acc7-fd824ecc31da",
   "metadata": {},
   "outputs": [],
   "source": [
    "print(''.join(stuff))"
   ]
  },
  {
   "cell_type": "code",
   "execution_count": null,
   "id": "37db567b-ef57-4507-9726-00d511c0b715",
   "metadata": {},
   "outputs": [],
   "source": [
    "import this"
   ]
  },
  {
   "cell_type": "code",
   "execution_count": null,
   "id": "fec1d49c-ba23-493b-9ff2-ed8070e46d37",
   "metadata": {},
   "outputs": [],
   "source": [
    "d"
   ]
  },
  {
   "cell_type": "code",
   "execution_count": null,
   "id": "f658a2d4-bd42-4382-9183-5613a68f61d2",
   "metadata": {},
   "outputs": [],
   "source": [
    "d['A'] = 'N'"
   ]
  },
  {
   "cell_type": "code",
   "execution_count": null,
   "id": "0417d5e5-b26f-4389-bacc-a09ae85640aa",
   "metadata": {
    "tags": []
   },
   "outputs": [],
   "source": [
    "d"
   ]
  },
  {
   "cell_type": "code",
   "execution_count": null,
   "id": "dbb8f1a9-819d-4168-8a55-a6cd921731ef",
   "metadata": {},
   "outputs": [],
   "source": [
    "message = 'this is a message'"
   ]
  },
  {
   "cell_type": "code",
   "execution_count": null,
   "id": "11094613-af7a-4d02-8ac9-acda9e2928c6",
   "metadata": {},
   "outputs": [],
   "source": [
    "d.keys()"
   ]
  },
  {
   "cell_type": "code",
   "execution_count": null,
   "id": "2fd94934-a014-40c1-ba39-6321f5df4e76",
   "metadata": {},
   "outputs": [],
   "source": [
    "d['A']"
   ]
  },
  {
   "cell_type": "code",
   "execution_count": null,
   "id": "8d80b4d2-9358-48ce-938a-69000812ef37",
   "metadata": {},
   "outputs": [],
   "source": [
    "message = 'this is a message'"
   ]
  },
  {
   "cell_type": "code",
   "execution_count": null,
   "id": "8920ab2e-dbf3-4756-84b1-28dbb9a96537",
   "metadata": {},
   "outputs": [],
   "source": [
    "if len(message) > 5:\n",
    "    print('long message')"
   ]
  },
  {
   "cell_type": "code",
   "execution_count": null,
   "id": "0165d2cf-7cc3-498a-90da-f0d3eaadb9c7",
   "metadata": {},
   "outputs": [],
   "source": [
    "print(chr(65))"
   ]
  },
  {
   "cell_type": "code",
   "execution_count": null,
   "id": "6d743110-83a1-4591-b1d8-f2f4b95cffe3",
   "metadata": {},
   "outputs": [],
   "source": [
    "print(d[chr(65)])"
   ]
  },
  {
   "cell_type": "code",
   "execution_count": null,
   "id": "8decc0e2-ad0a-4ca2-9b75-e7575e80d388",
   "metadata": {},
   "outputs": [],
   "source": [
    "help(set.remove)"
   ]
  },
  {
   "cell_type": "code",
   "execution_count": null,
   "id": "c793e99b-878e-4043-aeff-8535e56fcfc0",
   "metadata": {},
   "outputs": [],
   "source": [
    "help(set.discard)"
   ]
  },
  {
   "cell_type": "code",
   "execution_count": null,
   "id": "0385a1eb-fc4f-46f4-b431-0a90cbc72855",
   "metadata": {},
   "outputs": [],
   "source": [
    "help(set.pop)"
   ]
  },
  {
   "cell_type": "code",
   "execution_count": null,
   "id": "3bbd63a3-e847-456e-81b2-9d5eb86eb2c7",
   "metadata": {},
   "outputs": [],
   "source": [
    "print(set('Pack my box with five dozen liquor jugs'))"
   ]
  },
  {
   "cell_type": "code",
   "execution_count": null,
   "id": "9cc139fd-bdb4-4f54-aecf-53dd2ffada1d",
   "metadata": {},
   "outputs": [],
   "source": [
    "phrase = '\"Pack my box with five dozen liquor jugs\"'"
   ]
  },
  {
   "cell_type": "code",
   "execution_count": null,
   "id": "1e85a780-9075-4c91-866b-ac14493b2f8d",
   "metadata": {},
   "outputs": [],
   "source": [
    "print(set(phrase.lower()))"
   ]
  },
  {
   "cell_type": "code",
   "execution_count": null,
   "id": "e9fcc2f1-b39d-4e40-8adf-074dc5fbb970",
   "metadata": {},
   "outputs": [],
   "source": [
    "letter_set = set()\n",
    "\n",
    "for char in phrase.lower():\n",
    "    if char.isalpha():\n",
    "        letter_set.add(char) # if it's already in the set, do nothing\n",
    "        \n",
    "    #if char in string.ascii_lowercase"
   ]
  },
  {
   "cell_type": "code",
   "execution_count": null,
   "id": "ba522b29-b3e7-40d6-9aca-80f4302de780",
   "metadata": {},
   "outputs": [],
   "source": [
    "letter_set = {char for char in phrase.lower()\n",
    "                      if char.isalpha()}"
   ]
  },
  {
   "cell_type": "code",
   "execution_count": null,
   "id": "1b977273-3cc0-4be9-bcb2-2e329b82e41d",
   "metadata": {},
   "outputs": [],
   "source": [
    "len(letter_set)"
   ]
  },
  {
   "cell_type": "code",
   "execution_count": null,
   "id": "d4806f5f-b7b9-4e2c-aed3-9b02bcac3f57",
   "metadata": {},
   "outputs": [],
   "source": [
    "print(letter_set)"
   ]
  },
  {
   "cell_type": "code",
   "execution_count": null,
   "id": "e5903f21-2ae2-46b3-899b-fe6df6772e89",
   "metadata": {},
   "outputs": [],
   "source": [
    "len(letter_set)"
   ]
  },
  {
   "cell_type": "code",
   "execution_count": null,
   "id": "c14d8fcd-c79f-433a-abf6-915e61c49b1f",
   "metadata": {},
   "outputs": [],
   "source": [
    "thing = set()"
   ]
  },
  {
   "cell_type": "code",
   "execution_count": null,
   "id": "4ad8acfb-9ef8-4e4e-87d0-5ea1e5f41dfc",
   "metadata": {},
   "outputs": [],
   "source": [
    "type(thing)"
   ]
  },
  {
   "cell_type": "code",
   "execution_count": null,
   "id": "99f3bc00-606c-44fb-9b29-aa6b6fc41b42",
   "metadata": {},
   "outputs": [],
   "source": [
    "thing = { 'a' }\n",
    "thing.remove('a')"
   ]
  },
  {
   "cell_type": "code",
   "execution_count": null,
   "id": "a48f571a-f614-4265-b2e6-928c4a700e86",
   "metadata": {},
   "outputs": [],
   "source": [
    "type(thing)"
   ]
  },
  {
   "cell_type": "code",
   "execution_count": null,
   "id": "7c89a27c-f9b1-4379-b6c2-e2d515b6db73",
   "metadata": {},
   "outputs": [],
   "source": [
    "import random\n",
    "nums = [random.randint(1, 100) for times in range(100)] # generate 100 random numbers (between 1 and 100)"
   ]
  },
  {
   "cell_type": "code",
   "execution_count": null,
   "id": "6b9dc493-65d8-4522-864e-a464250e2774",
   "metadata": {},
   "outputs": [],
   "source": [
    "print(nums)"
   ]
  },
  {
   "cell_type": "code",
   "execution_count": null,
   "id": "52e33787-cad9-4f46-8bf6-b25a9b29f1a8",
   "metadata": {},
   "outputs": [],
   "source": [
    "nums = list(set(nums))"
   ]
  },
  {
   "cell_type": "code",
   "execution_count": null,
   "id": "fe3c3e9f-1f97-42e8-b558-88b94ce46660",
   "metadata": {},
   "outputs": [],
   "source": [
    "print(nums)"
   ]
  },
  {
   "cell_type": "markdown",
   "id": "ff62eaa2-5a17-48ee-ac10-7639ba0f600f",
   "metadata": {},
   "source": [
    "## Lab: Sets\n",
    "* Use a set to find all of the unique words in the input and print them out in sorted order\n",
    "* If the user entered __There is no there there__, your program should print out \n",
    "   <pre><b>\n",
    "   is\n",
    "   no\n",
    "   there\n",
    "   </b></pre>\n",
    "* Note that `There` and `there` should be counted as the same word."
   ]
  },
  {
   "cell_type": "code",
   "execution_count": null,
   "id": "2f032aaa-db1b-48ce-a0cd-6505aba3e6f9",
   "metadata": {},
   "outputs": [],
   "source": [
    "words = input('Enter a phrase: ').lower().split() # might as well make it lower and split it into words right here\n",
    "word_set = set(words) # remove dupes by \"dipping\" into a set\n",
    "word_list = sorted(word_set)\n",
    "print('\\n'.join(word_list)) \n",
    "# we could combine all 3 of the above, but there is a limit to what we might consider \"comprehensible\""
   ]
  },
  {
   "cell_type": "code",
   "execution_count": null,
   "id": "48e42f8a-b896-41a0-888b-e9b35cf58f35",
   "metadata": {},
   "outputs": [],
   "source": [
    "words = input('Enter a phrase: ').lower().split() # might as well make it lower and split it into words right here\n",
    "word_list = sorted(set(words)) # remove dupes by \"dipping\" into a set\n",
    "print('\\n'.join(word_list)) "
   ]
  },
  {
   "cell_type": "code",
   "execution_count": null,
   "id": "34edeb47-def4-41d0-9289-8a89abbac362",
   "metadata": {},
   "outputs": [],
   "source": [
    "f = open('poem.txt')"
   ]
  },
  {
   "cell_type": "code",
   "execution_count": null,
   "id": "086dbfc9-528d-4694-828e-c5f0752307fe",
   "metadata": {},
   "outputs": [],
   "source": [
    "list_of_lines = f.readlines()"
   ]
  },
  {
   "cell_type": "code",
   "execution_count": null,
   "id": "c42c78f9-6d52-4d80-ab1c-a00dab829fd1",
   "metadata": {},
   "outputs": [],
   "source": [
    "list_of_lines"
   ]
  },
  {
   "cell_type": "code",
   "execution_count": null,
   "id": "313fbb46-105a-4ce5-8a0c-3c04ced73994",
   "metadata": {},
   "outputs": [],
   "source": [
    "list_of_lines[4]"
   ]
  },
  {
   "cell_type": "code",
   "execution_count": null,
   "id": "f6663130-3ad5-4051-b1a7-3bd4d07f4e8a",
   "metadata": {},
   "outputs": [],
   "source": [
    "list_of_lines[-1]"
   ]
  },
  {
   "cell_type": "code",
   "execution_count": null,
   "id": "cffdc441-dc05-440b-89f2-2e0974f0c786",
   "metadata": {},
   "outputs": [],
   "source": [
    "with open('poem.txt') as f1: # ~ f1 = open('poem.txt')\n",
    "    for line in f1:\n",
    "        print(line, end='')"
   ]
  },
  {
   "cell_type": "code",
   "execution_count": null,
   "id": "495a138f-eebc-4e02-9552-625ea29e0e9d",
   "metadata": {},
   "outputs": [],
   "source": [
    "list.reverse"
   ]
  },
  {
   "cell_type": "code",
   "execution_count": null,
   "id": "3e6ae2b2-425b-47e8-9683-40fa6443c6b9",
   "metadata": {},
   "outputs": [],
   "source": [
    "line = 'Hi Hamlet, how are you?'"
   ]
  },
  {
   "cell_type": "code",
   "execution_count": null,
   "id": "a78e1a0f-3cca-4717-9c64-657caed871e9",
   "metadata": {},
   "outputs": [],
   "source": [
    "line"
   ]
  },
  {
   "cell_type": "code",
   "execution_count": null,
   "id": "e99664c0-ef95-4e6d-8e85-9b617fc1fb64",
   "metadata": {},
   "outputs": [],
   "source": [
    "import string"
   ]
  },
  {
   "cell_type": "code",
   "execution_count": null,
   "id": "ebb4fb88-21db-4e80-ad7e-80a457299dc1",
   "metadata": {},
   "outputs": [],
   "source": [
    "string.punctuation"
   ]
  },
  {
   "cell_type": "code",
   "execution_count": null,
   "id": "6aa20ff2-d6e3-40dc-a85b-cf2819d03dd3",
   "metadata": {},
   "outputs": [],
   "source": [
    "list_of_char = []\n",
    "\n",
    "for char in line:\n",
    "    if char not in string.punctuation: # omit punctuation\n",
    "        list_of_char.append(char)"
   ]
  },
  {
   "cell_type": "code",
   "execution_count": null,
   "id": "9e1765c2-e52d-461a-af27-a2523bf6d992",
   "metadata": {},
   "outputs": [],
   "source": [
    "print(list_of_chars)"
   ]
  },
  {
   "cell_type": "code",
   "execution_count": null,
   "id": "867451d2-a10a-401f-b058-3a4699b4272c",
   "metadata": {},
   "outputs": [],
   "source": [
    "''.join(list_of_chars)"
   ]
  },
  {
   "cell_type": "markdown",
   "id": "db63f247-adc1-4334-b108-fc0a91a2aedc",
   "metadata": {},
   "source": [
    "## Quick Lab: File I/O\n",
    "* write a Python program which prompts the user for a filename, then opens that file and writes the contents of the file to a new file, in reverse order, i.e.,\n",
    "\n",
    "<pre><b>\n",
    "    Original file       Reversed file\n",
    "    Line 1              Line 4\n",
    "    Line 2              Line 3\n",
    "    Line 3              Line 2\n",
    "    Line 4              Line 1\n",
    "</b></pre>"
   ]
  },
  {
   "cell_type": "code",
   "execution_count": 82,
   "id": "905d3b37-af36-431f-ac4d-85d9178d9eb3",
   "metadata": {
    "tags": []
   },
   "outputs": [
    {
     "name": "stdin",
     "output_type": "stream",
     "text": [
      "Hello, what file do you want to open?  poem.txt\n"
     ]
    },
    {
     "name": "stdout",
     "output_type": "stream",
     "text": [
      "Reversed file written to poem.txt.rev\n"
     ]
    }
   ],
   "source": [
    "filename = input('Hello, what file do you want to open? ') # get filename from user\n",
    "\n",
    "# infile = open(filename)\n",
    "# ...\n",
    "# infile.close()\n",
    "\n",
    "with open(filename) as infile: # open file and file variable will be 'infile'\n",
    "    lines_of_file = infile.readlines() # read entire file into a list of lines\n",
    "    \n",
    "# now we are done with the input file–we have all the lines in a list\n",
    "\n",
    "with open(filename + '.rev', 'w') as outfile: # open filename + '.rev' extension for writing\n",
    "    print(''.join(lines_of_file[::-1]), file=outfile) # write lines in reverse order, with no newline between them\n",
    "\n",
    "print('Reversed file written to', filename + '.rev')"
   ]
  },
  {
   "cell_type": "markdown",
   "id": "65f4fddf-de3a-46c7-9d50-3c64ce49e8d2",
   "metadata": {},
   "source": [
    "## Lab: File I/O + dicts\n",
    "* write a Python program to read a file and count the number of occurrences of each word in the file\n",
    "* use a __`dict`__, indexed by word, to count the occurrences\n",
    "* remember __`d.get(key)`__ will return __`None`__ if there is no such key in the dict (vs. __`d[key]`__ which will throw an exception) and also the __`in`__ operator\n",
    "  * or use a __`collections.defaultdict`__ if we've covered it\n",
    "* treat __The__ and __the__ as the same word when counting\n",
    "* print out words and counts, from most common to least common\n",
    "* EXTRA: remove punctuation, so __Hamlet,__ == __Hamlet__ # refer back to \"import this\"\n",
    "* Road Not Taken and Hamlet are in your materials"
   ]
  },
  {
   "cell_type": "code",
   "execution_count": null,
   "id": "57eafb94-bdb6-42ee-a7a0-d9b8c0194285",
   "metadata": {},
   "outputs": [],
   "source": [
    "# 0. create an empty dict to hold the counts\n",
    "# 1. ask for a filename\n",
    "# 2. open the file for reading\n",
    "# 3. for each line of the file\n",
    "#.   3a. make it lower case\n",
    "#.   3b. remove punctuation (possibly by exploding the line into a list, and then dropping out the punctuation)\n",
    "#.   4. for each word in the line:\n",
    "#.       4a. if the word is in the dict (I would use 'in' operator here)\n",
    "#.              increment its count in the dict (the value)\n",
    "#.       4b. otherwise/else\n",
    "#.              make a NEW entry for this word we haven't seen before and set its count to 1\n",
    "# 5. REVERSE sort the dictionary by values (not by keys)\n",
    "#     print it out, perhaps the first 10 or 20, or perhaps words appearing more than 10 or 20 times in the file"
   ]
  },
  {
   "cell_type": "markdown",
   "id": "21f3d341-3c85-449d-983e-8c6ff38fd4aa",
   "metadata": {},
   "source": [
    "## Reminder to write code ONLY when you have the steps to work from and translate into Python!\n",
    "* feel free to write your own steps and compare to mine"
   ]
  },
  {
   "cell_type": "markdown",
   "id": "70102e01-2929-490a-8a0d-a759b10aefb1",
   "metadata": {},
   "source": []
  },
  {
   "cell_type": "code",
   "execution_count": 91,
   "id": "aa42ba08-1dae-48dc-bd6a-a2b23df6256c",
   "metadata": {},
   "outputs": [
    {
     "name": "stdin",
     "output_type": "stream",
     "text": [
      "Enter a file and I will count the words in it:  hamlet.txt\n",
      "Display words that appear at least how many times:  25\n"
     ]
    },
    {
     "name": "stdout",
     "output_type": "stream",
     "text": [
      "the 1142\n",
      "and 964\n",
      "to 737\n",
      "of 669\n",
      "i 567\n",
      "you 546\n",
      "a 531\n",
      "my 513\n",
      "hamlet 463\n",
      "in 436\n",
      "it 416\n",
      "that 389\n",
      "is 340\n",
      "not 313\n",
      "lord 310\n",
      "his 296\n",
      "this 296\n",
      "but 270\n",
      "with 267\n",
      "for 248\n",
      "your 242\n",
      "me 233\n",
      "be 226\n",
      "as 221\n",
      "he 216\n",
      "what 204\n",
      "him 197\n",
      "king 194\n",
      "so 194\n",
      "have 179\n",
      "will 169\n",
      "horatio 157\n",
      "do 151\n",
      "no 142\n",
      "we 140\n",
      "are 131\n",
      "on 126\n",
      "o 122\n",
      "all 120\n",
      "claudius 120\n",
      "polonius 119\n",
      "our 118\n",
      "queen 118\n",
      "by 117\n",
      "shall 114\n",
      "if 113\n",
      "or 112\n",
      "good 109\n",
      "come 106\n",
      "laertes 105\n",
      "thou 103\n",
      "they 103\n",
      "now 98\n",
      "more 96\n",
      "let 95\n",
      "from 95\n",
      "gertrude 95\n",
      "her 91\n",
      "well 90\n",
      "how 90\n",
      "at 87\n",
      "thy 87\n",
      "ophelia 86\n",
      "most 82\n",
      "was 82\n",
      "like 80\n",
      "would 79\n",
      "there 77\n",
      "rosencrantz 76\n",
      "sir 75\n",
      "them 74\n",
      "know 74\n",
      "tis 73\n",
      "may 70\n",
      "go 70\n",
      "us 68\n",
      "love 67\n",
      "did 65\n",
      "first 65\n",
      "enter 64\n",
      "then 64\n",
      "which 64\n",
      "very 64\n",
      "guildenstern 64\n",
      "speak 63\n",
      "hath 62\n",
      "ill 61\n",
      "why 60\n",
      "must 60\n",
      "thee 58\n",
      "give 58\n",
      "should 58\n",
      "their 57\n",
      "make 56\n",
      "where 56\n",
      "an 56\n",
      "upon 55\n",
      "say 54\n",
      "when 54\n",
      "such 54\n",
      "some 54\n",
      "here 54\n",
      "out 54\n",
      "am 53\n",
      "man 52\n",
      "than 51\n",
      "too 51\n",
      "much 50\n",
      "father 50\n",
      "these 48\n",
      "think 47\n",
      "one 47\n",
      "clown 47\n",
      "marcellus 46\n",
      "see 46\n",
      "she 46\n",
      "had 45\n",
      "yet 44\n",
      "heaven 43\n",
      "time 43\n",
      "tell 43\n",
      "who 41\n",
      "thus 41\n",
      "play 40\n",
      "exit 40\n",
      "up 38\n",
      "ay 38\n",
      "mother 38\n",
      "own 37\n",
      "death 37\n",
      "nor 37\n",
      "night 36\n",
      "take 36\n",
      "look 36\n",
      "mine 36\n",
      "can 36\n",
      "exeunt 36\n",
      "soul 34\n",
      "hear 33\n",
      "dead 33\n",
      "again 32\n",
      "god 32\n",
      "might 32\n",
      "life 32\n",
      "could 32\n",
      "whose 31\n",
      "indeed 31\n",
      "into 31\n",
      "osric 31\n",
      "bernardo 30\n",
      "nothing 30\n",
      "made 30\n",
      "ghost 30\n",
      "pray 30\n",
      "heart 29\n",
      "hold 29\n",
      "dear 29\n",
      "down 28\n",
      "been 28\n",
      "cannot 28\n",
      "leave 28\n",
      "within 28\n",
      "were 28\n",
      "doth 27\n",
      "nature 27\n",
      "matter 27\n",
      "nay 26\n",
      "great 26\n",
      "both 26\n",
      "never 26\n",
      "thing 25\n",
      "part 25\n",
      "away 25\n",
      "does 25\n",
      "head 25\n",
      "sweet 25\n"
     ]
    }
   ],
   "source": [
    "word_counts = {} # 0\n",
    "filename = input('Enter a file and I will count the words in it: ') # 1\n",
    "frequency_limit = int(input('Display words that appear at least how many times: '))\n",
    "\n",
    "with open(filename) as input_file: # 2\n",
    "    for line in input_file: # 3: for each line in the file (a string) \n",
    "        # we could use a listcomp here, but we don't have to\n",
    "        line_list = [] # about to explode the line into a list...\n",
    "        \n",
    "        for char in line.lower(): # 3a/3b: make it lower case to avoid \"The\" vs. \"the\"\n",
    "            if char.isalpha() or char.isspace(): # for each char, if it's NOT punctuation\n",
    "                line_list.append(char) # add it to the list since it's not punctuation\n",
    "         \n",
    "        # now we have a list of chars that we can \"reconstitute\" back into a line for further processing\n",
    "        reconstituted_line = ''.join(line_list)\n",
    "        for word in reconstituted_line.split(): # reconstitute line and split into words\n",
    "            if word in word_counts:\n",
    "                word_counts[word] += 1 # 4a: we've seen it before, so increment its count\n",
    "            else:\n",
    "                word_counts[word] = 1 # 4b: new entry for this word we haven't seen before             \n",
    "# 5: sort by value using the .get() method as the sorting key\n",
    "# sort in reverse order, so words which appear more often are show first\n",
    "for dict_key in sorted(word_counts, key=word_counts.get, reverse=True): # sorted() returns a sorted list of all words in the doc\n",
    "    if word_counts[dict_key] < frequency_limit:\n",
    "        break\n",
    "    print(dict_key, word_counts[dict_key])"
   ]
  },
  {
   "cell_type": "code",
   "execution_count": 295,
   "id": "2196c8ba-7a4b-4ad4-9476-5fd833bfe67f",
   "metadata": {},
   "outputs": [
    {
     "name": "stdin",
     "output_type": "stream",
     "text": [
      "Enter a file and I will count the words in it:  djjkdjs\n",
      "Display words that appear at least how many times:  10\n"
     ]
    },
    {
     "ename": "FileNotFoundError",
     "evalue": "[Errno 2] No such file or directory: 'djjkdjs'",
     "output_type": "error",
     "traceback": [
      "\u001b[0;31m---------------------------------------------------------------------------\u001b[0m",
      "\u001b[0;31mFileNotFoundError\u001b[0m                         Traceback (most recent call last)",
      "Input \u001b[0;32mIn [295]\u001b[0m, in \u001b[0;36m<cell line: 5>\u001b[0;34m()\u001b[0m\n\u001b[1;32m      2\u001b[0m filename \u001b[38;5;241m=\u001b[39m \u001b[38;5;28minput\u001b[39m(\u001b[38;5;124m'\u001b[39m\u001b[38;5;124mEnter a file and I will count the words in it: \u001b[39m\u001b[38;5;124m'\u001b[39m) \u001b[38;5;66;03m# 1\u001b[39;00m\n\u001b[1;32m      3\u001b[0m frequency_limit \u001b[38;5;241m=\u001b[39m \u001b[38;5;28mint\u001b[39m(\u001b[38;5;28minput\u001b[39m(\u001b[38;5;124m'\u001b[39m\u001b[38;5;124mDisplay words that appear at least how many times: \u001b[39m\u001b[38;5;124m'\u001b[39m))\n\u001b[0;32m----> 5\u001b[0m \u001b[38;5;28;01mwith\u001b[39;00m \u001b[38;5;28;43mopen\u001b[39;49m\u001b[43m(\u001b[49m\u001b[43mfilename\u001b[49m\u001b[43m)\u001b[49m \u001b[38;5;28;01mas\u001b[39;00m input_file: \u001b[38;5;66;03m# 2\u001b[39;00m\n\u001b[1;32m      6\u001b[0m     \u001b[38;5;28;01mfor\u001b[39;00m line \u001b[38;5;129;01min\u001b[39;00m input_file: \u001b[38;5;66;03m# 3: for each line in the file (a string) \u001b[39;00m\n\u001b[1;32m      7\u001b[0m         line \u001b[38;5;241m=\u001b[39m \u001b[38;5;124m'\u001b[39m\u001b[38;5;124m'\u001b[39m\u001b[38;5;241m.\u001b[39mjoin([char \u001b[38;5;28;01mfor\u001b[39;00m char \u001b[38;5;129;01min\u001b[39;00m line\u001b[38;5;241m.\u001b[39mlower()\n\u001b[1;32m      8\u001b[0m                             \u001b[38;5;28;01mif\u001b[39;00m char\u001b[38;5;241m.\u001b[39misalpha() \u001b[38;5;129;01mor\u001b[39;00m char\u001b[38;5;241m.\u001b[39misspace()])   \n",
      "\u001b[0;31mFileNotFoundError\u001b[0m: [Errno 2] No such file or directory: 'djjkdjs'"
     ]
    }
   ],
   "source": [
    "word_counts = {} # 0\n",
    "filename = input('Enter a file and I will count the words in it: ') # 1\n",
    "frequency_limit = int(input('Display words that appear at least how many times: '))\n",
    "\n",
    "with open(filename) as input_file: # 2\n",
    "    for line in input_file: # 3: for each line in the file (a string) \n",
    "        line = ''.join([char for char in line.lower()\n",
    "                            if char.isalpha() or char.isspace()])   \n",
    "        for word in line.split(): # reconstitute line and split into words\n",
    "            if word in word_counts:\n",
    "                word_counts[word] += 1 # 4a: we've seen it before, so increment its count\n",
    "            else:\n",
    "                word_counts[word] = 1 # 4b: new entry for this word we haven't seen before             \n",
    "# 5: sort by value using the .get() method as the sorting key\n",
    "# sort in reverse order, so words which appear more often are show first\n",
    "for dict_key in sorted(word_counts, key=word_counts.get, reverse=True): # sorted() returns a sorted list of all words in the doc\n",
    "    if word_counts[dict_key] < frequency_limit:\n",
    "        break\n",
    "    print(dict_key, word_counts[dict_key])"
   ]
  },
  {
   "cell_type": "code",
   "execution_count": 3,
   "id": "ccba51f4-fbab-4c75-b8d8-40278e59d80d",
   "metadata": {},
   "outputs": [
    {
     "name": "stdout",
     "output_type": "stream",
     "text": [
      "Enter a file and I will count the words in it: hamlet.txt\n",
      "Display words that appear at least how many times: 100\n",
      "the 1142\n",
      "and 964\n",
      "to 737\n",
      "of 669\n",
      "i 567\n",
      "you 546\n",
      "a 531\n",
      "my 513\n",
      "hamlet 463\n",
      "in 436\n",
      "it 416\n",
      "that 389\n",
      "is 340\n",
      "not 313\n",
      "lord 310\n",
      "his 296\n",
      "this 296\n",
      "but 270\n",
      "with 267\n",
      "for 248\n",
      "your 242\n",
      "me 233\n",
      "be 226\n",
      "as 221\n",
      "he 216\n",
      "what 204\n",
      "him 197\n",
      "king 194\n",
      "so 194\n",
      "have 179\n",
      "will 169\n",
      "horatio 157\n",
      "do 151\n",
      "no 142\n",
      "we 140\n",
      "are 131\n",
      "on 126\n",
      "o 122\n",
      "all 120\n",
      "claudius 120\n",
      "polonius 119\n",
      "our 118\n",
      "queen 118\n",
      "by 117\n",
      "shall 114\n",
      "if 113\n",
      "or 112\n",
      "good 109\n",
      "come 106\n",
      "laertes 105\n",
      "thou 103\n",
      "they 103\n"
     ]
    }
   ],
   "source": [
    "word_counts = {} # 0\n",
    "filename = input('Enter a file and I will count the words in it: ') # 1\n",
    "frequency_limit = int(input('Display words that appear at least how many times: '))\n",
    "\n",
    "with open(filename) as input_file: # 2\n",
    "    for line in input_file: # 3: for each line in the file (a string) \n",
    "        line = ''.join([char for char in line.lower()\n",
    "                            if char.isalpha() or char.isspace()])   \n",
    "        for word in line.split(): # reconstitute line and split into words\n",
    "            word_counts[word] += word_counts.get(word, 0) + 1\n",
    "\n",
    "# 5: sort by value using the .get() method as the sorting key\n",
    "# sort in reverse order, so words which appear more often are show first\n",
    "for dict_key in sorted(word_counts, key=word_counts.get, reverse=True): # sorted() returns a sorted list of all words in the doc\n",
    "    if word_counts[dict_key] < frequency_limit:\n",
    "        break\n",
    "    print(dict_key, word_counts[dict_key])"
   ]
  },
  {
   "cell_type": "code",
   "execution_count": 15,
   "id": "264a4554",
   "metadata": {},
   "outputs": [
    {
     "name": "stdout",
     "output_type": "stream",
     "text": [
      "Enter a file and I will count the words in it: poem.txt\n",
      "Display words that appear at least how many times: 1\n",
      "and 9\n",
      "i 9\n",
      "the 8\n",
      "as 5\n",
      "in 4\n",
      "a 3\n",
      "one 3\n",
      "that 3\n",
      "two 2\n",
      "roads 2\n",
      "diverged 2\n",
      "wood 2\n",
      "could 2\n",
      "both 2\n",
      "be 2\n",
      "to 2\n",
      "it 2\n",
      "took 2\n",
      "for 2\n",
      "had 2\n",
      "way 2\n",
      "ages 2\n",
      "yellow 1\n",
      "sorry 1\n",
      "not 1\n",
      "travel 1\n",
      "traveler 1\n",
      "long 1\n",
      "stood 1\n",
      "looked 1\n",
      "down 1\n",
      "far 1\n",
      "where 1\n",
      "bent 1\n",
      "undergrowth 1\n",
      "then 1\n",
      "other 1\n",
      "just 1\n",
      "fair 1\n",
      "having 1\n",
      "perhaps 1\n",
      "better 1\n",
      "claim 1\n",
      "because 1\n",
      "was 1\n",
      "grassy 1\n",
      "wanted 1\n",
      "wear 1\n",
      "though 1\n",
      "passing 1\n",
      "there 1\n",
      "worn 1\n",
      "them 1\n",
      "really 1\n",
      "about 1\n",
      "same 1\n",
      "morning 1\n",
      "equally 1\n",
      "lay 1\n",
      "leaves 1\n",
      "no 1\n",
      "step 1\n",
      "trodden 1\n",
      "black 1\n",
      "oh 1\n",
      "kept 1\n",
      "first 1\n",
      "another 1\n",
      "day 1\n",
      "yet 1\n",
      "knowing 1\n",
      "how 1\n",
      "leads 1\n",
      "on 1\n",
      "doubted 1\n",
      "if 1\n",
      "should 1\n",
      "ever 1\n",
      "come 1\n",
      "back 1\n",
      "shall 1\n",
      "telling 1\n",
      "this 1\n",
      "with 1\n",
      "sigh 1\n",
      "somewhere 1\n",
      "hence 1\n",
      "less 1\n",
      "traveled 1\n",
      "by 1\n",
      "has 1\n",
      "made 1\n",
      "all 1\n",
      "difference 1\n"
     ]
    }
   ],
   "source": [
    "from collections import defaultdict\n",
    "\n",
    "word_counts = defaultdict(int) # 0\n",
    "filename = input('Enter a file and I will count the words in it: ') # 1\n",
    "frequency_limit = int(input('Display words that appear at least how many times: '))\n",
    "\n",
    "with open(filename) as input_file: # 2\n",
    "    for line in input_file: # 3: for each line in the file (a string) \n",
    "        line = ''.join([char for char in line.lower()\n",
    "                            if char.isalpha() or char.isspace()])   \n",
    "        for word in line.split(): # reconstitute line and split into words\n",
    "            word_counts[word] += 1\n",
    "\n",
    "# 5: sort by value using the .get() method as the sorting key\n",
    "# sort in reverse order, so words which appear more often are show first\n",
    "for dict_key in sorted(word_counts, key=word_counts.get, reverse=True): # sorted() returns a sorted list of all words in the doc\n",
    "    if word_counts[dict_key] < frequency_limit:\n",
    "        break\n",
    "    print(dict_key, word_counts[dict_key])"
   ]
  },
  {
   "cell_type": "code",
   "execution_count": 14,
   "id": "64ba14a0",
   "metadata": {},
   "outputs": [
    {
     "data": {
      "text/plain": [
       "defaultdict(int,\n",
       "            {'the': 1142,\n",
       "             'tragedy': 3,\n",
       "             'of': 669,\n",
       "             'hamlet': 463,\n",
       "             'prince': 10,\n",
       "             'denmark': 21,\n",
       "             'shakespeare': 1,\n",
       "             'homepage': 1,\n",
       "             'entire': 1,\n",
       "             'play': 40,\n",
       "             'act': 19,\n",
       "             'i': 567,\n",
       "             'scene': 23,\n",
       "             'elsinore': 6,\n",
       "             'a': 531,\n",
       "             'platform': 5,\n",
       "             'before': 21,\n",
       "             'castle': 13,\n",
       "             'francisco': 10,\n",
       "             'at': 87,\n",
       "             'his': 296,\n",
       "             'post': 2,\n",
       "             'enter': 64,\n",
       "             'to': 737,\n",
       "             'him': 197,\n",
       "             'bernardo': 30,\n",
       "             'whos': 2,\n",
       "             'there': 77,\n",
       "             'nay': 26,\n",
       "             'answer': 14,\n",
       "             'me': 233,\n",
       "             'stand': 15,\n",
       "             'and': 964,\n",
       "             'unfold': 3,\n",
       "             'yourself': 15,\n",
       "             'long': 17,\n",
       "             'live': 15,\n",
       "             'king': 194,\n",
       "             'he': 216,\n",
       "             'you': 546,\n",
       "             'come': 106,\n",
       "             'most': 82,\n",
       "             'carefully': 1,\n",
       "             'upon': 55,\n",
       "             'your': 242,\n",
       "             'hour': 8,\n",
       "             'tis': 73,\n",
       "             'now': 98,\n",
       "             'struck': 6,\n",
       "             'twelve': 5,\n",
       "             'get': 9,\n",
       "             'thee': 58,\n",
       "             'bed': 11,\n",
       "             'for': 248,\n",
       "             'this': 296,\n",
       "             'relief': 1,\n",
       "             'much': 50,\n",
       "             'thanks': 10,\n",
       "             'bitter': 3,\n",
       "             'cold': 6,\n",
       "             'am': 53,\n",
       "             'sick': 4,\n",
       "             'heart': 29,\n",
       "             'have': 179,\n",
       "             'had': 45,\n",
       "             'quiet': 5,\n",
       "             'guard': 3,\n",
       "             'not': 313,\n",
       "             'mouse': 2,\n",
       "             'stirring': 1,\n",
       "             'well': 90,\n",
       "             'good': 109,\n",
       "             'night': 36,\n",
       "             'if': 113,\n",
       "             'do': 151,\n",
       "             'meet': 8,\n",
       "             'horatio': 157,\n",
       "             'marcellus': 46,\n",
       "             'rivals': 1,\n",
       "             'my': 513,\n",
       "             'watch': 15,\n",
       "             'bid': 6,\n",
       "             'them': 74,\n",
       "             'make': 56,\n",
       "             'haste': 12,\n",
       "             'think': 47,\n",
       "             'hear': 33,\n",
       "             'ho': 14,\n",
       "             'friends': 20,\n",
       "             'ground': 10,\n",
       "             'liegemen': 1,\n",
       "             'dane': 6,\n",
       "             'give': 58,\n",
       "             'o': 122,\n",
       "             'farewell': 17,\n",
       "             'honest': 11,\n",
       "             'soldier': 2,\n",
       "             'who': 41,\n",
       "             'hath': 62,\n",
       "             'relieved': 2,\n",
       "             'has': 16,\n",
       "             'place': 9,\n",
       "             'exit': 40,\n",
       "             'holla': 1,\n",
       "             'say': 54,\n",
       "             'what': 204,\n",
       "             'is': 340,\n",
       "             'piece': 4,\n",
       "             'welcome': 17,\n",
       "             'thing': 25,\n",
       "             'appeard': 3,\n",
       "             'again': 32,\n",
       "             'tonight': 11,\n",
       "             'seen': 22,\n",
       "             'nothing': 30,\n",
       "             'says': 8,\n",
       "             'but': 270,\n",
       "             'our': 118,\n",
       "             'fantasy': 3,\n",
       "             'will': 169,\n",
       "             'let': 95,\n",
       "             'belief': 1,\n",
       "             'take': 36,\n",
       "             'hold': 29,\n",
       "             'touching': 3,\n",
       "             'dreaded': 1,\n",
       "             'sight': 9,\n",
       "             'twice': 4,\n",
       "             'us': 68,\n",
       "             'therefore': 15,\n",
       "             'entreated': 1,\n",
       "             'along': 3,\n",
       "             'with': 267,\n",
       "             'minutes': 1,\n",
       "             'that': 389,\n",
       "             'apparition': 2,\n",
       "             'may': 70,\n",
       "             'approve': 2,\n",
       "             'eyes': 23,\n",
       "             'speak': 63,\n",
       "             'it': 416,\n",
       "             'tush': 2,\n",
       "             'twill': 4,\n",
       "             'appear': 3,\n",
       "             'sit': 8,\n",
       "             'down': 28,\n",
       "             'awhile': 12,\n",
       "             'once': 19,\n",
       "             'assail': 1,\n",
       "             'ears': 10,\n",
       "             'are': 131,\n",
       "             'so': 194,\n",
       "             'fortified': 1,\n",
       "             'against': 23,\n",
       "             'story': 3,\n",
       "             'we': 140,\n",
       "             'two': 23,\n",
       "             'nights': 4,\n",
       "             'last': 15,\n",
       "             'all': 120,\n",
       "             'when': 54,\n",
       "             'yond': 1,\n",
       "             'same': 12,\n",
       "             'star': 6,\n",
       "             'thats': 16,\n",
       "             'westward': 1,\n",
       "             'from': 95,\n",
       "             'pole': 2,\n",
       "             'made': 30,\n",
       "             'course': 5,\n",
       "             'illume': 1,\n",
       "             'part': 25,\n",
       "             'heaven': 43,\n",
       "             'where': 56,\n",
       "             'burns': 2,\n",
       "             'myself': 12,\n",
       "             'bell': 2,\n",
       "             'then': 64,\n",
       "             'beating': 3,\n",
       "             'one': 47,\n",
       "             'ghost': 30,\n",
       "             'peace': 10,\n",
       "             'break': 8,\n",
       "             'off': 21,\n",
       "             'look': 36,\n",
       "             'comes': 24,\n",
       "             'in': 436,\n",
       "             'figure': 5,\n",
       "             'like': 80,\n",
       "             'dead': 33,\n",
       "             'thou': 103,\n",
       "             'art': 17,\n",
       "             'scholar': 1,\n",
       "             'looks': 8,\n",
       "             'mark': 14,\n",
       "             'harrows': 1,\n",
       "             'fear': 20,\n",
       "             'wonder': 3,\n",
       "             'would': 79,\n",
       "             'be': 226,\n",
       "             'spoke': 2,\n",
       "             'question': 16,\n",
       "             'usurpst': 1,\n",
       "             'time': 43,\n",
       "             'together': 12,\n",
       "             'fair': 21,\n",
       "             'warlike': 5,\n",
       "             'form': 13,\n",
       "             'which': 64,\n",
       "             'majesty': 16,\n",
       "             'buried': 6,\n",
       "             'did': 65,\n",
       "             'sometimes': 4,\n",
       "             'march': 7,\n",
       "             'by': 117,\n",
       "             'charge': 8,\n",
       "             'offended': 3,\n",
       "             'see': 46,\n",
       "             'stalks': 1,\n",
       "             'away': 25,\n",
       "             'stay': 11,\n",
       "             'gone': 14,\n",
       "             'how': 90,\n",
       "             'tremble': 2,\n",
       "             'pale': 8,\n",
       "             'something': 12,\n",
       "             'more': 96,\n",
       "             'than': 51,\n",
       "             'ont': 8,\n",
       "             'god': 32,\n",
       "             'might': 32,\n",
       "             'believe': 19,\n",
       "             'without': 20,\n",
       "             'sensible': 2,\n",
       "             'true': 23,\n",
       "             'avouch': 1,\n",
       "             'mine': 36,\n",
       "             'own': 37,\n",
       "             'as': 221,\n",
       "             'thyself': 5,\n",
       "             'such': 54,\n",
       "             'was': 82,\n",
       "             'very': 64,\n",
       "             'armour': 3,\n",
       "             'on': 126,\n",
       "             'ambitious': 3,\n",
       "             'norway': 12,\n",
       "             'combated': 1,\n",
       "             'frownd': 1,\n",
       "             'an': 56,\n",
       "             'angry': 1,\n",
       "             'parle': 1,\n",
       "             'smote': 1,\n",
       "             'sledded': 1,\n",
       "             'polacks': 1,\n",
       "             'ice': 2,\n",
       "             'strange': 9,\n",
       "             'thus': 41,\n",
       "             'jump': 2,\n",
       "             'martial': 1,\n",
       "             'stalk': 1,\n",
       "             'particular': 8,\n",
       "             'thought': 11,\n",
       "             'work': 10,\n",
       "             'know': 74,\n",
       "             'gross': 3,\n",
       "             'scope': 3,\n",
       "             'opinion': 1,\n",
       "             'bodes': 1,\n",
       "             'some': 54,\n",
       "             'eruption': 1,\n",
       "             'state': 15,\n",
       "             'tell': 43,\n",
       "             'knows': 3,\n",
       "             'why': 60,\n",
       "             'strict': 2,\n",
       "             'observant': 1,\n",
       "             'nightly': 1,\n",
       "             'toils': 1,\n",
       "             'subject': 3,\n",
       "             'land': 5,\n",
       "             'daily': 1,\n",
       "             'cast': 6,\n",
       "             'brazen': 1,\n",
       "             'cannon': 4,\n",
       "             'foreign': 1,\n",
       "             'mart': 1,\n",
       "             'implements': 1,\n",
       "             'war': 2,\n",
       "             'impress': 1,\n",
       "             'shipwrights': 1,\n",
       "             'whose': 31,\n",
       "             'sore': 3,\n",
       "             'task': 1,\n",
       "             'does': 25,\n",
       "             'divide': 2,\n",
       "             'sunday': 1,\n",
       "             'week': 1,\n",
       "             'toward': 6,\n",
       "             'sweaty': 1,\n",
       "             'doth': 27,\n",
       "             'jointlabourer': 1,\n",
       "             'day': 21,\n",
       "             'ist': 17,\n",
       "             'can': 36,\n",
       "             'inform': 2,\n",
       "             'least': 2,\n",
       "             'whisper': 1,\n",
       "             'goes': 12,\n",
       "             'image': 4,\n",
       "             'even': 24,\n",
       "             'fortinbras': 21,\n",
       "             'thereto': 1,\n",
       "             'prickd': 1,\n",
       "             'emulate': 1,\n",
       "             'pride': 1,\n",
       "             'dared': 1,\n",
       "             'combat': 1,\n",
       "             'valiant': 2,\n",
       "             'side': 2,\n",
       "             'known': 8,\n",
       "             'world': 24,\n",
       "             'esteemd': 1,\n",
       "             'slay': 1,\n",
       "             'seald': 6,\n",
       "             'compact': 1,\n",
       "             'ratified': 1,\n",
       "             'law': 7,\n",
       "             'heraldry': 2,\n",
       "             'forfeit': 1,\n",
       "             'life': 32,\n",
       "             'those': 21,\n",
       "             'lands': 4,\n",
       "             'stood': 6,\n",
       "             'seized': 1,\n",
       "             'conqueror': 1,\n",
       "             'moiety': 1,\n",
       "             'competent': 1,\n",
       "             'gaged': 1,\n",
       "             'returnd': 4,\n",
       "             'inheritance': 1,\n",
       "             'been': 28,\n",
       "             'vanquisher': 1,\n",
       "             'covenant': 1,\n",
       "             'carriage': 1,\n",
       "             'article': 2,\n",
       "             'designd': 1,\n",
       "             'fell': 9,\n",
       "             'sir': 75,\n",
       "             'young': 17,\n",
       "             'unimproved': 1,\n",
       "             'mettle': 1,\n",
       "             'hot': 6,\n",
       "             'full': 11,\n",
       "             'skirts': 1,\n",
       "             'here': 54,\n",
       "             'sharkd': 1,\n",
       "             'up': 38,\n",
       "             'list': 7,\n",
       "             'lawless': 2,\n",
       "             'resolutes': 1,\n",
       "             'food': 2,\n",
       "             'diet': 2,\n",
       "             'enterprise': 2,\n",
       "             'stomach': 1,\n",
       "             'int': 9,\n",
       "             'no': 142,\n",
       "             'other': 15,\n",
       "             'unto': 7,\n",
       "             'recover': 3,\n",
       "             'strong': 4,\n",
       "             'hand': 19,\n",
       "             'terms': 5,\n",
       "             'compulsatory': 1,\n",
       "             'foresaid': 1,\n",
       "             'father': 50,\n",
       "             'lost': 8,\n",
       "             'main': 4,\n",
       "             'motive': 5,\n",
       "             'preparations': 1,\n",
       "             'source': 2,\n",
       "             'chief': 3,\n",
       "             'head': 25,\n",
       "             'posthaste': 1,\n",
       "             'romage': 1,\n",
       "             'een': 11,\n",
       "             'sort': 3,\n",
       "             'portentous': 1,\n",
       "             'armed': 3,\n",
       "             'through': 9,\n",
       "             'these': 48,\n",
       "             'wars': 2,\n",
       "             'mote': 1,\n",
       "             'trouble': 2,\n",
       "             'minds': 4,\n",
       "             'eye': 15,\n",
       "             'high': 4,\n",
       "             'palmy': 1,\n",
       "             'rome': 2,\n",
       "             'little': 18,\n",
       "             'ere': 13,\n",
       "             'mightiest': 1,\n",
       "             'julius': 2,\n",
       "             'graves': 3,\n",
       "             'tenantless': 1,\n",
       "             'sheeted': 1,\n",
       "             'squeak': 1,\n",
       "             'gibber': 1,\n",
       "             'roman': 2,\n",
       "             'streets': 2,\n",
       "             'stars': 4,\n",
       "             'trains': 2,\n",
       "             'fire': 12,\n",
       "             'dews': 1,\n",
       "             'blood': 19,\n",
       "             'disasters': 1,\n",
       "             'sun': 8,\n",
       "             'moist': 1,\n",
       "             'influence': 1,\n",
       "             'neptunes': 2,\n",
       "             'empire': 2,\n",
       "             'stands': 5,\n",
       "             'almost': 10,\n",
       "             'doomsday': 3,\n",
       "             'eclipse': 1,\n",
       "             'precurse': 1,\n",
       "             'fierce': 1,\n",
       "             'events': 1,\n",
       "             'harbingers': 1,\n",
       "             'preceding': 1,\n",
       "             'still': 19,\n",
       "             'fates': 2,\n",
       "             'prologue': 6,\n",
       "             'omen': 1,\n",
       "             'coming': 7,\n",
       "             'earth': 24,\n",
       "             'demonstrated': 1,\n",
       "             'climatures': 1,\n",
       "             'countrymen': 1,\n",
       "             'soft': 8,\n",
       "             'behold': 1,\n",
       "             'lo': 3,\n",
       "             'reenter': 8,\n",
       "             'ill': 61,\n",
       "             'cross': 1,\n",
       "             'though': 24,\n",
       "             'blast': 2,\n",
       "             'illusion': 1,\n",
       "             'hast': 16,\n",
       "             'any': 17,\n",
       "             'sound': 6,\n",
       "             'or': 112,\n",
       "             'use': 16,\n",
       "             'voice': 12,\n",
       "             'done': 21,\n",
       "             'ease': 4,\n",
       "             'grace': 13,\n",
       "             'cock': 6,\n",
       "             'crows': 1,\n",
       "             'privy': 1,\n",
       "             'thy': 87,\n",
       "             'countrys': 1,\n",
       "             'fate': 2,\n",
       "             'happily': 2,\n",
       "             'foreknowing': 1,\n",
       "             'avoid': 3,\n",
       "             'uphoarded': 1,\n",
       "             'extorted': 1,\n",
       "             'treasure': 4,\n",
       "             'womb': 1,\n",
       "             'they': 103,\n",
       "             'spirits': 5,\n",
       "             'oft': 12,\n",
       "             'walk': 9,\n",
       "             'death': 37,\n",
       "             'stop': 4,\n",
       "             'shall': 114,\n",
       "             'strike': 2,\n",
       "             'partisan': 1,\n",
       "             'wrong': 6,\n",
       "             'being': 12,\n",
       "             'majestical': 2,\n",
       "             'offer': 3,\n",
       "             'show': 22,\n",
       "             'violence': 4,\n",
       "             'air': 12,\n",
       "             'invulnerable': 1,\n",
       "             'vain': 1,\n",
       "             'blows': 2,\n",
       "             'malicious': 2,\n",
       "             'mockery': 1,\n",
       "             'about': 18,\n",
       "             'crew': 2,\n",
       "             'started': 1,\n",
       "             'guilty': 6,\n",
       "             'fearful': 1,\n",
       "             'summons': 1,\n",
       "             'heard': 14,\n",
       "             'trumpet': 5,\n",
       "             'morn': 3,\n",
       "             'lofty': 1,\n",
       "             'shrillsounding': 1,\n",
       "             'throat': 4,\n",
       "             'awake': 2,\n",
       "             'warning': 1,\n",
       "             'whether': 7,\n",
       "             'sea': 6,\n",
       "             'extravagant': 1,\n",
       "             'erring': 1,\n",
       "             'spirit': 14,\n",
       "             'hies': 1,\n",
       "             'confine': 2,\n",
       "             'truth': 6,\n",
       "             'herein': 4,\n",
       "             'present': 3,\n",
       "             'object': 1,\n",
       "             'probation': 1,\n",
       "             'faded': 1,\n",
       "             'crowing': 1,\n",
       "             'ever': 13,\n",
       "             'gainst': 5,\n",
       "             'season': 6,\n",
       "             'wherein': 7,\n",
       "             'saviours': 1,\n",
       "             'birth': 3,\n",
       "             'celebrated': 1,\n",
       "             'bird': 2,\n",
       "             'dawning': 1,\n",
       "             'singeth': 1,\n",
       "             'dares': 1,\n",
       "             'stir': 5,\n",
       "             'abroad': 1,\n",
       "             'wholesome': 7,\n",
       "             'planets': 1,\n",
       "             'fairy': 1,\n",
       "             'takes': 10,\n",
       "             'nor': 37,\n",
       "             'witch': 1,\n",
       "             'power': 8,\n",
       "             'charm': 1,\n",
       "             'hallowd': 1,\n",
       "             'gracious': 6,\n",
       "             'russet': 1,\n",
       "             'mantle': 1,\n",
       "             'clad': 1,\n",
       "             'walks': 2,\n",
       "             'oer': 13,\n",
       "             'dew': 3,\n",
       "             'yon': 1,\n",
       "             'eastward': 1,\n",
       "             'hill': 3,\n",
       "             'advice': 3,\n",
       "             'impart': 5,\n",
       "             'dumb': 4,\n",
       "             'consent': 4,\n",
       "             'acquaint': 1,\n",
       "             'needful': 2,\n",
       "             'loves': 7,\n",
       "             'fitting': 1,\n",
       "             'duty': 13,\n",
       "             'lets': 13,\n",
       "             'dot': 9,\n",
       "             'pray': 30,\n",
       "             'morning': 5,\n",
       "             'find': 17,\n",
       "             'conveniently': 1,\n",
       "             'exeunt': 36,\n",
       "             'ii': 6,\n",
       "             'room': 14,\n",
       "             'claudius': 120,\n",
       "             'queen': 118,\n",
       "             'gertrude': 95,\n",
       "             'polonius': 119,\n",
       "             'laertes': 105,\n",
       "             'voltimand': 8,\n",
       "             'cornelius': 6,\n",
       "             'lords': 3,\n",
       "             'attendants': 8,\n",
       "             'yet': 44,\n",
       "             'dear': 29,\n",
       "             'brothers': 9,\n",
       "             'memory': 10,\n",
       "             'green': 2,\n",
       "             'befitted': 1,\n",
       "             'bear': 14,\n",
       "             'hearts': 3,\n",
       "             'grief': 14,\n",
       "             'whole': 7,\n",
       "             'kingdom': 5,\n",
       "             'contracted': 1,\n",
       "             'brow': 4,\n",
       "             'woe': 8,\n",
       "             'far': 11,\n",
       "             'discretion': 4,\n",
       "             'fought': 1,\n",
       "             'nature': 27,\n",
       "             'wisest': 3,\n",
       "             'sorrow': 6,\n",
       "             'remembrance': 4,\n",
       "             'ourselves': 13,\n",
       "             'sometime': 2,\n",
       "             'sister': 6,\n",
       "             'imperial': 1,\n",
       "             'jointress': 1,\n",
       "             'twere': 10,\n",
       "             'defeated': 1,\n",
       "             'joy': 8,\n",
       "             'auspicious': 1,\n",
       "             'dropping': 1,\n",
       "             'mirth': 2,\n",
       "             'funeral': 4,\n",
       "             'dirge': 1,\n",
       "             'marriage': 5,\n",
       "             'equal': 2,\n",
       "             'scale': 2,\n",
       "             'weighing': 1,\n",
       "             'delight': 3,\n",
       "             'dole': 1,\n",
       "             'taken': 2,\n",
       "             'wife': 8,\n",
       "             'barrd': 1,\n",
       "             'better': 14,\n",
       "             'wisdoms': 1,\n",
       "             'freely': 4,\n",
       "             'affair': 4,\n",
       "             'follows': 4,\n",
       "             'holding': 1,\n",
       "             'weak': 2,\n",
       "             'supposal': 1,\n",
       "             'worth': 3,\n",
       "             'thinking': 4,\n",
       "             'late': 9,\n",
       "             'disjoint': 1,\n",
       "             'out': 54,\n",
       "             'frame': 4,\n",
       "             'colleagued': 1,\n",
       "             'dream': 6,\n",
       "             'advantage': 1,\n",
       "             'faild': 1,\n",
       "             'pester': 1,\n",
       "             'message': 1,\n",
       "             'importing': 3,\n",
       "             'surrender': 1,\n",
       "             'bonds': 1,\n",
       "             'brother': 9,\n",
       "             'ourself': 3,\n",
       "             'meeting': 2,\n",
       "             'business': 11,\n",
       "             'writ': 6,\n",
       "             'uncle': 9,\n",
       "             'impotent': 1,\n",
       "             'bedrid': 1,\n",
       "             'scarcely': 1,\n",
       "             'hears': 3,\n",
       "             'nephews': 3,\n",
       "             'purposeto': 1,\n",
       "             'suppress': 2,\n",
       "             'further': 12,\n",
       "             'gait': 2,\n",
       "             'levies': 2,\n",
       "             'lists': 1,\n",
       "             'proportions': 1,\n",
       "             'dispatch': 2,\n",
       "             'bearers': 2,\n",
       "             'greeting': 1,\n",
       "             'old': 20,\n",
       "             'giving': 4,\n",
       "             'personal': 1,\n",
       "             'delated': 1,\n",
       "             'articles': 1,\n",
       "             'allow': 1,\n",
       "             'commend': 4,\n",
       "             'things': 12,\n",
       "             'doubt': 11,\n",
       "             'heartily': 3,\n",
       "             'whats': 12,\n",
       "             'news': 10,\n",
       "             'told': 5,\n",
       "             'suit': 3,\n",
       "             'cannot': 28,\n",
       "             'reason': 14,\n",
       "             'loose': 3,\n",
       "             'wouldst': 6,\n",
       "             'beg': 7,\n",
       "             'asking': 2,\n",
       "             'native': 4,\n",
       "             'instrumental': 1,\n",
       "             'mouth': 6,\n",
       "             'throne': 2,\n",
       "             'dread': 5,\n",
       "             'lord': 310,\n",
       "             'leave': 28,\n",
       "             'favour': 4,\n",
       "             'return': 5,\n",
       "             'france': 5,\n",
       "             'whence': 1,\n",
       "             'willingly': 2,\n",
       "             'came': 9,\n",
       "             'coronation': 1,\n",
       "             'must': 60,\n",
       "             'confess': 6,\n",
       "             'thoughts': 17,\n",
       "             'wishes': 1,\n",
       "             'bend': 3,\n",
       "             'bow': 3,\n",
       "             'pardon': 6,\n",
       "             'fathers': 20,\n",
       "             'wrung': 1,\n",
       "             'slow': 3,\n",
       "             'laboursome': 1,\n",
       "             'petition': 1,\n",
       "             'hard': 5,\n",
       "             'beseech': 7,\n",
       "             'go': 70,\n",
       "             'thine': 13,\n",
       "             'best': 11,\n",
       "             'graces': 2,\n",
       "             'spend': 1,\n",
       "             'cousin': 4,\n",
       "             'son': 20,\n",
       "             'aside': 12,\n",
       "             'kin': 2,\n",
       "             'less': 8,\n",
       "             'kind': 12,\n",
       "             'clouds': 4,\n",
       "             'hang': 4,\n",
       "             'too': 51,\n",
       "             'nighted': 1,\n",
       "             'colour': 5,\n",
       "             'friend': 13,\n",
       "             'vailed': 1,\n",
       "             'lids': 1,\n",
       "             'seek': 9,\n",
       "             'noble': 17,\n",
       "             'dust': 7,\n",
       "             'knowst': 2,\n",
       "             'common': 7,\n",
       "             'lives': 4,\n",
       "             'die': 6,\n",
       "             'passing': 3,\n",
       "             'eternity': 1,\n",
       "             'ay': 38,\n",
       "             'madam': 12,\n",
       "             'seems': 6,\n",
       "             'alone': 10,\n",
       "             'inky': 1,\n",
       "             'cloak': 1,\n",
       "             'mother': 38,\n",
       "             'customary': 1,\n",
       "             'suits': 3,\n",
       "             'solemn': 3,\n",
       "             'black': 8,\n",
       "             'windy': 1,\n",
       "             'suspiration': 1,\n",
       "             'forced': 2,\n",
       "             'breath': 9,\n",
       "             'fruitful': 1,\n",
       "             'river': 1,\n",
       "             'dejected': 1,\n",
       "             'havior': 2,\n",
       "             'visage': 5,\n",
       "             'forms': 3,\n",
       "             'moods': 1,\n",
       "             'shapes': 3,\n",
       "             'denote': 1,\n",
       "             'truly': 8,\n",
       "             'indeed': 31,\n",
       "             'seem': 10,\n",
       "             'actions': 2,\n",
       "             'man': 52,\n",
       "             'within': 28,\n",
       "             'passeth': 1,\n",
       "             'trappings': 1,\n",
       "             'sweet': 25,\n",
       "             'commendable': 1,\n",
       "             'mourning': 1,\n",
       "             'duties': 1,\n",
       "             'survivor': 1,\n",
       "             'bound': 5,\n",
       "             'filial': 1,\n",
       "             'obligation': 2,\n",
       "             'term': 2,\n",
       "             'obsequious': 1,\n",
       "             'persever': 1,\n",
       "             'obstinate': 1,\n",
       "             'condolement': 1,\n",
       "             'impious': 1,\n",
       "             'stubbornness': 1,\n",
       "             'unmanly': 1,\n",
       "             'shows': 7,\n",
       "             'incorrect': 1,\n",
       "             'unfortified': 1,\n",
       "             'mind': 12,\n",
       "             'impatient': 1,\n",
       "             'understanding': 3,\n",
       "             'simple': 1,\n",
       "             'unschoold': 1,\n",
       "             'vulgar': 2,\n",
       "             'sense': 13,\n",
       "             'should': 58,\n",
       "             'peevish': 1,\n",
       "             'opposition': 2,\n",
       "             'fie': 6,\n",
       "             'fault': 5,\n",
       "             'absurd': 2,\n",
       "             'theme': 3,\n",
       "             'cried': 3,\n",
       "             'first': 65,\n",
       "             'corse': 3,\n",
       "             'till': 20,\n",
       "             'died': 4,\n",
       "             'today': 2,\n",
       "             'throw': 5,\n",
       "             'unprevailing': 1,\n",
       "             'note': 6,\n",
       "             'immediate': 2,\n",
       "             'nobility': 1,\n",
       "             'love': 67,\n",
       "             'dearest': 2,\n",
       "             'bears': 2,\n",
       "             'intent': 2,\n",
       "             'going': 2,\n",
       "             'back': 8,\n",
       "             'school': 1,\n",
       "             'wittenberg': 4,\n",
       "             'retrograde': 1,\n",
       "             'desire': 8,\n",
       "             'remain': 2,\n",
       "             'cheer': 3,\n",
       "             'comfort': 1,\n",
       "             'chiefest': 1,\n",
       "             'courtier': 3,\n",
       "             'lose': 6,\n",
       "             'her': 91,\n",
       "             'prayers': 2,\n",
       "             'obey': 7,\n",
       "             'loving': 3,\n",
       "             'reply': 2,\n",
       "             'gentle': 5,\n",
       "             'unforced': 1,\n",
       "             'accord': 1,\n",
       "             'sits': 4,\n",
       "             'smiling': 3,\n",
       "             'whereof': 2,\n",
       "             'jocund': 1,\n",
       "             'health': 6,\n",
       "             'drinks': 1,\n",
       "             'great': 26,\n",
       "             'kings': 10,\n",
       "             'rouse': 3,\n",
       "             'heavens': 10,\n",
       "             'bruit': 1,\n",
       "             'respeaking': 1,\n",
       "             'earthly': 1,\n",
       "             'thunder': 2,\n",
       "             'solid': 1,\n",
       "             'flesh': 5,\n",
       "             'melt': 2,\n",
       "             'thaw': 1,\n",
       "             'resolve': 1,\n",
       "             'itself': 24,\n",
       "             'into': 31,\n",
       "             'everlasting': 1,\n",
       "             'fixd': 3,\n",
       "             'canon': 1,\n",
       "             'selfslaughter': 1,\n",
       "             'weary': 2,\n",
       "             'stale': 1,\n",
       "             'flat': 3,\n",
       "             'unprofitable': 1,\n",
       "             'uses': 3,\n",
       "             'ah': 6,\n",
       "             'unweeded': 1,\n",
       "             'garden': 2,\n",
       "             'grows': 4,\n",
       "             'seed': 1,\n",
       "             'rank': 7,\n",
       "             'possess': 1,\n",
       "             'merely': 2,\n",
       "             'months': 4,\n",
       "             'excellent': 10,\n",
       "             'hyperion': 1,\n",
       "             'satyr': 1,\n",
       "             'beteem': 1,\n",
       "             'winds': 3,\n",
       "             'visit': 5,\n",
       "             'face': 11,\n",
       "             'roughly': 2,\n",
       "             'remember': 12,\n",
       "             'she': 46,\n",
       "             'increase': 1,\n",
       "             'appetite': 1,\n",
       "             'grown': 4,\n",
       "             'fed': 2,\n",
       "             'month': 4,\n",
       "             'ontfrailty': 1,\n",
       "             'name': 10,\n",
       "             'woman': 7,\n",
       "             'shoes': 2,\n",
       "             'were': 28,\n",
       "             'followd': 2,\n",
       "             'poor': 20,\n",
       "             'body': 17,\n",
       "             'niobe': 1,\n",
       "             'tearswhy': 1,\n",
       "             'beast': 6,\n",
       "             'wants': 2,\n",
       "             'discourse': 6,\n",
       "             'mournd': 1,\n",
       "             'longermarried': 1,\n",
       "             'hercules': 3,\n",
       "             'salt': 3,\n",
       "             'unrighteous': 1,\n",
       "             'tears': 7,\n",
       "             'left': 3,\n",
       "             'flushing': 1,\n",
       "             'galled': 2,\n",
       "             'married': 2,\n",
       "             'wicked': 6,\n",
       "             'speed': 4,\n",
       "             'dexterity': 1,\n",
       "             'incestuous': 4,\n",
       "             'sheets': 1,\n",
       "             'tongue': 15,\n",
       "             'hail': 1,\n",
       "             'lordship': 8,\n",
       "             'glad': 4,\n",
       "             'horatioor': 1,\n",
       "             'forget': 4,\n",
       "             'servant': 4,\n",
       "             'change': 4,\n",
       "             'faith': 16,\n",
       "             'truant': 2,\n",
       "             'disposition': 5,\n",
       "             'enemy': 3,\n",
       "             'ear': 17,\n",
       "             'truster': 1,\n",
       "             'report': 5,\n",
       "             'teach': 5,\n",
       "             'drink': 14,\n",
       "             'deep': 4,\n",
       "             'depart': 1,\n",
       "             'mock': 4,\n",
       "             'fellowstudent': 1,\n",
       "             'mothers': 7,\n",
       "             'wedding': 1,\n",
       "             'thrift': 4,\n",
       "             'baked': 2,\n",
       "             'meats': 1,\n",
       "             'coldly': 2,\n",
       "             'furnish': 1,\n",
       "             'forth': 6,\n",
       "             'tables': 1,\n",
       "             'met': 1,\n",
       "             'foe': 2,\n",
       "             'fathermethinks': 1,\n",
       "             'saw': 12,\n",
       "             'goodly': 3,\n",
       "             'yesternight': 1,\n",
       "             'admiration': 3,\n",
       "             'attent': 1,\n",
       "             'deliver': 2,\n",
       "             'witness': 2,\n",
       "             'gentlemen': 11,\n",
       "             'marvel': 1,\n",
       "             'gods': 6,\n",
       "             'their': 57,\n",
       "             'vast': 1,\n",
       "             'middle': 2,\n",
       "             'encounterd': 1,\n",
       "             'point': 5,\n",
       "             'exactly': 1,\n",
       "             'capape': 1,\n",
       "             'appears': 3,\n",
       "             'stately': 1,\n",
       "             'thrice': 4,\n",
       "             'walkd': 1,\n",
       "             'oppressd': 1,\n",
       "             'fearsurprised': 1,\n",
       "             'truncheons': 1,\n",
       "             'length': 4,\n",
       "             'whilst': 4,\n",
       "             'distilled': 1,\n",
       "             'jelly': 1,\n",
       "             'dreadful': 3,\n",
       "             'secrecy': 3,\n",
       "             'third': 3,\n",
       "             'kept': 4,\n",
       "             'deliverd': 1,\n",
       "             'both': 26,\n",
       "             'each': 11,\n",
       "             'word': 12,\n",
       "             'knew': 5,\n",
       "             'hands': 12,\n",
       "             'watchd': 1,\n",
       "             'none': 13,\n",
       "             'methought': 4,\n",
       "             'lifted': 1,\n",
       "             'its': 4,\n",
       "             'address': 1,\n",
       "             ...})"
      ]
     },
     "execution_count": 14,
     "metadata": {},
     "output_type": "execute_result"
    }
   ],
   "source": [
    "word_counts"
   ]
  },
  {
   "cell_type": "code",
   "execution_count": 18,
   "id": "816566a9-5ad7-4ecc-9bfd-cf3e88688f09",
   "metadata": {},
   "outputs": [
    {
     "name": "stdout",
     "output_type": "stream",
     "text": [
      "hi\n",
      "10\n"
     ]
    }
   ],
   "source": [
    "print('hi')\n",
    "x = 5\n",
    "print(x * 2)"
   ]
  },
  {
   "cell_type": "code",
   "execution_count": 21,
   "id": "a3e00c81-8d12-4e38-ae9e-f7f007f64782",
   "metadata": {},
   "outputs": [
    {
     "name": "stdout",
     "output_type": "stream",
     "text": [
      "line 3\n",
      "line 2\n",
      "line 1\n"
     ]
    }
   ],
   "source": [
    "a_list = ['line 1', 'line 2', 'line 3']\n",
    "for thing in a_list[::-1]:\n",
    "    print(thing)"
   ]
  },
  {
   "cell_type": "code",
   "execution_count": 24,
   "id": "316d31ee-e213-459a-9b9d-68090cdb5cfd",
   "metadata": {},
   "outputs": [
    {
     "name": "stdout",
     "output_type": "stream",
     "text": [
      "line 3\n",
      "line 2\n",
      "line 1\n"
     ]
    }
   ],
   "source": [
    "a_list = ['line 1', 'line 2', 'line 3']\n",
    "print('\\n'.join(a_list[::-1]))"
   ]
  },
  {
   "cell_type": "code",
   "execution_count": 30,
   "id": "50591cc8-7a27-4811-b47b-ba575d75e3dd",
   "metadata": {},
   "outputs": [],
   "source": [
    "line = 'Hi Hamlet, how are you?'"
   ]
  },
  {
   "cell_type": "code",
   "execution_count": 36,
   "id": "2db8514e-5822-4cfc-bf0b-204322c97df4",
   "metadata": {},
   "outputs": [],
   "source": [
    "list_of_chars = []\n",
    "for char in line.lower():\n",
    "    if char.isalpha() or char.isspace(): # chars are ok if they are alphabetic or whitespace\n",
    "        list_of_chars.append(char)"
   ]
  },
  {
   "cell_type": "code",
   "execution_count": 37,
   "id": "6aad4ee5-36e3-4aa3-b6f3-78cdf027dd63",
   "metadata": {},
   "outputs": [
    {
     "name": "stdout",
     "output_type": "stream",
     "text": [
      "['h', 'i', ' ', 'h', 'a', 'm', 'l', 'e', 't', ' ', 'h', 'o', 'w', ' ', 'a', 'r', 'e', ' ', 'y', 'o', 'u']\n"
     ]
    }
   ],
   "source": [
    "print(list_of_chars)"
   ]
  },
  {
   "cell_type": "code",
   "execution_count": 38,
   "id": "9e27e8db-4ccd-47cd-838e-f36d40ed8e00",
   "metadata": {},
   "outputs": [
    {
     "data": {
      "text/plain": [
       "'hi hamlet how are you'"
      ]
     },
     "execution_count": 38,
     "metadata": {},
     "output_type": "execute_result"
    }
   ],
   "source": [
    "''.join(list_of_chars)"
   ]
  },
  {
   "cell_type": "code",
   "execution_count": 40,
   "id": "caca22c5-dfb5-47ff-9676-ec7555fba05b",
   "metadata": {},
   "outputs": [
    {
     "data": {
      "text/plain": [
       "'/Users/dave-wadestein/Downloads/ADI-Reskilling-Academy'"
      ]
     },
     "execution_count": 40,
     "metadata": {},
     "output_type": "execute_result"
    }
   ],
   "source": [
    "import os\n",
    "os.getcwd()"
   ]
  },
  {
   "cell_type": "code",
   "execution_count": 51,
   "id": "553d6cae-21c1-40a7-931b-eb702bba24ef",
   "metadata": {},
   "outputs": [],
   "source": [
    "myfile = open('poem.txt')"
   ]
  },
  {
   "cell_type": "code",
   "execution_count": 52,
   "id": "618ecf39-4cf7-408b-ab07-5724edb3f39d",
   "metadata": {},
   "outputs": [
    {
     "data": {
      "text/plain": [
       "False"
      ]
     },
     "execution_count": 52,
     "metadata": {},
     "output_type": "execute_result"
    }
   ],
   "source": [
    "myfile.closed"
   ]
  },
  {
   "cell_type": "code",
   "execution_count": 53,
   "id": "bfd960fd-5e4d-4442-9123-f025064e08d6",
   "metadata": {},
   "outputs": [
    {
     "data": {
      "text/plain": [
       "140700054362416"
      ]
     },
     "execution_count": 53,
     "metadata": {},
     "output_type": "execute_result"
    }
   ],
   "source": [
    "id(myfile)"
   ]
  },
  {
   "cell_type": "code",
   "execution_count": 54,
   "id": "9e69cce5-151d-4fcf-b75c-a56901b8db5c",
   "metadata": {},
   "outputs": [
    {
     "data": {
      "text/plain": [
       "['TWO roads diverged in a yellow wood,\\n',\n",
       " 'And sorry I could not travel both\\n',\n",
       " 'And be one traveler, long I stood\\n',\n",
       " 'And looked down one as far as I could\\n',\n",
       " 'To where it bent in the undergrowth;\\n',\n",
       " '\\n',\n",
       " 'Then took the other, as just as fair,\\n',\n",
       " 'And having perhaps the better claim,\\n',\n",
       " 'Because it was grassy and wanted wear;\\n',\n",
       " 'Though as for that the passing there\\n',\n",
       " 'Had worn them really about the same,\\n',\n",
       " '\\n',\n",
       " 'And both that morning equally lay\\n',\n",
       " 'In leaves no step had trodden black.\\n',\n",
       " 'Oh, I kept the first for another day!\\n',\n",
       " 'Yet knowing how way leads on to way,\\n',\n",
       " 'I doubted if I should ever come back.\\n',\n",
       " '\\n',\n",
       " 'I shall be telling this with a sigh\\n',\n",
       " 'Somewhere ages and ages hence:\\n',\n",
       " 'Two roads diverged in a wood, and I—\\n',\n",
       " 'I took the one less traveled by,\\n',\n",
       " 'And that has made all the difference.\\n']"
      ]
     },
     "execution_count": 54,
     "metadata": {},
     "output_type": "execute_result"
    }
   ],
   "source": [
    "myfile.readlines()"
   ]
  },
  {
   "cell_type": "code",
   "execution_count": 47,
   "id": "86304d99-ff3f-4fbc-a13f-dc1c1f66c788",
   "metadata": {},
   "outputs": [
    {
     "data": {
      "text/plain": [
       "'And sorry I could not travel both\\n'"
      ]
     },
     "execution_count": 47,
     "metadata": {},
     "output_type": "execute_result"
    }
   ],
   "source": [
    "myfile.readline()"
   ]
  },
  {
   "cell_type": "code",
   "execution_count": 48,
   "id": "facba7bc-ac5b-43e0-8699-bbbeeef7d46b",
   "metadata": {},
   "outputs": [
    {
     "data": {
      "text/plain": [
       "'And be one traveler, long I stood\\n'"
      ]
     },
     "execution_count": 48,
     "metadata": {},
     "output_type": "execute_result"
    }
   ],
   "source": [
    "myfile.readline()"
   ]
  },
  {
   "cell_type": "code",
   "execution_count": 55,
   "id": "4f5432e3-8597-4b7a-ac76-47a774df583d",
   "metadata": {},
   "outputs": [],
   "source": [
    "myfile.close()"
   ]
  },
  {
   "cell_type": "code",
   "execution_count": 56,
   "id": "3ca592b4-213e-4f77-88ff-b94b1ee3a037",
   "metadata": {},
   "outputs": [
    {
     "data": {
      "text/plain": [
       "True"
      ]
     },
     "execution_count": 56,
     "metadata": {},
     "output_type": "execute_result"
    }
   ],
   "source": [
    "myfile.closed"
   ]
  },
  {
   "cell_type": "code",
   "execution_count": 68,
   "id": "9bd2981a-627f-4620-8eae-0b2a6cf58694",
   "metadata": {},
   "outputs": [],
   "source": [
    "myfile = open('poem.txt')"
   ]
  },
  {
   "cell_type": "code",
   "execution_count": 58,
   "id": "7947bd15-1a8d-43ea-89b1-089f3cb6a687",
   "metadata": {},
   "outputs": [
    {
     "data": {
      "text/plain": [
       "False"
      ]
     },
     "execution_count": 58,
     "metadata": {},
     "output_type": "execute_result"
    }
   ],
   "source": [
    "myfile.closed"
   ]
  },
  {
   "cell_type": "code",
   "execution_count": 59,
   "id": "a7122413-54dc-44c0-9407-0f7f4b9ac84c",
   "metadata": {},
   "outputs": [
    {
     "name": "stdout",
     "output_type": "stream",
     "text": [
      "TWO roads diverged in a yellow wood,\n",
      "And sorry I could not travel both\n",
      "And be one traveler, long I stood\n",
      "And looked down one as far as I could\n",
      "To where it bent in the undergrowth;\n",
      "\n",
      "Then took the other, as just as fair,\n",
      "And having perhaps the better claim,\n",
      "Because it was grassy and wanted wear;\n",
      "Though as for that the passing there\n",
      "Had worn them really about the same,\n",
      "\n",
      "And both that morning equally lay\n",
      "In leaves no step had trodden black.\n",
      "Oh, I kept the first for another day!\n",
      "Yet knowing how way leads on to way,\n",
      "I doubted if I should ever come back.\n",
      "\n",
      "I shall be telling this with a sigh\n",
      "Somewhere ages and ages hence:\n",
      "Two roads diverged in a wood, and I—\n",
      "I took the one less traveled by,\n",
      "And that has made all the difference.\n"
     ]
    }
   ],
   "source": [
    "for line in myfile:\n",
    "    print(line, end='')"
   ]
  },
  {
   "cell_type": "code",
   "execution_count": 61,
   "id": "34412b34-9af9-4fc4-bd48-cec0e0435705",
   "metadata": {},
   "outputs": [
    {
     "ename": "NameError",
     "evalue": "name 'file' is not defined",
     "output_type": "error",
     "traceback": [
      "\u001b[0;31m---------------------------------------------------------------------------\u001b[0m",
      "\u001b[0;31mNameError\u001b[0m                                 Traceback (most recent call last)",
      "Input \u001b[0;32mIn [61]\u001b[0m, in \u001b[0;36m<cell line: 1>\u001b[0;34m()\u001b[0m\n\u001b[0;32m----> 1\u001b[0m help(\u001b[43mfile\u001b[49m\u001b[38;5;241m.\u001b[39mreadlines())\n",
      "\u001b[0;31mNameError\u001b[0m: name 'file' is not defined"
     ]
    }
   ],
   "source": [
    "help(file.readlines())"
   ]
  },
  {
   "cell_type": "code",
   "execution_count": 62,
   "id": "b8c441ed-6fe0-4b6e-be45-efeec690aacd",
   "metadata": {},
   "outputs": [
    {
     "data": {
      "text/plain": [
       "False"
      ]
     },
     "execution_count": 62,
     "metadata": {},
     "output_type": "execute_result"
    }
   ],
   "source": [
    "myfile.closed"
   ]
  },
  {
   "cell_type": "code",
   "execution_count": 63,
   "id": "137be160-6bda-4e33-b6a9-804af8f6fd92",
   "metadata": {},
   "outputs": [
    {
     "name": "stdout",
     "output_type": "stream",
     "text": [
      "Help on built-in function readlines:\n",
      "\n",
      "readlines(hint=-1, /) method of _io.TextIOWrapper instance\n",
      "    Return a list of lines from the stream.\n",
      "    \n",
      "    hint can be specified to control the number of lines read: no more\n",
      "    lines will be read if the total size (in bytes/characters) of all\n",
      "    lines so far exceeds hint.\n",
      "\n"
     ]
    }
   ],
   "source": [
    "help(myfile.readlines)"
   ]
  },
  {
   "cell_type": "code",
   "execution_count": 70,
   "id": "93985eea-f86a-4911-8304-6a95061856b1",
   "metadata": {},
   "outputs": [
    {
     "ename": "TypeError",
     "evalue": "TextIOWrapper.readlines() takes no keyword arguments",
     "output_type": "error",
     "traceback": [
      "\u001b[0;31m---------------------------------------------------------------------------\u001b[0m",
      "\u001b[0;31mTypeError\u001b[0m                                 Traceback (most recent call last)",
      "Input \u001b[0;32mIn [70]\u001b[0m, in \u001b[0;36m<cell line: 1>\u001b[0;34m()\u001b[0m\n\u001b[0;32m----> 1\u001b[0m \u001b[43mmyfile\u001b[49m\u001b[38;5;241;43m.\u001b[39;49m\u001b[43mreadlines\u001b[49m\u001b[43m(\u001b[49m\u001b[43mhint\u001b[49m\u001b[38;5;241;43m=\u001b[39;49m\u001b[38;5;241;43m200\u001b[39;49m\u001b[43m)\u001b[49m\n",
      "\u001b[0;31mTypeError\u001b[0m: TextIOWrapper.readlines() takes no keyword arguments"
     ]
    }
   ],
   "source": [
    "myfile.readlines(hint=200)"
   ]
  },
  {
   "cell_type": "code",
   "execution_count": 65,
   "id": "f195f22d-c019-4505-b7b9-95c3dc7e246f",
   "metadata": {},
   "outputs": [],
   "source": [
    "myfile.close()"
   ]
  },
  {
   "cell_type": "code",
   "execution_count": 71,
   "id": "ecc54421-5567-4224-ae80-81a9984675ca",
   "metadata": {},
   "outputs": [
    {
     "name": "stdout",
     "output_type": "stream",
     "text": [
      "Help on built-in function factorial in module math:\n",
      "\n",
      "factorial(x, /)\n",
      "    Find x!.\n",
      "    \n",
      "    Raise a ValueError if x is negative or non-integral.\n",
      "\n"
     ]
    }
   ],
   "source": [
    "import math\n",
    "help(math.factorial)"
   ]
  },
  {
   "cell_type": "code",
   "execution_count": 73,
   "id": "e771c9cb-31d6-4c22-978d-f336f24b7966",
   "metadata": {},
   "outputs": [
    {
     "ename": "TypeError",
     "evalue": "math.factorial() takes no keyword arguments",
     "output_type": "error",
     "traceback": [
      "\u001b[0;31m---------------------------------------------------------------------------\u001b[0m",
      "\u001b[0;31mTypeError\u001b[0m                                 Traceback (most recent call last)",
      "Input \u001b[0;32mIn [73]\u001b[0m, in \u001b[0;36m<cell line: 1>\u001b[0;34m()\u001b[0m\n\u001b[0;32m----> 1\u001b[0m \u001b[43mmath\u001b[49m\u001b[38;5;241;43m.\u001b[39;49m\u001b[43mfactorial\u001b[49m\u001b[43m(\u001b[49m\u001b[43mx\u001b[49m\u001b[38;5;241;43m=\u001b[39;49m\u001b[38;5;241;43m52\u001b[39;49m\u001b[43m)\u001b[49m\n",
      "\u001b[0;31mTypeError\u001b[0m: math.factorial() takes no keyword arguments"
     ]
    }
   ],
   "source": [
    "math.factorial(x=52)"
   ]
  },
  {
   "cell_type": "code",
   "execution_count": 74,
   "id": "6101f61f-521b-416f-b5d7-cb2b91be0116",
   "metadata": {},
   "outputs": [],
   "source": [
    "a_list = [1, 4, 3, 2]"
   ]
  },
  {
   "cell_type": "code",
   "execution_count": 75,
   "id": "1cc029ee-24c2-47a4-ad0b-b5f66c13f739",
   "metadata": {},
   "outputs": [
    {
     "ename": "TypeError",
     "evalue": "sorted expected 1 argument, got 0",
     "output_type": "error",
     "traceback": [
      "\u001b[0;31m---------------------------------------------------------------------------\u001b[0m",
      "\u001b[0;31mTypeError\u001b[0m                                 Traceback (most recent call last)",
      "Input \u001b[0;32mIn [75]\u001b[0m, in \u001b[0;36m<cell line: 1>\u001b[0;34m()\u001b[0m\n\u001b[0;32m----> 1\u001b[0m \u001b[38;5;28;43msorted\u001b[39;49m\u001b[43m(\u001b[49m\u001b[43miterable\u001b[49m\u001b[38;5;241;43m=\u001b[39;49m\u001b[43ma_list\u001b[49m\u001b[43m)\u001b[49m\n",
      "\u001b[0;31mTypeError\u001b[0m: sorted expected 1 argument, got 0"
     ]
    }
   ],
   "source": [
    "sorted(iterable=a_list)"
   ]
  },
  {
   "cell_type": "code",
   "execution_count": 78,
   "id": "e3773daf-1241-43ce-93b6-e7e0ef48b8c1",
   "metadata": {},
   "outputs": [
    {
     "ename": "TypeError",
     "evalue": "sorted expected 1 argument, got 2",
     "output_type": "error",
     "traceback": [
      "\u001b[0;31m---------------------------------------------------------------------------\u001b[0m",
      "\u001b[0;31mTypeError\u001b[0m                                 Traceback (most recent call last)",
      "Input \u001b[0;32mIn [78]\u001b[0m, in \u001b[0;36m<cell line: 1>\u001b[0;34m()\u001b[0m\n\u001b[0;32m----> 1\u001b[0m \u001b[38;5;28;43msorted\u001b[39;49m\u001b[43m(\u001b[49m\u001b[43ma_list\u001b[49m\u001b[43m,\u001b[49m\u001b[43m \u001b[49m\u001b[38;5;28;43;01mTrue\u001b[39;49;00m\u001b[43m)\u001b[49m\n",
      "\u001b[0;31mTypeError\u001b[0m: sorted expected 1 argument, got 2"
     ]
    }
   ],
   "source": [
    "sorted(a_list, True)"
   ]
  },
  {
   "cell_type": "code",
   "execution_count": 79,
   "id": "eefa9957-90b3-4aff-ac7e-915a4bd410ac",
   "metadata": {},
   "outputs": [
    {
     "name": "stdout",
     "output_type": "stream",
     "text": [
      "Help on method_descriptor:\n",
      "\n",
      "sort(self, /, *, key=None, reverse=False)\n",
      "    Sort the list in ascending order and return None.\n",
      "    \n",
      "    The sort is in-place (i.e. the list itself is modified) and stable (i.e. the\n",
      "    order of two equal elements is maintained).\n",
      "    \n",
      "    If a key function is given, apply it once to each list item and sort them,\n",
      "    ascending or descending, according to their function values.\n",
      "    \n",
      "    The reverse flag can be set to sort in descending order.\n",
      "\n"
     ]
    }
   ],
   "source": [
    "help(list.sort)"
   ]
  },
  {
   "cell_type": "code",
   "execution_count": 81,
   "id": "0b2d38c8-5421-4ef8-8e0d-6c5ac52f0255",
   "metadata": {},
   "outputs": [
    {
     "name": "stdout",
     "output_type": "stream",
     "text": [
      "[1, 4, 3, 2]\n"
     ]
    }
   ],
   "source": [
    "print(a_list)"
   ]
  },
  {
   "cell_type": "code",
   "execution_count": 95,
   "id": "7f498386-e79e-4c86-9de9-da3a8e7ab7a8",
   "metadata": {},
   "outputs": [
    {
     "ename": "TypeError",
     "evalue": "int() argument must be a string, a bytes-like object or a number, not 'NoneType'",
     "output_type": "error",
     "traceback": [
      "\u001b[0;31m---------------------------------------------------------------------------\u001b[0m",
      "\u001b[0;31mTypeError\u001b[0m                                 Traceback (most recent call last)",
      "Input \u001b[0;32mIn [95]\u001b[0m, in \u001b[0;36m<cell line: 1>\u001b[0;34m()\u001b[0m\n\u001b[0;32m----> 1\u001b[0m \u001b[38;5;28;43mint\u001b[39;49m\u001b[43m(\u001b[49m\u001b[38;5;28;43;01mNone\u001b[39;49;00m\u001b[43m)\u001b[49m\n",
      "\u001b[0;31mTypeError\u001b[0m: int() argument must be a string, a bytes-like object or a number, not 'NoneType'"
     ]
    }
   ],
   "source": [
    "int(None)"
   ]
  },
  {
   "cell_type": "code",
   "execution_count": 4,
   "id": "aaaa82a6-7401-484c-b9cb-b0282da08aaf",
   "metadata": {},
   "outputs": [],
   "source": [
    "from collections import defaultdict"
   ]
  },
  {
   "cell_type": "code",
   "execution_count": 5,
   "id": "9c784c81",
   "metadata": {},
   "outputs": [],
   "source": [
    "wordcounts = defaultdict(int)"
   ]
  },
  {
   "cell_type": "code",
   "execution_count": 6,
   "id": "66ea371a",
   "metadata": {},
   "outputs": [],
   "source": [
    "wordcounts['hamlet'] = 401"
   ]
  },
  {
   "cell_type": "code",
   "execution_count": 7,
   "id": "b839d681",
   "metadata": {},
   "outputs": [
    {
     "data": {
      "text/plain": [
       "defaultdict(int, {'hamlet': 401})"
      ]
     },
     "execution_count": 7,
     "metadata": {},
     "output_type": "execute_result"
    }
   ],
   "source": [
    "wordcounts"
   ]
  },
  {
   "cell_type": "code",
   "execution_count": 9,
   "id": "756de154",
   "metadata": {},
   "outputs": [
    {
     "data": {
      "text/plain": [
       "0"
      ]
     },
     "execution_count": 9,
     "metadata": {},
     "output_type": "execute_result"
    }
   ],
   "source": [
    "wordcounts['hamburger']"
   ]
  },
  {
   "cell_type": "code",
   "execution_count": 10,
   "id": "8fdabb60",
   "metadata": {},
   "outputs": [],
   "source": [
    "nicknames = defaultdict(str)"
   ]
  },
  {
   "cell_type": "code",
   "execution_count": 11,
   "id": "3ffec3ea",
   "metadata": {},
   "outputs": [
    {
     "data": {
      "text/plain": [
       "''"
      ]
     },
     "execution_count": 11,
     "metadata": {},
     "output_type": "execute_result"
    }
   ],
   "source": [
    "nicknames['Dave']"
   ]
  },
  {
   "cell_type": "code",
   "execution_count": 12,
   "id": "2838b9c9",
   "metadata": {},
   "outputs": [
    {
     "data": {
      "text/plain": [
       "defaultdict(int, {'hamlet': 401, 'hamburger': 0})"
      ]
     },
     "execution_count": 12,
     "metadata": {},
     "output_type": "execute_result"
    }
   ],
   "source": [
    "wordcounts"
   ]
  },
  {
   "cell_type": "code",
   "execution_count": 1,
   "id": "6c682c59-63f0-4006-91d8-510af4e79a35",
   "metadata": {},
   "outputs": [],
   "source": [
    "'"
   ]
  },
  {
   "cell_type": "code",
   "execution_count": 3,
   "id": "ab1e943c-ec74-481d-9d51-f6825405477f",
   "metadata": {},
   "outputs": [
    {
     "ename": "SyntaxError",
     "evalue": "invalid character '—' (U+2014) (2212278002.py, line 1)",
     "output_type": "error",
     "traceback": [
      "\u001b[0;36m  Input \u001b[0;32mIn [3]\u001b[0;36m\u001b[0m\n\u001b[0;31m    —\u001b[0m\n\u001b[0m    ^\u001b[0m\n\u001b[0;31mSyntaxError\u001b[0m\u001b[0;31m:\u001b[0m invalid character '—' (U+2014)\n"
     ]
    }
   ],
   "source": [
    "—"
   ]
  },
  {
   "cell_type": "code",
   "execution_count": 4,
   "id": "0dee21ff-0d85-4a29-920a-df01db392239",
   "metadata": {},
   "outputs": [
    {
     "data": {
      "text/plain": [
       "False"
      ]
     },
     "execution_count": 4,
     "metadata": {},
     "output_type": "execute_result"
    }
   ],
   "source": [
    "'—'.isalpha()"
   ]
  },
  {
   "cell_type": "code",
   "execution_count": 5,
   "id": "78aa94a5-9fa8-4975-bbd2-84d955124f41",
   "metadata": {},
   "outputs": [
    {
     "data": {
      "text/plain": [
       "False"
      ]
     },
     "execution_count": 5,
     "metadata": {},
     "output_type": "execute_result"
    }
   ],
   "source": [
    "'—'.isspace()"
   ]
  },
  {
   "cell_type": "code",
   "execution_count": 6,
   "id": "5d0ebca8-0cd6-4280-aa80-4817bd0862c3",
   "metadata": {},
   "outputs": [
    {
     "data": {
      "text/plain": [
       "'HI there,\\nthis is multi-line string\\nbig deal'"
      ]
     },
     "execution_count": 6,
     "metadata": {},
     "output_type": "execute_result"
    }
   ],
   "source": [
    "\"\"\"HI there,\n",
    "this is multi-line string\n",
    "big deal\"\"\""
   ]
  },
  {
   "cell_type": "code",
   "execution_count": 7,
   "id": "5e91b798-7fdc-4286-a5ba-ae34ff180bbd",
   "metadata": {},
   "outputs": [],
   "source": [
    "import math"
   ]
  },
  {
   "cell_type": "code",
   "execution_count": 8,
   "id": "0fdf2806-2c5e-49cf-8397-d214c9e64acd",
   "metadata": {},
   "outputs": [
    {
     "name": "stdout",
     "output_type": "stream",
     "text": [
      "Help on built-in function factorial in module math:\n",
      "\n",
      "factorial(x, /)\n",
      "    Find x!.\n",
      "    \n",
      "    Raise a ValueError if x is negative or non-integral.\n",
      "\n"
     ]
    }
   ],
   "source": [
    "help(math.factorial)"
   ]
  },
  {
   "cell_type": "code",
   "execution_count": 9,
   "id": "08f1910b-4773-442e-b9b8-08eeb4b12b56",
   "metadata": {},
   "outputs": [
    {
     "name": "stdout",
     "output_type": "stream",
     "text": [
      "Help on built-in function sin in module math:\n",
      "\n",
      "sin(x, /)\n",
      "    Return the sine of x (measured in radians).\n",
      "\n"
     ]
    }
   ],
   "source": [
    "help(math.sin)"
   ]
  },
  {
   "cell_type": "code",
   "execution_count": 11,
   "id": "dc04c135-b4f0-4f6e-a161-6553b24625cf",
   "metadata": {},
   "outputs": [
    {
     "data": {
      "text/plain": [
       "1.0"
      ]
     },
     "execution_count": 11,
     "metadata": {},
     "output_type": "execute_result"
    }
   ],
   "source": [
    "math.sin(math.pi / 2.0)"
   ]
  },
  {
   "cell_type": "code",
   "execution_count": 12,
   "id": "06043b02-faab-4364-9b82-35114891d1be",
   "metadata": {},
   "outputs": [
    {
     "data": {
      "text/plain": [
       "['False',\n",
       " 'None',\n",
       " 'True',\n",
       " '__peg_parser__',\n",
       " 'and',\n",
       " 'as',\n",
       " 'assert',\n",
       " 'async',\n",
       " 'await',\n",
       " 'break',\n",
       " 'class',\n",
       " 'continue',\n",
       " 'def',\n",
       " 'del',\n",
       " 'elif',\n",
       " 'else',\n",
       " 'except',\n",
       " 'finally',\n",
       " 'for',\n",
       " 'from',\n",
       " 'global',\n",
       " 'if',\n",
       " 'import',\n",
       " 'in',\n",
       " 'is',\n",
       " 'lambda',\n",
       " 'nonlocal',\n",
       " 'not',\n",
       " 'or',\n",
       " 'pass',\n",
       " 'raise',\n",
       " 'return',\n",
       " 'try',\n",
       " 'while',\n",
       " 'with',\n",
       " 'yield']"
      ]
     },
     "execution_count": 12,
     "metadata": {},
     "output_type": "execute_result"
    }
   ],
   "source": [
    "import keyword\n",
    "keyword.kwlist"
   ]
  },
  {
   "cell_type": "markdown",
   "id": "07d8e3b6-e175-440f-8ec2-964e2a2e0913",
   "metadata": {},
   "source": [
    "# Function writing break\n",
    "* Write a function to demonstrate the Collatz Conjecture:\n",
    "  * for integer n > 1\n",
    "    * if n is even, then __`n = n // 2`__\n",
    "    * if n is odd, then __`n = n * 3 + 1`__\n",
    "  * ...will always converge to 1\n",
    "  * (your function should take n and keep printing new value of n until n is 1)\n"
   ]
  },
  {
   "cell_type": "code",
   "execution_count": 19,
   "id": "cbba78e5-566e-4cb8-8dec-8a6542a292ac",
   "metadata": {},
   "outputs": [],
   "source": [
    "def collatz(n):\n",
    "    \"\"\"Demo the Collatz Conjecture...\n",
    "    Accept an integer n > 1\n",
    "    \n",
    "    Print out all the numbers in the Collatz sequence until convergence (1) is obtained.\n",
    "    \"\"\"\n",
    "    pass"
   ]
  },
  {
   "cell_type": "code",
   "execution_count": 20,
   "id": "1aaafbb9-1748-4d27-a204-963ce5566010",
   "metadata": {},
   "outputs": [
    {
     "name": "stdout",
     "output_type": "stream",
     "text": [
      "Help on function collatz in module __main__:\n",
      "\n",
      "collatz(n)\n",
      "    Demo the Collatz Conjecture...\n",
      "    Accept an integer n > 1\n",
      "    \n",
      "    Print out all the numbers in the Collatz sequence until convergence (1) is obtained.\n",
      "\n"
     ]
    }
   ],
   "source": [
    "help(collatz)"
   ]
  },
  {
   "cell_type": "code",
   "execution_count": 21,
   "id": "1adcdc0b-13ba-4ca7-8c7f-9ff07658056f",
   "metadata": {},
   "outputs": [],
   "source": [
    "collatz(3)"
   ]
  },
  {
   "cell_type": "code",
   "execution_count": 49,
   "id": "c293ce13-667a-4cba-b6c0-ef8191c13fbd",
   "metadata": {},
   "outputs": [],
   "source": [
    "def collatz(n):\n",
    "    \"\"\"Demo the Collatz Conjecture...\n",
    "    Accept an integer n > 1\n",
    "    \n",
    "    Print out all the numbers in the Collatz sequence until convergence (1) is obtained.\n",
    "    \"\"\"\n",
    "    while n > 1: # or != 1\n",
    "        print(n, end=' ')\n",
    "        # if even, we divide by 2\n",
    "        if n % 2 == 0:\n",
    "            n = n // 2 # integer divide by 2...shorthand n //= 2\n",
    "        else: # must be odd\n",
    "            n = n * 3 + 1\n",
    "    print(n)"
   ]
  },
  {
   "cell_type": "code",
   "execution_count": 57,
   "id": "7a24f27a-f582-42b7-92a6-0137aa1da501",
   "metadata": {},
   "outputs": [
    {
     "name": "stdout",
     "output_type": "stream",
     "text": [
      "999 2998 1499 4498 2249 6748 3374 1687 5062 2531 7594 3797 11392 5696 2848 1424 712 356 178 89 268 134 67 202 101 304 152 76 38 19 58 29 88 44 22 11 34 17 52 26 13 40 20 10 5 16 8 4 2 1\n"
     ]
    }
   ],
   "source": [
    "collatz(999)"
   ]
  },
  {
   "cell_type": "code",
   "execution_count": 77,
   "id": "a8d05d1a-d852-41b3-82f9-a1a5c28ca45f",
   "metadata": {},
   "outputs": [],
   "source": [
    "def collatz(n):\n",
    "    \"\"\"Demo the Collatz Conjecture...\n",
    "    Accept an integer n > 1\n",
    "    \n",
    "    Print out all the numbers in the Collatz sequence until convergence (1) is obtained.\n",
    "    \"\"\"\n",
    "    count = 0 # let's add some nice formatting...\n",
    "    \n",
    "    if type(n) != int or n < 2:\n",
    "        print('Argument must be integer > 1!')\n",
    "        return\n",
    "    \n",
    "    while n > 1: # or != 1\n",
    "        # below is a Python f-string (f = format)\n",
    "        # f-strings appeared in Python 3.6\n",
    "        # the 'f' must appear at beginning of string, outside the parens\n",
    "        # Any expressions in {}s are evaluated in an f-string.\n",
    "        # So I'm asking Python to print n\n",
    "        # the 7d means in a field 7 spaces wide, d = decimal (integer)\n",
    "        print(f'{n:7d}', end=' ') # Python 3.6 f-string\n",
    "        #print('%7d ' % n, end='')\n",
    "        #print((7 - len(str(n))) * ' ', n, end=' ')\n",
    "        count += 1\n",
    "        if count % 12 == 0: # every 12 numbers, go to the next line\n",
    "            print()\n",
    "        if n % 2 == 0: # if even, we divide by 2\n",
    "            n = n // 2 # integer divide by 2...shorthand n //= 2\n",
    "        else: # must be odd\n",
    "            n = n * 3 + 1\n",
    "    print(f'{1:7d}')"
   ]
  },
  {
   "cell_type": "code",
   "execution_count": 81,
   "id": "c0cff751-28c4-4df5-9c6f-28d7d31d58e6",
   "metadata": {},
   "outputs": [
    {
     "name": "stdout",
     "output_type": "stream",
     "text": [
      "Argument must be integer > 1!\n"
     ]
    }
   ],
   "source": [
    "collatz([3])"
   ]
  },
  {
   "cell_type": "code",
   "execution_count": 46,
   "id": "05735fdb-2c6d-4318-b7bb-0738ecc21992",
   "metadata": {},
   "outputs": [
    {
     "data": {
      "text/plain": [
       "20.0"
      ]
     },
     "execution_count": 46,
     "metadata": {},
     "output_type": "execute_result"
    }
   ],
   "source": [
    "40 / 2"
   ]
  },
  {
   "cell_type": "code",
   "execution_count": 47,
   "id": "129fe9c1-f6f6-4d74-8237-48fbb3b48ec7",
   "metadata": {},
   "outputs": [
    {
     "data": {
      "text/plain": [
       "20"
      ]
     },
     "execution_count": 47,
     "metadata": {},
     "output_type": "execute_result"
    }
   ],
   "source": [
    "40 // 2"
   ]
  },
  {
   "cell_type": "code",
   "execution_count": 61,
   "id": "6d99d144-4c37-4ea1-b5ad-cca45bcb4e7a",
   "metadata": {},
   "outputs": [
    {
     "ename": "TypeError",
     "evalue": "object of type 'int' has no len()",
     "output_type": "error",
     "traceback": [
      "\u001b[0;31m---------------------------------------------------------------------------\u001b[0m",
      "\u001b[0;31mTypeError\u001b[0m                                 Traceback (most recent call last)",
      "Input \u001b[0;32mIn [61]\u001b[0m, in \u001b[0;36m<cell line: 1>\u001b[0;34m()\u001b[0m\n\u001b[0;32m----> 1\u001b[0m \u001b[38;5;28;43mlen\u001b[39;49m\u001b[43m(\u001b[49m\u001b[38;5;241;43m12345\u001b[39;49m\u001b[43m)\u001b[49m\n",
      "\u001b[0;31mTypeError\u001b[0m: object of type 'int' has no len()"
     ]
    }
   ],
   "source": [
    "len(12345)"
   ]
  },
  {
   "cell_type": "code",
   "execution_count": 62,
   "id": "2172f23a-ec78-4484-8baa-214b896136d7",
   "metadata": {},
   "outputs": [
    {
     "data": {
      "text/plain": [
       "5"
      ]
     },
     "execution_count": 62,
     "metadata": {},
     "output_type": "execute_result"
    }
   ],
   "source": [
    "len(str(12345))"
   ]
  },
  {
   "cell_type": "code",
   "execution_count": 74,
   "id": "59ad3d79-55f2-442e-863f-e78a1b0252ca",
   "metadata": {},
   "outputs": [
    {
     "data": {
      "text/plain": [
       "'you have some text and some 5 you want calculated 12 and even function calls 120'"
      ]
     },
     "execution_count": 74,
     "metadata": {},
     "output_type": "execute_result"
    }
   ],
   "source": [
    "x = 2\n",
    "y = 6\n",
    "f'you have some text and some {2 + 3} you want calculated {x * y} and even function calls {math.factorial(5)}'"
   ]
  },
  {
   "cell_type": "markdown",
   "id": "94e88aac-0d2c-4859-a306-53af457e62cb",
   "metadata": {},
   "source": [
    "# Variable Positional Arguments"
   ]
  },
  {
   "cell_type": "code",
   "execution_count": 82,
   "id": "98658bb2-90dd-4930-b5f0-7e930b54ff8b",
   "metadata": {},
   "outputs": [
    {
     "name": "stdout",
     "output_type": "stream",
     "text": [
      "1 2 3\n"
     ]
    }
   ],
   "source": [
    "print(1, 2, 3) # we passed in 3 positional arguments"
   ]
  },
  {
   "cell_type": "code",
   "execution_count": 86,
   "id": "592600db-1dad-4997-9602-42f6f8a3c358",
   "metadata": {},
   "outputs": [
    {
     "name": "stdout",
     "output_type": "stream",
     "text": [
      "1...2...3END\n",
      "\n"
     ]
    }
   ],
   "source": [
    "print(1, 2, 3, end='END', sep='...') # 3 positional arguments + 2 keyword arguments\n",
    "print(end='\\n\\n') # 0 positional arguments + 1 keyword argument"
   ]
  },
  {
   "cell_type": "markdown",
   "id": "e0a3038d-759b-4303-bd77-4f96ff9fd246",
   "metadata": {},
   "source": [
    "## Lab: Variable Positional Arguments\n",
    "* write a function called __`product`__ which accepts a variable number of arguments and returns the product of all of its args. With no args, __`product()`__ should return 1    \n",
    "\n",
    "<pre><b>\n",
    ">>> product(3, 5)\n",
    "15\n",
    ">>> product(1, 2, 3)\n",
    "6\n",
    ">>> product(63, 12, 3, 0, 9)\n",
    "0\n",
    ">>> product()\n",
    "1\n",
    "</b></pre>"
   ]
  },
  {
   "cell_type": "code",
   "execution_count": 109,
   "id": "0c9fde91-5bae-47e7-995a-b460eeac377d",
   "metadata": {},
   "outputs": [],
   "source": [
    "def product(*terms):\n",
    "    \"\"\"Return product of all terms. Return 1 if no terms.\"\"\"\n",
    "    result = 1 # we need this to start multiplying and in the event there are no args passed\n",
    "    \n",
    "    for term in terms:\n",
    "        result = result * term # or result *= terms\n",
    "    \n",
    "    return result"
   ]
  },
  {
   "cell_type": "code",
   "execution_count": 110,
   "id": "ca769ce2-96f8-4f45-83ab-dfe7d8fb3496",
   "metadata": {},
   "outputs": [
    {
     "data": {
      "text/plain": [
       "-2280"
      ]
     },
     "execution_count": 110,
     "metadata": {},
     "output_type": "execute_result"
    }
   ],
   "source": [
    "product(3, 5, 8, 19, -1)"
   ]
  },
  {
   "cell_type": "code",
   "execution_count": 111,
   "id": "70e2958f-cee1-4560-9a03-d7cf3b6375a9",
   "metadata": {},
   "outputs": [
    {
     "name": "stdout",
     "output_type": "stream",
     "text": [
      "Help on function product in module __main__:\n",
      "\n",
      "product(*terms)\n",
      "    Return product of all terms. Return 1 if no terms.\n",
      "\n"
     ]
    }
   ],
   "source": [
    "help(product)"
   ]
  },
  {
   "cell_type": "code",
   "execution_count": 112,
   "id": "a9763b25-2a25-4575-a5ec-4c59076bdd16",
   "metadata": {},
   "outputs": [
    {
     "data": {
      "text/plain": [
       "'PythonPythonPython'"
      ]
     },
     "execution_count": 112,
     "metadata": {},
     "output_type": "execute_result"
    }
   ],
   "source": [
    "product('Python', 3)"
   ]
  },
  {
   "cell_type": "code",
   "execution_count": 103,
   "id": "a3c68096-114a-49c2-abb5-7fb01e08adf1",
   "metadata": {},
   "outputs": [
    {
     "data": {
      "text/plain": [
       "0"
      ]
     },
     "execution_count": 103,
     "metadata": {},
     "output_type": "execute_result"
    }
   ],
   "source": [
    "product(True, True, False, True)"
   ]
  },
  {
   "cell_type": "code",
   "execution_count": 108,
   "id": "c942fe58-9a07-45d2-aa2e-2f199df4dd2a",
   "metadata": {},
   "outputs": [
    {
     "data": {
      "text/plain": [
       "1"
      ]
     },
     "execution_count": 108,
     "metadata": {},
     "output_type": "execute_result"
    }
   ],
   "source": [
    "product()"
   ]
  },
  {
   "cell_type": "code",
   "execution_count": 116,
   "id": "c225d419-9b36-4e9e-9052-dc5f9fa6d9dd",
   "metadata": {},
   "outputs": [
    {
     "data": {
      "text/plain": [
       "True"
      ]
     },
     "execution_count": 116,
     "metadata": {},
     "output_type": "execute_result"
    }
   ],
   "source": [
    "all([4.5, 4, 'string', 0.1, {'a': 'ay'}])"
   ]
  },
  {
   "cell_type": "code",
   "execution_count": 119,
   "id": "216d3f58-4b90-4258-b7dc-e532e05be809",
   "metadata": {},
   "outputs": [
    {
     "name": "stdout",
     "output_type": "stream",
     "text": [
      "1 2 3 {'sep': '+++', 'end': '\\n\\n'}\n"
     ]
    }
   ],
   "source": [
    "print(1, 2, 3, {'sep': '+++', 'end': '\\n\\n'})"
   ]
  },
  {
   "cell_type": "code",
   "execution_count": 130,
   "id": "ccf907ff-0fc9-4bc9-bf64-f23d7ef2ca79",
   "metadata": {},
   "outputs": [],
   "source": [
    "def my_print(*args):\n",
    "    if type(args[-1]) == dict:\n",
    "        options = args[-1] # options that we need to see are in the final argument (-1)\n",
    "        our_sep = options.get('sep', ' ') # sep will be a space if the caller didn't specify in the dict\n",
    "        our_end = options.get('end', '\\n') # end will be \\n \" \" \"\n",
    "        stuff_to_print = args[:-1] # exclude last item\n",
    "    else:\n",
    "        stuff_to_print = args\n",
    "\n",
    "    for thing in stuff_to_print:\n",
    "        print(thing, our_sep, end='')\n",
    "    print(our_end, end='')"
   ]
  },
  {
   "cell_type": "code",
   "execution_count": 135,
   "id": "e76e2558-45b2-4fde-ac38-ee5b44a91aa4",
   "metadata": {},
   "outputs": [
    {
     "name": "stdout",
     "output_type": "stream",
     "text": [
      "1 +++2 +++3 +++\n",
      "\n"
     ]
    }
   ],
   "source": [
    "my_print(1, 2, 3, {'sep': '+++', 'end': '\\n\\n'})"
   ]
  },
  {
   "cell_type": "code",
   "execution_count": 141,
   "id": "1c6ba3d1-eae8-458c-85d2-ca90f406c101",
   "metadata": {},
   "outputs": [],
   "source": [
    "def func(*args, **kwargs):\n",
    "    # This function accepts ANY number of positional args followed by ANY number of keywords args\n",
    "    print(args, kwargs, sep='\\n')"
   ]
  },
  {
   "cell_type": "code",
   "execution_count": 137,
   "id": "c4454104-65a5-4183-91ef-19bd9c1643a0",
   "metadata": {},
   "outputs": [
    {
     "name": "stdout",
     "output_type": "stream",
     "text": [
      "()\n",
      "{}\n"
     ]
    }
   ],
   "source": [
    "func()"
   ]
  },
  {
   "cell_type": "code",
   "execution_count": 138,
   "id": "05291f03-a432-487d-a5ae-08cb01e4e5dc",
   "metadata": {},
   "outputs": [
    {
     "name": "stdout",
     "output_type": "stream",
     "text": [
      "(1, 2, 3, 'four')\n",
      "{}\n"
     ]
    }
   ],
   "source": [
    "func(1, 2, 3, 'four')"
   ]
  },
  {
   "cell_type": "code",
   "execution_count": 140,
   "id": "4079c2a8-af99-44e3-90be-c0df9c7f2ae2",
   "metadata": {},
   "outputs": [
    {
     "name": "stdout",
     "output_type": "stream",
     "text": [
      "(1, 2, 2, '19')\n",
      "{'blah': 'nope!', 'x': 1, 'q': 'queue'}\n"
     ]
    }
   ],
   "source": [
    "func(1, 2, 2, '19', blah='nope!', x=1, q='queue')"
   ]
  },
  {
   "cell_type": "code",
   "execution_count": 142,
   "id": "9f9b2bb6-9d23-4cce-a8e3-db8935973e16",
   "metadata": {},
   "outputs": [
    {
     "name": "stdout",
     "output_type": "stream",
     "text": [
      "Help on built-in function sin in module math:\n",
      "\n",
      "sin(x, /)\n",
      "    Return the sine of x (measured in radians).\n",
      "\n"
     ]
    }
   ],
   "source": [
    "import math\n",
    "help(math.sin)"
   ]
  },
  {
   "cell_type": "code",
   "execution_count": 143,
   "id": "5848feaa-b789-4de8-8146-9fdd7f77c01e",
   "metadata": {},
   "outputs": [
    {
     "name": "stdout",
     "output_type": "stream",
     "text": [
      "Help on built-in function factorial in module math:\n",
      "\n",
      "factorial(x, /)\n",
      "    Find x!.\n",
      "    \n",
      "    Raise a ValueError if x is negative or non-integral.\n",
      "\n"
     ]
    }
   ],
   "source": [
    "help(math.factorial)"
   ]
  },
  {
   "cell_type": "code",
   "execution_count": 144,
   "id": "a2a7d94a-a72b-40f7-b9f5-f07b73b6ca8d",
   "metadata": {},
   "outputs": [
    {
     "ename": "TypeError",
     "evalue": "math.sin() takes no keyword arguments",
     "output_type": "error",
     "traceback": [
      "\u001b[0;31m---------------------------------------------------------------------------\u001b[0m",
      "\u001b[0;31mTypeError\u001b[0m                                 Traceback (most recent call last)",
      "Input \u001b[0;32mIn [144]\u001b[0m, in \u001b[0;36m<cell line: 1>\u001b[0;34m()\u001b[0m\n\u001b[0;32m----> 1\u001b[0m \u001b[43mmath\u001b[49m\u001b[38;5;241;43m.\u001b[39;49m\u001b[43msin\u001b[49m\u001b[43m(\u001b[49m\u001b[43mx\u001b[49m\u001b[38;5;241;43m=\u001b[39;49m\u001b[43mmath\u001b[49m\u001b[38;5;241;43m.\u001b[39;49m\u001b[43mpi\u001b[49m\u001b[38;5;241;43m/\u001b[39;49m\u001b[38;5;241;43m2.0\u001b[39;49m\u001b[43m)\u001b[49m\n",
      "\u001b[0;31mTypeError\u001b[0m: math.sin() takes no keyword arguments"
     ]
    }
   ],
   "source": [
    "math.sin(math.pi/2.0)"
   ]
  },
  {
   "cell_type": "code",
   "execution_count": 146,
   "id": "93078ba7-b614-4b19-a873-d363b56bd440",
   "metadata": {},
   "outputs": [
    {
     "data": {
      "text/plain": [
       "120"
      ]
     },
     "execution_count": 146,
     "metadata": {},
     "output_type": "execute_result"
    }
   ],
   "source": [
    "math.factorial(5)"
   ]
  },
  {
   "cell_type": "code",
   "execution_count": 147,
   "id": "82359c72-dea7-453f-8469-fe3be765dbe8",
   "metadata": {},
   "outputs": [
    {
     "name": "stdout",
     "output_type": "stream",
     "text": [
      "Help on built-in function sorted in module builtins:\n",
      "\n",
      "sorted(iterable, /, *, key=None, reverse=False)\n",
      "    Return a new list containing all items from the iterable in ascending order.\n",
      "    \n",
      "    A custom key function can be supplied to customize the sort order, and the\n",
      "    reverse flag can be set to request the result in descending order.\n",
      "\n"
     ]
    }
   ],
   "source": [
    "help(sorted)"
   ]
  },
  {
   "cell_type": "code",
   "execution_count": 148,
   "id": "6602c8a1-1259-43fd-962e-57743dbd5c46",
   "metadata": {},
   "outputs": [
    {
     "ename": "TypeError",
     "evalue": "sorted expected 1 argument, got 0",
     "output_type": "error",
     "traceback": [
      "\u001b[0;31m---------------------------------------------------------------------------\u001b[0m",
      "\u001b[0;31mTypeError\u001b[0m                                 Traceback (most recent call last)",
      "Input \u001b[0;32mIn [148]\u001b[0m, in \u001b[0;36m<cell line: 1>\u001b[0;34m()\u001b[0m\n\u001b[0;32m----> 1\u001b[0m \u001b[38;5;28;43msorted\u001b[39;49m\u001b[43m(\u001b[49m\u001b[43miterable\u001b[49m\u001b[38;5;241;43m=\u001b[39;49m\u001b[43m[\u001b[49m\u001b[38;5;241;43m1\u001b[39;49m\u001b[43m,\u001b[49m\u001b[43m \u001b[49m\u001b[38;5;241;43m3\u001b[39;49m\u001b[43m,\u001b[49m\u001b[43m \u001b[49m\u001b[38;5;241;43m2\u001b[39;49m\u001b[43m,\u001b[49m\u001b[43m \u001b[49m\u001b[38;5;241;43m-\u001b[39;49m\u001b[38;5;241;43m1\u001b[39;49m\u001b[43m,\u001b[49m\u001b[43m \u001b[49m\u001b[38;5;241;43m5\u001b[39;49m\u001b[43m]\u001b[49m\u001b[43m)\u001b[49m\n",
      "\u001b[0;31mTypeError\u001b[0m: sorted expected 1 argument, got 0"
     ]
    }
   ],
   "source": [
    "sorted(iterable=[1, 3, 2, -1, 5])"
   ]
  },
  {
   "cell_type": "code",
   "execution_count": 151,
   "id": "9e807643-c327-47f7-9095-6c82a3c9df38",
   "metadata": {},
   "outputs": [],
   "source": [
    "def func(pos1, pos2, /, thing1, thing2, *, sep=' ', end='\\n'):\n",
    "    print(pos1, pos2)\n",
    "    print(thing1, thing2)\n",
    "    print(sep, end)"
   ]
  },
  {
   "cell_type": "code",
   "execution_count": 152,
   "id": "0176cb19-cb5f-4fe5-b0d8-0e10ded178a3",
   "metadata": {},
   "outputs": [
    {
     "ename": "TypeError",
     "evalue": "func() missing 4 required positional arguments: 'pos1', 'pos2', 'thing1', and 'thing2'",
     "output_type": "error",
     "traceback": [
      "\u001b[0;31m---------------------------------------------------------------------------\u001b[0m",
      "\u001b[0;31mTypeError\u001b[0m                                 Traceback (most recent call last)",
      "Input \u001b[0;32mIn [152]\u001b[0m, in \u001b[0;36m<cell line: 1>\u001b[0;34m()\u001b[0m\n\u001b[0;32m----> 1\u001b[0m \u001b[43mfunc\u001b[49m\u001b[43m(\u001b[49m\u001b[43m)\u001b[49m\n",
      "\u001b[0;31mTypeError\u001b[0m: func() missing 4 required positional arguments: 'pos1', 'pos2', 'thing1', and 'thing2'"
     ]
    }
   ],
   "source": [
    "func()"
   ]
  },
  {
   "cell_type": "code",
   "execution_count": 153,
   "id": "3d1f093f-afa4-40ef-b35f-773d98b7d2d9",
   "metadata": {},
   "outputs": [
    {
     "ename": "TypeError",
     "evalue": "func() got some positional-only arguments passed as keyword arguments: 'pos1, pos2'",
     "output_type": "error",
     "traceback": [
      "\u001b[0;31m---------------------------------------------------------------------------\u001b[0m",
      "\u001b[0;31mTypeError\u001b[0m                                 Traceback (most recent call last)",
      "Input \u001b[0;32mIn [153]\u001b[0m, in \u001b[0;36m<cell line: 1>\u001b[0;34m()\u001b[0m\n\u001b[0;32m----> 1\u001b[0m \u001b[43mfunc\u001b[49m\u001b[43m(\u001b[49m\u001b[43mpos2\u001b[49m\u001b[38;5;241;43m=\u001b[39;49m\u001b[38;5;241;43m65.5\u001b[39;49m\u001b[43m,\u001b[49m\u001b[43m \u001b[49m\u001b[43mpos1\u001b[49m\u001b[38;5;241;43m=\u001b[39;49m\u001b[38;5;241;43m-\u001b[39;49m\u001b[38;5;241;43m14.8\u001b[39;49m\u001b[43m,\u001b[49m\u001b[43m \u001b[49m\u001b[43mthing1\u001b[49m\u001b[38;5;241;43m=\u001b[39;49m\u001b[38;5;124;43m'\u001b[39;49m\u001b[38;5;124;43mDr.\u001b[39;49m\u001b[38;5;124;43m'\u001b[39;49m\u001b[43m,\u001b[49m\u001b[43m \u001b[49m\u001b[43mthing2\u001b[49m\u001b[38;5;241;43m=\u001b[39;49m\u001b[38;5;124;43m'\u001b[39;49m\u001b[38;5;124;43mSeuss\u001b[39;49m\u001b[38;5;124;43m'\u001b[39;49m\u001b[43m)\u001b[49m\n",
      "\u001b[0;31mTypeError\u001b[0m: func() got some positional-only arguments passed as keyword arguments: 'pos1, pos2'"
     ]
    }
   ],
   "source": [
    "func(pos2=65.5, pos1=-14.8, thing1='Dr.', thing2='Seuss')"
   ]
  },
  {
   "cell_type": "code",
   "execution_count": 154,
   "id": "d10a6eda-1c2e-47fb-961b-0f2d815a187e",
   "metadata": {},
   "outputs": [
    {
     "name": "stdout",
     "output_type": "stream",
     "text": [
      "-14.8 65.5\n",
      "Dr. Seuss\n",
      "  \n",
      "\n"
     ]
    }
   ],
   "source": [
    "func(-14.8, 65.5, 'Dr.', 'Seuss')"
   ]
  },
  {
   "cell_type": "code",
   "execution_count": 155,
   "id": "c6af137a-68d0-462f-8342-fe51fbf2f00f",
   "metadata": {},
   "outputs": [
    {
     "ename": "TypeError",
     "evalue": "func() takes 4 positional arguments but 6 were given",
     "output_type": "error",
     "traceback": [
      "\u001b[0;31m---------------------------------------------------------------------------\u001b[0m",
      "\u001b[0;31mTypeError\u001b[0m                                 Traceback (most recent call last)",
      "Input \u001b[0;32mIn [155]\u001b[0m, in \u001b[0;36m<cell line: 1>\u001b[0;34m()\u001b[0m\n\u001b[0;32m----> 1\u001b[0m \u001b[43mfunc\u001b[49m\u001b[43m(\u001b[49m\u001b[38;5;241;43m-\u001b[39;49m\u001b[38;5;241;43m14.8\u001b[39;49m\u001b[43m,\u001b[49m\u001b[43m \u001b[49m\u001b[38;5;241;43m65.5\u001b[39;49m\u001b[43m,\u001b[49m\u001b[43m \u001b[49m\u001b[38;5;124;43m'\u001b[39;49m\u001b[38;5;124;43mDr.\u001b[39;49m\u001b[38;5;124;43m'\u001b[39;49m\u001b[43m,\u001b[49m\u001b[43m \u001b[49m\u001b[38;5;124;43m'\u001b[39;49m\u001b[38;5;124;43mSeuss\u001b[39;49m\u001b[38;5;124;43m'\u001b[39;49m\u001b[43m,\u001b[49m\u001b[43m \u001b[49m\u001b[38;5;124;43m'\u001b[39;49m\u001b[38;5;124;43m+++\u001b[39;49m\u001b[38;5;124;43m'\u001b[39;49m\u001b[43m,\u001b[49m\u001b[43m \u001b[49m\u001b[38;5;124;43m'\u001b[39;49m\u001b[38;5;130;43;01m\\n\u001b[39;49;00m\u001b[38;5;130;43;01m\\n\u001b[39;49;00m\u001b[38;5;124;43m'\u001b[39;49m\u001b[43m)\u001b[49m\n",
      "\u001b[0;31mTypeError\u001b[0m: func() takes 4 positional arguments but 6 were given"
     ]
    }
   ],
   "source": [
    "func(-14.8, 65.5, 'Dr.', 'Seuss', '+++', '\\n\\n')"
   ]
  },
  {
   "cell_type": "code",
   "execution_count": 157,
   "id": "11da92d8-d350-4269-ac18-29bdafe8a73d",
   "metadata": {},
   "outputs": [
    {
     "name": "stdout",
     "output_type": "stream",
     "text": [
      "-14.8 65.5\n",
      "Dr. Seuss\n",
      "+++ END!\n"
     ]
    }
   ],
   "source": [
    "func(-14.8, 65.5, 'Dr.', 'Seuss', end='END!', sep='+++')"
   ]
  },
  {
   "cell_type": "code",
   "execution_count": 168,
   "id": "7a911d7a-3392-4433-913d-14472960b9ae",
   "metadata": {},
   "outputs": [],
   "source": [
    "x = 1\n",
    "\n",
    "def func():\n",
    "    x = 'in func'\n",
    "    print(x)\n",
    "    x = 'something else'\n",
    "    print(x)"
   ]
  },
  {
   "cell_type": "code",
   "execution_count": 169,
   "id": "7f035504-15f4-4a7b-851b-dad1b451c1c6",
   "metadata": {},
   "outputs": [
    {
     "data": {
      "text/plain": [
       "1"
      ]
     },
     "execution_count": 169,
     "metadata": {},
     "output_type": "execute_result"
    }
   ],
   "source": [
    "x"
   ]
  },
  {
   "cell_type": "code",
   "execution_count": 170,
   "id": "001b38e1-a926-4b58-9d75-801683f6dee4",
   "metadata": {},
   "outputs": [
    {
     "name": "stdout",
     "output_type": "stream",
     "text": [
      "in func\n",
      "something else\n"
     ]
    }
   ],
   "source": [
    "func()"
   ]
  },
  {
   "cell_type": "code",
   "execution_count": 171,
   "id": "88a1fbed-22ac-492d-af25-00683c52cacd",
   "metadata": {},
   "outputs": [
    {
     "data": {
      "text/plain": [
       "1"
      ]
     },
     "execution_count": 171,
     "metadata": {},
     "output_type": "execute_result"
    }
   ],
   "source": [
    "x"
   ]
  },
  {
   "cell_type": "code",
   "execution_count": 173,
   "id": "1a88288b-9fee-4a0a-8a1e-d9e1bdb8eb12",
   "metadata": {},
   "outputs": [],
   "source": [
    "x = 'global x'\n",
    "\n",
    "def func1():\n",
    "    x = 1\n",
    "    \n",
    "def func2():\n",
    "    x = 12\n",
    "    \n",
    "def func3():\n",
    "    x = 'ecks'"
   ]
  },
  {
   "cell_type": "code",
   "execution_count": 174,
   "id": "089d53e2-c0d0-46d5-b078-ce424d860d3a",
   "metadata": {},
   "outputs": [
    {
     "data": {
      "text/plain": [
       "'global x'"
      ]
     },
     "execution_count": 174,
     "metadata": {},
     "output_type": "execute_result"
    }
   ],
   "source": [
    "x"
   ]
  },
  {
   "cell_type": "code",
   "execution_count": 175,
   "id": "3756e5df-9b94-47a1-b00c-8da9c5c93ae2",
   "metadata": {},
   "outputs": [
    {
     "name": "stdout",
     "output_type": "stream",
     "text": [
      "x in if statement\n"
     ]
    }
   ],
   "source": [
    "if 5 > 3:\n",
    "    x = 'x in if statement'\n",
    "    print(x)"
   ]
  },
  {
   "cell_type": "code",
   "execution_count": 176,
   "id": "14cd7a13-f655-41ec-a911-41ec893fe087",
   "metadata": {},
   "outputs": [
    {
     "data": {
      "text/plain": [
       "'x in if statement'"
      ]
     },
     "execution_count": 176,
     "metadata": {},
     "output_type": "execute_result"
    }
   ],
   "source": [
    "x"
   ]
  },
  {
   "cell_type": "code",
   "execution_count": 178,
   "id": "a2c5c818-a4f3-4be0-a19e-9bd014ebab65",
   "metadata": {},
   "outputs": [
    {
     "name": "stdout",
     "output_type": "stream",
     "text": [
      "new var created inside a block\n"
     ]
    }
   ],
   "source": [
    "if 5 > 4:\n",
    "    newvar = 'new var created inside a block'\n",
    "    print(newvar)"
   ]
  },
  {
   "cell_type": "code",
   "execution_count": 179,
   "id": "2af99ceb-a68b-4772-88d7-3c78c2d50f4f",
   "metadata": {},
   "outputs": [
    {
     "data": {
      "text/plain": [
       "'new var created inside a block'"
      ]
     },
     "execution_count": 179,
     "metadata": {},
     "output_type": "execute_result"
    }
   ],
   "source": [
    "newvar"
   ]
  },
  {
   "cell_type": "code",
   "execution_count": 181,
   "id": "652dd408-a2a9-41ed-9e22-1b51630692bc",
   "metadata": {},
   "outputs": [],
   "source": [
    "# 2 required args + a third arg which has a default value\n",
    "def func(x, y, data=14):\n",
    "    print(x, y)\n",
    "    print(data)"
   ]
  },
  {
   "cell_type": "code",
   "execution_count": 182,
   "id": "9579f2c6-82a8-421d-bf6e-9a5ea3a60f53",
   "metadata": {},
   "outputs": [],
   "source": [
    "# Matt: x and y are required\n",
    "# data is an \"optional keyword arg\""
   ]
  },
  {
   "cell_type": "code",
   "execution_count": 183,
   "id": "d1332279-e150-4ea3-bbd8-62c4bd175756",
   "metadata": {},
   "outputs": [
    {
     "name": "stdout",
     "output_type": "stream",
     "text": [
      "1 3\n",
      "15\n"
     ]
    }
   ],
   "source": [
    "func(1, 3, 15)"
   ]
  },
  {
   "cell_type": "code",
   "execution_count": 185,
   "id": "14fb8d97-e4f9-4918-9b49-d6a28f0d2415",
   "metadata": {},
   "outputs": [
    {
     "name": "stdout",
     "output_type": "stream",
     "text": [
      "3 1\n",
      "15\n"
     ]
    }
   ],
   "source": [
    "func(y=1, x=3, data=15)"
   ]
  },
  {
   "cell_type": "code",
   "execution_count": 186,
   "id": "6a88eb01-deec-4859-bab8-d72e870d62fd",
   "metadata": {},
   "outputs": [],
   "source": [
    "# 2 required pos args plus one optional keyword-only arg\n",
    "def func(x, y, *, data=14):\n",
    "    print(x, y)\n",
    "    print(data)"
   ]
  },
  {
   "cell_type": "code",
   "execution_count": 187,
   "id": "de15dd14-04f2-4a45-a12c-b3dcf16a5695",
   "metadata": {},
   "outputs": [
    {
     "ename": "TypeError",
     "evalue": "func() takes 2 positional arguments but 3 were given",
     "output_type": "error",
     "traceback": [
      "\u001b[0;31m---------------------------------------------------------------------------\u001b[0m",
      "\u001b[0;31mTypeError\u001b[0m                                 Traceback (most recent call last)",
      "Input \u001b[0;32mIn [187]\u001b[0m, in \u001b[0;36m<cell line: 1>\u001b[0;34m()\u001b[0m\n\u001b[0;32m----> 1\u001b[0m \u001b[43mfunc\u001b[49m\u001b[43m(\u001b[49m\u001b[38;5;241;43m1\u001b[39;49m\u001b[43m,\u001b[49m\u001b[43m \u001b[49m\u001b[38;5;241;43m2\u001b[39;49m\u001b[43m,\u001b[49m\u001b[43m \u001b[49m\u001b[38;5;241;43m15\u001b[39;49m\u001b[43m)\u001b[49m\n",
      "\u001b[0;31mTypeError\u001b[0m: func() takes 2 positional arguments but 3 were given"
     ]
    }
   ],
   "source": [
    "func(1, 2, 15)"
   ]
  },
  {
   "cell_type": "code",
   "execution_count": 188,
   "id": "ce9e5219-121d-4132-8899-dabe395f80cf",
   "metadata": {},
   "outputs": [
    {
     "name": "stdout",
     "output_type": "stream",
     "text": [
      "1 2\n",
      "15\n"
     ]
    }
   ],
   "source": [
    "func(1, 2, data=15)"
   ]
  },
  {
   "cell_type": "code",
   "execution_count": 189,
   "id": "6310f560-7662-4a1f-ab6e-14a0d435b82c",
   "metadata": {},
   "outputs": [],
   "source": [
    "# 2 required pos args that MAY NOT BE passed by keyword\n",
    "# plus one optional keyword-only arg\n",
    "def func(x, y, /, *, data=14):\n",
    "    print(x, y)\n",
    "    print(data)"
   ]
  },
  {
   "cell_type": "code",
   "execution_count": 190,
   "id": "e8760cd5-f8dc-45dc-88ae-b6cae5496483",
   "metadata": {},
   "outputs": [
    {
     "name": "stdout",
     "output_type": "stream",
     "text": [
      "1 2\n",
      "0\n"
     ]
    }
   ],
   "source": [
    "func(1, 2, data=0)"
   ]
  },
  {
   "cell_type": "code",
   "execution_count": 191,
   "id": "40e8d694-6fc7-4e8f-9fc4-c63ca465a729",
   "metadata": {},
   "outputs": [
    {
     "ename": "TypeError",
     "evalue": "func() takes 2 positional arguments but 3 were given",
     "output_type": "error",
     "traceback": [
      "\u001b[0;31m---------------------------------------------------------------------------\u001b[0m",
      "\u001b[0;31mTypeError\u001b[0m                                 Traceback (most recent call last)",
      "Input \u001b[0;32mIn [191]\u001b[0m, in \u001b[0;36m<cell line: 1>\u001b[0;34m()\u001b[0m\n\u001b[0;32m----> 1\u001b[0m \u001b[43mfunc\u001b[49m\u001b[43m(\u001b[49m\u001b[38;5;241;43m1\u001b[39;49m\u001b[43m,\u001b[49m\u001b[43m \u001b[49m\u001b[38;5;241;43m2\u001b[39;49m\u001b[43m,\u001b[49m\u001b[43m \u001b[49m\u001b[38;5;241;43m3\u001b[39;49m\u001b[43m)\u001b[49m\n",
      "\u001b[0;31mTypeError\u001b[0m: func() takes 2 positional arguments but 3 were given"
     ]
    }
   ],
   "source": [
    "func(1, 2, 3)"
   ]
  },
  {
   "cell_type": "code",
   "execution_count": 192,
   "id": "4d134f35-0128-4125-aaee-3ac050af8c05",
   "metadata": {},
   "outputs": [
    {
     "ename": "TypeError",
     "evalue": "func() got some positional-only arguments passed as keyword arguments: 'x, y'",
     "output_type": "error",
     "traceback": [
      "\u001b[0;31m---------------------------------------------------------------------------\u001b[0m",
      "\u001b[0;31mTypeError\u001b[0m                                 Traceback (most recent call last)",
      "Input \u001b[0;32mIn [192]\u001b[0m, in \u001b[0;36m<cell line: 1>\u001b[0;34m()\u001b[0m\n\u001b[0;32m----> 1\u001b[0m \u001b[43mfunc\u001b[49m\u001b[43m(\u001b[49m\u001b[43mx\u001b[49m\u001b[38;5;241;43m=\u001b[39;49m\u001b[38;5;241;43m1\u001b[39;49m\u001b[43m,\u001b[49m\u001b[43m \u001b[49m\u001b[43my\u001b[49m\u001b[38;5;241;43m=\u001b[39;49m\u001b[38;5;241;43m2\u001b[39;49m\u001b[43m,\u001b[49m\u001b[43m \u001b[49m\u001b[43mdata\u001b[49m\u001b[38;5;241;43m=\u001b[39;49m\u001b[38;5;241;43m19\u001b[39;49m\u001b[43m)\u001b[49m\n",
      "\u001b[0;31mTypeError\u001b[0m: func() got some positional-only arguments passed as keyword arguments: 'x, y'"
     ]
    }
   ],
   "source": [
    "func(x=1, y=2, data=19)"
   ]
  },
  {
   "cell_type": "code",
   "execution_count": null,
   "id": "00b8ff6c-e712-4e91-ae73-ab3b116783d0",
   "metadata": {},
   "outputs": [],
   "source": [
    "def menu(wine, entree, dessert='tartufo'):\n",
    "    print(wine, entree, dessert)"
   ]
  },
  {
   "cell_type": "markdown",
   "id": "201b5592-837f-4f6a-8d78-fa35431603af",
   "metadata": {},
   "source": [
    "# kwargs assignment\n",
    "* take the function below (or a function of your choosing)\n",
    "* add the \\*\\*kwargs parameter to it\n",
    "* instrument it, i.e, add code to figure out if the 'debug' argument was passed in\n",
    "* and if so, print out some debugging\n",
    "* if you have time, come up with other keywords args besides debug that might be useful"
   ]
  },
  {
   "cell_type": "code",
   "execution_count": 243,
   "id": "8e81e755-99f6-4153-b1ae-06791238899b",
   "metadata": {},
   "outputs": [],
   "source": [
    "def generate_secret_code(num_digits, **kwargs):\n",
    "    \"\"\"Generate a numeric \"code\" of a certain digit length.\n",
    "    Duplicates are not normally allowed in the code, but the caller may set allow_dupes=True to allow them.\n",
    "    \"\"\"\n",
    "    from random import choice as random_choice # we are free to rename imports to suit our mood\n",
    "    \n",
    "    debug = kwargs.get('debug') # this will be None if not there or the value if it is there\n",
    "    allow_dupes = kwargs.get('allow_dupes')\n",
    "    \n",
    "    # or...\n",
    "    debug, allow_dupes = False, False # set up intial option values\n",
    "    \n",
    "    if 'debug' in kwargs: # is 'debug' a key in the dict?\n",
    "        debug = kwargs['debug']\n",
    "    if 'allow_dupes' in kwargs: # is 'allow_dupes' a key in the dict?\n",
    "        allow_dupes = kwargs['allow_dupes']\n",
    "        \n",
    "    digits_to_pick_from = list(range(10)) # [ 0, 1, ..., 9 ]\n",
    "    secret_code = []\n",
    "    \n",
    "    # this is not the ideal way to handle such errors, but it's a way...\n",
    "    if num_digits < 2 or num_digits > 10:\n",
    "        print('number of digits must be between 2 and 10')\n",
    "        return secret_code\n",
    "    \n",
    "    if debug:\n",
    "        print(f'Generating a {num_digits}-digit secret code...')\n",
    "        \n",
    "    for times in range(num_digits):\n",
    "        digit = random_choice(digits_to_pick_from)\n",
    "        if not allow_dupes: # \"if the truthy value of allows_dupes is True, we do the remove, i.e., we don't allow dupes\n",
    "            digits_to_pick_from.remove(digit)\n",
    "        if debug:\n",
    "            print('chosen digit =', digit, 'remaining choices =', digits_to_pick_from)\n",
    "        secret_code.append(str(digit)) # at the time we append, let's str-ify it\n",
    "    \n",
    "    return secret_code"
   ]
  },
  {
   "cell_type": "code",
   "execution_count": 256,
   "id": "02614780-14bb-4dd2-8f65-9e5a27bb6dbd",
   "metadata": {},
   "outputs": [
    {
     "name": "stdout",
     "output_type": "stream",
     "text": [
      "Generating a 4-digit secret code...\n",
      "chosen digit = 5 remaining choices = [0, 1, 2, 3, 4, 6, 7, 8, 9]\n",
      "chosen digit = 0 remaining choices = [1, 2, 3, 4, 6, 7, 8, 9]\n",
      "chosen digit = 4 remaining choices = [1, 2, 3, 6, 7, 8, 9]\n",
      "chosen digit = 7 remaining choices = [1, 2, 3, 6, 8, 9]\n"
     ]
    },
    {
     "data": {
      "text/plain": [
       "['5', '0', '4', '7']"
      ]
     },
     "execution_count": 256,
     "metadata": {},
     "output_type": "execute_result"
    }
   ],
   "source": [
    "generate_secret_code(4, debug=1, allow_dupes=0)"
   ]
  },
  {
   "cell_type": "code",
   "execution_count": 253,
   "id": "43746c0c-dca2-415f-b4ae-a58a1b2e8be3",
   "metadata": {},
   "outputs": [],
   "source": [
    "def f():\n",
    "    from math import sin, cos, pi\n",
    "    #import math\n",
    "    # ...\n",
    "    sin(pi) * cos\n",
    "    cos(pi)"
   ]
  },
  {
   "cell_type": "code",
   "execution_count": 228,
   "id": "4df53051-337e-4780-82f0-05ec020e8696",
   "metadata": {},
   "outputs": [],
   "source": [
    "if None:\n",
    "    print('do this')"
   ]
  },
  {
   "cell_type": "code",
   "execution_count": 238,
   "id": "8ac46323-9d9a-498b-abdc-10daf8bdba05",
   "metadata": {},
   "outputs": [
    {
     "name": "stdout",
     "output_type": "stream",
     "text": [
      "Carlos is exactly correct\n"
     ]
    }
   ],
   "source": [
    "if 'Carlos':\n",
    "    print('Carlos is exactly correct')"
   ]
  },
  {
   "cell_type": "code",
   "execution_count": 271,
   "id": "e29d37b8-6e67-4337-a95d-eb5ed8fcfa6a",
   "metadata": {},
   "outputs": [],
   "source": [
    "def generate_secret_code(num_digits=4, *, allow_dupes=False, debug=False):\n",
    "    \"\"\"Generate a numeric \"code\" of a certain digit length.\n",
    "    Duplicates are not normally allowed in the code, but the caller may set allow_dupes=True to allow them.\n",
    "    \"\"\"\n",
    "    from random import choice as random_choice # we are free to rename imports to suit our mood\n",
    "    \n",
    "    digits_to_pick_from = list(range(10)) # [ 0, 1, ..., 9 ]\n",
    "    secret_code = []\n",
    "    \n",
    "    # this is not the ideal way to handle such errors, but it's a way...\n",
    "    if num_digits < 2 or num_digits > 10:\n",
    "        print('number of digits must be between 2 and 10')\n",
    "        return secret_code\n",
    "    \n",
    "    if debug:\n",
    "        print(f'Generating a {num_digits}-digit secret code...')\n",
    "        \n",
    "    for times in range(num_digits):\n",
    "        digit = random_choice(digits_to_pick_from)\n",
    "        if not allow_dupes: # \"if the truthy value of allows_dupes is True, we do the remove, i.e., we don't allow dupes\n",
    "            digits_to_pick_from.remove(digit)\n",
    "        if debug:\n",
    "            print('chosen digit =', digit, 'remaining choices =', digits_to_pick_from)\n",
    "        secret_code.append(str(digit)) # at the time we append, let's str-ify it\n",
    "    \n",
    "    return secret_code"
   ]
  },
  {
   "cell_type": "code",
   "execution_count": 270,
   "id": "151a099f-50de-4a52-91c6-742ea7afb0d1",
   "metadata": {},
   "outputs": [
    {
     "name": "stdout",
     "output_type": "stream",
     "text": [
      "Generating a 4-digit secret code...\n",
      "chosen digit = 4 remaining choices = [0, 1, 2, 3, 5, 6, 7, 8, 9]\n",
      "chosen digit = 2 remaining choices = [0, 1, 3, 5, 6, 7, 8, 9]\n",
      "chosen digit = 6 remaining choices = [0, 1, 3, 5, 7, 8, 9]\n",
      "chosen digit = 7 remaining choices = [0, 1, 3, 5, 8, 9]\n"
     ]
    },
    {
     "data": {
      "text/plain": [
       "['4', '2', '6', '7']"
      ]
     },
     "execution_count": 270,
     "metadata": {},
     "output_type": "execute_result"
    }
   ],
   "source": [
    "generate_secret_code(4, debug=True, allow_dupes=False)"
   ]
  },
  {
   "cell_type": "code",
   "execution_count": 273,
   "id": "8ebb37f7-fea4-492d-877b-f94588f3a232",
   "metadata": {},
   "outputs": [
    {
     "name": "stdout",
     "output_type": "stream",
     "text": [
      "Generating a 4-digit secret code...\n",
      "chosen digit = 2 remaining choices = [0, 1, 3, 4, 5, 6, 7, 8, 9]\n",
      "chosen digit = 0 remaining choices = [1, 3, 4, 5, 6, 7, 8, 9]\n",
      "chosen digit = 1 remaining choices = [3, 4, 5, 6, 7, 8, 9]\n",
      "chosen digit = 5 remaining choices = [3, 4, 6, 7, 8, 9]\n"
     ]
    },
    {
     "data": {
      "text/plain": [
       "['2', '0', '1', '5']"
      ]
     },
     "execution_count": 273,
     "metadata": {},
     "output_type": "execute_result"
    }
   ],
   "source": [
    "generate_secret_code(debug=True)"
   ]
  },
  {
   "cell_type": "code",
   "execution_count": 275,
   "id": "e5b2256f-cec9-4f13-856a-eda9fab14e09",
   "metadata": {},
   "outputs": [
    {
     "data": {
      "text/plain": [
       "['4', '9', '4', '7', '4']"
      ]
     },
     "execution_count": 275,
     "metadata": {},
     "output_type": "execute_result"
    }
   ],
   "source": [
    "generate_secret_code(5, allow_dupes=True)"
   ]
  },
  {
   "cell_type": "code",
   "execution_count": 276,
   "id": "a41972c3-88fd-4229-9521-32ba86d12f90",
   "metadata": {},
   "outputs": [
    {
     "ename": "ValueError",
     "evalue": "invalid literal for int() with base 10: 'x'",
     "output_type": "error",
     "traceback": [
      "\u001b[0;31m---------------------------------------------------------------------------\u001b[0m",
      "\u001b[0;31mValueError\u001b[0m                                Traceback (most recent call last)",
      "Input \u001b[0;32mIn [276]\u001b[0m, in \u001b[0;36m<cell line: 1>\u001b[0;34m()\u001b[0m\n\u001b[0;32m----> 1\u001b[0m \u001b[38;5;28;43mint\u001b[39;49m\u001b[43m(\u001b[49m\u001b[38;5;124;43m'\u001b[39;49m\u001b[38;5;124;43mx\u001b[39;49m\u001b[38;5;124;43m'\u001b[39;49m\u001b[43m)\u001b[49m\n",
      "\u001b[0;31mValueError\u001b[0m: invalid literal for int() with base 10: 'x'"
     ]
    }
   ],
   "source": [
    "int('x')"
   ]
  },
  {
   "cell_type": "code",
   "execution_count": 277,
   "id": "7d009657-5820-41d9-8886-a9d74aaf3b3c",
   "metadata": {},
   "outputs": [
    {
     "ename": "SyntaxError",
     "evalue": "'break' outside loop (668683560.py, line 1)",
     "output_type": "error",
     "traceback": [
      "\u001b[0;36m  Input \u001b[0;32mIn [277]\u001b[0;36m\u001b[0m\n\u001b[0;31m    break\u001b[0m\n\u001b[0m    ^\u001b[0m\n\u001b[0;31mSyntaxError\u001b[0m\u001b[0;31m:\u001b[0m 'break' outside loop\n"
     ]
    }
   ],
   "source": [
    "break"
   ]
  },
  {
   "cell_type": "code",
   "execution_count": 278,
   "id": "bf8587c9-232a-416b-9872-8f771cc0e22a",
   "metadata": {},
   "outputs": [],
   "source": [
    "d = {}"
   ]
  },
  {
   "cell_type": "code",
   "execution_count": 279,
   "id": "cfffd509-a5fe-4369-9452-b0961de822f9",
   "metadata": {},
   "outputs": [
    {
     "ename": "KeyError",
     "evalue": "'key'",
     "output_type": "error",
     "traceback": [
      "\u001b[0;31m---------------------------------------------------------------------------\u001b[0m",
      "\u001b[0;31mKeyError\u001b[0m                                  Traceback (most recent call last)",
      "Input \u001b[0;32mIn [279]\u001b[0m, in \u001b[0;36m<cell line: 1>\u001b[0;34m()\u001b[0m\n\u001b[0;32m----> 1\u001b[0m \u001b[43md\u001b[49m\u001b[43m[\u001b[49m\u001b[38;5;124;43m'\u001b[39;49m\u001b[38;5;124;43mkey\u001b[39;49m\u001b[38;5;124;43m'\u001b[39;49m\u001b[43m]\u001b[49m\n",
      "\u001b[0;31mKeyError\u001b[0m: 'key'"
     ]
    }
   ],
   "source": [
    "d['key']"
   ]
  },
  {
   "cell_type": "code",
   "execution_count": 280,
   "id": "fa11af06-7450-4c09-90a0-7faa30ef605b",
   "metadata": {},
   "outputs": [],
   "source": [
    "a_list = list(range(10))"
   ]
  },
  {
   "cell_type": "code",
   "execution_count": 281,
   "id": "8ed1fbe9-259c-4f91-bcf8-c93c9751fc2b",
   "metadata": {},
   "outputs": [
    {
     "data": {
      "text/plain": [
       "[0, 1, 2, 3, 4, 5, 6, 7, 8, 9]"
      ]
     },
     "execution_count": 281,
     "metadata": {},
     "output_type": "execute_result"
    }
   ],
   "source": [
    "a_list"
   ]
  },
  {
   "cell_type": "code",
   "execution_count": 282,
   "id": "e382dd9d-8a37-4b01-9d71-faad0691b997",
   "metadata": {},
   "outputs": [
    {
     "ename": "IndexError",
     "evalue": "list index out of range",
     "output_type": "error",
     "traceback": [
      "\u001b[0;31m---------------------------------------------------------------------------\u001b[0m",
      "\u001b[0;31mIndexError\u001b[0m                                Traceback (most recent call last)",
      "Input \u001b[0;32mIn [282]\u001b[0m, in \u001b[0;36m<cell line: 1>\u001b[0;34m()\u001b[0m\n\u001b[0;32m----> 1\u001b[0m \u001b[43ma_list\u001b[49m\u001b[43m[\u001b[49m\u001b[38;5;241;43m13\u001b[39;49m\u001b[43m]\u001b[49m\n",
      "\u001b[0;31mIndexError\u001b[0m: list index out of range"
     ]
    }
   ],
   "source": [
    "a_list[13]"
   ]
  },
  {
   "cell_type": "code",
   "execution_count": 283,
   "id": "2d19114f-a648-4854-96d7-e34a16165858",
   "metadata": {},
   "outputs": [
    {
     "ename": "ZeroDivisionError",
     "evalue": "division by zero",
     "output_type": "error",
     "traceback": [
      "\u001b[0;31m---------------------------------------------------------------------------\u001b[0m",
      "\u001b[0;31mZeroDivisionError\u001b[0m                         Traceback (most recent call last)",
      "Input \u001b[0;32mIn [283]\u001b[0m, in \u001b[0;36m<cell line: 1>\u001b[0;34m()\u001b[0m\n\u001b[0;32m----> 1\u001b[0m \u001b[38;5;241;43m1\u001b[39;49m\u001b[38;5;241;43m/\u001b[39;49m\u001b[38;5;241;43m0\u001b[39;49m\n",
      "\u001b[0;31mZeroDivisionError\u001b[0m: division by zero"
     ]
    }
   ],
   "source": [
    "1/0"
   ]
  },
  {
   "cell_type": "code",
   "execution_count": 284,
   "id": "1529d081-c9c2-4607-88d3-cc771734bcea",
   "metadata": {},
   "outputs": [],
   "source": [
    "def f():\n",
    "    1/0"
   ]
  },
  {
   "cell_type": "code",
   "execution_count": 286,
   "id": "53d9acf7-d8ad-4b77-bc87-3ac4d2d878c7",
   "metadata": {},
   "outputs": [],
   "source": [
    "def g():\n",
    "    f()"
   ]
  },
  {
   "cell_type": "code",
   "execution_count": 287,
   "id": "5f4c3ba0-962f-443f-9f93-111b12820572",
   "metadata": {},
   "outputs": [
    {
     "ename": "ZeroDivisionError",
     "evalue": "division by zero",
     "output_type": "error",
     "traceback": [
      "\u001b[0;31m---------------------------------------------------------------------------\u001b[0m",
      "\u001b[0;31mZeroDivisionError\u001b[0m                         Traceback (most recent call last)",
      "Input \u001b[0;32mIn [287]\u001b[0m, in \u001b[0;36m<cell line: 1>\u001b[0;34m()\u001b[0m\n\u001b[0;32m----> 1\u001b[0m \u001b[43mg\u001b[49m\u001b[43m(\u001b[49m\u001b[43m)\u001b[49m\n",
      "Input \u001b[0;32mIn [286]\u001b[0m, in \u001b[0;36mg\u001b[0;34m()\u001b[0m\n\u001b[1;32m      1\u001b[0m \u001b[38;5;28;01mdef\u001b[39;00m \u001b[38;5;21mg\u001b[39m():\n\u001b[0;32m----> 2\u001b[0m     \u001b[43mf\u001b[49m\u001b[43m(\u001b[49m\u001b[43m)\u001b[49m\n",
      "Input \u001b[0;32mIn [284]\u001b[0m, in \u001b[0;36mf\u001b[0;34m()\u001b[0m\n\u001b[1;32m      1\u001b[0m \u001b[38;5;28;01mdef\u001b[39;00m \u001b[38;5;21mf\u001b[39m():\n\u001b[0;32m----> 2\u001b[0m     \u001b[38;5;241;43m1\u001b[39;49m\u001b[38;5;241;43m/\u001b[39;49m\u001b[38;5;241;43m0\u001b[39;49m\n",
      "\u001b[0;31mZeroDivisionError\u001b[0m: division by zero"
     ]
    }
   ],
   "source": [
    "g()"
   ]
  },
  {
   "cell_type": "code",
   "execution_count": 288,
   "id": "a401c98c-a7e3-4b55-a995-c75a8ab9fe92",
   "metadata": {},
   "outputs": [
    {
     "data": {
      "text/plain": [
       "{}"
      ]
     },
     "execution_count": 288,
     "metadata": {},
     "output_type": "execute_result"
    }
   ],
   "source": [
    "d"
   ]
  },
  {
   "cell_type": "code",
   "execution_count": 289,
   "id": "e73f407e-f9e6-4f2c-9b35-50c1b10314de",
   "metadata": {},
   "outputs": [
    {
     "ename": "KeyError",
     "evalue": "'Python'",
     "output_type": "error",
     "traceback": [
      "\u001b[0;31m---------------------------------------------------------------------------\u001b[0m",
      "\u001b[0;31mKeyError\u001b[0m                                  Traceback (most recent call last)",
      "Input \u001b[0;32mIn [289]\u001b[0m, in \u001b[0;36m<cell line: 1>\u001b[0;34m()\u001b[0m\n\u001b[0;32m----> 1\u001b[0m \u001b[43md\u001b[49m\u001b[43m[\u001b[49m\u001b[38;5;124;43m'\u001b[39;49m\u001b[38;5;124;43mPython\u001b[39;49m\u001b[38;5;124;43m'\u001b[39;49m\u001b[43m]\u001b[49m\n",
      "\u001b[0;31mKeyError\u001b[0m: 'Python'"
     ]
    }
   ],
   "source": [
    "d['Python']"
   ]
  },
  {
   "cell_type": "code",
   "execution_count": 291,
   "id": "ad7c992e-863b-46ef-ad33-b1f6205d5ab2",
   "metadata": {},
   "outputs": [
    {
     "name": "stdout",
     "output_type": "stream",
     "text": [
      "None\n"
     ]
    }
   ],
   "source": [
    "print(d.get('Python'))"
   ]
  },
  {
   "cell_type": "code",
   "execution_count": 292,
   "id": "00c8bc23-6816-4c86-b4c8-7091d8626c97",
   "metadata": {},
   "outputs": [
    {
     "data": {
      "text/plain": [
       "[0, 1, 2, 3, 4, 5, 6, 7, 8, 9]"
      ]
     },
     "execution_count": 292,
     "metadata": {},
     "output_type": "execute_result"
    }
   ],
   "source": [
    "a_list"
   ]
  },
  {
   "cell_type": "code",
   "execution_count": 304,
   "id": "3683b269-bd1b-4f3d-a24d-d9d0418b13ad",
   "metadata": {},
   "outputs": [
    {
     "ename": "AttributeError",
     "evalue": "'list' object has no attribute 'lower'",
     "output_type": "error",
     "traceback": [
      "\u001b[0;31m---------------------------------------------------------------------------\u001b[0m",
      "\u001b[0;31mAttributeError\u001b[0m                            Traceback (most recent call last)",
      "Input \u001b[0;32mIn [304]\u001b[0m, in \u001b[0;36m<cell line: 3>\u001b[0;34m()\u001b[0m\n\u001b[1;32m      1\u001b[0m string \u001b[38;5;241m=\u001b[39m [\u001b[38;5;241m1\u001b[39m, \u001b[38;5;241m2\u001b[39m, \u001b[38;5;241m3\u001b[39m]\n\u001b[1;32m      2\u001b[0m \u001b[38;5;66;03m# try:\u001b[39;00m\n\u001b[0;32m----> 3\u001b[0m string \u001b[38;5;241m=\u001b[39m \u001b[43mstring\u001b[49m\u001b[38;5;241;43m.\u001b[39;49m\u001b[43mlower\u001b[49m()\n",
      "\u001b[0;31mAttributeError\u001b[0m: 'list' object has no attribute 'lower'"
     ]
    }
   ],
   "source": [
    "string = [1, 2, 3]\n",
    "try:\n",
    "    string = string.lower()\n",
    "except AttributeError:\n",
    "    print('Not a string')"
   ]
  },
  {
   "cell_type": "code",
   "execution_count": null,
   "id": "19a8f3dd-dd12-4284-abcc-3fca0026f03b",
   "metadata": {},
   "outputs": [],
   "source": [
    "# EAFP = Easier to Ask Forgiveness than Permission\n",
    "d['key']"
   ]
  },
  {
   "cell_type": "code",
   "execution_count": null,
   "id": "33e37e1f-1b1f-4b6c-90ae-21d752ec3a99",
   "metadata": {},
   "outputs": [],
   "source": [
    "# LBYL = Look Before You Leap\n",
    "if 'key' in d:\n",
    "    d['key']"
   ]
  },
  {
   "cell_type": "code",
   "execution_count": 306,
   "id": "f99e14a9-0080-469d-8042-c6f3adf686bb",
   "metadata": {},
   "outputs": [
    {
     "name": "stdin",
     "output_type": "stream",
     "text": [
      "Enter filename:  jdjdfk\n"
     ]
    }
   ],
   "source": [
    "while True:\n",
    "    filename = input(\"Enter filename: \")\n",
    "    #open(filename)\n",
    "    break"
   ]
  },
  {
   "cell_type": "markdown",
   "id": "1bfcc5ce-5e2a-4985-a4f5-ebfed910f4b6",
   "metadata": {},
   "source": [
    "## Lab: Exceptions\n",
    "* modify some of your code (Either a function of a whole program) to include exception handlers as needed, e.g.,\n",
    "  * noticing when bad filenames are entered\n",
    "  * noticing when something can't be int-ified\n",
    "* also take this time to add _docstrings_ if you haven't already and you're modifying a function"
   ]
  },
  {
   "cell_type": "code",
   "execution_count": 327,
   "id": "9446776a-7337-4ebf-b86c-538eab7c67a1",
   "metadata": {},
   "outputs": [
    {
     "name": "stdin",
     "output_type": "stream",
     "text": [
      "Enter a year:  35.6\n"
     ]
    },
    {
     "name": "stdout",
     "output_type": "stream",
     "text": [
      "You must enter a number!\n"
     ]
    }
   ],
   "source": [
    "# One of our first programs!\n",
    "try:\n",
    "    year = int(input('Enter a year: '))\n",
    "    if (year % 4 == 0) and ((year % 100 != 0) or (year % 400 == 0)):\n",
    "        print(year, 'is a leap year')\n",
    "    else:\n",
    "        print(year, 'is NOT a leap year')\n",
    "except ValueError:\n",
    "    print('You must enter a number!')"
   ]
  },
  {
   "cell_type": "code",
   "execution_count": 328,
   "id": "1f9e0986-08a9-4513-9745-f3569a33dee5",
   "metadata": {
    "tags": []
   },
   "outputs": [
    {
     "name": "stdin",
     "output_type": "stream",
     "text": [
      "Enter your guess:  56k\n"
     ]
    },
    {
     "name": "stdout",
     "output_type": "stream",
     "text": [
      "Your guess must be a number!\n"
     ]
    },
    {
     "name": "stdin",
     "output_type": "stream",
     "text": [
      "Enter your guess:  56\n"
     ]
    },
    {
     "name": "stdout",
     "output_type": "stream",
     "text": [
      "Too low!\n"
     ]
    },
    {
     "name": "stdin",
     "output_type": "stream",
     "text": [
      "Enter your guess:  78...\n"
     ]
    },
    {
     "name": "stdout",
     "output_type": "stream",
     "text": [
      "Your guess must be a number!\n"
     ]
    },
    {
     "name": "stdin",
     "output_type": "stream",
     "text": [
      "Enter your guess:  .\n"
     ]
    },
    {
     "name": "stdout",
     "output_type": "stream",
     "text": [
      "Your guess must be a number!\n"
     ]
    },
    {
     "name": "stdin",
     "output_type": "stream",
     "text": [
      "Enter your guess:  \n"
     ]
    },
    {
     "name": "stdout",
     "output_type": "stream",
     "text": [
      "Your guess must be a number!\n"
     ]
    },
    {
     "name": "stdin",
     "output_type": "stream",
     "text": [
      "Enter your guess:  \n"
     ]
    },
    {
     "name": "stdout",
     "output_type": "stream",
     "text": [
      "Your guess must be a number!\n"
     ]
    },
    {
     "name": "stdin",
     "output_type": "stream",
     "text": [
      "Enter your guess:  \n"
     ]
    },
    {
     "name": "stdout",
     "output_type": "stream",
     "text": [
      "Your guess must be a number!\n"
     ]
    },
    {
     "name": "stdin",
     "output_type": "stream",
     "text": [
      "Enter your guess:  78\n"
     ]
    },
    {
     "name": "stdout",
     "output_type": "stream",
     "text": [
      "Too low!...but you are close!\n"
     ]
    },
    {
     "name": "stdin",
     "output_type": "stream",
     "text": [
      "Enter your guess:  80\n"
     ]
    },
    {
     "name": "stdout",
     "output_type": "stream",
     "text": [
      "Too low!...but you are close!\n"
     ]
    },
    {
     "name": "stdin",
     "output_type": "stream",
     "text": [
      "Enter your guess:  82\n"
     ]
    },
    {
     "name": "stdout",
     "output_type": "stream",
     "text": [
      "Too low!...but you are REALLY close!\n"
     ]
    },
    {
     "name": "stdin",
     "output_type": "stream",
     "text": [
      "Enter your guess:  84\n"
     ]
    },
    {
     "name": "stdout",
     "output_type": "stream",
     "text": [
      "Too low!...but you are REALLY close!\n"
     ]
    },
    {
     "name": "stdin",
     "output_type": "stream",
     "text": [
      "Enter your guess:  86\n"
     ]
    },
    {
     "name": "stdout",
     "output_type": "stream",
     "text": [
      "You got it!\n"
     ]
    }
   ],
   "source": [
    "# add an exception handler to the guessing game\n",
    "import random # step 1\n",
    "number = random.randint(1, 100) # step 2\n",
    "guess = 0 # step 2a\n",
    "\n",
    "while guess != number: # step 3\n",
    "    while True: # loop to ensure they enter a valid guess\n",
    "        try:\n",
    "            guess = int(input('Enter your guess: ')) # if int-ify fails, we'll enter the handler...\n",
    "            break # ... or we'll break out of this inner while look if we can int-ify their guess\n",
    "        except ValueError:\n",
    "            print('Your guess must be a number!')\n",
    "            \n",
    "    difference = abs(guess - number)\n",
    "   \n",
    "    close = ''\n",
    "    if 5 <= difference <= 10:\n",
    "        close = '...but you are close!'\n",
    "    elif 1 <= difference <= 4:\n",
    "        close = '...but you are REALLY close!'\n",
    "        \n",
    "    if guess > number: # 5 \n",
    "        print('Too high!' + close)\n",
    "    elif guess < number: # 6 \n",
    "        print('Too low!' + close)\n",
    "    else:\n",
    "        print('You got it!')"
   ]
  },
  {
   "cell_type": "code",
   "execution_count": 332,
   "id": "8fa45f06-0578-47a0-8fcc-8be9a7e30b36",
   "metadata": {},
   "outputs": [
    {
     "name": "stdout",
     "output_type": "stream",
     "text": [
      "\"1\" is not iterable!\n"
     ]
    }
   ],
   "source": [
    "iterate(1)"
   ]
  },
  {
   "cell_type": "code",
   "execution_count": 329,
   "id": "a6fab957-0803-4264-963f-96a0ff7f5953",
   "metadata": {},
   "outputs": [],
   "source": [
    "def iterate(container):\n",
    "    # this function is duck-typed, i.e., it does not expect an object of a certain type\n",
    "    # instead, it expects an object that is \"iterable\"\n",
    "    try:\n",
    "        for thing in container:\n",
    "            print(thing)\n",
    "    except TypeError:\n",
    "        print(f'\"{container}\" is not iterable!')"
   ]
  },
  {
   "cell_type": "code",
   "execution_count": 310,
   "id": "76f14268-6830-459d-ac1e-f1a95a33825d",
   "metadata": {},
   "outputs": [
    {
     "ename": "TypeError",
     "evalue": "'int' object is not iterable",
     "output_type": "error",
     "traceback": [
      "\u001b[0;31m---------------------------------------------------------------------------\u001b[0m",
      "\u001b[0;31mTypeError\u001b[0m                                 Traceback (most recent call last)",
      "Input \u001b[0;32mIn [310]\u001b[0m, in \u001b[0;36m<cell line: 1>\u001b[0;34m()\u001b[0m\n\u001b[0;32m----> 1\u001b[0m \u001b[38;5;28;01mfor\u001b[39;00m thing \u001b[38;5;129;01min\u001b[39;00m \u001b[38;5;241m4\u001b[39m:\n\u001b[1;32m      2\u001b[0m     \u001b[38;5;28mprint\u001b[39m(thing)\n",
      "\u001b[0;31mTypeError\u001b[0m: 'int' object is not iterable"
     ]
    }
   ],
   "source": [
    "for thing in 4:\n",
    "    print(thing)"
   ]
  },
  {
   "cell_type": "code",
   "execution_count": 333,
   "id": "377989b3-08fc-45dd-a6db-ea47602ae16b",
   "metadata": {},
   "outputs": [
    {
     "name": "stdin",
     "output_type": "stream",
     "text": [
      "Enter a file and I will count the words in it:  dlsdlsds\n"
     ]
    },
    {
     "name": "stdout",
     "output_type": "stream",
     "text": [
      "Can't open dlsdlsds –please try another\n"
     ]
    },
    {
     "name": "stdin",
     "output_type": "stream",
     "text": [
      "Enter a file and I will count the words in it:  dskjdks\n"
     ]
    },
    {
     "name": "stdout",
     "output_type": "stream",
     "text": [
      "Can't open dskjdks –please try another\n"
     ]
    },
    {
     "name": "stdin",
     "output_type": "stream",
     "text": [
      "Enter a file and I will count the words in it:  poem.txt\n",
      "Display words that appear at least how many times:  1\n"
     ]
    },
    {
     "name": "stdout",
     "output_type": "stream",
     "text": [
      "and 9\n",
      "i 9\n",
      "the 8\n",
      "as 5\n",
      "in 4\n",
      "a 3\n",
      "one 3\n",
      "that 3\n",
      "two 2\n",
      "roads 2\n",
      "diverged 2\n",
      "wood 2\n",
      "could 2\n",
      "both 2\n",
      "be 2\n",
      "to 2\n",
      "it 2\n",
      "took 2\n",
      "for 2\n",
      "had 2\n",
      "way 2\n",
      "ages 2\n",
      "yellow 1\n",
      "sorry 1\n",
      "not 1\n",
      "travel 1\n",
      "traveler 1\n",
      "long 1\n",
      "stood 1\n",
      "looked 1\n",
      "down 1\n",
      "far 1\n",
      "where 1\n",
      "bent 1\n",
      "undergrowth 1\n",
      "then 1\n",
      "other 1\n",
      "just 1\n",
      "fair 1\n",
      "having 1\n",
      "perhaps 1\n",
      "better 1\n",
      "claim 1\n",
      "because 1\n",
      "was 1\n",
      "grassy 1\n",
      "wanted 1\n",
      "wear 1\n",
      "though 1\n",
      "passing 1\n",
      "there 1\n",
      "worn 1\n",
      "them 1\n",
      "really 1\n",
      "about 1\n",
      "same 1\n",
      "morning 1\n",
      "equally 1\n",
      "lay 1\n",
      "leaves 1\n",
      "no 1\n",
      "step 1\n",
      "trodden 1\n",
      "black 1\n",
      "oh 1\n",
      "kept 1\n",
      "first 1\n",
      "another 1\n",
      "day 1\n",
      "yet 1\n",
      "knowing 1\n",
      "how 1\n",
      "leads 1\n",
      "on 1\n",
      "doubted 1\n",
      "if 1\n",
      "should 1\n",
      "ever 1\n",
      "come 1\n",
      "back 1\n",
      "shall 1\n",
      "telling 1\n",
      "this 1\n",
      "with 1\n",
      "sigh 1\n",
      "somewhere 1\n",
      "hence 1\n",
      "less 1\n",
      "traveled 1\n",
      "by 1\n",
      "has 1\n",
      "made 1\n",
      "all 1\n",
      "difference 1\n"
     ]
    }
   ],
   "source": [
    "from collections import defaultdict\n",
    "\n",
    "word_counts = defaultdict(int)\n",
    "\n",
    "while True:\n",
    "    filename = input('Enter a file and I will count the words in it: ')\n",
    "    try:\n",
    "        input_file = open(filename)\n",
    "        break\n",
    "    except FileNotFoundError:\n",
    "        print(\"Can't open\", filename, \"–please try another\")\n",
    "\n",
    "frequency_limit = int(input('Display words that appear at least how many times: '))\n",
    "\n",
    "with input_file: # 2\n",
    "    for line in input_file: # 3: for each line in the file (a string) \n",
    "        line = ''.join([char for char in line.lower()\n",
    "                            if char.isalpha() or char.isspace()])   \n",
    "        for word in line.split(): # reconstitute line and split into words\n",
    "            word_counts[word] += 1\n",
    "\n",
    "# 5: sort by value using the .get() method as the sorting key\n",
    "# sort in reverse order, so words which appear more often are show first\n",
    "for dict_key in sorted(word_counts, key=word_counts.get, reverse=True): # sorted() returns a sorted list of all words in the doc\n",
    "    if word_counts[dict_key] < frequency_limit:\n",
    "        break\n",
    "    print(dict_key, word_counts[dict_key])"
   ]
  },
  {
   "cell_type": "code",
   "execution_count": 315,
   "id": "dd7a6ddc-6257-4b57-9db8-f8ab4c6599fc",
   "metadata": {},
   "outputs": [
    {
     "ename": "FileNotFoundError",
     "evalue": "[Errno 2] No such file or directory: 'foooo'",
     "output_type": "error",
     "traceback": [
      "\u001b[0;31m---------------------------------------------------------------------------\u001b[0m",
      "\u001b[0;31mFileNotFoundError\u001b[0m                         Traceback (most recent call last)",
      "Input \u001b[0;32mIn [315]\u001b[0m, in \u001b[0;36m<cell line: 1>\u001b[0;34m()\u001b[0m\n\u001b[0;32m----> 1\u001b[0m \u001b[38;5;28;43mopen\u001b[39;49m\u001b[43m(\u001b[49m\u001b[38;5;124;43m'\u001b[39;49m\u001b[38;5;124;43mfoooo\u001b[39;49m\u001b[38;5;124;43m'\u001b[39;49m\u001b[43m)\u001b[49m\n",
      "\u001b[0;31mFileNotFoundError\u001b[0m: [Errno 2] No such file or directory: 'foooo'"
     ]
    }
   ],
   "source": [
    "open('foooo')"
   ]
  },
  {
   "cell_type": "code",
   "execution_count": 324,
   "id": "93d7e2cd-9484-41e0-ab2e-9e7c5245bcf7",
   "metadata": {},
   "outputs": [
    {
     "data": {
      "text/plain": [
       "35"
      ]
     },
     "execution_count": 324,
     "metadata": {},
     "output_type": "execute_result"
    }
   ],
   "source": [
    "int('35')"
   ]
  },
  {
   "cell_type": "code",
   "execution_count": 325,
   "id": "4b45ec9b-1612-4fb0-a945-fd61d8415af8",
   "metadata": {},
   "outputs": [
    {
     "ename": "ValueError",
     "evalue": "invalid literal for int() with base 10: '35.1'",
     "output_type": "error",
     "traceback": [
      "\u001b[0;31m---------------------------------------------------------------------------\u001b[0m",
      "\u001b[0;31mValueError\u001b[0m                                Traceback (most recent call last)",
      "Input \u001b[0;32mIn [325]\u001b[0m, in \u001b[0;36m<cell line: 1>\u001b[0;34m()\u001b[0m\n\u001b[0;32m----> 1\u001b[0m \u001b[38;5;28;43mint\u001b[39;49m\u001b[43m(\u001b[49m\u001b[38;5;124;43m'\u001b[39;49m\u001b[38;5;124;43m35.1\u001b[39;49m\u001b[38;5;124;43m'\u001b[39;49m\u001b[43m)\u001b[49m\n",
      "\u001b[0;31mValueError\u001b[0m: invalid literal for int() with base 10: '35.1'"
     ]
    }
   ],
   "source": [
    "int('35.1')"
   ]
  },
  {
   "cell_type": "code",
   "execution_count": 326,
   "id": "44d81d11-9776-48c9-8140-c7f084695adb",
   "metadata": {},
   "outputs": [
    {
     "data": {
      "text/plain": [
       "35"
      ]
     },
     "execution_count": 326,
     "metadata": {},
     "output_type": "execute_result"
    }
   ],
   "source": [
    "int(35.1)"
   ]
  },
  {
   "cell_type": "code",
   "execution_count": 334,
   "id": "d209321a-8952-429d-8dde-a97a8e1b6485",
   "metadata": {},
   "outputs": [
    {
     "data": {
      "text/plain": [
       "True"
      ]
     },
     "execution_count": 334,
     "metadata": {},
     "output_type": "execute_result"
    }
   ],
   "source": [
    "input_file.closed"
   ]
  },
  {
   "cell_type": "code",
   "execution_count": 335,
   "id": "fe5ef566-4673-4276-a3f2-09ef99c688ed",
   "metadata": {},
   "outputs": [
    {
     "ename": "TypeError",
     "evalue": "'>' not supported between instances of 'str' and 'int'",
     "output_type": "error",
     "traceback": [
      "\u001b[0;31m---------------------------------------------------------------------------\u001b[0m",
      "\u001b[0;31mTypeError\u001b[0m                                 Traceback (most recent call last)",
      "Input \u001b[0;32mIn [335]\u001b[0m, in \u001b[0;36m<cell line: 1>\u001b[0;34m()\u001b[0m\n\u001b[0;32m----> 1\u001b[0m \u001b[38;5;124;43m'\u001b[39;49m\u001b[38;5;124;43mr\u001b[39;49m\u001b[38;5;124;43m'\u001b[39;49m\u001b[43m \u001b[49m\u001b[38;5;241;43m>\u001b[39;49m\u001b[43m \u001b[49m\u001b[38;5;241;43m1\u001b[39;49m\n",
      "\u001b[0;31mTypeError\u001b[0m: '>' not supported between instances of 'str' and 'int'"
     ]
    }
   ],
   "source": [
    "'r' > 1"
   ]
  },
  {
   "cell_type": "code",
   "execution_count": 336,
   "id": "54b743fd-602b-4154-8025-47bfcd119939",
   "metadata": {},
   "outputs": [
    {
     "data": {
      "text/plain": [
       "float"
      ]
     },
     "execution_count": 336,
     "metadata": {},
     "output_type": "execute_result"
    }
   ],
   "source": [
    "type(3.4)"
   ]
  },
  {
   "cell_type": "code",
   "execution_count": 337,
   "id": "aa54c75f-61cc-4f66-8ff1-a81753bcdf06",
   "metadata": {},
   "outputs": [
    {
     "data": {
      "text/plain": [
       "int"
      ]
     },
     "execution_count": 337,
     "metadata": {},
     "output_type": "execute_result"
    }
   ],
   "source": [
    "type(3)"
   ]
  },
  {
   "cell_type": "code",
   "execution_count": 347,
   "id": "c81af4c6-5fae-40e8-b38d-af0f65bbf51e",
   "metadata": {},
   "outputs": [],
   "source": [
    "def f(x):\n",
    "    try:\n",
    "        x = int(x) # if they enter int or float, we'll just accept it\n",
    "    except (ValueError, TypeError):\n",
    "        print('need int')"
   ]
  },
  {
   "cell_type": "code",
   "execution_count": 339,
   "id": "4c2d4de5-e3d3-46ae-912c-e3b922d15fa1",
   "metadata": {},
   "outputs": [
    {
     "name": "stdout",
     "output_type": "stream",
     "text": [
      "Must be int\n"
     ]
    }
   ],
   "source": [
    "f(4.5)"
   ]
  },
  {
   "cell_type": "code",
   "execution_count": 340,
   "id": "1b075358-1645-4d68-9a6f-97f500118acd",
   "metadata": {},
   "outputs": [
    {
     "name": "stdout",
     "output_type": "stream",
     "text": [
      "do it\n"
     ]
    }
   ],
   "source": [
    "f(5)"
   ]
  },
  {
   "cell_type": "code",
   "execution_count": 345,
   "id": "f2ae9ea9-0e46-4bed-b201-8c65567b5127",
   "metadata": {},
   "outputs": [
    {
     "name": "stdout",
     "output_type": "stream",
     "text": [
      "need int\n"
     ]
    }
   ],
   "source": [
    "f('4.5')"
   ]
  },
  {
   "cell_type": "code",
   "execution_count": 348,
   "id": "078d6f3b-87e2-4837-99dc-d1a450231844",
   "metadata": {},
   "outputs": [
    {
     "name": "stdout",
     "output_type": "stream",
     "text": [
      "need int\n"
     ]
    }
   ],
   "source": [
    "f([5])"
   ]
  },
  {
   "cell_type": "code",
   "execution_count": 349,
   "id": "ca8c58b5-30be-4ef4-b184-bc59b3c87c6e",
   "metadata": {},
   "outputs": [],
   "source": [
    "import sys"
   ]
  },
  {
   "cell_type": "code",
   "execution_count": 350,
   "id": "7671126a-cc32-4073-9cc4-a6dec9cd4039",
   "metadata": {},
   "outputs": [
    {
     "data": {
      "text/plain": [
       "['__breakpointhook__',\n",
       " '__displayhook__',\n",
       " '__doc__',\n",
       " '__excepthook__',\n",
       " '__interactivehook__',\n",
       " '__loader__',\n",
       " '__name__',\n",
       " '__package__',\n",
       " '__spec__',\n",
       " '__stderr__',\n",
       " '__stdin__',\n",
       " '__stdout__',\n",
       " '__unraisablehook__',\n",
       " '_base_executable',\n",
       " '_clear_type_cache',\n",
       " '_current_frames',\n",
       " '_debugmallocstats',\n",
       " '_framework',\n",
       " '_getframe',\n",
       " '_git',\n",
       " '_home',\n",
       " '_xoptions',\n",
       " 'abiflags',\n",
       " 'addaudithook',\n",
       " 'api_version',\n",
       " 'argv',\n",
       " 'audit',\n",
       " 'base_exec_prefix',\n",
       " 'base_prefix',\n",
       " 'breakpointhook',\n",
       " 'builtin_module_names',\n",
       " 'byteorder',\n",
       " 'call_tracing',\n",
       " 'copyright',\n",
       " 'displayhook',\n",
       " 'dont_write_bytecode',\n",
       " 'exc_info',\n",
       " 'excepthook',\n",
       " 'exec_prefix',\n",
       " 'executable',\n",
       " 'exit',\n",
       " 'flags',\n",
       " 'float_info',\n",
       " 'float_repr_style',\n",
       " 'get_asyncgen_hooks',\n",
       " 'get_coroutine_origin_tracking_depth',\n",
       " 'getallocatedblocks',\n",
       " 'getdefaultencoding',\n",
       " 'getdlopenflags',\n",
       " 'getfilesystemencodeerrors',\n",
       " 'getfilesystemencoding',\n",
       " 'getprofile',\n",
       " 'getrecursionlimit',\n",
       " 'getrefcount',\n",
       " 'getsizeof',\n",
       " 'getswitchinterval',\n",
       " 'gettrace',\n",
       " 'hash_info',\n",
       " 'hexversion',\n",
       " 'implementation',\n",
       " 'int_info',\n",
       " 'intern',\n",
       " 'is_finalizing',\n",
       " 'last_traceback',\n",
       " 'last_type',\n",
       " 'last_value',\n",
       " 'maxsize',\n",
       " 'maxunicode',\n",
       " 'meta_path',\n",
       " 'modules',\n",
       " 'path',\n",
       " 'path_hooks',\n",
       " 'path_importer_cache',\n",
       " 'platform',\n",
       " 'platlibdir',\n",
       " 'prefix',\n",
       " 'ps1',\n",
       " 'ps2',\n",
       " 'ps3',\n",
       " 'pycache_prefix',\n",
       " 'set_asyncgen_hooks',\n",
       " 'set_coroutine_origin_tracking_depth',\n",
       " 'setdlopenflags',\n",
       " 'setprofile',\n",
       " 'setrecursionlimit',\n",
       " 'setswitchinterval',\n",
       " 'settrace',\n",
       " 'stderr',\n",
       " 'stdin',\n",
       " 'stdout',\n",
       " 'thread_info',\n",
       " 'unraisablehook',\n",
       " 'version',\n",
       " 'version_info',\n",
       " 'warnoptions']"
      ]
     },
     "execution_count": 350,
     "metadata": {},
     "output_type": "execute_result"
    }
   ],
   "source": [
    "dir(sys)"
   ]
  },
  {
   "cell_type": "code",
   "execution_count": 351,
   "id": "29bb4bbc-3a77-461c-af43-d395772b00d2",
   "metadata": {},
   "outputs": [
    {
     "data": {
      "text/plain": [
       "'/Users/dave-wadestein/opt/anaconda3/lib/python3.9/string.py'"
      ]
     },
     "execution_count": 351,
     "metadata": {},
     "output_type": "execute_result"
    }
   ],
   "source": [
    "import string\n",
    "string.__file__"
   ]
  },
  {
   "cell_type": "code",
   "execution_count": 352,
   "id": "ccf07520-f34b-4665-8104-01b869b18052",
   "metadata": {},
   "outputs": [
    {
     "ename": "AttributeError",
     "evalue": "module 'sys' has no attribute '__file__'",
     "output_type": "error",
     "traceback": [
      "\u001b[0;31m---------------------------------------------------------------------------\u001b[0m",
      "\u001b[0;31mAttributeError\u001b[0m                            Traceback (most recent call last)",
      "Input \u001b[0;32mIn [352]\u001b[0m, in \u001b[0;36m<cell line: 1>\u001b[0;34m()\u001b[0m\n\u001b[0;32m----> 1\u001b[0m \u001b[43msys\u001b[49m\u001b[38;5;241;43m.\u001b[39;49m\u001b[38;5;18;43m__file__\u001b[39;49m\n",
      "\u001b[0;31mAttributeError\u001b[0m: module 'sys' has no attribute '__file__'"
     ]
    }
   ],
   "source": [
    "sys.__file__"
   ]
  },
  {
   "cell_type": "code",
   "execution_count": 353,
   "id": "0bb2a29c-6fc9-4a56-b32d-a071a77ec273",
   "metadata": {},
   "outputs": [
    {
     "data": {
      "text/plain": [
       "9223372036854775807"
      ]
     },
     "execution_count": 353,
     "metadata": {},
     "output_type": "execute_result"
    }
   ],
   "source": [
    "sys.maxsize"
   ]
  },
  {
   "cell_type": "code",
   "execution_count": 354,
   "id": "43f19bee-e277-4a05-b4e6-15af8619fd3e",
   "metadata": {},
   "outputs": [
    {
     "data": {
      "text/plain": [
       "9223372036854775807"
      ]
     },
     "execution_count": 354,
     "metadata": {},
     "output_type": "execute_result"
    }
   ],
   "source": [
    "2 ** 63 - 1"
   ]
  },
  {
   "cell_type": "code",
   "execution_count": 355,
   "id": "477d77bb-6469-4389-9b98-5d98d71c254c",
   "metadata": {},
   "outputs": [
    {
     "data": {
      "text/plain": [
       "-9223372036854775808"
      ]
     },
     "execution_count": 355,
     "metadata": {},
     "output_type": "execute_result"
    }
   ],
   "source": [
    "-2 ** 63"
   ]
  },
  {
   "cell_type": "code",
   "execution_count": 356,
   "id": "5282e686-1124-4ebe-9ead-85f875ae9836",
   "metadata": {},
   "outputs": [
    {
     "data": {
      "text/plain": [
       "194064761537588616893622436057812819407110752139587076392381504753256369085797110791359801103580809743810966337141384150771447505514351798930535909380147642400556872002606238193783160703949805603157874899214558593861605856727007232"
      ]
     },
     "execution_count": 356,
     "metadata": {},
     "output_type": "execute_result"
    }
   ],
   "source": [
    "2 ** 765"
   ]
  },
  {
   "cell_type": "markdown",
   "id": "199aac1d-643f-4067-9ddc-63daa6f933f6",
   "metadata": {},
   "source": [
    "# Why would you use try/except/finally?"
   ]
  },
  {
   "cell_type": "code",
   "execution_count": 7,
   "id": "90b93878-9742-408f-84a1-5286f993714f",
   "metadata": {},
   "outputs": [
    {
     "name": "stdin",
     "output_type": "stream",
     "text": [
      "What file to open?  poem.txt\n"
     ]
    },
    {
     "name": "stdout",
     "output_type": "stream",
     "text": [
      "Unable to write output file...exiting\n",
      "cleaning up\n"
     ]
    }
   ],
   "source": [
    "while True:\n",
    "    try:\n",
    "        filename = input('What file to open? ')\n",
    "        infile = open(filename)\n",
    "        break\n",
    "    except FileNotFoundError:\n",
    "        print('Could not opem poem!')\n",
    "        \n",
    "# if we're here, the file was opened successfully\n",
    "try:\n",
    "    outfile = open('/foo', 'w')\n",
    "    # write to the file\n",
    "except OSError:\n",
    "    print('Unable to write output file...exiting')\n",
    "finally:  \n",
    "    print('cleaning up')\n",
    "    infile.close()  "
   ]
  },
  {
   "cell_type": "code",
   "execution_count": 3,
   "id": "064555df-1cfb-4830-a521-7fc26b14a04b",
   "metadata": {},
   "outputs": [
    {
     "ename": "OSError",
     "evalue": "[Errno 30] Read-only file system: '/foo'",
     "output_type": "error",
     "traceback": [
      "\u001b[0;31m---------------------------------------------------------------------------\u001b[0m",
      "\u001b[0;31mOSError\u001b[0m                                   Traceback (most recent call last)",
      "Input \u001b[0;32mIn [3]\u001b[0m, in \u001b[0;36m<cell line: 1>\u001b[0;34m()\u001b[0m\n\u001b[0;32m----> 1\u001b[0m \u001b[38;5;28;43mopen\u001b[39;49m\u001b[43m(\u001b[49m\u001b[38;5;124;43m'\u001b[39;49m\u001b[38;5;124;43m/foo\u001b[39;49m\u001b[38;5;124;43m'\u001b[39;49m\u001b[43m,\u001b[49m\u001b[43m \u001b[49m\u001b[38;5;124;43m'\u001b[39;49m\u001b[38;5;124;43mw\u001b[39;49m\u001b[38;5;124;43m'\u001b[39;49m\u001b[43m)\u001b[49m\n",
      "\u001b[0;31mOSError\u001b[0m: [Errno 30] Read-only file system: '/foo'"
     ]
    }
   ],
   "source": [
    "open('/foo', 'w')"
   ]
  },
  {
   "cell_type": "markdown",
   "id": "fd680231-3bee-4cdc-9bd7-a01f22fc1f5f",
   "metadata": {},
   "source": []
  },
  {
   "cell_type": "code",
   "execution_count": 9,
   "id": "b6721f52-94d1-47da-97d4-991df0931633",
   "metadata": {},
   "outputs": [
    {
     "data": {
      "text/plain": [
       "2022"
      ]
     },
     "execution_count": 9,
     "metadata": {},
     "output_type": "execute_result"
    }
   ],
   "source": [
    "int('2022')"
   ]
  },
  {
   "cell_type": "code",
   "execution_count": 10,
   "id": "bf457499-ae89-4307-a7cf-ba7ab5815db1",
   "metadata": {},
   "outputs": [
    {
     "data": {
      "text/plain": [
       "2022"
      ]
     },
     "execution_count": 10,
     "metadata": {},
     "output_type": "execute_result"
    }
   ],
   "source": [
    "int('      2022 ')"
   ]
  },
  {
   "cell_type": "code",
   "execution_count": 12,
   "id": "a1008a5a-ded1-488c-80f7-c1397ae3a1da",
   "metadata": {},
   "outputs": [
    {
     "data": {
      "text/plain": [
       "False"
      ]
     },
     "execution_count": 12,
     "metadata": {},
     "output_type": "execute_result"
    }
   ],
   "source": [
    "'2022 '.isdigit()"
   ]
  },
  {
   "cell_type": "code",
   "execution_count": 13,
   "id": "16daba61-2021-400a-810c-c476afe7662b",
   "metadata": {},
   "outputs": [
    {
     "name": "stdout",
     "output_type": "stream",
     "text": [
      "key not found\n"
     ]
    }
   ],
   "source": [
    "d = {}\n",
    "\n",
    "# EAFP style\n",
    "\n",
    "try:\n",
    "    val = d['key']\n",
    "except KeyError:\n",
    "    print(\"key not found\")"
   ]
  },
  {
   "cell_type": "code",
   "execution_count": 15,
   "id": "97f4778f-9c29-43a3-bf26-2047e85a44cc",
   "metadata": {},
   "outputs": [],
   "source": [
    "# LBYL\n",
    "val = d.get('key', 'not found')"
   ]
  },
  {
   "cell_type": "code",
   "execution_count": 18,
   "id": "c62be6e0-83c4-4377-8dc1-495209a23ff6",
   "metadata": {},
   "outputs": [],
   "source": [
    "var_to_intify = 5.5"
   ]
  },
  {
   "cell_type": "code",
   "execution_count": 19,
   "id": "85679c9d-8300-47dc-bd24-146b3fb9748e",
   "metadata": {},
   "outputs": [
    {
     "data": {
      "text/plain": [
       "5"
      ]
     },
     "execution_count": 19,
     "metadata": {},
     "output_type": "execute_result"
    }
   ],
   "source": [
    "int(var_to_intify)"
   ]
  },
  {
   "cell_type": "code",
   "execution_count": null,
   "id": "169bb0d5-8a11-41f8-ab57-0323c0a59ba1",
   "metadata": {},
   "outputs": [],
   "source": [
    "try:\n",
    "    result = int(var_to_intify)\n",
    "except ValueError:\n",
    "    print('bad int')"
   ]
  },
  {
   "cell_type": "code",
   "execution_count": 20,
   "id": "92d15fa6-0dea-4ae0-ac82-bf730316ad35",
   "metadata": {},
   "outputs": [],
   "source": [
    "my_list = []"
   ]
  },
  {
   "cell_type": "code",
   "execution_count": 22,
   "id": "c33f06b5-18d7-43b9-bced-c8e240b47e30",
   "metadata": {},
   "outputs": [
    {
     "name": "stdout",
     "output_type": "stream",
     "text": [
      "thing I tried to remove wasn't there\n"
     ]
    }
   ],
   "source": [
    "try:\n",
    "    my_list.remove('anything')\n",
    "except ValueError:\n",
    "    print(\"thing I tried to remove wasn't there\")"
   ]
  },
  {
   "cell_type": "code",
   "execution_count": 24,
   "id": "478e0974-325c-41f7-90cc-bdea8209337a",
   "metadata": {},
   "outputs": [
    {
     "ename": "ZeroDivisionError",
     "evalue": "division by zero",
     "output_type": "error",
     "traceback": [
      "\u001b[0;31m---------------------------------------------------------------------------\u001b[0m",
      "\u001b[0;31mZeroDivisionError\u001b[0m                         Traceback (most recent call last)",
      "Input \u001b[0;32mIn [24]\u001b[0m, in \u001b[0;36m<cell line: 1>\u001b[0;34m()\u001b[0m\n\u001b[0;32m----> 1\u001b[0m \u001b[38;5;241;43m1\u001b[39;49m\u001b[43m \u001b[49m\u001b[38;5;241;43m/\u001b[39;49m\u001b[43m \u001b[49m\u001b[38;5;241;43m0\u001b[39;49m\n",
      "\u001b[0;31mZeroDivisionError\u001b[0m: division by zero"
     ]
    }
   ],
   "source": [
    " 1 / 0"
   ]
  },
  {
   "cell_type": "code",
   "execution_count": 25,
   "id": "894aff1b-046d-467b-84d1-c8a94a1a7c73",
   "metadata": {},
   "outputs": [],
   "source": [
    "def iterate(container):\n",
    "    # this function is duck-typed, i.e., it does not expect an object of a certain type\n",
    "    # instead, it expects an object that is \"iterable\"\n",
    "    try:\n",
    "        for thing in container:\n",
    "            print(thing)\n",
    "    except TypeError:\n",
    "        print(f'\"{container}\" is not iterable!')"
   ]
  },
  {
   "cell_type": "code",
   "execution_count": 26,
   "id": "2e5d3837-2a45-43ca-a8ed-b8df69ed43f4",
   "metadata": {},
   "outputs": [
    {
     "name": "stdout",
     "output_type": "stream",
     "text": [
      "i\n",
      "t\n",
      "e\n",
      "r\n",
      "a\n",
      "b\n",
      "l\n",
      "e\n"
     ]
    }
   ],
   "source": [
    "iterate('iterable')"
   ]
  },
  {
   "cell_type": "code",
   "execution_count": 30,
   "id": "b03c7221-32be-4523-b310-4b823662f010",
   "metadata": {},
   "outputs": [
    {
     "name": "stdout",
     "output_type": "stream",
     "text": [
      "1\n",
      "2\n",
      "3\n"
     ]
    }
   ],
   "source": [
    "iterate([1, 2, 3])"
   ]
  },
  {
   "cell_type": "code",
   "execution_count": 31,
   "id": "7ff6b6f2-9a3b-42de-85e4-e39cbcfd92a5",
   "metadata": {},
   "outputs": [
    {
     "name": "stdout",
     "output_type": "stream",
     "text": [
      "\"1\" is not iterable!\n"
     ]
    }
   ],
   "source": [
    "iterate(1)"
   ]
  },
  {
   "cell_type": "code",
   "execution_count": 32,
   "id": "cc189d06-a53e-4728-adeb-5497677444af",
   "metadata": {},
   "outputs": [
    {
     "ename": "TypeError",
     "evalue": "'int' object is not iterable",
     "output_type": "error",
     "traceback": [
      "\u001b[0;31m---------------------------------------------------------------------------\u001b[0m",
      "\u001b[0;31mTypeError\u001b[0m                                 Traceback (most recent call last)",
      "Input \u001b[0;32mIn [32]\u001b[0m, in \u001b[0;36m<cell line: 1>\u001b[0;34m()\u001b[0m\n\u001b[0;32m----> 1\u001b[0m \u001b[38;5;28;01mfor\u001b[39;00m thing \u001b[38;5;129;01min\u001b[39;00m \u001b[38;5;241m1\u001b[39m:\n\u001b[1;32m      2\u001b[0m     \u001b[38;5;28mprint\u001b[39m(thing)\n",
      "\u001b[0;31mTypeError\u001b[0m: 'int' object is not iterable"
     ]
    }
   ],
   "source": [
    "for thing in 1:\n",
    "    print(thing)"
   ]
  },
  {
   "cell_type": "code",
   "execution_count": 33,
   "id": "d52c2796-2183-46ca-a2c0-0bb582fca684",
   "metadata": {},
   "outputs": [],
   "source": [
    "def iterate(container):\n",
    "    # this function is duck-typed, i.e., it does not expect an object of a certain type\n",
    "    # instead, it expects an object that is \"iterable\"\n",
    "    for thing in container:\n",
    "        print(thing)"
   ]
  },
  {
   "cell_type": "code",
   "execution_count": 34,
   "id": "a48de92c-e1ca-492c-9ed4-68ccef0b9368",
   "metadata": {},
   "outputs": [
    {
     "ename": "TypeError",
     "evalue": "'int' object is not iterable",
     "output_type": "error",
     "traceback": [
      "\u001b[0;31m---------------------------------------------------------------------------\u001b[0m",
      "\u001b[0;31mTypeError\u001b[0m                                 Traceback (most recent call last)",
      "Input \u001b[0;32mIn [34]\u001b[0m, in \u001b[0;36m<cell line: 1>\u001b[0;34m()\u001b[0m\n\u001b[0;32m----> 1\u001b[0m \u001b[43miterate\u001b[49m\u001b[43m(\u001b[49m\u001b[38;5;241;43m1\u001b[39;49m\u001b[43m)\u001b[49m\n",
      "Input \u001b[0;32mIn [33]\u001b[0m, in \u001b[0;36miterate\u001b[0;34m(container)\u001b[0m\n\u001b[1;32m      1\u001b[0m \u001b[38;5;28;01mdef\u001b[39;00m \u001b[38;5;21miterate\u001b[39m(container):\n\u001b[1;32m      2\u001b[0m     \u001b[38;5;66;03m# this function is duck-typed, i.e., it does not expect an object of a certain type\u001b[39;00m\n\u001b[1;32m      3\u001b[0m     \u001b[38;5;66;03m# instead, it expects an object that is \"iterable\"\u001b[39;00m\n\u001b[0;32m----> 4\u001b[0m     \u001b[38;5;28;01mfor\u001b[39;00m thing \u001b[38;5;129;01min\u001b[39;00m container:\n\u001b[1;32m      5\u001b[0m         \u001b[38;5;28mprint\u001b[39m(thing)\n",
      "\u001b[0;31mTypeError\u001b[0m: 'int' object is not iterable"
     ]
    }
   ],
   "source": [
    "iterate(1)"
   ]
  },
  {
   "cell_type": "code",
   "execution_count": 35,
   "id": "d0c4759a-b227-49e8-980f-6c55a9d6f5ef",
   "metadata": {},
   "outputs": [
    {
     "name": "stdout",
     "output_type": "stream",
     "text": [
      "blah\n"
     ]
    }
   ],
   "source": [
    "try:\n",
    "    iterate(1)\n",
    "except TypeError:\n",
    "    print('blah')"
   ]
  },
  {
   "cell_type": "code",
   "execution_count": 36,
   "id": "420b2c19-130f-48b3-a1c5-8808a590cd1e",
   "metadata": {},
   "outputs": [
    {
     "ename": "ValueError",
     "evalue": "math domain error",
     "output_type": "error",
     "traceback": [
      "\u001b[0;31m---------------------------------------------------------------------------\u001b[0m",
      "\u001b[0;31mValueError\u001b[0m                                Traceback (most recent call last)",
      "Input \u001b[0;32mIn [36]\u001b[0m, in \u001b[0;36m<cell line: 2>\u001b[0;34m()\u001b[0m\n\u001b[1;32m      1\u001b[0m \u001b[38;5;28;01mimport\u001b[39;00m \u001b[38;5;21;01mmath\u001b[39;00m\n\u001b[0;32m----> 2\u001b[0m \u001b[43mmath\u001b[49m\u001b[38;5;241;43m.\u001b[39;49m\u001b[43msqrt\u001b[49m\u001b[43m(\u001b[49m\u001b[38;5;241;43m-\u001b[39;49m\u001b[38;5;241;43m1\u001b[39;49m\u001b[43m)\u001b[49m\n",
      "\u001b[0;31mValueError\u001b[0m: math domain error"
     ]
    }
   ],
   "source": [
    "import math\n",
    "math.sqrt(-1)"
   ]
  },
  {
   "cell_type": "code",
   "execution_count": 41,
   "id": "f0eb0f4a-8c2e-42f9-9306-c407df68d508",
   "metadata": {},
   "outputs": [],
   "source": [
    "def my_sqrt(number):\n",
    "    from math import sqrt\n",
    "    \n",
    "    if number >= 0.0:\n",
    "        return sqrt(number)\n",
    "    else:\n",
    "        raise ValueError(\"Can't compute square root of negative numbers!\")"
   ]
  },
  {
   "cell_type": "code",
   "execution_count": 42,
   "id": "654a22e5-1fbb-476f-84b4-df7605f0c03f",
   "metadata": {},
   "outputs": [
    {
     "data": {
      "text/plain": [
       "1.4142135623730951"
      ]
     },
     "execution_count": 42,
     "metadata": {},
     "output_type": "execute_result"
    }
   ],
   "source": [
    "my_sqrt(2)"
   ]
  },
  {
   "cell_type": "code",
   "execution_count": 43,
   "id": "7d2ba9aa-8f04-4bc3-9e13-16ec50f099de",
   "metadata": {},
   "outputs": [
    {
     "ename": "ValueError",
     "evalue": "Can't compute square root of negative numbers!",
     "output_type": "error",
     "traceback": [
      "\u001b[0;31m---------------------------------------------------------------------------\u001b[0m",
      "\u001b[0;31mValueError\u001b[0m                                Traceback (most recent call last)",
      "Input \u001b[0;32mIn [43]\u001b[0m, in \u001b[0;36m<cell line: 1>\u001b[0;34m()\u001b[0m\n\u001b[0;32m----> 1\u001b[0m \u001b[43mmy_sqrt\u001b[49m\u001b[43m(\u001b[49m\u001b[38;5;241;43m-\u001b[39;49m\u001b[38;5;241;43m2\u001b[39;49m\u001b[43m)\u001b[49m\n",
      "Input \u001b[0;32mIn [41]\u001b[0m, in \u001b[0;36mmy_sqrt\u001b[0;34m(number)\u001b[0m\n\u001b[1;32m      5\u001b[0m     \u001b[38;5;28;01mreturn\u001b[39;00m sqrt(number)\n\u001b[1;32m      6\u001b[0m \u001b[38;5;28;01melse\u001b[39;00m:\n\u001b[0;32m----> 7\u001b[0m     \u001b[38;5;28;01mraise\u001b[39;00m \u001b[38;5;167;01mValueError\u001b[39;00m(\u001b[38;5;124m\"\u001b[39m\u001b[38;5;124mCan\u001b[39m\u001b[38;5;124m'\u001b[39m\u001b[38;5;124mt compute square root of negative numbers!\u001b[39m\u001b[38;5;124m\"\u001b[39m)\n",
      "\u001b[0;31mValueError\u001b[0m: Can't compute square root of negative numbers!"
     ]
    }
   ],
   "source": [
    "my_sqrt(-2)"
   ]
  },
  {
   "cell_type": "code",
   "execution_count": 44,
   "id": "13806475-7f14-48e3-ad71-42cb775050cd",
   "metadata": {},
   "outputs": [],
   "source": [
    "def my_sqrt(number):\n",
    "    from math import sqrt\n",
    "    \n",
    "    if number >= 0.0:\n",
    "        return sqrt(number)\n",
    "    else:\n",
    "        raise ValueError(\"Can't compute square root of negative numbers!\")"
   ]
  },
  {
   "cell_type": "code",
   "execution_count": 45,
   "id": "15908961-ca57-47f7-a87b-f65d451300af",
   "metadata": {},
   "outputs": [
    {
     "data": {
      "text/plain": [
       "0.0"
      ]
     },
     "execution_count": 45,
     "metadata": {},
     "output_type": "execute_result"
    }
   ],
   "source": [
    "my_sqrt(-15.0)"
   ]
  },
  {
   "cell_type": "code",
   "execution_count": 52,
   "id": "0298b364-3d33-42e2-8aa4-05e0fed8296c",
   "metadata": {},
   "outputs": [],
   "source": [
    "def my_sqrt(number):\n",
    "    from math import sqrt\n",
    "    try:\n",
    "        return sqrt(number)\n",
    "    except ValueError:\n",
    "        raise Exception(str(number) + ' is not valid')"
   ]
  },
  {
   "cell_type": "code",
   "execution_count": 53,
   "id": "6a6f9f7d-b8ca-447b-ae02-5c8bc19a7c8d",
   "metadata": {},
   "outputs": [
    {
     "ename": "Exception",
     "evalue": "-2 is not valid",
     "output_type": "error",
     "traceback": [
      "\u001b[0;31m---------------------------------------------------------------------------\u001b[0m",
      "\u001b[0;31mValueError\u001b[0m                                Traceback (most recent call last)",
      "Input \u001b[0;32mIn [52]\u001b[0m, in \u001b[0;36mmy_sqrt\u001b[0;34m(number)\u001b[0m\n\u001b[1;32m      3\u001b[0m \u001b[38;5;28;01mtry\u001b[39;00m:\n\u001b[0;32m----> 4\u001b[0m     \u001b[38;5;28;01mreturn\u001b[39;00m \u001b[43msqrt\u001b[49m\u001b[43m(\u001b[49m\u001b[43mnumber\u001b[49m\u001b[43m)\u001b[49m\n\u001b[1;32m      5\u001b[0m \u001b[38;5;28;01mexcept\u001b[39;00m \u001b[38;5;167;01mValueError\u001b[39;00m:\n",
      "\u001b[0;31mValueError\u001b[0m: math domain error",
      "\nDuring handling of the above exception, another exception occurred:\n",
      "\u001b[0;31mException\u001b[0m                                 Traceback (most recent call last)",
      "Input \u001b[0;32mIn [53]\u001b[0m, in \u001b[0;36m<cell line: 1>\u001b[0;34m()\u001b[0m\n\u001b[0;32m----> 1\u001b[0m \u001b[43mmy_sqrt\u001b[49m\u001b[43m(\u001b[49m\u001b[38;5;241;43m-\u001b[39;49m\u001b[38;5;241;43m2\u001b[39;49m\u001b[43m)\u001b[49m\n",
      "Input \u001b[0;32mIn [52]\u001b[0m, in \u001b[0;36mmy_sqrt\u001b[0;34m(number)\u001b[0m\n\u001b[1;32m      4\u001b[0m     \u001b[38;5;28;01mreturn\u001b[39;00m sqrt(number)\n\u001b[1;32m      5\u001b[0m \u001b[38;5;28;01mexcept\u001b[39;00m \u001b[38;5;167;01mValueError\u001b[39;00m:\n\u001b[0;32m----> 6\u001b[0m     \u001b[38;5;28;01mraise\u001b[39;00m \u001b[38;5;167;01mException\u001b[39;00m(\u001b[38;5;28mstr\u001b[39m(number) \u001b[38;5;241m+\u001b[39m \u001b[38;5;124m'\u001b[39m\u001b[38;5;124m is not valid\u001b[39m\u001b[38;5;124m'\u001b[39m)\n",
      "\u001b[0;31mException\u001b[0m: -2 is not valid"
     ]
    }
   ],
   "source": [
    "my_sqrt(-2)"
   ]
  },
  {
   "cell_type": "code",
   "execution_count": 54,
   "id": "96273c92-2afd-4e42-8c62-9f323182ba04",
   "metadata": {},
   "outputs": [
    {
     "ename": "IndexError",
     "evalue": "list index out of range",
     "output_type": "error",
     "traceback": [
      "\u001b[0;31m---------------------------------------------------------------------------\u001b[0m",
      "\u001b[0;31mIndexError\u001b[0m                                Traceback (most recent call last)",
      "Input \u001b[0;32mIn [54]\u001b[0m, in \u001b[0;36m<cell line: 2>\u001b[0;34m()\u001b[0m\n\u001b[1;32m      1\u001b[0m \u001b[38;5;28;01mimport\u001b[39;00m \u001b[38;5;21;01mrandom\u001b[39;00m\n\u001b[0;32m----> 2\u001b[0m \u001b[43mrandom\u001b[49m\u001b[38;5;241;43m.\u001b[39;49m\u001b[43mchoice\u001b[49m\u001b[43m(\u001b[49m\u001b[43m[\u001b[49m\u001b[43m]\u001b[49m\u001b[43m)\u001b[49m\n",
      "File \u001b[0;32m~/opt/anaconda3/lib/python3.9/random.py:346\u001b[0m, in \u001b[0;36mRandom.choice\u001b[0;34m(self, seq)\u001b[0m\n\u001b[1;32m    344\u001b[0m \u001b[38;5;124;03m\"\"\"Choose a random element from a non-empty sequence.\"\"\"\u001b[39;00m\n\u001b[1;32m    345\u001b[0m \u001b[38;5;66;03m# raises IndexError if seq is empty\u001b[39;00m\n\u001b[0;32m--> 346\u001b[0m \u001b[38;5;28;01mreturn\u001b[39;00m \u001b[43mseq\u001b[49m\u001b[43m[\u001b[49m\u001b[38;5;28;43mself\u001b[39;49m\u001b[38;5;241;43m.\u001b[39;49m\u001b[43m_randbelow\u001b[49m\u001b[43m(\u001b[49m\u001b[38;5;28;43mlen\u001b[39;49m\u001b[43m(\u001b[49m\u001b[43mseq\u001b[49m\u001b[43m)\u001b[49m\u001b[43m)\u001b[49m\u001b[43m]\u001b[49m\n",
      "\u001b[0;31mIndexError\u001b[0m: list index out of range"
     ]
    }
   ],
   "source": [
    "import random\n",
    "random.choice([])"
   ]
  },
  {
   "cell_type": "code",
   "execution_count": 55,
   "id": "5aab0802-97e7-4d2f-95d7-2a2dc261621b",
   "metadata": {},
   "outputs": [],
   "source": [
    "args_to_pass = {}\n",
    "args_to_pass['debug'] = True"
   ]
  },
  {
   "cell_type": "code",
   "execution_count": 56,
   "id": "a2cc008b-9cb2-4534-bf13-70b8436bdd92",
   "metadata": {},
   "outputs": [
    {
     "data": {
      "text/plain": [
       "{'debug': True}"
      ]
     },
     "execution_count": 56,
     "metadata": {},
     "output_type": "execute_result"
    }
   ],
   "source": [
    "args_to_pass"
   ]
  },
  {
   "cell_type": "code",
   "execution_count": 57,
   "id": "7cc1e318-f93a-48c2-bbcd-fd2707b64877",
   "metadata": {},
   "outputs": [],
   "source": [
    "def anything_func(*args, **kwargs):\n",
    "    pass"
   ]
  },
  {
   "cell_type": "code",
   "execution_count": 60,
   "id": "2676c0c7-f4a1-4903-b4a5-51a4b40eabe7",
   "metadata": {},
   "outputs": [],
   "source": [
    "anything_func(1, 2, 3, debug=False, color='hazel')"
   ]
  },
  {
   "cell_type": "code",
   "execution_count": 61,
   "id": "88ac871f-8e9d-4429-91dc-0fdf19dc28aa",
   "metadata": {},
   "outputs": [],
   "source": [
    "nums = list(range(10))"
   ]
  },
  {
   "cell_type": "code",
   "execution_count": 62,
   "id": "a0b66fff-ef94-427c-953c-145b4af66413",
   "metadata": {},
   "outputs": [
    {
     "data": {
      "text/plain": [
       "[0, 1, 2, 3, 4, 5, 6, 7, 8, 9]"
      ]
     },
     "execution_count": 62,
     "metadata": {},
     "output_type": "execute_result"
    }
   ],
   "source": [
    "nums"
   ]
  },
  {
   "cell_type": "code",
   "execution_count": 63,
   "id": "c6b238c9-3160-4c19-a794-b0d00f5e88ab",
   "metadata": {},
   "outputs": [],
   "source": [
    "a, b, c, d, e, f, g, h, i, j = nums"
   ]
  },
  {
   "cell_type": "code",
   "execution_count": 64,
   "id": "c7c1c459-cbac-4bd8-af44-32c003a960cd",
   "metadata": {},
   "outputs": [
    {
     "data": {
      "text/plain": [
       "9"
      ]
     },
     "execution_count": 64,
     "metadata": {},
     "output_type": "execute_result"
    }
   ],
   "source": [
    "j"
   ]
  },
  {
   "cell_type": "code",
   "execution_count": 65,
   "id": "496d1706-874e-4708-8c6e-d9fa17f039b3",
   "metadata": {},
   "outputs": [],
   "source": [
    "first, *rest, last = nums"
   ]
  },
  {
   "cell_type": "code",
   "execution_count": 66,
   "id": "6fefca34-26b4-44a4-895a-73ad11d77ddb",
   "metadata": {},
   "outputs": [
    {
     "data": {
      "text/plain": [
       "0"
      ]
     },
     "execution_count": 66,
     "metadata": {},
     "output_type": "execute_result"
    }
   ],
   "source": [
    "first"
   ]
  },
  {
   "cell_type": "code",
   "execution_count": 67,
   "id": "3274a98f-2f8a-4315-a6bc-6d395cf0a4e8",
   "metadata": {},
   "outputs": [
    {
     "data": {
      "text/plain": [
       "9"
      ]
     },
     "execution_count": 67,
     "metadata": {},
     "output_type": "execute_result"
    }
   ],
   "source": [
    "last"
   ]
  },
  {
   "cell_type": "code",
   "execution_count": 68,
   "id": "28f8d34a-be75-4236-b22f-568e8cc8dd5d",
   "metadata": {},
   "outputs": [
    {
     "data": {
      "text/plain": [
       "[1, 2, 3, 4, 5, 6, 7, 8]"
      ]
     },
     "execution_count": 68,
     "metadata": {},
     "output_type": "execute_result"
    }
   ],
   "source": [
    "rest"
   ]
  },
  {
   "cell_type": "code",
   "execution_count": 69,
   "id": "c392f371-b711-43f1-b6e7-111ee0966cec",
   "metadata": {},
   "outputs": [],
   "source": [
    "first, second, *rest = nums"
   ]
  },
  {
   "cell_type": "code",
   "execution_count": 74,
   "id": "4d42867d-78e5-4bf1-ac11-6d5ebff0157e",
   "metadata": {},
   "outputs": [
    {
     "name": "stdout",
     "output_type": "stream",
     "text": [
      "[0, 1, 2, 3, 4, 5, 6, 7]\n",
      "8\n",
      "9\n"
     ]
    }
   ],
   "source": [
    "*rest, penultimate, ultimate = nums\n",
    "print(rest)\n",
    "print(penultimate)\n",
    "print(ultimate)"
   ]
  },
  {
   "cell_type": "code",
   "execution_count": 71,
   "id": "35f39e00-9dea-4ed2-88e4-c7ea0e2bd16d",
   "metadata": {},
   "outputs": [],
   "source": [
    "num1, num2, num3, *other_nums = nums"
   ]
  },
  {
   "cell_type": "code",
   "execution_count": 80,
   "id": "a95117c4-ec3c-4b9e-954c-9d9ca6822dbd",
   "metadata": {},
   "outputs": [],
   "source": [
    "def do_something(x, y, z):\n",
    "    print(x, y, z)"
   ]
  },
  {
   "cell_type": "code",
   "execution_count": 76,
   "id": "2df722df-91fb-4361-8204-a558076c20db",
   "metadata": {},
   "outputs": [],
   "source": [
    "nums = [1, 2, 3]"
   ]
  },
  {
   "cell_type": "code",
   "execution_count": 77,
   "id": "722c3145-13e6-419f-ac54-bb7f47dded8e",
   "metadata": {},
   "outputs": [
    {
     "ename": "TypeError",
     "evalue": "do_something() missing 2 required positional arguments: 'y' and 'z'",
     "output_type": "error",
     "traceback": [
      "\u001b[0;31m---------------------------------------------------------------------------\u001b[0m",
      "\u001b[0;31mTypeError\u001b[0m                                 Traceback (most recent call last)",
      "Input \u001b[0;32mIn [77]\u001b[0m, in \u001b[0;36m<cell line: 1>\u001b[0;34m()\u001b[0m\n\u001b[0;32m----> 1\u001b[0m \u001b[43mdo_something\u001b[49m\u001b[43m(\u001b[49m\u001b[43mnums\u001b[49m\u001b[43m)\u001b[49m\n",
      "\u001b[0;31mTypeError\u001b[0m: do_something() missing 2 required positional arguments: 'y' and 'z'"
     ]
    }
   ],
   "source": [
    "do_something(nums)"
   ]
  },
  {
   "cell_type": "code",
   "execution_count": 78,
   "id": "14a9c1e1-fd65-4029-92f2-7b3050385f5c",
   "metadata": {},
   "outputs": [
    {
     "name": "stdout",
     "output_type": "stream",
     "text": [
      "1 2 3\n"
     ]
    }
   ],
   "source": [
    "do_something(*nums)"
   ]
  },
  {
   "cell_type": "code",
   "execution_count": 79,
   "id": "fac0f1a2-cb55-4e8e-97ea-4d4d67faae12",
   "metadata": {},
   "outputs": [
    {
     "name": "stdout",
     "output_type": "stream",
     "text": [
      "1 2 3\n"
     ]
    }
   ],
   "source": [
    "do_something(nums[0], nums[1], nums[2])"
   ]
  },
  {
   "cell_type": "code",
   "execution_count": 81,
   "id": "9cd254e6-f5c7-4a65-9e91-2fbe5b73cf44",
   "metadata": {},
   "outputs": [],
   "source": [
    "def kw_args_only(**kwargs):\n",
    "    print(kwargs)"
   ]
  },
  {
   "cell_type": "code",
   "execution_count": 83,
   "id": "d8a20965-3ffd-4ac2-affc-6ff0da5982fe",
   "metadata": {},
   "outputs": [
    {
     "name": "stdout",
     "output_type": "stream",
     "text": [
      "{'x': 1}\n"
     ]
    }
   ],
   "source": [
    "kw_args_only(x=1)"
   ]
  },
  {
   "cell_type": "code",
   "execution_count": 84,
   "id": "c21105fc-fe62-4c31-ad9a-9a3f8d41a003",
   "metadata": {},
   "outputs": [
    {
     "name": "stdout",
     "output_type": "stream",
     "text": [
      "{'debug': True, 'color': 'fuschia'}\n"
     ]
    }
   ],
   "source": [
    "kw_args_only(debug=True, color='fuschia')"
   ]
  },
  {
   "cell_type": "code",
   "execution_count": 93,
   "id": "5339bff8-8915-4760-9339-d990858eaf7e",
   "metadata": {},
   "outputs": [],
   "source": [
    "some_args = {'debug': True, 'color': 'fuschia', 'foo': 'bar'}"
   ]
  },
  {
   "cell_type": "code",
   "execution_count": 86,
   "id": "77b96bf4-40d3-4ac2-b860-d0bbe94c09c1",
   "metadata": {},
   "outputs": [
    {
     "ename": "TypeError",
     "evalue": "kw_args_only() takes 0 positional arguments but 1 was given",
     "output_type": "error",
     "traceback": [
      "\u001b[0;31m---------------------------------------------------------------------------\u001b[0m",
      "\u001b[0;31mTypeError\u001b[0m                                 Traceback (most recent call last)",
      "Input \u001b[0;32mIn [86]\u001b[0m, in \u001b[0;36m<cell line: 1>\u001b[0;34m()\u001b[0m\n\u001b[0;32m----> 1\u001b[0m \u001b[43mkw_args_only\u001b[49m\u001b[43m(\u001b[49m\u001b[43msome_args\u001b[49m\u001b[43m)\u001b[49m\n",
      "\u001b[0;31mTypeError\u001b[0m: kw_args_only() takes 0 positional arguments but 1 was given"
     ]
    }
   ],
   "source": [
    "kw_args_only(some_args)"
   ]
  },
  {
   "cell_type": "code",
   "execution_count": 87,
   "id": "ff5b147d-928c-4b2a-8c24-893a2435c34f",
   "metadata": {},
   "outputs": [
    {
     "name": "stdout",
     "output_type": "stream",
     "text": [
      "{'debug': True, 'color': 'fuschia'}\n"
     ]
    }
   ],
   "source": [
    "kw_args_only(**some_args) # debug=True and color='fuschia'"
   ]
  },
  {
   "cell_type": "code",
   "execution_count": 89,
   "id": "f5994f39-6478-45a1-bb41-c4f2cfa026ae",
   "metadata": {},
   "outputs": [
    {
     "ename": "TypeError",
     "evalue": "'debug' is an invalid keyword argument for print()",
     "output_type": "error",
     "traceback": [
      "\u001b[0;31m---------------------------------------------------------------------------\u001b[0m",
      "\u001b[0;31mTypeError\u001b[0m                                 Traceback (most recent call last)",
      "Input \u001b[0;32mIn [89]\u001b[0m, in \u001b[0;36m<cell line: 1>\u001b[0;34m()\u001b[0m\n\u001b[0;32m----> 1\u001b[0m \u001b[38;5;28;43mprint\u001b[39;49m\u001b[43m(\u001b[49m\u001b[38;5;241;43m*\u001b[39;49m\u001b[38;5;241;43m*\u001b[39;49m\u001b[43msome_args\u001b[49m\u001b[43m)\u001b[49m\n",
      "\u001b[0;31mTypeError\u001b[0m: 'debug' is an invalid keyword argument for print()"
     ]
    }
   ],
   "source": [
    "print(**some_args)"
   ]
  },
  {
   "cell_type": "code",
   "execution_count": 90,
   "id": "508ee030-1375-44a5-b9ef-5083a1dc8316",
   "metadata": {},
   "outputs": [
    {
     "name": "stdout",
     "output_type": "stream",
     "text": [
      "{}\n"
     ]
    }
   ],
   "source": [
    "d = {}\n",
    "kw_args_only(**d)"
   ]
  },
  {
   "cell_type": "code",
   "execution_count": 94,
   "id": "a1c272d7-ea91-4b29-ba89-b048584e5fc6",
   "metadata": {},
   "outputs": [
    {
     "name": "stdout",
     "output_type": "stream",
     "text": [
      "debug color foo\n"
     ]
    }
   ],
   "source": [
    "do_something(*some_args)"
   ]
  },
  {
   "cell_type": "markdown",
   "id": "e95e5fe2-6648-4a77-9ea9-f7e9d6b79cd3",
   "metadata": {},
   "source": [
    "# Group Coding Exercise: Chutes and Ladder\n",
    "* write Python code to play the game \"Chutes and Ladders\" (board shown below)\n",
    "<img src=\"images/chutes.jpg\" height=\"300 px\" width=\"300 px\">\n",
    "  \n",
    "  * each player rolls a die and moves the number of spaces on the face of the die (1-6)\n",
    "  * if the player lands on a ladder, the player moves up to the space at the top of the ladder\n",
    "  * if the player lands on a chute, the player moves down to the space at the bottom of the chute\n",
    "  * winner must land on 100 exactly, so if player is at square 97:\n",
    "    * rolling a 1 would move the player to 78\n",
    "    * rolling a 2 would move the player to 99\n",
    "    * rolling a 3 would move the player to 100, winning the game\n",
    "    * rolling a 4, 5, or 6 would cause the player to remain at square 97\n",
    "  * player will play against the computer\n",
    "  * allow the player to enter a specific value from 1-6 (in order to test) or simply hit ENTER, which causes the program to generate a random roll for the player\n",
    "  \n"
   ]
  },
  {
   "cell_type": "code",
   "execution_count": null,
   "id": "ba8467b2-913d-4abd-a2f6-167e9c7bb875",
   "metadata": {},
   "outputs": [],
   "source": [
    "chute_ladders = { 1: 38,  4: 14,  9: 31,  16: 6,  21: 42, 28: 84,\n",
    "                 36: 44, 47: 26, 49: 11,  51: 67, 56: 53, 62: 19,\n",
    "                 64: 60, 71: 91, 80: 100, 87: 24, 93: 73, 95: 75,\n",
    "                 98: 78\n",
    "                }"
   ]
  },
  {
   "cell_type": "code",
   "execution_count": null,
   "id": "0b641237-6437-4aeb-ac0e-76791be64ae8",
   "metadata": {},
   "outputs": [],
   "source": [
    "# (...) is \"optional\"\n",
    "# (allow more than one player against computer or w/o computer)\n",
    "# \n",
    "# 1. player's position starts at 0\n",
    "# computer's position starts at 0 (off the board)\n",
    "# (figure out who goes first by each person rolling and highest roll goes first)\n",
    "# 2. until no player on square 100 or no player quits, keep doing the following:\n",
    "#.   2a. indicate which player's turn it is (we are keeping track of whose turn)\n",
    "#.   each player rolls or tells us what their roll is for testing\n",
    "#.   if die roll added to current position + die roll <= 100:\n",
    "#.      check to see if new position in the dict and if so:\n",
    "#.         grab the value and display it as new position\n",
    "#          indicate whether player climbed a ladded or slide down a chute\n",
    "#.   if new position is 100:\n",
    "#.      then player wins"
   ]
  },
  {
   "cell_type": "code",
   "execution_count": 124,
   "id": "d4268390-a4d3-46d4-b43c-29b8abca8873",
   "metadata": {},
   "outputs": [],
   "source": [
    "# get input from user\n",
    "# if no input, generate a random number 1..6\n",
    "# otherwise, use their number\n",
    "# perhaps 0 means quit, and if so there is nothing do here\n",
    "\n",
    "def die_roll(*, wait=True):\n",
    "    \"\"\"Roll the die or let player specify the roll for testing purposes.\"\"\"\n",
    "    from random import randint\n",
    "    roll = ''\n",
    "    \n",
    "    if wait:\n",
    "        roll = input('Enter your roll or 0 to quit or hit ENTER to roll the die: ')\n",
    "    if not roll: # they hit ENTER (Windows) or RETURN (Mac)\n",
    "        return randint(1, 6)\n",
    "    else:\n",
    "        return int(roll)"
   ]
  },
  {
   "cell_type": "code",
   "execution_count": 115,
   "id": "727facdc-c023-458d-a1dc-541d110a748b",
   "metadata": {},
   "outputs": [],
   "source": [
    "# this is a function that will take the current position and the current roll\n",
    "# and tell us the final position\n",
    "# 1. new position is current position plus die roll (2 + 1)\n",
    "# 1a. if new position > 100 just use current_position\n",
    "# else\n",
    "# 2. if new position puts us on a square that is a chute or a ladder\n",
    "#    3. indicate whether we go up or down\n",
    "#    4. new position will be the target of the chute or ladder\n",
    "# 5. return new position\n",
    "\n",
    "def determine_position(current_pos, roll):\n",
    "    \"\"\"Determine new position from current position along with dice roll.\"\"\"\n",
    "    new_pos = current_pos + roll # step 1\n",
    "    if new_pos > 100: # step 1a\n",
    "        print('Your roll of', roll, 'would put you off the board.')\n",
    "        return current_pos\n",
    "    # step 2: check if new position is a chute or a ladder\n",
    "    if new_pos in chute_ladders: # the current position is a chute or a ladder because it's IN the dict\n",
    "        final_pos = chute_ladders[new_pos] # 11 \n",
    "        if final_pos > new_pos: # step 3\n",
    "            print('...LADDER UP TO', final_pos)\n",
    "        else:\n",
    "            print('...CHUTE DOWN TO', final_pos)\n",
    "        new_pos = final_pos # step 4\n",
    "        \n",
    "    return new_pos # step 5"
   ]
  },
  {
   "cell_type": "code",
   "execution_count": 126,
   "id": "5f3f0b23-2fa6-4f72-a5bd-11903950f925",
   "metadata": {},
   "outputs": [],
   "source": [
    "def print_positions():\n",
    "    \"\"\"Print out all player positions.\"\"\"\n",
    "    print('\\tPlayer is on square', player_position)\n",
    "    print('\\tComputer is on square', computer_position)"
   ]
  },
  {
   "cell_type": "code",
   "execution_count": 129,
   "id": "ebecd13c-3694-450e-a21d-ccd792cac899",
   "metadata": {},
   "outputs": [
    {
     "name": "stdout",
     "output_type": "stream",
     "text": [
      "\tPlayer is on square 0\n",
      "\tComputer is on square 0\n",
      "player's turn...\n"
     ]
    },
    {
     "name": "stdin",
     "output_type": "stream",
     "text": [
      "Enter your roll or hit ENTER to roll the die:  \n"
     ]
    },
    {
     "name": "stdout",
     "output_type": "stream",
     "text": [
      "\tplayer rolled a 4\n",
      "...LADDER UP TO 14\n",
      "\tPlayer is on square 14\n",
      "\tComputer is on square 0\n",
      "computer's turn...\n",
      "\tcomputer rolled a 5\n",
      "\tPlayer is on square 14\n",
      "\tComputer is on square 5\n",
      "player's turn...\n"
     ]
    },
    {
     "name": "stdin",
     "output_type": "stream",
     "text": [
      "Enter your roll or hit ENTER to roll the die:  86\n"
     ]
    },
    {
     "name": "stdout",
     "output_type": "stream",
     "text": [
      "\tplayer rolled a 86\n",
      "You won!\n"
     ]
    }
   ],
   "source": [
    "player_position, computer_position = 0, 0 # step 1\n",
    "player_turn = True # one option\n",
    "turn = 'player'\n",
    "\n",
    "while player_position < 100 and computer_position < 100:\n",
    "    print_positions()\n",
    "    print(f\"{turn}'s turn...\")\n",
    "    if turn == 'computer':\n",
    "        roll = die_roll(wait=False)\n",
    "    else:\n",
    "        if (roll := die_roll()) == 0:\n",
    "            print('Quitting')\n",
    "            break\n",
    "    print(f'\\t{turn} rolled a', roll)\n",
    "    if turn == 'player':\n",
    "        if (player_position := determine_position(player_position, roll)) == 100:\n",
    "            print('You won!')\n",
    "        turn = 'computer'\n",
    "    else:\n",
    "        if (computer_position := determine_position(computer_position, roll)) == 100:\n",
    "            print('I win!')\n",
    "        turn = 'player'"
   ]
  },
  {
   "cell_type": "code",
   "execution_count": 97,
   "id": "782890f2-4418-4052-a965-a5eaf4f995d4",
   "metadata": {},
   "outputs": [
    {
     "data": {
      "text/plain": [
       "'computer'"
      ]
     },
     "execution_count": 97,
     "metadata": {},
     "output_type": "execute_result"
    }
   ],
   "source": [
    "turn"
   ]
  },
  {
   "cell_type": "code",
   "execution_count": 102,
   "id": "993b7c91-6b11-4c97-b12f-273cafc16a96",
   "metadata": {},
   "outputs": [
    {
     "name": "stdin",
     "output_type": "stream",
     "text": [
      "Enter your roll or hit ENTER to roll the die:  5\n"
     ]
    },
    {
     "data": {
      "text/plain": [
       "5"
      ]
     },
     "execution_count": 102,
     "metadata": {},
     "output_type": "execute_result"
    }
   ],
   "source": [
    "die_roll()"
   ]
  },
  {
   "cell_type": "code",
   "execution_count": 106,
   "id": "104f7177-43d9-437e-93f7-25e5a9720131",
   "metadata": {},
   "outputs": [],
   "source": [
    "chute_ladders = { 1: 38,  4: 14,  9: 31,  16: 6,  21: 42, 28: 84,\n",
    "                 36: 44, 47: 26, 49: 11,  51: 67, 56: 53, 62: 19,\n",
    "                 64: 60, 71: 91, 80: 100, 87: 24, 93: 73, 95: 75,\n",
    "                 98: 78\n",
    "                }"
   ]
  },
  {
   "cell_type": "code",
   "execution_count": 107,
   "id": "e15d4664-663f-4665-bac8-cf1c4b27e744",
   "metadata": {},
   "outputs": [
    {
     "data": {
      "text/plain": [
       "True"
      ]
     },
     "execution_count": 107,
     "metadata": {},
     "output_type": "execute_result"
    }
   ],
   "source": [
    "4 in chute_ladders"
   ]
  },
  {
   "cell_type": "code",
   "execution_count": 108,
   "id": "f0de5cdf-4df2-4213-95f1-f407341bf5b0",
   "metadata": {},
   "outputs": [
    {
     "data": {
      "text/plain": [
       "False"
      ]
     },
     "execution_count": 108,
     "metadata": {},
     "output_type": "execute_result"
    }
   ],
   "source": [
    "5 in chute_ladders"
   ]
  },
  {
   "cell_type": "code",
   "execution_count": 109,
   "id": "502375cd-51ab-4ca9-b771-3291444d1ec4",
   "metadata": {},
   "outputs": [],
   "source": [
    "stuff = [3, 4, 5]"
   ]
  },
  {
   "cell_type": "code",
   "execution_count": 114,
   "id": "8bbf3ddd-5f15-41c4-847c-f8968a281e1c",
   "metadata": {},
   "outputs": [
    {
     "data": {
      "text/plain": [
       "5"
      ]
     },
     "execution_count": 114,
     "metadata": {},
     "output_type": "execute_result"
    }
   ],
   "source": [
    "stuff[-1]"
   ]
  },
  {
   "cell_type": "code",
   "execution_count": 116,
   "id": "bae8c4b2-8ca1-493b-a582-2e1fdfa5365b",
   "metadata": {},
   "outputs": [
    {
     "name": "stdout",
     "output_type": "stream",
     "text": [
      "Your roll of 4 would put you off the board.\n"
     ]
    },
    {
     "data": {
      "text/plain": [
       "97"
      ]
     },
     "execution_count": 116,
     "metadata": {},
     "output_type": "execute_result"
    }
   ],
   "source": [
    "determine_position(97, 4)"
   ]
  },
  {
   "cell_type": "code",
   "execution_count": 117,
   "id": "e239b4c7-e3b4-465c-b9f8-64ed8cd4ba48",
   "metadata": {},
   "outputs": [
    {
     "name": "stdout",
     "output_type": "stream",
     "text": [
      "...LADDER UP TO 14\n"
     ]
    },
    {
     "data": {
      "text/plain": [
       "14"
      ]
     },
     "execution_count": 117,
     "metadata": {},
     "output_type": "execute_result"
    }
   ],
   "source": [
    "determine_position(0, 4)"
   ]
  },
  {
   "cell_type": "code",
   "execution_count": 118,
   "id": "589abe2c-91df-4358-b0ee-69a5fc419036",
   "metadata": {},
   "outputs": [
    {
     "name": "stdout",
     "output_type": "stream",
     "text": [
      "...CHUTE DOWN TO 24\n"
     ]
    },
    {
     "data": {
      "text/plain": [
       "24"
      ]
     },
     "execution_count": 118,
     "metadata": {},
     "output_type": "execute_result"
    }
   ],
   "source": [
    "determine_position(85, 2)"
   ]
  },
  {
   "cell_type": "code",
   "execution_count": 119,
   "id": "c61d08c9-ae0d-4c24-af02-118624c123db",
   "metadata": {},
   "outputs": [
    {
     "data": {
      "text/plain": [
       "2"
      ]
     },
     "execution_count": 119,
     "metadata": {},
     "output_type": "execute_result"
    }
   ],
   "source": [
    "determine_position(0, 2)"
   ]
  },
  {
   "cell_type": "code",
   "execution_count": 131,
   "id": "583129e3-548b-4992-8d51-3379595c1a5e",
   "metadata": {},
   "outputs": [
    {
     "name": "stdout",
     "output_type": "stream",
     "text": [
      "\tPlayer is on square 0\n",
      "\tComputer is on square 0\n",
      "player's turn...\n"
     ]
    },
    {
     "name": "stdin",
     "output_type": "stream",
     "text": [
      "Enter your roll or 0 to quit or hit ENTER to roll the die:  \n"
     ]
    },
    {
     "name": "stdout",
     "output_type": "stream",
     "text": [
      "\tplayer rolled a 4\n",
      "...LADDER UP TO 14\n",
      "\tPlayer is on square 14\n",
      "\tComputer is on square 0\n",
      "computer's turn...\n",
      "\tcomputer rolled a 4\n",
      "...LADDER UP TO 14\n",
      "\tPlayer is on square 14\n",
      "\tComputer is on square 14\n",
      "player's turn...\n"
     ]
    },
    {
     "name": "stdin",
     "output_type": "stream",
     "text": [
      "Enter your roll or 0 to quit or hit ENTER to roll the die:  86\n"
     ]
    },
    {
     "name": "stdout",
     "output_type": "stream",
     "text": [
      "\tplayer rolled a 86\n",
      "You won!\n"
     ]
    }
   ],
   "source": [
    "%reset -f\n",
    "# putting it all together\n",
    "# (...) is \"optional\"\n",
    "# (allow more than one player against computer or w/o computer)\n",
    "# \n",
    "# 1. player's position starts at 0\n",
    "# computer's position starts at 0 (off the board)\n",
    "# (figure out who goes first by each person rolling and highest roll goes first)\n",
    "# 2. until no player on square 100 or no player quits, keep doing the following:\n",
    "#.   2a. indicate which player's turn it is (we are keeping track of whose turn)\n",
    "#.   2b. each player rolls or tells us what their roll is for testing\n",
    "#.   2c. if die roll added to current position + die roll <= 100:\n",
    "#.      check to see if new position in the dict and if so:\n",
    "#.         grab the value and display it as new position\n",
    "#          indicate whether player climbed a ladded or slide down a chute\n",
    "#.   2d. if new position is 100:\n",
    "#.      then player wins\n",
    "\n",
    "    \n",
    "# global var\n",
    "chute_ladders = {  1: 38,  4: 14,  9: 31,  16: 6,  21: 42, 28: 84, 36: 44,\n",
    "                  47: 26, 49: 11,  51: 67, 56: 53, 62: 19, 64: 60, 71: 91,\n",
    "                  80: 100, 87: 24, 93: 73, 95: 75, 98: 78\n",
    "                }\n",
    "player_position, computer_position = 0, 0\n",
    "turn = 'player'\n",
    "\n",
    "\n",
    "def die_roll(*, wait=True):\n",
    "    \"\"\"Roll the die or let player specify the roll for testing purposes.\"\"\"\n",
    "    # get input from user\n",
    "    # if no input, generate a random number 1..6\n",
    "    # otherwise, use their number\n",
    "    # perhaps 0 means quit, and if so there is nothing do here\n",
    "    from random import randint\n",
    "    roll = ''\n",
    "    \n",
    "    if wait:\n",
    "        roll = input('Enter your roll or 0 to quit or hit ENTER to roll the die: ')\n",
    "    if not roll: # they hit ENTER (Windows) or RETURN (Mac)\n",
    "        return randint(1, 6)\n",
    "    else:\n",
    "        return int(roll)\n",
    "\n",
    "    \n",
    "def determine_position(current_pos, roll):\n",
    "    \"\"\"Determine new position from current position along with dice roll.\"\"\"\n",
    "    # this is a function that will take the current position and the current roll\n",
    "    # and tell us the final position\n",
    "    # 1. new position is current position plus die roll (2 + 1)\n",
    "    # 1a. if new position > 100 just use current_position\n",
    "    # else\n",
    "    # 2. if new position puts us on a square that is a chute or a ladder\n",
    "    #    3. indicate whether we go up or down\n",
    "    #    4. new position will be the target of the chute or ladder\n",
    "    # 5. return new position\n",
    "    new_pos = current_pos + roll # step 1\n",
    "    if new_pos > 100: # step 1a\n",
    "        print('Your roll of', roll, 'would put you off the board.')\n",
    "        return current_pos\n",
    "    # step 2: check if new position is a chute or a ladder\n",
    "    if new_pos in chute_ladders: # the current position is a chute or a ladder because it's IN the dict\n",
    "        final_pos = chute_ladders[new_pos] # 11 \n",
    "        if final_pos > new_pos: # step 3\n",
    "            print('...LADDER UP TO', final_pos)\n",
    "        else:\n",
    "            print('...CHUTE DOWN TO', final_pos)\n",
    "        new_pos = final_pos # step 4\n",
    "        \n",
    "    return new_pos # step 5\n",
    "\n",
    "\n",
    "def print_positions():\n",
    "    \"\"\"Print out all player positions.\"\"\"\n",
    "    print('\\tPlayer is on square', player_position)\n",
    "    print('\\tComputer is on square', computer_position)\n",
    "    \n",
    "\n",
    "while player_position < 100 and computer_position < 100: # step 2\n",
    "    print_positions() # for clarity, tell us where everybody on the board\n",
    "    print(f\"{turn}'s turn...\") # step 2a\n",
    "    if turn == 'computer':\n",
    "        roll = die_roll(wait=False) # step 2b\n",
    "    else:\n",
    "        if (roll := die_roll()) == 0: # step 2b\n",
    "            print('Quitting')\n",
    "            break\n",
    "    print(f'\\t{turn} rolled a', roll)\n",
    "    if turn == 'player':\n",
    "        if (player_position := determine_position(player_position, roll)) == 100: # step 2c/2d\n",
    "            print('You won!')\n",
    "        turn = 'computer'\n",
    "    else:\n",
    "        if (computer_position := determine_position(computer_position, roll)) == 100: # step 2c/2d\n",
    "            print('I win!')\n",
    "        turn = 'player'"
   ]
  },
  {
   "cell_type": "markdown",
   "id": "bef3b24d-7eaf-4403-ad17-d238007b6be7",
   "metadata": {},
   "source": [
    "## how do we make the above more general?\n",
    "* more players\n",
    "* ask names of players\n",
    "* computer need not participate"
   ]
  },
  {
   "cell_type": "code",
   "execution_count": null,
   "id": "6bd28fa8-03bb-47b2-a214-d86adfd8587c",
   "metadata": {},
   "outputs": [],
   "source": [
    "# 1. player's position starts at 0\n",
    "# computer's position starts at 0 (off the board)\n",
    "# (figure out who goes first by each person rolling and highest roll goes first)\n",
    "# 2. until no player on square 100 or no player quits, keep doing the following:\n",
    "#.   2a. indicate which player's turn it is (we are keeping track of whose turn)\n",
    "#.   2b. each player rolls or tells us what their roll is for testing\n",
    "#.   2c. if die roll added to current position + die roll <= 100:\n",
    "#.      check to see if new position in the dict and if so:\n",
    "#.         grab the value and display it as new position\n",
    "#          indicate whether player climbed a ladded or slide down a chute\n",
    "#.   2d. if new position is 100:\n",
    "#.      then player wins"
   ]
  },
  {
   "cell_type": "code",
   "execution_count": 109,
   "id": "9acf17d9-db94-4612-bc8c-8ba7d9564a51",
   "metadata": {},
   "outputs": [],
   "source": [
    "# until we've identified all of the players\n",
    "# (while some people still want to play...)\n",
    "    # get the name of a player\n",
    "    # store it somewhere\n",
    "# if there are 2+ players, ask if computer should join\n",
    "# otherwise computer plays against the player\n",
    "# return the players\n",
    "\n",
    "def get_player_names():\n",
    "    \"\"\"Get the names of all players and return them in a dictionary, where the keys are the names\n",
    "    and the values are the players positions on the board. All positions start at 0.\"\"\"\n",
    "    player_names = {}\n",
    "    \n",
    "    while True:\n",
    "        name = input('Enter name of next player (RETURN/ENTER when all players have been named): ')\n",
    "        if not name: # name == ''\n",
    "            break\n",
    "        elif name == 'computer':\n",
    "            print('\"computer\" is my name. Please choose a different name.')\n",
    "        else:\n",
    "            if name in player_names:\n",
    "                print(name, 'is already a player!')\n",
    "            else:\n",
    "                player_names[name] = 0 # add name to dictionary, and set position to 0\n",
    "            \n",
    "    computer = 'y' # prepare to append 'computer' to the list, unless they entered 2+ names\n",
    "    \n",
    "    if not player_names: # they entered ZERO names\n",
    "        player_names['Player One'] = 0\n",
    "    elif len(player_names) >= 2: # if there are at least 2 players        \n",
    "        while True:\n",
    "            computer = input('Should I play too (y/n)? ')\n",
    "            if computer == 'y' or computer == 'n':\n",
    "                break\n",
    "            #if computer in ('y', 'n'): # equivalent: if the string computer is in the tuple/list\n",
    "                #break\n",
    "        \n",
    "    if computer == 'y':\n",
    "        player_names['computer'] = 0\n",
    "    \n",
    "    return player_names"
   ]
  },
  {
   "cell_type": "code",
   "execution_count": 55,
   "id": "20e2ea85-6c5b-4cbc-a7b2-8f01e625b062",
   "metadata": {},
   "outputs": [
    {
     "name": "stdin",
     "output_type": "stream",
     "text": [
      "Enter name of next player (RETURN/ENTER when all players have been named):  computer\n"
     ]
    },
    {
     "name": "stdout",
     "output_type": "stream",
     "text": [
      "\"computer\" is my name. Please choose a different name.\n"
     ]
    },
    {
     "name": "stdin",
     "output_type": "stream",
     "text": [
      "Enter name of next player (RETURN/ENTER when all players have been named):  \n"
     ]
    },
    {
     "data": {
      "text/plain": [
       "['Player One', 'computer']"
      ]
     },
     "execution_count": 55,
     "metadata": {},
     "output_type": "execute_result"
    }
   ],
   "source": [
    "get_player_names()"
   ]
  },
  {
   "cell_type": "code",
   "execution_count": 134,
   "id": "f753172a-fe28-4a81-b3c4-20022c187a97",
   "metadata": {},
   "outputs": [
    {
     "name": "stdin",
     "output_type": "stream",
     "text": [
      "Enter a name:  \n"
     ]
    }
   ],
   "source": [
    "thing = input('Enter a name: ')"
   ]
  },
  {
   "cell_type": "code",
   "execution_count": 135,
   "id": "2bddb087-a4f4-423e-9b39-bad6dd590749",
   "metadata": {},
   "outputs": [
    {
     "data": {
      "text/plain": [
       "''"
      ]
     },
     "execution_count": 135,
     "metadata": {},
     "output_type": "execute_result"
    }
   ],
   "source": [
    "thing"
   ]
  },
  {
   "cell_type": "code",
   "execution_count": null,
   "id": "9073280b-54a7-4c81-b9a6-950cf4372e18",
   "metadata": {},
   "outputs": [],
   "source": [
    "# What about storing game state to a file?"
   ]
  },
  {
   "cell_type": "code",
   "execution_count": 19,
   "id": "cc62c88d-68fb-46cc-8d5a-0f825093f26e",
   "metadata": {},
   "outputs": [
    {
     "name": "stdin",
     "output_type": "stream",
     "text": [
      "Enter y or n: yn\n"
     ]
    }
   ],
   "source": [
    "answer = input('Enter y or n:')"
   ]
  },
  {
   "cell_type": "code",
   "execution_count": 11,
   "id": "eb4d0a3f-5f73-4f26-ba6c-21b3337f122a",
   "metadata": {},
   "outputs": [
    {
     "name": "stdout",
     "output_type": "stream",
     "text": [
      "break\n"
     ]
    }
   ],
   "source": [
    "if answer in {'y', 'n'}:\n",
    "    print('break')"
   ]
  },
  {
   "cell_type": "code",
   "execution_count": 20,
   "id": "a3b3ced4-dcfc-49d8-b6a3-b5389c13b67e",
   "metadata": {},
   "outputs": [
    {
     "name": "stdout",
     "output_type": "stream",
     "text": [
      "break\n"
     ]
    }
   ],
   "source": [
    "if answer in 'yn':\n",
    "    print('break')"
   ]
  },
  {
   "cell_type": "code",
   "execution_count": 17,
   "id": "92ad2752-8700-41c9-b4cd-b03681bc5f2c",
   "metadata": {},
   "outputs": [
    {
     "data": {
      "text/plain": [
       "True"
      ]
     },
     "execution_count": 17,
     "metadata": {},
     "output_type": "execute_result"
    }
   ],
   "source": [
    "'A' in 'ADI'"
   ]
  },
  {
   "cell_type": "code",
   "execution_count": 18,
   "id": "0895ee50-e15b-41ef-8fac-6d17df074012",
   "metadata": {},
   "outputs": [
    {
     "data": {
      "text/plain": [
       "True"
      ]
     },
     "execution_count": 18,
     "metadata": {},
     "output_type": "execute_result"
    }
   ],
   "source": [
    "'AD' in 'ADI' # not exactly \"thing in container\""
   ]
  },
  {
   "cell_type": "code",
   "execution_count": 27,
   "id": "24946ea2-a0c2-4dfb-a09f-ae7c5a94e5dc",
   "metadata": {},
   "outputs": [
    {
     "data": {
      "text/plain": [
       "1"
      ]
     },
     "execution_count": 27,
     "metadata": {},
     "output_type": "execute_result"
    }
   ],
   "source": [
    "list_of_names = ['Player One']\n",
    "len(list_of_names)"
   ]
  },
  {
   "cell_type": "code",
   "execution_count": 140,
   "id": "590b112e-5dab-45bb-919d-253cd1a0a979",
   "metadata": {},
   "outputs": [
    {
     "name": "stdin",
     "output_type": "stream",
     "text": [
      "Enter name of next player (or RETURN) when all players have been named):  \n"
     ]
    },
    {
     "name": "stdout",
     "output_type": "stream",
     "text": [
      "Player One is at position 0\n",
      "computer is at position 0\n",
      "Player One's turn...\n"
     ]
    },
    {
     "name": "stdin",
     "output_type": "stream",
     "text": [
      "Enter your roll or \"quit\" to quit or hit ENTER to roll the die:  quit\n"
     ]
    },
    {
     "ename": "SystemExit",
     "evalue": "0",
     "output_type": "error",
     "traceback": [
      "An exception has occurred, use %tb to see the full traceback.\n",
      "\u001b[0;31mSystemExit\u001b[0m\u001b[0;31m:\u001b[0m 0\n"
     ]
    }
   ],
   "source": [
    "%reset -f\n",
    "# putting it all together\n",
    "# (...) is \"optional\"\n",
    "# (allow more than one player against computer or w/o computer)\n",
    "# \n",
    "# 1. player's position starts at 0\n",
    "# computer's position starts at 0 (off the board)\n",
    "# (figure out who goes first by each person rolling and highest roll goes first)\n",
    "# 2. until no player on square 100 or no player quits, keep doing the following:\n",
    "#.   2a. indicate which player's turn it is (we are keeping track of whose turn)\n",
    "#.   2b. each player rolls or tells us what their roll is for testing\n",
    "#.   2c. if die roll added to current position + die roll <= 100:\n",
    "#.      check to see if new position in the dict and if so:\n",
    "#.         grab the value and display it as new position\n",
    "#          indicate whether player climbed a ladded or slide down a chute\n",
    "#.   2d. if new position is 100:\n",
    "#.      then player wins\n",
    "\n",
    "import sys # to get sys.exit\n",
    "import os # to get os.name\n",
    "\n",
    "enter_or_return_key = 'RETURN' # posix is default key name\n",
    "if os.name == 'nt':\n",
    "    enter_or_return_key = 'ENTER'\n",
    "    \n",
    "# global var\n",
    "# chute_ladders maps board positions to final board positions via chute/ladder\n",
    "chute_ladders = {  1: 38,  4: 14,  9: 31,  16: 6,  21: 42, 28: 84, 36: 44,\n",
    "                  47: 26, 49: 11,  51: 67, 56: 53, 62: 19, 64: 60, 71: 91,\n",
    "                  80: 100, 87: 24, 93: 73, 95: 75, 98: 78\n",
    "                }\n",
    "\n",
    "# player_names/info is a dict where keys are player names and vals are player positions\n",
    "player_info = {}\n",
    "player_names = [] # just a list of the names (keys in player_info) to make things easier\n",
    "current_player = 0 # indicates who the current player is\n",
    "\n",
    "# until we've identified all of the players\n",
    "# (while some people still want to play...)\n",
    "    # get the name of a player\n",
    "    # store it somewhere\n",
    "# if there are 2+ players, ask if computer should join\n",
    "# otherwise computer plays against the player\n",
    "# return the players\n",
    "\n",
    "def get_player_names():\n",
    "    \"\"\"Get the names of all players and enter them into the global dictionary. All positions start at 0.\"\"\"\n",
    "    global player_info, player_names\n",
    "    \n",
    "    while True:\n",
    "        name = input(f'Enter name of next player (or {enter_or_return_key}) when all players have been named): ')\n",
    "        if not name: # name == ''\n",
    "            break\n",
    "        elif name == 'computer':\n",
    "            print('\"computer\" is my name. Please choose a different name.')\n",
    "        else:\n",
    "            if name in player_info:\n",
    "                print(name, 'is already a player!')\n",
    "            else:\n",
    "                player_info[name] = 0 # add name to dictionary, and set position to 0\n",
    "            \n",
    "    computer = 'y' # prepare to append 'computer' to the list, unless they entered 2+ names\n",
    "    \n",
    "    if not player_info: # they entered ZERO names\n",
    "        player_info['Player One'] = 0\n",
    "    elif len(player_info) >= 2: # if there are at least 2 players        \n",
    "        while True:\n",
    "            computer = input('Should I play too (y/n)? ')\n",
    "            if computer == 'y' or computer == 'n':\n",
    "                break\n",
    "            #if computer in ('y', 'n'): # equivalent: if the string computer is in the tuple/list\n",
    "                #break\n",
    "        \n",
    "    if computer == 'y':\n",
    "        player_info['computer'] = 0\n",
    "    \n",
    "    player_names = list(player_info.keys()) # dict will not be changed after this, but underscores we just want a list...\n",
    "    \n",
    "\n",
    "def die_roll(player):\n",
    "    \"\"\"Roll the die or let player specify the roll for testing purposes.\"\"\"\n",
    "    # get input from user\n",
    "    # if no input, generate a random number 1..6\n",
    "    # otherwise, use their number\n",
    "    # perhaps 0 means quit, and if so there is nothing do here\n",
    "    from random import randint\n",
    "    roll = ''\n",
    "    \n",
    "    if player == 'computer': # computer just gets a die roll and returns\n",
    "        return randint(1, 6)\n",
    "    \n",
    "    roll = input('Enter your roll or \"quit\" to quit or hit ENTER to roll the die: ')\n",
    "    \n",
    "    if roll == 'quit': # remember this won't work in the notebook\n",
    "        sys.exit(0) # sys.exit() is a function that quits a program immediately\n",
    "        \n",
    "    # what remains is either they entered a number or they ENTER (or any string)\n",
    "    if roll == '': # not roll\n",
    "        roll = randint(1, 6)\n",
    "    else:\n",
    "        # if we're here...they entered a string (which could be a number)\n",
    "        try:\n",
    "            roll = int(roll)\n",
    "        except ValueError: # so they didn't a number\n",
    "            print(\"I don't understand what you entered...will roll the die for you.\")\n",
    "            roll = randint(1, 6)\n",
    "\n",
    "    return roll\n",
    "\n",
    "  \n",
    "def determine_position(current_pos, roll):\n",
    "    \"\"\"Determine new position from current position along with dice roll.\"\"\"\n",
    "    # this is a function that will take the current position and the current roll\n",
    "    # and tell us the final position\n",
    "    # 1. new position is current position plus die roll (2 + 1)\n",
    "    # 1a. if new position > 100 just use current_position\n",
    "    # else\n",
    "    # 2. if new position puts us on a square that is a chute or a ladder\n",
    "    #    3. indicate whether we go up or down\n",
    "    #    4. new position will be the target of the chute or ladder\n",
    "    # 5. return new position\n",
    "    new_pos = current_pos + roll # step 1\n",
    "    if new_pos > 100: # step 1a\n",
    "        print('Your roll of', roll, 'would put you off the board.')\n",
    "        return current_pos\n",
    "    # step 2: check if new position is a chute or a ladder\n",
    "    if new_pos in chute_ladders: # the current position is a chute or a ladder because it's IN the dict\n",
    "        final_pos = chute_ladders[new_pos] # 11 \n",
    "        if final_pos > new_pos: # step 3\n",
    "            print('...LADDER UP TO', final_pos)\n",
    "        else:\n",
    "            print('...CHUTE DOWN TO', final_pos)\n",
    "        new_pos = final_pos # step 4\n",
    "        \n",
    "    return new_pos # step 5\n",
    "\n",
    "\n",
    "def print_positions():\n",
    "    \"\"\"Print out all player positions.\"\"\"\n",
    "    global player_names, player_info\n",
    "    \n",
    "    for player in player_names:\n",
    "        print(player, 'is at position', player_info[player])\n",
    "    \n",
    "\n",
    "get_player_names() # sets up the global dict\n",
    "\n",
    "while not 100 in player_info.values(): # step 2: while no player is on position 100\n",
    "    print_positions() # for clarity, tell us where everybody on the board\n",
    "    player = player_names[current_player] # get name of current player from list\n",
    "    print(f\"{player}'s turn...\") # step 2a\n",
    "    roll = die_roll(player)\n",
    "    print(f'\\t{player} rolled a', roll)\n",
    "    \n",
    "    player_info[player] = determine_position(player_info[player], roll)\n",
    "    \n",
    "    if player_info[player] == 100:\n",
    "        print(player, 'won!')\n",
    "\n",
    "    # increment to \"point to\" next player–if we hit the end start at beginning\n",
    "    current_player += 1\n",
    "    if current_player == len(player_names): # or use % len(player_names)\n",
    "        current_player = 0"
   ]
  },
  {
   "cell_type": "code",
   "execution_count": 125,
   "id": "a4c4e861-dd11-403f-a3ab-986762385737",
   "metadata": {},
   "outputs": [
    {
     "data": {
      "text/plain": [
       "[]"
      ]
     },
     "execution_count": 125,
     "metadata": {},
     "output_type": "execute_result"
    }
   ],
   "source": [
    "player_names"
   ]
  },
  {
   "cell_type": "code",
   "execution_count": 60,
   "id": "7c76510f-b926-471c-91da-c98b1506b694",
   "metadata": {},
   "outputs": [],
   "source": [
    "def die_roll(player):\n",
    "    \"\"\"Roll the die or let player specify the roll for testing purposes.\"\"\"\n",
    "    # get input from user\n",
    "    # if no input, generate a random number 1..6\n",
    "    # otherwise, use their number\n",
    "    # perhaps 0 means quit, and if so there is nothing do here\n",
    "    from random import randint\n",
    "    roll = ''\n",
    "    \n",
    "    if player == 'computer': # computer just gets a die roll and returns\n",
    "        return randint(1, 6)\n",
    "    \n",
    "    roll = input('Enter your roll or \"quit\" to quit or hit ENTER to roll the die: ')\n",
    "    \n",
    "    if roll == 'quit': # remember this won't work in the notebook\n",
    "        sys.exit(0) # sys.exit() is a function that quits a program immediately\n",
    "        \n",
    "    # what remains is either they entered a number or they ENTER (or any string)\n",
    "    if roll == '': # not roll\n",
    "        roll = randint(1, 6)\n",
    "    else:\n",
    "        # if we're here...they entered a string (which could be a number)\n",
    "        try:\n",
    "            roll = int(roll)\n",
    "        except ValueError: # so they didn't a number\n",
    "            print(\"I don't understand what you entered...will roll the die for you.\")\n",
    "            roll = randint(1, 6)\n",
    "\n",
    "    return roll"
   ]
  },
  {
   "cell_type": "code",
   "execution_count": 56,
   "id": "720779b2-95bf-47ac-9083-60f2eb85fe15",
   "metadata": {},
   "outputs": [
    {
     "ename": "ValueError",
     "evalue": "invalid literal for int() with base 10: 'x'",
     "output_type": "error",
     "traceback": [
      "\u001b[0;31m---------------------------------------------------------------------------\u001b[0m",
      "\u001b[0;31mValueError\u001b[0m                                Traceback (most recent call last)",
      "Input \u001b[0;32mIn [56]\u001b[0m, in \u001b[0;36m<cell line: 1>\u001b[0;34m()\u001b[0m\n\u001b[0;32m----> 1\u001b[0m \u001b[38;5;28;43mint\u001b[39;49m\u001b[43m(\u001b[49m\u001b[38;5;124;43m'\u001b[39;49m\u001b[38;5;124;43mx\u001b[39;49m\u001b[38;5;124;43m'\u001b[39;49m\u001b[43m)\u001b[49m\n",
      "\u001b[0;31mValueError\u001b[0m: invalid literal for int() with base 10: 'x'"
     ]
    }
   ],
   "source": [
    "int('x')"
   ]
  },
  {
   "cell_type": "code",
   "execution_count": 57,
   "id": "a064b4a6-c6ab-4d7e-8484-fdcb102f1087",
   "metadata": {},
   "outputs": [
    {
     "ename": "NameError",
     "evalue": "name 'die_roll' is not defined",
     "output_type": "error",
     "traceback": [
      "\u001b[0;31m---------------------------------------------------------------------------\u001b[0m",
      "\u001b[0;31mNameError\u001b[0m                                 Traceback (most recent call last)",
      "Input \u001b[0;32mIn [57]\u001b[0m, in \u001b[0;36m<cell line: 1>\u001b[0;34m()\u001b[0m\n\u001b[0;32m----> 1\u001b[0m \u001b[43mdie_roll\u001b[49m(\u001b[38;5;124m'\u001b[39m\u001b[38;5;124mcomputer\u001b[39m\u001b[38;5;124m'\u001b[39m)\n",
      "\u001b[0;31mNameError\u001b[0m: name 'die_roll' is not defined"
     ]
    }
   ],
   "source": [
    "die_roll('computer')"
   ]
  },
  {
   "cell_type": "code",
   "execution_count": 70,
   "id": "9457b825-1907-4eba-a3a1-79555b7817e8",
   "metadata": {},
   "outputs": [
    {
     "name": "stdin",
     "output_type": "stream",
     "text": [
      "Enter your roll or \"quit\" to quit or hit ENTER to roll the die:  hello\n"
     ]
    },
    {
     "name": "stdout",
     "output_type": "stream",
     "text": [
      "I don't understand what you entered...will roll the die for you.\n"
     ]
    },
    {
     "data": {
      "text/plain": [
       "4"
      ]
     },
     "execution_count": 70,
     "metadata": {},
     "output_type": "execute_result"
    }
   ],
   "source": [
    "die_roll('Dave')"
   ]
  },
  {
   "cell_type": "code",
   "execution_count": 71,
   "id": "56b7ec38-ba6f-41ee-9d49-405228ec73ad",
   "metadata": {},
   "outputs": [],
   "source": [
    "names = ['Balbir', 'Janice', 'Carlos']\n",
    "positions = [0, 0, 0]\n",
    "current_player = 0"
   ]
  },
  {
   "cell_type": "code",
   "execution_count": 88,
   "id": "8763695e-e2c6-4a58-b38d-71ad3201ed1b",
   "metadata": {},
   "outputs": [
    {
     "name": "stdout",
     "output_type": "stream",
     "text": [
      "It is Balbir's turn. Balbir's current position is 0.\n"
     ]
    }
   ],
   "source": [
    "print(f\"It is {names[current_player]}'s turn. {names[current_player]}'s current position is {positions[current_player]}.\")"
   ]
  },
  {
   "cell_type": "code",
   "execution_count": 85,
   "id": "7a00f468-8efa-4ada-b681-9ba58aaba382",
   "metadata": {},
   "outputs": [],
   "source": [
    "current_player = (current_player + 1) % len(names)"
   ]
  },
  {
   "cell_type": "code",
   "execution_count": 79,
   "id": "abe923b3-3dbb-4ee1-843b-3c9932b4c439",
   "metadata": {},
   "outputs": [],
   "source": [
    "if current_player == len(names):\n",
    "    current_player = 0"
   ]
  },
  {
   "cell_type": "code",
   "execution_count": 90,
   "id": "a9ebff4c-52cf-4008-81a1-0f05ec8018df",
   "metadata": {},
   "outputs": [],
   "source": [
    "# we got names in the names list\n",
    "player_positions = {}\n",
    "for player in names:\n",
    "    player_positions[player] = 0"
   ]
  },
  {
   "cell_type": "code",
   "execution_count": 91,
   "id": "86407770-cc64-45a6-a580-33f691e66de9",
   "metadata": {},
   "outputs": [
    {
     "data": {
      "text/plain": [
       "{'Balbir': 0, 'Janice': 0, 'Carlos': 0}"
      ]
     },
     "execution_count": 91,
     "metadata": {},
     "output_type": "execute_result"
    }
   ],
   "source": [
    "player_positions"
   ]
  },
  {
   "cell_type": "code",
   "execution_count": 92,
   "id": "ed66a684-9d5e-4a10-a002-87edfb0d2a18",
   "metadata": {},
   "outputs": [],
   "source": [
    "current_player = 0"
   ]
  },
  {
   "cell_type": "code",
   "execution_count": 95,
   "id": "eab871f3-54f5-43dc-80bc-c5585917a2a4",
   "metadata": {},
   "outputs": [],
   "source": [
    "current_player += 1\n",
    "if current_player == len(names):\n",
    "    current_player = 0"
   ]
  },
  {
   "cell_type": "code",
   "execution_count": 96,
   "id": "f8424d34-c9e1-438d-97cd-94c9fca08892",
   "metadata": {},
   "outputs": [
    {
     "name": "stdout",
     "output_type": "stream",
     "text": [
      "It is Carlos's turn.\n",
      "Carlos's current position is 0.\n"
     ]
    }
   ],
   "source": [
    "print(f\"It is {names[current_player]}'s turn.\")\n",
    "print(f\"{names[current_player]}'s current position is {player_positions[names[current_player]]}.\")"
   ]
  },
  {
   "cell_type": "code",
   "execution_count": 97,
   "id": "a9625f79-9597-4d0c-b98a-651d072d9f1e",
   "metadata": {},
   "outputs": [
    {
     "data": {
      "text/plain": [
       "{'Balbir': 0, 'Janice': 0, 'Carlos': 0}"
      ]
     },
     "execution_count": 97,
     "metadata": {},
     "output_type": "execute_result"
    }
   ],
   "source": [
    "player_positions"
   ]
  },
  {
   "cell_type": "code",
   "execution_count": 99,
   "id": "51b7e0b7-91c4-4ae5-8e35-462001c40fd6",
   "metadata": {},
   "outputs": [
    {
     "name": "stdout",
     "output_type": "stream",
     "text": [
      "Balbir\n",
      "Janice\n",
      "Carlos\n"
     ]
    }
   ],
   "source": [
    "for player in player_positions:\n",
    "    print(player)"
   ]
  },
  {
   "cell_type": "code",
   "execution_count": 101,
   "id": "5357080f-41fb-49b8-8e31-b8410c3b9c12",
   "metadata": {},
   "outputs": [],
   "source": [
    "names = list(player_positions.keys())"
   ]
  },
  {
   "cell_type": "code",
   "execution_count": 102,
   "id": "8ab01b34-f38e-4c04-b83c-f6da882bf4e5",
   "metadata": {},
   "outputs": [
    {
     "data": {
      "text/plain": [
       "['Balbir', 'Janice', 'Carlos']"
      ]
     },
     "execution_count": 102,
     "metadata": {},
     "output_type": "execute_result"
    }
   ],
   "source": [
    "names"
   ]
  },
  {
   "cell_type": "code",
   "execution_count": 110,
   "id": "e5406548-8a5b-4c1a-845c-29ea5c49184d",
   "metadata": {},
   "outputs": [
    {
     "name": "stdin",
     "output_type": "stream",
     "text": [
      "Enter name of next player (RETURN/ENTER when all players have been named):  Grace Hopper\n",
      "Enter name of next player (RETURN/ENTER when all players have been named):  Bruce Lee\n",
      "Enter name of next player (RETURN/ENTER when all players have been named):  Grace Hopper\n"
     ]
    },
    {
     "name": "stdout",
     "output_type": "stream",
     "text": [
      "Grace Hopper is already a player!\n"
     ]
    },
    {
     "name": "stdin",
     "output_type": "stream",
     "text": [
      "Enter name of next player (RETURN/ENTER when all players have been named):  \n",
      "Should I play too (y/n)?  n\n"
     ]
    },
    {
     "data": {
      "text/plain": [
       "{'Grace Hopper': 0, 'Bruce Lee': 0}"
      ]
     },
     "execution_count": 110,
     "metadata": {},
     "output_type": "execute_result"
    }
   ],
   "source": [
    "get_player_names()"
   ]
  },
  {
   "cell_type": "code",
   "execution_count": 116,
   "id": "2516e7ef-a943-44a0-a453-ead7d4dd2728",
   "metadata": {},
   "outputs": [],
   "source": [
    "def print_positions(player_names):\n",
    "    \"\"\"Print out all player positions.\"\"\"\n",
    "    for player in player_names:\n",
    "        print(f'{player} is at position {player_names[player]}.')"
   ]
  },
  {
   "cell_type": "code",
   "execution_count": 117,
   "id": "dc38fb4a-48dc-47b7-b4d1-c759c655a181",
   "metadata": {},
   "outputs": [
    {
     "name": "stdout",
     "output_type": "stream",
     "text": [
      "Balbir is at position 0.\n",
      "Janice is at position 0.\n",
      "Carlos is at position 0.\n"
     ]
    }
   ],
   "source": [
    "print_positions(player_positions)"
   ]
  },
  {
   "cell_type": "code",
   "execution_count": 122,
   "id": "f7a3bc06-ca5c-4691-96ee-d1fd2f8f771d",
   "metadata": {},
   "outputs": [
    {
     "data": {
      "text/plain": [
       "True"
      ]
     },
     "execution_count": 122,
     "metadata": {},
     "output_type": "execute_result"
    }
   ],
   "source": [
    "100 in player_positions.values()"
   ]
  },
  {
   "cell_type": "code",
   "execution_count": 121,
   "id": "331fbd71-d6d2-4349-a75c-fdeaf5174a77",
   "metadata": {},
   "outputs": [],
   "source": [
    "player_positions['Carlos'] = 100"
   ]
  },
  {
   "cell_type": "markdown",
   "id": "876cd41f-0ac6-4c2f-bfb2-80493e87068b",
   "metadata": {},
   "source": [
    "## \"Group\" programming assignment\n",
    "1. add a \"store game\" feature to Chutes and Ladders\n",
    "* when you quit, you have the option to save the game\n",
    "  * save whose turn it is and the player names and positions\n",
    "  * player whose turn it is is first line\n",
    "  * subsequent lines are player and position, e.g.,\n",
    "  > Grace<br>\n",
    "  > Dave 55<br>\n",
    "  > Carlos 41<br>\n",
    "  > Grace 65\n",
    "  * you might consider a special extension (other than .txt), e.g., .chute\n",
    "* when you start the game, you may choose to enter a filename with content such as the above\n",
    "  * if contents are valid, restore the game and continue\n",
    "  * if not valid, tell user!\n",
    "    * Simon's suggestion: some code or word or phrase like \"chutes_and_ladder_stored_games\" at the top\n",
    "  \n",
    "* e.g., Cows and Bulls\n",
    "  * what to store?\n",
    "    * secret code\n",
    "    * guesses so far / responses (or recreate them)\n",
    "    * Balbir suggestion: store the guesses and the responses together in a dict\n",
    "  * what to change in this program?\n",
    "    * how many digits in the code? (if we didn't ask that, add it) / maybe have the restore function here\n",
    "    * when you quit, perhas 'q' for 'quit' and 's' for 'save'\n",
    "  * how to do this?\n",
    "    * functions!\n",
    "    * test them \n",
    "1. Make some new functions for some of the main program code\n",
    "1. let a player quit independent of the game\n",
    "1. let a new player take over for an existing player\n",
    "1. etc."
   ]
  },
  {
   "cell_type": "code",
   "execution_count": 51,
   "id": "85abedbc-f144-49d6-8a52-3eed2115eecf",
   "metadata": {},
   "outputs": [
    {
     "name": "stdin",
     "output_type": "stream",
     "text": [
      "Enter your guess or \"quit\" to quit:  quit\n",
      "Finish game later (y/n)?  y\n"
     ]
    },
    {
     "ename": "SystemExit",
     "evalue": "0",
     "output_type": "error",
     "traceback": [
      "An exception has occurred, use %tb to see the full traceback.\n",
      "\u001b[0;31mSystemExit\u001b[0m\u001b[0;31m:\u001b[0m 0\n"
     ]
    },
    {
     "name": "stderr",
     "output_type": "stream",
     "text": [
      "/Users/dave-wadestein/opt/anaconda3/lib/python3.9/site-packages/IPython/core/interactiveshell.py:3377: UserWarning: To exit: use 'exit', 'quit', or Ctrl-D.\n",
      "  warn(\"To exit: use 'exit', 'quit', or Ctrl-D.\", stacklevel=1)\n"
     ]
    }
   ],
   "source": [
    "%reset -f\n",
    "# the above will discard all variables and functions...\n",
    "\n",
    "def generate_secret_code(num_digits):\n",
    "    # generate 4 digits\n",
    "    # ensure each digit is unique\n",
    "    from random import choice as random_choice # we are free to rename imports to suit our mood\n",
    "    \n",
    "    digits_to_pick_from = list(range(10)) # [ 0, 1, ..., 9 ]\n",
    "    secret_code = []\n",
    "    \n",
    "    # this is not the ideal way to handle such errors, but it's a way...\n",
    "    if num_digits < 2 or num_digits > 10:\n",
    "        print('number of digits must be between 2 and 10')\n",
    "        return secret_code\n",
    "    \n",
    "    for times in range(num_digits):\n",
    "        digit = random_choice(digits_to_pick_from)\n",
    "        digits_to_pick_from.remove(digit)\n",
    "        secret_code.append(str(digit)) # at the time we append, let's str-ify it\n",
    "    \n",
    "    return secret_code\n",
    "\n",
    "\n",
    "def is_valid_user_guess(guess, num_digits):\n",
    "#     three checks to do:\n",
    "#         length of guess not equal num_digits\n",
    "#.        guess contains non-digits\n",
    "#.        repeated digits (we could count occurrences of each digit and if any > 1, then bad)\n",
    "    if len(guess) != num_digits:\n",
    "        print('Your guess should be', num_digits, 'digits long.')\n",
    "        return False\n",
    "    \n",
    "    if not guess.isdigit(): # \"if guess does NOT consist of only digits\"\n",
    "        print('Your guess should be composed of only digits.')\n",
    "        return False\n",
    "    \n",
    "    for digit in guess: # how do I know there are only digits in the guess here?\n",
    "        if guess.count(digit) > 1:\n",
    "            print('The digit', digit, 'appears more than once, and that is simply not allowed!')\n",
    "            return False\n",
    "        \n",
    "    return True # all 3 of the checks above passed, therefore it's valid\n",
    "\n",
    "\n",
    "def count_bulls(secret_code, user_guess):\n",
    "    # make a count which we set to 0\n",
    "    # for each item in the secret_code\n",
    "    # compare it to the corresponding item in the guess\n",
    "    # if they are the same, increment the count\n",
    "    # return the count to the caller\n",
    "    \n",
    "    bull_count = 0\n",
    "    \n",
    "    for index in range(len(secret_code)): # 0..3\n",
    "        if secret_code[index] == user_guess[index]:\n",
    "            bull_count += 1\n",
    "            \n",
    "    return bull_count\n",
    "\n",
    "\n",
    "def count_cows(secret_code, user_guess, **kwargs):\n",
    "    # make a count which we set to 0\n",
    "    # for each item in the secret_code\n",
    "    # compare it to all of the items in the guess...\n",
    "    # ...EXCEPT for the item at the index\n",
    "    # if they are the same, increment the count\n",
    "    # return the count to the caller\n",
    "    \n",
    "    print('kwargs came in as', kwargs)\n",
    "    print('debug is', kwargs.get('debug'))\n",
    "    cow_count = 0\n",
    "    \n",
    "    for code_index in range(len(secret_code)): # 0..3\n",
    "        for guess_index in range(len(guess)): # 0..3\n",
    "            if debug: # if the \"truthy\" value of debug is True\n",
    "                print('checking code index', code_index, 'and guess_index', guess_index)\n",
    "            if code_index == guess_index:\n",
    "                continue\n",
    "            if secret_code[code_index] == user_guess[guess_index]:\n",
    "                if debug:\n",
    "                    print('comparing', secret_code[code_index], 'to', user_guess[guess_index])\n",
    "                cow_count += 1\n",
    "            \n",
    "    return cow_count\n",
    "\n",
    "def save_game():\n",
    "    pass\n",
    "\n",
    "def get_input_from_user(prompt):\n",
    "    \"\"\"Prompt the user and get a guess or request to quit.\"\"\"\n",
    "    from sys import exit\n",
    "    \n",
    "    if (guess := input(prompt)) == 'quit':\n",
    "        while (save := input('Finish game later (y/n)? ')) not in ('y', 'n'):\n",
    "            pass\n",
    "        if save == 'y':\n",
    "            save_game()\n",
    "        exit(0) # quit the program (doesn't work in Jupyter)\n",
    "        \n",
    "    return guess\n",
    "\n",
    "num_digits = 4\n",
    "num_bulls = 0\n",
    "secret_code = generate_secret_code(num_digits) # step 1\n",
    "\n",
    "# steps 2 and 3\n",
    "while True:\n",
    "    guess = get_input_from_user('Enter your guess or \"quit\" to quit: ')\n",
    "    if not is_valid_user_guess(guess, num_digits): # step 3a\n",
    "        continue\n",
    "    # if we get here, the guess is valid and we can evaluate\n",
    "    num_bulls = count_bulls(secret_code, guess) # step 4\n",
    "    num_cows = count_cows(secret_code, guess) # step 5\n",
    "    \n",
    "    if bulls == num_digits: # step 4a\n",
    "        print('You guessed it!')\n",
    "        break\n",
    "    print(bulls, 'bulls and', cows, 'cows')"
   ]
  },
  {
   "cell_type": "code",
   "execution_count": null,
   "id": "586493a9-28b0-4911-91f5-701d7198e836",
   "metadata": {},
   "outputs": [],
   "source": []
  },
  {
   "cell_type": "code",
   "execution_count": null,
   "id": "ee9ced57-3ce2-4d96-972e-9c1bfafc365b",
   "metadata": {},
   "outputs": [],
   "source": []
  },
  {
   "cell_type": "code",
   "execution_count": 55,
   "id": "830edf9b-e572-4d86-9be1-d6bb30554af4",
   "metadata": {},
   "outputs": [
    {
     "name": "stdin",
     "output_type": "stream",
     "text": [
      "prompt 1234\n"
     ]
    },
    {
     "data": {
      "text/plain": [
       "'1234'"
      ]
     },
     "execution_count": 55,
     "metadata": {},
     "output_type": "execute_result"
    }
   ],
   "source": [
    "get_input_from_user('prompt')"
   ]
  },
  {
   "cell_type": "code",
   "execution_count": 131,
   "id": "27b366f8-f223-4ae4-b191-bb527e6f4f5f",
   "metadata": {},
   "outputs": [],
   "source": [
    "import os"
   ]
  },
  {
   "cell_type": "code",
   "execution_count": 132,
   "id": "71773ebd-774c-436f-924c-38d7b93a5371",
   "metadata": {},
   "outputs": [
    {
     "data": {
      "text/plain": [
       "'/Users/dave-wadestein/opt/anaconda3/lib/python3.9/os.py'"
      ]
     },
     "execution_count": 132,
     "metadata": {},
     "output_type": "execute_result"
    }
   ],
   "source": [
    "os.__file__"
   ]
  },
  {
   "cell_type": "code",
   "execution_count": 133,
   "id": "e321061b-70e5-4c0b-905f-c4ab8a3e03c0",
   "metadata": {},
   "outputs": [
    {
     "data": {
      "text/plain": [
       "['CLD_CONTINUED',\n",
       " 'CLD_DUMPED',\n",
       " 'CLD_EXITED',\n",
       " 'CLD_KILLED',\n",
       " 'CLD_STOPPED',\n",
       " 'CLD_TRAPPED',\n",
       " 'DirEntry',\n",
       " 'EX_CANTCREAT',\n",
       " 'EX_CONFIG',\n",
       " 'EX_DATAERR',\n",
       " 'EX_IOERR',\n",
       " 'EX_NOHOST',\n",
       " 'EX_NOINPUT',\n",
       " 'EX_NOPERM',\n",
       " 'EX_NOUSER',\n",
       " 'EX_OK',\n",
       " 'EX_OSERR',\n",
       " 'EX_OSFILE',\n",
       " 'EX_PROTOCOL',\n",
       " 'EX_SOFTWARE',\n",
       " 'EX_TEMPFAIL',\n",
       " 'EX_UNAVAILABLE',\n",
       " 'EX_USAGE',\n",
       " 'F_LOCK',\n",
       " 'F_OK',\n",
       " 'F_TEST',\n",
       " 'F_TLOCK',\n",
       " 'F_ULOCK',\n",
       " 'GenericAlias',\n",
       " 'Mapping',\n",
       " 'MutableMapping',\n",
       " 'NGROUPS_MAX',\n",
       " 'O_ACCMODE',\n",
       " 'O_APPEND',\n",
       " 'O_ASYNC',\n",
       " 'O_CLOEXEC',\n",
       " 'O_CREAT',\n",
       " 'O_DIRECTORY',\n",
       " 'O_DSYNC',\n",
       " 'O_EXCL',\n",
       " 'O_EXLOCK',\n",
       " 'O_NDELAY',\n",
       " 'O_NOCTTY',\n",
       " 'O_NOFOLLOW',\n",
       " 'O_NONBLOCK',\n",
       " 'O_RDONLY',\n",
       " 'O_RDWR',\n",
       " 'O_SHLOCK',\n",
       " 'O_SYNC',\n",
       " 'O_TRUNC',\n",
       " 'O_WRONLY',\n",
       " 'POSIX_SPAWN_CLOSE',\n",
       " 'POSIX_SPAWN_DUP2',\n",
       " 'POSIX_SPAWN_OPEN',\n",
       " 'PRIO_PGRP',\n",
       " 'PRIO_PROCESS',\n",
       " 'PRIO_USER',\n",
       " 'P_ALL',\n",
       " 'P_NOWAIT',\n",
       " 'P_NOWAITO',\n",
       " 'P_PGID',\n",
       " 'P_PID',\n",
       " 'P_WAIT',\n",
       " 'PathLike',\n",
       " 'RTLD_GLOBAL',\n",
       " 'RTLD_LAZY',\n",
       " 'RTLD_LOCAL',\n",
       " 'RTLD_NODELETE',\n",
       " 'RTLD_NOLOAD',\n",
       " 'RTLD_NOW',\n",
       " 'R_OK',\n",
       " 'SCHED_FIFO',\n",
       " 'SCHED_OTHER',\n",
       " 'SCHED_RR',\n",
       " 'SEEK_CUR',\n",
       " 'SEEK_END',\n",
       " 'SEEK_SET',\n",
       " 'ST_NOSUID',\n",
       " 'ST_RDONLY',\n",
       " 'TMP_MAX',\n",
       " 'WCONTINUED',\n",
       " 'WCOREDUMP',\n",
       " 'WEXITED',\n",
       " 'WEXITSTATUS',\n",
       " 'WIFCONTINUED',\n",
       " 'WIFEXITED',\n",
       " 'WIFSIGNALED',\n",
       " 'WIFSTOPPED',\n",
       " 'WNOHANG',\n",
       " 'WNOWAIT',\n",
       " 'WSTOPPED',\n",
       " 'WSTOPSIG',\n",
       " 'WTERMSIG',\n",
       " 'WUNTRACED',\n",
       " 'W_OK',\n",
       " 'X_OK',\n",
       " '_Environ',\n",
       " '__all__',\n",
       " '__builtins__',\n",
       " '__cached__',\n",
       " '__doc__',\n",
       " '__file__',\n",
       " '__loader__',\n",
       " '__name__',\n",
       " '__package__',\n",
       " '__spec__',\n",
       " '_check_methods',\n",
       " '_execvpe',\n",
       " '_exists',\n",
       " '_exit',\n",
       " '_fspath',\n",
       " '_fwalk',\n",
       " '_get_exports_list',\n",
       " '_spawnvef',\n",
       " '_walk',\n",
       " '_wrap_close',\n",
       " 'abc',\n",
       " 'abort',\n",
       " 'access',\n",
       " 'altsep',\n",
       " 'chdir',\n",
       " 'chflags',\n",
       " 'chmod',\n",
       " 'chown',\n",
       " 'chroot',\n",
       " 'close',\n",
       " 'closerange',\n",
       " 'confstr',\n",
       " 'confstr_names',\n",
       " 'cpu_count',\n",
       " 'ctermid',\n",
       " 'curdir',\n",
       " 'defpath',\n",
       " 'device_encoding',\n",
       " 'devnull',\n",
       " 'dup',\n",
       " 'dup2',\n",
       " 'environ',\n",
       " 'environb',\n",
       " 'error',\n",
       " 'execl',\n",
       " 'execle',\n",
       " 'execlp',\n",
       " 'execlpe',\n",
       " 'execv',\n",
       " 'execve',\n",
       " 'execvp',\n",
       " 'execvpe',\n",
       " 'extsep',\n",
       " 'fchdir',\n",
       " 'fchmod',\n",
       " 'fchown',\n",
       " 'fdopen',\n",
       " 'fork',\n",
       " 'forkpty',\n",
       " 'fpathconf',\n",
       " 'fsdecode',\n",
       " 'fsencode',\n",
       " 'fspath',\n",
       " 'fstat',\n",
       " 'fstatvfs',\n",
       " 'fsync',\n",
       " 'ftruncate',\n",
       " 'fwalk',\n",
       " 'get_blocking',\n",
       " 'get_exec_path',\n",
       " 'get_inheritable',\n",
       " 'get_terminal_size',\n",
       " 'getcwd',\n",
       " 'getcwdb',\n",
       " 'getegid',\n",
       " 'getenv',\n",
       " 'getenvb',\n",
       " 'geteuid',\n",
       " 'getgid',\n",
       " 'getgrouplist',\n",
       " 'getgroups',\n",
       " 'getloadavg',\n",
       " 'getlogin',\n",
       " 'getpgid',\n",
       " 'getpgrp',\n",
       " 'getpid',\n",
       " 'getppid',\n",
       " 'getpriority',\n",
       " 'getsid',\n",
       " 'getuid',\n",
       " 'initgroups',\n",
       " 'isatty',\n",
       " 'kill',\n",
       " 'killpg',\n",
       " 'lchflags',\n",
       " 'lchmod',\n",
       " 'lchown',\n",
       " 'linesep',\n",
       " 'link',\n",
       " 'listdir',\n",
       " 'lockf',\n",
       " 'lseek',\n",
       " 'lstat',\n",
       " 'major',\n",
       " 'makedev',\n",
       " 'makedirs',\n",
       " 'minor',\n",
       " 'mkdir',\n",
       " 'mkfifo',\n",
       " 'mknod',\n",
       " 'name',\n",
       " 'nice',\n",
       " 'open',\n",
       " 'openpty',\n",
       " 'pardir',\n",
       " 'path',\n",
       " 'pathconf',\n",
       " 'pathconf_names',\n",
       " 'pathsep',\n",
       " 'pipe',\n",
       " 'popen',\n",
       " 'posix_spawn',\n",
       " 'posix_spawnp',\n",
       " 'pread',\n",
       " 'putenv',\n",
       " 'pwrite',\n",
       " 'read',\n",
       " 'readlink',\n",
       " 'readv',\n",
       " 'register_at_fork',\n",
       " 'remove',\n",
       " 'removedirs',\n",
       " 'rename',\n",
       " 'renames',\n",
       " 'replace',\n",
       " 'rmdir',\n",
       " 'scandir',\n",
       " 'sched_get_priority_max',\n",
       " 'sched_get_priority_min',\n",
       " 'sched_yield',\n",
       " 'sendfile',\n",
       " 'sep',\n",
       " 'set_blocking',\n",
       " 'set_inheritable',\n",
       " 'setegid',\n",
       " 'seteuid',\n",
       " 'setgid',\n",
       " 'setgroups',\n",
       " 'setpgid',\n",
       " 'setpgrp',\n",
       " 'setpriority',\n",
       " 'setregid',\n",
       " 'setreuid',\n",
       " 'setsid',\n",
       " 'setuid',\n",
       " 'spawnl',\n",
       " 'spawnle',\n",
       " 'spawnlp',\n",
       " 'spawnlpe',\n",
       " 'spawnv',\n",
       " 'spawnve',\n",
       " 'spawnvp',\n",
       " 'spawnvpe',\n",
       " 'st',\n",
       " 'stat',\n",
       " 'stat_result',\n",
       " 'statvfs',\n",
       " 'statvfs_result',\n",
       " 'strerror',\n",
       " 'supports_bytes_environ',\n",
       " 'supports_dir_fd',\n",
       " 'supports_effective_ids',\n",
       " 'supports_fd',\n",
       " 'supports_follow_symlinks',\n",
       " 'symlink',\n",
       " 'sync',\n",
       " 'sys',\n",
       " 'sysconf',\n",
       " 'sysconf_names',\n",
       " 'system',\n",
       " 'tcgetpgrp',\n",
       " 'tcsetpgrp',\n",
       " 'terminal_size',\n",
       " 'times',\n",
       " 'times_result',\n",
       " 'truncate',\n",
       " 'ttyname',\n",
       " 'umask',\n",
       " 'uname',\n",
       " 'uname_result',\n",
       " 'unlink',\n",
       " 'unsetenv',\n",
       " 'urandom',\n",
       " 'utime',\n",
       " 'wait',\n",
       " 'wait3',\n",
       " 'wait4',\n",
       " 'waitpid',\n",
       " 'waitstatus_to_exitcode',\n",
       " 'walk',\n",
       " 'write',\n",
       " 'writev']"
      ]
     },
     "execution_count": 133,
     "metadata": {},
     "output_type": "execute_result"
    }
   ],
   "source": [
    "dir(os)"
   ]
  },
  {
   "cell_type": "code",
   "execution_count": 134,
   "id": "41790dcd-0a37-4af0-9b9c-bea98e79359d",
   "metadata": {},
   "outputs": [
    {
     "data": {
      "text/plain": [
       "'posix'"
      ]
     },
     "execution_count": 134,
     "metadata": {},
     "output_type": "execute_result"
    }
   ],
   "source": [
    "os.name"
   ]
  },
  {
   "cell_type": "code",
   "execution_count": 135,
   "id": "8b15b189-714a-4bb9-ad65-2f315db4f285",
   "metadata": {},
   "outputs": [],
   "source": [
    "import shutil"
   ]
  },
  {
   "cell_type": "code",
   "execution_count": 136,
   "id": "0b011c63-fdf2-4f66-aabd-c230ef291cd2",
   "metadata": {},
   "outputs": [
    {
     "data": {
      "text/plain": [
       "['COPY_BUFSIZE',\n",
       " 'Error',\n",
       " 'ExecError',\n",
       " 'ReadError',\n",
       " 'RegistryError',\n",
       " 'SameFileError',\n",
       " 'SpecialFileError',\n",
       " '_ARCHIVE_FORMATS',\n",
       " '_BZ2_SUPPORTED',\n",
       " '_GiveupOnFastCopy',\n",
       " '_HAS_FCOPYFILE',\n",
       " '_LZMA_SUPPORTED',\n",
       " '_UNPACK_FORMATS',\n",
       " '_USE_CP_SENDFILE',\n",
       " '_WINDOWS',\n",
       " '_WIN_DEFAULT_PATHEXT',\n",
       " '_ZLIB_SUPPORTED',\n",
       " '__all__',\n",
       " '__builtins__',\n",
       " '__cached__',\n",
       " '__doc__',\n",
       " '__file__',\n",
       " '__loader__',\n",
       " '__name__',\n",
       " '__package__',\n",
       " '__spec__',\n",
       " '_access_check',\n",
       " '_basename',\n",
       " '_check_unpack_options',\n",
       " '_copyfileobj_readinto',\n",
       " '_copytree',\n",
       " '_copyxattr',\n",
       " '_destinsrc',\n",
       " '_ensure_directory',\n",
       " '_fastcopy_fcopyfile',\n",
       " '_fastcopy_sendfile',\n",
       " '_find_unpack_format',\n",
       " '_get_gid',\n",
       " '_get_uid',\n",
       " '_is_immutable',\n",
       " '_islink',\n",
       " '_make_tarball',\n",
       " '_make_zipfile',\n",
       " '_ntuple_diskusage',\n",
       " '_rmtree_isdir',\n",
       " '_rmtree_islink',\n",
       " '_rmtree_safe_fd',\n",
       " '_rmtree_unsafe',\n",
       " '_samefile',\n",
       " '_stat',\n",
       " '_unpack_tarfile',\n",
       " '_unpack_zipfile',\n",
       " '_use_fd_functions',\n",
       " 'chown',\n",
       " 'collections',\n",
       " 'copy',\n",
       " 'copy2',\n",
       " 'copyfile',\n",
       " 'copyfileobj',\n",
       " 'copymode',\n",
       " 'copystat',\n",
       " 'copytree',\n",
       " 'disk_usage',\n",
       " 'errno',\n",
       " 'fnmatch',\n",
       " 'get_archive_formats',\n",
       " 'get_terminal_size',\n",
       " 'get_unpack_formats',\n",
       " 'getgrnam',\n",
       " 'getpwnam',\n",
       " 'ignore_patterns',\n",
       " 'make_archive',\n",
       " 'move',\n",
       " 'nt',\n",
       " 'os',\n",
       " 'posix',\n",
       " 'register_archive_format',\n",
       " 'register_unpack_format',\n",
       " 'rmtree',\n",
       " 'stat',\n",
       " 'sys',\n",
       " 'unpack_archive',\n",
       " 'unregister_archive_format',\n",
       " 'unregister_unpack_format',\n",
       " 'which']"
      ]
     },
     "execution_count": 136,
     "metadata": {},
     "output_type": "execute_result"
    }
   ],
   "source": [
    "dir(shutil)"
   ]
  },
  {
   "cell_type": "code",
   "execution_count": 139,
   "id": "12078a9d-78b1-49c2-92b3-f80772c58e17",
   "metadata": {},
   "outputs": [
    {
     "ename": "Exception",
     "evalue": "Unknown OS!",
     "output_type": "error",
     "traceback": [
      "\u001b[0;31m---------------------------------------------------------------------------\u001b[0m",
      "\u001b[0;31mException\u001b[0m                                 Traceback (most recent call last)",
      "Input \u001b[0;32mIn [139]\u001b[0m, in \u001b[0;36m<cell line: 2>\u001b[0;34m()\u001b[0m\n\u001b[1;32m      5\u001b[0m     \u001b[38;5;28mprint\u001b[39m(\u001b[38;5;124m'\u001b[39m\u001b[38;5;124mMac\u001b[39m\u001b[38;5;124m'\u001b[39m)\n\u001b[1;32m      6\u001b[0m \u001b[38;5;28;01melse\u001b[39;00m:\n\u001b[0;32m----> 7\u001b[0m     \u001b[38;5;28;01mraise\u001b[39;00m \u001b[38;5;167;01mException\u001b[39;00m(\u001b[38;5;124m'\u001b[39m\u001b[38;5;124mUnknown OS!\u001b[39m\u001b[38;5;124m'\u001b[39m)\n",
      "\u001b[0;31mException\u001b[0m: Unknown OS!"
     ]
    }
   ],
   "source": [
    "import os\n",
    "if os.name == 'nt':\n",
    "    print('Windows')\n",
    "elif os.name == 'posix!':\n",
    "    print('Mac')\n",
    "else:\n",
    "    raise Exception('Unknown OS!')"
   ]
  },
  {
   "cell_type": "code",
   "execution_count": 141,
   "id": "648df3ec-bfb9-41d6-abc3-47079b5b28c7",
   "metadata": {},
   "outputs": [
    {
     "data": {
      "text/plain": [
       "'3.9.12 (main, Apr  5 2022, 01:53:17) \\n[Clang 12.0.0 ]'"
      ]
     },
     "execution_count": 141,
     "metadata": {},
     "output_type": "execute_result"
    }
   ],
   "source": [
    "import sys\n",
    "sys.version"
   ]
  },
  {
   "cell_type": "code",
   "execution_count": 142,
   "id": "6c738199-aeea-40ae-8603-dab0064cfb4f",
   "metadata": {},
   "outputs": [
    {
     "data": {
      "text/plain": [
       "['__breakpointhook__',\n",
       " '__displayhook__',\n",
       " '__doc__',\n",
       " '__excepthook__',\n",
       " '__interactivehook__',\n",
       " '__loader__',\n",
       " '__name__',\n",
       " '__package__',\n",
       " '__spec__',\n",
       " '__stderr__',\n",
       " '__stdin__',\n",
       " '__stdout__',\n",
       " '__unraisablehook__',\n",
       " '_base_executable',\n",
       " '_clear_type_cache',\n",
       " '_current_frames',\n",
       " '_debugmallocstats',\n",
       " '_framework',\n",
       " '_getframe',\n",
       " '_git',\n",
       " '_home',\n",
       " '_xoptions',\n",
       " 'abiflags',\n",
       " 'addaudithook',\n",
       " 'api_version',\n",
       " 'argv',\n",
       " 'audit',\n",
       " 'base_exec_prefix',\n",
       " 'base_prefix',\n",
       " 'breakpointhook',\n",
       " 'builtin_module_names',\n",
       " 'byteorder',\n",
       " 'call_tracing',\n",
       " 'copyright',\n",
       " 'displayhook',\n",
       " 'dont_write_bytecode',\n",
       " 'exc_info',\n",
       " 'excepthook',\n",
       " 'exec_prefix',\n",
       " 'executable',\n",
       " 'exit',\n",
       " 'flags',\n",
       " 'float_info',\n",
       " 'float_repr_style',\n",
       " 'get_asyncgen_hooks',\n",
       " 'get_coroutine_origin_tracking_depth',\n",
       " 'getallocatedblocks',\n",
       " 'getdefaultencoding',\n",
       " 'getdlopenflags',\n",
       " 'getfilesystemencodeerrors',\n",
       " 'getfilesystemencoding',\n",
       " 'getprofile',\n",
       " 'getrecursionlimit',\n",
       " 'getrefcount',\n",
       " 'getsizeof',\n",
       " 'getswitchinterval',\n",
       " 'gettrace',\n",
       " 'hash_info',\n",
       " 'hexversion',\n",
       " 'implementation',\n",
       " 'int_info',\n",
       " 'intern',\n",
       " 'is_finalizing',\n",
       " 'last_traceback',\n",
       " 'last_type',\n",
       " 'last_value',\n",
       " 'maxsize',\n",
       " 'maxunicode',\n",
       " 'meta_path',\n",
       " 'modules',\n",
       " 'path',\n",
       " 'path_hooks',\n",
       " 'path_importer_cache',\n",
       " 'platform',\n",
       " 'platlibdir',\n",
       " 'prefix',\n",
       " 'ps1',\n",
       " 'ps2',\n",
       " 'ps3',\n",
       " 'pycache_prefix',\n",
       " 'set_asyncgen_hooks',\n",
       " 'set_coroutine_origin_tracking_depth',\n",
       " 'setdlopenflags',\n",
       " 'setprofile',\n",
       " 'setrecursionlimit',\n",
       " 'setswitchinterval',\n",
       " 'settrace',\n",
       " 'stderr',\n",
       " 'stdin',\n",
       " 'stdout',\n",
       " 'thread_info',\n",
       " 'unraisablehook',\n",
       " 'version',\n",
       " 'version_info',\n",
       " 'warnoptions']"
      ]
     },
     "execution_count": 142,
     "metadata": {},
     "output_type": "execute_result"
    }
   ],
   "source": [
    "dir(sys)"
   ]
  },
  {
   "cell_type": "code",
   "execution_count": 144,
   "id": "4325e32f-fd89-406f-a67b-1db23ac24f7c",
   "metadata": {},
   "outputs": [
    {
     "data": {
      "text/plain": [
       "sys.version_info(major=3, minor=9, micro=12, releaselevel='final', serial=0)"
      ]
     },
     "execution_count": 144,
     "metadata": {},
     "output_type": "execute_result"
    }
   ],
   "source": [
    "sys.version_info"
   ]
  },
  {
   "cell_type": "code",
   "execution_count": 147,
   "id": "8b77ff33-2e4c-4af0-8ebc-c4f5fdc1860a",
   "metadata": {},
   "outputs": [
    {
     "ename": "IndentationError",
     "evalue": "expected an indented block (2440045516.py, line 5)",
     "output_type": "error",
     "traceback": [
      "\u001b[0;36m  Input \u001b[0;32mIn [147]\u001b[0;36m\u001b[0m\n\u001b[0;31m    else:\u001b[0m\n\u001b[0m    ^\u001b[0m\n\u001b[0;31mIndentationError\u001b[0m\u001b[0;31m:\u001b[0m expected an indented block\n"
     ]
    }
   ],
   "source": [
    "import sys\n",
    "\n",
    "if sys.version_info.major == 2:\n",
    "    # old behavior\n",
    "else:\n",
    "    # new behavior"
   ]
  },
  {
   "cell_type": "code",
   "execution_count": null,
   "id": "ea60e0d9-3581-4c00-b4d1-d709b41f9266",
   "metadata": {},
   "outputs": [],
   "source": [
    "try:\n",
    "    import something_that_does_not_exist_in_both_versions_of_python\n",
    "except ImportError:\n",
    "    import the_other_thing"
   ]
  },
  {
   "cell_type": "code",
   "execution_count": 148,
   "id": "f6d58326-e54b-423f-b683-bdabd0de21d4",
   "metadata": {},
   "outputs": [],
   "source": [
    "import string"
   ]
  },
  {
   "cell_type": "code",
   "execution_count": 149,
   "id": "cd3be626-49fb-4528-83c8-61bbe8788838",
   "metadata": {},
   "outputs": [
    {
     "data": {
      "text/plain": [
       "'/Users/dave-wadestein/opt/anaconda3/lib/python3.9/string.py'"
      ]
     },
     "execution_count": 149,
     "metadata": {},
     "output_type": "execute_result"
    }
   ],
   "source": [
    "string.__file__"
   ]
  },
  {
   "cell_type": "code",
   "execution_count": 150,
   "id": "9f89f486-f11f-454d-9ba6-5e231c438d32",
   "metadata": {},
   "outputs": [],
   "source": [
    "import math"
   ]
  },
  {
   "cell_type": "code",
   "execution_count": 151,
   "id": "c5634727-3526-4464-bf93-6d3d1a549c43",
   "metadata": {},
   "outputs": [
    {
     "data": {
      "text/plain": [
       "'/Users/dave-wadestein/opt/anaconda3/lib/python3.9/lib-dynload/math.cpython-39-darwin.so'"
      ]
     },
     "execution_count": 151,
     "metadata": {},
     "output_type": "execute_result"
    }
   ],
   "source": [
    "math.__file__"
   ]
  },
  {
   "cell_type": "code",
   "execution_count": 152,
   "id": "43b28eb6-2d49-4aac-bd84-63e26d6345a8",
   "metadata": {},
   "outputs": [],
   "source": [
    "import mymodule"
   ]
  },
  {
   "cell_type": "code",
   "execution_count": 153,
   "id": "be939330-107d-4ce1-bf53-7ff49801edea",
   "metadata": {},
   "outputs": [
    {
     "data": {
      "text/plain": [
       "'/Users/dave-wadestein/Downloads/ADI-Reskilling-Academy/mymodule.py'"
      ]
     },
     "execution_count": 153,
     "metadata": {},
     "output_type": "execute_result"
    }
   ],
   "source": [
    "mymodule.__file__"
   ]
  },
  {
   "cell_type": "code",
   "execution_count": 154,
   "id": "27fb8301-b111-490c-9b59-70072a4caea3",
   "metadata": {},
   "outputs": [
    {
     "data": {
      "text/plain": [
       "['__builtins__',\n",
       " '__cached__',\n",
       " '__doc__',\n",
       " '__file__',\n",
       " '__loader__',\n",
       " '__name__',\n",
       " '__package__',\n",
       " '__spec__',\n",
       " '_private_data',\n",
       " 'dummy',\n",
       " 'foo',\n",
       " 'public_data']"
      ]
     },
     "execution_count": 154,
     "metadata": {},
     "output_type": "execute_result"
    }
   ],
   "source": [
    "dir(mymodule)"
   ]
  },
  {
   "cell_type": "code",
   "execution_count": 156,
   "id": "b51b8d78-4522-4221-80f3-0a7421c82562",
   "metadata": {},
   "outputs": [],
   "source": [
    "import sys"
   ]
  },
  {
   "cell_type": "code",
   "execution_count": 157,
   "id": "e4525bc6-eb15-4940-b680-c914fcc1fae1",
   "metadata": {},
   "outputs": [
    {
     "data": {
      "text/plain": [
       "['/Users/dave-wadestein/Downloads/ADI-Reskilling-Academy',\n",
       " '/Users/dave-wadestein/opt/anaconda3/lib/python39.zip',\n",
       " '/Users/dave-wadestein/opt/anaconda3/lib/python3.9',\n",
       " '/Users/dave-wadestein/opt/anaconda3/lib/python3.9/lib-dynload',\n",
       " '',\n",
       " '/Users/dave-wadestein/opt/anaconda3/lib/python3.9/site-packages',\n",
       " '/Users/dave-wadestein/opt/anaconda3/lib/python3.9/site-packages/aeosa']"
      ]
     },
     "execution_count": 157,
     "metadata": {},
     "output_type": "execute_result"
    }
   ],
   "source": [
    "sys.path"
   ]
  },
  {
   "cell_type": "code",
   "execution_count": 158,
   "id": "3fecde7b-bc5b-4b2c-bd26-9a14f2be770c",
   "metadata": {},
   "outputs": [],
   "source": [
    "import sys\n",
    "sys.path.append('C:\\\\ADI\\\\specific\\\\directory')"
   ]
  },
  {
   "cell_type": "code",
   "execution_count": 159,
   "id": "5200e1df-7ecd-4850-af66-2121b0348eb1",
   "metadata": {},
   "outputs": [
    {
     "data": {
      "text/plain": [
       "['/Users/dave-wadestein/Downloads/ADI-Reskilling-Academy',\n",
       " '/Users/dave-wadestein/opt/anaconda3/lib/python39.zip',\n",
       " '/Users/dave-wadestein/opt/anaconda3/lib/python3.9',\n",
       " '/Users/dave-wadestein/opt/anaconda3/lib/python3.9/lib-dynload',\n",
       " '',\n",
       " '/Users/dave-wadestein/opt/anaconda3/lib/python3.9/site-packages',\n",
       " '/Users/dave-wadestein/opt/anaconda3/lib/python3.9/site-packages/aeosa',\n",
       " 'C:\\\\ADI\\\\specific\\\\directory']"
      ]
     },
     "execution_count": 159,
     "metadata": {},
     "output_type": "execute_result"
    }
   ],
   "source": [
    "sys.path"
   ]
  },
  {
   "cell_type": "code",
   "execution_count": 160,
   "id": "037b2ddd-35ac-462f-94c9-836a054ee47b",
   "metadata": {},
   "outputs": [],
   "source": [
    "sys.path.insert(0, 'C:\\\\ADI\\\\specific\\\\directory')"
   ]
  },
  {
   "cell_type": "code",
   "execution_count": 161,
   "id": "31413e3a-b74f-441d-9a6b-4680793c3858",
   "metadata": {},
   "outputs": [
    {
     "data": {
      "text/plain": [
       "['C:\\\\ADI\\\\specific\\\\directory',\n",
       " '/Users/dave-wadestein/Downloads/ADI-Reskilling-Academy',\n",
       " '/Users/dave-wadestein/opt/anaconda3/lib/python39.zip',\n",
       " '/Users/dave-wadestein/opt/anaconda3/lib/python3.9',\n",
       " '/Users/dave-wadestein/opt/anaconda3/lib/python3.9/lib-dynload',\n",
       " '',\n",
       " '/Users/dave-wadestein/opt/anaconda3/lib/python3.9/site-packages',\n",
       " '/Users/dave-wadestein/opt/anaconda3/lib/python3.9/site-packages/aeosa',\n",
       " 'C:\\\\ADI\\\\specific\\\\directory']"
      ]
     },
     "execution_count": 161,
     "metadata": {},
     "output_type": "execute_result"
    }
   ],
   "source": [
    "sys.path"
   ]
  },
  {
   "cell_type": "code",
   "execution_count": 162,
   "id": "e1251a70-6fe1-4248-89af-2da91ea0523c",
   "metadata": {},
   "outputs": [],
   "source": [
    "sys.path.remove('')"
   ]
  },
  {
   "cell_type": "code",
   "execution_count": 163,
   "id": "1afc4968-2581-4de4-9a6b-3fbdbd8affe3",
   "metadata": {},
   "outputs": [
    {
     "data": {
      "text/plain": [
       "['C:\\\\ADI\\\\specific\\\\directory',\n",
       " '/Users/dave-wadestein/Downloads/ADI-Reskilling-Academy',\n",
       " '/Users/dave-wadestein/opt/anaconda3/lib/python39.zip',\n",
       " '/Users/dave-wadestein/opt/anaconda3/lib/python3.9',\n",
       " '/Users/dave-wadestein/opt/anaconda3/lib/python3.9/lib-dynload',\n",
       " '/Users/dave-wadestein/opt/anaconda3/lib/python3.9/site-packages',\n",
       " '/Users/dave-wadestein/opt/anaconda3/lib/python3.9/site-packages/aeosa',\n",
       " 'C:\\\\ADI\\\\specific\\\\directory']"
      ]
     },
     "execution_count": 163,
     "metadata": {},
     "output_type": "execute_result"
    }
   ],
   "source": [
    "sys.path"
   ]
  },
  {
   "cell_type": "code",
   "execution_count": 164,
   "id": "e570461b-f2f2-4455-a223-b37aef157fe7",
   "metadata": {},
   "outputs": [
    {
     "name": "stdin",
     "output_type": "stream",
     "text": [
      "Enter a string:  quit\n"
     ]
    },
    {
     "name": "stdout",
     "output_type": "stream",
     "text": [
      "somethingsomethingsomethingsomething\n"
     ]
    }
   ],
   "source": [
    "import string2"
   ]
  },
  {
   "cell_type": "code",
   "execution_count": 165,
   "id": "f74624e1-c112-422a-9594-fc5eaa9d7b0e",
   "metadata": {},
   "outputs": [
    {
     "name": "stdout",
     "output_type": "stream",
     "text": [
      "/Users/dave-wadestein/Downloads/ADI-Reskilling-Academy/images\n"
     ]
    }
   ],
   "source": [
    "%cd images"
   ]
  },
  {
   "cell_type": "code",
   "execution_count": 1,
   "id": "ffc86f74-a924-45d7-9c76-6966e210afa8",
   "metadata": {},
   "outputs": [
    {
     "data": {
      "text/plain": [
       "'/Users/dave-wadestein/Downloads/ADI-Reskilling-Academy'"
      ]
     },
     "execution_count": 1,
     "metadata": {},
     "output_type": "execute_result"
    }
   ],
   "source": [
    "%pwd"
   ]
  },
  {
   "cell_type": "code",
   "execution_count": 2,
   "id": "b68104c8-79e2-4b78-a4fc-8f08b1ecabc3",
   "metadata": {},
   "outputs": [
    {
     "name": "stdout",
     "output_type": "stream",
     "text": [
      "/Users/dave-wadestein/Downloads/ADI-Reskilling-Academy/images\n"
     ]
    }
   ],
   "source": [
    "%cd images"
   ]
  },
  {
   "cell_type": "code",
   "execution_count": 4,
   "id": "faf70837-62f8-4463-a72d-c2b44fdded0c",
   "metadata": {},
   "outputs": [
    {
     "data": {
      "text/plain": [
       "['/Users/dave-wadestein/Downloads/ADI-Reskilling-Academy',\n",
       " '/Users/dave-wadestein/opt/anaconda3/lib/python39.zip',\n",
       " '/Users/dave-wadestein/opt/anaconda3/lib/python3.9',\n",
       " '/Users/dave-wadestein/opt/anaconda3/lib/python3.9/lib-dynload',\n",
       " '',\n",
       " '/Users/dave-wadestein/opt/anaconda3/lib/python3.9/site-packages',\n",
       " '/Users/dave-wadestein/opt/anaconda3/lib/python3.9/site-packages/aeosa']"
      ]
     },
     "execution_count": 4,
     "metadata": {},
     "output_type": "execute_result"
    }
   ],
   "source": [
    "import sys\n",
    "sys.path"
   ]
  },
  {
   "cell_type": "code",
   "execution_count": 6,
   "id": "5b36d2a9-543b-4d42-8389-acb002b06381",
   "metadata": {},
   "outputs": [
    {
     "name": "stdin",
     "output_type": "stream",
     "text": [
      "Enter a string:  quit\n"
     ]
    },
    {
     "name": "stdout",
     "output_type": "stream",
     "text": [
      "somethingsomethingsomethingsomething\n"
     ]
    }
   ],
   "source": [
    "import string2"
   ]
  },
  {
   "cell_type": "code",
   "execution_count": 1,
   "id": "a022150b-9ffc-44ed-90b7-5d4fd5e6d013",
   "metadata": {},
   "outputs": [],
   "source": [
    "import sys\n",
    "sys.path.remove('/Users/dave-wadestein/Downloads/ADI-Reskilling-Academy')"
   ]
  },
  {
   "cell_type": "code",
   "execution_count": 2,
   "id": "f07b7ceb-a604-456d-ab91-35387218ce81",
   "metadata": {},
   "outputs": [
    {
     "data": {
      "text/plain": [
       "['/Users/dave-wadestein/opt/anaconda3/lib/python39.zip',\n",
       " '/Users/dave-wadestein/opt/anaconda3/lib/python3.9',\n",
       " '/Users/dave-wadestein/opt/anaconda3/lib/python3.9/lib-dynload',\n",
       " '',\n",
       " '/Users/dave-wadestein/opt/anaconda3/lib/python3.9/site-packages',\n",
       " '/Users/dave-wadestein/opt/anaconda3/lib/python3.9/site-packages/aeosa']"
      ]
     },
     "execution_count": 2,
     "metadata": {},
     "output_type": "execute_result"
    }
   ],
   "source": [
    "sys.path"
   ]
  },
  {
   "cell_type": "code",
   "execution_count": 3,
   "id": "c722634f-b1b7-464f-a933-f3f87ff295a4",
   "metadata": {},
   "outputs": [
    {
     "data": {
      "text/plain": [
       "'/Users/dave-wadestein/Downloads/ADI-Reskilling-Academy'"
      ]
     },
     "execution_count": 3,
     "metadata": {},
     "output_type": "execute_result"
    }
   ],
   "source": [
    "%pwd"
   ]
  },
  {
   "cell_type": "code",
   "execution_count": 4,
   "id": "73828dde-5ddc-495a-9f51-adaaf931f996",
   "metadata": {},
   "outputs": [
    {
     "name": "stdout",
     "output_type": "stream",
     "text": [
      "/Users/dave-wadestein/Downloads/ADI-Reskilling-Academy/images\n"
     ]
    }
   ],
   "source": [
    "%cd images"
   ]
  },
  {
   "cell_type": "code",
   "execution_count": 5,
   "id": "29c089a7-93f5-45eb-be28-87024c6094aa",
   "metadata": {},
   "outputs": [
    {
     "ename": "ModuleNotFoundError",
     "evalue": "No module named 'string2'",
     "output_type": "error",
     "traceback": [
      "\u001b[0;31m---------------------------------------------------------------------------\u001b[0m",
      "\u001b[0;31mModuleNotFoundError\u001b[0m                       Traceback (most recent call last)",
      "Input \u001b[0;32mIn [5]\u001b[0m, in \u001b[0;36m<cell line: 1>\u001b[0;34m()\u001b[0m\n\u001b[0;32m----> 1\u001b[0m \u001b[38;5;28;01mimport\u001b[39;00m \u001b[38;5;21;01mstring2\u001b[39;00m\n",
      "\u001b[0;31mModuleNotFoundError\u001b[0m: No module named 'string2'"
     ]
    }
   ],
   "source": [
    "import string2"
   ]
  },
  {
   "cell_type": "code",
   "execution_count": 7,
   "id": "b4d15dda-98ab-455c-a2ac-a4f6b3917b49",
   "metadata": {},
   "outputs": [
    {
     "ename": "SyntaxError",
     "evalue": "invalid syntax (1156833636.py, line 1)",
     "output_type": "error",
     "traceback": [
      "\u001b[0;36m  Input \u001b[0;32mIn [7]\u001b[0;36m\u001b[0m\n\u001b[0;31m    import ...string2\u001b[0m\n\u001b[0m           ^\u001b[0m\n\u001b[0;31mSyntaxError\u001b[0m\u001b[0;31m:\u001b[0m invalid syntax\n"
     ]
    }
   ],
   "source": [
    "import ...string2"
   ]
  },
  {
   "cell_type": "code",
   "execution_count": 8,
   "id": "4e9db747-21af-46ff-ba68-a50a9f238a16",
   "metadata": {},
   "outputs": [],
   "source": [
    "sys.path.append('..')"
   ]
  },
  {
   "cell_type": "code",
   "execution_count": 10,
   "id": "d12bff41-ca2a-4bc6-a607-168029e23eeb",
   "metadata": {},
   "outputs": [
    {
     "data": {
      "text/plain": [
       "['/Users/dave-wadestein/opt/anaconda3/lib/python39.zip',\n",
       " '/Users/dave-wadestein/opt/anaconda3/lib/python3.9',\n",
       " '/Users/dave-wadestein/opt/anaconda3/lib/python3.9/lib-dynload',\n",
       " '',\n",
       " '/Users/dave-wadestein/opt/anaconda3/lib/python3.9/site-packages',\n",
       " '/Users/dave-wadestein/opt/anaconda3/lib/python3.9/site-packages/aeosa',\n",
       " '..']"
      ]
     },
     "execution_count": 10,
     "metadata": {},
     "output_type": "execute_result"
    }
   ],
   "source": [
    "sys.path"
   ]
  },
  {
   "cell_type": "code",
   "execution_count": 11,
   "id": "ac3384e8-7be0-4f6a-bc77-647b63bbf27d",
   "metadata": {},
   "outputs": [
    {
     "data": {
      "text/plain": [
       "'/Users/dave-wadestein/Downloads/ADI-Reskilling-Academy/images'"
      ]
     },
     "execution_count": 11,
     "metadata": {},
     "output_type": "execute_result"
    }
   ],
   "source": [
    "%pwd"
   ]
  },
  {
   "cell_type": "code",
   "execution_count": 12,
   "id": "111f1745-4d38-4ce5-9248-4a7012d7aa5c",
   "metadata": {},
   "outputs": [
    {
     "name": "stdin",
     "output_type": "stream",
     "text": [
      "Enter a string:  quit\n"
     ]
    },
    {
     "name": "stdout",
     "output_type": "stream",
     "text": [
      "somethingsomethingsomethingsomething\n"
     ]
    }
   ],
   "source": [
    "import string2"
   ]
  },
  {
   "cell_type": "code",
   "execution_count": 1,
   "id": "7818330a-0d78-481d-bfad-0e0c07958d7f",
   "metadata": {},
   "outputs": [
    {
     "data": {
      "text/plain": [
       "'/Users/dave-wadestein/Downloads/ADI-Reskilling-Academy'"
      ]
     },
     "execution_count": 1,
     "metadata": {},
     "output_type": "execute_result"
    }
   ],
   "source": [
    "%pwd"
   ]
  },
  {
   "cell_type": "code",
   "execution_count": 2,
   "id": "3514ed62-e67a-4ca7-bb88-f22341f6b7cf",
   "metadata": {},
   "outputs": [
    {
     "name": "stdout",
     "output_type": "stream",
     "text": [
      "/Users/dave-wadestein/Downloads/ADI-Reskilling-Academy/images\n"
     ]
    }
   ],
   "source": [
    "%cd images"
   ]
  },
  {
   "cell_type": "code",
   "execution_count": 4,
   "id": "a3ee00be-9998-4a38-b677-2d34ebcc4703",
   "metadata": {},
   "outputs": [
    {
     "data": {
      "text/plain": [
       "['/Users/dave-wadestein/Downloads/ADI-Reskilling-Academy',\n",
       " '/Users/dave-wadestein/opt/anaconda3/lib/python39.zip',\n",
       " '/Users/dave-wadestein/opt/anaconda3/lib/python3.9',\n",
       " '/Users/dave-wadestein/opt/anaconda3/lib/python3.9/lib-dynload',\n",
       " '',\n",
       " '/Users/dave-wadestein/opt/anaconda3/lib/python3.9/site-packages',\n",
       " '/Users/dave-wadestein/opt/anaconda3/lib/python3.9/site-packages/aeosa']"
      ]
     },
     "execution_count": 4,
     "metadata": {},
     "output_type": "execute_result"
    }
   ],
   "source": [
    "import sys\n",
    "sys.path"
   ]
  },
  {
   "cell_type": "code",
   "execution_count": 5,
   "id": "1efd8519-629c-40bd-a44d-342e876694ff",
   "metadata": {},
   "outputs": [],
   "source": [
    "sys.path.remove('/Users/dave-wadestein/Downloads/ADI-Reskilling-Academy')"
   ]
  },
  {
   "cell_type": "code",
   "execution_count": 6,
   "id": "0618946d-5158-49be-8af3-e3153b58aa38",
   "metadata": {},
   "outputs": [
    {
     "data": {
      "text/plain": [
       "['/Users/dave-wadestein/opt/anaconda3/lib/python39.zip',\n",
       " '/Users/dave-wadestein/opt/anaconda3/lib/python3.9',\n",
       " '/Users/dave-wadestein/opt/anaconda3/lib/python3.9/lib-dynload',\n",
       " '',\n",
       " '/Users/dave-wadestein/opt/anaconda3/lib/python3.9/site-packages',\n",
       " '/Users/dave-wadestein/opt/anaconda3/lib/python3.9/site-packages/aeosa']"
      ]
     },
     "execution_count": 6,
     "metadata": {},
     "output_type": "execute_result"
    }
   ],
   "source": [
    "sys.path"
   ]
  },
  {
   "cell_type": "code",
   "execution_count": 7,
   "id": "ad939816-4caf-4a4e-af07-7114aa824cad",
   "metadata": {},
   "outputs": [
    {
     "ename": "ModuleNotFoundError",
     "evalue": "No module named 'string2'",
     "output_type": "error",
     "traceback": [
      "\u001b[0;31m---------------------------------------------------------------------------\u001b[0m",
      "\u001b[0;31mModuleNotFoundError\u001b[0m                       Traceback (most recent call last)",
      "Input \u001b[0;32mIn [7]\u001b[0m, in \u001b[0;36m<cell line: 1>\u001b[0;34m()\u001b[0m\n\u001b[0;32m----> 1\u001b[0m \u001b[38;5;28;01mimport\u001b[39;00m \u001b[38;5;21;01mstring2\u001b[39;00m\n",
      "\u001b[0;31mModuleNotFoundError\u001b[0m: No module named 'string2'"
     ]
    }
   ],
   "source": [
    "import string2"
   ]
  },
  {
   "cell_type": "code",
   "execution_count": 8,
   "id": "2bb83314-944d-4dd1-92bb-595d0607b8aa",
   "metadata": {},
   "outputs": [
    {
     "ename": "ImportError",
     "evalue": "attempted relative import with no known parent package",
     "output_type": "error",
     "traceback": [
      "\u001b[0;31m---------------------------------------------------------------------------\u001b[0m",
      "\u001b[0;31mImportError\u001b[0m                               Traceback (most recent call last)",
      "Input \u001b[0;32mIn [8]\u001b[0m, in \u001b[0;36m<cell line: 1>\u001b[0;34m()\u001b[0m\n\u001b[0;32m----> 1\u001b[0m \u001b[38;5;28;01mfrom\u001b[39;00m \u001b[38;5;21;01m.\u001b[39;00m\u001b[38;5;21;01m.\u001b[39;00m \u001b[38;5;28;01mimport\u001b[39;00m string2\n",
      "\u001b[0;31mImportError\u001b[0m: attempted relative import with no known parent package"
     ]
    }
   ],
   "source": [
    "from .. import string2"
   ]
  },
  {
   "cell_type": "code",
   "execution_count": 10,
   "id": "81e9e168-16b1-426f-80a2-649180c061df",
   "metadata": {},
   "outputs": [
    {
     "name": "stdout",
     "output_type": "stream",
     "text": [
      "x is > 1\n"
     ]
    }
   ],
   "source": [
    "x = 2\n",
    "if x > 1:\n",
    "    print('x is > 1')"
   ]
  },
  {
   "cell_type": "code",
   "execution_count": 17,
   "id": "b705c8d3-0b11-4da8-a64e-a78f2a83c3c7",
   "metadata": {},
   "outputs": [],
   "source": [
    "my_list = [1, 2, 3]\n",
    "my_list.append(4)"
   ]
  },
  {
   "cell_type": "code",
   "execution_count": 12,
   "id": "db84b6e1-b350-4daf-be53-344f2ebef79c",
   "metadata": {},
   "outputs": [
    {
     "data": {
      "text/plain": [
       "list"
      ]
     },
     "execution_count": 12,
     "metadata": {},
     "output_type": "execute_result"
    }
   ],
   "source": [
    "type(my_list)"
   ]
  },
  {
   "cell_type": "code",
   "execution_count": 13,
   "id": "c345592c-4014-4702-9c1b-c14a9db1bd72",
   "metadata": {},
   "outputs": [
    {
     "data": {
      "text/plain": [
       "4303819424"
      ]
     },
     "execution_count": 13,
     "metadata": {},
     "output_type": "execute_result"
    }
   ],
   "source": [
    "id(list)"
   ]
  },
  {
   "cell_type": "code",
   "execution_count": 14,
   "id": "872244a8-4599-4a54-bee0-7bbe87086299",
   "metadata": {},
   "outputs": [
    {
     "data": {
      "text/plain": [
       "140213368367680"
      ]
     },
     "execution_count": 14,
     "metadata": {},
     "output_type": "execute_result"
    }
   ],
   "source": [
    "id(list.append)"
   ]
  },
  {
   "cell_type": "code",
   "execution_count": 15,
   "id": "39528288-d2ee-48dd-8289-875362c9bdcf",
   "metadata": {},
   "outputs": [
    {
     "data": {
      "text/plain": [
       "140213368368000"
      ]
     },
     "execution_count": 15,
     "metadata": {},
     "output_type": "execute_result"
    }
   ],
   "source": [
    "id(list.remove)"
   ]
  },
  {
   "cell_type": "code",
   "execution_count": 16,
   "id": "b986254b-7ab5-433c-bc74-e93d53907830",
   "metadata": {},
   "outputs": [
    {
     "data": {
      "text/plain": [
       "140213368368080"
      ]
     },
     "execution_count": 16,
     "metadata": {},
     "output_type": "execute_result"
    }
   ],
   "source": [
    "id(list.index)"
   ]
  },
  {
   "cell_type": "code",
   "execution_count": 18,
   "id": "f576c4bf-4c36-4995-b5ae-59efc05d3840",
   "metadata": {},
   "outputs": [
    {
     "data": {
      "text/plain": [
       "[1, 2, 3, 4]"
      ]
     },
     "execution_count": 18,
     "metadata": {},
     "output_type": "execute_result"
    }
   ],
   "source": [
    "my_list"
   ]
  },
  {
   "cell_type": "code",
   "execution_count": 19,
   "id": "f3f85750-1c8b-464f-a6b6-f90e7c689d95",
   "metadata": {},
   "outputs": [
    {
     "data": {
      "text/plain": [
       "1"
      ]
     },
     "execution_count": 19,
     "metadata": {},
     "output_type": "execute_result"
    }
   ],
   "source": [
    "my_list.count(3)"
   ]
  },
  {
   "cell_type": "code",
   "execution_count": 23,
   "id": "361b5643-e739-4c08-b0ec-078290ddd334",
   "metadata": {},
   "outputs": [],
   "source": [
    "car = {\n",
    "    'make' : 'Tesla',\n",
    "    'model' : '3',\n",
    "    'year' : 2019,\n",
    "    'mileage' : 32102,\n",
    "    'status': 'rented',\n",
    "    'VIN': '5YJ42561',\n",
    "    'phone #': '',\n",
    "}"
   ]
  },
  {
   "cell_type": "code",
   "execution_count": 24,
   "id": "b716a1e4-6150-4e96-9267-ebb1fd11b26e",
   "metadata": {},
   "outputs": [],
   "source": [
    "num = 2"
   ]
  },
  {
   "cell_type": "code",
   "execution_count": 26,
   "id": "03b30239-43e9-43b1-b7cf-a20971913380",
   "metadata": {},
   "outputs": [
    {
     "name": "stdout",
     "output_type": "stream",
     "text": [
      "<class 'int'>\n"
     ]
    }
   ],
   "source": [
    "print(type(num))"
   ]
  },
  {
   "cell_type": "code",
   "execution_count": 27,
   "id": "dfa9ba75-5eb4-4f1e-9e26-da2680ca4d3d",
   "metadata": {},
   "outputs": [],
   "source": [
    "ThisThing = 2"
   ]
  },
  {
   "cell_type": "code",
   "execution_count": 28,
   "id": "d797aa13-ff7a-4544-8789-222e539b54aa",
   "metadata": {},
   "outputs": [],
   "source": [
    "this_thing = 2"
   ]
  },
  {
   "cell_type": "code",
   "execution_count": 1,
   "id": "ff29534d-dd53-4597-9cdd-dc037a7af8ec",
   "metadata": {},
   "outputs": [],
   "source": [
    "from bank import BankAccount"
   ]
  },
  {
   "cell_type": "code",
   "execution_count": 2,
   "id": "a786f869-19bf-4cfb-a0b3-abb68a040f0c",
   "metadata": {},
   "outputs": [
    {
     "name": "stdout",
     "output_type": "stream",
     "text": [
      "in __init__\n"
     ]
    }
   ],
   "source": [
    "account = BankAccount('Bruce Lee', 250)"
   ]
  },
  {
   "cell_type": "code",
   "execution_count": 3,
   "id": "532f2c04-48db-4173-aa65-47bac689e7f5",
   "metadata": {},
   "outputs": [
    {
     "data": {
      "text/plain": [
       "<bank.BankAccount at 0x7f7ad86f0e80>"
      ]
     },
     "execution_count": 3,
     "metadata": {},
     "output_type": "execute_result"
    }
   ],
   "source": [
    "account"
   ]
  },
  {
   "cell_type": "code",
   "execution_count": 4,
   "id": "75761479-c1ff-4fb7-8e24-daeb50b91920",
   "metadata": {},
   "outputs": [
    {
     "data": {
      "text/plain": [
       "bank.BankAccount"
      ]
     },
     "execution_count": 4,
     "metadata": {},
     "output_type": "execute_result"
    }
   ],
   "source": [
    "type(account)"
   ]
  },
  {
   "cell_type": "code",
   "execution_count": 7,
   "id": "69dd874b-3c83-4a47-8668-d02c8d648ef2",
   "metadata": {},
   "outputs": [],
   "source": [
    "class Person: # brand new type that I created\n",
    "    pass # this is here b/c I must have 1+ lines of code in my class or type"
   ]
  },
  {
   "cell_type": "code",
   "execution_count": 8,
   "id": "500ec776-4b19-40b8-884a-08b35de259fd",
   "metadata": {},
   "outputs": [],
   "source": [
    "p = Person()"
   ]
  },
  {
   "cell_type": "code",
   "execution_count": 9,
   "id": "bc17584c-b389-4265-b3ae-6b68bf95d6af",
   "metadata": {},
   "outputs": [
    {
     "data": {
      "text/plain": [
       "__main__.Person"
      ]
     },
     "execution_count": 9,
     "metadata": {},
     "output_type": "execute_result"
    }
   ],
   "source": [
    "type(p)"
   ]
  },
  {
   "cell_type": "code",
   "execution_count": 10,
   "id": "19d0f572-991c-4d42-9f24-e2b93052f07b",
   "metadata": {},
   "outputs": [],
   "source": [
    "a = 4"
   ]
  },
  {
   "cell_type": "code",
   "execution_count": 11,
   "id": "f83189fd-cf1a-450c-9b84-bff3327cc4f2",
   "metadata": {},
   "outputs": [
    {
     "data": {
      "text/plain": [
       "4"
      ]
     },
     "execution_count": 11,
     "metadata": {},
     "output_type": "execute_result"
    }
   ],
   "source": [
    "a"
   ]
  },
  {
   "cell_type": "code",
   "execution_count": 1,
   "id": "be8f2a7e-2006-482e-a15e-64487a7b92e4",
   "metadata": {},
   "outputs": [],
   "source": [
    "class Person: # brand new type that I created\n",
    "    def __init__(self, name):\n",
    "        self.name = name\n",
    "        print('__init__')"
   ]
  },
  {
   "cell_type": "code",
   "execution_count": 2,
   "id": "9dab277c-b37f-4ad3-9992-efcba8077041",
   "metadata": {},
   "outputs": [
    {
     "ename": "TypeError",
     "evalue": "__init__() missing 1 required positional argument: 'name'",
     "output_type": "error",
     "traceback": [
      "\u001b[0;31m---------------------------------------------------------------------------\u001b[0m",
      "\u001b[0;31mTypeError\u001b[0m                                 Traceback (most recent call last)",
      "Input \u001b[0;32mIn [2]\u001b[0m, in \u001b[0;36m<cell line: 1>\u001b[0;34m()\u001b[0m\n\u001b[0;32m----> 1\u001b[0m p \u001b[38;5;241m=\u001b[39m \u001b[43mPerson\u001b[49m\u001b[43m(\u001b[49m\u001b[43m)\u001b[49m\n",
      "\u001b[0;31mTypeError\u001b[0m: __init__() missing 1 required positional argument: 'name'"
     ]
    }
   ],
   "source": [
    "p = Person()"
   ]
  },
  {
   "cell_type": "code",
   "execution_count": 3,
   "id": "e412580a-df70-448f-acee-3af8f4a0c938",
   "metadata": {},
   "outputs": [
    {
     "name": "stdout",
     "output_type": "stream",
     "text": [
      "__init__\n"
     ]
    }
   ],
   "source": [
    "p = Person('Bruce Lee')"
   ]
  },
  {
   "cell_type": "code",
   "execution_count": 5,
   "id": "10bf65cb-2e3a-4470-b531-f0b12755f031",
   "metadata": {},
   "outputs": [
    {
     "data": {
      "text/plain": [
       "{'name': 'Bruce Lee'}"
      ]
     },
     "execution_count": 5,
     "metadata": {},
     "output_type": "execute_result"
    }
   ],
   "source": [
    "vars(p)"
   ]
  },
  {
   "cell_type": "code",
   "execution_count": 4,
   "id": "0c91e512-6680-498c-8009-037b290bd647",
   "metadata": {},
   "outputs": [
    {
     "data": {
      "text/plain": [
       "'Bruce Lee'"
      ]
     },
     "execution_count": 4,
     "metadata": {},
     "output_type": "execute_result"
    }
   ],
   "source": [
    "p.name"
   ]
  },
  {
   "cell_type": "code",
   "execution_count": 7,
   "id": "b78ea3db-a6da-4612-a9b1-d99c097e325c",
   "metadata": {},
   "outputs": [],
   "source": [
    "p.new_field = 'something'"
   ]
  },
  {
   "cell_type": "code",
   "execution_count": 8,
   "id": "55bf4f60-0611-4132-a919-180a330f641b",
   "metadata": {},
   "outputs": [
    {
     "data": {
      "text/plain": [
       "{'name': 'Bruce Lee', 'new_field': 'something'}"
      ]
     },
     "execution_count": 8,
     "metadata": {},
     "output_type": "execute_result"
    }
   ],
   "source": [
    "vars(p)"
   ]
  },
  {
   "cell_type": "code",
   "execution_count": 9,
   "id": "5ad0c54f-12fc-4c14-92a4-c9bc74f06749",
   "metadata": {},
   "outputs": [
    {
     "name": "stdout",
     "output_type": "stream",
     "text": [
      "__init__\n"
     ]
    }
   ],
   "source": [
    "p2 = Person('Carlos Flores')"
   ]
  },
  {
   "cell_type": "code",
   "execution_count": 11,
   "id": "de0b2d49-0823-4ed3-9a9d-d3d8eca72028",
   "metadata": {},
   "outputs": [
    {
     "data": {
      "text/plain": [
       "{'name': 'Carlos Flores'}"
      ]
     },
     "execution_count": 11,
     "metadata": {},
     "output_type": "execute_result"
    }
   ],
   "source": [
    "vars(p2)"
   ]
  },
  {
   "cell_type": "code",
   "execution_count": 1,
   "id": "0177c96a-ae4b-489d-93a9-0f13b7bf5c32",
   "metadata": {},
   "outputs": [],
   "source": [
    "mylist = []"
   ]
  },
  {
   "cell_type": "code",
   "execution_count": 2,
   "id": "e54b0fec-56f1-4260-8f70-25156dd09e65",
   "metadata": {},
   "outputs": [],
   "source": [
    "mylist.append('Matt')"
   ]
  },
  {
   "cell_type": "code",
   "execution_count": 3,
   "id": "cd04d291-3925-4017-b181-c87d0aff3bc3",
   "metadata": {},
   "outputs": [
    {
     "data": {
      "text/plain": [
       "['Matt']"
      ]
     },
     "execution_count": 3,
     "metadata": {},
     "output_type": "execute_result"
    }
   ],
   "source": [
    "mylist"
   ]
  },
  {
   "cell_type": "code",
   "execution_count": 4,
   "id": "f778358f-11ae-45e8-85c1-6ba46f317697",
   "metadata": {},
   "outputs": [],
   "source": [
    "list.append(mylist, 'Simon')"
   ]
  },
  {
   "cell_type": "code",
   "execution_count": 5,
   "id": "8f138e8f-7820-42df-8aba-5a4954c0a3a4",
   "metadata": {},
   "outputs": [
    {
     "data": {
      "text/plain": [
       "['Matt', 'Simon']"
      ]
     },
     "execution_count": 5,
     "metadata": {},
     "output_type": "execute_result"
    }
   ],
   "source": [
    "mylist"
   ]
  },
  {
   "cell_type": "code",
   "execution_count": 6,
   "id": "cbae564d-98b5-46b0-aecb-d16f54f4f3ab",
   "metadata": {},
   "outputs": [
    {
     "data": {
      "text/plain": [
       "'foo'"
      ]
     },
     "execution_count": 6,
     "metadata": {},
     "output_type": "execute_result"
    }
   ],
   "source": [
    "str('foo')"
   ]
  },
  {
   "cell_type": "code",
   "execution_count": 7,
   "id": "241e5fc3-9e7a-4330-bc7f-df598804f2b5",
   "metadata": {},
   "outputs": [
    {
     "data": {
      "text/plain": [
       "'34'"
      ]
     },
     "execution_count": 7,
     "metadata": {},
     "output_type": "execute_result"
    }
   ],
   "source": [
    "str(34) # ... __str__()"
   ]
  },
  {
   "cell_type": "code",
   "execution_count": 8,
   "id": "adc82d2f-67f8-4208-9f1b-c6e06d9a868d",
   "metadata": {},
   "outputs": [
    {
     "data": {
      "text/plain": [
       "'34'"
      ]
     },
     "execution_count": 8,
     "metadata": {},
     "output_type": "execute_result"
    }
   ],
   "source": [
    "int.__str__(34)"
   ]
  },
  {
   "cell_type": "code",
   "execution_count": 9,
   "id": "0c27ee13-a6b3-40dd-aa43-1b9283c7a086",
   "metadata": {},
   "outputs": [
    {
     "data": {
      "text/plain": [
       "'foo'"
      ]
     },
     "execution_count": 9,
     "metadata": {},
     "output_type": "execute_result"
    }
   ],
   "source": [
    "'foo'.__str__()"
   ]
  },
  {
   "cell_type": "code",
   "execution_count": 10,
   "id": "f08fea9d-1c72-4803-b33c-33359f6688bb",
   "metadata": {},
   "outputs": [
    {
     "data": {
      "text/plain": [
       "'[1, 2, 3]'"
      ]
     },
     "execution_count": 10,
     "metadata": {},
     "output_type": "execute_result"
    }
   ],
   "source": [
    "[1, 2, 3].__str__()"
   ]
  },
  {
   "cell_type": "code",
   "execution_count": 11,
   "id": "c4ef725c-d43d-46cd-910a-f90b06c8b2e0",
   "metadata": {},
   "outputs": [
    {
     "data": {
      "text/plain": [
       "'[1, 2, 3]'"
      ]
     },
     "execution_count": 11,
     "metadata": {},
     "output_type": "execute_result"
    }
   ],
   "source": [
    "str([1, 2, 3])"
   ]
  },
  {
   "cell_type": "code",
   "execution_count": 12,
   "id": "d1353758-bd6f-45db-947e-4909819c411a",
   "metadata": {},
   "outputs": [
    {
     "data": {
      "text/plain": [
       "8"
      ]
     },
     "execution_count": 12,
     "metadata": {},
     "output_type": "execute_result"
    }
   ],
   "source": [
    "len('a string') # works for any container"
   ]
  },
  {
   "cell_type": "code",
   "execution_count": 13,
   "id": "c4a628c4-963a-4cc3-8a53-91a4c0987b8e",
   "metadata": {},
   "outputs": [
    {
     "data": {
      "text/plain": [
       "8"
      ]
     },
     "execution_count": 13,
     "metadata": {},
     "output_type": "execute_result"
    }
   ],
   "source": [
    "'a string'.__len__() # ask the specific container what it's length is or how to compute it"
   ]
  },
  {
   "cell_type": "code",
   "execution_count": 14,
   "id": "daee4310-289a-4cd9-a528-af547e0150c3",
   "metadata": {},
   "outputs": [
    {
     "data": {
      "text/plain": [
       "4"
      ]
     },
     "execution_count": 14,
     "metadata": {},
     "output_type": "execute_result"
    }
   ],
   "source": [
    "[1, 2, 3, 4].__len__()"
   ]
  },
  {
   "cell_type": "code",
   "execution_count": 15,
   "id": "f8aceb9e-2417-4607-89dd-4df214604e26",
   "metadata": {},
   "outputs": [
    {
     "data": {
      "text/plain": [
       "6"
      ]
     },
     "execution_count": 15,
     "metadata": {},
     "output_type": "execute_result"
    }
   ],
   "source": [
    "2 + 4"
   ]
  },
  {
   "cell_type": "code",
   "execution_count": 16,
   "id": "e690c6fa-f26b-4d75-a878-c4bf66b843d9",
   "metadata": {},
   "outputs": [
    {
     "data": {
      "text/plain": [
       "'24'"
      ]
     },
     "execution_count": 16,
     "metadata": {},
     "output_type": "execute_result"
    }
   ],
   "source": [
    "'2' + '4'"
   ]
  },
  {
   "cell_type": "code",
   "execution_count": 17,
   "id": "155a0529-d3fd-4802-80e3-494e5ceef0da",
   "metadata": {},
   "outputs": [
    {
     "data": {
      "text/plain": [
       "6"
      ]
     },
     "execution_count": 17,
     "metadata": {},
     "output_type": "execute_result"
    }
   ],
   "source": [
    "int.__add__(2, 4)"
   ]
  },
  {
   "cell_type": "code",
   "execution_count": 18,
   "id": "5e1ad143-aaed-4f70-aa76-ac48d4fbf70b",
   "metadata": {},
   "outputs": [
    {
     "data": {
      "text/plain": [
       "'24'"
      ]
     },
     "execution_count": 18,
     "metadata": {},
     "output_type": "execute_result"
    }
   ],
   "source": [
    "str.__add__('2', '4')"
   ]
  },
  {
   "cell_type": "code",
   "execution_count": 19,
   "id": "aaf554b1-7901-453a-9e36-3785cada0e67",
   "metadata": {},
   "outputs": [
    {
     "data": {
      "text/plain": [
       "[1, 2, 3, 4]"
      ]
     },
     "execution_count": 19,
     "metadata": {},
     "output_type": "execute_result"
    }
   ],
   "source": [
    "list.__add__([1, 2, 3], [4])"
   ]
  },
  {
   "cell_type": "code",
   "execution_count": 20,
   "id": "9442b096-48a2-492c-b641-d45e0d236cb6",
   "metadata": {},
   "outputs": [
    {
     "ename": "TypeError",
     "evalue": "unsupported operand type(s) for +: 'dict' and 'dict'",
     "output_type": "error",
     "traceback": [
      "\u001b[0;31m---------------------------------------------------------------------------\u001b[0m",
      "\u001b[0;31mTypeError\u001b[0m                                 Traceback (most recent call last)",
      "Input \u001b[0;32mIn [20]\u001b[0m, in \u001b[0;36m<cell line: 1>\u001b[0;34m()\u001b[0m\n\u001b[0;32m----> 1\u001b[0m \u001b[43m{\u001b[49m\u001b[43m}\u001b[49m\u001b[43m \u001b[49m\u001b[38;5;241;43m+\u001b[39;49m\u001b[43m \u001b[49m\u001b[43m{\u001b[49m\u001b[43m}\u001b[49m\n",
      "\u001b[0;31mTypeError\u001b[0m: unsupported operand type(s) for +: 'dict' and 'dict'"
     ]
    }
   ],
   "source": [
    "{} + {}"
   ]
  },
  {
   "cell_type": "code",
   "execution_count": 21,
   "id": "37d681b9-6c6f-4c29-8d6a-c626e221078d",
   "metadata": {},
   "outputs": [
    {
     "data": {
      "text/plain": [
       "'4'"
      ]
     },
     "execution_count": 21,
     "metadata": {},
     "output_type": "execute_result"
    }
   ],
   "source": [
    "str(4)"
   ]
  },
  {
   "cell_type": "code",
   "execution_count": 22,
   "id": "67e93942-ec1f-4a4c-9d95-c24ee3cfc9ab",
   "metadata": {},
   "outputs": [
    {
     "data": {
      "text/plain": [
       "'4'"
      ]
     },
     "execution_count": 22,
     "metadata": {},
     "output_type": "execute_result"
    }
   ],
   "source": [
    "repr(4)"
   ]
  },
  {
   "cell_type": "code",
   "execution_count": 23,
   "id": "15bebec0-a1a0-4274-8ad4-de32b51c187c",
   "metadata": {},
   "outputs": [
    {
     "data": {
      "text/plain": [
       "'x'"
      ]
     },
     "execution_count": 23,
     "metadata": {},
     "output_type": "execute_result"
    }
   ],
   "source": [
    "str('x')"
   ]
  },
  {
   "cell_type": "code",
   "execution_count": 24,
   "id": "089aaa3f-0f25-4b5e-95f0-12e335e29d37",
   "metadata": {},
   "outputs": [
    {
     "data": {
      "text/plain": [
       "\"'x'\""
      ]
     },
     "execution_count": 24,
     "metadata": {},
     "output_type": "execute_result"
    }
   ],
   "source": [
    "repr('x')"
   ]
  },
  {
   "cell_type": "code",
   "execution_count": 25,
   "id": "914db304-2ac7-49d3-b11d-9352b8f26040",
   "metadata": {},
   "outputs": [],
   "source": [
    "import datetime"
   ]
  },
  {
   "cell_type": "code",
   "execution_count": 31,
   "id": "46b3cd6b-92c3-478b-ba09-2a925c32fd76",
   "metadata": {},
   "outputs": [],
   "source": [
    "# module.datatype (e.g., bank.BankAccount)\n",
    "now = datetime.datetime.now()"
   ]
  },
  {
   "cell_type": "code",
   "execution_count": 32,
   "id": "e7a25f06-a472-4d81-a950-3132cd14a488",
   "metadata": {},
   "outputs": [
    {
     "data": {
      "text/plain": [
       "datetime.datetime(2022, 8, 8, 16, 34, 47, 493908)"
      ]
     },
     "execution_count": 32,
     "metadata": {},
     "output_type": "execute_result"
    }
   ],
   "source": [
    "now # repr() => __repr__() ... a machine readable version of the object"
   ]
  },
  {
   "cell_type": "code",
   "execution_count": 33,
   "id": "5c67f26d-65d3-4e26-b12b-6e073a3c12e8",
   "metadata": {},
   "outputs": [
    {
     "name": "stdout",
     "output_type": "stream",
     "text": [
      "2022-08-08 16:34:47.493908\n"
     ]
    }
   ],
   "source": [
    "print(now) # str() => __str__() ... a human readable version of the object"
   ]
  },
  {
   "cell_type": "code",
   "execution_count": 34,
   "id": "ad79f802-4f9c-48d1-8a54-bd0f66b4cac1",
   "metadata": {},
   "outputs": [],
   "source": [
    "string = 'Swaraj'"
   ]
  },
  {
   "cell_type": "code",
   "execution_count": 35,
   "id": "31fd8adf-2fec-4fb6-b87f-e385e2849683",
   "metadata": {},
   "outputs": [
    {
     "name": "stdout",
     "output_type": "stream",
     "text": [
      "Swaraj\n"
     ]
    }
   ],
   "source": [
    "print(string) # str() => __str__()"
   ]
  },
  {
   "cell_type": "code",
   "execution_count": 36,
   "id": "5120f2c9-6cd1-4d10-b0b3-99e7f20ea8c0",
   "metadata": {},
   "outputs": [
    {
     "data": {
      "text/plain": [
       "'Swaraj'"
      ]
     },
     "execution_count": 36,
     "metadata": {},
     "output_type": "execute_result"
    }
   ],
   "source": [
    "string # repr() => __repr__()"
   ]
  },
  {
   "cell_type": "code",
   "execution_count": 37,
   "id": "3127b4d2-a66d-43fc-88e2-605ef2fd2068",
   "metadata": {},
   "outputs": [],
   "source": [
    "import datetime"
   ]
  },
  {
   "cell_type": "code",
   "execution_count": 38,
   "id": "612f8019-e465-4ece-99d2-5ebcc16b5576",
   "metadata": {},
   "outputs": [
    {
     "data": {
      "text/plain": [
       "'/Users/dave-wadestein/opt/anaconda3/lib/python3.9/datetime.py'"
      ]
     },
     "execution_count": 38,
     "metadata": {},
     "output_type": "execute_result"
    }
   ],
   "source": [
    "datetime.__file__"
   ]
  },
  {
   "cell_type": "markdown",
   "id": "4672ba01-0f00-4381-8c45-b014079c052f",
   "metadata": {},
   "source": [
    "# Git Bash reminder\n",
    "* go to https://github.com/davewadestein/ADI-Reskilling-Academy (the README) for details\n",
    "* later this week we will be covering Git, so please have Git bash"
   ]
  },
  {
   "cell_type": "code",
   "execution_count": 56,
   "id": "7ec7a592-a18e-4b52-98d6-377f2477d3dd",
   "metadata": {},
   "outputs": [],
   "source": [
    "d = { 'Joe': 23, 'Gloria': 17 }"
   ]
  },
  {
   "cell_type": "code",
   "execution_count": 57,
   "id": "7bd82249-b3be-4557-95f7-485b33fc1361",
   "metadata": {},
   "outputs": [],
   "source": [
    "pos = d.pop('Joe')"
   ]
  },
  {
   "cell_type": "code",
   "execution_count": 58,
   "id": "175b580a-a961-43e3-96c6-9a5c78585ca0",
   "metadata": {},
   "outputs": [
    {
     "data": {
      "text/plain": [
       "23"
      ]
     },
     "execution_count": 58,
     "metadata": {},
     "output_type": "execute_result"
    }
   ],
   "source": [
    "pos"
   ]
  },
  {
   "cell_type": "code",
   "execution_count": 59,
   "id": "d8ee281a-3804-4328-a177-489099818225",
   "metadata": {},
   "outputs": [
    {
     "data": {
      "text/plain": [
       "{'Gloria': 17}"
      ]
     },
     "execution_count": 59,
     "metadata": {},
     "output_type": "execute_result"
    }
   ],
   "source": [
    "d"
   ]
  },
  {
   "cell_type": "code",
   "execution_count": 60,
   "id": "1ec4ddaf-625a-48d7-b6e8-5b9034c97244",
   "metadata": {},
   "outputs": [],
   "source": [
    "players = 'Joe Gloria'.split()"
   ]
  },
  {
   "cell_type": "code",
   "execution_count": 61,
   "id": "8acea777-57a6-404c-8cd3-9a0c83352d19",
   "metadata": {},
   "outputs": [],
   "source": [
    "positions = [23, 17]"
   ]
  },
  {
   "cell_type": "code",
   "execution_count": 62,
   "id": "5743149a-1413-4796-9e65-b60b7593dc9a",
   "metadata": {},
   "outputs": [],
   "source": [
    "players[0] = 'Dave'"
   ]
  },
  {
   "cell_type": "code",
   "execution_count": 63,
   "id": "0cdc095f-51e8-41b2-9ac6-82639dcb72f8",
   "metadata": {},
   "outputs": [
    {
     "data": {
      "text/plain": [
       "['Dave', 'Gloria']"
      ]
     },
     "execution_count": 63,
     "metadata": {},
     "output_type": "execute_result"
    }
   ],
   "source": [
    "players"
   ]
  },
  {
   "cell_type": "code",
   "execution_count": 64,
   "id": "b19925e9-9f9d-45f9-b987-b5e0763698c2",
   "metadata": {},
   "outputs": [
    {
     "data": {
      "text/plain": [
       "[23, 17]"
      ]
     },
     "execution_count": 64,
     "metadata": {},
     "output_type": "execute_result"
    }
   ],
   "source": [
    "positions"
   ]
  },
  {
   "cell_type": "code",
   "execution_count": 66,
   "id": "159160dc-1d20-4aef-a176-8470155342f7",
   "metadata": {},
   "outputs": [
    {
     "data": {
      "text/plain": [
       "['Joe', 'Gloria', 'Carlos']"
      ]
     },
     "execution_count": 66,
     "metadata": {},
     "output_type": "execute_result"
    }
   ],
   "source": [
    "current_player = 1\n",
    "new_key = 'Janice'\n",
    "d = { 'Joe': 3, 'Gloria': 4, 'Carlos': 6}\n",
    "players = list(d.keys())\n",
    "players"
   ]
  },
  {
   "cell_type": "code",
   "execution_count": 67,
   "id": "80fbc0ba-75f6-483e-b3e8-81209bc26bd8",
   "metadata": {},
   "outputs": [
    {
     "data": {
      "text/plain": [
       "['Joe', 'Janice', 'Carlos']"
      ]
     },
     "execution_count": 67,
     "metadata": {},
     "output_type": "execute_result"
    }
   ],
   "source": [
    "players[current_player] = new_key\n",
    "players"
   ]
  },
  {
   "cell_type": "code",
   "execution_count": 68,
   "id": "4f82376c-c82d-4991-95ca-c72223ad7542",
   "metadata": {},
   "outputs": [
    {
     "data": {
      "text/plain": [
       "[3, 4, 6]"
      ]
     },
     "execution_count": 68,
     "metadata": {},
     "output_type": "execute_result"
    }
   ],
   "source": [
    "list(d.values())"
   ]
  },
  {
   "cell_type": "code",
   "execution_count": 69,
   "id": "e1a69c6f-64f3-47f7-91c0-5ab4c72d406a",
   "metadata": {},
   "outputs": [
    {
     "data": {
      "text/plain": [
       "{'Joe': 3, 'Janice': 4, 'Carlos': 6}"
      ]
     },
     "execution_count": 69,
     "metadata": {},
     "output_type": "execute_result"
    }
   ],
   "source": [
    "dict(zip(players, list(d.values())))"
   ]
  },
  {
   "cell_type": "code",
   "execution_count": 74,
   "id": "69642a99-4a54-43d0-9446-3a046f50b99b",
   "metadata": {},
   "outputs": [
    {
     "name": "stdout",
     "output_type": "stream",
     "text": [
      "{'Joe': 3}\n",
      "{'Joe': 3, 'Janice': 4}\n",
      "{'Joe': 3, 'Janice': 4, 'Carlos': 6}\n"
     ]
    }
   ],
   "source": [
    "new_dict = {}\n",
    "for key, value in zip(players, list(d.values())):\n",
    "    new_dict[key] = value\n",
    "    print(new_dict)"
   ]
  },
  {
   "cell_type": "code",
   "execution_count": 71,
   "id": "c4030870-19f5-4141-a632-beac12ead30a",
   "metadata": {},
   "outputs": [
    {
     "data": {
      "text/plain": [
       "{'Joe': 3, 'Janice': 4, 'Carlos': 6}"
      ]
     },
     "execution_count": 71,
     "metadata": {},
     "output_type": "execute_result"
    }
   ],
   "source": [
    "new_dict"
   ]
  },
  {
   "cell_type": "code",
   "execution_count": 72,
   "id": "7d735736-2597-4f63-8715-346902cfe3a9",
   "metadata": {},
   "outputs": [],
   "source": [
    "new_dict = {key: value for key, value in zip(players, list(d.values()))}"
   ]
  },
  {
   "cell_type": "code",
   "execution_count": 73,
   "id": "03f72aad-21ec-41ab-876d-a91afd86a128",
   "metadata": {},
   "outputs": [
    {
     "data": {
      "text/plain": [
       "{'Joe': 3, 'Janice': 4, 'Carlos': 6}"
      ]
     },
     "execution_count": 73,
     "metadata": {},
     "output_type": "execute_result"
    }
   ],
   "source": [
    "new_dict"
   ]
  },
  {
   "cell_type": "code",
   "execution_count": 75,
   "id": "f41a0e4f-69c3-4f22-be6a-2c5257cf549b",
   "metadata": {},
   "outputs": [],
   "source": [
    "#with open('output.txt', 'w') as outfile:\n",
    "save_info = f'*** Chutes and Ladders saved game ***\\n{current_player}\\n'"
   ]
  },
  {
   "cell_type": "code",
   "execution_count": 77,
   "id": "622f2b23-e884-4eb0-a269-fae5d63ffae0",
   "metadata": {},
   "outputs": [
    {
     "name": "stdout",
     "output_type": "stream",
     "text": [
      "*** Chutes and Ladders saved game ***\n",
      "1\n",
      "\n"
     ]
    }
   ],
   "source": [
    "print(save_info)"
   ]
  },
  {
   "cell_type": "code",
   "execution_count": 78,
   "id": "6e53356a-1af0-427c-becf-03760970ce2d",
   "metadata": {},
   "outputs": [],
   "source": [
    "for player in new_dict:\n",
    "    save_info += f'{new_dict[player]} {player}\\n'"
   ]
  },
  {
   "cell_type": "code",
   "execution_count": 79,
   "id": "d9c9fd27-5a0b-4cdb-8dc7-51d47c5cc171",
   "metadata": {},
   "outputs": [
    {
     "name": "stdout",
     "output_type": "stream",
     "text": [
      "*** Chutes and Ladders saved game ***\n",
      "1\n",
      "3 Joe\n",
      "4 Janice\n",
      "6 Carlos\n",
      "\n"
     ]
    }
   ],
   "source": [
    "print(save_info)"
   ]
  },
  {
   "cell_type": "code",
   "execution_count": 80,
   "id": "a5fd8355-8911-410a-bb62-30e17ddb9b66",
   "metadata": {},
   "outputs": [],
   "source": [
    "with open('output.txt', 'w') as outfile:\n",
    "    print(save_info, file=outfile)"
   ]
  },
  {
   "cell_type": "code",
   "execution_count": 81,
   "id": "6702b803-5caf-4515-9e9d-c0d220ef3f66",
   "metadata": {},
   "outputs": [
    {
     "data": {
      "text/plain": [
       "True"
      ]
     },
     "execution_count": 81,
     "metadata": {},
     "output_type": "execute_result"
    }
   ],
   "source": [
    "outfile.closed"
   ]
  },
  {
   "cell_type": "code",
   "execution_count": 82,
   "id": "02d66e39-4e1f-498f-b06e-e71b73d73f71",
   "metadata": {},
   "outputs": [
    {
     "data": {
      "text/plain": [
       "'\\n*** Chutes and Ladders saved game ***\\n1\\n3 Joe\\n4 Janice\\n6 Carlos\\n'"
      ]
     },
     "execution_count": 82,
     "metadata": {},
     "output_type": "execute_result"
    }
   ],
   "source": [
    "\"\"\"\n",
    "*** Chutes and Ladders saved game ***\n",
    "1\n",
    "3 Joe\n",
    "4 Janice\n",
    "6 Carlos\n",
    "\"\"\""
   ]
  },
  {
   "cell_type": "code",
   "execution_count": 119,
   "id": "550cf1e2-96fd-45c6-884f-786334e14efd",
   "metadata": {},
   "outputs": [],
   "source": [
    "def restore_game():\n",
    "    with open('output.txt') as infile:\n",
    "        if infile.readline() != '*** Chutes and Ladders saved game ***\\n':\n",
    "            print('this does not seem to be a saved game')\n",
    "            return\n",
    "        # if we got here, this seems to be a saved game and we'll parse it...\n",
    "        try:\n",
    "            line = infile.readline()\n",
    "            next_player = int(line)\n",
    "        except ValueError:\n",
    "            print(f'Tried to find index of next player and got \"{line}\"')\n",
    "            return\n",
    "        # if we got here, we were able to parse the next player\n",
    "        player_pos = {}\n",
    "        for line in infile: # Python's natural iteration thru files\n",
    "            words_on_line = line.strip().split()\n",
    "            player_pos[' '.join(words_on_line[:-1])] = int(words_on_line[-1])\n",
    "        \n",
    "        return player_pos"
   ]
  },
  {
   "cell_type": "code",
   "execution_count": 120,
   "id": "46601dc9-b6d1-4dce-8260-b7cf77e6fb1c",
   "metadata": {},
   "outputs": [
    {
     "name": "stdout",
     "output_type": "stream",
     "text": [
      "{'Joe': 3, 'Janice Woods': 4, 'Carlos Flores': 6, 'Greatest Chutes & Ladders Player!': 13}\n"
     ]
    }
   ],
   "source": [
    "print(restore_game())"
   ]
  },
  {
   "cell_type": "code",
   "execution_count": 96,
   "id": "33715c93-dc1c-4257-b424-d15276e354db",
   "metadata": {},
   "outputs": [
    {
     "ename": "ValueError",
     "evalue": "invalid literal for int() with base 10: '1x\\n'",
     "output_type": "error",
     "traceback": [
      "\u001b[0;31m---------------------------------------------------------------------------\u001b[0m",
      "\u001b[0;31mValueError\u001b[0m                                Traceback (most recent call last)",
      "Input \u001b[0;32mIn [96]\u001b[0m, in \u001b[0;36m<cell line: 1>\u001b[0;34m()\u001b[0m\n\u001b[0;32m----> 1\u001b[0m \u001b[38;5;28;43mint\u001b[39;49m\u001b[43m(\u001b[49m\u001b[38;5;124;43m'\u001b[39;49m\u001b[38;5;124;43m1x\u001b[39;49m\u001b[38;5;130;43;01m\\n\u001b[39;49;00m\u001b[38;5;124;43m'\u001b[39;49m\u001b[43m)\u001b[49m\n",
      "\u001b[0;31mValueError\u001b[0m: invalid literal for int() with base 10: '1x\\n'"
     ]
    }
   ],
   "source": [
    "int('1x\\n')"
   ]
  },
  {
   "cell_type": "code",
   "execution_count": 121,
   "id": "9e7d58ce-17a1-4590-9f3b-4226917ba4ed",
   "metadata": {},
   "outputs": [
    {
     "data": {
      "text/plain": [
       "'\\n*** Cows & Bulls saved game ***\\n4518\\n1234 2 0\\n5678 1 1\\n'"
      ]
     },
     "execution_count": 121,
     "metadata": {},
     "output_type": "execute_result"
    }
   ],
   "source": [
    "\"\"\"\n",
    "*** Cows & Bulls saved game ***\n",
    "4518\n",
    "1234 2 0\n",
    "5678 1 1\n",
    "\"\"\""
   ]
  },
  {
   "cell_type": "code",
   "execution_count": 128,
   "id": "ec0e702e-59d8-407e-9fb1-b303b95ab0af",
   "metadata": {},
   "outputs": [],
   "source": [
    "def restore_game():\n",
    "    with open('CandB.txt') as infile:\n",
    "        if infile.readline() != '*** Cows & Bulls saved game ***\\n':\n",
    "            print('this does not seem to be a saved game')\n",
    "            return\n",
    "        # if we got here, this seems to be a saved game and we'll parse it...\n",
    "        secret_code = list(infile.readline().strip())\n",
    "        player_guesses = {}\n",
    "        for line in infile: # Python's natural iteration thru files\n",
    "            try:\n",
    "                guess, cows, bulls = line.split()\n",
    "            except ValueError:\n",
    "                print('malformed line:', line)\n",
    "            else:\n",
    "                player_guesses[guess] = int(cows), int(bulls)\n",
    "        \n",
    "        return secret_code, player_guesses"
   ]
  },
  {
   "cell_type": "code",
   "execution_count": 125,
   "id": "c7a432d6-9df7-4f03-8dd3-df2c0e7d6464",
   "metadata": {},
   "outputs": [
    {
     "ename": "ValueError",
     "evalue": "not enough values to unpack (expected 3, got 2)",
     "output_type": "error",
     "traceback": [
      "\u001b[0;31m---------------------------------------------------------------------------\u001b[0m",
      "\u001b[0;31mValueError\u001b[0m                                Traceback (most recent call last)",
      "Input \u001b[0;32mIn [125]\u001b[0m, in \u001b[0;36m<cell line: 1>\u001b[0;34m()\u001b[0m\n\u001b[0;32m----> 1\u001b[0m a, b, c \u001b[38;5;241m=\u001b[39m \u001b[38;5;124m'\u001b[39m\u001b[38;5;124m1 2\u001b[39m\u001b[38;5;124m'\u001b[39m\u001b[38;5;241m.\u001b[39msplit()\n",
      "\u001b[0;31mValueError\u001b[0m: not enough values to unpack (expected 3, got 2)"
     ]
    }
   ],
   "source": [
    "a, b, c = '1 2'.split()"
   ]
  },
  {
   "cell_type": "code",
   "execution_count": 129,
   "id": "cce50dbb-8572-43ec-9871-abc0ccd444a6",
   "metadata": {},
   "outputs": [
    {
     "data": {
      "text/plain": [
       "(['4', '5', '1', '8'], {'1234': (2, 0), '5678': (1, 1)})"
      ]
     },
     "execution_count": 129,
     "metadata": {},
     "output_type": "execute_result"
    }
   ],
   "source": [
    "restore_game()"
   ]
  },
  {
   "cell_type": "markdown",
   "id": "9a230154-466a-44e8-b35b-3b1526d375d0",
   "metadata": {},
   "source": [
    "# Below is Mason's Cows and Bulls solution\n",
    "* note: there is some advanced stuff here, so feel free to ignore or be choosy about what you want to look at it"
   ]
  },
  {
   "cell_type": "code",
   "execution_count": null,
   "id": "ffac45a0-93f2-4a98-b423-69a1336f45e5",
   "metadata": {},
   "outputs": [],
   "source": [
    "#Cows and Bulls or Mastermind\n",
    "\n",
    "# Imports\n",
    "import os\n",
    "\n",
    "# Globals\n",
    "difficulty = 4\n",
    "master_code = []\n",
    "attempts = []\n",
    "extension = \".CaB\"\n",
    "\n",
    "\n",
    "def pick_master_code(number_of_digits):\n",
    "    \"\"\"Generates a random set of digits with a certain length,\n",
    "    but no duplicate digits.\n",
    "\n",
    "    :param number_of_digits: how many digits to select\n",
    "    :type number_of_digits: int\n",
    "    :return: certain number of digits\n",
    "    :rtype: list\n",
    "    \"\"\"\n",
    "    import random\n",
    "    possible_digits = list(range(10))\n",
    "    master_code = []\n",
    "    for index in range(number_of_digits):\n",
    "        digit = random.choice(possible_digits)\n",
    "        possible_digits.remove(digit)\n",
    "        master_code.append(str(digit))\n",
    "    return master_code\n",
    "\n",
    "\n",
    "def display_hint(guess, markers):\n",
    "    \"\"\"Display's the hint in a different format based on difficulty\n",
    "\n",
    "    :param guess: users guess\n",
    "    :type guess: iterable\n",
    "    :param markers: shows the comparison between guess and master code\n",
    "    :type markers: list\n",
    "    \"\"\"\n",
    "    print(\"\".join(guess))\n",
    "    if difficulty <= 3 or difficulty >= 8:\n",
    "        print(\"Correct:\", markers.count(\"C\"),\n",
    "              \"Wrong Position:\", markers.count(\"X\"))\n",
    "    else:  # difficulty 4-7\n",
    "        print(\"\".join(markers))\n",
    "\n",
    "\n",
    "def compare_codes(guess, master):\n",
    "    \"\"\"compares a guessed code to a master code\n",
    "\n",
    "    :param master: master code of integers\n",
    "    :type master: list\n",
    "    :param guess: what user thinks the master code is\n",
    "    :type guess: list\n",
    "    :return: depicts if a value was - C in the correct position, or X wrong position\n",
    "    :rtype: list\n",
    "    \"\"\"\n",
    "    \n",
    "    markers = [\" \"]*len(master)\n",
    "    if len(guess) == len(master):\n",
    "        for index in range(len(master)):\n",
    "            if guess[index] == master[index]:\n",
    "                markers[index] = \"C\"  # correct position\n",
    "            elif guess[index] in master:\n",
    "                markers[index] = \"X\"  # wrong position\n",
    "    else:\n",
    "        print(\"Guess isn't\", len(master), \"digits long...\")\n",
    "        return None\n",
    "\n",
    "    return markers\n",
    "\n",
    "\n",
    "def start_new_game():\n",
    "    \"\"\"Sets up the a new game.\n",
    "\n",
    "    :raises ValueError: if user input is not an integer between 3 and 10\n",
    "    :return: Whether or not game parameters have been loaded\n",
    "    :rtype: bool\n",
    "    \"\"\"\n",
    "    global difficulty, master_code\n",
    "    while True:\n",
    "        try:\n",
    "            response = int(input(\"What difficulty would you like to set?(3-10) \"))\n",
    "            if 3 <= response <= 10:\n",
    "                break\n",
    "            else:\n",
    "                raise ValueError\n",
    "        except ValueError:\n",
    "            print(\"Invalid user input please input an integer between 3 and 10\")\n",
    "    difficulty = response\n",
    "    master_code = pick_master_code(difficulty)\n",
    "    return True\n",
    "\n",
    "\n",
    "def save_game():\n",
    "    \"\"\"Stores global variable values in a .CaB file\n",
    "    \"\"\"\n",
    "    save_name = input(\"What would you like to name this name? \")\n",
    "    save_path = os.path.join(os.path.dirname(__file__), save_name + extension)\n",
    "    print(\"Saving to:\", save_path)\n",
    "\n",
    "    with open(save_path, \"w\") as file:\n",
    "        file.write(str(difficulty) + \"\\n\")\n",
    "        file.write(\"\".join(master_code) + \"\\n\")\n",
    "        file.write(\",\".join(attempts) + \"\\n\")\n",
    "\n",
    "\n",
    "def get_saved_games():\n",
    "    \"\"\"Finds all the existing save files from the folder this script is in\n",
    "\n",
    "    :return: saved games\n",
    "    :rtype: list\n",
    "    \"\"\"    \n",
    "    # Finds all the existing save files from the folder this script is in\n",
    "    os.chdir(os.path.dirname(__file__))\n",
    "    saved_games = [f for f in os.listdir() if f.endswith(extension)]\n",
    "    print(\"=\"*25, \"Saved Games\", \"=\"*25)\n",
    "    for saves in saved_games:\n",
    "        print(saves.replace(extension,\"\"))\n",
    "    return saved_games\n",
    "\n",
    "\n",
    "def user_choice_of_save_file():\n",
    "    \"\"\"Gets user to pick a file they want to load or cancel load\n",
    "\n",
    "    :return: full file path\n",
    "    :rtype: str or None\n",
    "    \"\"\"\n",
    "    while True:\n",
    "        menuText = \"\"\"Which save would you like to load?\n",
    "        (type cancel to return to main menu)\n",
    "        ==>\"\"\"\n",
    "        response = input(menuText)\n",
    "        save_path = os.path.join(os.path.dirname(__file__), response + extension)\n",
    "        if os.path.exists(save_path):\n",
    "            return save_path\n",
    "        elif response.lower() == 'cancel':\n",
    "            return None#was 0\n",
    "        print(\"Filename not valid\")\n",
    "\n",
    "\n",
    "def load_game():\n",
    "    \"\"\"Gets global variable values from a .CaB file\n",
    "\n",
    "    :return: Whether or not game parameters have been loaded\n",
    "    :rtype: bool\n",
    "    \"\"\"\n",
    "    global difficulty, master_code, attempts\n",
    "\n",
    "    saved_games = get_saved_games()\n",
    "\n",
    "    if len(saved_games) > 0:\n",
    "        save_path = user_choice_of_save_file()\n",
    "        if save_path == None:#if choice canceled\n",
    "            return False\n",
    "        \n",
    "        # Opens file and stores the data in its appropriate variables\n",
    "        with open(save_path) as f:\n",
    "            difficulty = int(f.readline())\n",
    "            master_code = list(f.readline().strip())\n",
    "            attempts = f.readline().strip().split(\",\")\n",
    "        return True\n",
    "    else:\n",
    "        print(\"No saved games\")\n",
    "        return False\n",
    "\n",
    "\n",
    "def display_all_hints():\n",
    "    \"\"\"Shows all guesses and hints in order\n",
    "    \"\"\"\n",
    "    for index, guess in enumerate(attempts):\n",
    "        markers = compare_codes(guess, master_code)\n",
    "        display_hint(guess, markers)\n",
    "        print(\"=\"*30, index, \"=\"*30)\n",
    "\n",
    "        \n",
    "def main_menu():\n",
    "    \"\"\"The Start or Main Menu when the game starts up.\n",
    "    Allows users to:\n",
    "    Start New Game\n",
    "    Load a Saved Game\n",
    "    Quit\n",
    "\n",
    "    :return: Whether or not to start the game\n",
    "    :rtype: bool\n",
    "    \"\"\"\n",
    "    start = False\n",
    "    while not start:\n",
    "        menuText = \"\"\"What would you like to do?\n",
    "        [N]ew Game\n",
    "        [L]oad Game\n",
    "        [Q]uit\n",
    "        ===>\"\"\"\n",
    "        response = input(menuText).upper()\n",
    "        if response == \"N\":\n",
    "            start = start_new_game()\n",
    "        elif response == \"L\":\n",
    "            start = load_game()\n",
    "            if start:\n",
    "                display_all_hints()\n",
    "        elif response == \"Q\":\n",
    "            print(\"Quitting...\")\n",
    "            return False\n",
    "        else:\n",
    "            print(\"Response invalid, type the character that is surrounded by []\")\n",
    "    return True\n",
    "\n",
    "\n",
    "def play_mastermind():\n",
    "    \"\"\"Mastermind is a game where the player tries to guess the \n",
    "    pattern of characters the 'Mastermind' sets, within a certain\n",
    "    number of guesses.\n",
    "\n",
    "    :param difficulty_level: how many: characters the code is and guesses the player gets\n",
    "    :type difficulty_level: int\n",
    "    \"\"\"\n",
    "    global attempts\n",
    "\n",
    "    start = main_menu()\n",
    "    if not start:\n",
    "        return\n",
    "\n",
    "    # for tries in range(difficulty*2):\n",
    "    while len(attempts) <= (difficulty*2):\n",
    "        response = input(\n",
    "            \"What %d-digit number would you like to guess? \" % (len(master_code)))\n",
    "        if response.lower() == \"q\":\n",
    "            print(\"Quitting...\")\n",
    "            break\n",
    "        elif response.lower() == \"s\":\n",
    "            print(\"Saving...\")\n",
    "            save_game()\n",
    "            continue\n",
    "\n",
    "        markers = compare_codes(response, master_code)\n",
    "        if markers != None:\n",
    "            attempts.append(response)\n",
    "            if markers.count(\"C\") != len(master_code):  # if all characters are NOT correct\n",
    "                display_hint(response, markers)\n",
    "            else:\n",
    "                print(\"\".join(response), \"was the MASTER CODE!\")\n",
    "                break\n",
    "    else:\n",
    "        print(\"You Lose, the Master Code was:\", master_code)\n",
    "\n",
    "        \n",
    "play_mastermind()"
   ]
  }
 ],
 "metadata": {
  "kernelspec": {
   "display_name": "Python 3 (ipykernel)",
   "language": "python",
   "name": "python3"
  },
  "language_info": {
   "codemirror_mode": {
    "name": "ipython",
    "version": 3
   },
   "file_extension": ".py",
   "mimetype": "text/x-python",
   "name": "python",
   "nbconvert_exporter": "python",
   "pygments_lexer": "ipython3",
   "version": "3.9.12"
  }
 },
 "nbformat": 4,
 "nbformat_minor": 5
}
