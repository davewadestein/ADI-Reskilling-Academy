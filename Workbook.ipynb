{
 "cells": [
  {
   "cell_type": "code",
   "execution_count": null,
   "id": "f71ad354-9fba-48d2-a1ec-23971bd9cc06",
   "metadata": {},
   "outputs": [],
   "source": [
    "# \"Mechanical sympathy\""
   ]
  },
  {
   "cell_type": "markdown",
   "id": "b067c6a9-fd52-46c1-9791-90060da74347",
   "metadata": {},
   "source": [
    "# Important things about Python\n",
    "* everything in Python is an object\n",
    "* Python is dynamically typed\n",
    "  * variables are not restricted in their type, so we can put some different type object into them\n",
    "  * you do not have to declare a variable before using it\n",
    "  * this is both a good and a bad\n",
    "* It's...\n",
    "  * old (1991)\n",
    "  * Guido van Rossum used to be the BDFL\n",
    "  * it's raison d'être is to manipulate text/strings/files/data\n",
    "  * it's a terrible language for numerics\n",
    "* containers vs. simple variables\n",
    "  * containers: str\n",
    "  * simple variables: int, float, bool, str\n",
    "* mutable vs. immutable objects\n",
    "  * immutable: str\n",
    "  * mutable:\n",
    "* Python practices \"truthiness\"\n",
    "  * we are allowed to use non-Boolean expressions in a Boolean context\n",
    "    * 0 and 0.0 are considered False\n",
    "    * non-zero numbers are considered True\n",
    "    * empty containers are False; non-empty containers are True\n",
    "* \"Pythonic\"\n",
    "  * converting from one type to another, especially to make an object easier to work with \n",
    "* when coding a problem, introspect into your brain to understand how YOU solve the problem, but...\n",
    "  * sometimes you skip a step in your brain that Python can't skip\n",
    "  * corollary: you often combine steps or perform operations that are difficult to enumerate\n",
    "  * it's hard to do but very important"
   ]
  },
  {
   "cell_type": "code",
   "execution_count": null,
   "id": "ee3728c1-b0ca-4cff-acd2-3ab401c3771d",
   "metadata": {},
   "outputs": [],
   "source": []
  },
  {
   "cell_type": "markdown",
   "id": "606aaf88-3b35-4b07-a0a7-835a9b3deeca",
   "metadata": {},
   "source": [
    "# Important things about learning/teaching\n",
    "* know when to zoom in and zoom out\n",
    "  * don't go/go down the rabbit hole"
   ]
  },
  {
   "cell_type": "markdown",
   "id": "ca3e75e1",
   "metadata": {},
   "source": [
    "# Programming Stuff\n",
    "* Hal Abelson: \"Code is written for others to read and only incidentally for the computer to execute.\"\n",
    "* Eagleson's Law: \"Any code you wrote more than 6 months ago might as well have been written by somebody else.\"\n",
    "* cost_per_ounce, weight, quanity are much better variable names than cpo, w, and qty.\n",
    "* more important tham math are these qualities to make a good programmer:\n",
    "  * problem-solving skills / logical thinking\n",
    "  * stick-to-itiveness\n",
    "  * attention to detail\n",
    "* DRY = Don't Repeat Yourself"
   ]
  },
  {
   "cell_type": "code",
   "execution_count": 1,
   "id": "9f769788-cb2f-45dd-9333-8fc84e88dd17",
   "metadata": {},
   "outputs": [
    {
     "name": "stdout",
     "output_type": "stream",
     "text": [
      "1 2 3\n"
     ]
    }
   ],
   "source": [
    "print(1, 2, 3)"
   ]
  },
  {
   "cell_type": "code",
   "execution_count": 2,
   "id": "bcd7fb38-0c1e-4b62-a2c4-cb4bdc81cfb4",
   "metadata": {},
   "outputs": [
    {
     "name": "stdout",
     "output_type": "stream",
     "text": [
      "1\n"
     ]
    }
   ],
   "source": [
    "print(1)"
   ]
  },
  {
   "cell_type": "code",
   "execution_count": 3,
   "id": "192665b6-cdff-48fe-8e42-ef7e8d297d32",
   "metadata": {},
   "outputs": [
    {
     "name": "stdout",
     "output_type": "stream",
     "text": [
      "\n"
     ]
    }
   ],
   "source": [
    "print()"
   ]
  },
  {
   "cell_type": "code",
   "execution_count": 4,
   "id": "39b1a49f-fbf9-4f51-919d-56d69a2e7008",
   "metadata": {},
   "outputs": [
    {
     "name": "stdout",
     "output_type": "stream",
     "text": [
      "Some words\n"
     ]
    }
   ],
   "source": [
    "print('Some words')"
   ]
  },
  {
   "cell_type": "code",
   "execution_count": 5,
   "id": "1ae4cf2b-5f06-4933-a7f2-34365de9c583",
   "metadata": {},
   "outputs": [],
   "source": [
    "name = 'Grace Hopper'"
   ]
  },
  {
   "cell_type": "code",
   "execution_count": 6,
   "id": "4b5d3a8f-10fc-42fc-b803-49e6aa8bdc1e",
   "metadata": {},
   "outputs": [
    {
     "data": {
      "text/plain": [
       "'Grace Hopper'"
      ]
     },
     "execution_count": 6,
     "metadata": {},
     "output_type": "execute_result"
    }
   ],
   "source": [
    "name"
   ]
  },
  {
   "cell_type": "code",
   "execution_count": 7,
   "id": "6cac5891-15bc-44f4-95a0-4b3ade564dc3",
   "metadata": {},
   "outputs": [
    {
     "data": {
      "text/plain": [
       "140341011891440"
      ]
     },
     "execution_count": 7,
     "metadata": {},
     "output_type": "execute_result"
    }
   ],
   "source": [
    "id(name)"
   ]
  },
  {
   "cell_type": "code",
   "execution_count": 8,
   "id": "0ebcbfc8-f06b-42f5-b8b3-c1877d78c39e",
   "metadata": {},
   "outputs": [],
   "source": [
    "x = 1"
   ]
  },
  {
   "cell_type": "code",
   "execution_count": 9,
   "id": "f9ef06a1-a586-4acc-8209-9a21e0488aca",
   "metadata": {},
   "outputs": [
    {
     "data": {
      "text/plain": [
       "94650147893888"
      ]
     },
     "execution_count": 9,
     "metadata": {},
     "output_type": "execute_result"
    }
   ],
   "source": [
    "id(x)"
   ]
  },
  {
   "cell_type": "code",
   "execution_count": 10,
   "id": "d813cb26-b330-42a7-b868-99619f7dd467",
   "metadata": {},
   "outputs": [
    {
     "data": {
      "text/plain": [
       "140341096797360"
      ]
     },
     "execution_count": 10,
     "metadata": {},
     "output_type": "execute_result"
    }
   ],
   "source": [
    "id(print)"
   ]
  },
  {
   "cell_type": "code",
   "execution_count": 11,
   "id": "d6b2bbec-e9d8-4dd8-be03-d61d8c4c2f81",
   "metadata": {},
   "outputs": [
    {
     "data": {
      "text/plain": [
       "1"
      ]
     },
     "execution_count": 11,
     "metadata": {},
     "output_type": "execute_result"
    }
   ],
   "source": [
    "1"
   ]
  },
  {
   "cell_type": "code",
   "execution_count": 12,
   "id": "e9c65b92-ad78-4c7c-932e-7e2d65705c38",
   "metadata": {},
   "outputs": [
    {
     "data": {
      "text/plain": [
       "4"
      ]
     },
     "execution_count": 12,
     "metadata": {},
     "output_type": "execute_result"
    }
   ],
   "source": [
    "2 + 2"
   ]
  },
  {
   "cell_type": "code",
   "execution_count": 13,
   "id": "82812dfd-a0b3-4139-a35e-83531357453f",
   "metadata": {},
   "outputs": [
    {
     "data": {
      "text/plain": [
       "18446744073709551616"
      ]
     },
     "execution_count": 13,
     "metadata": {},
     "output_type": "execute_result"
    }
   ],
   "source": [
    "2 ** 64"
   ]
  },
  {
   "cell_type": "code",
   "execution_count": 14,
   "id": "1abdf171-f3d7-474c-b16e-806b02258d2d",
   "metadata": {},
   "outputs": [
    {
     "ename": "SyntaxError",
     "evalue": "invalid syntax (2875093652.py, line 1)",
     "output_type": "error",
     "traceback": [
      "\u001b[0;36m  File \u001b[0;32m\"/tmp/ipykernel_80/2875093652.py\"\u001b[0;36m, line \u001b[0;32m1\u001b[0m\n\u001b[0;31m    2 **\u001b[0m\n\u001b[0m        ^\u001b[0m\n\u001b[0;31mSyntaxError\u001b[0m\u001b[0;31m:\u001b[0m invalid syntax\n"
     ]
    }
   ],
   "source": [
    "2 **"
   ]
  },
  {
   "cell_type": "code",
   "execution_count": 15,
   "id": "158c2ff6-b008-4c47-a9f7-9f290fee0ed9",
   "metadata": {},
   "outputs": [
    {
     "data": {
      "text/plain": [
       "16399.420000000002"
      ]
     },
     "execution_count": 15,
     "metadata": {},
     "output_type": "execute_result"
    }
   ],
   "source": [
    "223 * 73.54"
   ]
  },
  {
   "cell_type": "code",
   "execution_count": 1,
   "id": "d4fc00e1-3f0b-49f6-b46d-055830f5bee8",
   "metadata": {},
   "outputs": [],
   "source": [
    "cost_per_ounce = 0.49"
   ]
  },
  {
   "cell_type": "code",
   "execution_count": 2,
   "id": "1334ee4b",
   "metadata": {},
   "outputs": [],
   "source": [
    "quantity = 15"
   ]
  },
  {
   "cell_type": "code",
   "execution_count": 3,
   "id": "7226f9a8",
   "metadata": {},
   "outputs": [
    {
     "data": {
      "text/plain": [
       "15"
      ]
     },
     "execution_count": 3,
     "metadata": {},
     "output_type": "execute_result"
    }
   ],
   "source": [
    "quantity"
   ]
  },
  {
   "cell_type": "code",
   "execution_count": 4,
   "id": "d751ac2a",
   "metadata": {},
   "outputs": [
    {
     "data": {
      "text/plain": [
       "int"
      ]
     },
     "execution_count": 4,
     "metadata": {},
     "output_type": "execute_result"
    }
   ],
   "source": [
    "type(quantity)"
   ]
  },
  {
   "cell_type": "code",
   "execution_count": 5,
   "id": "9f734b2e",
   "metadata": {},
   "outputs": [],
   "source": [
    "mycompany = 'Pluralsight'"
   ]
  },
  {
   "cell_type": "code",
   "execution_count": 6,
   "id": "599eb877",
   "metadata": {},
   "outputs": [
    {
     "data": {
      "text/plain": [
       "'Pluralsight'"
      ]
     },
     "execution_count": 6,
     "metadata": {},
     "output_type": "execute_result"
    }
   ],
   "source": [
    "mycompany"
   ]
  },
  {
   "cell_type": "code",
   "execution_count": 7,
   "id": "cf66bf75",
   "metadata": {},
   "outputs": [
    {
     "data": {
      "text/plain": [
       "str"
      ]
     },
     "execution_count": 7,
     "metadata": {},
     "output_type": "execute_result"
    }
   ],
   "source": [
    "type(mycompany)"
   ]
  },
  {
   "cell_type": "code",
   "execution_count": 14,
   "id": "a1f14150",
   "metadata": {},
   "outputs": [
    {
     "name": "stdout",
     "output_type": "stream",
     "text": [
      "<class 'int'>\n"
     ]
    },
    {
     "data": {
      "text/plain": [
       "float"
      ]
     },
     "execution_count": 14,
     "metadata": {},
     "output_type": "execute_result"
    }
   ],
   "source": [
    "print(type(7)) # Python actually evaluates this\n",
    "type(7.0)"
   ]
  },
  {
   "cell_type": "code",
   "execution_count": 15,
   "id": "73bad1d6",
   "metadata": {},
   "outputs": [
    {
     "data": {
      "text/plain": [
       "int"
      ]
     },
     "execution_count": 15,
     "metadata": {},
     "output_type": "execute_result"
    }
   ],
   "source": [
    "type(7)"
   ]
  },
  {
   "cell_type": "code",
   "execution_count": 16,
   "id": "a624d1b8",
   "metadata": {},
   "outputs": [
    {
     "name": "stdout",
     "output_type": "stream",
     "text": [
      "<class 'int'>\n"
     ]
    }
   ],
   "source": [
    "print(type(7))"
   ]
  },
  {
   "cell_type": "code",
   "execution_count": 17,
   "id": "79092765",
   "metadata": {},
   "outputs": [
    {
     "data": {
      "text/plain": [
       "'Pluralsight'"
      ]
     },
     "execution_count": 17,
     "metadata": {},
     "output_type": "execute_result"
    }
   ],
   "source": [
    "mycompany"
   ]
  },
  {
   "cell_type": "code",
   "execution_count": 18,
   "id": "ee4f0f46",
   "metadata": {},
   "outputs": [
    {
     "name": "stdout",
     "output_type": "stream",
     "text": [
      "I work for Pluralsight\n"
     ]
    }
   ],
   "source": [
    "print('I work for', mycompany)"
   ]
  },
  {
   "cell_type": "code",
   "execution_count": 22,
   "id": "c6eac11e",
   "metadata": {},
   "outputs": [
    {
     "name": "stdout",
     "output_type": "stream",
     "text": [
      "3\n",
      "foo\n"
     ]
    }
   ],
   "source": [
    "x = 1\n",
    "y = 2\n",
    "print(x + y)\n",
    "z = 4\n",
    "print('foo')"
   ]
  },
  {
   "cell_type": "code",
   "execution_count": 23,
   "id": "8fb0023f",
   "metadata": {},
   "outputs": [
    {
     "data": {
      "text/plain": [
       "1"
      ]
     },
     "execution_count": 23,
     "metadata": {},
     "output_type": "execute_result"
    }
   ],
   "source": [
    "x"
   ]
  },
  {
   "cell_type": "code",
   "execution_count": 24,
   "id": "60fc7108",
   "metadata": {},
   "outputs": [],
   "source": [
    "x = 'ecks'"
   ]
  },
  {
   "cell_type": "code",
   "execution_count": 25,
   "id": "471306e5",
   "metadata": {},
   "outputs": [
    {
     "data": {
      "text/plain": [
       "'ecks'"
      ]
     },
     "execution_count": 25,
     "metadata": {},
     "output_type": "execute_result"
    }
   ],
   "source": [
    "x"
   ]
  },
  {
   "cell_type": "code",
   "execution_count": 26,
   "id": "53e40b38",
   "metadata": {},
   "outputs": [
    {
     "data": {
      "text/plain": [
       "str"
      ]
     },
     "execution_count": 26,
     "metadata": {},
     "output_type": "execute_result"
    }
   ],
   "source": [
    "type(x)"
   ]
  },
  {
   "cell_type": "code",
   "execution_count": 27,
   "id": "b4853120",
   "metadata": {},
   "outputs": [],
   "source": [
    "gazornin = 'wow!'"
   ]
  },
  {
   "cell_type": "code",
   "execution_count": null,
   "id": "160cb4d8",
   "metadata": {},
   "outputs": [],
   "source": [
    "# string gazornin = 'wow!' # statically typed"
   ]
  },
  {
   "cell_type": "code",
   "execution_count": 28,
   "id": "a12bb675",
   "metadata": {},
   "outputs": [],
   "source": [
    "Test = 1"
   ]
  },
  {
   "cell_type": "code",
   "execution_count": 29,
   "id": "6d6a5ee5",
   "metadata": {},
   "outputs": [
    {
     "ename": "NameError",
     "evalue": "name 'test' is not defined",
     "output_type": "error",
     "traceback": [
      "\u001b[0;31m---------------------------------------------------------------------------\u001b[0m",
      "\u001b[0;31mNameError\u001b[0m                                 Traceback (most recent call last)",
      "Input \u001b[0;32mIn [29]\u001b[0m, in \u001b[0;36m<cell line: 1>\u001b[0;34m()\u001b[0m\n\u001b[0;32m----> 1\u001b[0m \u001b[43mtest\u001b[49m\n",
      "\u001b[0;31mNameError\u001b[0m: name 'test' is not defined"
     ]
    }
   ],
   "source": [
    "test"
   ]
  },
  {
   "cell_type": "code",
   "execution_count": 32,
   "id": "3e28f56f",
   "metadata": {
    "collapsed": true,
    "jupyter": {
     "outputs_hidden": true
    },
    "tags": []
   },
   "outputs": [
    {
     "data": {
      "text/plain": [
       "['False',\n",
       " 'None',\n",
       " 'True',\n",
       " '__peg_parser__',\n",
       " 'and',\n",
       " 'as',\n",
       " 'assert',\n",
       " 'async',\n",
       " 'await',\n",
       " 'break',\n",
       " 'class',\n",
       " 'continue',\n",
       " 'def',\n",
       " 'del',\n",
       " 'elif',\n",
       " 'else',\n",
       " 'except',\n",
       " 'finally',\n",
       " 'for',\n",
       " 'from',\n",
       " 'global',\n",
       " 'if',\n",
       " 'import',\n",
       " 'in',\n",
       " 'is',\n",
       " 'lambda',\n",
       " 'nonlocal',\n",
       " 'not',\n",
       " 'or',\n",
       " 'pass',\n",
       " 'raise',\n",
       " 'return',\n",
       " 'try',\n",
       " 'while',\n",
       " 'with',\n",
       " 'yield']"
      ]
     },
     "execution_count": 32,
     "metadata": {},
     "output_type": "execute_result"
    }
   ],
   "source": [
    "from keyword import kwlist\n",
    "kwlist"
   ]
  },
  {
   "cell_type": "code",
   "execution_count": 33,
   "id": "71630251",
   "metadata": {},
   "outputs": [],
   "source": [
    "minutes = 321"
   ]
  },
  {
   "cell_type": "code",
   "execution_count": 34,
   "id": "1682ab0c",
   "metadata": {},
   "outputs": [
    {
     "data": {
      "text/plain": [
       "5.35"
      ]
     },
     "execution_count": 34,
     "metadata": {},
     "output_type": "execute_result"
    }
   ],
   "source": [
    "minutes / 60"
   ]
  },
  {
   "cell_type": "code",
   "execution_count": 35,
   "id": "8d2ca009",
   "metadata": {},
   "outputs": [
    {
     "data": {
      "text/plain": [
       "5"
      ]
     },
     "execution_count": 35,
     "metadata": {},
     "output_type": "execute_result"
    }
   ],
   "source": [
    "minutes // 60"
   ]
  },
  {
   "cell_type": "code",
   "execution_count": 36,
   "id": "1157931d",
   "metadata": {},
   "outputs": [
    {
     "data": {
      "text/plain": [
       "21"
      ]
     },
     "execution_count": 36,
     "metadata": {},
     "output_type": "execute_result"
    }
   ],
   "source": [
    "minutes % 60"
   ]
  },
  {
   "cell_type": "code",
   "execution_count": 38,
   "id": "2ff36c45",
   "metadata": {},
   "outputs": [],
   "source": [
    "h, m = divmod(minutes, 60)"
   ]
  },
  {
   "cell_type": "code",
   "execution_count": 39,
   "id": "7fb660ba",
   "metadata": {},
   "outputs": [
    {
     "data": {
      "text/plain": [
       "(5, 21)"
      ]
     },
     "execution_count": 39,
     "metadata": {},
     "output_type": "execute_result"
    }
   ],
   "source": [
    "h, m"
   ]
  },
  {
   "cell_type": "code",
   "execution_count": 40,
   "id": "5548c3c4",
   "metadata": {},
   "outputs": [
    {
     "name": "stdout",
     "output_type": "stream",
     "text": [
      "5 hours and 21 minutes\n"
     ]
    }
   ],
   "source": [
    "print(h, 'hours and', m, 'minutes')"
   ]
  },
  {
   "cell_type": "code",
   "execution_count": 41,
   "id": "c426f54c",
   "metadata": {},
   "outputs": [
    {
     "name": "stdout",
     "output_type": "stream",
     "text": [
      "5 : 21\n"
     ]
    }
   ],
   "source": [
    "print(h, ':', m)"
   ]
  },
  {
   "cell_type": "code",
   "execution_count": 46,
   "id": "cbadff5c",
   "metadata": {},
   "outputs": [],
   "source": [
    "xyz = 101"
   ]
  },
  {
   "cell_type": "code",
   "execution_count": 45,
   "id": "8f5709a7",
   "metadata": {},
   "outputs": [
    {
     "data": {
      "text/plain": [
       "False"
      ]
     },
     "execution_count": 45,
     "metadata": {},
     "output_type": "execute_result"
    }
   ],
   "source": [
    "xyz > 100"
   ]
  },
  {
   "cell_type": "code",
   "execution_count": 47,
   "id": "aa943c12",
   "metadata": {},
   "outputs": [],
   "source": [
    "company = 'ADI'"
   ]
  },
  {
   "cell_type": "code",
   "execution_count": 48,
   "id": "eb858c00",
   "metadata": {},
   "outputs": [
    {
     "data": {
      "text/plain": [
       "True"
      ]
     },
     "execution_count": 48,
     "metadata": {},
     "output_type": "execute_result"
    }
   ],
   "source": [
    "company == 'ADI'"
   ]
  },
  {
   "cell_type": "code",
   "execution_count": 61,
   "id": "5ced1cd1",
   "metadata": {},
   "outputs": [],
   "source": [
    "x = 5\n",
    "y = 7"
   ]
  },
  {
   "cell_type": "code",
   "execution_count": 50,
   "id": "ba9570ab",
   "metadata": {},
   "outputs": [
    {
     "data": {
      "text/plain": [
       "True"
      ]
     },
     "execution_count": 50,
     "metadata": {},
     "output_type": "execute_result"
    }
   ],
   "source": [
    "x == 5 or y == 6"
   ]
  },
  {
   "cell_type": "code",
   "execution_count": 62,
   "id": "9f7ab07b",
   "metadata": {},
   "outputs": [
    {
     "name": "stdout",
     "output_type": "stream",
     "text": [
      "either x is 5 or y is 6 but not both\n"
     ]
    }
   ],
   "source": [
    "if (x == 5) ^ (y == 6):\n",
    "    print('either x is 5 or y is 6 but not both')"
   ]
  },
  {
   "cell_type": "code",
   "execution_count": 63,
   "id": "bc737ff7",
   "metadata": {},
   "outputs": [],
   "source": [
    "string = 'something'"
   ]
  },
  {
   "cell_type": "code",
   "execution_count": 64,
   "id": "19abd4c9",
   "metadata": {},
   "outputs": [
    {
     "name": "stdout",
     "output_type": "stream",
     "text": [
      "something\n"
     ]
    }
   ],
   "source": [
    "print(string)"
   ]
  },
  {
   "cell_type": "code",
   "execution_count": 67,
   "id": "df78cdcc",
   "metadata": {},
   "outputs": [
    {
     "data": {
      "text/plain": [
       "True"
      ]
     },
     "execution_count": 67,
     "metadata": {},
     "output_type": "execute_result"
    }
   ],
   "source": [
    "1 == True"
   ]
  },
  {
   "cell_type": "code",
   "execution_count": 66,
   "id": "cf993cea",
   "metadata": {},
   "outputs": [
    {
     "name": "stdout",
     "output_type": "stream",
     "text": [
      "It is True\n"
     ]
    }
   ],
   "source": [
    "if 2: # because 2 is not 0 it is considered True\n",
    "    print('It is True')"
   ]
  },
  {
   "cell_type": "code",
   "execution_count": 68,
   "id": "c14fbde5",
   "metadata": {},
   "outputs": [
    {
     "data": {
      "text/plain": [
       "4344620336"
      ]
     },
     "execution_count": 68,
     "metadata": {},
     "output_type": "execute_result"
    }
   ],
   "source": [
    "id(True)"
   ]
  },
  {
   "cell_type": "code",
   "execution_count": 69,
   "id": "c7d6db47",
   "metadata": {},
   "outputs": [
    {
     "data": {
      "text/plain": [
       "140396709734704"
      ]
     },
     "execution_count": 69,
     "metadata": {},
     "output_type": "execute_result"
    }
   ],
   "source": [
    "id(1)"
   ]
  },
  {
   "cell_type": "code",
   "execution_count": 70,
   "id": "185af656",
   "metadata": {},
   "outputs": [
    {
     "data": {
      "text/plain": [
       "True"
      ]
     },
     "execution_count": 70,
     "metadata": {},
     "output_type": "execute_result"
    }
   ],
   "source": [
    "0 == False"
   ]
  },
  {
   "cell_type": "code",
   "execution_count": 71,
   "id": "b9db514e",
   "metadata": {},
   "outputs": [
    {
     "data": {
      "text/plain": [
       "False"
      ]
     },
     "execution_count": 71,
     "metadata": {},
     "output_type": "execute_result"
    }
   ],
   "source": [
    "' ' == True"
   ]
  },
  {
   "cell_type": "code",
   "execution_count": 72,
   "id": "dd72abd2",
   "metadata": {},
   "outputs": [
    {
     "data": {
      "text/plain": [
       "False"
      ]
     },
     "execution_count": 72,
     "metadata": {},
     "output_type": "execute_result"
    }
   ],
   "source": [
    "' ' == 1"
   ]
  },
  {
   "cell_type": "code",
   "execution_count": 73,
   "id": "27ad3f1a",
   "metadata": {},
   "outputs": [
    {
     "data": {
      "text/plain": [
       "True"
      ]
     },
     "execution_count": 73,
     "metadata": {},
     "output_type": "execute_result"
    }
   ],
   "source": [
    "1 == True"
   ]
  },
  {
   "cell_type": "code",
   "execution_count": 74,
   "id": "8476f096",
   "metadata": {},
   "outputs": [
    {
     "data": {
      "text/plain": [
       "False"
      ]
     },
     "execution_count": 74,
     "metadata": {},
     "output_type": "execute_result"
    }
   ],
   "source": [
    "4 == True"
   ]
  },
  {
   "cell_type": "code",
   "execution_count": 75,
   "id": "0c3fbaa1",
   "metadata": {},
   "outputs": [
    {
     "data": {
      "text/plain": [
       "False"
      ]
     },
     "execution_count": 75,
     "metadata": {},
     "output_type": "execute_result"
    }
   ],
   "source": [
    "' ' == True"
   ]
  },
  {
   "cell_type": "code",
   "execution_count": 76,
   "id": "0d3835ee",
   "metadata": {},
   "outputs": [
    {
     "name": "stdout",
     "output_type": "stream",
     "text": [
      "something in that string\n"
     ]
    }
   ],
   "source": [
    "if ' ':\n",
    "    print('something in that string')"
   ]
  },
  {
   "cell_type": "code",
   "execution_count": 77,
   "id": "0a72e99f",
   "metadata": {},
   "outputs": [],
   "source": [
    "if ' ' == 'string':\n",
    "    print('equal')"
   ]
  },
  {
   "cell_type": "code",
   "execution_count": 78,
   "id": "1d0fdd7d",
   "metadata": {},
   "outputs": [
    {
     "name": "stdout",
     "output_type": "stream",
     "text": [
      "something in that string\n"
     ]
    }
   ],
   "source": [
    "s = 'string'\n",
    "if s: # len(s) > 0\n",
    "    print('something in that string')"
   ]
  },
  {
   "cell_type": "code",
   "execution_count": 83,
   "id": "32ff2619",
   "metadata": {},
   "outputs": [
    {
     "data": {
      "text/plain": [
       "True"
      ]
     },
     "execution_count": 83,
     "metadata": {},
     "output_type": "execute_result"
    }
   ],
   "source": [
    "year = 2022\n",
    "xyz = 2\n",
    "year == 2022 and xyz < 10"
   ]
  },
  {
   "cell_type": "code",
   "execution_count": 84,
   "id": "d487dc3b",
   "metadata": {},
   "outputs": [
    {
     "name": "stdout",
     "output_type": "stream",
     "text": [
      "Enter a year: 2022\n",
      "2022 <class 'int'>\n"
     ]
    }
   ],
   "source": [
    "year = input('Enter a year: ')\n",
    "year = int(year)\n",
    "print(year, type(year))"
   ]
  },
  {
   "cell_type": "code",
   "execution_count": 85,
   "id": "0820efa1",
   "metadata": {},
   "outputs": [
    {
     "name": "stdout",
     "output_type": "stream",
     "text": [
      "Enter a year: hi\n"
     ]
    },
    {
     "ename": "ValueError",
     "evalue": "invalid literal for int() with base 10: 'hi'",
     "output_type": "error",
     "traceback": [
      "\u001b[0;31m---------------------------------------------------------------------------\u001b[0m",
      "\u001b[0;31mValueError\u001b[0m                                Traceback (most recent call last)",
      "Input \u001b[0;32mIn [85]\u001b[0m, in \u001b[0;36m<cell line: 1>\u001b[0;34m()\u001b[0m\n\u001b[0;32m----> 1\u001b[0m year \u001b[38;5;241m=\u001b[39m \u001b[38;5;28;43mint\u001b[39;49m\u001b[43m(\u001b[49m\u001b[38;5;28;43minput\u001b[39;49m\u001b[43m(\u001b[49m\u001b[38;5;124;43m'\u001b[39;49m\u001b[38;5;124;43mEnter a year: \u001b[39;49m\u001b[38;5;124;43m'\u001b[39;49m\u001b[43m)\u001b[49m\u001b[43m)\u001b[49m \u001b[38;5;66;03m# nesting function calls\u001b[39;00m\n\u001b[1;32m      2\u001b[0m \u001b[38;5;28mprint\u001b[39m(year, \u001b[38;5;28mtype\u001b[39m(year))\n",
      "\u001b[0;31mValueError\u001b[0m: invalid literal for int() with base 10: 'hi'"
     ]
    }
   ],
   "source": [
    "year = int(input('Enter a year: ')) # nesting function calls\n",
    "print(year, type(year))"
   ]
  },
  {
   "cell_type": "code",
   "execution_count": 86,
   "id": "602b51dd",
   "metadata": {},
   "outputs": [
    {
     "data": {
      "text/plain": [
       "'DaveDaveDaveDave'"
      ]
     },
     "execution_count": 86,
     "metadata": {},
     "output_type": "execute_result"
    }
   ],
   "source": [
    "'Dave' * 4"
   ]
  },
  {
   "cell_type": "code",
   "execution_count": 87,
   "id": "de216cbd",
   "metadata": {},
   "outputs": [
    {
     "data": {
      "text/plain": [
       "'................................................................................'"
      ]
     },
     "execution_count": 87,
     "metadata": {},
     "output_type": "execute_result"
    }
   ],
   "source": [
    "'.' * 80"
   ]
  },
  {
   "cell_type": "code",
   "execution_count": 88,
   "id": "6c346c9c",
   "metadata": {},
   "outputs": [
    {
     "data": {
      "text/plain": [
       "'--------------------------------------------------------------------------------'"
      ]
     },
     "execution_count": 88,
     "metadata": {},
     "output_type": "execute_result"
    }
   ],
   "source": [
    "'-' * 80"
   ]
  },
  {
   "cell_type": "code",
   "execution_count": 89,
   "id": "9c279f4b",
   "metadata": {},
   "outputs": [
    {
     "name": "stdout",
     "output_type": "stream",
     "text": [
      "Enter first name: Margaret\n",
      "Enter last name: Hamilton\n"
     ]
    }
   ],
   "source": [
    "first = input('Enter first name: ')\n",
    "last = input('Enter last name: ')"
   ]
  },
  {
   "cell_type": "code",
   "execution_count": 93,
   "id": "13fc1607",
   "metadata": {},
   "outputs": [],
   "source": [
    "new_string = last + ', ' + first"
   ]
  },
  {
   "cell_type": "code",
   "execution_count": 94,
   "id": "a2d251d7",
   "metadata": {},
   "outputs": [
    {
     "data": {
      "text/plain": [
       "'Hamilton, Margaret'"
      ]
     },
     "execution_count": 94,
     "metadata": {},
     "output_type": "execute_result"
    }
   ],
   "source": [
    "new_string"
   ]
  },
  {
   "cell_type": "code",
   "execution_count": 97,
   "id": "7d6cdd1b",
   "metadata": {},
   "outputs": [
    {
     "name": "stdout",
     "output_type": "stream",
     "text": [
      "Enter a string: Python\n",
      "Enter an index: 23\n"
     ]
    },
    {
     "ename": "IndexError",
     "evalue": "string index out of range",
     "output_type": "error",
     "traceback": [
      "\u001b[0;31m---------------------------------------------------------------------------\u001b[0m",
      "\u001b[0;31mIndexError\u001b[0m                                Traceback (most recent call last)",
      "Input \u001b[0;32mIn [97]\u001b[0m, in \u001b[0;36m<cell line: 3>\u001b[0;34m()\u001b[0m\n\u001b[1;32m      1\u001b[0m s \u001b[38;5;241m=\u001b[39m \u001b[38;5;28minput\u001b[39m(\u001b[38;5;124m'\u001b[39m\u001b[38;5;124mEnter a string: \u001b[39m\u001b[38;5;124m'\u001b[39m)\n\u001b[1;32m      2\u001b[0m index \u001b[38;5;241m=\u001b[39m \u001b[38;5;28mint\u001b[39m(\u001b[38;5;28minput\u001b[39m(\u001b[38;5;124m'\u001b[39m\u001b[38;5;124mEnter an index: \u001b[39m\u001b[38;5;124m'\u001b[39m))\n\u001b[0;32m----> 3\u001b[0m \u001b[38;5;28mprint\u001b[39m(\u001b[43ms\u001b[49m\u001b[43m[\u001b[49m\u001b[43mindex\u001b[49m\u001b[43m]\u001b[49m)\n",
      "\u001b[0;31mIndexError\u001b[0m: string index out of range"
     ]
    }
   ],
   "source": [
    "s = input('Enter a string: ')\n",
    "index = int(input('Enter an index: '))\n",
    "print(s[index])"
   ]
  },
  {
   "cell_type": "code",
   "execution_count": 99,
   "id": "87ce388c",
   "metadata": {},
   "outputs": [
    {
     "data": {
      "text/plain": [
       "'Margaret'"
      ]
     },
     "execution_count": 99,
     "metadata": {},
     "output_type": "execute_result"
    }
   ],
   "source": [
    "first"
   ]
  },
  {
   "cell_type": "code",
   "execution_count": 100,
   "id": "15af8a94",
   "metadata": {},
   "outputs": [
    {
     "data": {
      "text/plain": [
       "'Hamilton'"
      ]
     },
     "execution_count": 100,
     "metadata": {},
     "output_type": "execute_result"
    }
   ],
   "source": [
    "last"
   ]
  },
  {
   "cell_type": "code",
   "execution_count": 102,
   "id": "09c882af",
   "metadata": {},
   "outputs": [
    {
     "data": {
      "text/plain": [
       "'Margaret Hamilton'"
      ]
     },
     "execution_count": 102,
     "metadata": {},
     "output_type": "execute_result"
    }
   ],
   "source": [
    "first + ' ' + last"
   ]
  },
  {
   "cell_type": "code",
   "execution_count": 103,
   "id": "71fecb29",
   "metadata": {},
   "outputs": [
    {
     "data": {
      "text/plain": [
       "'something'"
      ]
     },
     "execution_count": 103,
     "metadata": {},
     "output_type": "execute_result"
    }
   ],
   "source": [
    "string"
   ]
  },
  {
   "cell_type": "code",
   "execution_count": 104,
   "id": "a348b9a0",
   "metadata": {},
   "outputs": [
    {
     "ename": "TypeError",
     "evalue": "'str' object does not support item assignment",
     "output_type": "error",
     "traceback": [
      "\u001b[0;31m---------------------------------------------------------------------------\u001b[0m",
      "\u001b[0;31mTypeError\u001b[0m                                 Traceback (most recent call last)",
      "Input \u001b[0;32mIn [104]\u001b[0m, in \u001b[0;36m<cell line: 1>\u001b[0;34m()\u001b[0m\n\u001b[0;32m----> 1\u001b[0m s[\u001b[38;5;241m0\u001b[39m] \u001b[38;5;241m=\u001b[39m \u001b[38;5;124m'\u001b[39m\u001b[38;5;124mx\u001b[39m\u001b[38;5;124m'\u001b[39m\n",
      "\u001b[0;31mTypeError\u001b[0m: 'str' object does not support item assignment"
     ]
    }
   ],
   "source": [
    "s[0] = 'x'"
   ]
  },
  {
   "cell_type": "code",
   "execution_count": 105,
   "id": "3d746ce4",
   "metadata": {},
   "outputs": [
    {
     "data": {
      "text/plain": [
       "'Python'"
      ]
     },
     "execution_count": 105,
     "metadata": {},
     "output_type": "execute_result"
    }
   ],
   "source": [
    "s"
   ]
  },
  {
   "cell_type": "code",
   "execution_count": 106,
   "id": "7189ab0c",
   "metadata": {},
   "outputs": [],
   "source": [
    "s = 'Golang'"
   ]
  },
  {
   "cell_type": "code",
   "execution_count": 107,
   "id": "f11951b5",
   "metadata": {},
   "outputs": [
    {
     "data": {
      "text/plain": [
       "'Golang'"
      ]
     },
     "execution_count": 107,
     "metadata": {},
     "output_type": "execute_result"
    }
   ],
   "source": [
    "s"
   ]
  },
  {
   "cell_type": "code",
   "execution_count": 108,
   "id": "8c90d640",
   "metadata": {},
   "outputs": [
    {
     "ename": "TypeError",
     "evalue": "'str' object does not support item assignment",
     "output_type": "error",
     "traceback": [
      "\u001b[0;31m---------------------------------------------------------------------------\u001b[0m",
      "\u001b[0;31mTypeError\u001b[0m                                 Traceback (most recent call last)",
      "Input \u001b[0;32mIn [108]\u001b[0m, in \u001b[0;36m<cell line: 1>\u001b[0;34m()\u001b[0m\n\u001b[0;32m----> 1\u001b[0m s[\u001b[38;5;241m0\u001b[39m] \u001b[38;5;241m=\u001b[39m \u001b[38;5;124m'\u001b[39m\u001b[38;5;124mg\u001b[39m\u001b[38;5;124m'\u001b[39m\n",
      "\u001b[0;31mTypeError\u001b[0m: 'str' object does not support item assignment"
     ]
    }
   ],
   "source": [
    "s[0] = 'g'"
   ]
  },
  {
   "cell_type": "code",
   "execution_count": 109,
   "id": "04655d6f",
   "metadata": {},
   "outputs": [],
   "source": [
    "x = 1"
   ]
  },
  {
   "cell_type": "code",
   "execution_count": 110,
   "id": "11494b5a",
   "metadata": {},
   "outputs": [],
   "source": [
    "x = 3"
   ]
  },
  {
   "cell_type": "code",
   "execution_count": 113,
   "id": "61bd2161",
   "metadata": {},
   "outputs": [
    {
     "data": {
      "text/plain": [
       "'MARGARET'"
      ]
     },
     "execution_count": 113,
     "metadata": {},
     "output_type": "execute_result"
    }
   ],
   "source": [
    "first.upper()"
   ]
  },
  {
   "cell_type": "code",
   "execution_count": 114,
   "id": "9f25187a",
   "metadata": {},
   "outputs": [
    {
     "data": {
      "text/plain": [
       "'Margaret'"
      ]
     },
     "execution_count": 114,
     "metadata": {},
     "output_type": "execute_result"
    }
   ],
   "source": [
    "first"
   ]
  },
  {
   "cell_type": "code",
   "execution_count": 115,
   "id": "2d67c492",
   "metadata": {},
   "outputs": [
    {
     "name": "stdout",
     "output_type": "stream",
     "text": [
      "1 2 3\n"
     ]
    }
   ],
   "source": [
    "print(1, 2, 3)"
   ]
  },
  {
   "cell_type": "code",
   "execution_count": 117,
   "id": "d90d22d3",
   "metadata": {},
   "outputs": [
    {
     "name": "stdout",
     "output_type": "stream",
     "text": [
      "1...2...3\n"
     ]
    }
   ],
   "source": [
    "print(1, 2, 3, sep='...')"
   ]
  },
  {
   "cell_type": "code",
   "execution_count": 121,
   "id": "d71c6165",
   "metadata": {},
   "outputs": [
    {
     "name": "stdout",
     "output_type": "stream",
     "text": [
      "1 2 34 5\n"
     ]
    }
   ],
   "source": [
    "print(1, 2, 3, end='')\n",
    "print(4, 5)"
   ]
  },
  {
   "cell_type": "code",
   "execution_count": 122,
   "id": "3ae3a9b3",
   "metadata": {},
   "outputs": [
    {
     "name": "stdout",
     "output_type": "stream",
     "text": [
      "1\n",
      "2\n",
      "3\n"
     ]
    }
   ],
   "source": [
    "print(1, 2, 3, sep='\\n')"
   ]
  },
  {
   "cell_type": "code",
   "execution_count": 126,
   "id": "339b774e",
   "metadata": {},
   "outputs": [
    {
     "name": "stdout",
     "output_type": "stream",
     "text": [
      "Yep, non-empty string\n"
     ]
    }
   ],
   "source": [
    "string = 'thing'\n",
    "#...\n",
    "\n",
    "if string:\n",
    "    print('Yep, non-empty string')"
   ]
  },
  {
   "cell_type": "markdown",
   "id": "c812091d-fe1a-4e0d-9cd1-a900a1aa9965",
   "metadata": {},
   "source": [
    "## Lab: Odd-Even Program (our first program that does something)\n",
    "1. prompt the user to enter a number\n",
    "2. read input from the user\n",
    "3. convert the input to an integer\n",
    "4. tell the user whether the number entered was odd or even"
   ]
  },
  {
   "cell_type": "code",
   "execution_count": 24,
   "id": "e37de00c-5bae-47dd-b7bd-dfc7aede1131",
   "metadata": {},
   "outputs": [
    {
     "name": "stdin",
     "output_type": "stream",
     "text": [
      "Enter a number:  362673\n"
     ]
    },
    {
     "name": "stdout",
     "output_type": "stream",
     "text": [
      "362673 is odd\n"
     ]
    }
   ],
   "source": [
    "# steps 1-3\n",
    "number = int(input('Enter a number: '))\n",
    "\n",
    "if number % 2 == 0:\n",
    "    print(number, 'is even')\n",
    "else:\n",
    "    print(number, 'is odd')"
   ]
  },
  {
   "cell_type": "code",
   "execution_count": 31,
   "id": "87626467-86e6-4a1c-9dea-f3daf6ba39ae",
   "metadata": {},
   "outputs": [
    {
     "name": "stdin",
     "output_type": "stream",
     "text": [
      "Enter a number:  hello1\n"
     ]
    },
    {
     "name": "stdout",
     "output_type": "stream",
     "text": [
      "hello1 is odd\n"
     ]
    }
   ],
   "source": [
    "# now let's see how some of us are solving this problem in our brains...\n",
    "number = input('Enter a number: ') # leave it as a string, because we just want to look at last digit\n",
    "# deliberately introducing some new features of Python which will look at later in more depth...\n",
    "# negative indexing allows us to come in from the end or right of the string, so -1 is the last character\n",
    "if number[-1] in '02468': # if the last digit is 0, 2, 4, 6, or 8\n",
    "    print(number, 'is even')\n",
    "elif number[-1] in '13579':\n",
    "    print(number, 'is odd')\n",
    "else:\n",
    "    print('not a number!')"
   ]
  },
  {
   "cell_type": "code",
   "execution_count": 18,
   "id": "36f3d4ce-85e2-403c-a51f-0c219bbc2ce4",
   "metadata": {},
   "outputs": [],
   "source": [
    "is_working = False"
   ]
  },
  {
   "cell_type": "code",
   "execution_count": 16,
   "id": "0a60c6ae-a2b1-4736-9ce8-d1a5b6fc2754",
   "metadata": {},
   "outputs": [
    {
     "name": "stdout",
     "output_type": "stream",
     "text": [
      "hey, it seems to be working!\n"
     ]
    }
   ],
   "source": [
    "if is_working:\n",
    "    print('hey, it seems to be working!')"
   ]
  },
  {
   "cell_type": "code",
   "execution_count": 19,
   "id": "ca03971f-3a6d-420d-8f57-9704f8d7ecbe",
   "metadata": {},
   "outputs": [
    {
     "name": "stdout",
     "output_type": "stream",
     "text": [
      "uh oh, broken!\n"
     ]
    }
   ],
   "source": [
    "if not is_working:\n",
    "    print('uh oh, broken!')"
   ]
  },
  {
   "cell_type": "code",
   "execution_count": 22,
   "id": "fe57bceb-5c3d-4f19-8595-d99ba07ce5ef",
   "metadata": {},
   "outputs": [
    {
     "data": {
      "text/plain": [
       "True"
      ]
     },
     "execution_count": 22,
     "metadata": {},
     "output_type": "execute_result"
    }
   ],
   "source": [
    "0 == False"
   ]
  },
  {
   "cell_type": "code",
   "execution_count": 26,
   "id": "cc77d2fe-7561-4374-9ee3-05f73da0e7dd",
   "metadata": {},
   "outputs": [
    {
     "data": {
      "text/plain": [
       "'6'"
      ]
     },
     "execution_count": 26,
     "metadata": {},
     "output_type": "execute_result"
    }
   ],
   "source": [
    "'35263526236'[-1]"
   ]
  },
  {
   "cell_type": "code",
   "execution_count": 27,
   "id": "73957598-b4e6-42a7-9d97-afeacb47a7e9",
   "metadata": {},
   "outputs": [
    {
     "data": {
      "text/plain": [
       "True"
      ]
     },
     "execution_count": 27,
     "metadata": {},
     "output_type": "execute_result"
    }
   ],
   "source": [
    "'6' in '02468'"
   ]
  },
  {
   "cell_type": "code",
   "execution_count": 28,
   "id": "84ea3005-0a0c-42b8-abf9-709c6a5e520c",
   "metadata": {},
   "outputs": [
    {
     "data": {
      "text/plain": [
       "'35263526236'"
      ]
     },
     "execution_count": 28,
     "metadata": {},
     "output_type": "execute_result"
    }
   ],
   "source": [
    "#01234567890\n",
    "#        321\n",
    "'35263526236'"
   ]
  },
  {
   "cell_type": "code",
   "execution_count": 32,
   "id": "4fe0462b-32c2-4a9f-8b9e-b63608e915bc",
   "metadata": {},
   "outputs": [
    {
     "name": "stdout",
     "output_type": "stream",
     "text": [
      "   September 1752     \n",
      "Su Mo Tu We Th Fr Sa  \n",
      "       1  2 14 15 16  \n",
      "17 18 19 20 21 22 23  \n",
      "24 25 26 27 28 29 30  \n",
      "                      \n",
      "                      \n",
      "                      \n"
     ]
    }
   ],
   "source": [
    "!cal 9 1752"
   ]
  },
  {
   "cell_type": "markdown",
   "id": "57f8018b-bb51-4e03-a128-65077841dc5b",
   "metadata": {},
   "source": [
    "## Lab: Leap Year Program\n",
    "1. prompt the user to enter a year\n",
    "2. read input from the user\n",
    "3. convert the input to an integer\n",
    "4. tell the user whether the year entered is a leap year or not\n",
    "  * a year is a leap year if\n",
    "  1. it's divisible by 4 AND\n",
    "  2. it's not divisible by 100 (i.e., 1900 was not a leap year) UNLESS\n",
    "  3. it's also divisible by 400 (i.e., 2000 was a leap year)"
   ]
  },
  {
   "cell_type": "code",
   "execution_count": 52,
   "id": "fc1ba070-a229-4226-af87-a0fc310a7eca",
   "metadata": {},
   "outputs": [
    {
     "name": "stdin",
     "output_type": "stream",
     "text": [
      "Enter a year:  2021\n"
     ]
    },
    {
     "name": "stdout",
     "output_type": "stream",
     "text": [
      "2021 is a NOT a leap year because not divisible by 4\n"
     ]
    }
   ],
   "source": [
    "# the LONG way, explaining what we know at each step\n",
    "year = int(input('Enter a year: '))\n",
    "print(year, 'is a', end=' ') # prevent print() from \"going to the next line\"\n",
    "\n",
    "if year % 4 == 0:\n",
    "    # at this point we know it's divisible by 4\n",
    "    if year % 100 == 0:\n",
    "        # at this point we know it's divisible by 4 AND divisible by 100\n",
    "        if year % 400 == 0:\n",
    "            print('leap year')\n",
    "        else:\n",
    "            # ...and not divisible by 400\n",
    "            print('NOT a leap year because divisible by 100 but not 400')\n",
    "    else:\n",
    "        # at this point we know it's divisible by 4 and NOT divisible by 100:\n",
    "        print('leap year')\n",
    "else:\n",
    "    # not divisible by 4...\n",
    "    print('NOT a leap year because not divisible by 4')"
   ]
  },
  {
   "cell_type": "code",
   "execution_count": 46,
   "id": "7e9705d1-6f16-4477-b267-29dc27948392",
   "metadata": {},
   "outputs": [
    {
     "name": "stdin",
     "output_type": "stream",
     "text": [
      "Enter a year:  1900\n"
     ]
    },
    {
     "name": "stdout",
     "output_type": "stream",
     "text": [
      "1900 is NOT a leap year\n"
     ]
    }
   ],
   "source": [
    "# now let's write it as one Boolean expression\n",
    "year = int(input('Enter a year: '))\n",
    "if (year % 4 == 0) and ((year % 100 != 0) or (year % 400 == 0)):\n",
    "    print(year, 'is a leap year')\n",
    "else:\n",
    "    print(year, 'is NOT a leap year')"
   ]
  },
  {
   "cell_type": "code",
   "execution_count": null,
   "id": "8ae60f41-8ff1-46cd-a528-7da234363cc7",
   "metadata": {},
   "outputs": [],
   "source": [
    "# now let's write it as one Boolean expression\n",
    "# using De Morgan's Theorem to \"invert\" the sense of the expression\n",
    "year = int(input('Enter a year: '))\n",
    "if (year % 4 != 0) or ((year % 100 == 0) and (year % 400 != 0)):\n",
    "    print(year, 'is NOT a leap year')\n",
    "else:\n",
    "    print(year, 'is a leap year')"
   ]
  },
  {
   "cell_type": "code",
   "execution_count": 55,
   "id": "e45e2c0c-d542-46f8-bcb3-f99ed5b9de84",
   "metadata": {},
   "outputs": [
    {
     "data": {
      "text/plain": [
       "0.9836440875334497"
      ]
     },
     "execution_count": 55,
     "metadata": {},
     "output_type": "execute_result"
    }
   ],
   "source": [
    "1 * 364/365 * 363/365 * 362/365 # ... "
   ]
  },
  {
   "cell_type": "code",
   "execution_count": 61,
   "id": "bd899707-3eb7-452a-9841-f740e5690f32",
   "metadata": {},
   "outputs": [
    {
     "name": "stdin",
     "output_type": "stream",
     "text": [
      "Enter number of people in the room:  5\n"
     ]
    }
   ],
   "source": [
    "num_people = int(input('Enter number of people in the room: '))\n",
    "numerator = 365\n",
    "denominator = 365"
   ]
  },
  {
   "cell_type": "code",
   "execution_count": 62,
   "id": "94697e4b-895c-427b-88d2-6c63e0504ea0",
   "metadata": {},
   "outputs": [
    {
     "name": "stdout",
     "output_type": "stream",
     "text": [
      "365/365 * 364/365 * 363/365 * 362/365 * 361/365 * "
     ]
    }
   ],
   "source": [
    "for num in range(5):\n",
    "    print(numerator, '/', denominator, sep='', end=' * ')\n",
    "    numerator = numerator - 1 # numerator -= 1"
   ]
  },
  {
   "cell_type": "code",
   "execution_count": 74,
   "id": "12b40fe6-176c-4e16-8dfb-3fdfc28ec62f",
   "metadata": {},
   "outputs": [
    {
     "name": "stdin",
     "output_type": "stream",
     "text": [
      "Enter number of people in the room:  60\n"
     ]
    },
    {
     "name": "stdout",
     "output_type": "stream",
     "text": [
      "99.41%\n"
     ]
    }
   ],
   "source": [
    "num_people = int(input('Enter number of people in the room: '))\n",
    "numerator = 365\n",
    "denominator = 365\n",
    "\n",
    "probability = 1.0 # pre-load or \"prime the pump\"\n",
    "\n",
    "# forward reference - for loops\n",
    "for num in range(num_people): # \"do this num_people number of times\n",
    "    probability = probability * numerator / denominator\n",
    "    numerator = numerator - 1\n",
    "    \n",
    "probability = (1.0 - probability) * 100.0 # turn it into a percent\n",
    "print(\"%.2f%%\" % probability) # print out probability with 2 decimal places, using a Python 2-style formatted print"
   ]
  },
  {
   "cell_type": "markdown",
   "id": "b3f28d01-96ca-44e1-8a5f-764e4531a874",
   "metadata": {},
   "source": [
    "## Lab: for loops\n",
    "* write a Python program which asks the user for a string and then outputs the same string with each character duplicated\n",
    "  * e.g., if the user enters __Tesla__, your program will output __TTeessllaa__\n",
    "* write a Python program to compute __`n! (= n * n - 1 * n - 2 ... * 1)`__\n",
    "  * so if the user enters a 5, your program should compute __`5 * 4 * 3 * 2 * 1 (120)`__"
   ]
  },
  {
   "cell_type": "code",
   "execution_count": 2,
   "id": "c2d32d70-d36c-470a-a74e-355abe4738c2",
   "metadata": {},
   "outputs": [
    {
     "name": "stdin",
     "output_type": "stream",
     "text": [
      "Enter a string:  gazornin\n"
     ]
    },
    {
     "name": "stdout",
     "output_type": "stream",
     "text": [
      "ggaazzoorrnniinn\n"
     ]
    }
   ],
   "source": [
    "# steps...\n",
    "# 1. get a string\n",
    "# 2. for each letter in the string\n",
    "#.   3. print it out twice with no carriage return\n",
    "\n",
    "string = input('Enter a string: ') # step 1\n",
    "for letter in string: # step 2\n",
    "    print(letter * 2, end='') # step 3\n",
    "print()"
   ]
  },
  {
   "cell_type": "code",
   "execution_count": 3,
   "id": "9d1ffd0e-0c72-4cdd-910a-436db2e8596a",
   "metadata": {},
   "outputs": [
    {
     "name": "stdout",
     "output_type": "stream",
     "text": [
      "ggaazzoorrnniinn"
     ]
    }
   ],
   "source": [
    "# or...\n",
    "for letter in string:\n",
    "    print(letter + letter, end='')"
   ]
  },
  {
   "cell_type": "code",
   "execution_count": 4,
   "id": "87904ac4-7344-470f-8441-aaa976bec83f",
   "metadata": {},
   "outputs": [
    {
     "name": "stdout",
     "output_type": "stream",
     "text": [
      "ggaazzoorrnniinn"
     ]
    }
   ],
   "source": [
    "# or...\n",
    "for letter in string:\n",
    "    print(letter, letter, sep='', end='')"
   ]
  },
  {
   "cell_type": "code",
   "execution_count": 8,
   "id": "bf8b9af2-f1a7-4ba3-8e3c-aa3a5e72063a",
   "metadata": {},
   "outputs": [
    {
     "name": "stdout",
     "output_type": "stream",
     "text": [
      "ggaazzoorrnniinn"
     ]
    }
   ],
   "source": [
    "for letter in string:\n",
    "    for times in range(2): # Swaraj's solution, i.e., nested loop\n",
    "        print(letter, end='')"
   ]
  },
  {
   "cell_type": "code",
   "execution_count": 7,
   "id": "362d233f-8311-4f42-95ac-721f35af4303",
   "metadata": {},
   "outputs": [
    {
     "name": "stdout",
     "output_type": "stream",
     "text": [
      "ggaazzoorrnniinn\n"
     ]
    }
   ],
   "source": [
    "output = ''\n",
    "for letter in string:\n",
    "    output = output + 2 * letter\n",
    "\n",
    "print(output)"
   ]
  },
  {
   "cell_type": "code",
   "execution_count": 14,
   "id": "4aaf3cb5-a483-45b4-b89d-994387562e7f",
   "metadata": {},
   "outputs": [
    {
     "name": "stdin",
     "output_type": "stream",
     "text": [
      "Enter a number:  300\n"
     ]
    },
    {
     "name": "stdout",
     "output_type": "stream",
     "text": [
      "300! = 306057512216440636035370461297268629388588804173576999416776741259476533176716867465515291422477573349939147888701726368864263907759003154226842927906974559841225476930271954604008012215776252176854255965356903506788725264321896264299365204576448830388909753943489625436053225980776521270822437639449120128678675368305712293681943649956460498166450227716500185176546469340112226034729724066333258583506870150169794168850353752137554910289126407157154830282284937952636580145235233156936482233436799254594095276820608062232812387383880817049600000000000000000000000000000000000000000000000000000000000000000000000000\n"
     ]
    }
   ],
   "source": [
    "# steps\n",
    "# 1. get user input\n",
    "# 2. convert it to int\n",
    "# 2a. start with 1 (or the number) as a running product\n",
    "# 3. for each number from 1 up to user's number (or from user's number down to 1)\n",
    "# 4.     multiply product by the number\n",
    "\n",
    "number = int(input('Enter a number: ')) # steps 1 and 2\n",
    "factorial = number # step 2a\n",
    "\n",
    "for num in range(number - 1, 1, -1): # count down to 2 (we don't need 1)\n",
    "    factorial = factorial * num # factorial *= num\n",
    "\n",
    "print(number, '! = ', factorial, sep='')"
   ]
  },
  {
   "cell_type": "code",
   "execution_count": 15,
   "id": "0c28f0ba-86c8-4334-906e-cf8f8ea237e5",
   "metadata": {},
   "outputs": [
    {
     "name": "stdout",
     "output_type": "stream",
     "text": [
      "300! = 306057512216440636035370461297268629388588804173576999416776741259476533176716867465515291422477573349939147888701726368864263907759003154226842927906974559841225476930271954604008012215776252176854255965356903506788725264321896264299365204576448830388909753943489625436053225980776521270822437639449120128678675368305712293681943649956460498166450227716500185176546469340112226034729724066333258583506870150169794168850353752137554910289126407157154830282284937952636580145235233156936482233436799254594095276820608062232812387383880817049600000000000000000000000000000000000000000000000000000000000000000000000000\n"
     ]
    }
   ],
   "source": [
    "# start with 1 but count down as above\n",
    "factorial = 1 # step 2a\n",
    "\n",
    "for num in range(number, 1, -1): # count down to 2 (we don't need 1)\n",
    "    factorial = factorial * num # factorial *= num\n",
    "\n",
    "print(number, '! = ', factorial, sep='')"
   ]
  },
  {
   "cell_type": "code",
   "execution_count": 84,
   "id": "b5aabf5f-bba2-4dd7-baa6-25364a56a5bc",
   "metadata": {},
   "outputs": [
    {
     "data": {
      "text/plain": [
       "7"
      ]
     },
     "execution_count": 84,
     "metadata": {},
     "output_type": "execute_result"
    }
   ],
   "source": [
    "3 + 4"
   ]
  },
  {
   "cell_type": "code",
   "execution_count": 1,
   "id": "de3c6c34-89a8-4f01-bb4d-d62511b1a35b",
   "metadata": {},
   "outputs": [
    {
     "data": {
      "text/plain": [
       "4"
      ]
     },
     "execution_count": 1,
     "metadata": {},
     "output_type": "execute_result"
    }
   ],
   "source": [
    "2 + 2"
   ]
  },
  {
   "cell_type": "markdown",
   "id": "b492a487-52b2-40bc-9ce3-ef5d59975608",
   "metadata": {},
   "source": [
    "## Lab: while loops\n",
    "1. write Python code which prompts the user to enter a 5-letter string\n",
    "  * it then reads input from the user and stops if the user did in fact enter a 5-letter string\n",
    "  * otherwise, it prints an error message, and once again asks the user to enter a 5-letter string\n",
    "2. write a Python program which picks a random number between 1 and 100 and asks the user to guess it\n",
    "  * if the user's guess is too high, say it's too high\n",
    "  * if the user's guess is too low, say it's too low\n",
    "  * if the user's guess is correct, say it's correct and stop looping\n",
    "  * you can use the code below to get a random number\n",
    "  \n",
    "  <pre><b>\n",
    "  import random\n",
    "  number = random.randint(1, 100)\n",
    "  </b></pre>"
   ]
  },
  {
   "cell_type": "code",
   "execution_count": 31,
   "id": "391de0fd-fc8f-459d-bbea-29c97d80ce0f",
   "metadata": {},
   "outputs": [
    {
     "name": "stdin",
     "output_type": "stream",
     "text": [
      "Enter a 5-letter string:  no\n",
      "Enter a 5-letter string:  no\n",
      "Enter a 5-letter string:  no!!\n",
      "Enter a 5-letter string:  no!\n",
      "Enter a 5-letter string:  yes!!\n"
     ]
    }
   ],
   "source": [
    "string = ''\n",
    "while len(string) != 5:\n",
    "    string = input('Enter a 5-character string: ')"
   ]
  },
  {
   "cell_type": "code",
   "execution_count": 48,
   "id": "0b323ef9-3165-452c-8f62-d03c74705083",
   "metadata": {},
   "outputs": [
    {
     "name": "stdin",
     "output_type": "stream",
     "text": [
      "Enter your guess:  50\n"
     ]
    },
    {
     "name": "stdout",
     "output_type": "stream",
     "text": [
      "Too low! ...but you are REALLY close!\n"
     ]
    },
    {
     "name": "stdin",
     "output_type": "stream",
     "text": [
      "Enter your guess:  53\n"
     ]
    },
    {
     "name": "stdout",
     "output_type": "stream",
     "text": [
      "You got it!\n"
     ]
    }
   ],
   "source": [
    "# step 1: \"pull in\" random module\n",
    "# 2. generate a random int between 1 to 100\n",
    "# 2a. \"prime the pump\" by setting user's guess to 0 (outside range of 1..100 inclusive)\n",
    "# 3. while user's guess != number:\n",
    "#       4. get a guess from the user and int-ify\n",
    "#.      5. if guess > number print('too big')\n",
    "#.      6. else if guess < number print('too small')\n",
    "#.      7. else print('yay!')\n",
    "\n",
    "import random # step 1\n",
    "number = random.randint(1, 100) # step 2\n",
    "guess = 0 # step 2a\n",
    "\n",
    "while guess != number: # step 3\n",
    "    guess = int(input('Enter your guess: ')) # step 4\n",
    "    difference = abs(guess - number)\n",
    "   \n",
    "    close = ''\n",
    "    if 5 <= difference <= 10:\n",
    "        close = '...but you are close!'\n",
    "    elif 1 <= difference <= 4:\n",
    "        close = '...but you are REALLY close!'\n",
    "        \n",
    "    if guess > number: # 5 \n",
    "        print('Too high!' + close)\n",
    "    elif guess < number: # 6 \n",
    "        print('Too low!' + close)\n",
    "    else:\n",
    "        print('You got it!')"
   ]
  },
  {
   "cell_type": "code",
   "execution_count": 32,
   "id": "fa6f0780-2143-4fba-afa7-c1149a422328",
   "metadata": {},
   "outputs": [],
   "source": [
    "thing = 'thang'"
   ]
  },
  {
   "cell_type": "code",
   "execution_count": 33,
   "id": "5852583a-e6d7-467e-8bdb-bfaea62f5be3",
   "metadata": {},
   "outputs": [
    {
     "data": {
      "text/plain": [
       "140620455695408"
      ]
     },
     "execution_count": 33,
     "metadata": {},
     "output_type": "execute_result"
    }
   ],
   "source": [
    "id(thing)"
   ]
  },
  {
   "cell_type": "code",
   "execution_count": 34,
   "id": "b86f57e6-13ce-4545-8d8c-c2abac0b3258",
   "metadata": {},
   "outputs": [],
   "source": [
    "import random"
   ]
  },
  {
   "cell_type": "code",
   "execution_count": 35,
   "id": "be254d41-48dc-4b14-be53-df561b8a0755",
   "metadata": {},
   "outputs": [
    {
     "data": {
      "text/plain": [
       "140620183043424"
      ]
     },
     "execution_count": 35,
     "metadata": {},
     "output_type": "execute_result"
    }
   ],
   "source": [
    "id(random)"
   ]
  },
  {
   "cell_type": "code",
   "execution_count": 36,
   "id": "8c1f3b20-06ce-4667-8d59-c363cb9685aa",
   "metadata": {},
   "outputs": [
    {
     "data": {
      "text/plain": [
       "['BPF',\n",
       " 'LOG4',\n",
       " 'NV_MAGICCONST',\n",
       " 'RECIP_BPF',\n",
       " 'Random',\n",
       " 'SG_MAGICCONST',\n",
       " 'SystemRandom',\n",
       " 'TWOPI',\n",
       " '_Sequence',\n",
       " '_Set',\n",
       " '__all__',\n",
       " '__builtins__',\n",
       " '__cached__',\n",
       " '__doc__',\n",
       " '__file__',\n",
       " '__loader__',\n",
       " '__name__',\n",
       " '__package__',\n",
       " '__spec__',\n",
       " '_accumulate',\n",
       " '_acos',\n",
       " '_bisect',\n",
       " '_ceil',\n",
       " '_cos',\n",
       " '_e',\n",
       " '_exp',\n",
       " '_floor',\n",
       " '_inst',\n",
       " '_log',\n",
       " '_os',\n",
       " '_pi',\n",
       " '_random',\n",
       " '_repeat',\n",
       " '_sha512',\n",
       " '_sin',\n",
       " '_sqrt',\n",
       " '_test',\n",
       " '_test_generator',\n",
       " '_urandom',\n",
       " '_warn',\n",
       " 'betavariate',\n",
       " 'choice',\n",
       " 'choices',\n",
       " 'expovariate',\n",
       " 'gammavariate',\n",
       " 'gauss',\n",
       " 'getrandbits',\n",
       " 'getstate',\n",
       " 'lognormvariate',\n",
       " 'normalvariate',\n",
       " 'paretovariate',\n",
       " 'randbytes',\n",
       " 'randint',\n",
       " 'random',\n",
       " 'randrange',\n",
       " 'sample',\n",
       " 'seed',\n",
       " 'setstate',\n",
       " 'shuffle',\n",
       " 'triangular',\n",
       " 'uniform',\n",
       " 'vonmisesvariate',\n",
       " 'weibullvariate']"
      ]
     },
     "execution_count": 36,
     "metadata": {},
     "output_type": "execute_result"
    }
   ],
   "source": [
    "dir(random)"
   ]
  },
  {
   "cell_type": "code",
   "execution_count": 37,
   "id": "dc8d5376-4124-4c53-b2ad-215adc18080e",
   "metadata": {},
   "outputs": [
    {
     "name": "stdout",
     "output_type": "stream",
     "text": [
      "Help on method randint in module random:\n",
      "\n",
      "randint(a, b) method of random.Random instance\n",
      "    Return random integer in range [a, b], including both end points.\n",
      "\n"
     ]
    }
   ],
   "source": [
    "help(random.randint)"
   ]
  },
  {
   "cell_type": "code",
   "execution_count": 38,
   "id": "30b2cf8b-660f-475c-9feb-09af4138414e",
   "metadata": {},
   "outputs": [
    {
     "name": "stdout",
     "output_type": "stream",
     "text": [
      "Help on method randrange in module random:\n",
      "\n",
      "randrange(start, stop=None, step=1) method of random.Random instance\n",
      "    Choose a random item from range(start, stop[, step]).\n",
      "    \n",
      "    This fixes the problem with randint() which includes the\n",
      "    endpoint; in Python this is usually not what you want.\n",
      "\n"
     ]
    }
   ],
   "source": [
    "help(random.randrange)"
   ]
  },
  {
   "cell_type": "code",
   "execution_count": 44,
   "id": "05ab45c6-1fbd-443e-bb00-788933691864",
   "metadata": {},
   "outputs": [
    {
     "data": {
      "text/plain": [
       "160"
      ]
     },
     "execution_count": 44,
     "metadata": {},
     "output_type": "execute_result"
    }
   ],
   "source": [
    "random.randrange(100, 201, 2)"
   ]
  },
  {
   "cell_type": "code",
   "execution_count": 49,
   "id": "075dbee7-8b81-4723-a9b5-20eebf18b1d5",
   "metadata": {},
   "outputs": [
    {
     "name": "stdin",
     "output_type": "stream",
     "text": [
      "Enter a 5-character string:  \n"
     ]
    },
    {
     "name": "stdout",
     "output_type": "stream",
     "text": [
      "Pay attention, you need to enter a 5-character string!\n"
     ]
    },
    {
     "name": "stdin",
     "output_type": "stream",
     "text": [
      "Enter a 5-character string:  quit!\n"
     ]
    }
   ],
   "source": [
    "# Give the user up to 5 tries to comply\n",
    "\n",
    "for num_tries in range(5): # \"do this 5 times\" or \"we are counting from 0..4\"\n",
    "    string = input('Enter a 5-character string: ')\n",
    "    if len(string) == 5: # if they complied, we are done\n",
    "        break\n",
    "    print('Pay attention, you need to enter a 5-character string!')\n",
    "    \n",
    "if len(string) != 5:\n",
    "    print('you blew it')"
   ]
  },
  {
   "cell_type": "markdown",
   "id": "544f9d69-096c-46ed-8429-0635f9cbdacf",
   "metadata": {},
   "source": [
    "## Lab: break/continue/else\n",
    "* modify your guessing game to add the option for the user to give up by typing a 0 as his or her guess:\n",
    "    * if the user enters a 0, exit the loop\n",
    "    * after the loop, we need to determine   \n",
    "    whether the user gave up or guessed the   \n",
    "    number correctly\n",
    "    * if gave up, print 'sorry you\n",
    "     gave up'\n",
    "    * if correct, print 'got it!'\n",
    "</pre>\n"
   ]
  },
  {
   "cell_type": "code",
   "execution_count": 51,
   "id": "c115d6e1-b9ef-48eb-96e2-54c2a810437e",
   "metadata": {},
   "outputs": [
    {
     "name": "stdin",
     "output_type": "stream",
     "text": [
      "Enter your guess (0 to quit):  50\n"
     ]
    },
    {
     "name": "stdout",
     "output_type": "stream",
     "text": [
      "Too low!\n"
     ]
    },
    {
     "name": "stdin",
     "output_type": "stream",
     "text": [
      "Enter your guess (0 to quit):  75\n"
     ]
    },
    {
     "name": "stdout",
     "output_type": "stream",
     "text": [
      "You got it!\n"
     ]
    }
   ],
   "source": [
    "# step 1: \"pull in\" random module\n",
    "# 2. generate a random int between 1 to 100\n",
    "# 2a. \"prime the pump\" by setting user's guess to 0 (outside range of 1..100 inclusive)\n",
    "# 3. while user's guess != number:\n",
    "#       4. get a guess from the user and int-ify\n",
    "#.      4a. if guess is 0, then print message + break\n",
    "#.      5. if guess > number print('too big')\n",
    "#.      6. else if guess < number print('too small')\n",
    "#.      7. else print('yay!')\n",
    "\n",
    "import random # step 1\n",
    "number = random.randint(1, 100) # step 2\n",
    "guess = 0 # step 2a\n",
    "\n",
    "while guess != number: # step 3\n",
    "    guess = int(input('Enter your guess (0 to quit): ')) # step 4\n",
    "    \n",
    "    if guess == 0: # step 4a\n",
    "        print('Sorry you are not so good at this game!')\n",
    "        break # leave immediately\n",
    "        \n",
    "    difference = abs(guess - number)\n",
    "   \n",
    "    close = ''\n",
    "    if 5 <= difference <= 10:\n",
    "        close = '...but you are close!'\n",
    "    elif 1 <= difference <= 4:\n",
    "        close = '...but you are REALLY close!'\n",
    "        \n",
    "    if guess > number: # 5 \n",
    "        print('Too high!' + close)\n",
    "    elif guess < number: # 6 \n",
    "        print('Too low!' + close)\n",
    "else:\n",
    "    print('You got it!')"
   ]
  },
  {
   "cell_type": "code",
   "execution_count": 52,
   "id": "c927adab-361d-4953-9dbb-b1f30f3a04dc",
   "metadata": {},
   "outputs": [],
   "source": [
    "message = \"You're not finished.\""
   ]
  },
  {
   "cell_type": "code",
   "execution_count": 53,
   "id": "3cefaf76-c082-4f61-ab37-e1751af6668c",
   "metadata": {},
   "outputs": [
    {
     "data": {
      "text/plain": [
       "\"You're not finished.\""
      ]
     },
     "execution_count": 53,
     "metadata": {},
     "output_type": "execute_result"
    }
   ],
   "source": [
    "message"
   ]
  },
  {
   "cell_type": "code",
   "execution_count": 54,
   "id": "ea474a79-c077-49f4-9a82-2623773df0e7",
   "metadata": {},
   "outputs": [],
   "source": [
    "message = 'He said \"Nope!\"'"
   ]
  },
  {
   "cell_type": "code",
   "execution_count": 55,
   "id": "08011809-f006-48d2-b2fd-5b10c8692001",
   "metadata": {},
   "outputs": [
    {
     "data": {
      "text/plain": [
       "'He said \"Nope!\"'"
      ]
     },
     "execution_count": 55,
     "metadata": {},
     "output_type": "execute_result"
    }
   ],
   "source": [
    "message"
   ]
  },
  {
   "cell_type": "code",
   "execution_count": 56,
   "id": "7fb48c44-1761-4570-ab16-51d49d74983b",
   "metadata": {},
   "outputs": [
    {
     "name": "stdin",
     "output_type": "stream",
     "text": [
      "Enter a number:  0\n"
     ]
    }
   ],
   "source": [
    "while True:\n",
    "    number = int(input('Enter a number: '))\n",
    "    if number == 0:\n",
    "        break\n",
    "    # do something else"
   ]
  },
  {
   "cell_type": "code",
   "execution_count": 60,
   "id": "0c43e21c-43f6-4204-a657-50d105567997",
   "metadata": {},
   "outputs": [
    {
     "name": "stdin",
     "output_type": "stream",
     "text": [
      "Enter a number:  4\n"
     ]
    },
    {
     "name": "stdout",
     "output_type": "stream",
     "text": [
      "4\n"
     ]
    },
    {
     "name": "stdin",
     "output_type": "stream",
     "text": [
      "Enter a number:  5\n"
     ]
    },
    {
     "name": "stdout",
     "output_type": "stream",
     "text": [
      "5\n"
     ]
    },
    {
     "name": "stdin",
     "output_type": "stream",
     "text": [
      "Enter a number:  66\n"
     ]
    },
    {
     "name": "stdout",
     "output_type": "stream",
     "text": [
      "66\n"
     ]
    },
    {
     "name": "stdin",
     "output_type": "stream",
     "text": [
      "Enter a number:  0\n"
     ]
    }
   ],
   "source": [
    "while (number := int(input('Enter a number: '))) != 0:\n",
    "    print(number)"
   ]
  },
  {
   "cell_type": "code",
   "execution_count": 59,
   "id": "91455176-ebb9-4dca-8a55-a99305bdb7f8",
   "metadata": {},
   "outputs": [
    {
     "ename": "SyntaxError",
     "evalue": "invalid syntax (431332470.py, line 1)",
     "output_type": "error",
     "traceback": [
      "\u001b[0;36m  Input \u001b[0;32mIn [59]\u001b[0;36m\u001b[0m\n\u001b[0;31m    x := 4\u001b[0m\n\u001b[0m          ^\u001b[0m\n\u001b[0;31mSyntaxError\u001b[0m\u001b[0;31m:\u001b[0m invalid syntax\n"
     ]
    }
   ],
   "source": [
    "x := 4"
   ]
  },
  {
   "cell_type": "code",
   "execution_count": 61,
   "id": "25901b08-8d67-4600-aca1-03a3d5383092",
   "metadata": {},
   "outputs": [
    {
     "data": {
      "text/plain": [
       "'3.9.12 (main, Apr  5 2022, 01:53:17) \\n[Clang 12.0.0 ]'"
      ]
     },
     "execution_count": 61,
     "metadata": {},
     "output_type": "execute_result"
    }
   ],
   "source": [
    "import sys\n",
    "sys.version"
   ]
  },
  {
   "cell_type": "code",
   "execution_count": 63,
   "id": "89c77de4-996b-4eba-8e3a-02e188a29764",
   "metadata": {},
   "outputs": [
    {
     "name": "stdin",
     "output_type": "stream",
     "text": [
      "Enter your guess (0 to quit):  50\n"
     ]
    },
    {
     "name": "stdout",
     "output_type": "stream",
     "text": [
      "Too high!\n"
     ]
    },
    {
     "name": "stdin",
     "output_type": "stream",
     "text": [
      "Enter your guess (0 to quit):  25\n"
     ]
    },
    {
     "name": "stdout",
     "output_type": "stream",
     "text": [
      "Too high!\n"
     ]
    },
    {
     "name": "stdin",
     "output_type": "stream",
     "text": [
      "Enter your guess (0 to quit):  12\n"
     ]
    },
    {
     "name": "stdout",
     "output_type": "stream",
     "text": [
      "Too low!...but you are REALLY close!\n"
     ]
    },
    {
     "name": "stdin",
     "output_type": "stream",
     "text": [
      "Enter your guess (0 to quit):  14\n"
     ]
    },
    {
     "name": "stdout",
     "output_type": "stream",
     "text": [
      "You got it!\n"
     ]
    }
   ],
   "source": [
    "# step 1: \"pull in\" random module\n",
    "# 2. generate a random int between 1 to 100\n",
    "# 3. while user's guess != number:\n",
    "#       4. get a guess from the user and int-ify\n",
    "#.      4a. if guess is 0, then print message + break\n",
    "#.      5. if guess > number print('too big')\n",
    "#.      6. else if guess < number print('too small')\n",
    "#.      7. else print('yay!')\n",
    "\n",
    "import random # step 1\n",
    "number = random.randint(1, 100) # step 2\n",
    "\n",
    "while (guess := int(input('Enter your guess (0 to quit): '))) != 0: # step 3      \n",
    "    difference = abs(guess - number)\n",
    "   \n",
    "    close = ''\n",
    "    if 5 <= difference <= 10:\n",
    "        close = '...but you are close!'\n",
    "    elif 1 <= difference <= 4:\n",
    "        close = '...but you are REALLY close!'\n",
    "        \n",
    "    if guess > number: # 5 \n",
    "        print('Too high!' + close)\n",
    "    elif guess < number: # 6 \n",
    "        print('Too low!' + close)      \n",
    "    else:\n",
    "        print('You got it!')\n",
    "        break # leave immediately\n",
    "else:\n",
    "    print('Sorry you are quitting...')"
   ]
  },
  {
   "cell_type": "code",
   "execution_count": 73,
   "id": "08b3c931-91c3-40cc-9516-b0d9775d7526",
   "metadata": {},
   "outputs": [
    {
     "name": "stdout",
     "output_type": "stream",
     "text": [
      "The product of 5 and -4 is -20\n"
     ]
    }
   ],
   "source": [
    "# Python 3.6+ f-string\n",
    "x = 5\n",
    "y = -4\n",
    "print(f'The product of {x} and {y} is {x * y}')"
   ]
  },
  {
   "cell_type": "code",
   "execution_count": 70,
   "id": "c06efaf1-cf63-445d-832a-6f0e5b21af53",
   "metadata": {},
   "outputs": [
    {
     "name": "stdout",
     "output_type": "stream",
     "text": [
      "5\n"
     ]
    }
   ],
   "source": [
    "print('%i' % x)"
   ]
  },
  {
   "cell_type": "code",
   "execution_count": 75,
   "id": "3076d654-3ef1-4e5a-93df-8e3d11a1c911",
   "metadata": {},
   "outputs": [
    {
     "name": "stdout",
     "output_type": "stream",
     "text": [
      "52! = 80658175170943878571660636856403766975289505440883277824000000000000\n"
     ]
    }
   ],
   "source": [
    "import math\n",
    "n = 52\n",
    "print(f'{n}! = {math.factorial(n)}')"
   ]
  },
  {
   "cell_type": "markdown",
   "id": "75c554a2-748a-4729-abd0-1889eaf4bc7c",
   "metadata": {},
   "source": [
    "# Lab: Finding Prime Numbers\n",
    "* write a program to print out the prime numbers between 10 and 30\n",
    "* a number is prime if it's only divisible by 1 and itself\n",
    "* algorithm\n",
    "  * for each number 10 to 30\n",
    "    * try to divide in all of the numbers up to (but not including) the current number\n",
    "    * if any lower number divides in evenly, the number is not prime\n",
    "    * if NONE of the lower numbers divide in evenly, the number IS prime\n",
    "* later, if there's time, we'll look at another way to find prime numbers that was discovered by Eratosthenes"
   ]
  },
  {
   "cell_type": "code",
   "execution_count": 76,
   "id": "bbaa05ef-4937-4ba8-afc4-82abf7de2318",
   "metadata": {},
   "outputs": [],
   "source": [
    "# 1: for each number from 10 to 30\n",
    "#     2: for each possible divisor from 2 up to number - 1\n",
    "#           3: if divisor divides into number evenly, then:\n",
    "#                4. print NOT PRIME\n",
    "#                   5. stop checking\n",
    "#.      end of inner loop\n",
    "#.      print PRIME"
   ]
  },
  {
   "cell_type": "code",
   "execution_count": 89,
   "id": "7021d47a-7227-4137-9565-46aed4628bc4",
   "metadata": {},
   "outputs": [
    {
     "name": "stdout",
     "output_type": "stream",
     "text": [
      "2: \n",
      "3: 2 \n",
      "4: 2 3 \n",
      "5: 2 3 4 \n",
      "6: 2 3 4 5 \n",
      "7: 2 3 4 5 6 \n",
      "8: 2 3 4 5 6 7 \n",
      "9: 2 3 4 5 6 7 8 \n",
      "10: 2 3 4 5 6 7 8 9 \n",
      "11: 2 3 4 5 6 7 8 9 10 \n",
      "12: 2 3 4 5 6 7 8 9 10 11 \n",
      "13: 2 3 4 5 6 7 8 9 10 11 12 \n",
      "14: 2 3 4 5 6 7 8 9 10 11 12 13 \n",
      "15: 2 3 4 5 6 7 8 9 10 11 12 13 14 \n",
      "16: 2 3 4 5 6 7 8 9 10 11 12 13 14 15 \n",
      "17: 2 3 4 5 6 7 8 9 10 11 12 13 14 15 16 \n",
      "18: 2 3 4 5 6 7 8 9 10 11 12 13 14 15 16 17 \n",
      "19: 2 3 4 5 6 7 8 9 10 11 12 13 14 15 16 17 18 \n",
      "20: 2 3 4 5 6 7 8 9 10 11 12 13 14 15 16 17 18 19 \n",
      "21: 2 3 4 5 6 7 8 9 10 11 12 13 14 15 16 17 18 19 20 \n",
      "22: 2 3 4 5 6 7 8 9 10 11 12 13 14 15 16 17 18 19 20 21 \n",
      "23: 2 3 4 5 6 7 8 9 10 11 12 13 14 15 16 17 18 19 20 21 22 \n",
      "24: 2 3 4 5 6 7 8 9 10 11 12 13 14 15 16 17 18 19 20 21 22 23 \n",
      "25: 2 3 4 5 6 7 8 9 10 11 12 13 14 15 16 17 18 19 20 21 22 23 24 \n",
      "26: 2 3 4 5 6 7 8 9 10 11 12 13 14 15 16 17 18 19 20 21 22 23 24 25 \n",
      "27: 2 3 4 5 6 7 8 9 10 11 12 13 14 15 16 17 18 19 20 21 22 23 24 25 26 \n",
      "28: 2 3 4 5 6 7 8 9 10 11 12 13 14 15 16 17 18 19 20 21 22 23 24 25 26 27 \n",
      "29: 2 3 4 5 6 7 8 9 10 11 12 13 14 15 16 17 18 19 20 21 22 23 24 25 26 27 28 \n",
      "30: 2 3 4 5 6 7 8 9 10 11 12 13 14 15 16 17 18 19 20 21 22 23 24 25 26 27 28 29 \n"
     ]
    }
   ],
   "source": [
    "# could we test our logic by printing out what we are going to test/check\n",
    "for number in range(2, 31): # 10..30\n",
    "    print(number, end=': ')\n",
    "    for possible in range(2, number): # 2..number-1\n",
    "        print(possible, end=' ')\n",
    "    print()"
   ]
  },
  {
   "cell_type": "code",
   "execution_count": 91,
   "id": "d1959924-1259-44bc-ae74-ce1dbadde437",
   "metadata": {},
   "outputs": [
    {
     "name": "stdout",
     "output_type": "stream",
     "text": [
      "2 is PRIME\n",
      "3 is PRIME\n",
      "4 is composite\n",
      "5 is PRIME\n",
      "6 is composite\n",
      "7 is PRIME\n",
      "8 is composite\n",
      "9 is composite\n",
      "10 is composite\n",
      "11 is PRIME\n",
      "12 is composite\n",
      "13 is PRIME\n",
      "14 is composite\n",
      "15 is composite\n",
      "16 is composite\n",
      "17 is PRIME\n",
      "18 is composite\n",
      "19 is PRIME\n",
      "20 is composite\n",
      "21 is composite\n",
      "22 is composite\n",
      "23 is PRIME\n",
      "24 is composite\n",
      "25 is composite\n",
      "26 is composite\n",
      "27 is composite\n",
      "28 is composite\n",
      "29 is PRIME\n",
      "30 is composite\n",
      "31 is PRIME\n",
      "32 is composite\n",
      "33 is composite\n",
      "34 is composite\n",
      "35 is composite\n",
      "36 is composite\n",
      "37 is PRIME\n",
      "38 is composite\n",
      "39 is composite\n",
      "40 is composite\n",
      "41 is PRIME\n",
      "42 is composite\n",
      "43 is PRIME\n",
      "44 is composite\n",
      "45 is composite\n",
      "46 is composite\n",
      "47 is PRIME\n",
      "48 is composite\n",
      "49 is composite\n",
      "50 is composite\n",
      "51 is composite\n",
      "52 is composite\n",
      "53 is PRIME\n",
      "54 is composite\n",
      "55 is composite\n",
      "56 is composite\n",
      "57 is composite\n",
      "58 is composite\n",
      "59 is PRIME\n",
      "60 is composite\n",
      "61 is PRIME\n",
      "62 is composite\n",
      "63 is composite\n",
      "64 is composite\n",
      "65 is composite\n",
      "66 is composite\n",
      "67 is PRIME\n",
      "68 is composite\n",
      "69 is composite\n",
      "70 is composite\n",
      "71 is PRIME\n",
      "72 is composite\n",
      "73 is PRIME\n",
      "74 is composite\n",
      "75 is composite\n",
      "76 is composite\n",
      "77 is composite\n",
      "78 is composite\n",
      "79 is PRIME\n",
      "80 is composite\n",
      "81 is composite\n",
      "82 is composite\n",
      "83 is PRIME\n",
      "84 is composite\n",
      "85 is composite\n",
      "86 is composite\n",
      "87 is composite\n",
      "88 is composite\n",
      "89 is PRIME\n",
      "90 is composite\n",
      "91 is composite\n",
      "92 is composite\n",
      "93 is composite\n",
      "94 is composite\n",
      "95 is composite\n",
      "96 is composite\n",
      "97 is PRIME\n",
      "98 is composite\n",
      "99 is composite\n",
      "100 is composite\n",
      "101 is PRIME\n",
      "102 is composite\n",
      "103 is PRIME\n",
      "104 is composite\n",
      "105 is composite\n",
      "106 is composite\n",
      "107 is PRIME\n",
      "108 is composite\n",
      "109 is PRIME\n",
      "110 is composite\n",
      "111 is composite\n",
      "112 is composite\n",
      "113 is PRIME\n",
      "114 is composite\n",
      "115 is composite\n",
      "116 is composite\n",
      "117 is composite\n",
      "118 is composite\n",
      "119 is composite\n",
      "120 is composite\n",
      "121 is composite\n",
      "122 is composite\n",
      "123 is composite\n",
      "124 is composite\n",
      "125 is composite\n",
      "126 is composite\n",
      "127 is PRIME\n",
      "128 is composite\n",
      "129 is composite\n",
      "130 is composite\n",
      "131 is PRIME\n",
      "132 is composite\n",
      "133 is composite\n",
      "134 is composite\n",
      "135 is composite\n",
      "136 is composite\n",
      "137 is PRIME\n",
      "138 is composite\n",
      "139 is PRIME\n",
      "140 is composite\n",
      "141 is composite\n",
      "142 is composite\n",
      "143 is composite\n",
      "144 is composite\n",
      "145 is composite\n",
      "146 is composite\n",
      "147 is composite\n",
      "148 is composite\n",
      "149 is PRIME\n",
      "150 is composite\n",
      "151 is PRIME\n",
      "152 is composite\n",
      "153 is composite\n",
      "154 is composite\n",
      "155 is composite\n",
      "156 is composite\n",
      "157 is PRIME\n",
      "158 is composite\n",
      "159 is composite\n",
      "160 is composite\n",
      "161 is composite\n",
      "162 is composite\n",
      "163 is PRIME\n",
      "164 is composite\n",
      "165 is composite\n",
      "166 is composite\n",
      "167 is PRIME\n",
      "168 is composite\n",
      "169 is composite\n",
      "170 is composite\n",
      "171 is composite\n",
      "172 is composite\n",
      "173 is PRIME\n",
      "174 is composite\n",
      "175 is composite\n",
      "176 is composite\n",
      "177 is composite\n",
      "178 is composite\n",
      "179 is PRIME\n",
      "180 is composite\n",
      "181 is PRIME\n",
      "182 is composite\n",
      "183 is composite\n",
      "184 is composite\n",
      "185 is composite\n",
      "186 is composite\n",
      "187 is composite\n",
      "188 is composite\n",
      "189 is composite\n",
      "190 is composite\n",
      "191 is PRIME\n",
      "192 is composite\n",
      "193 is PRIME\n",
      "194 is composite\n",
      "195 is composite\n",
      "196 is composite\n",
      "197 is PRIME\n",
      "198 is composite\n",
      "199 is PRIME\n",
      "200 is composite\n",
      "201 is composite\n",
      "202 is composite\n",
      "203 is composite\n",
      "204 is composite\n",
      "205 is composite\n",
      "206 is composite\n",
      "207 is composite\n",
      "208 is composite\n",
      "209 is composite\n",
      "210 is composite\n",
      "211 is PRIME\n",
      "212 is composite\n",
      "213 is composite\n",
      "214 is composite\n",
      "215 is composite\n",
      "216 is composite\n",
      "217 is composite\n",
      "218 is composite\n",
      "219 is composite\n",
      "220 is composite\n",
      "221 is composite\n",
      "222 is composite\n",
      "223 is PRIME\n",
      "224 is composite\n",
      "225 is composite\n",
      "226 is composite\n",
      "227 is PRIME\n",
      "228 is composite\n",
      "229 is PRIME\n",
      "230 is composite\n",
      "231 is composite\n",
      "232 is composite\n",
      "233 is PRIME\n",
      "234 is composite\n",
      "235 is composite\n",
      "236 is composite\n",
      "237 is composite\n",
      "238 is composite\n",
      "239 is PRIME\n",
      "240 is composite\n",
      "241 is PRIME\n",
      "242 is composite\n",
      "243 is composite\n",
      "244 is composite\n",
      "245 is composite\n",
      "246 is composite\n",
      "247 is composite\n",
      "248 is composite\n",
      "249 is composite\n",
      "250 is composite\n",
      "251 is PRIME\n",
      "252 is composite\n",
      "253 is composite\n",
      "254 is composite\n",
      "255 is composite\n",
      "256 is composite\n",
      "257 is PRIME\n",
      "258 is composite\n",
      "259 is composite\n",
      "260 is composite\n",
      "261 is composite\n",
      "262 is composite\n",
      "263 is PRIME\n",
      "264 is composite\n",
      "265 is composite\n",
      "266 is composite\n",
      "267 is composite\n",
      "268 is composite\n",
      "269 is PRIME\n",
      "270 is composite\n",
      "271 is PRIME\n",
      "272 is composite\n",
      "273 is composite\n",
      "274 is composite\n",
      "275 is composite\n",
      "276 is composite\n",
      "277 is PRIME\n",
      "278 is composite\n",
      "279 is composite\n",
      "280 is composite\n",
      "281 is PRIME\n",
      "282 is composite\n",
      "283 is PRIME\n",
      "284 is composite\n",
      "285 is composite\n",
      "286 is composite\n",
      "287 is composite\n",
      "288 is composite\n",
      "289 is composite\n",
      "290 is composite\n",
      "291 is composite\n",
      "292 is composite\n",
      "293 is PRIME\n",
      "294 is composite\n",
      "295 is composite\n",
      "296 is composite\n",
      "297 is composite\n",
      "298 is composite\n",
      "299 is composite\n",
      "300 is composite\n",
      "301 is composite\n",
      "302 is composite\n",
      "303 is composite\n",
      "304 is composite\n",
      "305 is composite\n",
      "306 is composite\n",
      "307 is PRIME\n",
      "308 is composite\n",
      "309 is composite\n",
      "310 is composite\n",
      "311 is PRIME\n",
      "312 is composite\n",
      "313 is PRIME\n",
      "314 is composite\n",
      "315 is composite\n",
      "316 is composite\n",
      "317 is PRIME\n",
      "318 is composite\n",
      "319 is composite\n",
      "320 is composite\n",
      "321 is composite\n",
      "322 is composite\n",
      "323 is composite\n",
      "324 is composite\n",
      "325 is composite\n",
      "326 is composite\n",
      "327 is composite\n",
      "328 is composite\n",
      "329 is composite\n",
      "330 is composite\n",
      "331 is PRIME\n",
      "332 is composite\n",
      "333 is composite\n",
      "334 is composite\n",
      "335 is composite\n",
      "336 is composite\n",
      "337 is PRIME\n",
      "338 is composite\n",
      "339 is composite\n",
      "340 is composite\n",
      "341 is composite\n",
      "342 is composite\n",
      "343 is composite\n",
      "344 is composite\n",
      "345 is composite\n",
      "346 is composite\n",
      "347 is PRIME\n",
      "348 is composite\n",
      "349 is PRIME\n",
      "350 is composite\n",
      "351 is composite\n",
      "352 is composite\n",
      "353 is PRIME\n",
      "354 is composite\n",
      "355 is composite\n",
      "356 is composite\n",
      "357 is composite\n",
      "358 is composite\n",
      "359 is PRIME\n",
      "360 is composite\n",
      "361 is composite\n",
      "362 is composite\n",
      "363 is composite\n",
      "364 is composite\n",
      "365 is composite\n",
      "366 is composite\n",
      "367 is PRIME\n",
      "368 is composite\n",
      "369 is composite\n",
      "370 is composite\n",
      "371 is composite\n",
      "372 is composite\n",
      "373 is PRIME\n",
      "374 is composite\n",
      "375 is composite\n",
      "376 is composite\n",
      "377 is composite\n",
      "378 is composite\n",
      "379 is PRIME\n",
      "380 is composite\n",
      "381 is composite\n",
      "382 is composite\n",
      "383 is PRIME\n",
      "384 is composite\n",
      "385 is composite\n",
      "386 is composite\n",
      "387 is composite\n",
      "388 is composite\n",
      "389 is PRIME\n",
      "390 is composite\n",
      "391 is composite\n",
      "392 is composite\n",
      "393 is composite\n",
      "394 is composite\n",
      "395 is composite\n",
      "396 is composite\n",
      "397 is PRIME\n",
      "398 is composite\n",
      "399 is composite\n",
      "400 is composite\n",
      "401 is PRIME\n",
      "402 is composite\n",
      "403 is composite\n",
      "404 is composite\n",
      "405 is composite\n",
      "406 is composite\n",
      "407 is composite\n",
      "408 is composite\n",
      "409 is PRIME\n",
      "410 is composite\n",
      "411 is composite\n",
      "412 is composite\n",
      "413 is composite\n",
      "414 is composite\n",
      "415 is composite\n",
      "416 is composite\n",
      "417 is composite\n",
      "418 is composite\n",
      "419 is PRIME\n",
      "420 is composite\n",
      "421 is PRIME\n",
      "422 is composite\n",
      "423 is composite\n",
      "424 is composite\n",
      "425 is composite\n",
      "426 is composite\n",
      "427 is composite\n",
      "428 is composite\n",
      "429 is composite\n",
      "430 is composite\n",
      "431 is PRIME\n",
      "432 is composite\n",
      "433 is PRIME\n",
      "434 is composite\n",
      "435 is composite\n",
      "436 is composite\n",
      "437 is composite\n",
      "438 is composite\n",
      "439 is PRIME\n",
      "440 is composite\n",
      "441 is composite\n",
      "442 is composite\n",
      "443 is PRIME\n",
      "444 is composite\n",
      "445 is composite\n",
      "446 is composite\n",
      "447 is composite\n",
      "448 is composite\n",
      "449 is PRIME\n",
      "450 is composite\n",
      "451 is composite\n",
      "452 is composite\n",
      "453 is composite\n",
      "454 is composite\n",
      "455 is composite\n",
      "456 is composite\n",
      "457 is PRIME\n",
      "458 is composite\n",
      "459 is composite\n",
      "460 is composite\n",
      "461 is PRIME\n",
      "462 is composite\n",
      "463 is PRIME\n",
      "464 is composite\n",
      "465 is composite\n",
      "466 is composite\n",
      "467 is PRIME\n",
      "468 is composite\n",
      "469 is composite\n",
      "470 is composite\n",
      "471 is composite\n",
      "472 is composite\n",
      "473 is composite\n",
      "474 is composite\n",
      "475 is composite\n",
      "476 is composite\n",
      "477 is composite\n",
      "478 is composite\n",
      "479 is PRIME\n",
      "480 is composite\n",
      "481 is composite\n",
      "482 is composite\n",
      "483 is composite\n",
      "484 is composite\n",
      "485 is composite\n",
      "486 is composite\n",
      "487 is PRIME\n",
      "488 is composite\n",
      "489 is composite\n",
      "490 is composite\n",
      "491 is PRIME\n",
      "492 is composite\n",
      "493 is composite\n",
      "494 is composite\n",
      "495 is composite\n",
      "496 is composite\n",
      "497 is composite\n",
      "498 is composite\n",
      "499 is PRIME\n",
      "500 is composite\n",
      "501 is composite\n",
      "502 is composite\n",
      "503 is PRIME\n",
      "504 is composite\n",
      "505 is composite\n",
      "506 is composite\n",
      "507 is composite\n",
      "508 is composite\n",
      "509 is PRIME\n",
      "510 is composite\n",
      "511 is composite\n",
      "512 is composite\n",
      "513 is composite\n",
      "514 is composite\n",
      "515 is composite\n",
      "516 is composite\n",
      "517 is composite\n",
      "518 is composite\n",
      "519 is composite\n",
      "520 is composite\n",
      "521 is PRIME\n",
      "522 is composite\n",
      "523 is PRIME\n",
      "524 is composite\n",
      "525 is composite\n",
      "526 is composite\n",
      "527 is composite\n",
      "528 is composite\n",
      "529 is composite\n",
      "530 is composite\n",
      "531 is composite\n",
      "532 is composite\n",
      "533 is composite\n",
      "534 is composite\n",
      "535 is composite\n",
      "536 is composite\n",
      "537 is composite\n",
      "538 is composite\n",
      "539 is composite\n",
      "540 is composite\n",
      "541 is PRIME\n",
      "542 is composite\n",
      "543 is composite\n",
      "544 is composite\n",
      "545 is composite\n",
      "546 is composite\n",
      "547 is PRIME\n",
      "548 is composite\n",
      "549 is composite\n",
      "550 is composite\n",
      "551 is composite\n",
      "552 is composite\n",
      "553 is composite\n",
      "554 is composite\n",
      "555 is composite\n",
      "556 is composite\n",
      "557 is PRIME\n",
      "558 is composite\n",
      "559 is composite\n",
      "560 is composite\n",
      "561 is composite\n",
      "562 is composite\n",
      "563 is PRIME\n",
      "564 is composite\n",
      "565 is composite\n",
      "566 is composite\n",
      "567 is composite\n",
      "568 is composite\n",
      "569 is PRIME\n",
      "570 is composite\n",
      "571 is PRIME\n",
      "572 is composite\n",
      "573 is composite\n",
      "574 is composite\n",
      "575 is composite\n",
      "576 is composite\n",
      "577 is PRIME\n",
      "578 is composite\n",
      "579 is composite\n",
      "580 is composite\n",
      "581 is composite\n",
      "582 is composite\n",
      "583 is composite\n",
      "584 is composite\n",
      "585 is composite\n",
      "586 is composite\n",
      "587 is PRIME\n",
      "588 is composite\n",
      "589 is composite\n",
      "590 is composite\n",
      "591 is composite\n",
      "592 is composite\n",
      "593 is PRIME\n",
      "594 is composite\n",
      "595 is composite\n",
      "596 is composite\n",
      "597 is composite\n",
      "598 is composite\n",
      "599 is PRIME\n",
      "600 is composite\n",
      "601 is PRIME\n",
      "602 is composite\n",
      "603 is composite\n",
      "604 is composite\n",
      "605 is composite\n",
      "606 is composite\n",
      "607 is PRIME\n",
      "608 is composite\n",
      "609 is composite\n",
      "610 is composite\n",
      "611 is composite\n",
      "612 is composite\n",
      "613 is PRIME\n",
      "614 is composite\n",
      "615 is composite\n",
      "616 is composite\n",
      "617 is PRIME\n",
      "618 is composite\n",
      "619 is PRIME\n",
      "620 is composite\n",
      "621 is composite\n",
      "622 is composite\n",
      "623 is composite\n",
      "624 is composite\n",
      "625 is composite\n",
      "626 is composite\n",
      "627 is composite\n",
      "628 is composite\n",
      "629 is composite\n",
      "630 is composite\n",
      "631 is PRIME\n",
      "632 is composite\n",
      "633 is composite\n",
      "634 is composite\n",
      "635 is composite\n",
      "636 is composite\n",
      "637 is composite\n",
      "638 is composite\n",
      "639 is composite\n",
      "640 is composite\n",
      "641 is PRIME\n",
      "642 is composite\n",
      "643 is PRIME\n",
      "644 is composite\n",
      "645 is composite\n",
      "646 is composite\n",
      "647 is PRIME\n",
      "648 is composite\n",
      "649 is composite\n",
      "650 is composite\n",
      "651 is composite\n",
      "652 is composite\n",
      "653 is PRIME\n",
      "654 is composite\n",
      "655 is composite\n",
      "656 is composite\n",
      "657 is composite\n",
      "658 is composite\n",
      "659 is PRIME\n",
      "660 is composite\n",
      "661 is PRIME\n",
      "662 is composite\n",
      "663 is composite\n",
      "664 is composite\n",
      "665 is composite\n",
      "666 is composite\n",
      "667 is composite\n",
      "668 is composite\n",
      "669 is composite\n",
      "670 is composite\n",
      "671 is composite\n",
      "672 is composite\n",
      "673 is PRIME\n",
      "674 is composite\n",
      "675 is composite\n",
      "676 is composite\n",
      "677 is PRIME\n",
      "678 is composite\n",
      "679 is composite\n",
      "680 is composite\n",
      "681 is composite\n",
      "682 is composite\n",
      "683 is PRIME\n",
      "684 is composite\n",
      "685 is composite\n",
      "686 is composite\n",
      "687 is composite\n",
      "688 is composite\n",
      "689 is composite\n",
      "690 is composite\n",
      "691 is PRIME\n",
      "692 is composite\n",
      "693 is composite\n",
      "694 is composite\n",
      "695 is composite\n",
      "696 is composite\n",
      "697 is composite\n",
      "698 is composite\n",
      "699 is composite\n",
      "700 is composite\n",
      "701 is PRIME\n",
      "702 is composite\n",
      "703 is composite\n",
      "704 is composite\n",
      "705 is composite\n",
      "706 is composite\n",
      "707 is composite\n",
      "708 is composite\n",
      "709 is PRIME\n",
      "710 is composite\n",
      "711 is composite\n",
      "712 is composite\n",
      "713 is composite\n",
      "714 is composite\n",
      "715 is composite\n",
      "716 is composite\n",
      "717 is composite\n",
      "718 is composite\n",
      "719 is PRIME\n",
      "720 is composite\n",
      "721 is composite\n",
      "722 is composite\n",
      "723 is composite\n",
      "724 is composite\n",
      "725 is composite\n",
      "726 is composite\n",
      "727 is PRIME\n",
      "728 is composite\n",
      "729 is composite\n",
      "730 is composite\n",
      "731 is composite\n",
      "732 is composite\n",
      "733 is PRIME\n",
      "734 is composite\n",
      "735 is composite\n",
      "736 is composite\n",
      "737 is composite\n",
      "738 is composite\n",
      "739 is PRIME\n",
      "740 is composite\n",
      "741 is composite\n",
      "742 is composite\n",
      "743 is PRIME\n",
      "744 is composite\n",
      "745 is composite\n",
      "746 is composite\n",
      "747 is composite\n",
      "748 is composite\n",
      "749 is composite\n",
      "750 is composite\n",
      "751 is PRIME\n",
      "752 is composite\n",
      "753 is composite\n",
      "754 is composite\n",
      "755 is composite\n",
      "756 is composite\n",
      "757 is PRIME\n",
      "758 is composite\n",
      "759 is composite\n",
      "760 is composite\n",
      "761 is PRIME\n",
      "762 is composite\n",
      "763 is composite\n",
      "764 is composite\n",
      "765 is composite\n",
      "766 is composite\n",
      "767 is composite\n",
      "768 is composite\n",
      "769 is PRIME\n",
      "770 is composite\n",
      "771 is composite\n",
      "772 is composite\n",
      "773 is PRIME\n",
      "774 is composite\n",
      "775 is composite\n",
      "776 is composite\n",
      "777 is composite\n",
      "778 is composite\n",
      "779 is composite\n",
      "780 is composite\n",
      "781 is composite\n",
      "782 is composite\n",
      "783 is composite\n",
      "784 is composite\n",
      "785 is composite\n",
      "786 is composite\n",
      "787 is PRIME\n",
      "788 is composite\n",
      "789 is composite\n",
      "790 is composite\n",
      "791 is composite\n",
      "792 is composite\n",
      "793 is composite\n",
      "794 is composite\n",
      "795 is composite\n",
      "796 is composite\n",
      "797 is PRIME\n",
      "798 is composite\n",
      "799 is composite\n",
      "800 is composite\n",
      "801 is composite\n",
      "802 is composite\n",
      "803 is composite\n",
      "804 is composite\n",
      "805 is composite\n",
      "806 is composite\n",
      "807 is composite\n",
      "808 is composite\n",
      "809 is PRIME\n",
      "810 is composite\n",
      "811 is PRIME\n",
      "812 is composite\n",
      "813 is composite\n",
      "814 is composite\n",
      "815 is composite\n",
      "816 is composite\n",
      "817 is composite\n",
      "818 is composite\n",
      "819 is composite\n",
      "820 is composite\n",
      "821 is PRIME\n",
      "822 is composite\n",
      "823 is PRIME\n",
      "824 is composite\n",
      "825 is composite\n",
      "826 is composite\n",
      "827 is PRIME\n",
      "828 is composite\n",
      "829 is PRIME\n",
      "830 is composite\n",
      "831 is composite\n",
      "832 is composite\n",
      "833 is composite\n",
      "834 is composite\n",
      "835 is composite\n",
      "836 is composite\n",
      "837 is composite\n",
      "838 is composite\n",
      "839 is PRIME\n",
      "840 is composite\n",
      "841 is composite\n",
      "842 is composite\n",
      "843 is composite\n",
      "844 is composite\n",
      "845 is composite\n",
      "846 is composite\n",
      "847 is composite\n",
      "848 is composite\n",
      "849 is composite\n",
      "850 is composite\n",
      "851 is composite\n",
      "852 is composite\n",
      "853 is PRIME\n",
      "854 is composite\n",
      "855 is composite\n",
      "856 is composite\n",
      "857 is PRIME\n",
      "858 is composite\n",
      "859 is PRIME\n",
      "860 is composite\n",
      "861 is composite\n",
      "862 is composite\n",
      "863 is PRIME\n",
      "864 is composite\n",
      "865 is composite\n",
      "866 is composite\n",
      "867 is composite\n",
      "868 is composite\n",
      "869 is composite\n",
      "870 is composite\n",
      "871 is composite\n",
      "872 is composite\n",
      "873 is composite\n",
      "874 is composite\n",
      "875 is composite\n",
      "876 is composite\n",
      "877 is PRIME\n",
      "878 is composite\n",
      "879 is composite\n",
      "880 is composite\n",
      "881 is PRIME\n",
      "882 is composite\n",
      "883 is PRIME\n",
      "884 is composite\n",
      "885 is composite\n",
      "886 is composite\n",
      "887 is PRIME\n",
      "888 is composite\n",
      "889 is composite\n",
      "890 is composite\n",
      "891 is composite\n",
      "892 is composite\n",
      "893 is composite\n",
      "894 is composite\n",
      "895 is composite\n",
      "896 is composite\n",
      "897 is composite\n",
      "898 is composite\n",
      "899 is composite\n",
      "900 is composite\n",
      "901 is composite\n",
      "902 is composite\n",
      "903 is composite\n",
      "904 is composite\n",
      "905 is composite\n",
      "906 is composite\n",
      "907 is PRIME\n",
      "908 is composite\n",
      "909 is composite\n",
      "910 is composite\n",
      "911 is PRIME\n",
      "912 is composite\n",
      "913 is composite\n",
      "914 is composite\n",
      "915 is composite\n",
      "916 is composite\n",
      "917 is composite\n",
      "918 is composite\n",
      "919 is PRIME\n",
      "920 is composite\n",
      "921 is composite\n",
      "922 is composite\n",
      "923 is composite\n",
      "924 is composite\n",
      "925 is composite\n",
      "926 is composite\n",
      "927 is composite\n",
      "928 is composite\n",
      "929 is PRIME\n",
      "930 is composite\n",
      "931 is composite\n",
      "932 is composite\n",
      "933 is composite\n",
      "934 is composite\n",
      "935 is composite\n",
      "936 is composite\n",
      "937 is PRIME\n",
      "938 is composite\n",
      "939 is composite\n",
      "940 is composite\n",
      "941 is PRIME\n",
      "942 is composite\n",
      "943 is composite\n",
      "944 is composite\n",
      "945 is composite\n",
      "946 is composite\n",
      "947 is PRIME\n",
      "948 is composite\n",
      "949 is composite\n",
      "950 is composite\n",
      "951 is composite\n",
      "952 is composite\n",
      "953 is PRIME\n",
      "954 is composite\n",
      "955 is composite\n",
      "956 is composite\n",
      "957 is composite\n",
      "958 is composite\n",
      "959 is composite\n",
      "960 is composite\n",
      "961 is composite\n",
      "962 is composite\n",
      "963 is composite\n",
      "964 is composite\n",
      "965 is composite\n",
      "966 is composite\n",
      "967 is PRIME\n",
      "968 is composite\n",
      "969 is composite\n",
      "970 is composite\n",
      "971 is PRIME\n",
      "972 is composite\n",
      "973 is composite\n",
      "974 is composite\n",
      "975 is composite\n",
      "976 is composite\n",
      "977 is PRIME\n",
      "978 is composite\n",
      "979 is composite\n",
      "980 is composite\n",
      "981 is composite\n",
      "982 is composite\n",
      "983 is PRIME\n",
      "984 is composite\n",
      "985 is composite\n",
      "986 is composite\n",
      "987 is composite\n",
      "988 is composite\n",
      "989 is composite\n",
      "990 is composite\n",
      "991 is PRIME\n",
      "992 is composite\n",
      "993 is composite\n",
      "994 is composite\n",
      "995 is composite\n",
      "996 is composite\n",
      "997 is PRIME\n",
      "998 is composite\n",
      "999 is composite\n",
      "1000 is composite\n",
      "1001 is composite\n",
      "1002 is composite\n",
      "1003 is composite\n",
      "1004 is composite\n",
      "1005 is composite\n",
      "1006 is composite\n",
      "1007 is composite\n",
      "1008 is composite\n",
      "1009 is PRIME\n",
      "1010 is composite\n",
      "1011 is composite\n",
      "1012 is composite\n",
      "1013 is PRIME\n",
      "1014 is composite\n",
      "1015 is composite\n",
      "1016 is composite\n",
      "1017 is composite\n",
      "1018 is composite\n",
      "1019 is PRIME\n",
      "1020 is composite\n",
      "1021 is PRIME\n",
      "1022 is composite\n",
      "1023 is composite\n",
      "1024 is composite\n",
      "1025 is composite\n",
      "1026 is composite\n",
      "1027 is composite\n",
      "1028 is composite\n",
      "1029 is composite\n",
      "1030 is composite\n",
      "1031 is PRIME\n",
      "1032 is composite\n",
      "1033 is PRIME\n",
      "1034 is composite\n",
      "1035 is composite\n",
      "1036 is composite\n",
      "1037 is composite\n",
      "1038 is composite\n",
      "1039 is PRIME\n",
      "1040 is composite\n",
      "1041 is composite\n",
      "1042 is composite\n",
      "1043 is composite\n",
      "1044 is composite\n",
      "1045 is composite\n",
      "1046 is composite\n",
      "1047 is composite\n",
      "1048 is composite\n",
      "1049 is PRIME\n",
      "1050 is composite\n",
      "1051 is PRIME\n",
      "1052 is composite\n",
      "1053 is composite\n",
      "1054 is composite\n",
      "1055 is composite\n",
      "1056 is composite\n",
      "1057 is composite\n",
      "1058 is composite\n",
      "1059 is composite\n",
      "1060 is composite\n",
      "1061 is PRIME\n",
      "1062 is composite\n",
      "1063 is PRIME\n",
      "1064 is composite\n",
      "1065 is composite\n",
      "1066 is composite\n",
      "1067 is composite\n",
      "1068 is composite\n",
      "1069 is PRIME\n",
      "1070 is composite\n",
      "1071 is composite\n",
      "1072 is composite\n",
      "1073 is composite\n",
      "1074 is composite\n",
      "1075 is composite\n",
      "1076 is composite\n",
      "1077 is composite\n",
      "1078 is composite\n",
      "1079 is composite\n",
      "1080 is composite\n",
      "1081 is composite\n",
      "1082 is composite\n",
      "1083 is composite\n",
      "1084 is composite\n",
      "1085 is composite\n",
      "1086 is composite\n",
      "1087 is PRIME\n",
      "1088 is composite\n",
      "1089 is composite\n",
      "1090 is composite\n",
      "1091 is PRIME\n",
      "1092 is composite\n",
      "1093 is PRIME\n",
      "1094 is composite\n",
      "1095 is composite\n",
      "1096 is composite\n",
      "1097 is PRIME\n",
      "1098 is composite\n",
      "1099 is composite\n",
      "1100 is composite\n",
      "1101 is composite\n",
      "1102 is composite\n",
      "1103 is PRIME\n",
      "1104 is composite\n",
      "1105 is composite\n",
      "1106 is composite\n",
      "1107 is composite\n",
      "1108 is composite\n",
      "1109 is PRIME\n",
      "1110 is composite\n",
      "1111 is composite\n",
      "1112 is composite\n",
      "1113 is composite\n",
      "1114 is composite\n",
      "1115 is composite\n",
      "1116 is composite\n",
      "1117 is PRIME\n",
      "1118 is composite\n",
      "1119 is composite\n",
      "1120 is composite\n",
      "1121 is composite\n",
      "1122 is composite\n",
      "1123 is PRIME\n",
      "1124 is composite\n",
      "1125 is composite\n",
      "1126 is composite\n",
      "1127 is composite\n",
      "1128 is composite\n",
      "1129 is PRIME\n",
      "1130 is composite\n",
      "1131 is composite\n",
      "1132 is composite\n",
      "1133 is composite\n",
      "1134 is composite\n",
      "1135 is composite\n",
      "1136 is composite\n",
      "1137 is composite\n",
      "1138 is composite\n",
      "1139 is composite\n",
      "1140 is composite\n",
      "1141 is composite\n",
      "1142 is composite\n",
      "1143 is composite\n",
      "1144 is composite\n",
      "1145 is composite\n",
      "1146 is composite\n",
      "1147 is composite\n",
      "1148 is composite\n",
      "1149 is composite\n",
      "1150 is composite\n",
      "1151 is PRIME\n",
      "1152 is composite\n",
      "1153 is PRIME\n",
      "1154 is composite\n",
      "1155 is composite\n",
      "1156 is composite\n",
      "1157 is composite\n",
      "1158 is composite\n",
      "1159 is composite\n",
      "1160 is composite\n",
      "1161 is composite\n",
      "1162 is composite\n",
      "1163 is PRIME\n",
      "1164 is composite\n",
      "1165 is composite\n",
      "1166 is composite\n",
      "1167 is composite\n",
      "1168 is composite\n",
      "1169 is composite\n",
      "1170 is composite\n",
      "1171 is PRIME\n",
      "1172 is composite\n",
      "1173 is composite\n",
      "1174 is composite\n",
      "1175 is composite\n",
      "1176 is composite\n",
      "1177 is composite\n",
      "1178 is composite\n",
      "1179 is composite\n",
      "1180 is composite\n",
      "1181 is PRIME\n",
      "1182 is composite\n",
      "1183 is composite\n",
      "1184 is composite\n",
      "1185 is composite\n",
      "1186 is composite\n",
      "1187 is PRIME\n",
      "1188 is composite\n",
      "1189 is composite\n",
      "1190 is composite\n",
      "1191 is composite\n",
      "1192 is composite\n",
      "1193 is PRIME\n",
      "1194 is composite\n",
      "1195 is composite\n",
      "1196 is composite\n",
      "1197 is composite\n",
      "1198 is composite\n",
      "1199 is composite\n",
      "1200 is composite\n",
      "1201 is PRIME\n",
      "1202 is composite\n",
      "1203 is composite\n",
      "1204 is composite\n",
      "1205 is composite\n",
      "1206 is composite\n",
      "1207 is composite\n",
      "1208 is composite\n",
      "1209 is composite\n",
      "1210 is composite\n",
      "1211 is composite\n",
      "1212 is composite\n",
      "1213 is PRIME\n",
      "1214 is composite\n",
      "1215 is composite\n",
      "1216 is composite\n",
      "1217 is PRIME\n",
      "1218 is composite\n",
      "1219 is composite\n",
      "1220 is composite\n",
      "1221 is composite\n",
      "1222 is composite\n",
      "1223 is PRIME\n",
      "1224 is composite\n",
      "1225 is composite\n",
      "1226 is composite\n",
      "1227 is composite\n",
      "1228 is composite\n",
      "1229 is PRIME\n",
      "1230 is composite\n",
      "1231 is PRIME\n",
      "1232 is composite\n",
      "1233 is composite\n",
      "1234 is composite\n",
      "1235 is composite\n",
      "1236 is composite\n",
      "1237 is PRIME\n",
      "1238 is composite\n",
      "1239 is composite\n",
      "1240 is composite\n",
      "1241 is composite\n",
      "1242 is composite\n",
      "1243 is composite\n",
      "1244 is composite\n",
      "1245 is composite\n",
      "1246 is composite\n",
      "1247 is composite\n",
      "1248 is composite\n",
      "1249 is PRIME\n",
      "1250 is composite\n",
      "1251 is composite\n",
      "1252 is composite\n",
      "1253 is composite\n",
      "1254 is composite\n",
      "1255 is composite\n",
      "1256 is composite\n",
      "1257 is composite\n",
      "1258 is composite\n",
      "1259 is PRIME\n",
      "1260 is composite\n",
      "1261 is composite\n",
      "1262 is composite\n",
      "1263 is composite\n",
      "1264 is composite\n",
      "1265 is composite\n",
      "1266 is composite\n",
      "1267 is composite\n",
      "1268 is composite\n",
      "1269 is composite\n",
      "1270 is composite\n",
      "1271 is composite\n",
      "1272 is composite\n",
      "1273 is composite\n",
      "1274 is composite\n",
      "1275 is composite\n",
      "1276 is composite\n",
      "1277 is PRIME\n",
      "1278 is composite\n",
      "1279 is PRIME\n",
      "1280 is composite\n",
      "1281 is composite\n",
      "1282 is composite\n",
      "1283 is PRIME\n",
      "1284 is composite\n",
      "1285 is composite\n",
      "1286 is composite\n",
      "1287 is composite\n",
      "1288 is composite\n",
      "1289 is PRIME\n",
      "1290 is composite\n",
      "1291 is PRIME\n",
      "1292 is composite\n",
      "1293 is composite\n",
      "1294 is composite\n",
      "1295 is composite\n",
      "1296 is composite\n",
      "1297 is PRIME\n",
      "1298 is composite\n",
      "1299 is composite\n",
      "1300 is composite\n",
      "1301 is PRIME\n",
      "1302 is composite\n",
      "1303 is PRIME\n",
      "1304 is composite\n",
      "1305 is composite\n",
      "1306 is composite\n",
      "1307 is PRIME\n",
      "1308 is composite\n",
      "1309 is composite\n",
      "1310 is composite\n",
      "1311 is composite\n",
      "1312 is composite\n",
      "1313 is composite\n",
      "1314 is composite\n",
      "1315 is composite\n",
      "1316 is composite\n",
      "1317 is composite\n",
      "1318 is composite\n",
      "1319 is PRIME\n",
      "1320 is composite\n",
      "1321 is PRIME\n",
      "1322 is composite\n",
      "1323 is composite\n",
      "1324 is composite\n",
      "1325 is composite\n",
      "1326 is composite\n",
      "1327 is PRIME\n",
      "1328 is composite\n",
      "1329 is composite\n",
      "1330 is composite\n",
      "1331 is composite\n",
      "1332 is composite\n",
      "1333 is composite\n",
      "1334 is composite\n",
      "1335 is composite\n",
      "1336 is composite\n",
      "1337 is composite\n",
      "1338 is composite\n",
      "1339 is composite\n",
      "1340 is composite\n",
      "1341 is composite\n",
      "1342 is composite\n",
      "1343 is composite\n",
      "1344 is composite\n",
      "1345 is composite\n",
      "1346 is composite\n",
      "1347 is composite\n",
      "1348 is composite\n",
      "1349 is composite\n",
      "1350 is composite\n",
      "1351 is composite\n",
      "1352 is composite\n",
      "1353 is composite\n",
      "1354 is composite\n",
      "1355 is composite\n",
      "1356 is composite\n",
      "1357 is composite\n",
      "1358 is composite\n",
      "1359 is composite\n",
      "1360 is composite\n",
      "1361 is PRIME\n",
      "1362 is composite\n",
      "1363 is composite\n",
      "1364 is composite\n",
      "1365 is composite\n",
      "1366 is composite\n",
      "1367 is PRIME\n",
      "1368 is composite\n",
      "1369 is composite\n",
      "1370 is composite\n",
      "1371 is composite\n",
      "1372 is composite\n",
      "1373 is PRIME\n",
      "1374 is composite\n",
      "1375 is composite\n",
      "1376 is composite\n",
      "1377 is composite\n",
      "1378 is composite\n",
      "1379 is composite\n",
      "1380 is composite\n",
      "1381 is PRIME\n",
      "1382 is composite\n",
      "1383 is composite\n",
      "1384 is composite\n",
      "1385 is composite\n",
      "1386 is composite\n",
      "1387 is composite\n",
      "1388 is composite\n",
      "1389 is composite\n",
      "1390 is composite\n",
      "1391 is composite\n",
      "1392 is composite\n",
      "1393 is composite\n",
      "1394 is composite\n",
      "1395 is composite\n",
      "1396 is composite\n",
      "1397 is composite\n",
      "1398 is composite\n",
      "1399 is PRIME\n",
      "1400 is composite\n",
      "1401 is composite\n",
      "1402 is composite\n",
      "1403 is composite\n",
      "1404 is composite\n",
      "1405 is composite\n",
      "1406 is composite\n",
      "1407 is composite\n",
      "1408 is composite\n",
      "1409 is PRIME\n",
      "1410 is composite\n",
      "1411 is composite\n",
      "1412 is composite\n",
      "1413 is composite\n",
      "1414 is composite\n",
      "1415 is composite\n",
      "1416 is composite\n",
      "1417 is composite\n",
      "1418 is composite\n",
      "1419 is composite\n",
      "1420 is composite\n",
      "1421 is composite\n",
      "1422 is composite\n",
      "1423 is PRIME\n",
      "1424 is composite\n",
      "1425 is composite\n",
      "1426 is composite\n",
      "1427 is PRIME\n",
      "1428 is composite\n",
      "1429 is PRIME\n",
      "1430 is composite\n",
      "1431 is composite\n",
      "1432 is composite\n",
      "1433 is PRIME\n",
      "1434 is composite\n",
      "1435 is composite\n",
      "1436 is composite\n",
      "1437 is composite\n",
      "1438 is composite\n",
      "1439 is PRIME\n",
      "1440 is composite\n",
      "1441 is composite\n",
      "1442 is composite\n",
      "1443 is composite\n",
      "1444 is composite\n",
      "1445 is composite\n",
      "1446 is composite\n",
      "1447 is PRIME\n",
      "1448 is composite\n",
      "1449 is composite\n",
      "1450 is composite\n",
      "1451 is PRIME\n",
      "1452 is composite\n",
      "1453 is PRIME\n",
      "1454 is composite\n",
      "1455 is composite\n",
      "1456 is composite\n",
      "1457 is composite\n",
      "1458 is composite\n",
      "1459 is PRIME\n",
      "1460 is composite\n",
      "1461 is composite\n",
      "1462 is composite\n",
      "1463 is composite\n",
      "1464 is composite\n",
      "1465 is composite\n",
      "1466 is composite\n",
      "1467 is composite\n",
      "1468 is composite\n",
      "1469 is composite\n",
      "1470 is composite\n",
      "1471 is PRIME\n",
      "1472 is composite\n",
      "1473 is composite\n",
      "1474 is composite\n",
      "1475 is composite\n",
      "1476 is composite\n",
      "1477 is composite\n",
      "1478 is composite\n",
      "1479 is composite\n",
      "1480 is composite\n",
      "1481 is PRIME\n",
      "1482 is composite\n",
      "1483 is PRIME\n",
      "1484 is composite\n",
      "1485 is composite\n",
      "1486 is composite\n",
      "1487 is PRIME\n",
      "1488 is composite\n",
      "1489 is PRIME\n",
      "1490 is composite\n",
      "1491 is composite\n",
      "1492 is composite\n",
      "1493 is PRIME\n",
      "1494 is composite\n",
      "1495 is composite\n",
      "1496 is composite\n",
      "1497 is composite\n",
      "1498 is composite\n",
      "1499 is PRIME\n",
      "1500 is composite\n",
      "1501 is composite\n",
      "1502 is composite\n",
      "1503 is composite\n",
      "1504 is composite\n",
      "1505 is composite\n",
      "1506 is composite\n",
      "1507 is composite\n",
      "1508 is composite\n",
      "1509 is composite\n",
      "1510 is composite\n",
      "1511 is PRIME\n",
      "1512 is composite\n",
      "1513 is composite\n",
      "1514 is composite\n",
      "1515 is composite\n",
      "1516 is composite\n",
      "1517 is composite\n",
      "1518 is composite\n",
      "1519 is composite\n",
      "1520 is composite\n",
      "1521 is composite\n",
      "1522 is composite\n",
      "1523 is PRIME\n",
      "1524 is composite\n",
      "1525 is composite\n",
      "1526 is composite\n",
      "1527 is composite\n",
      "1528 is composite\n",
      "1529 is composite\n",
      "1530 is composite\n",
      "1531 is PRIME\n",
      "1532 is composite\n",
      "1533 is composite\n",
      "1534 is composite\n",
      "1535 is composite\n",
      "1536 is composite\n",
      "1537 is composite\n",
      "1538 is composite\n",
      "1539 is composite\n",
      "1540 is composite\n",
      "1541 is composite\n",
      "1542 is composite\n",
      "1543 is PRIME\n",
      "1544 is composite\n",
      "1545 is composite\n",
      "1546 is composite\n",
      "1547 is composite\n",
      "1548 is composite\n",
      "1549 is PRIME\n",
      "1550 is composite\n",
      "1551 is composite\n",
      "1552 is composite\n",
      "1553 is PRIME\n",
      "1554 is composite\n",
      "1555 is composite\n",
      "1556 is composite\n",
      "1557 is composite\n",
      "1558 is composite\n",
      "1559 is PRIME\n",
      "1560 is composite\n",
      "1561 is composite\n",
      "1562 is composite\n",
      "1563 is composite\n",
      "1564 is composite\n",
      "1565 is composite\n",
      "1566 is composite\n",
      "1567 is PRIME\n",
      "1568 is composite\n",
      "1569 is composite\n",
      "1570 is composite\n",
      "1571 is PRIME\n",
      "1572 is composite\n",
      "1573 is composite\n",
      "1574 is composite\n",
      "1575 is composite\n",
      "1576 is composite\n",
      "1577 is composite\n",
      "1578 is composite\n",
      "1579 is PRIME\n",
      "1580 is composite\n",
      "1581 is composite\n",
      "1582 is composite\n",
      "1583 is PRIME\n",
      "1584 is composite\n",
      "1585 is composite\n",
      "1586 is composite\n",
      "1587 is composite\n",
      "1588 is composite\n",
      "1589 is composite\n",
      "1590 is composite\n",
      "1591 is composite\n",
      "1592 is composite\n",
      "1593 is composite\n",
      "1594 is composite\n",
      "1595 is composite\n",
      "1596 is composite\n",
      "1597 is PRIME\n",
      "1598 is composite\n",
      "1599 is composite\n",
      "1600 is composite\n",
      "1601 is PRIME\n",
      "1602 is composite\n",
      "1603 is composite\n",
      "1604 is composite\n",
      "1605 is composite\n",
      "1606 is composite\n",
      "1607 is PRIME\n",
      "1608 is composite\n",
      "1609 is PRIME\n",
      "1610 is composite\n",
      "1611 is composite\n",
      "1612 is composite\n",
      "1613 is PRIME\n",
      "1614 is composite\n",
      "1615 is composite\n",
      "1616 is composite\n",
      "1617 is composite\n",
      "1618 is composite\n",
      "1619 is PRIME\n",
      "1620 is composite\n",
      "1621 is PRIME\n",
      "1622 is composite\n",
      "1623 is composite\n",
      "1624 is composite\n",
      "1625 is composite\n",
      "1626 is composite\n",
      "1627 is PRIME\n",
      "1628 is composite\n",
      "1629 is composite\n",
      "1630 is composite\n",
      "1631 is composite\n",
      "1632 is composite\n",
      "1633 is composite\n",
      "1634 is composite\n",
      "1635 is composite\n",
      "1636 is composite\n",
      "1637 is PRIME\n",
      "1638 is composite\n",
      "1639 is composite\n",
      "1640 is composite\n",
      "1641 is composite\n",
      "1642 is composite\n",
      "1643 is composite\n",
      "1644 is composite\n",
      "1645 is composite\n",
      "1646 is composite\n",
      "1647 is composite\n",
      "1648 is composite\n",
      "1649 is composite\n",
      "1650 is composite\n",
      "1651 is composite\n",
      "1652 is composite\n",
      "1653 is composite\n",
      "1654 is composite\n",
      "1655 is composite\n",
      "1656 is composite\n",
      "1657 is PRIME\n",
      "1658 is composite\n",
      "1659 is composite\n",
      "1660 is composite\n",
      "1661 is composite\n",
      "1662 is composite\n",
      "1663 is PRIME\n",
      "1664 is composite\n",
      "1665 is composite\n",
      "1666 is composite\n",
      "1667 is PRIME\n",
      "1668 is composite\n",
      "1669 is PRIME\n",
      "1670 is composite\n",
      "1671 is composite\n",
      "1672 is composite\n",
      "1673 is composite\n",
      "1674 is composite\n",
      "1675 is composite\n",
      "1676 is composite\n",
      "1677 is composite\n",
      "1678 is composite\n",
      "1679 is composite\n",
      "1680 is composite\n",
      "1681 is composite\n",
      "1682 is composite\n",
      "1683 is composite\n",
      "1684 is composite\n",
      "1685 is composite\n",
      "1686 is composite\n",
      "1687 is composite\n",
      "1688 is composite\n",
      "1689 is composite\n",
      "1690 is composite\n",
      "1691 is composite\n",
      "1692 is composite\n",
      "1693 is PRIME\n",
      "1694 is composite\n",
      "1695 is composite\n",
      "1696 is composite\n",
      "1697 is PRIME\n",
      "1698 is composite\n",
      "1699 is PRIME\n",
      "1700 is composite\n",
      "1701 is composite\n",
      "1702 is composite\n",
      "1703 is composite\n",
      "1704 is composite\n",
      "1705 is composite\n",
      "1706 is composite\n",
      "1707 is composite\n",
      "1708 is composite\n",
      "1709 is PRIME\n",
      "1710 is composite\n",
      "1711 is composite\n",
      "1712 is composite\n",
      "1713 is composite\n",
      "1714 is composite\n",
      "1715 is composite\n",
      "1716 is composite\n",
      "1717 is composite\n",
      "1718 is composite\n",
      "1719 is composite\n",
      "1720 is composite\n",
      "1721 is PRIME\n",
      "1722 is composite\n",
      "1723 is PRIME\n",
      "1724 is composite\n",
      "1725 is composite\n",
      "1726 is composite\n",
      "1727 is composite\n",
      "1728 is composite\n",
      "1729 is composite\n",
      "1730 is composite\n",
      "1731 is composite\n",
      "1732 is composite\n",
      "1733 is PRIME\n",
      "1734 is composite\n",
      "1735 is composite\n",
      "1736 is composite\n",
      "1737 is composite\n",
      "1738 is composite\n",
      "1739 is composite\n",
      "1740 is composite\n",
      "1741 is PRIME\n",
      "1742 is composite\n",
      "1743 is composite\n",
      "1744 is composite\n",
      "1745 is composite\n",
      "1746 is composite\n",
      "1747 is PRIME\n",
      "1748 is composite\n",
      "1749 is composite\n",
      "1750 is composite\n",
      "1751 is composite\n",
      "1752 is composite\n",
      "1753 is PRIME\n",
      "1754 is composite\n",
      "1755 is composite\n",
      "1756 is composite\n",
      "1757 is composite\n",
      "1758 is composite\n",
      "1759 is PRIME\n",
      "1760 is composite\n",
      "1761 is composite\n",
      "1762 is composite\n",
      "1763 is composite\n",
      "1764 is composite\n",
      "1765 is composite\n",
      "1766 is composite\n",
      "1767 is composite\n",
      "1768 is composite\n",
      "1769 is composite\n",
      "1770 is composite\n",
      "1771 is composite\n",
      "1772 is composite\n",
      "1773 is composite\n",
      "1774 is composite\n",
      "1775 is composite\n",
      "1776 is composite\n",
      "1777 is PRIME\n",
      "1778 is composite\n",
      "1779 is composite\n",
      "1780 is composite\n",
      "1781 is composite\n",
      "1782 is composite\n",
      "1783 is PRIME\n",
      "1784 is composite\n",
      "1785 is composite\n",
      "1786 is composite\n",
      "1787 is PRIME\n",
      "1788 is composite\n",
      "1789 is PRIME\n",
      "1790 is composite\n",
      "1791 is composite\n",
      "1792 is composite\n",
      "1793 is composite\n",
      "1794 is composite\n",
      "1795 is composite\n",
      "1796 is composite\n",
      "1797 is composite\n",
      "1798 is composite\n",
      "1799 is composite\n",
      "1800 is composite\n",
      "1801 is PRIME\n",
      "1802 is composite\n",
      "1803 is composite\n",
      "1804 is composite\n",
      "1805 is composite\n",
      "1806 is composite\n",
      "1807 is composite\n",
      "1808 is composite\n",
      "1809 is composite\n",
      "1810 is composite\n",
      "1811 is PRIME\n",
      "1812 is composite\n",
      "1813 is composite\n",
      "1814 is composite\n",
      "1815 is composite\n",
      "1816 is composite\n",
      "1817 is composite\n",
      "1818 is composite\n",
      "1819 is composite\n",
      "1820 is composite\n",
      "1821 is composite\n",
      "1822 is composite\n",
      "1823 is PRIME\n",
      "1824 is composite\n",
      "1825 is composite\n",
      "1826 is composite\n",
      "1827 is composite\n",
      "1828 is composite\n",
      "1829 is composite\n",
      "1830 is composite\n",
      "1831 is PRIME\n",
      "1832 is composite\n",
      "1833 is composite\n",
      "1834 is composite\n",
      "1835 is composite\n",
      "1836 is composite\n",
      "1837 is composite\n",
      "1838 is composite\n",
      "1839 is composite\n",
      "1840 is composite\n",
      "1841 is composite\n",
      "1842 is composite\n",
      "1843 is composite\n",
      "1844 is composite\n",
      "1845 is composite\n",
      "1846 is composite\n",
      "1847 is PRIME\n",
      "1848 is composite\n",
      "1849 is composite\n",
      "1850 is composite\n",
      "1851 is composite\n",
      "1852 is composite\n",
      "1853 is composite\n",
      "1854 is composite\n",
      "1855 is composite\n",
      "1856 is composite\n",
      "1857 is composite\n",
      "1858 is composite\n",
      "1859 is composite\n",
      "1860 is composite\n",
      "1861 is PRIME\n",
      "1862 is composite\n",
      "1863 is composite\n",
      "1864 is composite\n",
      "1865 is composite\n",
      "1866 is composite\n",
      "1867 is PRIME\n",
      "1868 is composite\n",
      "1869 is composite\n",
      "1870 is composite\n",
      "1871 is PRIME\n",
      "1872 is composite\n",
      "1873 is PRIME\n",
      "1874 is composite\n",
      "1875 is composite\n",
      "1876 is composite\n",
      "1877 is PRIME\n",
      "1878 is composite\n",
      "1879 is PRIME\n",
      "1880 is composite\n",
      "1881 is composite\n",
      "1882 is composite\n",
      "1883 is composite\n",
      "1884 is composite\n",
      "1885 is composite\n",
      "1886 is composite\n",
      "1887 is composite\n",
      "1888 is composite\n",
      "1889 is PRIME\n",
      "1890 is composite\n",
      "1891 is composite\n",
      "1892 is composite\n",
      "1893 is composite\n",
      "1894 is composite\n",
      "1895 is composite\n",
      "1896 is composite\n",
      "1897 is composite\n",
      "1898 is composite\n",
      "1899 is composite\n",
      "1900 is composite\n",
      "1901 is PRIME\n",
      "1902 is composite\n",
      "1903 is composite\n",
      "1904 is composite\n",
      "1905 is composite\n",
      "1906 is composite\n",
      "1907 is PRIME\n",
      "1908 is composite\n",
      "1909 is composite\n",
      "1910 is composite\n",
      "1911 is composite\n",
      "1912 is composite\n",
      "1913 is PRIME\n",
      "1914 is composite\n",
      "1915 is composite\n",
      "1916 is composite\n",
      "1917 is composite\n",
      "1918 is composite\n",
      "1919 is composite\n",
      "1920 is composite\n",
      "1921 is composite\n",
      "1922 is composite\n",
      "1923 is composite\n",
      "1924 is composite\n",
      "1925 is composite\n",
      "1926 is composite\n",
      "1927 is composite\n",
      "1928 is composite\n",
      "1929 is composite\n",
      "1930 is composite\n",
      "1931 is PRIME\n",
      "1932 is composite\n",
      "1933 is PRIME\n",
      "1934 is composite\n",
      "1935 is composite\n",
      "1936 is composite\n",
      "1937 is composite\n",
      "1938 is composite\n",
      "1939 is composite\n",
      "1940 is composite\n",
      "1941 is composite\n",
      "1942 is composite\n",
      "1943 is composite\n",
      "1944 is composite\n",
      "1945 is composite\n",
      "1946 is composite\n",
      "1947 is composite\n",
      "1948 is composite\n",
      "1949 is PRIME\n",
      "1950 is composite\n",
      "1951 is PRIME\n",
      "1952 is composite\n",
      "1953 is composite\n",
      "1954 is composite\n",
      "1955 is composite\n",
      "1956 is composite\n",
      "1957 is composite\n",
      "1958 is composite\n",
      "1959 is composite\n",
      "1960 is composite\n",
      "1961 is composite\n",
      "1962 is composite\n",
      "1963 is composite\n",
      "1964 is composite\n",
      "1965 is composite\n",
      "1966 is composite\n",
      "1967 is composite\n",
      "1968 is composite\n",
      "1969 is composite\n",
      "1970 is composite\n",
      "1971 is composite\n",
      "1972 is composite\n",
      "1973 is PRIME\n",
      "1974 is composite\n",
      "1975 is composite\n",
      "1976 is composite\n",
      "1977 is composite\n",
      "1978 is composite\n",
      "1979 is PRIME\n",
      "1980 is composite\n",
      "1981 is composite\n",
      "1982 is composite\n",
      "1983 is composite\n",
      "1984 is composite\n",
      "1985 is composite\n",
      "1986 is composite\n",
      "1987 is PRIME\n",
      "1988 is composite\n",
      "1989 is composite\n",
      "1990 is composite\n",
      "1991 is composite\n",
      "1992 is composite\n",
      "1993 is PRIME\n",
      "1994 is composite\n",
      "1995 is composite\n",
      "1996 is composite\n",
      "1997 is PRIME\n",
      "1998 is composite\n",
      "1999 is PRIME\n",
      "2000 is composite\n",
      "2001 is composite\n",
      "2002 is composite\n",
      "2003 is PRIME\n",
      "2004 is composite\n",
      "2005 is composite\n",
      "2006 is composite\n",
      "2007 is composite\n",
      "2008 is composite\n",
      "2009 is composite\n",
      "2010 is composite\n",
      "2011 is PRIME\n",
      "2012 is composite\n",
      "2013 is composite\n",
      "2014 is composite\n",
      "2015 is composite\n",
      "2016 is composite\n",
      "2017 is PRIME\n",
      "2018 is composite\n",
      "2019 is composite\n",
      "2020 is composite\n",
      "2021 is composite\n",
      "2022 is composite\n",
      "2023 is composite\n",
      "2024 is composite\n",
      "2025 is composite\n",
      "2026 is composite\n",
      "2027 is PRIME\n",
      "2028 is composite\n",
      "2029 is PRIME\n",
      "2030 is composite\n",
      "2031 is composite\n",
      "2032 is composite\n",
      "2033 is composite\n",
      "2034 is composite\n",
      "2035 is composite\n",
      "2036 is composite\n",
      "2037 is composite\n",
      "2038 is composite\n",
      "2039 is PRIME\n",
      "2040 is composite\n",
      "2041 is composite\n",
      "2042 is composite\n",
      "2043 is composite\n",
      "2044 is composite\n",
      "2045 is composite\n",
      "2046 is composite\n",
      "2047 is composite\n",
      "2048 is composite\n",
      "2049 is composite\n",
      "2050 is composite\n",
      "2051 is composite\n",
      "2052 is composite\n",
      "2053 is PRIME\n",
      "2054 is composite\n",
      "2055 is composite\n",
      "2056 is composite\n",
      "2057 is composite\n",
      "2058 is composite\n",
      "2059 is composite\n",
      "2060 is composite\n",
      "2061 is composite\n",
      "2062 is composite\n",
      "2063 is PRIME\n",
      "2064 is composite\n",
      "2065 is composite\n",
      "2066 is composite\n",
      "2067 is composite\n",
      "2068 is composite\n",
      "2069 is PRIME\n",
      "2070 is composite\n",
      "2071 is composite\n",
      "2072 is composite\n",
      "2073 is composite\n",
      "2074 is composite\n",
      "2075 is composite\n",
      "2076 is composite\n",
      "2077 is composite\n",
      "2078 is composite\n",
      "2079 is composite\n",
      "2080 is composite\n",
      "2081 is PRIME\n",
      "2082 is composite\n",
      "2083 is PRIME\n",
      "2084 is composite\n",
      "2085 is composite\n",
      "2086 is composite\n",
      "2087 is PRIME\n",
      "2088 is composite\n",
      "2089 is PRIME\n",
      "2090 is composite\n",
      "2091 is composite\n",
      "2092 is composite\n",
      "2093 is composite\n",
      "2094 is composite\n",
      "2095 is composite\n",
      "2096 is composite\n",
      "2097 is composite\n",
      "2098 is composite\n",
      "2099 is PRIME\n",
      "2100 is composite\n",
      "2101 is composite\n",
      "2102 is composite\n",
      "2103 is composite\n",
      "2104 is composite\n",
      "2105 is composite\n",
      "2106 is composite\n",
      "2107 is composite\n",
      "2108 is composite\n",
      "2109 is composite\n",
      "2110 is composite\n",
      "2111 is PRIME\n",
      "2112 is composite\n",
      "2113 is PRIME\n",
      "2114 is composite\n",
      "2115 is composite\n",
      "2116 is composite\n",
      "2117 is composite\n",
      "2118 is composite\n",
      "2119 is composite\n",
      "2120 is composite\n",
      "2121 is composite\n",
      "2122 is composite\n",
      "2123 is composite\n",
      "2124 is composite\n",
      "2125 is composite\n",
      "2126 is composite\n",
      "2127 is composite\n",
      "2128 is composite\n",
      "2129 is PRIME\n",
      "2130 is composite\n",
      "2131 is PRIME\n",
      "2132 is composite\n",
      "2133 is composite\n",
      "2134 is composite\n",
      "2135 is composite\n",
      "2136 is composite\n",
      "2137 is PRIME\n",
      "2138 is composite\n",
      "2139 is composite\n",
      "2140 is composite\n",
      "2141 is PRIME\n",
      "2142 is composite\n",
      "2143 is PRIME\n",
      "2144 is composite\n",
      "2145 is composite\n",
      "2146 is composite\n",
      "2147 is composite\n",
      "2148 is composite\n",
      "2149 is composite\n",
      "2150 is composite\n",
      "2151 is composite\n",
      "2152 is composite\n",
      "2153 is PRIME\n",
      "2154 is composite\n",
      "2155 is composite\n",
      "2156 is composite\n",
      "2157 is composite\n",
      "2158 is composite\n",
      "2159 is composite\n",
      "2160 is composite\n",
      "2161 is PRIME\n",
      "2162 is composite\n",
      "2163 is composite\n",
      "2164 is composite\n",
      "2165 is composite\n",
      "2166 is composite\n",
      "2167 is composite\n",
      "2168 is composite\n",
      "2169 is composite\n",
      "2170 is composite\n",
      "2171 is composite\n",
      "2172 is composite\n",
      "2173 is composite\n",
      "2174 is composite\n",
      "2175 is composite\n",
      "2176 is composite\n",
      "2177 is composite\n",
      "2178 is composite\n",
      "2179 is PRIME\n",
      "2180 is composite\n",
      "2181 is composite\n",
      "2182 is composite\n",
      "2183 is composite\n",
      "2184 is composite\n",
      "2185 is composite\n",
      "2186 is composite\n",
      "2187 is composite\n",
      "2188 is composite\n",
      "2189 is composite\n",
      "2190 is composite\n",
      "2191 is composite\n",
      "2192 is composite\n",
      "2193 is composite\n",
      "2194 is composite\n",
      "2195 is composite\n",
      "2196 is composite\n",
      "2197 is composite\n",
      "2198 is composite\n",
      "2199 is composite\n",
      "2200 is composite\n",
      "2201 is composite\n",
      "2202 is composite\n",
      "2203 is PRIME\n",
      "2204 is composite\n",
      "2205 is composite\n",
      "2206 is composite\n",
      "2207 is PRIME\n",
      "2208 is composite\n",
      "2209 is composite\n",
      "2210 is composite\n",
      "2211 is composite\n",
      "2212 is composite\n",
      "2213 is PRIME\n",
      "2214 is composite\n",
      "2215 is composite\n",
      "2216 is composite\n",
      "2217 is composite\n",
      "2218 is composite\n",
      "2219 is composite\n",
      "2220 is composite\n",
      "2221 is PRIME\n",
      "2222 is composite\n",
      "2223 is composite\n",
      "2224 is composite\n",
      "2225 is composite\n",
      "2226 is composite\n",
      "2227 is composite\n",
      "2228 is composite\n",
      "2229 is composite\n",
      "2230 is composite\n",
      "2231 is composite\n",
      "2232 is composite\n",
      "2233 is composite\n",
      "2234 is composite\n",
      "2235 is composite\n",
      "2236 is composite\n",
      "2237 is PRIME\n",
      "2238 is composite\n",
      "2239 is PRIME\n",
      "2240 is composite\n",
      "2241 is composite\n",
      "2242 is composite\n",
      "2243 is PRIME\n",
      "2244 is composite\n",
      "2245 is composite\n",
      "2246 is composite\n",
      "2247 is composite\n",
      "2248 is composite\n",
      "2249 is composite\n",
      "2250 is composite\n",
      "2251 is PRIME\n",
      "2252 is composite\n",
      "2253 is composite\n",
      "2254 is composite\n",
      "2255 is composite\n",
      "2256 is composite\n",
      "2257 is composite\n",
      "2258 is composite\n",
      "2259 is composite\n",
      "2260 is composite\n",
      "2261 is composite\n",
      "2262 is composite\n",
      "2263 is composite\n",
      "2264 is composite\n",
      "2265 is composite\n",
      "2266 is composite\n",
      "2267 is PRIME\n",
      "2268 is composite\n",
      "2269 is PRIME\n",
      "2270 is composite\n",
      "2271 is composite\n",
      "2272 is composite\n",
      "2273 is PRIME\n",
      "2274 is composite\n",
      "2275 is composite\n",
      "2276 is composite\n",
      "2277 is composite\n",
      "2278 is composite\n",
      "2279 is composite\n",
      "2280 is composite\n",
      "2281 is PRIME\n",
      "2282 is composite\n",
      "2283 is composite\n",
      "2284 is composite\n",
      "2285 is composite\n",
      "2286 is composite\n",
      "2287 is PRIME\n",
      "2288 is composite\n",
      "2289 is composite\n",
      "2290 is composite\n",
      "2291 is composite\n",
      "2292 is composite\n",
      "2293 is PRIME\n",
      "2294 is composite\n",
      "2295 is composite\n",
      "2296 is composite\n",
      "2297 is PRIME\n",
      "2298 is composite\n",
      "2299 is composite\n",
      "2300 is composite\n",
      "2301 is composite\n",
      "2302 is composite\n",
      "2303 is composite\n",
      "2304 is composite\n",
      "2305 is composite\n",
      "2306 is composite\n",
      "2307 is composite\n",
      "2308 is composite\n",
      "2309 is PRIME\n",
      "2310 is composite\n",
      "2311 is PRIME\n",
      "2312 is composite\n",
      "2313 is composite\n",
      "2314 is composite\n",
      "2315 is composite\n",
      "2316 is composite\n",
      "2317 is composite\n",
      "2318 is composite\n",
      "2319 is composite\n",
      "2320 is composite\n",
      "2321 is composite\n",
      "2322 is composite\n",
      "2323 is composite\n",
      "2324 is composite\n",
      "2325 is composite\n",
      "2326 is composite\n",
      "2327 is composite\n",
      "2328 is composite\n",
      "2329 is composite\n",
      "2330 is composite\n",
      "2331 is composite\n",
      "2332 is composite\n",
      "2333 is PRIME\n",
      "2334 is composite\n",
      "2335 is composite\n",
      "2336 is composite\n",
      "2337 is composite\n",
      "2338 is composite\n",
      "2339 is PRIME\n",
      "2340 is composite\n",
      "2341 is PRIME\n",
      "2342 is composite\n",
      "2343 is composite\n",
      "2344 is composite\n",
      "2345 is composite\n",
      "2346 is composite\n",
      "2347 is PRIME\n",
      "2348 is composite\n",
      "2349 is composite\n",
      "2350 is composite\n",
      "2351 is PRIME\n",
      "2352 is composite\n",
      "2353 is composite\n",
      "2354 is composite\n",
      "2355 is composite\n",
      "2356 is composite\n",
      "2357 is PRIME\n",
      "2358 is composite\n",
      "2359 is composite\n",
      "2360 is composite\n",
      "2361 is composite\n",
      "2362 is composite\n",
      "2363 is composite\n",
      "2364 is composite\n",
      "2365 is composite\n",
      "2366 is composite\n",
      "2367 is composite\n",
      "2368 is composite\n",
      "2369 is composite\n",
      "2370 is composite\n",
      "2371 is PRIME\n",
      "2372 is composite\n",
      "2373 is composite\n",
      "2374 is composite\n",
      "2375 is composite\n",
      "2376 is composite\n",
      "2377 is PRIME\n",
      "2378 is composite\n",
      "2379 is composite\n",
      "2380 is composite\n",
      "2381 is PRIME\n",
      "2382 is composite\n",
      "2383 is PRIME\n",
      "2384 is composite\n",
      "2385 is composite\n",
      "2386 is composite\n",
      "2387 is composite\n",
      "2388 is composite\n",
      "2389 is PRIME\n",
      "2390 is composite\n",
      "2391 is composite\n",
      "2392 is composite\n",
      "2393 is PRIME\n",
      "2394 is composite\n",
      "2395 is composite\n",
      "2396 is composite\n",
      "2397 is composite\n",
      "2398 is composite\n",
      "2399 is PRIME\n",
      "2400 is composite\n",
      "2401 is composite\n",
      "2402 is composite\n",
      "2403 is composite\n",
      "2404 is composite\n",
      "2405 is composite\n",
      "2406 is composite\n",
      "2407 is composite\n",
      "2408 is composite\n",
      "2409 is composite\n",
      "2410 is composite\n",
      "2411 is PRIME\n",
      "2412 is composite\n",
      "2413 is composite\n",
      "2414 is composite\n",
      "2415 is composite\n",
      "2416 is composite\n",
      "2417 is PRIME\n",
      "2418 is composite\n",
      "2419 is composite\n",
      "2420 is composite\n",
      "2421 is composite\n",
      "2422 is composite\n",
      "2423 is PRIME\n",
      "2424 is composite\n",
      "2425 is composite\n",
      "2426 is composite\n",
      "2427 is composite\n",
      "2428 is composite\n",
      "2429 is composite\n",
      "2430 is composite\n",
      "2431 is composite\n",
      "2432 is composite\n",
      "2433 is composite\n",
      "2434 is composite\n",
      "2435 is composite\n",
      "2436 is composite\n",
      "2437 is PRIME\n",
      "2438 is composite\n",
      "2439 is composite\n",
      "2440 is composite\n",
      "2441 is PRIME\n",
      "2442 is composite\n",
      "2443 is composite\n",
      "2444 is composite\n",
      "2445 is composite\n",
      "2446 is composite\n",
      "2447 is PRIME\n",
      "2448 is composite\n",
      "2449 is composite\n",
      "2450 is composite\n",
      "2451 is composite\n",
      "2452 is composite\n",
      "2453 is composite\n",
      "2454 is composite\n",
      "2455 is composite\n",
      "2456 is composite\n",
      "2457 is composite\n",
      "2458 is composite\n",
      "2459 is PRIME\n",
      "2460 is composite\n",
      "2461 is composite\n",
      "2462 is composite\n",
      "2463 is composite\n",
      "2464 is composite\n",
      "2465 is composite\n",
      "2466 is composite\n",
      "2467 is PRIME\n",
      "2468 is composite\n",
      "2469 is composite\n",
      "2470 is composite\n",
      "2471 is composite\n",
      "2472 is composite\n",
      "2473 is PRIME\n",
      "2474 is composite\n",
      "2475 is composite\n",
      "2476 is composite\n",
      "2477 is PRIME\n",
      "2478 is composite\n",
      "2479 is composite\n",
      "2480 is composite\n",
      "2481 is composite\n",
      "2482 is composite\n",
      "2483 is composite\n",
      "2484 is composite\n",
      "2485 is composite\n",
      "2486 is composite\n",
      "2487 is composite\n",
      "2488 is composite\n",
      "2489 is composite\n",
      "2490 is composite\n",
      "2491 is composite\n",
      "2492 is composite\n",
      "2493 is composite\n",
      "2494 is composite\n",
      "2495 is composite\n",
      "2496 is composite\n",
      "2497 is composite\n",
      "2498 is composite\n",
      "2499 is composite\n",
      "2500 is composite\n",
      "2501 is composite\n",
      "2502 is composite\n",
      "2503 is PRIME\n",
      "2504 is composite\n",
      "2505 is composite\n",
      "2506 is composite\n",
      "2507 is composite\n",
      "2508 is composite\n",
      "2509 is composite\n",
      "2510 is composite\n",
      "2511 is composite\n",
      "2512 is composite\n",
      "2513 is composite\n",
      "2514 is composite\n",
      "2515 is composite\n",
      "2516 is composite\n",
      "2517 is composite\n",
      "2518 is composite\n",
      "2519 is composite\n",
      "2520 is composite\n",
      "2521 is PRIME\n",
      "2522 is composite\n",
      "2523 is composite\n",
      "2524 is composite\n",
      "2525 is composite\n",
      "2526 is composite\n",
      "2527 is composite\n",
      "2528 is composite\n",
      "2529 is composite\n",
      "2530 is composite\n",
      "2531 is PRIME\n",
      "2532 is composite\n",
      "2533 is composite\n",
      "2534 is composite\n",
      "2535 is composite\n",
      "2536 is composite\n",
      "2537 is composite\n",
      "2538 is composite\n",
      "2539 is PRIME\n",
      "2540 is composite\n",
      "2541 is composite\n",
      "2542 is composite\n",
      "2543 is PRIME\n",
      "2544 is composite\n",
      "2545 is composite\n",
      "2546 is composite\n",
      "2547 is composite\n",
      "2548 is composite\n",
      "2549 is PRIME\n",
      "2550 is composite\n",
      "2551 is PRIME\n",
      "2552 is composite\n",
      "2553 is composite\n",
      "2554 is composite\n",
      "2555 is composite\n",
      "2556 is composite\n",
      "2557 is PRIME\n",
      "2558 is composite\n",
      "2559 is composite\n",
      "2560 is composite\n",
      "2561 is composite\n",
      "2562 is composite\n",
      "2563 is composite\n",
      "2564 is composite\n",
      "2565 is composite\n",
      "2566 is composite\n",
      "2567 is composite\n",
      "2568 is composite\n",
      "2569 is composite\n",
      "2570 is composite\n",
      "2571 is composite\n",
      "2572 is composite\n",
      "2573 is composite\n",
      "2574 is composite\n",
      "2575 is composite\n",
      "2576 is composite\n",
      "2577 is composite\n",
      "2578 is composite\n",
      "2579 is PRIME\n",
      "2580 is composite\n",
      "2581 is composite\n",
      "2582 is composite\n",
      "2583 is composite\n",
      "2584 is composite\n",
      "2585 is composite\n",
      "2586 is composite\n",
      "2587 is composite\n",
      "2588 is composite\n",
      "2589 is composite\n",
      "2590 is composite\n",
      "2591 is PRIME\n",
      "2592 is composite\n",
      "2593 is PRIME\n",
      "2594 is composite\n",
      "2595 is composite\n",
      "2596 is composite\n",
      "2597 is composite\n",
      "2598 is composite\n",
      "2599 is composite\n",
      "2600 is composite\n",
      "2601 is composite\n",
      "2602 is composite\n",
      "2603 is composite\n",
      "2604 is composite\n",
      "2605 is composite\n",
      "2606 is composite\n",
      "2607 is composite\n",
      "2608 is composite\n",
      "2609 is PRIME\n",
      "2610 is composite\n",
      "2611 is composite\n",
      "2612 is composite\n",
      "2613 is composite\n",
      "2614 is composite\n",
      "2615 is composite\n",
      "2616 is composite\n",
      "2617 is PRIME\n",
      "2618 is composite\n",
      "2619 is composite\n",
      "2620 is composite\n",
      "2621 is PRIME\n",
      "2622 is composite\n",
      "2623 is composite\n",
      "2624 is composite\n",
      "2625 is composite\n",
      "2626 is composite\n",
      "2627 is composite\n",
      "2628 is composite\n",
      "2629 is composite\n",
      "2630 is composite\n",
      "2631 is composite\n",
      "2632 is composite\n",
      "2633 is PRIME\n",
      "2634 is composite\n",
      "2635 is composite\n",
      "2636 is composite\n",
      "2637 is composite\n",
      "2638 is composite\n",
      "2639 is composite\n",
      "2640 is composite\n",
      "2641 is composite\n",
      "2642 is composite\n",
      "2643 is composite\n",
      "2644 is composite\n",
      "2645 is composite\n",
      "2646 is composite\n",
      "2647 is PRIME\n",
      "2648 is composite\n",
      "2649 is composite\n",
      "2650 is composite\n",
      "2651 is composite\n",
      "2652 is composite\n",
      "2653 is composite\n",
      "2654 is composite\n",
      "2655 is composite\n",
      "2656 is composite\n",
      "2657 is PRIME\n",
      "2658 is composite\n",
      "2659 is PRIME\n",
      "2660 is composite\n",
      "2661 is composite\n",
      "2662 is composite\n",
      "2663 is PRIME\n",
      "2664 is composite\n",
      "2665 is composite\n",
      "2666 is composite\n",
      "2667 is composite\n",
      "2668 is composite\n",
      "2669 is composite\n",
      "2670 is composite\n",
      "2671 is PRIME\n",
      "2672 is composite\n",
      "2673 is composite\n",
      "2674 is composite\n",
      "2675 is composite\n",
      "2676 is composite\n",
      "2677 is PRIME\n",
      "2678 is composite\n",
      "2679 is composite\n",
      "2680 is composite\n",
      "2681 is composite\n",
      "2682 is composite\n",
      "2683 is PRIME\n",
      "2684 is composite\n",
      "2685 is composite\n",
      "2686 is composite\n",
      "2687 is PRIME\n",
      "2688 is composite\n",
      "2689 is PRIME\n",
      "2690 is composite\n",
      "2691 is composite\n",
      "2692 is composite\n",
      "2693 is PRIME\n",
      "2694 is composite\n",
      "2695 is composite\n",
      "2696 is composite\n",
      "2697 is composite\n",
      "2698 is composite\n",
      "2699 is PRIME\n",
      "2700 is composite\n",
      "2701 is composite\n",
      "2702 is composite\n",
      "2703 is composite\n",
      "2704 is composite\n",
      "2705 is composite\n",
      "2706 is composite\n",
      "2707 is PRIME\n",
      "2708 is composite\n",
      "2709 is composite\n",
      "2710 is composite\n",
      "2711 is PRIME\n",
      "2712 is composite\n",
      "2713 is PRIME\n",
      "2714 is composite\n",
      "2715 is composite\n",
      "2716 is composite\n",
      "2717 is composite\n",
      "2718 is composite\n",
      "2719 is PRIME\n",
      "2720 is composite\n",
      "2721 is composite\n",
      "2722 is composite\n",
      "2723 is composite\n",
      "2724 is composite\n",
      "2725 is composite\n",
      "2726 is composite\n",
      "2727 is composite\n",
      "2728 is composite\n",
      "2729 is PRIME\n",
      "2730 is composite\n",
      "2731 is PRIME\n",
      "2732 is composite\n",
      "2733 is composite\n",
      "2734 is composite\n",
      "2735 is composite\n",
      "2736 is composite\n",
      "2737 is composite\n",
      "2738 is composite\n",
      "2739 is composite\n",
      "2740 is composite\n",
      "2741 is PRIME\n",
      "2742 is composite\n",
      "2743 is composite\n",
      "2744 is composite\n",
      "2745 is composite\n",
      "2746 is composite\n",
      "2747 is composite\n",
      "2748 is composite\n",
      "2749 is PRIME\n",
      "2750 is composite\n",
      "2751 is composite\n",
      "2752 is composite\n",
      "2753 is PRIME\n",
      "2754 is composite\n",
      "2755 is composite\n",
      "2756 is composite\n",
      "2757 is composite\n",
      "2758 is composite\n",
      "2759 is composite\n",
      "2760 is composite\n",
      "2761 is composite\n",
      "2762 is composite\n",
      "2763 is composite\n",
      "2764 is composite\n",
      "2765 is composite\n",
      "2766 is composite\n",
      "2767 is PRIME\n",
      "2768 is composite\n",
      "2769 is composite\n",
      "2770 is composite\n",
      "2771 is composite\n",
      "2772 is composite\n",
      "2773 is composite\n",
      "2774 is composite\n",
      "2775 is composite\n",
      "2776 is composite\n",
      "2777 is PRIME\n",
      "2778 is composite\n",
      "2779 is composite\n",
      "2780 is composite\n",
      "2781 is composite\n",
      "2782 is composite\n",
      "2783 is composite\n",
      "2784 is composite\n",
      "2785 is composite\n",
      "2786 is composite\n",
      "2787 is composite\n",
      "2788 is composite\n",
      "2789 is PRIME\n",
      "2790 is composite\n",
      "2791 is PRIME\n",
      "2792 is composite\n",
      "2793 is composite\n",
      "2794 is composite\n",
      "2795 is composite\n",
      "2796 is composite\n",
      "2797 is PRIME\n",
      "2798 is composite\n",
      "2799 is composite\n",
      "2800 is composite\n",
      "2801 is PRIME\n",
      "2802 is composite\n",
      "2803 is PRIME\n",
      "2804 is composite\n",
      "2805 is composite\n",
      "2806 is composite\n",
      "2807 is composite\n",
      "2808 is composite\n",
      "2809 is composite\n",
      "2810 is composite\n",
      "2811 is composite\n",
      "2812 is composite\n",
      "2813 is composite\n",
      "2814 is composite\n",
      "2815 is composite\n",
      "2816 is composite\n",
      "2817 is composite\n",
      "2818 is composite\n",
      "2819 is PRIME\n",
      "2820 is composite\n",
      "2821 is composite\n",
      "2822 is composite\n",
      "2823 is composite\n",
      "2824 is composite\n",
      "2825 is composite\n",
      "2826 is composite\n",
      "2827 is composite\n",
      "2828 is composite\n",
      "2829 is composite\n",
      "2830 is composite\n",
      "2831 is composite\n",
      "2832 is composite\n",
      "2833 is PRIME\n",
      "2834 is composite\n",
      "2835 is composite\n",
      "2836 is composite\n",
      "2837 is PRIME\n",
      "2838 is composite\n",
      "2839 is composite\n",
      "2840 is composite\n",
      "2841 is composite\n",
      "2842 is composite\n",
      "2843 is PRIME\n",
      "2844 is composite\n",
      "2845 is composite\n",
      "2846 is composite\n",
      "2847 is composite\n",
      "2848 is composite\n",
      "2849 is composite\n",
      "2850 is composite\n",
      "2851 is PRIME\n",
      "2852 is composite\n",
      "2853 is composite\n",
      "2854 is composite\n",
      "2855 is composite\n",
      "2856 is composite\n",
      "2857 is PRIME\n",
      "2858 is composite\n",
      "2859 is composite\n",
      "2860 is composite\n",
      "2861 is PRIME\n",
      "2862 is composite\n",
      "2863 is composite\n",
      "2864 is composite\n",
      "2865 is composite\n",
      "2866 is composite\n",
      "2867 is composite\n",
      "2868 is composite\n",
      "2869 is composite\n",
      "2870 is composite\n",
      "2871 is composite\n",
      "2872 is composite\n",
      "2873 is composite\n",
      "2874 is composite\n",
      "2875 is composite\n",
      "2876 is composite\n",
      "2877 is composite\n",
      "2878 is composite\n",
      "2879 is PRIME\n",
      "2880 is composite\n",
      "2881 is composite\n",
      "2882 is composite\n",
      "2883 is composite\n",
      "2884 is composite\n",
      "2885 is composite\n",
      "2886 is composite\n",
      "2887 is PRIME\n",
      "2888 is composite\n",
      "2889 is composite\n",
      "2890 is composite\n",
      "2891 is composite\n",
      "2892 is composite\n",
      "2893 is composite\n",
      "2894 is composite\n",
      "2895 is composite\n",
      "2896 is composite\n",
      "2897 is PRIME\n",
      "2898 is composite\n",
      "2899 is composite\n",
      "2900 is composite\n",
      "2901 is composite\n",
      "2902 is composite\n",
      "2903 is PRIME\n",
      "2904 is composite\n",
      "2905 is composite\n",
      "2906 is composite\n",
      "2907 is composite\n",
      "2908 is composite\n",
      "2909 is PRIME\n",
      "2910 is composite\n",
      "2911 is composite\n",
      "2912 is composite\n",
      "2913 is composite\n",
      "2914 is composite\n",
      "2915 is composite\n",
      "2916 is composite\n",
      "2917 is PRIME\n",
      "2918 is composite\n",
      "2919 is composite\n",
      "2920 is composite\n",
      "2921 is composite\n",
      "2922 is composite\n",
      "2923 is composite\n",
      "2924 is composite\n",
      "2925 is composite\n",
      "2926 is composite\n",
      "2927 is PRIME\n",
      "2928 is composite\n",
      "2929 is composite\n",
      "2930 is composite\n",
      "2931 is composite\n",
      "2932 is composite\n",
      "2933 is composite\n",
      "2934 is composite\n",
      "2935 is composite\n",
      "2936 is composite\n",
      "2937 is composite\n",
      "2938 is composite\n",
      "2939 is PRIME\n",
      "2940 is composite\n",
      "2941 is composite\n",
      "2942 is composite\n",
      "2943 is composite\n",
      "2944 is composite\n",
      "2945 is composite\n",
      "2946 is composite\n",
      "2947 is composite\n",
      "2948 is composite\n",
      "2949 is composite\n",
      "2950 is composite\n",
      "2951 is composite\n",
      "2952 is composite\n",
      "2953 is PRIME\n",
      "2954 is composite\n",
      "2955 is composite\n",
      "2956 is composite\n",
      "2957 is PRIME\n",
      "2958 is composite\n",
      "2959 is composite\n",
      "2960 is composite\n",
      "2961 is composite\n",
      "2962 is composite\n",
      "2963 is PRIME\n",
      "2964 is composite\n",
      "2965 is composite\n",
      "2966 is composite\n",
      "2967 is composite\n",
      "2968 is composite\n",
      "2969 is PRIME\n",
      "2970 is composite\n",
      "2971 is PRIME\n",
      "2972 is composite\n",
      "2973 is composite\n",
      "2974 is composite\n",
      "2975 is composite\n",
      "2976 is composite\n",
      "2977 is composite\n",
      "2978 is composite\n",
      "2979 is composite\n",
      "2980 is composite\n",
      "2981 is composite\n",
      "2982 is composite\n",
      "2983 is composite\n",
      "2984 is composite\n",
      "2985 is composite\n",
      "2986 is composite\n",
      "2987 is composite\n",
      "2988 is composite\n",
      "2989 is composite\n",
      "2990 is composite\n",
      "2991 is composite\n",
      "2992 is composite\n",
      "2993 is composite\n",
      "2994 is composite\n",
      "2995 is composite\n",
      "2996 is composite\n",
      "2997 is composite\n",
      "2998 is composite\n",
      "2999 is PRIME\n"
     ]
    }
   ],
   "source": [
    "# 1: for each number from 10 to 30\n",
    "#     2: for each possible divisor from 2 up to number - 1\n",
    "#           3: if divisor divides into number evenly, then:\n",
    "#                4. print NOT PRIME\n",
    "#                   5. stop checking\n",
    "#.      end of inner loop\n",
    "#.      print PRIME\n",
    "\n",
    "for number in range(2, 3000): # step 1\n",
    "    for possible in range(2, number): # step 2\n",
    "        if number % possible == 0: # step 3\n",
    "            print(number, 'is composite') # step 4\n",
    "            break # step 5\n",
    "    else: # Ah, Guido, we love your else clause we just hate the name!\n",
    "        print(number, 'is PRIME')"
   ]
  },
  {
   "cell_type": "code",
   "execution_count": 92,
   "id": "1a78c89e-9704-4695-aa96-c56972ce8251",
   "metadata": {},
   "outputs": [
    {
     "data": {
      "text/plain": [
       "54.76312628037227"
      ]
     },
     "execution_count": 92,
     "metadata": {},
     "output_type": "execute_result"
    }
   ],
   "source": [
    "import math\n",
    "math.sqrt(2999)"
   ]
  },
  {
   "cell_type": "code",
   "execution_count": null,
   "id": "3993bc51-17fc-48ad-81f3-ceb6fdab075c",
   "metadata": {},
   "outputs": [],
   "source": [
    "num = 2999\n",
    "int(math.sqrt(num) + 1)"
   ]
  }
 ],
 "metadata": {
  "kernelspec": {
   "display_name": "Python 3 (ipykernel)",
   "language": "python",
   "name": "python3"
  },
  "language_info": {
   "codemirror_mode": {
    "name": "ipython",
    "version": 3
   },
   "file_extension": ".py",
   "mimetype": "text/x-python",
   "name": "python",
   "nbconvert_exporter": "python",
   "pygments_lexer": "ipython3",
   "version": "3.9.12"
  }
 },
 "nbformat": 4,
 "nbformat_minor": 5
}
