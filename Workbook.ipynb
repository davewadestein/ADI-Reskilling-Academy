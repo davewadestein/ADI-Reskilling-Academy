{
 "cells": [
  {
   "cell_type": "code",
   "execution_count": null,
   "id": "f71ad354-9fba-48d2-a1ec-23971bd9cc06",
   "metadata": {},
   "outputs": [],
   "source": [
    "# DRY\n",
    "# \"Mechanical sympathy\""
   ]
  },
  {
   "cell_type": "markdown",
   "id": "b067c6a9-fd52-46c1-9791-90060da74347",
   "metadata": {},
   "source": [
    "# Important things about Python\n",
    "* everything in Python is an object\n",
    "* Python is dynamically typed\n",
    "  * variables are not restricted in their type, so we can put some different type object into them\n",
    "  * you do not have to declare a variable before using it\n",
    "  * this is both a good and a bad\n",
    "* It's...\n",
    "  * old (1991)\n",
    "  * Guido van Rossum\n",
    "  * it's raison d'être is to manipulate text/strings/files/data\n",
    "  * it's a terrible language for numerics\n",
    "* containers vs. simple variables\n",
    "  * containers: str\n",
    "  * simple variables: int, float, bool, str\n",
    "* mutable vs. immutable objects\n",
    "  * immutable: str\n",
    "  * mutable:\n",
    "* Python practices \"truthiness\"\n",
    "  * 0 and 0.0 are considered False\n",
    "  * non-zero numbers are considered True\n",
    "  * empty containers are False; non-empty containers are True\n",
    "* \"Pythonic\"\n",
    "  * converting from one type to another, especially to make an object easier to work with "
   ]
  },
  {
   "cell_type": "markdown",
   "id": "606aaf88-3b35-4b07-a0a7-835a9b3deeca",
   "metadata": {},
   "source": [
    "# Important things about learning/teaching\n",
    "* know when to zoom in and zoom out\n",
    "  * don't go/go down the rabbit hole"
   ]
  },
  {
   "cell_type": "markdown",
   "id": "ca3e75e1",
   "metadata": {},
   "source": [
    "# Programming Stuff\n",
    "* Hal Abelson: \"Code is written for others to read and only incidentally for the computer to execute.\"\n",
    "* Eagleson's Law: \"Any code you wrote more than 6 months ago might as well have been written by somebody else.\"\n",
    "* cost_per_ounce, weight, quanity are much better variable names than cpo, w, and qty."
   ]
  },
  {
   "cell_type": "code",
   "execution_count": 1,
   "id": "9f769788-cb2f-45dd-9333-8fc84e88dd17",
   "metadata": {},
   "outputs": [
    {
     "name": "stdout",
     "output_type": "stream",
     "text": [
      "1 2 3\n"
     ]
    }
   ],
   "source": [
    "print(1, 2, 3)"
   ]
  },
  {
   "cell_type": "code",
   "execution_count": 2,
   "id": "bcd7fb38-0c1e-4b62-a2c4-cb4bdc81cfb4",
   "metadata": {},
   "outputs": [
    {
     "name": "stdout",
     "output_type": "stream",
     "text": [
      "1\n"
     ]
    }
   ],
   "source": [
    "print(1)"
   ]
  },
  {
   "cell_type": "code",
   "execution_count": 3,
   "id": "192665b6-cdff-48fe-8e42-ef7e8d297d32",
   "metadata": {},
   "outputs": [
    {
     "name": "stdout",
     "output_type": "stream",
     "text": [
      "\n"
     ]
    }
   ],
   "source": [
    "print()"
   ]
  },
  {
   "cell_type": "code",
   "execution_count": 4,
   "id": "39b1a49f-fbf9-4f51-919d-56d69a2e7008",
   "metadata": {},
   "outputs": [
    {
     "name": "stdout",
     "output_type": "stream",
     "text": [
      "Some words\n"
     ]
    }
   ],
   "source": [
    "print('Some words')"
   ]
  },
  {
   "cell_type": "code",
   "execution_count": 5,
   "id": "1ae4cf2b-5f06-4933-a7f2-34365de9c583",
   "metadata": {},
   "outputs": [],
   "source": [
    "name = 'Grace Hopper'"
   ]
  },
  {
   "cell_type": "code",
   "execution_count": 6,
   "id": "4b5d3a8f-10fc-42fc-b803-49e6aa8bdc1e",
   "metadata": {},
   "outputs": [
    {
     "data": {
      "text/plain": [
       "'Grace Hopper'"
      ]
     },
     "execution_count": 6,
     "metadata": {},
     "output_type": "execute_result"
    }
   ],
   "source": [
    "name"
   ]
  },
  {
   "cell_type": "code",
   "execution_count": 7,
   "id": "6cac5891-15bc-44f4-95a0-4b3ade564dc3",
   "metadata": {},
   "outputs": [
    {
     "data": {
      "text/plain": [
       "140341011891440"
      ]
     },
     "execution_count": 7,
     "metadata": {},
     "output_type": "execute_result"
    }
   ],
   "source": [
    "id(name)"
   ]
  },
  {
   "cell_type": "code",
   "execution_count": 8,
   "id": "0ebcbfc8-f06b-42f5-b8b3-c1877d78c39e",
   "metadata": {},
   "outputs": [],
   "source": [
    "x = 1"
   ]
  },
  {
   "cell_type": "code",
   "execution_count": 9,
   "id": "f9ef06a1-a586-4acc-8209-9a21e0488aca",
   "metadata": {},
   "outputs": [
    {
     "data": {
      "text/plain": [
       "94650147893888"
      ]
     },
     "execution_count": 9,
     "metadata": {},
     "output_type": "execute_result"
    }
   ],
   "source": [
    "id(x)"
   ]
  },
  {
   "cell_type": "code",
   "execution_count": 10,
   "id": "d813cb26-b330-42a7-b868-99619f7dd467",
   "metadata": {},
   "outputs": [
    {
     "data": {
      "text/plain": [
       "140341096797360"
      ]
     },
     "execution_count": 10,
     "metadata": {},
     "output_type": "execute_result"
    }
   ],
   "source": [
    "id(print)"
   ]
  },
  {
   "cell_type": "code",
   "execution_count": 11,
   "id": "d6b2bbec-e9d8-4dd8-be03-d61d8c4c2f81",
   "metadata": {},
   "outputs": [
    {
     "data": {
      "text/plain": [
       "1"
      ]
     },
     "execution_count": 11,
     "metadata": {},
     "output_type": "execute_result"
    }
   ],
   "source": [
    "1"
   ]
  },
  {
   "cell_type": "code",
   "execution_count": 12,
   "id": "e9c65b92-ad78-4c7c-932e-7e2d65705c38",
   "metadata": {},
   "outputs": [
    {
     "data": {
      "text/plain": [
       "4"
      ]
     },
     "execution_count": 12,
     "metadata": {},
     "output_type": "execute_result"
    }
   ],
   "source": [
    "2 + 2"
   ]
  },
  {
   "cell_type": "code",
   "execution_count": 13,
   "id": "82812dfd-a0b3-4139-a35e-83531357453f",
   "metadata": {},
   "outputs": [
    {
     "data": {
      "text/plain": [
       "18446744073709551616"
      ]
     },
     "execution_count": 13,
     "metadata": {},
     "output_type": "execute_result"
    }
   ],
   "source": [
    "2 ** 64"
   ]
  },
  {
   "cell_type": "code",
   "execution_count": 14,
   "id": "1abdf171-f3d7-474c-b16e-806b02258d2d",
   "metadata": {},
   "outputs": [
    {
     "ename": "SyntaxError",
     "evalue": "invalid syntax (2875093652.py, line 1)",
     "output_type": "error",
     "traceback": [
      "\u001b[0;36m  File \u001b[0;32m\"/tmp/ipykernel_80/2875093652.py\"\u001b[0;36m, line \u001b[0;32m1\u001b[0m\n\u001b[0;31m    2 **\u001b[0m\n\u001b[0m        ^\u001b[0m\n\u001b[0;31mSyntaxError\u001b[0m\u001b[0;31m:\u001b[0m invalid syntax\n"
     ]
    }
   ],
   "source": [
    "2 **"
   ]
  },
  {
   "cell_type": "code",
   "execution_count": 15,
   "id": "158c2ff6-b008-4c47-a9f7-9f290fee0ed9",
   "metadata": {},
   "outputs": [
    {
     "data": {
      "text/plain": [
       "16399.420000000002"
      ]
     },
     "execution_count": 15,
     "metadata": {},
     "output_type": "execute_result"
    }
   ],
   "source": [
    "223 * 73.54"
   ]
  },
  {
   "cell_type": "code",
   "execution_count": 1,
   "id": "d4fc00e1-3f0b-49f6-b46d-055830f5bee8",
   "metadata": {},
   "outputs": [],
   "source": [
    "cost_per_ounce = 0.49"
   ]
  },
  {
   "cell_type": "code",
   "execution_count": 2,
   "id": "1334ee4b",
   "metadata": {},
   "outputs": [],
   "source": [
    "quantity = 15"
   ]
  },
  {
   "cell_type": "code",
   "execution_count": 3,
   "id": "7226f9a8",
   "metadata": {},
   "outputs": [
    {
     "data": {
      "text/plain": [
       "15"
      ]
     },
     "execution_count": 3,
     "metadata": {},
     "output_type": "execute_result"
    }
   ],
   "source": [
    "quantity"
   ]
  },
  {
   "cell_type": "code",
   "execution_count": 4,
   "id": "d751ac2a",
   "metadata": {},
   "outputs": [
    {
     "data": {
      "text/plain": [
       "int"
      ]
     },
     "execution_count": 4,
     "metadata": {},
     "output_type": "execute_result"
    }
   ],
   "source": [
    "type(quantity)"
   ]
  },
  {
   "cell_type": "code",
   "execution_count": 5,
   "id": "9f734b2e",
   "metadata": {},
   "outputs": [],
   "source": [
    "mycompany = 'Pluralsight'"
   ]
  },
  {
   "cell_type": "code",
   "execution_count": 6,
   "id": "599eb877",
   "metadata": {},
   "outputs": [
    {
     "data": {
      "text/plain": [
       "'Pluralsight'"
      ]
     },
     "execution_count": 6,
     "metadata": {},
     "output_type": "execute_result"
    }
   ],
   "source": [
    "mycompany"
   ]
  },
  {
   "cell_type": "code",
   "execution_count": 7,
   "id": "cf66bf75",
   "metadata": {},
   "outputs": [
    {
     "data": {
      "text/plain": [
       "str"
      ]
     },
     "execution_count": 7,
     "metadata": {},
     "output_type": "execute_result"
    }
   ],
   "source": [
    "type(mycompany)"
   ]
  },
  {
   "cell_type": "code",
   "execution_count": 14,
   "id": "a1f14150",
   "metadata": {},
   "outputs": [
    {
     "name": "stdout",
     "output_type": "stream",
     "text": [
      "<class 'int'>\n"
     ]
    },
    {
     "data": {
      "text/plain": [
       "float"
      ]
     },
     "execution_count": 14,
     "metadata": {},
     "output_type": "execute_result"
    }
   ],
   "source": [
    "print(type(7)) # Python actually evaluates this\n",
    "type(7.0)"
   ]
  },
  {
   "cell_type": "code",
   "execution_count": 15,
   "id": "73bad1d6",
   "metadata": {},
   "outputs": [
    {
     "data": {
      "text/plain": [
       "int"
      ]
     },
     "execution_count": 15,
     "metadata": {},
     "output_type": "execute_result"
    }
   ],
   "source": [
    "type(7)"
   ]
  },
  {
   "cell_type": "code",
   "execution_count": 16,
   "id": "a624d1b8",
   "metadata": {},
   "outputs": [
    {
     "name": "stdout",
     "output_type": "stream",
     "text": [
      "<class 'int'>\n"
     ]
    }
   ],
   "source": [
    "print(type(7))"
   ]
  },
  {
   "cell_type": "code",
   "execution_count": 17,
   "id": "79092765",
   "metadata": {},
   "outputs": [
    {
     "data": {
      "text/plain": [
       "'Pluralsight'"
      ]
     },
     "execution_count": 17,
     "metadata": {},
     "output_type": "execute_result"
    }
   ],
   "source": [
    "mycompany"
   ]
  },
  {
   "cell_type": "code",
   "execution_count": 18,
   "id": "ee4f0f46",
   "metadata": {},
   "outputs": [
    {
     "name": "stdout",
     "output_type": "stream",
     "text": [
      "I work for Pluralsight\n"
     ]
    }
   ],
   "source": [
    "print('I work for', mycompany)"
   ]
  },
  {
   "cell_type": "code",
   "execution_count": 22,
   "id": "c6eac11e",
   "metadata": {},
   "outputs": [
    {
     "name": "stdout",
     "output_type": "stream",
     "text": [
      "3\n",
      "foo\n"
     ]
    }
   ],
   "source": [
    "x = 1\n",
    "y = 2\n",
    "print(x + y)\n",
    "z = 4\n",
    "print('foo')"
   ]
  },
  {
   "cell_type": "code",
   "execution_count": 23,
   "id": "8fb0023f",
   "metadata": {},
   "outputs": [
    {
     "data": {
      "text/plain": [
       "1"
      ]
     },
     "execution_count": 23,
     "metadata": {},
     "output_type": "execute_result"
    }
   ],
   "source": [
    "x"
   ]
  },
  {
   "cell_type": "code",
   "execution_count": 24,
   "id": "60fc7108",
   "metadata": {},
   "outputs": [],
   "source": [
    "x = 'ecks'"
   ]
  },
  {
   "cell_type": "code",
   "execution_count": 25,
   "id": "471306e5",
   "metadata": {},
   "outputs": [
    {
     "data": {
      "text/plain": [
       "'ecks'"
      ]
     },
     "execution_count": 25,
     "metadata": {},
     "output_type": "execute_result"
    }
   ],
   "source": [
    "x"
   ]
  },
  {
   "cell_type": "code",
   "execution_count": 26,
   "id": "53e40b38",
   "metadata": {},
   "outputs": [
    {
     "data": {
      "text/plain": [
       "str"
      ]
     },
     "execution_count": 26,
     "metadata": {},
     "output_type": "execute_result"
    }
   ],
   "source": [
    "type(x)"
   ]
  },
  {
   "cell_type": "code",
   "execution_count": 27,
   "id": "b4853120",
   "metadata": {},
   "outputs": [],
   "source": [
    "gazornin = 'wow!'"
   ]
  },
  {
   "cell_type": "code",
   "execution_count": null,
   "id": "160cb4d8",
   "metadata": {},
   "outputs": [],
   "source": [
    "# string gazornin = 'wow!' # statically typed"
   ]
  },
  {
   "cell_type": "code",
   "execution_count": 28,
   "id": "a12bb675",
   "metadata": {},
   "outputs": [],
   "source": [
    "Test = 1"
   ]
  },
  {
   "cell_type": "code",
   "execution_count": 29,
   "id": "6d6a5ee5",
   "metadata": {},
   "outputs": [
    {
     "ename": "NameError",
     "evalue": "name 'test' is not defined",
     "output_type": "error",
     "traceback": [
      "\u001b[0;31m---------------------------------------------------------------------------\u001b[0m",
      "\u001b[0;31mNameError\u001b[0m                                 Traceback (most recent call last)",
      "Input \u001b[0;32mIn [29]\u001b[0m, in \u001b[0;36m<cell line: 1>\u001b[0;34m()\u001b[0m\n\u001b[0;32m----> 1\u001b[0m \u001b[43mtest\u001b[49m\n",
      "\u001b[0;31mNameError\u001b[0m: name 'test' is not defined"
     ]
    }
   ],
   "source": [
    "test"
   ]
  },
  {
   "cell_type": "code",
   "execution_count": 32,
   "id": "3e28f56f",
   "metadata": {},
   "outputs": [
    {
     "data": {
      "text/plain": [
       "['False',\n",
       " 'None',\n",
       " 'True',\n",
       " '__peg_parser__',\n",
       " 'and',\n",
       " 'as',\n",
       " 'assert',\n",
       " 'async',\n",
       " 'await',\n",
       " 'break',\n",
       " 'class',\n",
       " 'continue',\n",
       " 'def',\n",
       " 'del',\n",
       " 'elif',\n",
       " 'else',\n",
       " 'except',\n",
       " 'finally',\n",
       " 'for',\n",
       " 'from',\n",
       " 'global',\n",
       " 'if',\n",
       " 'import',\n",
       " 'in',\n",
       " 'is',\n",
       " 'lambda',\n",
       " 'nonlocal',\n",
       " 'not',\n",
       " 'or',\n",
       " 'pass',\n",
       " 'raise',\n",
       " 'return',\n",
       " 'try',\n",
       " 'while',\n",
       " 'with',\n",
       " 'yield']"
      ]
     },
     "execution_count": 32,
     "metadata": {},
     "output_type": "execute_result"
    }
   ],
   "source": [
    "from keyword import kwlist\n",
    "kwlist"
   ]
  },
  {
   "cell_type": "code",
   "execution_count": 33,
   "id": "71630251",
   "metadata": {},
   "outputs": [],
   "source": [
    "minutes = 321"
   ]
  },
  {
   "cell_type": "code",
   "execution_count": 34,
   "id": "1682ab0c",
   "metadata": {},
   "outputs": [
    {
     "data": {
      "text/plain": [
       "5.35"
      ]
     },
     "execution_count": 34,
     "metadata": {},
     "output_type": "execute_result"
    }
   ],
   "source": [
    "minutes / 60"
   ]
  },
  {
   "cell_type": "code",
   "execution_count": 35,
   "id": "8d2ca009",
   "metadata": {},
   "outputs": [
    {
     "data": {
      "text/plain": [
       "5"
      ]
     },
     "execution_count": 35,
     "metadata": {},
     "output_type": "execute_result"
    }
   ],
   "source": [
    "minutes // 60"
   ]
  },
  {
   "cell_type": "code",
   "execution_count": 36,
   "id": "1157931d",
   "metadata": {},
   "outputs": [
    {
     "data": {
      "text/plain": [
       "21"
      ]
     },
     "execution_count": 36,
     "metadata": {},
     "output_type": "execute_result"
    }
   ],
   "source": [
    "minutes % 60"
   ]
  },
  {
   "cell_type": "code",
   "execution_count": 38,
   "id": "2ff36c45",
   "metadata": {},
   "outputs": [],
   "source": [
    "h, m = divmod(minutes, 60)"
   ]
  },
  {
   "cell_type": "code",
   "execution_count": 39,
   "id": "7fb660ba",
   "metadata": {},
   "outputs": [
    {
     "data": {
      "text/plain": [
       "(5, 21)"
      ]
     },
     "execution_count": 39,
     "metadata": {},
     "output_type": "execute_result"
    }
   ],
   "source": [
    "h, m"
   ]
  },
  {
   "cell_type": "code",
   "execution_count": 40,
   "id": "5548c3c4",
   "metadata": {},
   "outputs": [
    {
     "name": "stdout",
     "output_type": "stream",
     "text": [
      "5 hours and 21 minutes\n"
     ]
    }
   ],
   "source": [
    "print(h, 'hours and', m, 'minutes')"
   ]
  },
  {
   "cell_type": "code",
   "execution_count": 41,
   "id": "c426f54c",
   "metadata": {},
   "outputs": [
    {
     "name": "stdout",
     "output_type": "stream",
     "text": [
      "5 : 21\n"
     ]
    }
   ],
   "source": [
    "print(h, ':', m)"
   ]
  },
  {
   "cell_type": "code",
   "execution_count": 46,
   "id": "cbadff5c",
   "metadata": {},
   "outputs": [],
   "source": [
    "xyz = 101"
   ]
  },
  {
   "cell_type": "code",
   "execution_count": 45,
   "id": "8f5709a7",
   "metadata": {},
   "outputs": [
    {
     "data": {
      "text/plain": [
       "False"
      ]
     },
     "execution_count": 45,
     "metadata": {},
     "output_type": "execute_result"
    }
   ],
   "source": [
    "xyz > 100"
   ]
  },
  {
   "cell_type": "code",
   "execution_count": 47,
   "id": "aa943c12",
   "metadata": {},
   "outputs": [],
   "source": [
    "company = 'ADI'"
   ]
  },
  {
   "cell_type": "code",
   "execution_count": 48,
   "id": "eb858c00",
   "metadata": {},
   "outputs": [
    {
     "data": {
      "text/plain": [
       "True"
      ]
     },
     "execution_count": 48,
     "metadata": {},
     "output_type": "execute_result"
    }
   ],
   "source": [
    "company == 'ADI'"
   ]
  },
  {
   "cell_type": "code",
   "execution_count": 61,
   "id": "5ced1cd1",
   "metadata": {},
   "outputs": [],
   "source": [
    "x = 5\n",
    "y = 7"
   ]
  },
  {
   "cell_type": "code",
   "execution_count": 50,
   "id": "ba9570ab",
   "metadata": {},
   "outputs": [
    {
     "data": {
      "text/plain": [
       "True"
      ]
     },
     "execution_count": 50,
     "metadata": {},
     "output_type": "execute_result"
    }
   ],
   "source": [
    "x == 5 or y == 6"
   ]
  },
  {
   "cell_type": "code",
   "execution_count": 62,
   "id": "9f7ab07b",
   "metadata": {},
   "outputs": [
    {
     "name": "stdout",
     "output_type": "stream",
     "text": [
      "either x is 5 or y is 6 but not both\n"
     ]
    }
   ],
   "source": [
    "if (x == 5) ^ (y == 6):\n",
    "    print('either x is 5 or y is 6 but not both')"
   ]
  },
  {
   "cell_type": "code",
   "execution_count": 63,
   "id": "bc737ff7",
   "metadata": {},
   "outputs": [],
   "source": [
    "string = 'something'"
   ]
  },
  {
   "cell_type": "code",
   "execution_count": 64,
   "id": "19abd4c9",
   "metadata": {},
   "outputs": [
    {
     "name": "stdout",
     "output_type": "stream",
     "text": [
      "something\n"
     ]
    }
   ],
   "source": [
    "print(string)"
   ]
  },
  {
   "cell_type": "code",
   "execution_count": 67,
   "id": "df78cdcc",
   "metadata": {},
   "outputs": [
    {
     "data": {
      "text/plain": [
       "True"
      ]
     },
     "execution_count": 67,
     "metadata": {},
     "output_type": "execute_result"
    }
   ],
   "source": [
    "1 == True"
   ]
  },
  {
   "cell_type": "code",
   "execution_count": 66,
   "id": "cf993cea",
   "metadata": {},
   "outputs": [
    {
     "name": "stdout",
     "output_type": "stream",
     "text": [
      "It is True\n"
     ]
    }
   ],
   "source": [
    "if 2: # because 2 is not 0 it is considered True\n",
    "    print('It is True')"
   ]
  },
  {
   "cell_type": "code",
   "execution_count": 68,
   "id": "c14fbde5",
   "metadata": {},
   "outputs": [
    {
     "data": {
      "text/plain": [
       "4344620336"
      ]
     },
     "execution_count": 68,
     "metadata": {},
     "output_type": "execute_result"
    }
   ],
   "source": [
    "id(True)"
   ]
  },
  {
   "cell_type": "code",
   "execution_count": 69,
   "id": "c7d6db47",
   "metadata": {},
   "outputs": [
    {
     "data": {
      "text/plain": [
       "140396709734704"
      ]
     },
     "execution_count": 69,
     "metadata": {},
     "output_type": "execute_result"
    }
   ],
   "source": [
    "id(1)"
   ]
  },
  {
   "cell_type": "code",
   "execution_count": 70,
   "id": "185af656",
   "metadata": {},
   "outputs": [
    {
     "data": {
      "text/plain": [
       "True"
      ]
     },
     "execution_count": 70,
     "metadata": {},
     "output_type": "execute_result"
    }
   ],
   "source": [
    "0 == False"
   ]
  },
  {
   "cell_type": "code",
   "execution_count": 71,
   "id": "b9db514e",
   "metadata": {},
   "outputs": [
    {
     "data": {
      "text/plain": [
       "False"
      ]
     },
     "execution_count": 71,
     "metadata": {},
     "output_type": "execute_result"
    }
   ],
   "source": [
    "' ' == True"
   ]
  },
  {
   "cell_type": "code",
   "execution_count": 72,
   "id": "dd72abd2",
   "metadata": {},
   "outputs": [
    {
     "data": {
      "text/plain": [
       "False"
      ]
     },
     "execution_count": 72,
     "metadata": {},
     "output_type": "execute_result"
    }
   ],
   "source": [
    "' ' == 1"
   ]
  },
  {
   "cell_type": "code",
   "execution_count": 73,
   "id": "27ad3f1a",
   "metadata": {},
   "outputs": [
    {
     "data": {
      "text/plain": [
       "True"
      ]
     },
     "execution_count": 73,
     "metadata": {},
     "output_type": "execute_result"
    }
   ],
   "source": [
    "1 == True"
   ]
  },
  {
   "cell_type": "code",
   "execution_count": 74,
   "id": "8476f096",
   "metadata": {},
   "outputs": [
    {
     "data": {
      "text/plain": [
       "False"
      ]
     },
     "execution_count": 74,
     "metadata": {},
     "output_type": "execute_result"
    }
   ],
   "source": [
    "4 == True"
   ]
  },
  {
   "cell_type": "code",
   "execution_count": 75,
   "id": "0c3fbaa1",
   "metadata": {},
   "outputs": [
    {
     "data": {
      "text/plain": [
       "False"
      ]
     },
     "execution_count": 75,
     "metadata": {},
     "output_type": "execute_result"
    }
   ],
   "source": [
    "' ' == True"
   ]
  },
  {
   "cell_type": "code",
   "execution_count": 76,
   "id": "0d3835ee",
   "metadata": {},
   "outputs": [
    {
     "name": "stdout",
     "output_type": "stream",
     "text": [
      "something in that string\n"
     ]
    }
   ],
   "source": [
    "if ' ':\n",
    "    print('something in that string')"
   ]
  },
  {
   "cell_type": "code",
   "execution_count": 77,
   "id": "0a72e99f",
   "metadata": {},
   "outputs": [],
   "source": [
    "if ' ' == 'string':\n",
    "    print('equal')"
   ]
  },
  {
   "cell_type": "code",
   "execution_count": 78,
   "id": "1d0fdd7d",
   "metadata": {},
   "outputs": [
    {
     "name": "stdout",
     "output_type": "stream",
     "text": [
      "something in that string\n"
     ]
    }
   ],
   "source": [
    "s = 'string'\n",
    "if s: # len(s) > 0\n",
    "    print('something in that string')"
   ]
  },
  {
   "cell_type": "code",
   "execution_count": 83,
   "id": "32ff2619",
   "metadata": {},
   "outputs": [
    {
     "data": {
      "text/plain": [
       "True"
      ]
     },
     "execution_count": 83,
     "metadata": {},
     "output_type": "execute_result"
    }
   ],
   "source": [
    "year = 2022\n",
    "xyz = 2\n",
    "year == 2022 and xyz < 10"
   ]
  },
  {
   "cell_type": "code",
   "execution_count": 84,
   "id": "d487dc3b",
   "metadata": {},
   "outputs": [
    {
     "name": "stdout",
     "output_type": "stream",
     "text": [
      "Enter a year: 2022\n",
      "2022 <class 'int'>\n"
     ]
    }
   ],
   "source": [
    "year = input('Enter a year: ')\n",
    "year = int(year)\n",
    "print(year, type(year))"
   ]
  },
  {
   "cell_type": "code",
   "execution_count": 85,
   "id": "0820efa1",
   "metadata": {},
   "outputs": [
    {
     "name": "stdout",
     "output_type": "stream",
     "text": [
      "Enter a year: hi\n"
     ]
    },
    {
     "ename": "ValueError",
     "evalue": "invalid literal for int() with base 10: 'hi'",
     "output_type": "error",
     "traceback": [
      "\u001b[0;31m---------------------------------------------------------------------------\u001b[0m",
      "\u001b[0;31mValueError\u001b[0m                                Traceback (most recent call last)",
      "Input \u001b[0;32mIn [85]\u001b[0m, in \u001b[0;36m<cell line: 1>\u001b[0;34m()\u001b[0m\n\u001b[0;32m----> 1\u001b[0m year \u001b[38;5;241m=\u001b[39m \u001b[38;5;28;43mint\u001b[39;49m\u001b[43m(\u001b[49m\u001b[38;5;28;43minput\u001b[39;49m\u001b[43m(\u001b[49m\u001b[38;5;124;43m'\u001b[39;49m\u001b[38;5;124;43mEnter a year: \u001b[39;49m\u001b[38;5;124;43m'\u001b[39;49m\u001b[43m)\u001b[49m\u001b[43m)\u001b[49m \u001b[38;5;66;03m# nesting function calls\u001b[39;00m\n\u001b[1;32m      2\u001b[0m \u001b[38;5;28mprint\u001b[39m(year, \u001b[38;5;28mtype\u001b[39m(year))\n",
      "\u001b[0;31mValueError\u001b[0m: invalid literal for int() with base 10: 'hi'"
     ]
    }
   ],
   "source": [
    "year = int(input('Enter a year: ')) # nesting function calls\n",
    "print(year, type(year))"
   ]
  },
  {
   "cell_type": "code",
   "execution_count": 86,
   "id": "602b51dd",
   "metadata": {},
   "outputs": [
    {
     "data": {
      "text/plain": [
       "'DaveDaveDaveDave'"
      ]
     },
     "execution_count": 86,
     "metadata": {},
     "output_type": "execute_result"
    }
   ],
   "source": [
    "'Dave' * 4"
   ]
  },
  {
   "cell_type": "code",
   "execution_count": 87,
   "id": "de216cbd",
   "metadata": {},
   "outputs": [
    {
     "data": {
      "text/plain": [
       "'................................................................................'"
      ]
     },
     "execution_count": 87,
     "metadata": {},
     "output_type": "execute_result"
    }
   ],
   "source": [
    "'.' * 80"
   ]
  },
  {
   "cell_type": "code",
   "execution_count": 88,
   "id": "6c346c9c",
   "metadata": {},
   "outputs": [
    {
     "data": {
      "text/plain": [
       "'--------------------------------------------------------------------------------'"
      ]
     },
     "execution_count": 88,
     "metadata": {},
     "output_type": "execute_result"
    }
   ],
   "source": [
    "'-' * 80"
   ]
  },
  {
   "cell_type": "code",
   "execution_count": 89,
   "id": "9c279f4b",
   "metadata": {},
   "outputs": [
    {
     "name": "stdout",
     "output_type": "stream",
     "text": [
      "Enter first name: Margaret\n",
      "Enter last name: Hamilton\n"
     ]
    }
   ],
   "source": [
    "first = input('Enter first name: ')\n",
    "last = input('Enter last name: ')"
   ]
  },
  {
   "cell_type": "code",
   "execution_count": 93,
   "id": "13fc1607",
   "metadata": {},
   "outputs": [],
   "source": [
    "new_string = last + ', ' + first"
   ]
  },
  {
   "cell_type": "code",
   "execution_count": 94,
   "id": "a2d251d7",
   "metadata": {},
   "outputs": [
    {
     "data": {
      "text/plain": [
       "'Hamilton, Margaret'"
      ]
     },
     "execution_count": 94,
     "metadata": {},
     "output_type": "execute_result"
    }
   ],
   "source": [
    "new_string"
   ]
  },
  {
   "cell_type": "code",
   "execution_count": 97,
   "id": "7d6cdd1b",
   "metadata": {},
   "outputs": [
    {
     "name": "stdout",
     "output_type": "stream",
     "text": [
      "Enter a string: Python\n",
      "Enter an index: 23\n"
     ]
    },
    {
     "ename": "IndexError",
     "evalue": "string index out of range",
     "output_type": "error",
     "traceback": [
      "\u001b[0;31m---------------------------------------------------------------------------\u001b[0m",
      "\u001b[0;31mIndexError\u001b[0m                                Traceback (most recent call last)",
      "Input \u001b[0;32mIn [97]\u001b[0m, in \u001b[0;36m<cell line: 3>\u001b[0;34m()\u001b[0m\n\u001b[1;32m      1\u001b[0m s \u001b[38;5;241m=\u001b[39m \u001b[38;5;28minput\u001b[39m(\u001b[38;5;124m'\u001b[39m\u001b[38;5;124mEnter a string: \u001b[39m\u001b[38;5;124m'\u001b[39m)\n\u001b[1;32m      2\u001b[0m index \u001b[38;5;241m=\u001b[39m \u001b[38;5;28mint\u001b[39m(\u001b[38;5;28minput\u001b[39m(\u001b[38;5;124m'\u001b[39m\u001b[38;5;124mEnter an index: \u001b[39m\u001b[38;5;124m'\u001b[39m))\n\u001b[0;32m----> 3\u001b[0m \u001b[38;5;28mprint\u001b[39m(\u001b[43ms\u001b[49m\u001b[43m[\u001b[49m\u001b[43mindex\u001b[49m\u001b[43m]\u001b[49m)\n",
      "\u001b[0;31mIndexError\u001b[0m: string index out of range"
     ]
    }
   ],
   "source": [
    "s = input('Enter a string: ')\n",
    "index = int(input('Enter an index: '))\n",
    "print(s[index])"
   ]
  },
  {
   "cell_type": "code",
   "execution_count": 99,
   "id": "87ce388c",
   "metadata": {},
   "outputs": [
    {
     "data": {
      "text/plain": [
       "'Margaret'"
      ]
     },
     "execution_count": 99,
     "metadata": {},
     "output_type": "execute_result"
    }
   ],
   "source": [
    "first"
   ]
  },
  {
   "cell_type": "code",
   "execution_count": 100,
   "id": "15af8a94",
   "metadata": {},
   "outputs": [
    {
     "data": {
      "text/plain": [
       "'Hamilton'"
      ]
     },
     "execution_count": 100,
     "metadata": {},
     "output_type": "execute_result"
    }
   ],
   "source": [
    "last"
   ]
  },
  {
   "cell_type": "code",
   "execution_count": 102,
   "id": "09c882af",
   "metadata": {},
   "outputs": [
    {
     "data": {
      "text/plain": [
       "'Margaret Hamilton'"
      ]
     },
     "execution_count": 102,
     "metadata": {},
     "output_type": "execute_result"
    }
   ],
   "source": [
    "first + ' ' + last"
   ]
  },
  {
   "cell_type": "code",
   "execution_count": 103,
   "id": "71fecb29",
   "metadata": {},
   "outputs": [
    {
     "data": {
      "text/plain": [
       "'something'"
      ]
     },
     "execution_count": 103,
     "metadata": {},
     "output_type": "execute_result"
    }
   ],
   "source": [
    "string"
   ]
  },
  {
   "cell_type": "code",
   "execution_count": 104,
   "id": "a348b9a0",
   "metadata": {},
   "outputs": [
    {
     "ename": "TypeError",
     "evalue": "'str' object does not support item assignment",
     "output_type": "error",
     "traceback": [
      "\u001b[0;31m---------------------------------------------------------------------------\u001b[0m",
      "\u001b[0;31mTypeError\u001b[0m                                 Traceback (most recent call last)",
      "Input \u001b[0;32mIn [104]\u001b[0m, in \u001b[0;36m<cell line: 1>\u001b[0;34m()\u001b[0m\n\u001b[0;32m----> 1\u001b[0m s[\u001b[38;5;241m0\u001b[39m] \u001b[38;5;241m=\u001b[39m \u001b[38;5;124m'\u001b[39m\u001b[38;5;124mx\u001b[39m\u001b[38;5;124m'\u001b[39m\n",
      "\u001b[0;31mTypeError\u001b[0m: 'str' object does not support item assignment"
     ]
    }
   ],
   "source": [
    "s[0] = 'x'"
   ]
  },
  {
   "cell_type": "code",
   "execution_count": 105,
   "id": "3d746ce4",
   "metadata": {},
   "outputs": [
    {
     "data": {
      "text/plain": [
       "'Python'"
      ]
     },
     "execution_count": 105,
     "metadata": {},
     "output_type": "execute_result"
    }
   ],
   "source": [
    "s"
   ]
  },
  {
   "cell_type": "code",
   "execution_count": 106,
   "id": "7189ab0c",
   "metadata": {},
   "outputs": [],
   "source": [
    "s = 'Golang'"
   ]
  },
  {
   "cell_type": "code",
   "execution_count": 107,
   "id": "f11951b5",
   "metadata": {},
   "outputs": [
    {
     "data": {
      "text/plain": [
       "'Golang'"
      ]
     },
     "execution_count": 107,
     "metadata": {},
     "output_type": "execute_result"
    }
   ],
   "source": [
    "s"
   ]
  },
  {
   "cell_type": "code",
   "execution_count": 108,
   "id": "8c90d640",
   "metadata": {},
   "outputs": [
    {
     "ename": "TypeError",
     "evalue": "'str' object does not support item assignment",
     "output_type": "error",
     "traceback": [
      "\u001b[0;31m---------------------------------------------------------------------------\u001b[0m",
      "\u001b[0;31mTypeError\u001b[0m                                 Traceback (most recent call last)",
      "Input \u001b[0;32mIn [108]\u001b[0m, in \u001b[0;36m<cell line: 1>\u001b[0;34m()\u001b[0m\n\u001b[0;32m----> 1\u001b[0m s[\u001b[38;5;241m0\u001b[39m] \u001b[38;5;241m=\u001b[39m \u001b[38;5;124m'\u001b[39m\u001b[38;5;124mg\u001b[39m\u001b[38;5;124m'\u001b[39m\n",
      "\u001b[0;31mTypeError\u001b[0m: 'str' object does not support item assignment"
     ]
    }
   ],
   "source": [
    "s[0] = 'g'"
   ]
  },
  {
   "cell_type": "code",
   "execution_count": 109,
   "id": "04655d6f",
   "metadata": {},
   "outputs": [],
   "source": [
    "x = 1"
   ]
  },
  {
   "cell_type": "code",
   "execution_count": 110,
   "id": "11494b5a",
   "metadata": {},
   "outputs": [],
   "source": [
    "x = 3"
   ]
  },
  {
   "cell_type": "code",
   "execution_count": 113,
   "id": "61bd2161",
   "metadata": {},
   "outputs": [
    {
     "data": {
      "text/plain": [
       "'MARGARET'"
      ]
     },
     "execution_count": 113,
     "metadata": {},
     "output_type": "execute_result"
    }
   ],
   "source": [
    "first.upper()"
   ]
  },
  {
   "cell_type": "code",
   "execution_count": 114,
   "id": "9f25187a",
   "metadata": {},
   "outputs": [
    {
     "data": {
      "text/plain": [
       "'Margaret'"
      ]
     },
     "execution_count": 114,
     "metadata": {},
     "output_type": "execute_result"
    }
   ],
   "source": [
    "first"
   ]
  },
  {
   "cell_type": "code",
   "execution_count": 115,
   "id": "2d67c492",
   "metadata": {},
   "outputs": [
    {
     "name": "stdout",
     "output_type": "stream",
     "text": [
      "1 2 3\n"
     ]
    }
   ],
   "source": [
    "print(1, 2, 3)"
   ]
  },
  {
   "cell_type": "code",
   "execution_count": 117,
   "id": "d90d22d3",
   "metadata": {},
   "outputs": [
    {
     "name": "stdout",
     "output_type": "stream",
     "text": [
      "1...2...3\n"
     ]
    }
   ],
   "source": [
    "print(1, 2, 3, sep='...')"
   ]
  },
  {
   "cell_type": "code",
   "execution_count": 121,
   "id": "d71c6165",
   "metadata": {},
   "outputs": [
    {
     "name": "stdout",
     "output_type": "stream",
     "text": [
      "1 2 34 5\n"
     ]
    }
   ],
   "source": [
    "print(1, 2, 3, end='')\n",
    "print(4, 5)"
   ]
  },
  {
   "cell_type": "code",
   "execution_count": 122,
   "id": "3ae3a9b3",
   "metadata": {},
   "outputs": [
    {
     "name": "stdout",
     "output_type": "stream",
     "text": [
      "1\n",
      "2\n",
      "3\n"
     ]
    }
   ],
   "source": [
    "print(1, 2, 3, sep='\\n')"
   ]
  },
  {
   "cell_type": "code",
   "execution_count": 126,
   "id": "339b774e",
   "metadata": {},
   "outputs": [
    {
     "name": "stdout",
     "output_type": "stream",
     "text": [
      "Yep, non-empty string\n"
     ]
    }
   ],
   "source": [
    "string = 'thing'\n",
    "#...\n",
    "\n",
    "if string:\n",
    "    print('Yep, non-empty string')"
   ]
  },
  {
   "cell_type": "code",
   "execution_count": null,
   "id": "fa7adc37",
   "metadata": {},
   "outputs": [],
   "source": []
  }
 ],
 "metadata": {
  "kernelspec": {
   "display_name": "Python 3 (ipykernel)",
   "language": "python",
   "name": "python3"
  },
  "language_info": {
   "codemirror_mode": {
    "name": "ipython",
    "version": 3
   },
   "file_extension": ".py",
   "mimetype": "text/x-python",
   "name": "python",
   "nbconvert_exporter": "python",
   "pygments_lexer": "ipython3",
   "version": "3.9.12"
  }
 },
 "nbformat": 4,
 "nbformat_minor": 5
}
