{
 "cells": [
  {
   "cell_type": "markdown",
   "id": "22511b99-fa89-4c63-94ca-5de4670be70b",
   "metadata": {},
   "source": [
    "# Workbook Part 2"
   ]
  },
  {
   "cell_type": "code",
   "execution_count": 172,
   "id": "39a4adc0-f340-4972-a869-276cdea3fcb1",
   "metadata": {},
   "outputs": [
    {
     "name": "stdout",
     "output_type": "stream",
     "text": [
      "[2, 3, 4, 5, 6, 7, 8, 9, 10, 11, 12, 13, 14, 15, 16, 17, 18, 19, 20, 21, 22, 23, 24, 25, 26, 27, 28, 29, 30, 31, 32, 33, 34, 35, 36, 37, 38, 39, 40, 41, 42, 43, 44, 45, 46, 47, 48, 49, 50, 51, 52, 53, 54, 55, 56, 57, 58, 59, 60, 61, 62, 63, 64, 65, 66, 67, 68, 69, 70, 71, 72, 73, 74, 75, 76, 77, 78, 79, 80, 81, 82, 83, 84, 85, 86, 87, 88, 89, 90, 91, 92, 93, 94, 95, 96, 97, 98, 99, 100, 101, 102, 103, 104, 105, 106, 107, 108, 109, 110, 111, 112, 113, 114, 115, 116, 117, 118, 119, 120, 121, 122, 123, 124, 125, 126, 127, 128, 129, 130, 131, 132, 133, 134, 135, 136, 137, 138, 139, 140, 141, 142, 143, 144, 145, 146, 147, 148, 149, 150, 151, 152, 153, 154, 155, 156, 157, 158, 159, 160, 161, 162, 163, 164, 165, 166, 167, 168, 169, 170, 171, 172, 173, 174, 175, 176, 177, 178, 179, 180, 181, 182, 183, 184, 185, 186, 187, 188, 189, 190, 191, 192, 193, 194, 195, 196, 197, 198, 199, 200, 201, 202, 203, 204, 205, 206, 207, 208, 209, 210, 211, 212, 213, 214, 215, 216, 217, 218, 219, 220, 221, 222, 223, 224, 225, 226, 227, 228, 229, 230, 231, 232, 233, 234, 235, 236, 237, 238, 239, 240, 241, 242, 243, 244, 245, 246, 247, 248, 249, 250, 251, 252, 253, 254, 255, 256, 257, 258, 259, 260, 261, 262, 263, 264, 265, 266, 267, 268, 269, 270, 271, 272, 273, 274, 275, 276, 277, 278, 279, 280, 281, 282, 283, 284, 285, 286, 287, 288, 289, 290, 291, 292, 293, 294, 295, 296, 297, 298, 299, 300, 301, 302, 303, 304, 305, 306, 307, 308, 309, 310, 311, 312, 313, 314, 315, 316, 317, 318, 319, 320, 321, 322, 323, 324, 325, 326, 327, 328, 329, 330, 331, 332, 333, 334, 335, 336, 337, 338, 339, 340, 341, 342, 343, 344, 345, 346, 347, 348, 349, 350, 351, 352, 353, 354, 355, 356, 357, 358, 359, 360, 361, 362, 363, 364, 365, 366, 367, 368, 369, 370, 371, 372, 373, 374, 375, 376, 377, 378, 379, 380, 381, 382, 383, 384, 385, 386, 387, 388, 389, 390, 391, 392, 393, 394, 395, 396, 397, 398, 399, 400, 401, 402, 403, 404, 405, 406, 407, 408, 409, 410, 411, 412, 413, 414, 415, 416, 417, 418, 419, 420, 421, 422, 423, 424, 425, 426, 427, 428, 429, 430, 431, 432, 433, 434, 435, 436, 437, 438, 439, 440, 441, 442, 443, 444, 445, 446, 447, 448, 449, 450, 451, 452, 453, 454, 455, 456, 457, 458, 459, 460, 461, 462, 463, 464, 465, 466, 467, 468, 469, 470, 471, 472, 473, 474, 475, 476, 477, 478, 479, 480, 481, 482, 483, 484, 485, 486, 487, 488, 489, 490, 491, 492, 493, 494, 495, 496, 497, 498, 499, 500, 501, 502, 503, 504, 505, 506, 507, 508, 509, 510, 511, 512, 513, 514, 515, 516, 517, 518, 519, 520, 521, 522, 523, 524, 525, 526, 527, 528, 529, 530, 531, 532, 533, 534, 535, 536, 537, 538, 539, 540, 541, 542, 543, 544, 545, 546, 547, 548, 549, 550, 551, 552, 553, 554, 555, 556, 557, 558, 559, 560, 561, 562, 563, 564, 565, 566, 567, 568, 569, 570, 571, 572, 573, 574, 575, 576, 577, 578, 579, 580, 581, 582, 583, 584, 585, 586, 587, 588, 589, 590, 591, 592, 593, 594, 595, 596, 597, 598, 599, 600, 601, 602, 603, 604, 605, 606, 607, 608, 609, 610, 611, 612, 613, 614, 615, 616, 617, 618, 619, 620, 621, 622, 623, 624, 625, 626, 627, 628, 629, 630, 631, 632, 633, 634, 635, 636, 637, 638, 639, 640, 641, 642, 643, 644, 645, 646, 647, 648, 649, 650, 651, 652, 653, 654, 655, 656, 657, 658, 659, 660, 661, 662, 663, 664, 665, 666, 667, 668, 669, 670, 671, 672, 673, 674, 675, 676, 677, 678, 679, 680, 681, 682, 683, 684, 685, 686, 687, 688, 689, 690, 691, 692, 693, 694, 695, 696, 697, 698, 699, 700, 701, 702, 703, 704, 705, 706, 707, 708, 709, 710, 711, 712, 713, 714, 715, 716, 717, 718, 719, 720, 721, 722, 723, 724, 725, 726, 727, 728, 729, 730, 731, 732, 733, 734, 735, 736, 737, 738, 739, 740, 741, 742, 743, 744, 745, 746, 747, 748, 749, 750, 751, 752, 753, 754, 755, 756, 757, 758, 759, 760, 761, 762, 763, 764, 765, 766, 767, 768, 769, 770, 771, 772, 773, 774, 775, 776, 777, 778, 779, 780, 781, 782, 783, 784, 785, 786, 787, 788, 789, 790, 791, 792, 793, 794, 795, 796, 797, 798, 799, 800, 801, 802, 803, 804, 805, 806, 807, 808, 809, 810, 811, 812, 813, 814, 815, 816, 817, 818, 819, 820, 821, 822, 823, 824, 825, 826, 827, 828, 829, 830, 831, 832, 833, 834, 835, 836, 837, 838, 839, 840, 841, 842, 843, 844, 845, 846, 847, 848, 849, 850, 851, 852, 853, 854, 855, 856, 857, 858, 859, 860, 861, 862, 863, 864, 865, 866, 867, 868, 869, 870, 871, 872, 873, 874, 875, 876, 877, 878, 879, 880, 881, 882, 883, 884, 885, 886, 887, 888, 889, 890, 891, 892, 893, 894, 895, 896, 897, 898, 899, 900, 901, 902, 903, 904, 905, 906, 907, 908, 909, 910, 911, 912, 913, 914, 915, 916, 917, 918, 919, 920, 921, 922, 923, 924, 925, 926, 927, 928, 929, 930, 931, 932, 933, 934, 935, 936, 937, 938, 939, 940, 941, 942, 943, 944, 945, 946, 947, 948, 949, 950, 951, 952, 953, 954, 955, 956, 957, 958, 959, 960, 961, 962, 963, 964, 965, 966, 967, 968, 969, 970, 971, 972, 973, 974, 975, 976, 977, 978, 979, 980, 981, 982, 983, 984, 985, 986, 987, 988, 989, 990, 991, 992, 993, 994, 995, 996, 997, 998, 999, 1000]\n"
     ]
    }
   ],
   "source": [
    "print(list(range(2, 1001)))"
   ]
  },
  {
   "cell_type": "markdown",
   "id": "285fcb0a-1795-4a81-b05c-97b05a3f5889",
   "metadata": {},
   "source": [
    "## The Sieve of Eratosthenes\n",
    "* write a program to find prime numbers (numbers which are divisible only by themselves and 1, e.g., __`2, 3, 29, 31, 101, 419, 997`__) up to a given number using Eratosthene's Sieve:\n",
    "  * start with a list of all of the numbers from 2 up to the given number, e.g., if the given number if 25, you'd start with __`[2, 3, 4, 5, 6, 7, 8, 9, 10, 11, 12, 13, 14, 15, 16, 17, 18, 19, 20, 21, 22, 23, 24, 25]`__\n",
    "  * remove all of the multiples of the first number (2), so you now have __`[2, 3, 5, 7, 9, 11, 13, 15, 17, 19, 21, 23, 25]`__\n",
    "  * now remove all of the multiples of the next number (3), so you now have __`[2, 3, 5, 7, 11, 13, 17, 19, 23, 25]`__\n",
    "  * keep doing this, removing multiples of the next number (5), (i.e., 10, 15, 20, and 25–they're already all removed except for 25)\n",
    "  * stop when 2 times the next number you land on is larger than the given number–in this case you'd stop at 13, since 13 * 2  > 25\n",
    "  * at this point every number in the list is prime\n",
    "  * try your solution with large numbers and compare against list of primes (e.g., https://miniwebtool.com/list-of-prime-numbers/)\n",
    "  * removing the multiples from the list is fairly inefficient, and you should notice your program slowing down considerably with large numbers, so now try setting the multiples to 0, rather than removing them, e.g.,\n",
    "    * __`[2, 3, 0, 5, 0, 7, 0, 9, 0, 11, 0, 13, 0, 15, 0, 17, 0, 19, 0, 21, 0, 23, 0, 25]`__\n",
    "    * __`[2, 3, 0, 5, 0, 7, 0, 0, 0, 11, 0, 13, 0, 0, 0, 17, 0, 19, 0, 0, 0, 23, 0, 25]`__\n",
    "    * __`[2, 3, 0, 5, 0, 7, 0, 0, 0, 11, 0, 13, 0, 0, 0, 17, 0, 19, 0, 0, 0, 23, 0, 0]`__"
   ]
  },
  {
   "cell_type": "code",
   "execution_count": null,
   "id": "3a835e55-95df-4181-b478-7afb0a13b589",
   "metadata": {},
   "outputs": [],
   "source": [
    "# create a list of numbers from 2..max\n",
    "# (let's add two 0s at the beginning, the nth index in the list will be n)\n",
    "# for each number (that isn't 0...it must be prime):\n",
    "#    loop: from 2*number up to stop at end of list, increment by the number\n",
    "#.      make the number at that point in the list be 0 (\"crossing it out\")\n",
    "# print primes\n",
    "# print number of primes (size of list - number of 0s - 2)"
   ]
  },
  {
   "cell_type": "code",
   "execution_count": 205,
   "id": "fb6f095b-c3a3-4b7d-99c2-ee8ffcf96a6b",
   "metadata": {},
   "outputs": [
    {
     "name": "stdin",
     "output_type": "stream",
     "text": [
      "Compute primes up to what number?  10_000\n"
     ]
    }
   ],
   "source": [
    "while True:\n",
    "    maxprime = input('Compute primes up to what number? ')\n",
    "    try:\n",
    "        maxprime = int(maxprime)\n",
    "        break\n",
    "    except ValueError:\n",
    "        print('You did not enter a number!')"
   ]
  },
  {
   "cell_type": "code",
   "execution_count": 206,
   "id": "f85fa399-e58f-43a5-8d9c-0b854182f750",
   "metadata": {},
   "outputs": [
    {
     "data": {
      "text/plain": [
       "10000"
      ]
     },
     "execution_count": 206,
     "metadata": {},
     "output_type": "execute_result"
    }
   ],
   "source": [
    "maxprime"
   ]
  },
  {
   "cell_type": "code",
   "execution_count": 207,
   "id": "7d1a95b2-028b-441d-a610-674ab2cb4cff",
   "metadata": {},
   "outputs": [],
   "source": [
    "nums = [0, 0] + list(range(2, maxprime + 1))"
   ]
  },
  {
   "cell_type": "code",
   "execution_count": 208,
   "id": "1418d9dc-82b3-43b1-b96f-b29bfa897acb",
   "metadata": {},
   "outputs": [
    {
     "name": "stdout",
     "output_type": "stream",
     "text": [
      "[2, 3, 5, 7, 11, 13, 17, 19, 23, 29, 31, 37, 41, 43, 47, 53, 59, 61, 67, 71, 73, 79, 83, 89, 97, 101, 103, 107, 109, 113, 127, 131, 137, 139, 149, 151, 157, 163, 167, 173, 179, 181, 191, 193, 197, 199, 211, 223, 227, 229, 233, 239, 241, 251, 257, 263, 269, 271, 277, 281, 283, 293, 307, 311, 313, 317, 331, 337, 347, 349, 353, 359, 367, 373, 379, 383, 389, 397, 401, 409, 419, 421, 431, 433, 439, 443, 449, 457, 461, 463, 467, 479, 487, 491, 499, 503, 509, 521, 523, 541, 547, 557, 563, 569, 571, 577, 587, 593, 599, 601, 607, 613, 617, 619, 631, 641, 643, 647, 653, 659, 661, 673, 677, 683, 691, 701, 709, 719, 727, 733, 739, 743, 751, 757, 761, 769, 773, 787, 797, 809, 811, 821, 823, 827, 829, 839, 853, 857, 859, 863, 877, 881, 883, 887, 907, 911, 919, 929, 937, 941, 947, 953, 967, 971, 977, 983, 991, 997, 1009, 1013, 1019, 1021, 1031, 1033, 1039, 1049, 1051, 1061, 1063, 1069, 1087, 1091, 1093, 1097, 1103, 1109, 1117, 1123, 1129, 1151, 1153, 1163, 1171, 1181, 1187, 1193, 1201, 1213, 1217, 1223, 1229, 1231, 1237, 1249, 1259, 1277, 1279, 1283, 1289, 1291, 1297, 1301, 1303, 1307, 1319, 1321, 1327, 1361, 1367, 1373, 1381, 1399, 1409, 1423, 1427, 1429, 1433, 1439, 1447, 1451, 1453, 1459, 1471, 1481, 1483, 1487, 1489, 1493, 1499, 1511, 1523, 1531, 1543, 1549, 1553, 1559, 1567, 1571, 1579, 1583, 1597, 1601, 1607, 1609, 1613, 1619, 1621, 1627, 1637, 1657, 1663, 1667, 1669, 1693, 1697, 1699, 1709, 1721, 1723, 1733, 1741, 1747, 1753, 1759, 1777, 1783, 1787, 1789, 1801, 1811, 1823, 1831, 1847, 1861, 1867, 1871, 1873, 1877, 1879, 1889, 1901, 1907, 1913, 1931, 1933, 1949, 1951, 1973, 1979, 1987, 1993, 1997, 1999, 2003, 2011, 2017, 2027, 2029, 2039, 2053, 2063, 2069, 2081, 2083, 2087, 2089, 2099, 2111, 2113, 2129, 2131, 2137, 2141, 2143, 2153, 2161, 2179, 2203, 2207, 2213, 2221, 2237, 2239, 2243, 2251, 2267, 2269, 2273, 2281, 2287, 2293, 2297, 2309, 2311, 2333, 2339, 2341, 2347, 2351, 2357, 2371, 2377, 2381, 2383, 2389, 2393, 2399, 2411, 2417, 2423, 2437, 2441, 2447, 2459, 2467, 2473, 2477, 2503, 2521, 2531, 2539, 2543, 2549, 2551, 2557, 2579, 2591, 2593, 2609, 2617, 2621, 2633, 2647, 2657, 2659, 2663, 2671, 2677, 2683, 2687, 2689, 2693, 2699, 2707, 2711, 2713, 2719, 2729, 2731, 2741, 2749, 2753, 2767, 2777, 2789, 2791, 2797, 2801, 2803, 2819, 2833, 2837, 2843, 2851, 2857, 2861, 2879, 2887, 2897, 2903, 2909, 2917, 2927, 2939, 2953, 2957, 2963, 2969, 2971, 2999, 3001, 3011, 3019, 3023, 3037, 3041, 3049, 3061, 3067, 3079, 3083, 3089, 3109, 3119, 3121, 3137, 3163, 3167, 3169, 3181, 3187, 3191, 3203, 3209, 3217, 3221, 3229, 3251, 3253, 3257, 3259, 3271, 3299, 3301, 3307, 3313, 3319, 3323, 3329, 3331, 3343, 3347, 3359, 3361, 3371, 3373, 3389, 3391, 3407, 3413, 3433, 3449, 3457, 3461, 3463, 3467, 3469, 3491, 3499, 3511, 3517, 3527, 3529, 3533, 3539, 3541, 3547, 3557, 3559, 3571, 3581, 3583, 3593, 3607, 3613, 3617, 3623, 3631, 3637, 3643, 3659, 3671, 3673, 3677, 3691, 3697, 3701, 3709, 3719, 3727, 3733, 3739, 3761, 3767, 3769, 3779, 3793, 3797, 3803, 3821, 3823, 3833, 3847, 3851, 3853, 3863, 3877, 3881, 3889, 3907, 3911, 3917, 3919, 3923, 3929, 3931, 3943, 3947, 3967, 3989, 4001, 4003, 4007, 4013, 4019, 4021, 4027, 4049, 4051, 4057, 4073, 4079, 4091, 4093, 4099, 4111, 4127, 4129, 4133, 4139, 4153, 4157, 4159, 4177, 4201, 4211, 4217, 4219, 4229, 4231, 4241, 4243, 4253, 4259, 4261, 4271, 4273, 4283, 4289, 4297, 4327, 4337, 4339, 4349, 4357, 4363, 4373, 4391, 4397, 4409, 4421, 4423, 4441, 4447, 4451, 4457, 4463, 4481, 4483, 4493, 4507, 4513, 4517, 4519, 4523, 4547, 4549, 4561, 4567, 4583, 4591, 4597, 4603, 4621, 4637, 4639, 4643, 4649, 4651, 4657, 4663, 4673, 4679, 4691, 4703, 4721, 4723, 4729, 4733, 4751, 4759, 4783, 4787, 4789, 4793, 4799, 4801, 4813, 4817, 4831, 4861, 4871, 4877, 4889, 4903, 4909, 4919, 4931, 4933, 4937, 4943, 4951, 4957, 4967, 4969, 4973, 4987, 4993, 4999, 5003, 5009, 5011, 5021, 5023, 5039, 5051, 5059, 5077, 5081, 5087, 5099, 5101, 5107, 5113, 5119, 5147, 5153, 5167, 5171, 5179, 5189, 5197, 5209, 5227, 5231, 5233, 5237, 5261, 5273, 5279, 5281, 5297, 5303, 5309, 5323, 5333, 5347, 5351, 5381, 5387, 5393, 5399, 5407, 5413, 5417, 5419, 5431, 5437, 5441, 5443, 5449, 5471, 5477, 5479, 5483, 5501, 5503, 5507, 5519, 5521, 5527, 5531, 5557, 5563, 5569, 5573, 5581, 5591, 5623, 5639, 5641, 5647, 5651, 5653, 5657, 5659, 5669, 5683, 5689, 5693, 5701, 5711, 5717, 5737, 5741, 5743, 5749, 5779, 5783, 5791, 5801, 5807, 5813, 5821, 5827, 5839, 5843, 5849, 5851, 5857, 5861, 5867, 5869, 5879, 5881, 5897, 5903, 5923, 5927, 5939, 5953, 5981, 5987, 6007, 6011, 6029, 6037, 6043, 6047, 6053, 6067, 6073, 6079, 6089, 6091, 6101, 6113, 6121, 6131, 6133, 6143, 6151, 6163, 6173, 6197, 6199, 6203, 6211, 6217, 6221, 6229, 6247, 6257, 6263, 6269, 6271, 6277, 6287, 6299, 6301, 6311, 6317, 6323, 6329, 6337, 6343, 6353, 6359, 6361, 6367, 6373, 6379, 6389, 6397, 6421, 6427, 6449, 6451, 6469, 6473, 6481, 6491, 6521, 6529, 6547, 6551, 6553, 6563, 6569, 6571, 6577, 6581, 6599, 6607, 6619, 6637, 6653, 6659, 6661, 6673, 6679, 6689, 6691, 6701, 6703, 6709, 6719, 6733, 6737, 6761, 6763, 6779, 6781, 6791, 6793, 6803, 6823, 6827, 6829, 6833, 6841, 6857, 6863, 6869, 6871, 6883, 6899, 6907, 6911, 6917, 6947, 6949, 6959, 6961, 6967, 6971, 6977, 6983, 6991, 6997, 7001, 7013, 7019, 7027, 7039, 7043, 7057, 7069, 7079, 7103, 7109, 7121, 7127, 7129, 7151, 7159, 7177, 7187, 7193, 7207, 7211, 7213, 7219, 7229, 7237, 7243, 7247, 7253, 7283, 7297, 7307, 7309, 7321, 7331, 7333, 7349, 7351, 7369, 7393, 7411, 7417, 7433, 7451, 7457, 7459, 7477, 7481, 7487, 7489, 7499, 7507, 7517, 7523, 7529, 7537, 7541, 7547, 7549, 7559, 7561, 7573, 7577, 7583, 7589, 7591, 7603, 7607, 7621, 7639, 7643, 7649, 7669, 7673, 7681, 7687, 7691, 7699, 7703, 7717, 7723, 7727, 7741, 7753, 7757, 7759, 7789, 7793, 7817, 7823, 7829, 7841, 7853, 7867, 7873, 7877, 7879, 7883, 7901, 7907, 7919, 7927, 7933, 7937, 7949, 7951, 7963, 7993, 8009, 8011, 8017, 8039, 8053, 8059, 8069, 8081, 8087, 8089, 8093, 8101, 8111, 8117, 8123, 8147, 8161, 8167, 8171, 8179, 8191, 8209, 8219, 8221, 8231, 8233, 8237, 8243, 8263, 8269, 8273, 8287, 8291, 8293, 8297, 8311, 8317, 8329, 8353, 8363, 8369, 8377, 8387, 8389, 8419, 8423, 8429, 8431, 8443, 8447, 8461, 8467, 8501, 8513, 8521, 8527, 8537, 8539, 8543, 8563, 8573, 8581, 8597, 8599, 8609, 8623, 8627, 8629, 8641, 8647, 8663, 8669, 8677, 8681, 8689, 8693, 8699, 8707, 8713, 8719, 8731, 8737, 8741, 8747, 8753, 8761, 8779, 8783, 8803, 8807, 8819, 8821, 8831, 8837, 8839, 8849, 8861, 8863, 8867, 8887, 8893, 8923, 8929, 8933, 8941, 8951, 8963, 8969, 8971, 8999, 9001, 9007, 9011, 9013, 9029, 9041, 9043, 9049, 9059, 9067, 9091, 9103, 9109, 9127, 9133, 9137, 9151, 9157, 9161, 9173, 9181, 9187, 9199, 9203, 9209, 9221, 9227, 9239, 9241, 9257, 9277, 9281, 9283, 9293, 9311, 9319, 9323, 9337, 9341, 9343, 9349, 9371, 9377, 9391, 9397, 9403, 9413, 9419, 9421, 9431, 9433, 9437, 9439, 9461, 9463, 9467, 9473, 9479, 9491, 9497, 9511, 9521, 9533, 9539, 9547, 9551, 9587, 9601, 9613, 9619, 9623, 9629, 9631, 9643, 9649, 9661, 9677, 9679, 9689, 9697, 9719, 9721, 9733, 9739, 9743, 9749, 9767, 9769, 9781, 9787, 9791, 9803, 9811, 9817, 9829, 9833, 9839, 9851, 9857, 9859, 9871, 9883, 9887, 9901, 9907, 9923, 9929, 9931, 9941, 9949, 9967, 9973]\n",
      "1229 primes found.\n"
     ]
    }
   ],
   "source": [
    "\"\"\"\n",
    "for number in nums:\n",
    "    if number == 0:\n",
    "        continue\n",
    "\"\"\"\n",
    "# instead\n",
    "for index in range(2, maxprime + 1):\n",
    "    if nums[index] == 0:\n",
    "        continue\n",
    "    # if I'm here, what does it mean?\n",
    "    # nums[index] is != 0, but also prime\n",
    "    # so now we want to remove all multiples of this prime\n",
    "    #print('Removing multiples of', index)\n",
    "    # visit each multiple of the current number (prime) \n",
    "    for multiple in range(index * 2, maxprime + 1, index):\n",
    "        #print('Removing', multiple)\n",
    "        nums[multiple] = 0\n",
    "\n",
    "print([num for num in nums if num])\n",
    "print(len(nums) - nums.count(0), 'primes found.')"
   ]
  },
  {
   "cell_type": "code",
   "execution_count": 192,
   "id": "2981a069-aa19-4e5a-8acd-52c210e21903",
   "metadata": {},
   "outputs": [
    {
     "name": "stdout",
     "output_type": "stream",
     "text": [
      "[0, 0, 2, 3, 0, 5, 0, 7, 0, 0, 0, 11, 0, 13, 0, 0, 0, 17, 0, 19, 0, 0, 0, 23, 0, 0]\n"
     ]
    }
   ],
   "source": [
    "print(nums)"
   ]
  },
  {
   "cell_type": "code",
   "execution_count": 198,
   "id": "3379e3f9-554d-40d8-97f2-d71572e5dfc1",
   "metadata": {},
   "outputs": [
    {
     "data": {
      "text/plain": [
       "9"
      ]
     },
     "execution_count": 198,
     "metadata": {},
     "output_type": "execute_result"
    }
   ],
   "source": [
    "len(nums) - nums.count(0)"
   ]
  },
  {
   "cell_type": "code",
   "execution_count": 3,
   "id": "23545b91-5103-4b51-800f-9cf2a1a7f5ab",
   "metadata": {},
   "outputs": [
    {
     "name": "stdout",
     "output_type": "stream",
     "text": [
      "367 ms ± 16.1 ms per loop (mean ± std. dev. of 7 runs, 1 loop each)\n"
     ]
    }
   ],
   "source": [
    "%%timeit\n",
    "%run primer.py 1000000"
   ]
  },
  {
   "cell_type": "code",
   "execution_count": 6,
   "id": "cd0f3815-8978-48e0-af62-32d6b2b4a5c0",
   "metadata": {},
   "outputs": [
    {
     "name": "stdout",
     "output_type": "stream",
     "text": [
      "650 ms ± 7.48 ms per loop (mean ± std. dev. of 7 runs, 1 loop each)\n"
     ]
    }
   ],
   "source": [
    "%%timeit\n",
    "%run primer-set.py 1000000"
   ]
  },
  {
   "cell_type": "code",
   "execution_count": 1,
   "id": "ad061ad9-3c59-4b68-a9dd-459d02295ee7",
   "metadata": {},
   "outputs": [
    {
     "name": "stdin",
     "output_type": "stream",
     "text": [
      "Enter some text:  Don't try this at \"home\"\n"
     ]
    }
   ],
   "source": [
    "response = input('Enter some text: ')"
   ]
  },
  {
   "cell_type": "code",
   "execution_count": 2,
   "id": "d03d22fe-a80c-47bf-b7a9-cda56166fcaf",
   "metadata": {},
   "outputs": [
    {
     "data": {
      "text/plain": [
       "'Don\\'t try this at \"home\"'"
      ]
     },
     "execution_count": 2,
     "metadata": {},
     "output_type": "execute_result"
    }
   ],
   "source": [
    "response"
   ]
  },
  {
   "cell_type": "code",
   "execution_count": 3,
   "id": "3235586e-2738-4e83-a9e3-e23bc4a8c922",
   "metadata": {},
   "outputs": [
    {
     "name": "stdout",
     "output_type": "stream",
     "text": [
      "Don't try this at \"home\"\n"
     ]
    }
   ],
   "source": [
    "print(response)"
   ]
  },
  {
   "cell_type": "code",
   "execution_count": 4,
   "id": "2d23fa21-3a2e-4fdf-82de-f013950e8787",
   "metadata": {},
   "outputs": [],
   "source": [
    "response = \"Don't try this at \\\"home\\\"\""
   ]
  },
  {
   "cell_type": "code",
   "execution_count": 6,
   "id": "1d0ee201-157b-4b8f-a5fd-af6a7f51bb04",
   "metadata": {},
   "outputs": [
    {
     "data": {
      "text/plain": [
       "'Don\\'t try this at \"home\"'"
      ]
     },
     "execution_count": 6,
     "metadata": {},
     "output_type": "execute_result"
    }
   ],
   "source": [
    "response"
   ]
  },
  {
   "cell_type": "code",
   "execution_count": 7,
   "id": "834a8bc2-28c5-4889-9770-9519deb85c34",
   "metadata": {},
   "outputs": [],
   "source": [
    "def add(x, y):\n",
    "    \"\"\"add some code here\"\"\"\n",
    "    return x + y"
   ]
  },
  {
   "cell_type": "code",
   "execution_count": 8,
   "id": "ab4b6dcf-c142-440c-a014-ce5150fa694b",
   "metadata": {},
   "outputs": [
    {
     "data": {
      "text/plain": [
       "5"
      ]
     },
     "execution_count": 8,
     "metadata": {},
     "output_type": "execute_result"
    }
   ],
   "source": [
    "add(2, 3)"
   ]
  },
  {
   "cell_type": "code",
   "execution_count": 9,
   "id": "af64adf7-7fd7-4388-8c16-4ceb822b4712",
   "metadata": {},
   "outputs": [
    {
     "data": {
      "text/plain": [
       "0"
      ]
     },
     "execution_count": 9,
     "metadata": {},
     "output_type": "execute_result"
    }
   ],
   "source": [
    "add(2, -2)"
   ]
  },
  {
   "cell_type": "code",
   "execution_count": 10,
   "id": "0f49b20b-7adb-496b-ba52-cd82a5ada308",
   "metadata": {},
   "outputs": [
    {
     "name": "stdout",
     "output_type": "stream",
     "text": [
      "The Zen of Python, by Tim Peters\n",
      "\n",
      "Beautiful is better than ugly.\n",
      "Explicit is better than implicit.\n",
      "Simple is better than complex.\n",
      "Complex is better than complicated.\n",
      "Flat is better than nested.\n",
      "Sparse is better than dense.\n",
      "Readability counts.\n",
      "Special cases aren't special enough to break the rules.\n",
      "Although practicality beats purity.\n",
      "Errors should never pass silently.\n",
      "Unless explicitly silenced.\n",
      "In the face of ambiguity, refuse the temptation to guess.\n",
      "There should be one-- and preferably only one --obvious way to do it.\n",
      "Although that way may not be obvious at first unless you're Dutch.\n",
      "Now is better than never.\n",
      "Although never is often better than *right* now.\n",
      "If the implementation is hard to explain, it's a bad idea.\n",
      "If the implementation is easy to explain, it may be a good idea.\n",
      "Namespaces are one honking great idea -- let's do more of those!\n"
     ]
    }
   ],
   "source": [
    "import this"
   ]
  },
  {
   "cell_type": "code",
   "execution_count": 11,
   "id": "59fae2d3-42ad-461b-b741-f103b7ef2d99",
   "metadata": {},
   "outputs": [],
   "source": [
    "def add(x, y):\n",
    "    pass"
   ]
  },
  {
   "cell_type": "code",
   "execution_count": 12,
   "id": "42c5dde3-29ac-481e-b815-ebf761fb15a2",
   "metadata": {},
   "outputs": [],
   "source": [
    "add(1, 2)"
   ]
  },
  {
   "cell_type": "code",
   "execution_count": 13,
   "id": "ecb4f44d-ad40-4ac4-859a-676068440510",
   "metadata": {},
   "outputs": [],
   "source": [
    "s = ''"
   ]
  },
  {
   "cell_type": "code",
   "execution_count": 14,
   "id": "9d64ea23-3027-4fa1-8d2e-7bf0add6ec7b",
   "metadata": {},
   "outputs": [],
   "source": [
    "if s:\n",
    "    print('yep')"
   ]
  },
  {
   "cell_type": "code",
   "execution_count": 15,
   "id": "5a9ba0fd-184e-4460-bd9d-f0b81bea1f3a",
   "metadata": {},
   "outputs": [
    {
     "name": "stdout",
     "output_type": "stream",
     "text": [
      "nope\n"
     ]
    }
   ],
   "source": [
    "if not s:\n",
    "    print('nope')"
   ]
  },
  {
   "cell_type": "markdown",
   "id": "41157058-35b4-4d55-8e63-f007b4cdddc3",
   "metadata": {},
   "source": [
    "# Process for writing code\n",
    "* readability\n",
    "  * write readable code!\n",
    "  * readability trumps correctness\n",
    "  * understandable code more important than comments\n",
    "* functions\n",
    "   * use functions as much as possible\n",
    "   * all functions should have DOCSTRINGS!\n",
    "   * no implmenetation should be written before tests\n",
    "* testing\n",
    "  * write tests before you implement the function\n",
    "  * use PyTest\n",
    "  * don't over-test (no need to test e.g., .append(), sorted(), SCPI, etc.)\n",
    "  * don't under-test (try to ensure every function is well tested)\n",
    "  * use coverage tool to ensure 100% coverage\n",
    "    * untested code is BROKEN CODE \n",
    "    * 100% coverage does not mean 100% good tests\n",
    "   \n",
    "* create modules when needed (offload your related functions into a module)\n",
    "* maybe use Jenkins to ensure tests are run after each commit\n",
    "  * if you have a Jenkins server internally\n",
    "  * also check out pre- and post-commit hooks"
   ]
  },
  {
   "cell_type": "markdown",
   "id": "8edf1c83-319b-4c67-869e-3d55b6e007bb",
   "metadata": {},
   "source": [
    "# More TDD Practice\n",
    "* let's write a function __`find3()`__ which identifies all \"runs\" of 3 of the same object in a container and returns a list of their initial index\n",
    "* e.g., __`find3(['one', 'two', 'three', 'four', 'four', 'four', 'five', 'six'])`__ would return [3]\n",
    "* e.g., __`find3([1, 2, 2, 2, 2, 3])`__ would return [1, 2]\n",
    "* e.g., __`find3([48, 47, 47, 47, 19, 23, 14, 14, 14, 18, 48])`__ would return [1, 6]\n",
    "* e.g., __`find3([48, 48, 'forty eight', 'forty eight', 'forty eight', 38, 39, -1, 2])`__ would return [2]\n",
    "* e.g., __`find3([1, 2, 3, 2, 2])`__ would return []\n",
    "* if you wish (not required), add the posibility of a run wrapping around from end to the beginning\n",
    "  * e.g., __`find3([1, 2, 5, -4, 3, 1, 1])`__ would return 5 because a run exists at [5], [6], [0]\n",
    "* write tests first\n",
    "* then (or during the above), write pseudocode\n",
    "* additional functions that can be TDD-ed\n",
    "  * how about summer(), a function that finds consecutive runs in a list of numbers that total a certain, so summer([1, 2, 3, 4, 5, 6, 7], 12) would return the slice of the list that totals 12 (in this case it would be [3, 4, 5]), maybe it returns None if no run totals 12\n",
    "  * pangram function \n",
    "  * function that sums digits of a number and continues to sum digits until the result is < 10, so sum_digits(1235), would sum 1 + 2 + 3 + 5 = 11, then sum 1 + 1 = 2 and that would be return\n",
    "  * any function we wrote, re-approach from a TDD angle, and re-implement, so don't use your old code, write tests + the algorith, and then write the code (and it might be interesting to compare your new implementation)"
   ]
  },
  {
   "cell_type": "code",
   "execution_count": 17,
   "id": "93977a9c-95b9-4925-b389-5c741f11fc05",
   "metadata": {},
   "outputs": [],
   "source": [
    "# let's write some tests\n",
    "\n",
    "def test_strings():\n",
    "    assert find3(['one', 'two', 'three', 'four', 'four', 'four', 'five', 'six']) == [3]\n",
    "\n",
    "\n",
    "def test_overlap():\n",
    "    assert find3([1, 2, 2, 2, 2, 3]) == [1, 2]\n",
    "    \n",
    "\n",
    "def test_no_overlap():\n",
    "    assert find3([48, 47, 47, 47, 19, 23, 14, 14, 14, 18, 48]) == [1, 6]\n",
    "    \n",
    "\n",
    "def test_mixed():\n",
    "    assert find3([48, 48, 'forty eight', 'forty eight', 'forty eight', 38, 39, -1, 2]) == [2]\n",
    "    \n",
    "    \n",
    "def test_no_runs():\n",
    "    assert find3([1, 2, 3, 2, 2]) == []\n",
    "    \n",
    "    \n",
    "def test_wrap():\n",
    "    assert find3([1, 2, 5, -4, 3, 1, 1]) == [5]"
   ]
  },
  {
   "cell_type": "code",
   "execution_count": 19,
   "id": "a82f7350-936d-4479-9459-139b51ee3db2",
   "metadata": {},
   "outputs": [],
   "source": [
    "def find3(iterable):\n",
    "    \"\"\"Identify all \"runs\" of 3 of the same object in a container and\n",
    "    return a list of their initial index. Here are some examples:\n",
    "    \n",
    "        find3(['one', 'two', 'three', 'four', 'four', 'four', 'five', 'six']) == [3]\n",
    "        find3([1, 2, 2, 2, 2, 3]) == [1, 2]\n",
    "        find3([48, 47, 47, 47, 19, 23, 14, 14, 14, 18, 48]) == [1, 6]\n",
    "        find3([48, 48, 'forty eight', 'forty eight', 'forty eight', 38, 39, -1, 2]) == [2]\n",
    "        find3([1, 2, 3, 2, 2]) == []\n",
    "        \n",
    "    Runs can \"wrap around\" the end of the container, so, for e.g.,\n",
    "    \n",
    "        find3([1, 2, 5, -4, 3, 1, 1]) == [5]\n",
    "    \"\"\"\n",
    "    pass"
   ]
  },
  {
   "cell_type": "code",
   "execution_count": null,
   "id": "b1286304-99ad-43fc-829d-649a5c4b765e",
   "metadata": {},
   "outputs": [],
   "source": [
    "# now let's ensure all tests fail..."
   ]
  },
  {
   "cell_type": "code",
   "execution_count": 20,
   "id": "656d242d-79ef-4cfa-9de8-92fe80c98ade",
   "metadata": {},
   "outputs": [],
   "source": [
    "# next, let's implement a solution for a container which has no runs\n",
    "# that is, we should return an empty list\n",
    "# if we do that EVERY time, we'll have one test that will pass"
   ]
  },
  {
   "cell_type": "code",
   "execution_count": null,
   "id": "2d1086b8-f9fd-46e7-aa16-0d637bfdef2e",
   "metadata": {},
   "outputs": [],
   "source": [
    "# next, let's implement a solution w/o considering \"wraparound\"..."
   ]
  },
  {
   "cell_type": "code",
   "execution_count": 25,
   "id": "bb545295-a773-47e5-be3c-c144cfa3c700",
   "metadata": {},
   "outputs": [],
   "source": [
    "def find3(iterable):\n",
    "    \"\"\"Identify all \"runs\" of 3 of the same object in a container and\n",
    "    return a list of their initial index. Here are some examples:\n",
    "    \n",
    "        find3(['one', 'two', 'three', 'four', 'four', 'four', 'five', 'six']) == [3]\n",
    "        find3([1, 2, 2, 2, 2, 3]) == [1, 2]\n",
    "        find3([48, 47, 47, 47, 19, 23, 14, 14, 14, 18, 48]) == [1, 6]\n",
    "        find3([48, 48, 'forty eight', 'forty eight', 'forty eight', 38, 39, -1, 2]) == [2]\n",
    "        find3([1, 2, 3, 2, 2]) == []\n",
    "        \n",
    "    Runs can \"wrap around\" the end of the container, so, for e.g.,\n",
    "    \n",
    "        find3([1, 2, 5, -4, 3, 1, 1]) == [5]\n",
    "    \"\"\"\n",
    "    # Compare each consecutive group of 3 items for equality and note any that are found\n",
    "    # NOTE: since our goal is to find identical items, we could set-ify each group of 3,\n",
    "    # looking for a resulting set size of 1.\n",
    "    # Or, we could compare [i] to [i + 1] and to [i + 2]\n",
    "    \n",
    "    # We're going to return a list of runs, which should start out empty.\n",
    "    runs = []\n",
    "    for index in range(len(iterable) - 2):\n",
    "        #print('examining', iterable[index:index + 3])\n",
    "        if len(set(iterable[index:index + 3])) == 1: \n",
    "            runs.append(index)\n",
    "    return runs"
   ]
  },
  {
   "cell_type": "code",
   "execution_count": 27,
   "id": "14a53be2-85b3-4e84-a2c3-6ac55e73f30c",
   "metadata": {},
   "outputs": [
    {
     "name": "stdout",
     "output_type": "stream",
     "text": [
      "examining [1, 2, 2]\n",
      "examining [2, 2, 3]\n",
      "examining [2, 3, 2]\n",
      "examining [3, 2, 2]\n",
      "examining [2, 2, 2]\n"
     ]
    },
    {
     "data": {
      "text/plain": [
       "[4]"
      ]
     },
     "execution_count": 27,
     "metadata": {},
     "output_type": "execute_result"
    }
   ],
   "source": [
    "find3([1, 2, 2, 3, 2, 2, 2])"
   ]
  },
  {
   "cell_type": "code",
   "execution_count": 72,
   "id": "4b40402e-8c60-4f77-9f06-9133bfb3d141",
   "metadata": {},
   "outputs": [],
   "source": [
    "def slicer(iterable, pos1, length):\n",
    "    \"\"\"Return a slice from pos1 to pos1 + length, but also handle wraparound, so \n",
    "    if pos1 + length goes past the end of the iterable, start back at the beginning\n",
    "    \"\"\"\n",
    "    if pos1 + length <= len(iterable):\n",
    "        return iterable[pos1:pos1 + length]\n",
    "    else:\n",
    "        part1 = iterable[pos1:]\n",
    "        return part1 + iterable[:length - len(part1)]"
   ]
  },
  {
   "cell_type": "code",
   "execution_count": 49,
   "id": "ea6e9837-c5f6-433d-ac7c-ac2cfc1c5039",
   "metadata": {},
   "outputs": [
    {
     "data": {
      "text/plain": [
       "[5, 6, 7]"
      ]
     },
     "execution_count": 49,
     "metadata": {},
     "output_type": "execute_result"
    }
   ],
   "source": [
    "slicer([1, 2, 3, 4, 5, 6, 7, 8], 4, 3)"
   ]
  },
  {
   "cell_type": "code",
   "execution_count": 73,
   "id": "0ac26ce3-9640-43e9-b669-15d0e1e9b88e",
   "metadata": {},
   "outputs": [
    {
     "data": {
      "text/plain": [
       "[]"
      ]
     },
     "execution_count": 73,
     "metadata": {},
     "output_type": "execute_result"
    }
   ],
   "source": [
    "slicer([], 4, 3)"
   ]
  },
  {
   "cell_type": "markdown",
   "id": "74d620bb-9eb6-4f60-833e-62f22246f314",
   "metadata": {},
   "source": [
    "# More TDD Practice\n",
    "* let's write a function __`find3()`__ which identifies all \"runs\" of 3 of the same object in a container and returns a list of their initial index\n",
    "* e.g., __`find3(['one', 'two', 'three', 'four', 'four', 'four', 'five', 'six'])`__ would return [3]\n",
    "* e.g., __`find3([1, 2, 2, 2, 2, 3])`__ would return [1, 2]\n",
    "* e.g., __`find3([48, 47, 47, 47, 19, 23, 14, 14, 14, 18, 48])`__ would return [1, 6]\n",
    "* e.g., __`find3([48, 48, 'forty eight', 'forty eight', 'forty eight', 38, 39, -1, 2])`__ would return [2]\n",
    "* e.g., __`find3([1, 2, 3, 2, 2])`__ would return []\n",
    "* if you wish (not required), add the posibility of a run wrapping around from end to the beginning\n",
    "  * e.g., __`find3([1, 2, 5, -4, 3, 1, 1])`__ would return 5 because a run exists at [5], [6], [0]\n",
    "* write tests first\n",
    "* then (or during the above), write pseudocode\n",
    "* additional functions that can be TDD-ed\n",
    "  * how about summer(), a function that finds consecutive runs in a list of numbers that total a certain, so summer([1, 2, 3, 4, 5, 6, 7], 12) would return the slice of the list that totals 12 (in this case it would be [3, 4, 5]), maybe it returns None if no run totals 12\n",
    "  * pangram function \n",
    "  * function that sums digits of a number and continues to sum digits until the result is < 10, so sum_digits(1235), would sum 1 + 2 + 3 + 5 = 11, then sum 1 + 1 = 2 and that would be return\n",
    "  * any function we wrote, re-approach from a TDD angle, and re-implement, so don't use your old code, write tests + the algorith, and then write the code (and it might be interesting to compare your new implementation)"
   ]
  },
  {
   "cell_type": "code",
   "execution_count": 54,
   "id": "097f1574-dad1-4e03-b756-55d0859669c8",
   "metadata": {},
   "outputs": [],
   "source": [
    "stuff = [1, 2, 3, 7, -3, 5, 2, 2, 2, 9, 18, 'hi', 'hi', 'hi', 'ok']"
   ]
  },
  {
   "cell_type": "code",
   "execution_count": null,
   "id": "66f44a6b-ed38-49e0-ab92-c25c8f6c960c",
   "metadata": {},
   "outputs": [],
   "source": [
    "# if we call find3(stuff), we expect the response to be [6, 11] (a list of any indices\n",
    "# which are the start of a 3-element \"run\")"
   ]
  },
  {
   "cell_type": "code",
   "execution_count": 57,
   "id": "cc3fd1f2-9238-4917-ab7b-9475bc4786ec",
   "metadata": {},
   "outputs": [],
   "source": [
    "# this would be called a \"stub\" because we have the function name but no code\n",
    "def find3(container):\n",
    "    pass # pass means do nothing"
   ]
  },
  {
   "cell_type": "code",
   "execution_count": 58,
   "id": "d5f9628a-7c4c-4c69-bca6-0d254e1fda11",
   "metadata": {},
   "outputs": [],
   "source": [
    "find3(stuff)"
   ]
  },
  {
   "cell_type": "code",
   "execution_count": 59,
   "id": "42486752-4993-465f-ab9a-5cafb7e0a8e0",
   "metadata": {},
   "outputs": [
    {
     "data": {
      "text/plain": [
       "False"
      ]
     },
     "execution_count": 59,
     "metadata": {},
     "output_type": "execute_result"
    }
   ],
   "source": [
    "18 == 'hi'"
   ]
  },
  {
   "cell_type": "code",
   "execution_count": 60,
   "id": "9ef1b865-b9cc-4e31-b6d2-6da1a7757a7e",
   "metadata": {},
   "outputs": [],
   "source": [
    "# find3([1, 2, 3, 4]) should return []"
   ]
  },
  {
   "cell_type": "code",
   "execution_count": 61,
   "id": "496e47fc-2d3d-4424-96ef-e6a8c8757ca8",
   "metadata": {},
   "outputs": [],
   "source": [
    "# find3([5, 5, 5]) should return [0]"
   ]
  },
  {
   "cell_type": "code",
   "execution_count": 62,
   "id": "774f4267-52d0-4449-a832-b641782f2407",
   "metadata": {},
   "outputs": [],
   "source": [
    "# find3([1, 2, 3, 9, 9, 9, 9, 3, 2, 1] should return [3, 4]"
   ]
  },
  {
   "cell_type": "code",
   "execution_count": null,
   "id": "5940f69d-5c8a-4331-b1e5-d9983e536167",
   "metadata": {},
   "outputs": [],
   "source": [
    "# find3([]) should return []"
   ]
  },
  {
   "cell_type": "code",
   "execution_count": null,
   "id": "034dc1ce-bae5-43e1-8f0f-c2b7dcf0b94d",
   "metadata": {},
   "outputs": [],
   "source": [
    "# test_find3.py (pytest file)"
   ]
  },
  {
   "cell_type": "code",
   "execution_count": 69,
   "id": "3d428281-a1b1-4e55-b35e-0b18e8920a50",
   "metadata": {},
   "outputs": [],
   "source": [
    "# this would be called a \"stub\" because we have the function name but no code\n",
    "def find3(container):\n",
    "    found = [] # this will contain the indices of the \"runs\" we found\n",
    "    \n",
    "    return found"
   ]
  },
  {
   "cell_type": "code",
   "execution_count": 70,
   "id": "73253f1d-79e8-45bb-8b28-f84c8f5787c1",
   "metadata": {},
   "outputs": [
    {
     "data": {
      "text/plain": [
       "[]"
      ]
     },
     "execution_count": 70,
     "metadata": {},
     "output_type": "execute_result"
    }
   ],
   "source": [
    "find3([5, 5, 5])"
   ]
  },
  {
   "cell_type": "code",
   "execution_count": 65,
   "id": "5fa44fb1-5b83-49a4-a3a8-bbeaa76f5ce1",
   "metadata": {},
   "outputs": [
    {
     "data": {
      "text/plain": [
       "[]"
      ]
     },
     "execution_count": 65,
     "metadata": {},
     "output_type": "execute_result"
    }
   ],
   "source": [
    "find3([1, 2, 3, 9, 9, 9, 9, 3, 2, 1])"
   ]
  },
  {
   "cell_type": "code",
   "execution_count": 71,
   "id": "018b0a3b-070e-4ddf-8750-ae69c302b600",
   "metadata": {},
   "outputs": [
    {
     "data": {
      "text/plain": [
       "[]"
      ]
     },
     "execution_count": 71,
     "metadata": {},
     "output_type": "execute_result"
    }
   ],
   "source": [
    "find3([])"
   ]
  },
  {
   "cell_type": "code",
   "execution_count": null,
   "id": "d71e912a-a63e-474c-844a-5883a84bcfd2",
   "metadata": {},
   "outputs": [],
   "source": []
  }
 ],
 "metadata": {
  "kernelspec": {
   "display_name": "Python 3 (ipykernel)",
   "language": "python",
   "name": "python3"
  },
  "language_info": {
   "codemirror_mode": {
    "name": "ipython",
    "version": 3
   },
   "file_extension": ".py",
   "mimetype": "text/x-python",
   "name": "python",
   "nbconvert_exporter": "python",
   "pygments_lexer": "ipython3",
   "version": "3.9.12"
  }
 },
 "nbformat": 4,
 "nbformat_minor": 5
}
