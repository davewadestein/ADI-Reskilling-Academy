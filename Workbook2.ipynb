{
 "cells": [
  {
   "cell_type": "markdown",
   "id": "22511b99-fa89-4c63-94ca-5de4670be70b",
   "metadata": {},
   "source": [
    "# Workbook Part 2"
   ]
  },
  {
   "cell_type": "code",
   "execution_count": 172,
   "id": "39a4adc0-f340-4972-a869-276cdea3fcb1",
   "metadata": {},
   "outputs": [
    {
     "name": "stdout",
     "output_type": "stream",
     "text": [
      "[2, 3, 4, 5, 6, 7, 8, 9, 10, 11, 12, 13, 14, 15, 16, 17, 18, 19, 20, 21, 22, 23, 24, 25, 26, 27, 28, 29, 30, 31, 32, 33, 34, 35, 36, 37, 38, 39, 40, 41, 42, 43, 44, 45, 46, 47, 48, 49, 50, 51, 52, 53, 54, 55, 56, 57, 58, 59, 60, 61, 62, 63, 64, 65, 66, 67, 68, 69, 70, 71, 72, 73, 74, 75, 76, 77, 78, 79, 80, 81, 82, 83, 84, 85, 86, 87, 88, 89, 90, 91, 92, 93, 94, 95, 96, 97, 98, 99, 100, 101, 102, 103, 104, 105, 106, 107, 108, 109, 110, 111, 112, 113, 114, 115, 116, 117, 118, 119, 120, 121, 122, 123, 124, 125, 126, 127, 128, 129, 130, 131, 132, 133, 134, 135, 136, 137, 138, 139, 140, 141, 142, 143, 144, 145, 146, 147, 148, 149, 150, 151, 152, 153, 154, 155, 156, 157, 158, 159, 160, 161, 162, 163, 164, 165, 166, 167, 168, 169, 170, 171, 172, 173, 174, 175, 176, 177, 178, 179, 180, 181, 182, 183, 184, 185, 186, 187, 188, 189, 190, 191, 192, 193, 194, 195, 196, 197, 198, 199, 200, 201, 202, 203, 204, 205, 206, 207, 208, 209, 210, 211, 212, 213, 214, 215, 216, 217, 218, 219, 220, 221, 222, 223, 224, 225, 226, 227, 228, 229, 230, 231, 232, 233, 234, 235, 236, 237, 238, 239, 240, 241, 242, 243, 244, 245, 246, 247, 248, 249, 250, 251, 252, 253, 254, 255, 256, 257, 258, 259, 260, 261, 262, 263, 264, 265, 266, 267, 268, 269, 270, 271, 272, 273, 274, 275, 276, 277, 278, 279, 280, 281, 282, 283, 284, 285, 286, 287, 288, 289, 290, 291, 292, 293, 294, 295, 296, 297, 298, 299, 300, 301, 302, 303, 304, 305, 306, 307, 308, 309, 310, 311, 312, 313, 314, 315, 316, 317, 318, 319, 320, 321, 322, 323, 324, 325, 326, 327, 328, 329, 330, 331, 332, 333, 334, 335, 336, 337, 338, 339, 340, 341, 342, 343, 344, 345, 346, 347, 348, 349, 350, 351, 352, 353, 354, 355, 356, 357, 358, 359, 360, 361, 362, 363, 364, 365, 366, 367, 368, 369, 370, 371, 372, 373, 374, 375, 376, 377, 378, 379, 380, 381, 382, 383, 384, 385, 386, 387, 388, 389, 390, 391, 392, 393, 394, 395, 396, 397, 398, 399, 400, 401, 402, 403, 404, 405, 406, 407, 408, 409, 410, 411, 412, 413, 414, 415, 416, 417, 418, 419, 420, 421, 422, 423, 424, 425, 426, 427, 428, 429, 430, 431, 432, 433, 434, 435, 436, 437, 438, 439, 440, 441, 442, 443, 444, 445, 446, 447, 448, 449, 450, 451, 452, 453, 454, 455, 456, 457, 458, 459, 460, 461, 462, 463, 464, 465, 466, 467, 468, 469, 470, 471, 472, 473, 474, 475, 476, 477, 478, 479, 480, 481, 482, 483, 484, 485, 486, 487, 488, 489, 490, 491, 492, 493, 494, 495, 496, 497, 498, 499, 500, 501, 502, 503, 504, 505, 506, 507, 508, 509, 510, 511, 512, 513, 514, 515, 516, 517, 518, 519, 520, 521, 522, 523, 524, 525, 526, 527, 528, 529, 530, 531, 532, 533, 534, 535, 536, 537, 538, 539, 540, 541, 542, 543, 544, 545, 546, 547, 548, 549, 550, 551, 552, 553, 554, 555, 556, 557, 558, 559, 560, 561, 562, 563, 564, 565, 566, 567, 568, 569, 570, 571, 572, 573, 574, 575, 576, 577, 578, 579, 580, 581, 582, 583, 584, 585, 586, 587, 588, 589, 590, 591, 592, 593, 594, 595, 596, 597, 598, 599, 600, 601, 602, 603, 604, 605, 606, 607, 608, 609, 610, 611, 612, 613, 614, 615, 616, 617, 618, 619, 620, 621, 622, 623, 624, 625, 626, 627, 628, 629, 630, 631, 632, 633, 634, 635, 636, 637, 638, 639, 640, 641, 642, 643, 644, 645, 646, 647, 648, 649, 650, 651, 652, 653, 654, 655, 656, 657, 658, 659, 660, 661, 662, 663, 664, 665, 666, 667, 668, 669, 670, 671, 672, 673, 674, 675, 676, 677, 678, 679, 680, 681, 682, 683, 684, 685, 686, 687, 688, 689, 690, 691, 692, 693, 694, 695, 696, 697, 698, 699, 700, 701, 702, 703, 704, 705, 706, 707, 708, 709, 710, 711, 712, 713, 714, 715, 716, 717, 718, 719, 720, 721, 722, 723, 724, 725, 726, 727, 728, 729, 730, 731, 732, 733, 734, 735, 736, 737, 738, 739, 740, 741, 742, 743, 744, 745, 746, 747, 748, 749, 750, 751, 752, 753, 754, 755, 756, 757, 758, 759, 760, 761, 762, 763, 764, 765, 766, 767, 768, 769, 770, 771, 772, 773, 774, 775, 776, 777, 778, 779, 780, 781, 782, 783, 784, 785, 786, 787, 788, 789, 790, 791, 792, 793, 794, 795, 796, 797, 798, 799, 800, 801, 802, 803, 804, 805, 806, 807, 808, 809, 810, 811, 812, 813, 814, 815, 816, 817, 818, 819, 820, 821, 822, 823, 824, 825, 826, 827, 828, 829, 830, 831, 832, 833, 834, 835, 836, 837, 838, 839, 840, 841, 842, 843, 844, 845, 846, 847, 848, 849, 850, 851, 852, 853, 854, 855, 856, 857, 858, 859, 860, 861, 862, 863, 864, 865, 866, 867, 868, 869, 870, 871, 872, 873, 874, 875, 876, 877, 878, 879, 880, 881, 882, 883, 884, 885, 886, 887, 888, 889, 890, 891, 892, 893, 894, 895, 896, 897, 898, 899, 900, 901, 902, 903, 904, 905, 906, 907, 908, 909, 910, 911, 912, 913, 914, 915, 916, 917, 918, 919, 920, 921, 922, 923, 924, 925, 926, 927, 928, 929, 930, 931, 932, 933, 934, 935, 936, 937, 938, 939, 940, 941, 942, 943, 944, 945, 946, 947, 948, 949, 950, 951, 952, 953, 954, 955, 956, 957, 958, 959, 960, 961, 962, 963, 964, 965, 966, 967, 968, 969, 970, 971, 972, 973, 974, 975, 976, 977, 978, 979, 980, 981, 982, 983, 984, 985, 986, 987, 988, 989, 990, 991, 992, 993, 994, 995, 996, 997, 998, 999, 1000]\n"
     ]
    }
   ],
   "source": [
    "print(list(range(2, 1001)))"
   ]
  },
  {
   "cell_type": "markdown",
   "id": "285fcb0a-1795-4a81-b05c-97b05a3f5889",
   "metadata": {},
   "source": [
    "## The Sieve of Eratosthenes\n",
    "* write a program to find prime numbers (numbers which are divisible only by themselves and 1, e.g., __`2, 3, 29, 31, 101, 419, 997`__) up to a given number using Eratosthene's Sieve:\n",
    "  * start with a list of all of the numbers from 2 up to the given number, e.g., if the given number if 25, you'd start with __`[2, 3, 4, 5, 6, 7, 8, 9, 10, 11, 12, 13, 14, 15, 16, 17, 18, 19, 20, 21, 22, 23, 24, 25]`__\n",
    "  * remove all of the multiples of the first number (2), so you now have __`[2, 3, 5, 7, 9, 11, 13, 15, 17, 19, 21, 23, 25]`__\n",
    "  * now remove all of the multiples of the next number (3), so you now have __`[2, 3, 5, 7, 11, 13, 17, 19, 23, 25]`__\n",
    "  * keep doing this, removing multiples of the next number (5), (i.e., 10, 15, 20, and 25–they're already all removed except for 25)\n",
    "  * stop when 2 times the next number you land on is larger than the given number–in this case you'd stop at 13, since 13 * 2  > 25\n",
    "  * at this point every number in the list is prime\n",
    "  * try your solution with large numbers and compare against list of primes (e.g., https://miniwebtool.com/list-of-prime-numbers/)\n",
    "  * removing the multiples from the list is fairly inefficient, and you should notice your program slowing down considerably with large numbers, so now try setting the multiples to 0, rather than removing them, e.g.,\n",
    "    * __`[2, 3, 0, 5, 0, 7, 0, 9, 0, 11, 0, 13, 0, 15, 0, 17, 0, 19, 0, 21, 0, 23, 0, 25]`__\n",
    "    * __`[2, 3, 0, 5, 0, 7, 0, 0, 0, 11, 0, 13, 0, 0, 0, 17, 0, 19, 0, 0, 0, 23, 0, 25]`__\n",
    "    * __`[2, 3, 0, 5, 0, 7, 0, 0, 0, 11, 0, 13, 0, 0, 0, 17, 0, 19, 0, 0, 0, 23, 0, 0]`__"
   ]
  },
  {
   "cell_type": "code",
   "execution_count": null,
   "id": "3a835e55-95df-4181-b478-7afb0a13b589",
   "metadata": {},
   "outputs": [],
   "source": [
    "# create a list of numbers from 2..max\n",
    "# (let's add two 0s at the beginning, the nth index in the list will be n)\n",
    "# for each number (that isn't 0...it must be prime):\n",
    "#    loop: from 2*number up to stop at end of list, increment by the number\n",
    "#.      make the number at that point in the list be 0 (\"crossing it out\")\n",
    "# print primes\n",
    "# print number of primes (size of list - number of 0s - 2)"
   ]
  },
  {
   "cell_type": "code",
   "execution_count": 205,
   "id": "fb6f095b-c3a3-4b7d-99c2-ee8ffcf96a6b",
   "metadata": {},
   "outputs": [
    {
     "name": "stdin",
     "output_type": "stream",
     "text": [
      "Compute primes up to what number?  10_000\n"
     ]
    }
   ],
   "source": [
    "while True:\n",
    "    maxprime = input('Compute primes up to what number? ')\n",
    "    try:\n",
    "        maxprime = int(maxprime)\n",
    "        break\n",
    "    except ValueError:\n",
    "        print('You did not enter a number!')"
   ]
  },
  {
   "cell_type": "code",
   "execution_count": 206,
   "id": "f85fa399-e58f-43a5-8d9c-0b854182f750",
   "metadata": {},
   "outputs": [
    {
     "data": {
      "text/plain": [
       "10000"
      ]
     },
     "execution_count": 206,
     "metadata": {},
     "output_type": "execute_result"
    }
   ],
   "source": [
    "maxprime"
   ]
  },
  {
   "cell_type": "code",
   "execution_count": 207,
   "id": "7d1a95b2-028b-441d-a610-674ab2cb4cff",
   "metadata": {},
   "outputs": [],
   "source": [
    "nums = [0, 0] + list(range(2, maxprime + 1))"
   ]
  },
  {
   "cell_type": "code",
   "execution_count": 208,
   "id": "1418d9dc-82b3-43b1-b96f-b29bfa897acb",
   "metadata": {},
   "outputs": [
    {
     "name": "stdout",
     "output_type": "stream",
     "text": [
      "[2, 3, 5, 7, 11, 13, 17, 19, 23, 29, 31, 37, 41, 43, 47, 53, 59, 61, 67, 71, 73, 79, 83, 89, 97, 101, 103, 107, 109, 113, 127, 131, 137, 139, 149, 151, 157, 163, 167, 173, 179, 181, 191, 193, 197, 199, 211, 223, 227, 229, 233, 239, 241, 251, 257, 263, 269, 271, 277, 281, 283, 293, 307, 311, 313, 317, 331, 337, 347, 349, 353, 359, 367, 373, 379, 383, 389, 397, 401, 409, 419, 421, 431, 433, 439, 443, 449, 457, 461, 463, 467, 479, 487, 491, 499, 503, 509, 521, 523, 541, 547, 557, 563, 569, 571, 577, 587, 593, 599, 601, 607, 613, 617, 619, 631, 641, 643, 647, 653, 659, 661, 673, 677, 683, 691, 701, 709, 719, 727, 733, 739, 743, 751, 757, 761, 769, 773, 787, 797, 809, 811, 821, 823, 827, 829, 839, 853, 857, 859, 863, 877, 881, 883, 887, 907, 911, 919, 929, 937, 941, 947, 953, 967, 971, 977, 983, 991, 997, 1009, 1013, 1019, 1021, 1031, 1033, 1039, 1049, 1051, 1061, 1063, 1069, 1087, 1091, 1093, 1097, 1103, 1109, 1117, 1123, 1129, 1151, 1153, 1163, 1171, 1181, 1187, 1193, 1201, 1213, 1217, 1223, 1229, 1231, 1237, 1249, 1259, 1277, 1279, 1283, 1289, 1291, 1297, 1301, 1303, 1307, 1319, 1321, 1327, 1361, 1367, 1373, 1381, 1399, 1409, 1423, 1427, 1429, 1433, 1439, 1447, 1451, 1453, 1459, 1471, 1481, 1483, 1487, 1489, 1493, 1499, 1511, 1523, 1531, 1543, 1549, 1553, 1559, 1567, 1571, 1579, 1583, 1597, 1601, 1607, 1609, 1613, 1619, 1621, 1627, 1637, 1657, 1663, 1667, 1669, 1693, 1697, 1699, 1709, 1721, 1723, 1733, 1741, 1747, 1753, 1759, 1777, 1783, 1787, 1789, 1801, 1811, 1823, 1831, 1847, 1861, 1867, 1871, 1873, 1877, 1879, 1889, 1901, 1907, 1913, 1931, 1933, 1949, 1951, 1973, 1979, 1987, 1993, 1997, 1999, 2003, 2011, 2017, 2027, 2029, 2039, 2053, 2063, 2069, 2081, 2083, 2087, 2089, 2099, 2111, 2113, 2129, 2131, 2137, 2141, 2143, 2153, 2161, 2179, 2203, 2207, 2213, 2221, 2237, 2239, 2243, 2251, 2267, 2269, 2273, 2281, 2287, 2293, 2297, 2309, 2311, 2333, 2339, 2341, 2347, 2351, 2357, 2371, 2377, 2381, 2383, 2389, 2393, 2399, 2411, 2417, 2423, 2437, 2441, 2447, 2459, 2467, 2473, 2477, 2503, 2521, 2531, 2539, 2543, 2549, 2551, 2557, 2579, 2591, 2593, 2609, 2617, 2621, 2633, 2647, 2657, 2659, 2663, 2671, 2677, 2683, 2687, 2689, 2693, 2699, 2707, 2711, 2713, 2719, 2729, 2731, 2741, 2749, 2753, 2767, 2777, 2789, 2791, 2797, 2801, 2803, 2819, 2833, 2837, 2843, 2851, 2857, 2861, 2879, 2887, 2897, 2903, 2909, 2917, 2927, 2939, 2953, 2957, 2963, 2969, 2971, 2999, 3001, 3011, 3019, 3023, 3037, 3041, 3049, 3061, 3067, 3079, 3083, 3089, 3109, 3119, 3121, 3137, 3163, 3167, 3169, 3181, 3187, 3191, 3203, 3209, 3217, 3221, 3229, 3251, 3253, 3257, 3259, 3271, 3299, 3301, 3307, 3313, 3319, 3323, 3329, 3331, 3343, 3347, 3359, 3361, 3371, 3373, 3389, 3391, 3407, 3413, 3433, 3449, 3457, 3461, 3463, 3467, 3469, 3491, 3499, 3511, 3517, 3527, 3529, 3533, 3539, 3541, 3547, 3557, 3559, 3571, 3581, 3583, 3593, 3607, 3613, 3617, 3623, 3631, 3637, 3643, 3659, 3671, 3673, 3677, 3691, 3697, 3701, 3709, 3719, 3727, 3733, 3739, 3761, 3767, 3769, 3779, 3793, 3797, 3803, 3821, 3823, 3833, 3847, 3851, 3853, 3863, 3877, 3881, 3889, 3907, 3911, 3917, 3919, 3923, 3929, 3931, 3943, 3947, 3967, 3989, 4001, 4003, 4007, 4013, 4019, 4021, 4027, 4049, 4051, 4057, 4073, 4079, 4091, 4093, 4099, 4111, 4127, 4129, 4133, 4139, 4153, 4157, 4159, 4177, 4201, 4211, 4217, 4219, 4229, 4231, 4241, 4243, 4253, 4259, 4261, 4271, 4273, 4283, 4289, 4297, 4327, 4337, 4339, 4349, 4357, 4363, 4373, 4391, 4397, 4409, 4421, 4423, 4441, 4447, 4451, 4457, 4463, 4481, 4483, 4493, 4507, 4513, 4517, 4519, 4523, 4547, 4549, 4561, 4567, 4583, 4591, 4597, 4603, 4621, 4637, 4639, 4643, 4649, 4651, 4657, 4663, 4673, 4679, 4691, 4703, 4721, 4723, 4729, 4733, 4751, 4759, 4783, 4787, 4789, 4793, 4799, 4801, 4813, 4817, 4831, 4861, 4871, 4877, 4889, 4903, 4909, 4919, 4931, 4933, 4937, 4943, 4951, 4957, 4967, 4969, 4973, 4987, 4993, 4999, 5003, 5009, 5011, 5021, 5023, 5039, 5051, 5059, 5077, 5081, 5087, 5099, 5101, 5107, 5113, 5119, 5147, 5153, 5167, 5171, 5179, 5189, 5197, 5209, 5227, 5231, 5233, 5237, 5261, 5273, 5279, 5281, 5297, 5303, 5309, 5323, 5333, 5347, 5351, 5381, 5387, 5393, 5399, 5407, 5413, 5417, 5419, 5431, 5437, 5441, 5443, 5449, 5471, 5477, 5479, 5483, 5501, 5503, 5507, 5519, 5521, 5527, 5531, 5557, 5563, 5569, 5573, 5581, 5591, 5623, 5639, 5641, 5647, 5651, 5653, 5657, 5659, 5669, 5683, 5689, 5693, 5701, 5711, 5717, 5737, 5741, 5743, 5749, 5779, 5783, 5791, 5801, 5807, 5813, 5821, 5827, 5839, 5843, 5849, 5851, 5857, 5861, 5867, 5869, 5879, 5881, 5897, 5903, 5923, 5927, 5939, 5953, 5981, 5987, 6007, 6011, 6029, 6037, 6043, 6047, 6053, 6067, 6073, 6079, 6089, 6091, 6101, 6113, 6121, 6131, 6133, 6143, 6151, 6163, 6173, 6197, 6199, 6203, 6211, 6217, 6221, 6229, 6247, 6257, 6263, 6269, 6271, 6277, 6287, 6299, 6301, 6311, 6317, 6323, 6329, 6337, 6343, 6353, 6359, 6361, 6367, 6373, 6379, 6389, 6397, 6421, 6427, 6449, 6451, 6469, 6473, 6481, 6491, 6521, 6529, 6547, 6551, 6553, 6563, 6569, 6571, 6577, 6581, 6599, 6607, 6619, 6637, 6653, 6659, 6661, 6673, 6679, 6689, 6691, 6701, 6703, 6709, 6719, 6733, 6737, 6761, 6763, 6779, 6781, 6791, 6793, 6803, 6823, 6827, 6829, 6833, 6841, 6857, 6863, 6869, 6871, 6883, 6899, 6907, 6911, 6917, 6947, 6949, 6959, 6961, 6967, 6971, 6977, 6983, 6991, 6997, 7001, 7013, 7019, 7027, 7039, 7043, 7057, 7069, 7079, 7103, 7109, 7121, 7127, 7129, 7151, 7159, 7177, 7187, 7193, 7207, 7211, 7213, 7219, 7229, 7237, 7243, 7247, 7253, 7283, 7297, 7307, 7309, 7321, 7331, 7333, 7349, 7351, 7369, 7393, 7411, 7417, 7433, 7451, 7457, 7459, 7477, 7481, 7487, 7489, 7499, 7507, 7517, 7523, 7529, 7537, 7541, 7547, 7549, 7559, 7561, 7573, 7577, 7583, 7589, 7591, 7603, 7607, 7621, 7639, 7643, 7649, 7669, 7673, 7681, 7687, 7691, 7699, 7703, 7717, 7723, 7727, 7741, 7753, 7757, 7759, 7789, 7793, 7817, 7823, 7829, 7841, 7853, 7867, 7873, 7877, 7879, 7883, 7901, 7907, 7919, 7927, 7933, 7937, 7949, 7951, 7963, 7993, 8009, 8011, 8017, 8039, 8053, 8059, 8069, 8081, 8087, 8089, 8093, 8101, 8111, 8117, 8123, 8147, 8161, 8167, 8171, 8179, 8191, 8209, 8219, 8221, 8231, 8233, 8237, 8243, 8263, 8269, 8273, 8287, 8291, 8293, 8297, 8311, 8317, 8329, 8353, 8363, 8369, 8377, 8387, 8389, 8419, 8423, 8429, 8431, 8443, 8447, 8461, 8467, 8501, 8513, 8521, 8527, 8537, 8539, 8543, 8563, 8573, 8581, 8597, 8599, 8609, 8623, 8627, 8629, 8641, 8647, 8663, 8669, 8677, 8681, 8689, 8693, 8699, 8707, 8713, 8719, 8731, 8737, 8741, 8747, 8753, 8761, 8779, 8783, 8803, 8807, 8819, 8821, 8831, 8837, 8839, 8849, 8861, 8863, 8867, 8887, 8893, 8923, 8929, 8933, 8941, 8951, 8963, 8969, 8971, 8999, 9001, 9007, 9011, 9013, 9029, 9041, 9043, 9049, 9059, 9067, 9091, 9103, 9109, 9127, 9133, 9137, 9151, 9157, 9161, 9173, 9181, 9187, 9199, 9203, 9209, 9221, 9227, 9239, 9241, 9257, 9277, 9281, 9283, 9293, 9311, 9319, 9323, 9337, 9341, 9343, 9349, 9371, 9377, 9391, 9397, 9403, 9413, 9419, 9421, 9431, 9433, 9437, 9439, 9461, 9463, 9467, 9473, 9479, 9491, 9497, 9511, 9521, 9533, 9539, 9547, 9551, 9587, 9601, 9613, 9619, 9623, 9629, 9631, 9643, 9649, 9661, 9677, 9679, 9689, 9697, 9719, 9721, 9733, 9739, 9743, 9749, 9767, 9769, 9781, 9787, 9791, 9803, 9811, 9817, 9829, 9833, 9839, 9851, 9857, 9859, 9871, 9883, 9887, 9901, 9907, 9923, 9929, 9931, 9941, 9949, 9967, 9973]\n",
      "1229 primes found.\n"
     ]
    }
   ],
   "source": [
    "\"\"\"\n",
    "for number in nums:\n",
    "    if number == 0:\n",
    "        continue\n",
    "\"\"\"\n",
    "# instead\n",
    "for index in range(2, maxprime + 1):\n",
    "    if nums[index] == 0:\n",
    "        continue\n",
    "    # if I'm here, what does it mean?\n",
    "    # nums[index] is != 0, but also prime\n",
    "    # so now we want to remove all multiples of this prime\n",
    "    #print('Removing multiples of', index)\n",
    "    # visit each multiple of the current number (prime) \n",
    "    for multiple in range(index * 2, maxprime + 1, index):\n",
    "        #print('Removing', multiple)\n",
    "        nums[multiple] = 0\n",
    "\n",
    "print([num for num in nums if num])\n",
    "print(len(nums) - nums.count(0), 'primes found.')"
   ]
  },
  {
   "cell_type": "code",
   "execution_count": 192,
   "id": "2981a069-aa19-4e5a-8acd-52c210e21903",
   "metadata": {},
   "outputs": [
    {
     "name": "stdout",
     "output_type": "stream",
     "text": [
      "[0, 0, 2, 3, 0, 5, 0, 7, 0, 0, 0, 11, 0, 13, 0, 0, 0, 17, 0, 19, 0, 0, 0, 23, 0, 0]\n"
     ]
    }
   ],
   "source": [
    "print(nums)"
   ]
  },
  {
   "cell_type": "code",
   "execution_count": 198,
   "id": "3379e3f9-554d-40d8-97f2-d71572e5dfc1",
   "metadata": {},
   "outputs": [
    {
     "data": {
      "text/plain": [
       "9"
      ]
     },
     "execution_count": 198,
     "metadata": {},
     "output_type": "execute_result"
    }
   ],
   "source": [
    "len(nums) - nums.count(0)"
   ]
  },
  {
   "cell_type": "code",
   "execution_count": 3,
   "id": "23545b91-5103-4b51-800f-9cf2a1a7f5ab",
   "metadata": {},
   "outputs": [
    {
     "name": "stdout",
     "output_type": "stream",
     "text": [
      "367 ms ± 16.1 ms per loop (mean ± std. dev. of 7 runs, 1 loop each)\n"
     ]
    }
   ],
   "source": [
    "%%timeit\n",
    "%run primer.py 1000000"
   ]
  },
  {
   "cell_type": "code",
   "execution_count": 6,
   "id": "cd0f3815-8978-48e0-af62-32d6b2b4a5c0",
   "metadata": {},
   "outputs": [
    {
     "name": "stdout",
     "output_type": "stream",
     "text": [
      "650 ms ± 7.48 ms per loop (mean ± std. dev. of 7 runs, 1 loop each)\n"
     ]
    }
   ],
   "source": [
    "%%timeit\n",
    "%run primer-set.py 1000000"
   ]
  },
  {
   "cell_type": "code",
   "execution_count": 1,
   "id": "ad061ad9-3c59-4b68-a9dd-459d02295ee7",
   "metadata": {},
   "outputs": [
    {
     "name": "stdin",
     "output_type": "stream",
     "text": [
      "Enter some text:  Don't try this at \"home\"\n"
     ]
    }
   ],
   "source": [
    "response = input('Enter some text: ')"
   ]
  },
  {
   "cell_type": "code",
   "execution_count": 2,
   "id": "d03d22fe-a80c-47bf-b7a9-cda56166fcaf",
   "metadata": {},
   "outputs": [
    {
     "data": {
      "text/plain": [
       "'Don\\'t try this at \"home\"'"
      ]
     },
     "execution_count": 2,
     "metadata": {},
     "output_type": "execute_result"
    }
   ],
   "source": [
    "response"
   ]
  },
  {
   "cell_type": "code",
   "execution_count": 3,
   "id": "3235586e-2738-4e83-a9e3-e23bc4a8c922",
   "metadata": {},
   "outputs": [
    {
     "name": "stdout",
     "output_type": "stream",
     "text": [
      "Don't try this at \"home\"\n"
     ]
    }
   ],
   "source": [
    "print(response)"
   ]
  },
  {
   "cell_type": "code",
   "execution_count": 4,
   "id": "2d23fa21-3a2e-4fdf-82de-f013950e8787",
   "metadata": {},
   "outputs": [],
   "source": [
    "response = \"Don't try this at \\\"home\\\"\""
   ]
  },
  {
   "cell_type": "code",
   "execution_count": 6,
   "id": "1d0ee201-157b-4b8f-a5fd-af6a7f51bb04",
   "metadata": {},
   "outputs": [
    {
     "data": {
      "text/plain": [
       "'Don\\'t try this at \"home\"'"
      ]
     },
     "execution_count": 6,
     "metadata": {},
     "output_type": "execute_result"
    }
   ],
   "source": [
    "response"
   ]
  },
  {
   "cell_type": "code",
   "execution_count": 7,
   "id": "834a8bc2-28c5-4889-9770-9519deb85c34",
   "metadata": {},
   "outputs": [],
   "source": [
    "def add(x, y):\n",
    "    \"\"\"add some code here\"\"\"\n",
    "    return x + y"
   ]
  },
  {
   "cell_type": "code",
   "execution_count": 8,
   "id": "ab4b6dcf-c142-440c-a014-ce5150fa694b",
   "metadata": {},
   "outputs": [
    {
     "data": {
      "text/plain": [
       "5"
      ]
     },
     "execution_count": 8,
     "metadata": {},
     "output_type": "execute_result"
    }
   ],
   "source": [
    "add(2, 3)"
   ]
  },
  {
   "cell_type": "code",
   "execution_count": 9,
   "id": "af64adf7-7fd7-4388-8c16-4ceb822b4712",
   "metadata": {},
   "outputs": [
    {
     "data": {
      "text/plain": [
       "0"
      ]
     },
     "execution_count": 9,
     "metadata": {},
     "output_type": "execute_result"
    }
   ],
   "source": [
    "add(2, -2)"
   ]
  },
  {
   "cell_type": "code",
   "execution_count": 10,
   "id": "0f49b20b-7adb-496b-ba52-cd82a5ada308",
   "metadata": {},
   "outputs": [
    {
     "name": "stdout",
     "output_type": "stream",
     "text": [
      "The Zen of Python, by Tim Peters\n",
      "\n",
      "Beautiful is better than ugly.\n",
      "Explicit is better than implicit.\n",
      "Simple is better than complex.\n",
      "Complex is better than complicated.\n",
      "Flat is better than nested.\n",
      "Sparse is better than dense.\n",
      "Readability counts.\n",
      "Special cases aren't special enough to break the rules.\n",
      "Although practicality beats purity.\n",
      "Errors should never pass silently.\n",
      "Unless explicitly silenced.\n",
      "In the face of ambiguity, refuse the temptation to guess.\n",
      "There should be one-- and preferably only one --obvious way to do it.\n",
      "Although that way may not be obvious at first unless you're Dutch.\n",
      "Now is better than never.\n",
      "Although never is often better than *right* now.\n",
      "If the implementation is hard to explain, it's a bad idea.\n",
      "If the implementation is easy to explain, it may be a good idea.\n",
      "Namespaces are one honking great idea -- let's do more of those!\n"
     ]
    }
   ],
   "source": [
    "import this"
   ]
  },
  {
   "cell_type": "code",
   "execution_count": 11,
   "id": "59fae2d3-42ad-461b-b741-f103b7ef2d99",
   "metadata": {},
   "outputs": [],
   "source": [
    "def add(x, y):\n",
    "    pass"
   ]
  },
  {
   "cell_type": "code",
   "execution_count": 12,
   "id": "42c5dde3-29ac-481e-b815-ebf761fb15a2",
   "metadata": {},
   "outputs": [],
   "source": [
    "add(1, 2)"
   ]
  },
  {
   "cell_type": "code",
   "execution_count": 13,
   "id": "ecb4f44d-ad40-4ac4-859a-676068440510",
   "metadata": {},
   "outputs": [],
   "source": [
    "s = ''"
   ]
  },
  {
   "cell_type": "code",
   "execution_count": 14,
   "id": "9d64ea23-3027-4fa1-8d2e-7bf0add6ec7b",
   "metadata": {},
   "outputs": [],
   "source": [
    "if s:\n",
    "    print('yep')"
   ]
  },
  {
   "cell_type": "code",
   "execution_count": 15,
   "id": "5a9ba0fd-184e-4460-bd9d-f0b81bea1f3a",
   "metadata": {},
   "outputs": [
    {
     "name": "stdout",
     "output_type": "stream",
     "text": [
      "nope\n"
     ]
    }
   ],
   "source": [
    "if not s:\n",
    "    print('nope')"
   ]
  },
  {
   "cell_type": "markdown",
   "id": "41157058-35b4-4d55-8e63-f007b4cdddc3",
   "metadata": {},
   "source": [
    "# Process for writing code\n",
    "* readability\n",
    "  * write readable code!\n",
    "  * readability trumps correctness\n",
    "  * understandable code more important than comments\n",
    "* functions\n",
    "   * use functions as much as possible\n",
    "   * all functions should have DOCSTRINGS!\n",
    "   * no implmenetation should be written before tests\n",
    "* testing\n",
    "  * write tests before you implement the function\n",
    "  * use PyTest\n",
    "  * don't over-test (no need to test e.g., .append(), sorted(), SCPI, etc.)\n",
    "  * don't under-test (try to ensure every function is well tested)\n",
    "  * use coverage tool to ensure 100% coverage\n",
    "    * untested code is BROKEN CODE \n",
    "    * 100% coverage does not mean 100% good tests\n",
    "   \n",
    "* create modules when needed (offload your related functions into a module)\n",
    "* maybe use Jenkins to ensure tests are run after each commit\n",
    "  * if you have a Jenkins server internally\n",
    "  * also check out pre- and post-commit hooks"
   ]
  },
  {
   "cell_type": "markdown",
   "id": "8edf1c83-319b-4c67-869e-3d55b6e007bb",
   "metadata": {},
   "source": [
    "# More TDD Practice\n",
    "* let's write a function __`find3()`__ which identifies all \"runs\" of 3 of the same object in a container and returns a list of their initial index\n",
    "* e.g., __`find3(['one', 'two', 'three', 'four', 'four', 'four', 'five', 'six'])`__ would return [3]\n",
    "* e.g., __`find3([1, 2, 2, 2, 2, 3])`__ would return [1, 2]\n",
    "* e.g., __`find3([48, 47, 47, 47, 19, 23, 14, 14, 14, 18, 48])`__ would return [1, 6]\n",
    "* e.g., __`find3([48, 48, 'forty eight', 'forty eight', 'forty eight', 38, 39, -1, 2])`__ would return [2]\n",
    "* e.g., __`find3([1, 2, 3, 2, 2])`__ would return []\n",
    "* if you wish (not required), add the posibility of a run wrapping around from end to the beginning\n",
    "  * e.g., __`find3([1, 2, 5, -4, 3, 1, 1])`__ would return 5 because a run exists at [5], [6], [0]\n",
    "* write tests first\n",
    "* then (or during the above), write pseudocode\n",
    "* additional functions that can be TDD-ed\n",
    "  * how about summer(), a function that finds consecutive runs in a list of numbers that total a certain, so summer([1, 2, 3, 4, 5, 6, 7], 12) would return the slice of the list that totals 12 (in this case it would be [3, 4, 5]), maybe it returns None if no run totals 12\n",
    "  * pangram function \n",
    "  * function that sums digits of a number and continues to sum digits until the result is < 10, so sum_digits(1235), would sum 1 + 2 + 3 + 5 = 11, then sum 1 + 1 = 2 and that would be return\n",
    "  * any function we wrote, re-approach from a TDD angle, and re-implement, so don't use your old code, write tests + the algorith, and then write the code (and it might be interesting to compare your new implementation)"
   ]
  },
  {
   "cell_type": "code",
   "execution_count": 17,
   "id": "93977a9c-95b9-4925-b389-5c741f11fc05",
   "metadata": {},
   "outputs": [],
   "source": [
    "# let's write some tests\n",
    "\n",
    "def test_strings():\n",
    "    assert find3(['one', 'two', 'three', 'four', 'four', 'four', 'five', 'six']) == [3]\n",
    "\n",
    "\n",
    "def test_overlap():\n",
    "    assert find3([1, 2, 2, 2, 2, 3]) == [1, 2]\n",
    "    \n",
    "\n",
    "def test_no_overlap():\n",
    "    assert find3([48, 47, 47, 47, 19, 23, 14, 14, 14, 18, 48]) == [1, 6]\n",
    "    \n",
    "\n",
    "def test_mixed():\n",
    "    assert find3([48, 48, 'forty eight', 'forty eight', 'forty eight', 38, 39, -1, 2]) == [2]\n",
    "    \n",
    "    \n",
    "def test_no_runs():\n",
    "    assert find3([1, 2, 3, 2, 2]) == []\n",
    "    \n",
    "    \n",
    "def test_wrap():\n",
    "    assert find3([1, 2, 5, -4, 3, 1, 1]) == [5]"
   ]
  },
  {
   "cell_type": "code",
   "execution_count": 19,
   "id": "a82f7350-936d-4479-9459-139b51ee3db2",
   "metadata": {},
   "outputs": [],
   "source": [
    "def find3(iterable):\n",
    "    \"\"\"Identify all \"runs\" of 3 of the same object in a container and\n",
    "    return a list of their initial index. Here are some examples:\n",
    "    \n",
    "        find3(['one', 'two', 'three', 'four', 'four', 'four', 'five', 'six']) == [3]\n",
    "        find3([1, 2, 2, 2, 2, 3]) == [1, 2]\n",
    "        find3([48, 47, 47, 47, 19, 23, 14, 14, 14, 18, 48]) == [1, 6]\n",
    "        find3([48, 48, 'forty eight', 'forty eight', 'forty eight', 38, 39, -1, 2]) == [2]\n",
    "        find3([1, 2, 3, 2, 2]) == []\n",
    "        \n",
    "    Runs can \"wrap around\" the end of the container, so, for e.g.,\n",
    "    \n",
    "        find3([1, 2, 5, -4, 3, 1, 1]) == [5]\n",
    "    \"\"\"\n",
    "    pass"
   ]
  },
  {
   "cell_type": "code",
   "execution_count": null,
   "id": "b1286304-99ad-43fc-829d-649a5c4b765e",
   "metadata": {},
   "outputs": [],
   "source": [
    "# now let's ensure all tests fail..."
   ]
  },
  {
   "cell_type": "code",
   "execution_count": 20,
   "id": "656d242d-79ef-4cfa-9de8-92fe80c98ade",
   "metadata": {},
   "outputs": [],
   "source": [
    "# next, let's implement a solution for a container which has no runs\n",
    "# that is, we should return an empty list\n",
    "# if we do that EVERY time, we'll have one test that will pass"
   ]
  },
  {
   "cell_type": "code",
   "execution_count": null,
   "id": "2d1086b8-f9fd-46e7-aa16-0d637bfdef2e",
   "metadata": {},
   "outputs": [],
   "source": [
    "# next, let's implement a solution w/o considering \"wraparound\"..."
   ]
  },
  {
   "cell_type": "code",
   "execution_count": 79,
   "id": "bb545295-a773-47e5-be3c-c144cfa3c700",
   "metadata": {},
   "outputs": [],
   "source": [
    "def find3(iterable):\n",
    "    \"\"\"Identify all \"runs\" of 3 of the same object in a container and\n",
    "    return a list of their initial index. Here are some examples:\n",
    "    \n",
    "        find3(['one', 'two', 'three', 'four', 'four', 'four', 'five', 'six']) == [3]\n",
    "        find3([1, 2, 2, 2, 2, 3]) == [1, 2]\n",
    "        find3([48, 47, 47, 47, 19, 23, 14, 14, 14, 18, 48]) == [1, 6]\n",
    "        find3([48, 48, 'forty eight', 'forty eight', 'forty eight', 38, 39, -1, 2]) == [2]\n",
    "        find3([1, 2, 3, 2, 2]) == []\n",
    "        \n",
    "    Runs can \"wrap around\" the end of the container, so, for e.g.,\n",
    "    \n",
    "        find3([1, 2, 5, -4, 3, 1, 1]) == [5]\n",
    "    \"\"\"\n",
    "    # Compare each consecutive group of 3 items for equality and note any that are found\n",
    "    # NOTE: since our goal is to find identical items, we could set-ify each group of 3,\n",
    "    # looking for a resulting set size of 1.\n",
    "    # Or, we could compare [i] to [i + 1] and to [i + 2]\n",
    "    \n",
    "    # We're going to return a list of runs, which should start out empty.\n",
    "    runs = []\n",
    "    for index in range(len(iterable)):\n",
    "        print('examining', slicer(iterable, index, 3))\n",
    "        if len(set(slicer(iterable, index, 3))) == 1: \n",
    "            runs.append(index)\n",
    "    return runs"
   ]
  },
  {
   "cell_type": "code",
   "execution_count": 81,
   "id": "14a53be2-85b3-4e84-a2c3-6ac55e73f30c",
   "metadata": {},
   "outputs": [
    {
     "name": "stdout",
     "output_type": "stream",
     "text": [
      "examining [2, 1, 1]\n",
      "examining [1, 1, 4]\n",
      "examining [1, 4, 3]\n",
      "examining [4, 3, 2]\n",
      "examining [3, 2, 2]\n",
      "examining [2, 2, 2]\n",
      "examining [2, 2, 1]\n"
     ]
    },
    {
     "data": {
      "text/plain": [
       "[5]"
      ]
     },
     "execution_count": 81,
     "metadata": {},
     "output_type": "execute_result"
    }
   ],
   "source": [
    "find3([2, 1, 1, 4, 3, 2, 2])"
   ]
  },
  {
   "cell_type": "code",
   "execution_count": 72,
   "id": "4b40402e-8c60-4f77-9f06-9133bfb3d141",
   "metadata": {},
   "outputs": [],
   "source": [
    "def slicer(iterable, pos1, length):\n",
    "    \"\"\"Return a slice from pos1 to pos1 + length, but also handle wraparound, so \n",
    "    if pos1 + length goes past the end of the iterable, start back at the beginning\n",
    "    \"\"\"\n",
    "    if pos1 + length <= len(iterable):\n",
    "        return iterable[pos1:pos1 + length]\n",
    "    else:\n",
    "        part1 = iterable[pos1:]\n",
    "        return part1 + iterable[:length - len(part1)]"
   ]
  },
  {
   "cell_type": "code",
   "execution_count": 49,
   "id": "ea6e9837-c5f6-433d-ac7c-ac2cfc1c5039",
   "metadata": {},
   "outputs": [
    {
     "data": {
      "text/plain": [
       "[5, 6, 7]"
      ]
     },
     "execution_count": 49,
     "metadata": {},
     "output_type": "execute_result"
    }
   ],
   "source": [
    "slicer([1, 2, 3, 4, 5, 6, 7, 8], 4, 3)"
   ]
  },
  {
   "cell_type": "code",
   "execution_count": 73,
   "id": "0ac26ce3-9640-43e9-b669-15d0e1e9b88e",
   "metadata": {},
   "outputs": [
    {
     "data": {
      "text/plain": [
       "[]"
      ]
     },
     "execution_count": 73,
     "metadata": {},
     "output_type": "execute_result"
    }
   ],
   "source": [
    "slicer([], 4, 3)"
   ]
  },
  {
   "cell_type": "markdown",
   "id": "74d620bb-9eb6-4f60-833e-62f22246f314",
   "metadata": {},
   "source": [
    "# More TDD Practice\n",
    "* let's write a function __`find3()`__ which identifies all \"runs\" of 3 of the same object in a container and returns a list of their initial index\n",
    "* e.g., __`find3(['one', 'two', 'three', 'four', 'four', 'four', 'five', 'six'])`__ would return [3]\n",
    "* e.g., __`find3([1, 2, 2, 2, 2, 3])`__ would return [1, 2]\n",
    "* e.g., __`find3([48, 47, 47, 47, 19, 23, 14, 14, 14, 18, 48])`__ would return [1, 6]\n",
    "* e.g., __`find3([48, 48, 'forty eight', 'forty eight', 'forty eight', 38, 39, -1, 2])`__ would return [2]\n",
    "* e.g., __`find3([1, 2, 3, 2, 2])`__ would return []\n",
    "* if you wish (not required), add the posibility of a run wrapping around from end to the beginning\n",
    "  * e.g., __`find3([1, 2, 5, -4, 3, 1, 1])`__ would return 5 because a run exists at [5], [6], [0]\n",
    "* write tests first\n",
    "* then (or during the above), write pseudocode\n",
    "* additional functions that can be TDD-ed\n",
    "  * how about summer(), a function that finds consecutive runs in a list of numbers that total a certain, so summer([1, 2, 3, 4, 5, 6, 7], 12) would return the slice of the list that totals 12 (in this case it would be [3, 4, 5]), maybe it returns None if no run totals 12\n",
    "  * pangram function \n",
    "  * function that sums digits of a number and continues to sum digits until the result is < 10, so sum_digits(1235), would sum 1 + 2 + 3 + 5 = 11, then sum 1 + 1 = 2 and that would be return\n",
    "  * any function we wrote, re-approach from a TDD angle, and re-implement, so don't use your old code, write tests + the algorith, and then write the code (and it might be interesting to compare your new implementation)"
   ]
  },
  {
   "cell_type": "code",
   "execution_count": 54,
   "id": "097f1574-dad1-4e03-b756-55d0859669c8",
   "metadata": {},
   "outputs": [],
   "source": [
    "stuff = [1, 2, 3, 7, -3, 5, 2, 2, 2, 9, 18, 'hi', 'hi', 'hi', 'ok']"
   ]
  },
  {
   "cell_type": "code",
   "execution_count": null,
   "id": "66f44a6b-ed38-49e0-ab92-c25c8f6c960c",
   "metadata": {},
   "outputs": [],
   "source": [
    "# if we call find3(stuff), we expect the response to be [6, 11] (a list of any indices\n",
    "# which are the start of a 3-element \"run\")"
   ]
  },
  {
   "cell_type": "code",
   "execution_count": 57,
   "id": "cc3fd1f2-9238-4917-ab7b-9475bc4786ec",
   "metadata": {},
   "outputs": [],
   "source": [
    "# this would be called a \"stub\" because we have the function name but no code\n",
    "def find3(container):\n",
    "    pass # pass means do nothing"
   ]
  },
  {
   "cell_type": "code",
   "execution_count": 58,
   "id": "d5f9628a-7c4c-4c69-bca6-0d254e1fda11",
   "metadata": {},
   "outputs": [],
   "source": [
    "find3(stuff)"
   ]
  },
  {
   "cell_type": "code",
   "execution_count": 59,
   "id": "42486752-4993-465f-ab9a-5cafb7e0a8e0",
   "metadata": {},
   "outputs": [
    {
     "data": {
      "text/plain": [
       "False"
      ]
     },
     "execution_count": 59,
     "metadata": {},
     "output_type": "execute_result"
    }
   ],
   "source": [
    "18 == 'hi'"
   ]
  },
  {
   "cell_type": "code",
   "execution_count": 60,
   "id": "9ef1b865-b9cc-4e31-b6d2-6da1a7757a7e",
   "metadata": {},
   "outputs": [],
   "source": [
    "# find3([1, 2, 3, 4]) should return []"
   ]
  },
  {
   "cell_type": "code",
   "execution_count": 61,
   "id": "496e47fc-2d3d-4424-96ef-e6a8c8757ca8",
   "metadata": {},
   "outputs": [],
   "source": [
    "# find3([5, 5, 5]) should return [0]"
   ]
  },
  {
   "cell_type": "code",
   "execution_count": 62,
   "id": "774f4267-52d0-4449-a832-b641782f2407",
   "metadata": {},
   "outputs": [],
   "source": [
    "# find3([1, 2, 3, 9, 9, 9, 9, 3, 2, 1] should return [3, 4]"
   ]
  },
  {
   "cell_type": "code",
   "execution_count": null,
   "id": "5940f69d-5c8a-4331-b1e5-d9983e536167",
   "metadata": {},
   "outputs": [],
   "source": [
    "# find3([]) should return []"
   ]
  },
  {
   "cell_type": "code",
   "execution_count": 74,
   "id": "d71e912a-a63e-474c-844a-5883a84bcfd2",
   "metadata": {},
   "outputs": [
    {
     "data": {
      "text/plain": [
       "[]"
      ]
     },
     "execution_count": 74,
     "metadata": {},
     "output_type": "execute_result"
    }
   ],
   "source": [
    "find3([1, 2, 2, 2, 2, 3])"
   ]
  },
  {
   "cell_type": "code",
   "execution_count": null,
   "id": "534aac0d-51fa-4ecb-bf24-87fdfc14c4cd",
   "metadata": {},
   "outputs": [],
   "source": [
    "# summer([1, 2, 3, 4, 5], 15) should return [1, 2, 3, 4, 5]\n",
    "# summer([], *) should return []\n",
    "# summer([1, 2, 3, 4, 5], 14) should return []\n",
    "# summer([1, 2, 3, 4, 5, 6, 7, 8], 26) should return [5, 6, 7, 8]\n",
    "\n",
    "# algorithm\n",
    "# start at beginning of list\n",
    "# \"grow a slice\" until sum is >= desired sum\n",
    "# if =, then return that slice\n",
    "# if >, the move forward to next index\n",
    "\n"
   ]
  },
  {
   "cell_type": "code",
   "execution_count": 86,
   "id": "03b65cbf-0120-4f52-abba-16b95702fc5b",
   "metadata": {},
   "outputs": [],
   "source": [
    "def summer(container, total):\n",
    "    \"\"\"Search container for a slice of consecutive values whose total\n",
    "    is total.\n",
    "    \"\"\"\n",
    "    \n",
    "    # algorithm\n",
    "    # start at beginning of list\n",
    "    # \"grow a slice\" until sum is >= desired sum\n",
    "    # if =, then return that slice\n",
    "    # if >, the move forward to next index\n",
    "    start = 0\n",
    "    \n",
    "    while start <= len(container):\n",
    "        end = start + 1\n",
    "        while end <= len(container):\n",
    "            print('summing', container[start:end])\n",
    "            if sum(container[start:end]) == total:\n",
    "                return container[start:end]\n",
    "            end += 1\n",
    "        start += 1\n",
    "        \n",
    "    return []"
   ]
  },
  {
   "cell_type": "code",
   "execution_count": 87,
   "id": "edba18ca-9d9c-4c8f-9027-cee7918a23b0",
   "metadata": {},
   "outputs": [
    {
     "name": "stdout",
     "output_type": "stream",
     "text": [
      "summing [1]\n",
      "summing [1, 2]\n",
      "summing [1, 2, 3]\n",
      "summing [1, 2, 3, 4]\n",
      "summing [1, 2, 3, 4, 5]\n"
     ]
    },
    {
     "data": {
      "text/plain": [
       "[1, 2, 3, 4, 5]"
      ]
     },
     "execution_count": 87,
     "metadata": {},
     "output_type": "execute_result"
    }
   ],
   "source": [
    "summer([1, 2, 3, 4, 5], 15)"
   ]
  },
  {
   "cell_type": "code",
   "execution_count": 112,
   "id": "b53d1fb5-60fc-4817-9b39-66f3ebd30568",
   "metadata": {},
   "outputs": [],
   "source": [
    "def generate_code(num_digits):\n",
    "    \"\"\"Generate a code string which consists of digits, and is num_digits long\n",
    "    and has no repeated digits.\n",
    "    \"\"\"\n",
    "    return '1231'"
   ]
  },
  {
   "cell_type": "code",
   "execution_count": 113,
   "id": "0e0aca38-fb78-4427-80fc-86ab07ee49b2",
   "metadata": {},
   "outputs": [],
   "source": [
    "def test_generate_code():\n",
    "    code_length = 4\n",
    "    code = generate_code(code_length) # \"1234\"\n",
    "    assert len(code) == code_length\n",
    "    assert code.isdigit()\n",
    "    assert len(set(code)) == len(code)"
   ]
  },
  {
   "cell_type": "code",
   "execution_count": 114,
   "id": "477775a2-0adf-4878-ae66-4f8d1be16869",
   "metadata": {},
   "outputs": [
    {
     "ename": "AssertionError",
     "evalue": "",
     "output_type": "error",
     "traceback": [
      "\u001b[0;31m---------------------------------------------------------------------------\u001b[0m",
      "\u001b[0;31mAssertionError\u001b[0m                            Traceback (most recent call last)",
      "Input \u001b[0;32mIn [114]\u001b[0m, in \u001b[0;36m<cell line: 1>\u001b[0;34m()\u001b[0m\n\u001b[0;32m----> 1\u001b[0m \u001b[43mtest_generate_code\u001b[49m\u001b[43m(\u001b[49m\u001b[43m)\u001b[49m\n",
      "Input \u001b[0;32mIn [113]\u001b[0m, in \u001b[0;36mtest_generate_code\u001b[0;34m()\u001b[0m\n\u001b[1;32m      4\u001b[0m \u001b[38;5;28;01massert\u001b[39;00m \u001b[38;5;28mlen\u001b[39m(code) \u001b[38;5;241m==\u001b[39m code_length\n\u001b[1;32m      5\u001b[0m \u001b[38;5;28;01massert\u001b[39;00m code\u001b[38;5;241m.\u001b[39misdigit()\n\u001b[0;32m----> 6\u001b[0m \u001b[38;5;28;01massert\u001b[39;00m \u001b[38;5;28mlen\u001b[39m(\u001b[38;5;28mset\u001b[39m(code)) \u001b[38;5;241m==\u001b[39m \u001b[38;5;28mlen\u001b[39m(code)\n",
      "\u001b[0;31mAssertionError\u001b[0m: "
     ]
    }
   ],
   "source": [
    "test_generate_code()"
   ]
  },
  {
   "cell_type": "code",
   "execution_count": 90,
   "id": "bab34d8b-afaa-4e7e-bcf5-5a2ddd90d164",
   "metadata": {},
   "outputs": [
    {
     "data": {
      "text/plain": [
       "True"
      ]
     },
     "execution_count": 90,
     "metadata": {},
     "output_type": "execute_result"
    }
   ],
   "source": [
    "'1234'.isdigit()"
   ]
  },
  {
   "cell_type": "code",
   "execution_count": 93,
   "id": "0667a565-b6b7-4406-9b8e-1dc8632a0bac",
   "metadata": {},
   "outputs": [
    {
     "data": {
      "text/plain": [
       "False"
      ]
     },
     "execution_count": 93,
     "metadata": {},
     "output_type": "execute_result"
    }
   ],
   "source": [
    "'1a34'.isdigit()"
   ]
  },
  {
   "cell_type": "code",
   "execution_count": 101,
   "id": "ed82a78b-759f-4468-a8c9-bf04252081b1",
   "metadata": {},
   "outputs": [],
   "source": [
    "code = '123456781'"
   ]
  },
  {
   "cell_type": "code",
   "execution_count": 97,
   "id": "4ec2c10b-b36d-4bfe-b2c3-4e0c67a6d74b",
   "metadata": {},
   "outputs": [
    {
     "data": {
      "text/plain": [
       "{'1', '2', '3'}"
      ]
     },
     "execution_count": 97,
     "metadata": {},
     "output_type": "execute_result"
    }
   ],
   "source": [
    "set(code)"
   ]
  },
  {
   "cell_type": "code",
   "execution_count": 102,
   "id": "b1f3e1ad-d5ac-4664-80ca-fe107b111936",
   "metadata": {},
   "outputs": [
    {
     "name": "stdout",
     "output_type": "stream",
     "text": [
      "dupe\n"
     ]
    }
   ],
   "source": [
    "if len(set(code)) != len(code):\n",
    "    print('dupe')"
   ]
  },
  {
   "cell_type": "code",
   "execution_count": 115,
   "id": "69e95db5-900c-4636-8bce-45626a46f170",
   "metadata": {},
   "outputs": [
    {
     "data": {
      "text/plain": [
       "[0, 1]"
      ]
     },
     "execution_count": 115,
     "metadata": {},
     "output_type": "execute_result"
    }
   ],
   "source": [
    "list(range(2)) # "
   ]
  },
  {
   "cell_type": "code",
   "execution_count": 117,
   "id": "2dcb05e0-5a24-41b9-add3-6a015ee68610",
   "metadata": {},
   "outputs": [
    {
     "name": "stdout",
     "output_type": "stream",
     "text": [
      "0\n",
      "1\n",
      "2\n",
      "3\n",
      "4\n",
      "5\n",
      "6\n",
      "7\n",
      "8\n"
     ]
    }
   ],
   "source": [
    "for digit in range(9):\n",
    "    print(digit)"
   ]
  },
  {
   "cell_type": "code",
   "execution_count": 118,
   "id": "7a815c9b-19b3-4194-a97a-2a531dab3b92",
   "metadata": {},
   "outputs": [
    {
     "name": "stdout",
     "output_type": "stream",
     "text": [
      "['0', '1', '2', '3', '4', '5', '6', '7', '8']\n"
     ]
    }
   ],
   "source": [
    "num_digits = 9\n",
    "digits = [str(digit) for digit in range(num_digits)]\n",
    "print(digits)"
   ]
  },
  {
   "cell_type": "code",
   "execution_count": 119,
   "id": "bef01d7c-bde8-41f5-a1e9-2622a10e8818",
   "metadata": {},
   "outputs": [
    {
     "data": {
      "text/plain": [
       "'012345678'"
      ]
     },
     "execution_count": 119,
     "metadata": {},
     "output_type": "execute_result"
    }
   ],
   "source": [
    "''.join(digits)"
   ]
  },
  {
   "cell_type": "code",
   "execution_count": 153,
   "id": "7331b710-053c-4638-ba2e-c8e89829b91e",
   "metadata": {},
   "outputs": [],
   "source": [
    "def random_int(maxrand):\n",
    "    \"\"\"Return a random number between 1 and maxrand. This a convenience function\n",
    "    so that we only have to specify the upper number of the interval. Since it\n",
    "    just uses builtin randint to generate the numbers, no need to test it.\n",
    "    \"\"\"\n",
    "    from random import randint\n",
    "    return randint(1, maxrand)"
   ]
  },
  {
   "cell_type": "code",
   "execution_count": 160,
   "id": "51299467-bd00-4c39-b54d-39a7327257b8",
   "metadata": {},
   "outputs": [
    {
     "data": {
      "text/plain": [
       "28"
      ]
     },
     "execution_count": 160,
     "metadata": {},
     "output_type": "execute_result"
    }
   ],
   "source": [
    "random_int(100)"
   ]
  },
  {
   "cell_type": "code",
   "execution_count": 162,
   "id": "42b3d2ea-f283-4ec0-8a36-c3b3f3db1ab3",
   "metadata": {},
   "outputs": [],
   "source": [
    "answer = .1 + .1 + .1"
   ]
  },
  {
   "cell_type": "code",
   "execution_count": 164,
   "id": "d84872e6-a4c1-4c2f-bfe6-2665b6684878",
   "metadata": {},
   "outputs": [
    {
     "name": "stdout",
     "output_type": "stream",
     "text": [
      "0.300000\n"
     ]
    }
   ],
   "source": [
    "print('%.6f' % answer) # Python 2-style formatted print, % means print format operator"
   ]
  },
  {
   "cell_type": "code",
   "execution_count": 167,
   "id": "09fd412b-fe6e-4471-b490-5602cbf524a3",
   "metadata": {},
   "outputs": [],
   "source": [
    "def add(operand1, operand2):\n",
    "    \"\"\"No need to test this in real life, because you're just testing +\"\"\"\n",
    "    return operand1 + operand2"
   ]
  },
  {
   "cell_type": "code",
   "execution_count": 166,
   "id": "11e2337d-c6a0-44fb-9c32-2f6d61a767e6",
   "metadata": {},
   "outputs": [
    {
     "data": {
      "text/plain": [
       "0.2"
      ]
     },
     "execution_count": 166,
     "metadata": {},
     "output_type": "execute_result"
    }
   ],
   "source": [
    "add(0.1, 0.1)"
   ]
  },
  {
   "cell_type": "code",
   "execution_count": 168,
   "id": "a2a4dd98-4107-4ff9-80ac-462fa2df5dab",
   "metadata": {},
   "outputs": [
    {
     "name": "stdout",
     "output_type": "stream",
     "text": [
      "0.300000\n"
     ]
    }
   ],
   "source": [
    "print(f'{answer:.6f}') # Python 2-style formatted print, % means print format operator"
   ]
  },
  {
   "cell_type": "code",
   "execution_count": 170,
   "id": "7703307c-9911-493c-8e97-acd05235fc4f",
   "metadata": {},
   "outputs": [
    {
     "name": "stdout",
     "output_type": "stream",
     "text": [
      "the answer is 0.30000\n"
     ]
    }
   ],
   "source": [
    "print(f'the answer is {answer:.5f}')"
   ]
  },
  {
   "cell_type": "code",
   "execution_count": 179,
   "id": "cfe5b3ef-94eb-4d08-a503-9d0d7fdd43b8",
   "metadata": {},
   "outputs": [],
   "source": [
    "def get_response_from_user(prompt, allowed_responses):\n",
    "    while True:\n",
    "        response = input(prompt)\n",
    "        if response in allowed_responses:\n",
    "            break\n",
    "    return response"
   ]
  },
  {
   "cell_type": "code",
   "execution_count": 180,
   "id": "d39fbf2e-a6ff-43ea-a08d-477664b86979",
   "metadata": {},
   "outputs": [
    {
     "name": "stdin",
     "output_type": "stream",
     "text": [
      "Answer yes or no:  yes or no\n",
      "Answer yes or no:  yes\n"
     ]
    },
    {
     "data": {
      "text/plain": [
       "'yes'"
      ]
     },
     "execution_count": 180,
     "metadata": {},
     "output_type": "execute_result"
    }
   ],
   "source": [
    "get_response_from_user('Answer yes or no: ', 'yes no'.split())"
   ]
  },
  {
   "cell_type": "code",
   "execution_count": 182,
   "id": "cf57c67f-906f-418f-aebf-209f4c0e71f2",
   "metadata": {},
   "outputs": [],
   "source": [
    "def is_valid_response(response, allowed_responses):\n",
    "    return response in allowed_responses"
   ]
  },
  {
   "cell_type": "code",
   "execution_count": 184,
   "id": "4a4825de-704d-45ab-adf2-16f63c23671e",
   "metadata": {},
   "outputs": [
    {
     "name": "stdin",
     "output_type": "stream",
     "text": [
      "Respond with \"yes\" or \"no\":  ok\n",
      "Respond with \"yes\" or \"no\":  yes or no\n",
      "Respond with \"yes\" or \"no\":  !\n",
      "Respond with \"yes\" or \"no\":  no\n"
     ]
    }
   ],
   "source": [
    "while True:\n",
    "    response = input('Respond with \"yes\" or \"no\": ')\n",
    "    if is_valid_response(response, 'yes no'.split()):\n",
    "        break"
   ]
  },
  {
   "cell_type": "code",
   "execution_count": 187,
   "id": "c7fda8ea-8352-48c3-8e3a-ebd616600070",
   "metadata": {},
   "outputs": [],
   "source": [
    "def test_invalid_response():\n",
    "    assert is_valid_response('ok', 'yes no'.split()) == True"
   ]
  },
  {
   "cell_type": "code",
   "execution_count": 188,
   "id": "905f4b83-2f52-426d-bdca-3db3fd46ff6c",
   "metadata": {},
   "outputs": [
    {
     "ename": "AssertionError",
     "evalue": "",
     "output_type": "error",
     "traceback": [
      "\u001b[0;31m---------------------------------------------------------------------------\u001b[0m",
      "\u001b[0;31mAssertionError\u001b[0m                            Traceback (most recent call last)",
      "Input \u001b[0;32mIn [188]\u001b[0m, in \u001b[0;36m<cell line: 1>\u001b[0;34m()\u001b[0m\n\u001b[0;32m----> 1\u001b[0m \u001b[43mtest_invalid_response\u001b[49m\u001b[43m(\u001b[49m\u001b[43m)\u001b[49m\n",
      "Input \u001b[0;32mIn [187]\u001b[0m, in \u001b[0;36mtest_invalid_response\u001b[0;34m()\u001b[0m\n\u001b[1;32m      1\u001b[0m \u001b[38;5;28;01mdef\u001b[39;00m \u001b[38;5;21mtest_invalid_response\u001b[39m():\n\u001b[0;32m----> 2\u001b[0m     \u001b[38;5;28;01massert\u001b[39;00m is_valid_response(\u001b[38;5;124m'\u001b[39m\u001b[38;5;124mok\u001b[39m\u001b[38;5;124m'\u001b[39m, \u001b[38;5;124m'\u001b[39m\u001b[38;5;124myes no\u001b[39m\u001b[38;5;124m'\u001b[39m\u001b[38;5;241m.\u001b[39msplit()) \u001b[38;5;241m==\u001b[39m \u001b[38;5;28;01mTrue\u001b[39;00m\n",
      "\u001b[0;31mAssertionError\u001b[0m: "
     ]
    }
   ],
   "source": [
    "test_invalid_response()"
   ]
  },
  {
   "cell_type": "code",
   "execution_count": 189,
   "id": "f3e39080-f541-4360-8bbb-25cff5ca0b67",
   "metadata": {},
   "outputs": [
    {
     "name": "stdin",
     "output_type": "stream",
     "text": [
      ":  -3 -4 -\n"
     ]
    }
   ],
   "source": [
    "calculation = input(': ')"
   ]
  },
  {
   "cell_type": "code",
   "execution_count": 191,
   "id": "0ea14bfc-fd47-438c-a787-563312e1fab9",
   "metadata": {},
   "outputs": [
    {
     "data": {
      "text/plain": [
       "['-3', '-4', '-']"
      ]
     },
     "execution_count": 191,
     "metadata": {},
     "output_type": "execute_result"
    }
   ],
   "source": [
    "calculation.split()"
   ]
  },
  {
   "cell_type": "code",
   "execution_count": 192,
   "id": "b96e3338-c2b8-4949-8b45-a38179d8eee1",
   "metadata": {},
   "outputs": [
    {
     "data": {
      "text/plain": [
       "16"
      ]
     },
     "execution_count": 192,
     "metadata": {},
     "output_type": "execute_result"
    }
   ],
   "source": [
    "-3 + 19"
   ]
  },
  {
   "cell_type": "code",
   "execution_count": 194,
   "id": "0b77864b-f37f-4231-8d6e-10b1a5a1a9a0",
   "metadata": {},
   "outputs": [
    {
     "data": {
      "text/plain": [
       "-7"
      ]
     },
     "execution_count": 194,
     "metadata": {},
     "output_type": "execute_result"
    }
   ],
   "source": [
    "-3 + -4"
   ]
  },
  {
   "cell_type": "code",
   "execution_count": 198,
   "id": "640a35d6-1c97-4d0e-b513-078a64ee3db3",
   "metadata": {},
   "outputs": [],
   "source": [
    "debug = False"
   ]
  },
  {
   "cell_type": "code",
   "execution_count": 201,
   "id": "a98b2168-ad75-467f-a10f-fec1ccf78336",
   "metadata": {},
   "outputs": [],
   "source": [
    "def func(x, y, z, debug=False):\n",
    "    if debug:\n",
    "        print('in func, params are', x, y, z)"
   ]
  },
  {
   "cell_type": "code",
   "execution_count": 203,
   "id": "d89bb488-7f5b-4646-889f-aa7d034124df",
   "metadata": {},
   "outputs": [],
   "source": [
    "func(3, 4, 5)"
   ]
  },
  {
   "cell_type": "code",
   "execution_count": 204,
   "id": "0e0a953e-1090-4153-a08e-f3ee9e12b3ba",
   "metadata": {},
   "outputs": [
    {
     "ename": "ValueError",
     "evalue": "invalid literal for int() with base 10: 'e'",
     "output_type": "error",
     "traceback": [
      "\u001b[0;31m---------------------------------------------------------------------------\u001b[0m",
      "\u001b[0;31mValueError\u001b[0m                                Traceback (most recent call last)",
      "Input \u001b[0;32mIn [204]\u001b[0m, in \u001b[0;36m<cell line: 1>\u001b[0;34m()\u001b[0m\n\u001b[0;32m----> 1\u001b[0m \u001b[38;5;28;43mint\u001b[39;49m\u001b[43m(\u001b[49m\u001b[38;5;124;43m'\u001b[39;49m\u001b[38;5;124;43me\u001b[39;49m\u001b[38;5;124;43m'\u001b[39;49m\u001b[43m)\u001b[49m\n",
      "\u001b[0;31mValueError\u001b[0m: invalid literal for int() with base 10: 'e'"
     ]
    }
   ],
   "source": [
    "int('e')"
   ]
  },
  {
   "cell_type": "code",
   "execution_count": null,
   "id": "2295ef4b-3e5c-47eb-8eca-3db9cc756587",
   "metadata": {},
   "outputs": [],
   "source": [
    "# parse_input:\n",
    "# looks thru a list of numbers and operators\n",
    "# 4 5 *\n",
    "# 4 *\n",
    "# for each item in this list:\n",
    "#.  if it's a number, push it on the stack\n",
    "#.  if it's an operator, call do_math \n",
    "\n",
    "# how do we test the above?\n",
    "\n",
    "# push: add something to stack\n",
    "# pop: remove something from stack\n",
    "# top: return top item on the stack\n",
    "# add: adds 2 nums\n",
    "# sub: subs 2 nums\n",
    "# ...\n",
    "\n",
    "# [1, 3, '+'] => [4]\n",
    "\n",
    "def push(thing):\n",
    "    \"\"\"\n",
    "    possible inputs\n",
    "    1. \n",
    "    2. \n",
    "    3. \n",
    "    \"\"\"\n",
    "    pass\n"
   ]
  },
  {
   "cell_type": "code",
   "execution_count": 211,
   "id": "a39d1b28-bc58-40c5-aa74-e73f746c22ff",
   "metadata": {},
   "outputs": [
    {
     "name": "stdout",
     "output_type": "stream",
     "text": [
      "{'-', 'O', 'M', 'E', '^', '6', 'B', '$', '?', 'a', ';', '3', '[', '.', 'R', '%', 'P', 'i', 'Y', 'F', 'b', '(', 'n', '|', 'S', '\"', 'A', '}', 'j', '#', 'u', 'w', '0', 't', 'y', 'J', ':', 'p', '=', '*', 'e', \"'\", 'V', 'f', '!', '&', '7', '{', 'z', 'H', '+', '_', 'm', 'X', ',', '2', 'k', 'W', 'g', 'Q', '4', '~', 'd', '/', 'C', 'x', 'G', 'Z', 'K', '5', 'h', ')', '\\\\', 'L', 'N', ']', 'o', 'T', 'I', '>', '`', '8', 'q', 'c', '1', '<', 'r', 'D', 'v', 's', 'l', 'U', '@', '9'}\n"
     ]
    }
   ],
   "source": [
    "import string\n",
    "character_set = set(string.digits + string.ascii_letters + string.punctuation)\n",
    "print(character_set)"
   ]
  },
  {
   "cell_type": "code",
   "execution_count": 213,
   "id": "90ef7743-5599-4ec6-ac73-bf341b98d649",
   "metadata": {},
   "outputs": [],
   "source": [
    "exclude_digits = True\n",
    "if exclude_digits:\n",
    "    character_set = character_set - set(string.digits)"
   ]
  },
  {
   "cell_type": "code",
   "execution_count": 214,
   "id": "8925a60f-3bf0-4a9e-8d65-ce9e0d083076",
   "metadata": {},
   "outputs": [
    {
     "name": "stdout",
     "output_type": "stream",
     "text": [
      "{'m', 'X', '-', 'O', 'M', ',', 'E', '^', 'k', 'B', 'W', '$', '?', 'a', ';', 'g', '[', 'Q', '~', 'd', '.', 'R', '%', 'P', '/', 'i', 'Y', 'F', 'b', 'C', '(', 'x', 'G', 'n', '|', 'Z', 'S', 'K', 'h', ')', '\"', '\\\\', 'L', 'A', '}', 'N', 'j', '#', 'u', 'w', 't', ']', 'o', 'T', 'y', 'I', 'J', ':', '>', 'p', '=', '`', '*', 'e', 'q', \"'\", 'c', '<', 'V', 'r', 'f', '!', 'D', '&', '{', 'v', 's', 'l', 'U', 'z', '@', 'H', '+', '_'}\n"
     ]
    }
   ],
   "source": [
    "print(character_set)"
   ]
  },
  {
   "cell_type": "code",
   "execution_count": 215,
   "id": "cde4bf48-576d-4dd6-9e4f-14fe687865c0",
   "metadata": {},
   "outputs": [],
   "source": [
    "exclude_letters = True\n",
    "if exclude_letters:\n",
    "    character_set = character_set - set(string.ascii_letters)"
   ]
  },
  {
   "cell_type": "code",
   "execution_count": 216,
   "id": "1e1b931c-8881-4554-acec-ebe7fa15971d",
   "metadata": {},
   "outputs": [
    {
     "name": "stdout",
     "output_type": "stream",
     "text": [
      "{'-', '#', ']', ',', '^', '$', '?', ':', '>', ';', '=', '`', '[', '*', '~', \"'\", '.', '%', '/', '<', '(', '!', '&', '{', '|', ')', '\"', '\\\\', '@', '}', '+', '_'}\n"
     ]
    }
   ],
   "source": [
    "print(character_set)"
   ]
  },
  {
   "cell_type": "code",
   "execution_count": 217,
   "id": "3610d7c0-f1a7-4231-8262-1a7bf5e24eef",
   "metadata": {},
   "outputs": [],
   "source": [
    "exclude_symbols = True\n",
    "if exclude_symbols:\n",
    "    character_set = character_set - set(string.punctuation)"
   ]
  },
  {
   "cell_type": "code",
   "execution_count": 218,
   "id": "1dc81432-8c16-4357-b41c-71ebad993392",
   "metadata": {},
   "outputs": [
    {
     "name": "stdout",
     "output_type": "stream",
     "text": [
      "set()\n"
     ]
    }
   ],
   "source": [
    "print(character_set)"
   ]
  },
  {
   "cell_type": "code",
   "execution_count": 219,
   "id": "95f5b1ec-8a6a-498f-b975-1f4009d7beae",
   "metadata": {},
   "outputs": [
    {
     "ename": "TypeError",
     "evalue": "unsupported operand type(s) for -: 'list' and 'list'",
     "output_type": "error",
     "traceback": [
      "\u001b[0;31m---------------------------------------------------------------------------\u001b[0m",
      "\u001b[0;31mTypeError\u001b[0m                                 Traceback (most recent call last)",
      "Input \u001b[0;32mIn [219]\u001b[0m, in \u001b[0;36m<cell line: 1>\u001b[0;34m()\u001b[0m\n\u001b[0;32m----> 1\u001b[0m \u001b[43m[\u001b[49m\u001b[38;5;241;43m1\u001b[39;49m\u001b[43m,\u001b[49m\u001b[43m \u001b[49m\u001b[38;5;241;43m2\u001b[39;49m\u001b[43m,\u001b[49m\u001b[43m \u001b[49m\u001b[38;5;241;43m3\u001b[39;49m\u001b[43m,\u001b[49m\u001b[43m \u001b[49m\u001b[38;5;241;43m4\u001b[39;49m\u001b[43m]\u001b[49m\u001b[43m \u001b[49m\u001b[38;5;241;43m-\u001b[39;49m\u001b[43m \u001b[49m\u001b[43m[\u001b[49m\u001b[38;5;241;43m3\u001b[39;49m\u001b[43m]\u001b[49m\n",
      "\u001b[0;31mTypeError\u001b[0m: unsupported operand type(s) for -: 'list' and 'list'"
     ]
    }
   ],
   "source": [
    "[1, 2, 3, 4] - [3]"
   ]
  },
  {
   "cell_type": "code",
   "execution_count": 221,
   "id": "d5024812-6122-4e14-b906-bd37994fd6cd",
   "metadata": {},
   "outputs": [
    {
     "data": {
      "text/plain": [
       "{1, 2, 3, 4, 'a', 'b', 'c'}"
      ]
     },
     "execution_count": 221,
     "metadata": {},
     "output_type": "execute_result"
    }
   ],
   "source": [
    "{ 1, 2, 3, 4 } | { 'a', 'b', 'c' }"
   ]
  },
  {
   "cell_type": "code",
   "execution_count": 222,
   "id": "d42d086f-50bc-4736-a111-a3c6459ea546",
   "metadata": {},
   "outputs": [
    {
     "data": {
      "text/plain": [
       "{3}"
      ]
     },
     "execution_count": 222,
     "metadata": {},
     "output_type": "execute_result"
    }
   ],
   "source": [
    "{1, 2, 3, 4} & { 3, 5, 7 }"
   ]
  },
  {
   "cell_type": "code",
   "execution_count": 229,
   "id": "15383892-7150-4f17-95b1-4410c2c010dc",
   "metadata": {},
   "outputs": [],
   "source": [
    "mylist = [1, 2]\n"
   ]
  },
  {
   "cell_type": "code",
   "execution_count": 225,
   "id": "5006ead1-9de6-4cc4-be3e-692bf2d4a922",
   "metadata": {},
   "outputs": [],
   "source": [
    "if len(mylist) > 2:\n",
    "    message = 'ok'\n",
    "else:\n",
    "    message = 'not enough'"
   ]
  },
  {
   "cell_type": "code",
   "execution_count": 226,
   "id": "87a522f9-fdf5-4243-9163-148e5eed53db",
   "metadata": {},
   "outputs": [
    {
     "ename": "SyntaxError",
     "evalue": "invalid syntax (618389913.py, line 2)",
     "output_type": "error",
     "traceback": [
      "\u001b[0;36m  Input \u001b[0;32mIn [226]\u001b[0;36m\u001b[0m\n\u001b[0;31m    message = len(mylist) > 2 ? 'ok' : 'not enough'\u001b[0m\n\u001b[0m                              ^\u001b[0m\n\u001b[0;31mSyntaxError\u001b[0m\u001b[0;31m:\u001b[0m invalid syntax\n"
     ]
    }
   ],
   "source": [
    "# doesn't work in Python, but works in C/C++\n",
    "message = len(mylist) > 2 ? 'ok' : 'not enough'"
   ]
  },
  {
   "cell_type": "code",
   "execution_count": 230,
   "id": "6195ee29-f49f-4ff2-9017-b6aff0241d92",
   "metadata": {},
   "outputs": [],
   "source": [
    "message = 'ok' if len(mylist) > 2 else 'not enough'"
   ]
  },
  {
   "cell_type": "code",
   "execution_count": 231,
   "id": "c83f093d-0e5f-458f-9f93-ce3dfb48cb82",
   "metadata": {},
   "outputs": [
    {
     "data": {
      "text/plain": [
       "'not enough'"
      ]
     },
     "execution_count": 231,
     "metadata": {},
     "output_type": "execute_result"
    }
   ],
   "source": [
    "message"
   ]
  },
  {
   "cell_type": "code",
   "execution_count": 232,
   "id": "3b37d100-55ef-4a94-9b58-23205527a331",
   "metadata": {},
   "outputs": [],
   "source": [
    "message = 'not enough'\n",
    "if len(mylist) > 2:\n",
    "    message = 'ok'  "
   ]
  },
  {
   "cell_type": "code",
   "execution_count": 234,
   "id": "5847bd4b-6789-400f-9d4b-0810ce77dce4",
   "metadata": {},
   "outputs": [],
   "source": [
    "debug = False"
   ]
  },
  {
   "cell_type": "code",
   "execution_count": 237,
   "id": "244486c7-b69f-435e-8d38-880708330980",
   "metadata": {},
   "outputs": [],
   "source": [
    "debug = not debug"
   ]
  },
  {
   "cell_type": "code",
   "execution_count": 238,
   "id": "04caaa02-a87e-4f55-9272-62f60f65256d",
   "metadata": {},
   "outputs": [
    {
     "data": {
      "text/plain": [
       "False"
      ]
     },
     "execution_count": 238,
     "metadata": {},
     "output_type": "execute_result"
    }
   ],
   "source": [
    "debug"
   ]
  },
  {
   "cell_type": "code",
   "execution_count": 239,
   "id": "30f13374-8fd7-4680-9ff4-d9c2f5530520",
   "metadata": {},
   "outputs": [],
   "source": [
    "thing = list(range(10))"
   ]
  },
  {
   "cell_type": "code",
   "execution_count": 240,
   "id": "d83dc2cc-9439-4d5b-bed6-e867046751b4",
   "metadata": {},
   "outputs": [
    {
     "data": {
      "text/plain": [
       "[0, 1, 2, 3, 4, 5, 6, 7, 8, 9]"
      ]
     },
     "execution_count": 240,
     "metadata": {},
     "output_type": "execute_result"
    }
   ],
   "source": [
    "thing"
   ]
  },
  {
   "cell_type": "code",
   "execution_count": 242,
   "id": "0a060042-dcae-4920-986b-6847bbb63e53",
   "metadata": {},
   "outputs": [
    {
     "data": {
      "text/plain": [
       "[5, 6, 7]"
      ]
     },
     "execution_count": 242,
     "metadata": {},
     "output_type": "execute_result"
    }
   ],
   "source": [
    "thing[5:8]"
   ]
  },
  {
   "cell_type": "code",
   "execution_count": 243,
   "id": "91f594ba-176c-4487-b4fa-3023918f294c",
   "metadata": {},
   "outputs": [
    {
     "data": {
      "text/plain": [
       "[7, 8, 9]"
      ]
     },
     "execution_count": 243,
     "metadata": {},
     "output_type": "execute_result"
    }
   ],
   "source": [
    "thing[7:10]"
   ]
  },
  {
   "cell_type": "code",
   "execution_count": 247,
   "id": "c0542df6-2ce0-47da-8647-f6cf33ed980f",
   "metadata": {},
   "outputs": [
    {
     "data": {
      "text/plain": [
       "[9]"
      ]
     },
     "execution_count": 247,
     "metadata": {},
     "output_type": "execute_result"
    }
   ],
   "source": [
    "thing[9:12]"
   ]
  },
  {
   "cell_type": "code",
   "execution_count": 248,
   "id": "7187c007-9cb1-45ce-915c-08fdac44b592",
   "metadata": {},
   "outputs": [
    {
     "name": "stdout",
     "output_type": "stream",
     "text": [
      "/Users/dave-wadestein/Downloads/ADI-Reskilling-Academy/EXAPUNKS\n"
     ]
    }
   ],
   "source": [
    "%cd EXAPUNKS"
   ]
  },
  {
   "cell_type": "code",
   "execution_count": 249,
   "id": "bf8b811a-f8bd-4cb8-b89a-9d3199560bc2",
   "metadata": {},
   "outputs": [
    {
     "name": "stdout",
     "output_type": "stream",
     "text": [
      "Part1-1.txt        Untitled1.ipynb    debug.py           registers.py\n",
      "Part1-2.txt        \u001b[34m__pycache__\u001b[m\u001b[m/       instructions.py    stuff.py\n",
      "Untitled.ipynb     code.py            main.py            test_registers.py\n"
     ]
    }
   ],
   "source": [
    "%ls"
   ]
  },
  {
   "cell_type": "code",
   "execution_count": 251,
   "id": "4a201f30-e4c9-423c-8ca6-037e37917ee9",
   "metadata": {},
   "outputs": [
    {
     "name": "stdout",
     "output_type": "stream",
     "text": [
      "COPY 70 X\n",
      "\n",
      "ADDI X 1 X\n",
      "COPY 3 T\n",
      "MULI T X T\n",
      "SUBI T 1 T"
     ]
    }
   ],
   "source": [
    "!cat Part1-1.txt"
   ]
  },
  {
   "cell_type": "code",
   "execution_count": 257,
   "id": "eb32d328-3ccf-4e62-981e-3694f244a334",
   "metadata": {},
   "outputs": [
    {
     "name": "stdout",
     "output_type": "stream",
     "text": [
      "COPY 70 X\n",
      "ADDI X 1 X\n",
      "COPY 3 T\n",
      "MULI T X T\n",
      "SUBI T 1 T"
     ]
    }
   ],
   "source": [
    "with open('Part1-1.txt') as infile:\n",
    "    for line in infile:\n",
    "        #line = line.strip()\n",
    "        if line == '\\n':\n",
    "            continue\n",
    "        print(line, end='')"
   ]
  },
  {
   "cell_type": "code",
   "execution_count": 258,
   "id": "e70d9abf-407e-4c62-8289-875039fb45b8",
   "metadata": {},
   "outputs": [],
   "source": [
    "def func(*args):\n",
    "    print(args)"
   ]
  },
  {
   "cell_type": "code",
   "execution_count": 259,
   "id": "5d0930b8-c8d7-4b8a-a036-92a68344237f",
   "metadata": {},
   "outputs": [
    {
     "name": "stdout",
     "output_type": "stream",
     "text": [
      "()\n"
     ]
    }
   ],
   "source": [
    "func()"
   ]
  },
  {
   "cell_type": "code",
   "execution_count": 260,
   "id": "08a471c3-ae2b-4f43-bfcd-3944d74f16ad",
   "metadata": {},
   "outputs": [
    {
     "name": "stdout",
     "output_type": "stream",
     "text": [
      "(1, 2, 3)\n"
     ]
    }
   ],
   "source": [
    "func(1, 2,3 )"
   ]
  },
  {
   "cell_type": "code",
   "execution_count": 261,
   "id": "b16505f1-3ae6-466b-be0c-98453e91d76b",
   "metadata": {},
   "outputs": [],
   "source": [
    "code = 'COPY 10 X'.split()"
   ]
  },
  {
   "cell_type": "code",
   "execution_count": 262,
   "id": "9e72982a-9d5c-41c8-a2e4-8d7a3cb4a06b",
   "metadata": {},
   "outputs": [
    {
     "data": {
      "text/plain": [
       "['COPY', '10', 'X']"
      ]
     },
     "execution_count": 262,
     "metadata": {},
     "output_type": "execute_result"
    }
   ],
   "source": [
    "code"
   ]
  },
  {
   "cell_type": "code",
   "execution_count": 263,
   "id": "437aa1f9-dac5-400c-86d9-33f44fba422c",
   "metadata": {},
   "outputs": [
    {
     "data": {
      "text/plain": [
       "'COPY'"
      ]
     },
     "execution_count": 263,
     "metadata": {},
     "output_type": "execute_result"
    }
   ],
   "source": [
    "code[0]"
   ]
  },
  {
   "cell_type": "code",
   "execution_count": 264,
   "id": "67313dc6-48cd-4aa8-bcf9-f27ab555a170",
   "metadata": {},
   "outputs": [
    {
     "data": {
      "text/plain": [
       "['10', 'X']"
      ]
     },
     "execution_count": 264,
     "metadata": {},
     "output_type": "execute_result"
    }
   ],
   "source": [
    "code[1:]"
   ]
  },
  {
   "cell_type": "code",
   "execution_count": 265,
   "id": "9932d7a4-dd48-4f52-b44a-1dd793d71c67",
   "metadata": {},
   "outputs": [],
   "source": [
    "instruction, args = code[0], code[1:]"
   ]
  },
  {
   "cell_type": "code",
   "execution_count": 266,
   "id": "ae28d6a7-06e1-4a83-9bb0-50adb65f4e2b",
   "metadata": {},
   "outputs": [
    {
     "data": {
      "text/plain": [
       "'COPY'"
      ]
     },
     "execution_count": 266,
     "metadata": {},
     "output_type": "execute_result"
    }
   ],
   "source": [
    "instruction"
   ]
  },
  {
   "cell_type": "code",
   "execution_count": 267,
   "id": "7c7638e4-94ae-4b9a-ab55-986edf9fc1fd",
   "metadata": {},
   "outputs": [
    {
     "data": {
      "text/plain": [
       "['10', 'X']"
      ]
     },
     "execution_count": 267,
     "metadata": {},
     "output_type": "execute_result"
    }
   ],
   "source": [
    "args"
   ]
  },
  {
   "cell_type": "code",
   "execution_count": 268,
   "id": "c7059342-32bc-4b1e-88db-dbfe9dd3392c",
   "metadata": {},
   "outputs": [
    {
     "name": "stdout",
     "output_type": "stream",
     "text": [
      "('10', 'X')\n"
     ]
    }
   ],
   "source": [
    "func(*args)"
   ]
  },
  {
   "cell_type": "code",
   "execution_count": 269,
   "id": "dea55a81-4a87-4d40-a55c-ebc166ba0ea0",
   "metadata": {},
   "outputs": [],
   "source": [
    "def copy():\n",
    "    print('copy func')"
   ]
  },
  {
   "cell_type": "code",
   "execution_count": 270,
   "id": "0c2e9ce0-8797-41ef-bd4d-0676c7b72df1",
   "metadata": {},
   "outputs": [],
   "source": [
    "mapper = {\n",
    "    'COPY': copy,\n",
    "}"
   ]
  },
  {
   "cell_type": "code",
   "execution_count": 272,
   "id": "d9c86dad-0333-4a05-a417-f4de1837d738",
   "metadata": {},
   "outputs": [],
   "source": [
    "f = mapper['COPY']"
   ]
  },
  {
   "cell_type": "code",
   "execution_count": 273,
   "id": "245c1614-e711-40ea-8c3f-7d2d704d57cf",
   "metadata": {},
   "outputs": [
    {
     "name": "stdout",
     "output_type": "stream",
     "text": [
      "copy func\n"
     ]
    }
   ],
   "source": [
    "f()"
   ]
  },
  {
   "cell_type": "code",
   "execution_count": 274,
   "id": "b0ed2c9b-f5fc-475e-bd3a-ebc732c05c3f",
   "metadata": {},
   "outputs": [
    {
     "name": "stdout",
     "output_type": "stream",
     "text": [
      "copy func\n"
     ]
    }
   ],
   "source": [
    "if instruction == 'COPY':\n",
    "    copy()\n",
    "elif instruction == 'ADDI':\n",
    "    addi()"
   ]
  },
  {
   "cell_type": "code",
   "execution_count": 275,
   "id": "31fa3c8a-65c7-4636-868c-e9bc97594f32",
   "metadata": {},
   "outputs": [
    {
     "data": {
      "text/plain": [
       "2"
      ]
     },
     "execution_count": 275,
     "metadata": {},
     "output_type": "execute_result"
    }
   ],
   "source": [
    "len('hi')"
   ]
  },
  {
   "cell_type": "code",
   "execution_count": 276,
   "id": "7d325100-d61f-4f63-b5a3-c0e6e21177ab",
   "metadata": {},
   "outputs": [],
   "source": [
    "len = 2"
   ]
  },
  {
   "cell_type": "code",
   "execution_count": 277,
   "id": "e69de123-2fe4-4131-afcf-129bf149fbe8",
   "metadata": {},
   "outputs": [
    {
     "ename": "TypeError",
     "evalue": "'int' object is not callable",
     "output_type": "error",
     "traceback": [
      "\u001b[0;31m---------------------------------------------------------------------------\u001b[0m",
      "\u001b[0;31mTypeError\u001b[0m                                 Traceback (most recent call last)",
      "Input \u001b[0;32mIn [277]\u001b[0m, in \u001b[0;36m<cell line: 1>\u001b[0;34m()\u001b[0m\n\u001b[0;32m----> 1\u001b[0m \u001b[38;5;28;43mlen\u001b[39;49m\u001b[43m(\u001b[49m\u001b[38;5;124;43m'\u001b[39;49m\u001b[38;5;124;43mhi\u001b[39;49m\u001b[38;5;124;43m'\u001b[39;49m\u001b[43m)\u001b[49m\n",
      "\u001b[0;31mTypeError\u001b[0m: 'int' object is not callable"
     ]
    }
   ],
   "source": [
    "len('hi')"
   ]
  },
  {
   "cell_type": "code",
   "execution_count": 279,
   "id": "f8c31950-058e-4946-9da3-a363c51a8262",
   "metadata": {},
   "outputs": [],
   "source": [
    "x = 1\n",
    "\n",
    "if x == 1:\n",
    "    y = 'thing'\n",
    "elif x == 2:\n",
    "    y = 'thang'\n",
    "elif x == 4:\n",
    "    y = 'boris'"
   ]
  },
  {
   "cell_type": "code",
   "execution_count": 280,
   "id": "9029d6f2-1a38-4b57-bf32-5ea2c652b4ff",
   "metadata": {},
   "outputs": [],
   "source": [
    "xy_map = {\n",
    "    1: 'thing',\n",
    "    2: 'thang',\n",
    "    3: 'boris',\n",
    "}"
   ]
  },
  {
   "cell_type": "code",
   "execution_count": 284,
   "id": "a50ea7a6-94df-4088-a6b8-5d05e3954bc3",
   "metadata": {},
   "outputs": [],
   "source": [
    "x = 3\n",
    "\n",
    "if x in xy_map:\n",
    "    y = xy_map[x]"
   ]
  },
  {
   "cell_type": "code",
   "execution_count": 285,
   "id": "185f6fd4-ee43-4ef2-89e3-5904f4a4e98c",
   "metadata": {},
   "outputs": [
    {
     "data": {
      "text/plain": [
       "'boris'"
      ]
     },
     "execution_count": 285,
     "metadata": {},
     "output_type": "execute_result"
    }
   ],
   "source": [
    "y"
   ]
  },
  {
   "cell_type": "code",
   "execution_count": 286,
   "id": "54cf8c7f-81b5-4788-81d1-fdc7e779b251",
   "metadata": {},
   "outputs": [
    {
     "data": {
      "text/plain": [
       "'3.9.12 (main, Apr  5 2022, 01:53:17) \\n[Clang 12.0.0 ]'"
      ]
     },
     "execution_count": 286,
     "metadata": {},
     "output_type": "execute_result"
    }
   ],
   "source": [
    "import sys\n",
    "sys.version"
   ]
  },
  {
   "cell_type": "code",
   "execution_count": null,
   "id": "8ee979f0-2436-4fc8-8431-b2fae6aab297",
   "metadata": {},
   "outputs": [],
   "source": []
  }
 ],
 "metadata": {
  "kernelspec": {
   "display_name": "Python 3 (ipykernel)",
   "language": "python",
   "name": "python3"
  },
  "language_info": {
   "codemirror_mode": {
    "name": "ipython",
    "version": 3
   },
   "file_extension": ".py",
   "mimetype": "text/x-python",
   "name": "python",
   "nbconvert_exporter": "python",
   "pygments_lexer": "ipython3",
   "version": "3.9.12"
  }
 },
 "nbformat": 4,
 "nbformat_minor": 5
}
